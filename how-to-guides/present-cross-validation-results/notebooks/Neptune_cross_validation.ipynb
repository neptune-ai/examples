{
 "cells": [
  {
   "cell_type": "markdown",
   "metadata": {},
   "source": [
    "# How to present CV with Neptune"
   ]
  },
  {
   "cell_type": "markdown",
   "metadata": {
    "id": "THIzFFk81nme"
   },
   "source": [
    "## Introduction\n",
    "\n",
    "When training models with cross-validation, you can use Neptune namespaces to organize, visualize and compare models.\n",
    "\n",
    "By the end of this guide, you will learn how to organize your run to track cross-validation metadata, so that you can easily analyze the results.\n",
    "\n",
    "[See this example in Neptune](https://app.neptune.ai/o/common/org/showroom/e/SHOW-27624)\n",
    "\n",
    "<center>\n",
    "    <a href=\"https://app.neptune.ai/o/common/org/showroom/e/SHOW-27624\">\n",
    "        <img src=\"https://files.gitbook.com/v0/b/gitbook-x-prod.appspot.com/o/spaces%2F-MT0sYKbymfLAAtTq4-t%2Fuploads%2FjP2eBYeGVoqg2rfOkrA4%2FScreenshot%202022-07-06%20at%206.40.16%20PM.png?alt=media&token=3fd7ebf3-0494-4843-8954-53fb21357e1\" alt=\"Drawing\" style=\"height: 600px;\">\n",
    "    </a>\n",
    "</center>\n",
    "<center><small>CV results presented in Neptune UI</small></center>\n",
    "\n"
   ]
  },
  {
   "cell_type": "markdown",
   "metadata": {},
   "source": [
    "## Before you start\n",
    "\n",
    "This notebook example lets you try out Neptune as an anonymous user, with zero setup.\n",
    "\n",
    "* If you are running the notebook on your local machine, you need to have [Python](https://www.python.org/downloads/) and [pip](https://pypi.org/project/pip/) installed.\n",
    "* If you want to see the example recorded to your own workspace instead:\n",
    "    * Create a Neptune account → [Take me to registration](https://neptune.ai/register)\n",
    "    * Create a Neptune project that you will use for tracking metadata → [Tell me more about projects](https://docs.neptune.ai/administration/projects) \n",
    "<br><br>\n",
    "* This example assumes: \n",
    "    * Basic familiarity with Neptune ([create run and log metadata to it](https://docs.neptune.ai/you-should-know/what-can-you-log-and-display)),\n",
    "    * Familiarity with cross-validation techniques in machine learning.\n",
    "\n",
    "\n"
   ]
  },
  {
   "cell_type": "markdown",
   "metadata": {},
   "source": [
    "## Install Neptune and dependencies"
   ]
  },
  {
   "cell_type": "code",
   "execution_count": null,
   "metadata": {
    "colab": {
     "base_uri": "https://localhost:8080/"
    },
    "id": "54CFqKRANLK5",
    "outputId": "a19f2835-22ab-41c9-ab13-e6e4d8fdbea9",
    "tags": []
   },
   "outputs": [],
   "source": [
    "! pip install neptune-client torch==1.10.2 torchvision==0.11.3 scikit-learn==1.0.2"
   ]
  },
  {
   "cell_type": "markdown",
   "metadata": {
    "id": "kfqmkNLB1SRu"
   },
   "source": [
    "## Step 1: Initialize Neptune and create new run"
   ]
  },
  {
   "cell_type": "markdown",
   "metadata": {},
   "source": [
    "Connect your script to Neptune application and create new run."
   ]
  },
  {
   "cell_type": "code",
   "execution_count": null,
   "metadata": {
    "colab": {
     "base_uri": "https://localhost:8080/"
    },
    "id": "YIAK4NasfQ_f",
    "outputId": "219c6e97-2b72-4241-fbe2-aa1200407190"
   },
   "outputs": [],
   "source": [
    "import neptune.new as neptune\n",
    "\n",
    "run = neptune.init(\n",
    "    project=\"common/showroom\",\n",
    "    api_token=\"ANONYMOUS\",\n",
    "    tags=[\"Colab Notebook\", \"cross-validation\"],\n",
    ")"
   ]
  },
  {
   "cell_type": "markdown",
   "metadata": {
    "id": "a4StPQOmmh_d"
   },
   "source": [
    "Click on the link above to open this run in Neptune.\n",
    "\n",
    "For now it is empty but keep the tab with run open to see what happens next. "
   ]
  },
  {
   "cell_type": "markdown",
   "metadata": {},
   "source": [
    "**Few explanations**\n",
    "\n",
    "In the above code You tell Neptune:\n",
    "\n",
    "* **who you are**: your Neptune API token `api_token`\n",
    "* **where you want to send your data**: your Neptune `project`.\n",
    "\n",
    "At this point you have new run in Neptune. For now on you will use `run` to log metadata to it.\n",
    "\n",
    "---\n",
    "\n",
    "**Note**\n",
    "\n",
    "Instead of logging data to the public project 'common/showroom' as an anonymous user 'neptuner' you can log it to your own project.\n",
    "\n",
    "To do that:\n",
    "\n",
    "1. Get your [Neptune API token](https://docs-beta.neptune.ai/administration/security-and-privacy/how-to-find-and-set-neptune-api-token)\n",
    "2. Pass the token to ``api_token`` argument of ``neptune.init()`` method: ``api_token=YOUR_API_TOKEN``\n",
    "3. Pass your project to the `project` argument of the `init()` method.\n",
    "\n",
    "For example:\n",
    "```python\n",
    "neptune.init(project=\"YOUR_WORKSPACE/YOUR_PROJECT\", \n",
    "             api_token=\"YOUR_API_TOKEN\")\n",
    "```"
   ]
  },
  {
   "cell_type": "markdown",
   "metadata": {
    "id": "-WbPjLDk1GcC"
   },
   "source": [
    "## Step 2: Log config and hyperparameters"
   ]
  },
  {
   "cell_type": "markdown",
   "metadata": {
    "id": "BVJKNQxIYPAC"
   },
   "source": [
    "### Log Hyperparameters"
   ]
  },
  {
   "cell_type": "code",
   "execution_count": null,
   "metadata": {
    "id": "k_8vefGCNBIJ"
   },
   "outputs": [],
   "source": [
    "parameters = {\n",
    "    \"epochs\": 3,\n",
    "    \"learning_rate\": 1e-2,\n",
    "    \"batch_size\": 10,\n",
    "    \"input_size\": 32 * 32 * 3,\n",
    "    \"n_classes\": 10,\n",
    "    \"k_folds\": 5,\n",
    "    \"checkpoint_name\": \"checkpoint.pth\",\n",
    "    \"seed\": 42,\n",
    "}"
   ]
  },
  {
   "cell_type": "code",
   "execution_count": null,
   "metadata": {
    "id": "A0Ig4exNSMwE"
   },
   "outputs": [],
   "source": [
    "run[\"parameters\"] = parameters"
   ]
  },
  {
   "cell_type": "markdown",
   "metadata": {
    "id": "P2rAXguq0_IZ"
   },
   "source": [
    "### Log Config\n",
    "Model and Dataset"
   ]
  },
  {
   "cell_type": "code",
   "execution_count": null,
   "metadata": {
    "id": "qwdf0rrklZWi"
   },
   "outputs": [],
   "source": [
    "import torch.nn as nn\n",
    "\n",
    "\n",
    "class BaseModel(nn.Module):\n",
    "    def __init__(self, input_sz, hidden_dim, n_classes):\n",
    "        super(BaseModel, self).__init__()\n",
    "        self.main = nn.Sequential(\n",
    "            nn.Linear(input_sz, hidden_dim * 2),\n",
    "            nn.ReLU(),\n",
    "            nn.Linear(hidden_dim * 2, hidden_dim),\n",
    "            nn.ReLU(),\n",
    "            nn.Linear(hidden_dim, hidden_dim // 2),\n",
    "            nn.ReLU(),\n",
    "            nn.Linear(hidden_dim // 2, n_classes),\n",
    "        )\n",
    "\n",
    "    def forward(self, input):\n",
    "        x = input.view(-1, 32 * 32 * 3)\n",
    "        return self.main(x)"
   ]
  },
  {
   "cell_type": "code",
   "execution_count": null,
   "metadata": {},
   "outputs": [],
   "source": [
    "import torch\n",
    "\n",
    "device = torch.device(\"cuda:0\" if torch.cuda.is_available() else \"cpu\")"
   ]
  },
  {
   "cell_type": "code",
   "execution_count": null,
   "metadata": {
    "id": "i19Y0g3YGvV2"
   },
   "outputs": [],
   "source": [
    "torch.manual_seed(parameters[\"seed\"])\n",
    "model = BaseModel(\n",
    "    parameters[\"input_size\"], parameters[\"input_size\"], parameters[\"n_classes\"]\n",
    ").to(device)\n",
    "criterion = nn.CrossEntropyLoss()\n",
    "optimizer = torch.optim.SGD(model.parameters(), lr=parameters[\"learning_rate\"])"
   ]
  },
  {
   "cell_type": "markdown",
   "metadata": {
    "id": "viTM9XYl4-C0"
   },
   "source": [
    "Log model, criterion and optimizer name"
   ]
  },
  {
   "cell_type": "code",
   "execution_count": null,
   "metadata": {
    "id": "-iZSQE5DYyqX"
   },
   "outputs": [],
   "source": [
    "run[\"parameters/model/name\"] = type(model).__name__\n",
    "run[\"parameters/model/criterion\"] = type(criterion).__name__\n",
    "run[\"parameters/model/optimizer\"] = type(optimizer).__name__"
   ]
  },
  {
   "cell_type": "code",
   "execution_count": null,
   "metadata": {
    "id": "W2gKRp-8THxa"
   },
   "outputs": [],
   "source": [
    "from torchvision import datasets, transforms\n",
    "\n",
    "data_dir = \"data/CIFAR10\"\n",
    "compressed_ds = \"./data/CIFAR10/cifar-10-python.tar.gz\"\n",
    "data_tfms = {\n",
    "    \"train\": transforms.Compose(\n",
    "        [\n",
    "            transforms.RandomHorizontalFlip(),\n",
    "            transforms.ToTensor(),\n",
    "            transforms.Normalize([0.485, 0.456, 0.406], [0.229, 0.224, 0.225]),\n",
    "        ]\n",
    "    )\n",
    "}"
   ]
  },
  {
   "cell_type": "code",
   "execution_count": null,
   "metadata": {
    "colab": {
     "base_uri": "https://localhost:8080/"
    },
    "id": "oMa-mrc64qjz",
    "outputId": "33361efd-c719-4221-8b1e-d7298e1d3904"
   },
   "outputs": [],
   "source": [
    "trainset = datasets.CIFAR10(data_dir, transform=data_tfms[\"train\"], download=True)\n",
    "\n",
    "validset = datasets.CIFAR10(\n",
    "    data_dir, train=False, transform=data_tfms[\"train\"], download=True\n",
    ")\n",
    "\n",
    "dataset_size = len(trainset)"
   ]
  },
  {
   "cell_type": "markdown",
   "metadata": {
    "id": "5mXZEVnl4-C1"
   },
   "source": [
    "Log dataset details"
   ]
  },
  {
   "cell_type": "code",
   "execution_count": null,
   "metadata": {
    "id": "PKFjiUDqgTqT"
   },
   "outputs": [],
   "source": [
    "run[\"dataset/CIFAR-10\"].track_files(data_dir)\n",
    "run[\"dataset/transforms\"] = data_tfms\n",
    "run[\"dataset/size\"] = dataset_size"
   ]
  },
  {
   "cell_type": "markdown",
   "metadata": {
    "id": "qRaqN0ug1KP_"
   },
   "source": [
    "## Step 3: Log losses and metrics per fold \n",
    "Training Loop"
   ]
  },
  {
   "cell_type": "code",
   "execution_count": null,
   "metadata": {},
   "outputs": [],
   "source": [
    "from sklearn.model_selection import KFold\n",
    "\n",
    "splits = KFold(n_splits=parameters[\"k_folds\"], shuffle=True)\n",
    "epoch_acc_list, epoch_loss_list = [], []"
   ]
  },
  {
   "cell_type": "code",
   "execution_count": null,
   "metadata": {
    "id": "MgGfdruzNB3t"
   },
   "outputs": [],
   "source": [
    "from torch.utils.data import SubsetRandomSampler, DataLoader\n",
    "\n",
    "for fold, (train_ids, _) in enumerate(splits.split(trainset)):\n",
    "    train_sampler = SubsetRandomSampler(train_ids)\n",
    "    train_loader = DataLoader(\n",
    "        trainset, batch_size=parameters[\"batch_size\"], sampler=train_sampler\n",
    "    )\n",
    "    for epoch in range(parameters[\"epochs\"]):\n",
    "        epoch_acc, epoch_loss = 0, 0.0\n",
    "        for x, y in train_loader:\n",
    "            x, y = x.to(device), y.to(device)\n",
    "            optimizer.zero_grad()\n",
    "            outputs = model.forward(x)\n",
    "            _, preds = torch.max(outputs, 1)\n",
    "            loss = criterion(outputs, y)\n",
    "            acc = (torch.sum(preds == y.data)) / len(x)\n",
    "\n",
    "            # Log batch loss and acc\n",
    "            run[f\"fold_{fold}/training/batch/loss\"].log(loss)\n",
    "            run[f\"fold_{fold}/training/batch/acc\"].log(acc)\n",
    "\n",
    "            loss.backward()\n",
    "            optimizer.step()\n",
    "\n",
    "        epoch_acc += torch.sum(preds == y.data).item()\n",
    "        epoch_loss += loss.item() * x.size(0)\n",
    "\n",
    "    epoch_acc_list.append((epoch_acc / len(train_loader.sampler)) * 100)\n",
    "    epoch_loss_list.append(epoch_loss / len(train_loader.sampler))\n",
    "\n",
    "    # Log model checkpoint\n",
    "    torch.save(model.state_dict(), f\"./{parameters['checkpoint_name']}\")\n",
    "    run[f\"fold_{fold}/checkpoint\"].upload(parameters[\"checkpoint_name\"])"
   ]
  },
  {
   "cell_type": "code",
   "execution_count": null,
   "metadata": {
    "id": "-pC_GC8bXVW2"
   },
   "outputs": [],
   "source": [
    "from statistics import mean\n",
    "\n",
    "# log mean acc and loss\n",
    "run[\"results/metrics/train/mean_acc\"] = mean(epoch_acc_list)\n",
    "run[\"results/metrics/train/mean_loss\"] = mean(epoch_loss_list)"
   ]
  },
  {
   "cell_type": "markdown",
   "metadata": {
    "id": "JhE6C9xv-lXK"
   },
   "source": [
    "## Stop run\n",
    "\n",
    "**Warning**\n",
    "\n",
    "Once you are done logging, you should stop tracking the run using the `stop()` method.\n",
    "This is needed only while logging from a notebook environment. While logging through a script, Neptune automatically stops tracking once the script has completed execution."
   ]
  },
  {
   "cell_type": "code",
   "execution_count": null,
   "metadata": {
    "colab": {
     "base_uri": "https://localhost:8080/"
    },
    "id": "Meg02T9p9314",
    "outputId": "d2314d4f-e7ca-40ed-a3ff-b89d2047bf68",
    "tags": []
   },
   "outputs": [],
   "source": [
    "run.stop()"
   ]
  },
  {
   "cell_type": "markdown",
   "metadata": {},
   "source": [
    "## Explore the run in the Neptune UI\n",
    "\n",
    "After running the code cell in **Step 1**, you will get a link on the cell output similar to https://app.neptune.ai/o/common/org/showroom/e/SHOW-27624 with: \n",
    "* **common/showroom** replaced by **your_workspace/your_project**,\n",
    "* **SHOW-27624** replaced by your *Run ID*. \n",
    "\n",
    "**Click on the link to open the Run in Neptune UI.**\n",
    "\n",
    "<img src=\"https://files.gitbook.com/v0/b/gitbook-x-prod.appspot.com/o/spaces%2F-MT0sYKbymfLAAtTq4-t%2Fuploads%2FZkx5SZk10r7NvXu9VqdW%2Fper-fold-metadata.gif?alt=media&token=49373e21-4b6f-4962-a03b-73652ee8fd15\" alt=\"Drawing\" style=\"width: 100%;\"/>\n",
    "<center><small>Analysing per-fold metadata</small></center>"
   ]
  },
  {
   "cell_type": "markdown",
   "metadata": {},
   "source": [
    "## Cross-validation with Integrations\n",
    "If you are using Neptune with XGBoost or LightGBM you can get the structure for cross-validation automatically, by using available integrations.\n",
    "<div style=\"position: relative; padding-bottom: 62.5%; height: 0;\"><iframe src=\"https://www.loom.com/embed/98dc6247c65f49b8baf7476cf996dbe4\" frameborder=\"0\" webkitallowfullscreen mozallowfullscreen allowfullscreen style=\"position: absolute; top: 0; left: 0; width: 100%; height: 100%;\"></iframe></div>"
   ]
  },
  {
   "cell_type": "markdown",
   "metadata": {},
   "source": [
    "## Conclusion\n",
    "\n",
    "You learned how to organize your run to track cross-validation metadata with Neptune and how to present the result in the Neptune UI for further comparison and analysis. \n",
    "\n",
    "Visit our docs for more tutorials and guides on how to use Neptune: https://docs.neptune.ai\n"
   ]
  }
 ],
 "metadata": {
  "accelerator": "TPU",
  "colab": {
   "collapsed_sections": [],
   "name": "Neptune_cross_validation.ipynb",
   "provenance": []
  },
  "interpreter": {
   "hash": "af60d0baf4ea5b6ff70d540328aa92d791e2ab8d07968cfca7a92cb88135beaf"
  },
  "kernelspec": {
   "display_name": "Python (neptune)",
   "language": "python",
   "name": "python3"
  },
  "language_info": {
   "codemirror_mode": {
    "name": "ipython",
    "version": 3
   },
   "file_extension": ".py",
   "mimetype": "text/x-python",
   "name": "python",
   "nbconvert_exporter": "python",
   "pygments_lexer": "ipython3",
   "version": "3.8.8"
  }
 },
 "nbformat": 4,
 "nbformat_minor": 0
}
