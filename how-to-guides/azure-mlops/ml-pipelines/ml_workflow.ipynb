{
 "cells": [
  {
   "cell_type": "code",
   "execution_count": null,
   "metadata": {},
   "outputs": [],
   "source": [
    "from azure.identity import DefaultAzureCredential, InteractiveBrowserCredential\n",
    "\n",
    "from azure.ai.ml import MLClient\n",
    "from azure.ai.ml.dsl import pipeline\n",
    "from azure.ai.ml import load_component"
   ]
  },
  {
   "cell_type": "code",
   "execution_count": null,
   "metadata": {},
   "outputs": [],
   "source": [
    "from azure.ai.ml import Input\n",
    "\n",
    "dataset = Input(\n",
    "    path=\"https://github.com/neptune-ai/examples/tree/main/use-cases/time-series-forecasting/walmart-sales/dataset\"\n",
    ")"
   ]
  },
  {
   "cell_type": "code",
   "execution_count": null,
   "metadata": {},
   "outputs": [],
   "source": [
    "from components.train.train.train_component import train_component\n",
    "from components.preprocessing.data_preprocessing.data_preprocessing_component import (\n",
    "    data_preprocessing_component,\n",
    ")\n",
    "from compoments.validate.validate.validate_component import validate_component"
   ]
  }
 ],
 "metadata": {
  "kernelspec": {
   "display_name": "neptune_test_env",
   "language": "python",
   "name": "python3"
  },
  "language_info": {
   "codemirror_mode": {
    "name": "ipython",
    "version": 3
   },
   "file_extension": ".py",
   "mimetype": "text/x-python",
   "name": "python",
   "nbconvert_exporter": "python",
   "pygments_lexer": "ipython3",
   "version": "3.9.16"
  }
 },
 "nbformat": 4,
 "nbformat_minor": 2
}
