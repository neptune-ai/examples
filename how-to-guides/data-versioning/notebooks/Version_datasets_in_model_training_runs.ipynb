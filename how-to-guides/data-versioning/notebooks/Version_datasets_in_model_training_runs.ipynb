{
 "cells": [
  {
   "cell_type": "markdown",
   "metadata": {
    "tags": [
     "header"
    ]
   },
   "source": [
    "# Version datasets in model training runs"
   ]
  },
  {
   "cell_type": "markdown",
   "metadata": {
    "tags": [
     "header"
    ]
   },
   "source": [
    "## Introduction\n",
    "\n",
    "You can version datasets, models, and other file objects as Artifacts in Neptune.\n",
    "\n",
    "This guide shows how to:\n",
    "* Keep track of a dataset version in your model training runs with artifacts  \n",
    "* Query the dataset version from previous runs to make sure you are training on the same dataset version\n",
    "* Group your Neptune Runs by the dataset version they were trained on\n",
    "\n",
    "By the end of this guide, you will train a few models making sure that the same dataset was used and see the Runs for this dataset version in the Neptune UI. \n",
    "\n",
    "\n",
    "[See this example in Neptune](https://app.neptune.ai/o/common/org/data-versioning/experiments?compare=IwdgNMQ&split=tbl&dash=artifacts&viewId=6777136b-938e-4639-943d-3f6bc52f8497)\n",
    "\n",
    "![image](https://neptune.ai/wp-content/uploads/artifacts-grouped-by-dataset-version.png)"
   ]
  },
  {
   "cell_type": "markdown",
   "metadata": {
    "tags": [
     "header",
     "installation"
    ]
   },
   "source": [
    "## Setup"
   ]
  },
  {
   "cell_type": "markdown",
   "metadata": {
    "tags": [
     "comment",
     "installation"
    ]
   },
   "source": [
    "Install dependencies"
   ]
  },
  {
   "cell_type": "code",
   "execution_count": null,
   "metadata": {
    "tags": [
     "installation"
    ]
   },
   "outputs": [],
   "source": [
    "! pip install neptune-client>=0.10.10 scikit-learn==0.24.1"
   ]
  },
  {
   "cell_type": "markdown",
   "metadata": {
    "tags": [
     "header"
    ]
   },
   "source": [
    "## Step 1: Prepare a model training script"
   ]
  },
  {
   "cell_type": "markdown",
   "metadata": {
    "tags": [
     "comment"
    ]
   },
   "source": [
    "Create a training script where you:\n",
    "* Specify dataset paths for training and testing\n",
    "* Define model parameters\n",
    "* Calculate the score on the test set"
   ]
  },
  {
   "cell_type": "code",
   "execution_count": null,
   "metadata": {
    "tags": [
     "code"
    ]
   },
   "outputs": [],
   "source": [
    "import pandas as pd\n",
    "from sklearn.ensemble import RandomForestClassifier \n",
    "\n",
    "TRAIN_DATASET_PATH = '../datasets/tables/train.csv'\n",
    "TEST_DATASET_PATH = '../datasets/tables/test.csv'\n",
    "\n",
    "def train_model(params, train_path, test_path):\n",
    "    train = pd.read_csv(train_path)\n",
    "    test = pd.read_csv(test_path)\n",
    "\n",
    "    FEATURE_COLUMNS = ['sepal.length', 'sepal.width', 'petal.length', 'petal.width']\n",
    "    TARGET_COLUMN = ['variety']\n",
    "    X_train, y_train = train[FEATURE_COLUMNS], train[TARGET_COLUMN]\n",
    "    X_test, y_test = test[FEATURE_COLUMNS], test[TARGET_COLUMN]\n",
    "\n",
    "    rf = RandomForestClassifier(**params)\n",
    "    rf.fit(X_train, y_train)\n",
    "\n",
    "    score = rf.score(X_test, y_test)\n",
    "    return score"
   ]
  },
  {
   "cell_type": "markdown",
   "metadata": {
    "colab_type": "text",
    "id": "7LFLtV5R5JKT",
    "tags": [
     "header"
    ]
   },
   "source": [
    "## Step 2: Initialize Neptune and create new run"
   ]
  },
  {
   "cell_type": "markdown",
   "metadata": {
    "tags": [
     "comment"
    ]
   },
   "source": [
    "Connect your script to Neptune application and create new run."
   ]
  },
  {
   "cell_type": "code",
   "execution_count": null,
   "metadata": {
    "colab": {
     "base_uri": "https://localhost:8080/",
     "height": 71
    },
    "colab_type": "code",
    "id": "XMdpj-Se4t0U",
    "outputId": "d66a1df2-ed95-4790-c799-fe7f6a980b39",
    "tags": [
     "code"
    ]
   },
   "outputs": [],
   "source": [
    "import neptune.new as neptune\n",
    "\n",
    "run = neptune.init(project='common/data-versioning',\n",
    "                   api_token='ANONYMOUS')"
   ]
  },
  {
   "cell_type": "markdown",
   "metadata": {
    "tags": [
     "comment"
    ]
   },
   "source": [
    "Click on the link above to open this run in Neptune.\n",
    "\n",
    "For now it is empty but keep the tab with the Run open to see what happens next. "
   ]
  },
  {
   "cell_type": "markdown",
   "metadata": {
    "tags": [
     "comment"
    ]
   },
   "source": [
    "**Few explanations**\n",
    "\n",
    "In the above code You tell Neptune: \n",
    "\n",
    "* **who you are**: your Neptune API token `api_token` \n",
    "* **where you want to send your data**: your Neptune `project`.\n",
    "\n",
    "At this point you have new Run in Neptune. For now on you will use `run` to log metadata to it.\n",
    "\n",
    "---\n",
    "\n",
    "**Note**\n",
    "\n",
    "\n",
    "Instead of logging data to the public project 'common/quickstarts' as an anonymous user 'neptuner' you can log it to your own project.\n",
    "\n",
    "To do that:\n",
    "\n",
    "1. Get your [Neptune API token](https://docs.neptune.ai/getting-started/installation#authentication-neptune-api-token)\n",
    "2. Pass the token to ``api_token`` argument of ``neptune.init()`` method: ``api_token=YOUR_API_TOKEN``\n",
    "3. Get your [Neptune project name](https://docs.neptune.ai/getting-started/installation#setting-the-project-name)\n",
    "3. Pass your project to the ``project`` argument of the ``neptune.init()``.\n",
    "\n",
    "For example:\n",
    "\n",
    "```python\n",
    "neptune.init(project='my_workspace/my_project', \n",
    "             api_token='MY_API_TOKEN')\n",
    "```"
   ]
  },
  {
   "cell_type": "markdown",
   "metadata": {
    "tags": [
     "header"
    ]
   },
   "source": [
    "## Step 2: Add tracking of the dataset version"
   ]
  },
  {
   "cell_type": "markdown",
   "metadata": {
    "tags": [
     "comment"
    ]
   },
   "source": [
    "Save datasets versions as Neptune artifacts"
   ]
  },
  {
   "cell_type": "code",
   "execution_count": null,
   "metadata": {
    "tags": [
     "code"
    ]
   },
   "outputs": [],
   "source": [
    "run[\"datasets/train\"].track_files(TRAIN_DATASET_PATH)\n",
    "run[\"datasets/test\"].track_files(TEST_DATASET_PATH)"
   ]
  },
  {
   "cell_type": "markdown",
   "metadata": {},
   "source": [
    "**Note:**\n",
    "\n",
    "You can also version the entire folder where your datasets by running\n",
    "\n",
    "```python\n",
    "run[\"datasets\"].track_files(DATASET_FOLDER)\n",
    "```"
   ]
  },
  {
   "cell_type": "markdown",
   "metadata": {},
   "source": [
    "## Step 3: Run model training and log parameters and metrics to Neptune"
   ]
  },
  {
   "cell_type": "markdown",
   "metadata": {},
   "source": [
    "Log parameters to Neptune"
   ]
  },
  {
   "cell_type": "code",
   "execution_count": null,
   "metadata": {},
   "outputs": [],
   "source": [
    "PARAMS = {'n_estimators': 5,\n",
    "          'max_depth':2,\n",
    "          'max_features':1,\n",
    "         }\n",
    "run[\"parameters\"] = PARAMS"
   ]
  },
  {
   "cell_type": "markdown",
   "metadata": {},
   "source": [
    "Log test score to Neptune"
   ]
  },
  {
   "cell_type": "code",
   "execution_count": null,
   "metadata": {},
   "outputs": [],
   "source": [
    "score = train_model(PARAMS, TRAIN_DATASET_PATH, TEST_DATASET_PATH)\n",
    "run[\"metrics/test_score\"] = score"
   ]
  },
  {
   "cell_type": "markdown",
   "metadata": {},
   "source": [
    "Get the Run ID of your model training from Neptune. \n",
    "\n",
    "This will be useful when asserting the same dataset versions on the baseline and new datasets. "
   ]
  },
  {
   "cell_type": "code",
   "execution_count": null,
   "metadata": {
    "collapsed": false,
    "jupyter": {
     "outputs_hidden": false
    },
    "pycharm": {
     "name": "#%%\n"
    },
    "tags": []
   },
   "outputs": [],
   "source": [
    "baseline_run_id = run['sys/id'].fetch()\n",
    "print(baseline_run_id)"
   ]
  },
  {
   "cell_type": "markdown",
   "metadata": {},
   "source": [
    "Stop logging to the current Neptune Run. "
   ]
  },
  {
   "cell_type": "code",
   "execution_count": null,
   "metadata": {},
   "outputs": [],
   "source": [
    "run.stop()"
   ]
  },
  {
   "cell_type": "markdown",
   "metadata": {},
   "source": [
    "## Step 4: Add a version check for the training and testing datasets\n",
    "\n",
    "You can fetch the dataset version hash from the baseline and compare it with the new current version of the dataset.\n",
    "\n",
    "Create a new Neptune Run and track the dataset version:"
   ]
  },
  {
   "cell_type": "code",
   "execution_count": null,
   "metadata": {},
   "outputs": [],
   "source": [
    "new_run = neptune.init(project='common/data-versioning',\n",
    "                       api_token='ANONYMOUS')\n",
    "\n",
    "new_run[\"datasets/train\"].track_files(TRAIN_DATASET_PATH)\n",
    "new_run[\"datasets/test\"].track_files(TEST_DATASET_PATH)"
   ]
  },
  {
   "cell_type": "markdown",
   "metadata": {},
   "source": [
    "Get the Neptune Run object for the baseline model:"
   ]
  },
  {
   "cell_type": "code",
   "execution_count": null,
   "metadata": {},
   "outputs": [],
   "source": [
    "baseline_run = neptune.init(project='common/data-versioning',\n",
    "                            api_token=\"ANONYMOUS\", \n",
    "                            run=baseline_run_id,\n",
    "                            mode=\"read-only\")"
   ]
  },
  {
   "cell_type": "markdown",
   "metadata": {},
   "source": [
    "Fetch the dataset version with the `.fetch_hash()` method"
   ]
  },
  {
   "cell_type": "code",
   "execution_count": null,
   "metadata": {},
   "outputs": [],
   "source": [
    "baseline_run[\"datasets/train\"].fetch_hash()"
   ]
  },
  {
   "cell_type": "markdown",
   "metadata": {},
   "source": [
    "Compare the current dataset version with the baseline dataset version"
   ]
  },
  {
   "cell_type": "code",
   "execution_count": null,
   "metadata": {},
   "outputs": [],
   "source": [
    "new_run.wait() # force asynchronous logging operations to finish\n",
    "\n",
    "assert baseline_run[\"datasets/train\"].fetch_hash() == new_run[\"datasets/train\"].fetch_hash()\n",
    "assert baseline_run[\"datasets/test\"].fetch_hash() == new_run[\"datasets/test\"].fetch_hash()"
   ]
  },
  {
   "cell_type": "markdown",
   "metadata": {},
   "source": [
    "## Step 5: Run model training with new parameters\n",
    "\n",
    "Change the parameters and run model training"
   ]
  },
  {
   "cell_type": "code",
   "execution_count": null,
   "metadata": {},
   "outputs": [],
   "source": [
    "PARAMS = {'n_estimators': 8,\n",
    "          'max_depth':3,\n",
    "          'max_features':2,\n",
    "         }\n",
    "new_run[\"parameters\"] = PARAMS\n",
    "\n",
    "score = train_model(PARAMS, TRAIN_DATASET_PATH, TEST_DATASET_PATH)\n",
    "\n",
    "new_run[\"metrics/test_score\"] = score"
   ]
  },
  {
   "cell_type": "markdown",
   "metadata": {},
   "source": [
    "Stop logging to currently active Neptune Run"
   ]
  },
  {
   "cell_type": "code",
   "execution_count": null,
   "metadata": {},
   "outputs": [],
   "source": [
    "new_run.stop()\n",
    "baseline_run.stop()"
   ]
  },
  {
   "cell_type": "markdown",
   "metadata": {
    "tags": [
     "comment"
    ]
   },
   "source": [
    "## Step 6: See all model training runs for this dataset version\n",
    "\n",
    "To see all training runs for a particular dataset version:\n",
    "* Go to the `Runs table` in the Neptune UI\n",
    "* Click on **+Add column**, type in 'artifacts/train' and click on it to add to the `Runs table`\n",
    "* Add parameters and test score in the same way\n",
    "* See that your model training run improved thanks to better parameters because the dataset version didn't change. \n",
    "\n",
    "You can also [use ** +Group by**](https://docs.neptune.ai/how-to-guides/neptune-ui/groupby) to group by train dataset versions and find the training runs you care about quickly. \n",
    "\n",
    "[See this example in Neptune](https://app.neptune.ai/o/common/org/data-versioning/experiments?compare=IwdgNMQ&split=tbl&dash=artifacts&viewId=6777136b-938e-4639-943d-3f6bc52f8497)\n",
    "\n",
    "![image](https://neptune.ai/wp-content/uploads/artifacts-grouped-by-dataset-version.png)"
   ]
  },
  {
   "cell_type": "code",
   "execution_count": null,
   "metadata": {},
   "outputs": [],
   "source": []
  }
 ],
 "metadata": {
  "kernelspec": {
   "display_name": "artifacts_tests",
   "language": "python",
   "name": "artifacts_tests"
  },
  "language_info": {
   "codemirror_mode": {
    "name": "ipython",
    "version": 3
   },
   "file_extension": ".py",
   "mimetype": "text/x-python",
   "name": "python",
   "nbconvert_exporter": "python",
   "pygments_lexer": "ipython3",
   "version": "3.7.11"
  },
  "widgets": {
   "application/vnd.jupyter.widget-state+json": {
    "state": {},
    "version_major": 2,
    "version_minor": 0
   }
  }
 },
 "nbformat": 4,
 "nbformat_minor": 4
}
