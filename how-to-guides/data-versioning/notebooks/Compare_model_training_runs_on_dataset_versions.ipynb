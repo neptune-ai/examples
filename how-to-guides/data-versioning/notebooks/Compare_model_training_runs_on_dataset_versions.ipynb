{
 "cells": [
  {
   "attachments": {},
   "cell_type": "markdown",
   "metadata": {
    "id": "QDR4PVLPwrx6",
    "tags": [
     "header"
    ]
   },
   "source": [
    "# Compare model training runs on dataset versions\n",
    "\n",
    "<a target=\"_blank\" href=\"https://colab.research.google.com/github/neptune-ai/examples/blob/main/how-to-guides/data-versioning/notebooks/Compare_model_training_runs_on_dataset_versions.ipynb\">\n",
    "  <img src=\"https://colab.research.google.com/assets/colab-badge.svg\" alt=\"Open in Colab\"/>\n",
    "</a><a target=\"_blank\" href=\"https://github.com/neptune-ai/examples/blob/main/how-to-guides/data-versioning/notebooks/Compare_model_training_runs_on_dataset_versions.ipynb\">\n",
    "  <img alt=\"Open in GitHub\" src=\"https://img.shields.io/badge/Open_in_GitHub-blue?logo=github&labelColor=black\">\n",
    "</a><a target=\"_blank\" href=\"https://app.neptune.ai/o/common/org/data-versioning/runs/compare?viewId=2b313653-1aa2-40e8-8bf2-cd13f0f96862&dash=artifacts&compare=IwdgNMQ&base=DAT-18&to=DAT-17\"> \n",
    "  <img alt=\"Explore in Neptune\" src=\"https://neptune.ai/wp-content/uploads/2024/01/neptune-badge.svg\">\n",
    "</a><a target=\"_blank\" href=\"https://docs.neptune.ai/tutorials/comparing_artifacts/|\">\n",
    "  <img alt=\"View tutorial in docs\" src=\"https://neptune.ai/wp-content/uploads/2024/01/docs-badge-2.svg\">\n",
    "</a>"
   ]
  },
  {
   "attachments": {},
   "cell_type": "markdown",
   "metadata": {
    "id": "V-3yhAGowrx8",
    "tags": [
     "header"
    ]
   },
   "source": [
    "## Introduction\n",
    "\n",
    "You can version datasets, models, and other file objects as Artifacts in Neptune.\n",
    "\n",
    "This guide shows how to:\n",
    "* Keep track of the dataset version with Neptune artifacts\n",
    "* See if models were trained on the same dataset version\n",
    "* Compare datasets in the Neptune app to see what changed\n",
    "\n",
    "By the end of this guide, you will train a few models on different dataset versions and compare those versions in the Neptune app.\n",
    "\n",
    "![image](https://neptune.ai/wp-content/uploads/artifacts-compare-runs-on-dataset.png)"
   ]
  },
  {
   "attachments": {},
   "cell_type": "markdown",
   "metadata": {
    "id": "-7YjuyJ4wrx9",
    "tags": [
     "header",
     "installation"
    ]
   },
   "source": [
    "## Before you start\n",
    "\n",
    "This notebook example lets you try out Neptune as an anonymous user, with zero setup.\n",
    "\n",
    "If you want to see the example logged to your own workspace instead:\n",
    "\n",
    "  1. Create a Neptune account. [Register &rarr;](https://neptune.ai/register)\n",
    "  1. Create a Neptune project that you will use for tracking metadata. For instructions, see [Creating a project](https://docs.neptune.ai/setup/creating_project) in the Neptune docs."
   ]
  },
  {
   "attachments": {},
   "cell_type": "markdown",
   "metadata": {
    "id": "n79e8ys-wrx_"
   },
   "source": [
    "## Install Neptune and dependencies"
   ]
  },
  {
   "cell_type": "code",
   "execution_count": null,
   "metadata": {
    "colab": {
     "base_uri": "https://localhost:8080/",
     "height": 1000
    },
    "id": "gMhEDs4uwrx_",
    "outputId": "be29d192-7b2e-43f9-cc9b-b661e772b579",
    "tags": [
     "installation"
    ]
   },
   "outputs": [],
   "source": [
    "! pip install -U neptune scikit-learn"
   ]
  },
  {
   "attachments": {},
   "cell_type": "markdown",
   "metadata": {},
   "source": [
    "## Download data"
   ]
  },
  {
   "cell_type": "code",
   "execution_count": null,
   "metadata": {
    "colab": {
     "base_uri": "https://localhost:8080/"
    },
    "id": "DbRjEopuzLrZ",
    "outputId": "cb6bf505-f63a-4f4e-99a0-1a1acc99216c"
   },
   "outputs": [],
   "source": [
    "! curl https://raw.githubusercontent.com/neptune-ai/examples/main/how-to-guides/data-versioning/datasets/tables/train.csv --create-dirs -o ../datasets/tables/train.csv\n",
    "! curl https://raw.githubusercontent.com/neptune-ai/examples/main/how-to-guides/data-versioning/datasets/tables/test.csv --create-dirs -o ../datasets/tables/test.csv\n",
    "! curl https://raw.githubusercontent.com/neptune-ai/examples/main/how-to-guides/data-versioning/datasets/tables/train_v2.csv --create-dirs -o ../datasets/tables/train_v2.csv"
   ]
  },
  {
   "attachments": {},
   "cell_type": "markdown",
   "metadata": {
    "id": "VDruBecswryA",
    "tags": [
     "header"
    ]
   },
   "source": [
    "## Prepare a model training script"
   ]
  },
  {
   "attachments": {},
   "cell_type": "markdown",
   "metadata": {
    "id": "LX3rTEUEwryB",
    "tags": [
     "comment"
    ]
   },
   "source": [
    "As an example, we'll use a script that trains a scikit-learn model on the iris dataset."
   ]
  },
  {
   "cell_type": "code",
   "execution_count": null,
   "metadata": {
    "id": "EjgIGTaewryB",
    "tags": [
     "code"
    ]
   },
   "outputs": [],
   "source": [
    "import pandas as pd\n",
    "from sklearn.ensemble import RandomForestClassifier\n",
    "\n",
    "TRAIN_DATASET_PATH = \"../datasets/tables/train.csv\"\n",
    "TEST_DATASET_PATH = \"../datasets/tables/test.csv\"\n",
    "\n",
    "params = {\n",
    "    \"n_estimators\": 5,\n",
    "    \"max_depth\": 1,\n",
    "    \"max_features\": 2,\n",
    "}\n",
    "\n",
    "\n",
    "def train_model(params, train_path, test_path):\n",
    "    train = pd.read_csv(train_path)\n",
    "    test = pd.read_csv(test_path)\n",
    "\n",
    "    FEATURE_COLUMNS = [\"sepal.length\", \"sepal.width\", \"petal.length\", \"petal.width\"]\n",
    "    TARGET_COLUMN = [\"variety\"]\n",
    "    X_train, y_train = train[FEATURE_COLUMNS], train[TARGET_COLUMN]\n",
    "    X_test, y_test = test[FEATURE_COLUMNS], test[TARGET_COLUMN]\n",
    "\n",
    "    rf = RandomForestClassifier(**params)\n",
    "    rf.fit(X_train, y_train)\n",
    "\n",
    "    return rf.score(X_test, y_test)"
   ]
  },
  {
   "attachments": {},
   "cell_type": "markdown",
   "metadata": {
    "id": "mTvZuwZVwryC",
    "tags": [
     "header"
    ]
   },
   "source": [
    "## Initialize Neptune and create new run"
   ]
  },
  {
   "attachments": {},
   "cell_type": "markdown",
   "metadata": {
    "id": "4mu1_YCawryC",
    "tags": [
     "comment"
    ]
   },
   "source": [
    "To create a new run for tracking the metadata, you tell Neptune who you are (`api_token`) and where to send the data (`project`).\n",
    "\n",
    "You can use the default code cell below to create an anonymous run in a public project. **Note**: Public projects are cleaned regularly, so anonymous runs are only stored temporarily.\n",
    "\n",
    "### Log to your own project instead\n",
    "\n",
    "Replace the code below with the following:\n",
    "\n",
    "```python\n",
    "import neptune\n",
    "from getpass import getpass\n",
    "\n",
    "run = neptune.init_run(\n",
    "    project=\"workspace-name/project-name\",  # replace with your own (see instructions below)\n",
    "    api_token=getpass(\"Enter your Neptune API token: \"),\n",
    ")\n",
    "```\n",
    "\n",
    "To find your API token and full project name:\n",
    "\n",
    "1. [Log in to Neptune](https://app.neptune.ai/).\n",
    "1. In the bottom-left corner, expand your user menu and select **Get your API token**.\n",
    "1. The workspace name is displayed in the top-left corner of the app. \n",
    "\n",
    "    To copy the project path, in the top-right corner, open the settings menu and select **Properties**.\n",
    "\n",
    "For more help, see [Setting Neptune credentials](https://docs.neptune.ai/setup/setting_credentials) in the Neptune docs."
   ]
  },
  {
   "cell_type": "code",
   "execution_count": null,
   "metadata": {
    "colab": {
     "base_uri": "https://localhost:8080/"
    },
    "id": "Ar6jlEGQwryD",
    "outputId": "a954d427-ee6f-4e0b-a5ba-35f42c0c8f9b",
    "tags": [
     "code"
    ]
   },
   "outputs": [],
   "source": [
    "import neptune\n",
    "\n",
    "run = neptune.init_run(project=\"common/data-versioning\", api_token=neptune.ANONYMOUS_API_TOKEN)"
   ]
  },
  {
   "attachments": {},
   "cell_type": "markdown",
   "metadata": {
    "id": "p_WumFTOwryD",
    "tags": [
     "comment"
    ]
   },
   "source": [
    "**To open the run in the Neptune web app, click the link that appeared in the cell output.**\n",
    "\n",
    "We'll use the `run` object we just created to log metadata. You'll see the metadata appear in the app."
   ]
  },
  {
   "attachments": {},
   "cell_type": "markdown",
   "metadata": {
    "id": "33YNYeBdwryF",
    "tags": [
     "header"
    ]
   },
   "source": [
    "## Add tracking of the dataset version and parameters"
   ]
  },
  {
   "attachments": {},
   "cell_type": "markdown",
   "metadata": {
    "id": "bSaZjsPRwryF",
    "tags": [
     "comment"
    ]
   },
   "source": [
    "Save datasets versions as Neptune artifacts"
   ]
  },
  {
   "cell_type": "code",
   "execution_count": null,
   "metadata": {
    "id": "08M0RznfwryF",
    "tags": [
     "code"
    ]
   },
   "outputs": [],
   "source": [
    "run[\"datasets/train\"].track_files(TRAIN_DATASET_PATH)\n",
    "run[\"datasets/test\"].track_files(TEST_DATASET_PATH)"
   ]
  },
  {
   "attachments": {},
   "cell_type": "markdown",
   "metadata": {
    "id": "Qcfyt15xwryG"
   },
   "source": [
    "**Note:**\n",
    "\n",
    "You can also version the entire folder where your datasets by running\n",
    "\n",
    "```python\n",
    "run[\"datasets\"].track_files(DATASET_FOLDER)\n",
    "```\n",
    "\n",
    "Also, people often keep track of datasets at the project level with [Project metadata](https://docs.neptune.ai/api-reference/project).\n",
    "\n",
    "For more information see [Organize and share dataset versions](https://docs.neptune.ai/how-to-guides/data-versioning/organize-and-share-dataset-versions)."
   ]
  },
  {
   "attachments": {},
   "cell_type": "markdown",
   "metadata": {
    "id": "CU6q73dvwryG"
   },
   "source": [
    "## Run model training and log parameters and metrics to Neptune"
   ]
  },
  {
   "attachments": {},
   "cell_type": "markdown",
   "metadata": {
    "id": "kdbc45d4wryH"
   },
   "source": [
    "Now train a model and log the test score to Neptune"
   ]
  },
  {
   "cell_type": "code",
   "execution_count": null,
   "metadata": {
    "colab": {
     "base_uri": "https://localhost:8080/"
    },
    "id": "ZF79ppatwryH",
    "outputId": "70b37f0e-82b0-442a-bb24-98f62008c546"
   },
   "outputs": [],
   "source": [
    "run[\"parameters\"] = params\n",
    "\n",
    "score = train_model(params, TRAIN_DATASET_PATH, TEST_DATASET_PATH)\n",
    "\n",
    "run[\"metrics/test_score\"] = score"
   ]
  },
  {
   "attachments": {},
   "cell_type": "markdown",
   "metadata": {
    "id": "3w1_A-uTwryH"
   },
   "source": [
    "## Stop logging to the current run \n",
    "<font color=red>**Warning:**</font><br>\n",
    "Once you are done logging, you should stop tracking the run using the `stop()` method.\n",
    "This is needed only while logging from a notebook environment. While logging through a script, Neptune automatically stops tracking once the script has completed execution."
   ]
  },
  {
   "cell_type": "code",
   "execution_count": null,
   "metadata": {
    "colab": {
     "base_uri": "https://localhost:8080/"
    },
    "id": "Z-nclmkGwryI",
    "outputId": "4428a0bf-fd3b-4a1d-f527-7ba426c18f0a"
   },
   "outputs": [],
   "source": [
    "run.stop()"
   ]
  },
  {
   "attachments": {},
   "cell_type": "markdown",
   "metadata": {
    "id": "-SLOx1I2wryI"
   },
   "source": [
    "## Change training dataset\n",
    "\n",
    "Let's now change the training dataset that we'll be using"
   ]
  },
  {
   "cell_type": "code",
   "execution_count": null,
   "metadata": {
    "id": "ElQ_4DKSwryI"
   },
   "outputs": [],
   "source": [
    "TRAIN_DATASET_PATH = \"../datasets/tables/train_v2.csv\""
   ]
  },
  {
   "attachments": {},
   "cell_type": "markdown",
   "metadata": {
    "id": "K8nEx-m6wryI"
   },
   "source": [
    "## Run model training on a new training dataset\n",
    "\n",
    "Let's run model training again.\n",
    "* Initialize the Neptune run"
   ]
  },
  {
   "cell_type": "code",
   "execution_count": null,
   "metadata": {
    "colab": {
     "base_uri": "https://localhost:8080/"
    },
    "id": "uNrehlgXwryI",
    "outputId": "642c3f36-c237-40a4-82ad-de2e759e96b1"
   },
   "outputs": [],
   "source": [
    "new_run = neptune.init_run(project=\"common/data-versioning\", api_token=neptune.ANONYMOUS_API_TOKEN)"
   ]
  },
  {
   "attachments": {},
   "cell_type": "markdown",
   "metadata": {
    "id": "LFwQNkwGwryI"
   },
   "source": [
    "* Log dataset versions"
   ]
  },
  {
   "cell_type": "code",
   "execution_count": null,
   "metadata": {
    "id": "avfma1a4wryJ"
   },
   "outputs": [],
   "source": [
    "new_run[\"datasets/train\"].track_files(TRAIN_DATASET_PATH)\n",
    "new_run[\"datasets/test\"].track_files(TEST_DATASET_PATH)"
   ]
  },
  {
   "attachments": {},
   "cell_type": "markdown",
   "metadata": {
    "id": "IFvRXkKowryJ"
   },
   "source": [
    "* Execute model training"
   ]
  },
  {
   "cell_type": "code",
   "execution_count": null,
   "metadata": {
    "colab": {
     "base_uri": "https://localhost:8080/"
    },
    "id": "Xe_g4W7iwryJ",
    "outputId": "01178f8c-efc4-4753-83c8-0ac64fa5a40b"
   },
   "outputs": [],
   "source": [
    "new_run[\"parameters\"] = params\n",
    "\n",
    "score = train_model(params, TRAIN_DATASET_PATH, TEST_DATASET_PATH)\n",
    "\n",
    "new_run[\"metrics/test_score\"] = score"
   ]
  },
  {
   "attachments": {},
   "cell_type": "markdown",
   "metadata": {
    "id": "X1MKpdlwwryJ"
   },
   "source": [
    "Stop logging to currently active Neptune run"
   ]
  },
  {
   "cell_type": "code",
   "execution_count": null,
   "metadata": {
    "colab": {
     "base_uri": "https://localhost:8080/"
    },
    "id": "hW1N6kuHwryK",
    "outputId": "bf619f50-6395-4703-8dec-5ebfd3c43a9b"
   },
   "outputs": [],
   "source": [
    "new_run.stop()"
   ]
  },
  {
   "attachments": {},
   "cell_type": "markdown",
   "metadata": {
    "id": "N8y1TKowwryK",
    "tags": [
     "comment"
    ]
   },
   "source": [
    "## Compare model training runs in the Neptune app\n",
    "\n",
    "To see that the score changed due to different dataset version: \n",
    "* Go to the `Runs table` in the Neptune app\n",
    "* Click on **+Add column**, type in 'artifacts/train' and click on it to add to the `Runs table`\n",
    "* Click on the **Eye** icon and go to [Compare runs > Artifacts](https://docs.neptune.ai/you-should-know/comparing-runs#artifact) to see how the datasets changed\n",
    "\n",
    "<a target=\"_blank\" href=\"https://app.neptune.ai/o/common/org/data-versioning/runs/compare?viewId=2b313653-1aa2-40e8-8bf2-cd13f0f96862&dash=artifacts&compare=IwdgNMQ&base=DAT-18&to=DAT-17\"> \n",
    "  <img alt=\"Explore in Neptune\" src=\"https://neptune.ai/wp-content/uploads/2024/01/neptune-badge.svg\">\n",
    "</a>\n",
    "\n",
    "![image](https://neptune.ai/wp-content/uploads/artifacts-compare-runs-on-dataset.png)\n"
   ]
  }
 ],
 "metadata": {
  "colab": {
   "provenance": []
  },
  "gpuClass": "standard",
  "kernelspec": {
   "display_name": "py38",
   "language": "python",
   "name": "python3"
  },
  "language_info": {
   "codemirror_mode": {
    "name": "ipython",
    "version": 3
   },
   "file_extension": ".py",
   "mimetype": "text/x-python",
   "name": "python",
   "nbconvert_exporter": "python",
   "pygments_lexer": "ipython3",
   "version": "3.10.4"
  },
  "vscode": {
   "interpreter": {
    "hash": "a9715cf0b0024f6e1c62cb31a4f1f43970eb41991212681878768b4bfe53050a"
   }
  }
 },
 "nbformat": 4,
 "nbformat_minor": 0
}
