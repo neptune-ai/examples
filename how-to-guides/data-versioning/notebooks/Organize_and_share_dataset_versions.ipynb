{
 "cells": [
  {
   "cell_type": "markdown",
   "metadata": {
    "tags": [
     "header"
    ]
   },
   "source": [
    "# Organize and share dataset versions"
   ]
  },
  {
   "cell_type": "markdown",
   "metadata": {
    "tags": [
     "header"
    ]
   },
   "source": [
    "## Introduction\n",
    "\n",
    "You can log and query metadata at a project level, including dataset and model versions, text notes, images, notebook files, and anything else you can log to a single Run.\n",
    "\n",
    "This guide shows how to:\n",
    "* Log versions of all the datasets used in a project\n",
    "* Organize dataset version metadata in the Neptune UI\n",
    "* Share all the currently used dataset versions with your team\n",
    "* Assert that you are training on the latest dataset version available\n",
    "\n",
    "By the end of this guide, you will log various dataset versions, organize them in the Neptune UI and see how to share them with a persistent link.\n",
    "\n",
    "[See this example in Neptune](https://app.neptune.ai/o/common/org/data-versioning/metadata?path=datasets%2Ftrain_sampled&attribute=latest)\n",
    "\n",
    "![image](https://neptune.ai/wp-content/uploads/Screenshot-from-2021-12-23-11-46-23.png)"
   ]
  },
  {
   "cell_type": "markdown",
   "metadata": {
    "tags": [
     "header",
     "installation"
    ]
   },
   "source": [
    "## Setup"
   ]
  },
  {
   "cell_type": "markdown",
   "metadata": {
    "tags": [
     "comment",
     "installation"
    ]
   },
   "source": [
    "Install dependencies"
   ]
  },
  {
   "cell_type": "code",
   "execution_count": 1,
   "metadata": {
    "tags": [
     "installation"
    ]
   },
   "outputs": [],
   "source": [
    "! pip install neptune-client>=0.14 scikit-learn==0.24.1"
   ]
  },
  {
   "cell_type": "markdown",
   "metadata": {},
   "source": [
    "## Step 1: Initialize the Neptune project "
   ]
  },
  {
   "cell_type": "code",
   "execution_count": 2,
   "metadata": {},
   "outputs": [
    {
     "name": "stdout",
     "output_type": "stream",
     "text": [
      "Remember to stop your project once you’ve finished logging your metadata (https://docs.neptune.ai/api-reference/run#stop). It will be stopped automatically only when the notebook kernel/interactive console is terminated.\n"
     ]
    }
   ],
   "source": [
    "import neptune.new as neptune\n",
    "\n",
    "project = neptune.init_project(name=\"common/data-versioning\", api_token=\"ANONYMOUS\")"
   ]
  },
  {
   "cell_type": "markdown",
   "metadata": {},
   "source": [
    "**Few explanations**\n",
    "\n",
    "In the above code, You tell Neptune: \n",
    "\n",
    "* **who you are**: your Neptune API token `api_token` \n",
    "* **where you want to send your data**: your Neptune `project`.\n",
    "\n",
    "At this point, you can log metadata to the Neptune `project`. \n",
    "\n",
    "---\n",
    "\n",
    "**Note**\n",
    "\n",
    "\n",
    "Instead of logging data to the public project 'common/data-versioning' as an anonymous user 'neptuner' you can log it to your own project.\n",
    "\n",
    "To do that:\n",
    "\n",
    "1. Get your [Neptune API token](https://docs.neptune.ai/getting-started/installation#authentication-neptune-api-token)\n",
    "2. Pass the token to ``api_token`` argument of ``neptune.init()`` method: ``api_token=YOUR_API_TOKEN``\n",
    "3. Get your [Neptune project name](https://docs.neptune.ai/getting-started/installation#setting-the-project-name)\n",
    "3. Pass your project to the ``project`` argument of the ``neptune.init_project()``.\n",
    "\n",
    "For example:\n",
    "\n",
    "```python\n",
    "neptune.init_project(name='my_workspace/my_project', \n",
    "                     api_token='MY_API_TOKEN')\n",
    "```"
   ]
  },
  {
   "cell_type": "markdown",
   "metadata": {
    "tags": [
     "header"
    ]
   },
   "source": [
    "## Step 2: Log various dataset versions to Neptune"
   ]
  },
  {
   "cell_type": "markdown",
   "metadata": {
    "tags": [
     "comment"
    ]
   },
   "source": [
    "Create a few different training data samples and log them as different dataset versions to a Neptune project. "
   ]
  },
  {
   "cell_type": "code",
   "execution_count": 3,
   "metadata": {
    "tags": [
     "code"
    ]
   },
   "outputs": [],
   "source": [
    "import pandas as pd\n",
    "\n",
    "train = pd.read_csv('../datasets/tables/train.csv')\n",
    "\n",
    "for i in range(5):\n",
    "    train_sample=train.sample(frac=0.5 + 0.1*i)\n",
    "    train_sample.to_csv('../datasets/tables/train_sampled.csv', index=None)\n",
    "    project[f'datasets/train_sampled/v{i}'].track_files('../datasets/tables/train_sampled.csv', wait=True)"
   ]
  },
  {
   "cell_type": "markdown",
   "metadata": {},
   "source": [
    "---\n",
    "**Note**\n",
    "\n",
    "In this case, you need to use ``wait=True`` to ensure all the logging operations are finished. \n",
    "By default, Neptune logs almost everything asynchronously.\n",
    "\n",
    "---\n",
    "\n",
    "You can confirm that it was logged by looking at the project metadata structure in the **datasets** namespace. "
   ]
  },
  {
   "cell_type": "code",
   "execution_count": 4,
   "metadata": {},
   "outputs": [
    {
     "data": {
      "text/plain": [
       "{'datasets': {'train_sampled': {'latest': <neptune.new.attributes.atoms.artifact.Artifact at 0x7fa0ddfa2650>,\n",
       "   'v0': <neptune.new.attributes.atoms.artifact.Artifact at 0x7fa0ddfa27d0>,\n",
       "   'v1': <neptune.new.attributes.atoms.artifact.Artifact at 0x7fa0ddfa2910>,\n",
       "   'v2': <neptune.new.attributes.atoms.artifact.Artifact at 0x7fa0ddfa2a50>,\n",
       "   'v3': <neptune.new.attributes.atoms.artifact.Artifact at 0x7fa0ddfa2850>,\n",
       "   'v4': <neptune.new.attributes.atoms.artifact.Artifact at 0x7fa0ddfa2c90>}},\n",
       " 'sys': {'creation_time': <neptune.new.attributes.atoms.datetime.Datetime at 0x7fa0ddfa2dd0>,\n",
       "  'id': <neptune.new.attributes.atoms.string.String at 0x7fa0ddfa2f10>,\n",
       "  'modification_time': <neptune.new.attributes.atoms.datetime.Datetime at 0x7fa0ddfa2f50>,\n",
       "  'monitoring_time': <neptune.new.attributes.atoms.integer.Integer at 0x7fa0ddfa2110>,\n",
       "  'owner': <neptune.new.attributes.atoms.string.String at 0x7fa0ddfa2290>,\n",
       "  'ping_time': <neptune.new.attributes.atoms.datetime.Datetime at 0x7fa0ddfa2090>,\n",
       "  'running_time': <neptune.new.attributes.atoms.float.Float at 0x7fa0ddfa2350>,\n",
       "  'size': <neptune.new.attributes.atoms.float.Float at 0x7fa0ddfa2450>,\n",
       "  'state': <neptune.new.attributes.atoms.run_state.RunState at 0x7fa0ddfa20d0>}}"
      ]
     },
     "execution_count": 4,
     "metadata": {},
     "output_type": "execute_result"
    }
   ],
   "source": [
    "project.get_structure()"
   ]
  },
  {
   "cell_type": "markdown",
   "metadata": {},
   "source": [
    "Get the latest version of a dataset and create a separate dataset version called 'latest'."
   ]
  },
  {
   "cell_type": "code",
   "execution_count": 5,
   "metadata": {},
   "outputs": [
    {
     "name": "stdout",
     "output_type": "stream",
     "text": [
      "latest version 4\n"
     ]
    }
   ],
   "source": [
    "def get_latest_version():\n",
    "    artifact_name = project.get_structure()['datasets']['train_sampled'].keys()\n",
    "    versions = [int(version.replace('v','')) for version in artifact_name if version != 'latest']\n",
    "    latest_version = max(versions)\n",
    "    return latest_version\n",
    "\n",
    "latest_version = get_latest_version()\n",
    "print('latest version', latest_version)"
   ]
  },
  {
   "cell_type": "code",
   "execution_count": 6,
   "metadata": {},
   "outputs": [],
   "source": [
    "project['datasets/train_sampled/latest'].assign(project[f'datasets/train_sampled/v{latest_version}'].fetch(), wait=True)"
   ]
  },
  {
   "cell_type": "markdown",
   "metadata": {
    "tags": []
   },
   "source": [
    "## Step 3: See dataset versions in the Neptune UI and share them with the team\n",
    "\n",
    "You can get a list of all datasets used in a project by running ``project.get_structure()`` function."
   ]
  },
  {
   "cell_type": "code",
   "execution_count": 7,
   "metadata": {},
   "outputs": [
    {
     "data": {
      "text/plain": [
       "{'train_sampled': {'latest': <neptune.new.attributes.atoms.artifact.Artifact at 0x7fa0ddfa2650>,\n",
       "  'v0': <neptune.new.attributes.atoms.artifact.Artifact at 0x7fa0ddfa27d0>,\n",
       "  'v1': <neptune.new.attributes.atoms.artifact.Artifact at 0x7fa0ddfa2910>,\n",
       "  'v2': <neptune.new.attributes.atoms.artifact.Artifact at 0x7fa0ddfa2a50>,\n",
       "  'v3': <neptune.new.attributes.atoms.artifact.Artifact at 0x7fa0ddfa2850>,\n",
       "  'v4': <neptune.new.attributes.atoms.artifact.Artifact at 0x7fa0ddfa2c90>}}"
      ]
     },
     "execution_count": 7,
     "metadata": {},
     "output_type": "execute_result"
    }
   ],
   "source": [
    "project.get_structure()['datasets']"
   ]
  },
  {
   "cell_type": "markdown",
   "metadata": {},
   "source": [
    "You and your team can also see and access all that in the Neptune UI.\n",
    "Go to your project and then **Project Metadata > datasets**\n",
    "\n",
    "![image](https://neptune.ai/wp-content/uploads/Screenshot-from-2021-12-23-14-00-51.png)\n",
    "\n",
    "As all links in the Neptune UI URL of the Project metadata for your project is persistent. \n",
    "\n",
    "For example:\n",
    "\n",
    "https://app.neptune.ai/o/common/org/data-versioning/metadata?path=datasets%2Ftrain_sampled&attribute=latest"
   ]
  },
  {
   "cell_type": "markdown",
   "metadata": {
    "colab_type": "text",
    "id": "7LFLtV5R5JKT",
    "tags": [
     "header"
    ]
   },
   "source": [
    "## Step 4: Create a new Neptune Run"
   ]
  },
  {
   "cell_type": "markdown",
   "metadata": {
    "tags": [
     "comment"
    ]
   },
   "source": [
    "Connect your script to the Neptune application and create a new Run."
   ]
  },
  {
   "cell_type": "code",
   "execution_count": 8,
   "metadata": {
    "colab": {
     "base_uri": "https://localhost:8080/",
     "height": 71
    },
    "colab_type": "code",
    "id": "XMdpj-Se4t0U",
    "outputId": "d66a1df2-ed95-4790-c799-fe7f6a980b39",
    "tags": [
     "code"
    ]
   },
   "outputs": [
    {
     "name": "stdout",
     "output_type": "stream",
     "text": [
      "https://app.neptune.ai/common/data-versioning/e/DAT-67\n"
     ]
    },
    {
     "name": "stderr",
     "output_type": "stream",
     "text": [
      "Info (NVML): NVML Shared Library Not Found. GPU usage metrics may not be reported. For more information, see https://docs-legacy.neptune.ai/logging-and-managing-experiment-results/logging-experiment-data.html#hardware-consumption \n"
     ]
    },
    {
     "name": "stdout",
     "output_type": "stream",
     "text": [
      "Remember to stop your run once you’ve finished logging your metadata (https://docs.neptune.ai/api-reference/run#stop). It will be stopped automatically only when the notebook kernel/interactive console is terminated.\n"
     ]
    }
   ],
   "source": [
    "run = neptune.init(project='common/data-versioning', api_token='ANONYMOUS')"
   ]
  },
  {
   "cell_type": "markdown",
   "metadata": {
    "tags": [
     "comment"
    ]
   },
   "source": [
    "**Few explanations**\n",
    "\n",
    "In the above code, You tell Neptune: \n",
    "\n",
    "* **who you are**: your Neptune API token `api_token` \n",
    "* **where you want to send your data**: your Neptune `project`.\n",
    "\n",
    "At this point, you have new Run in Neptune. For now on you will use `run` to log metadata to it.\n",
    "\n",
    "---\n",
    "\n",
    "**Note**\n",
    "\n",
    "\n",
    "Instead of logging data to the public project 'common/quickstarts' as an anonymous user 'neptuner' you can log it to your own project.\n",
    "\n",
    "To do that:\n",
    "\n",
    "1. Get your [Neptune API token](https://docs.neptune.ai/getting-started/installation#authentication-neptune-api-token)\n",
    "2. Pass the token to ``api_token`` argument of ``neptune.init()`` method: ``api_token=YOUR_API_TOKEN``\n",
    "3. Get your [Neptune project name](https://docs.neptune.ai/getting-started/installation#setting-the-project-name)\n",
    "3. Pass your project to the ``project`` argument of the ``neptune.init()``.\n",
    "\n",
    "For example:\n",
    "\n",
    "```python\n",
    "neptune.init(project='my_workspace/my_project', \n",
    "             api_token='MY_API_TOKEN')\n",
    "```"
   ]
  },
  {
   "cell_type": "markdown",
   "metadata": {
    "tags": [
     "header"
    ]
   },
   "source": [
    "## Step 5: Assert that you are training on the latest dataset version"
   ]
  },
  {
   "cell_type": "markdown",
   "metadata": {
    "tags": [
     "comment"
    ]
   },
   "source": [
    "Log dataset version of the dataset you want to train your models on as a Neptune artifact"
   ]
  },
  {
   "cell_type": "code",
   "execution_count": 9,
   "metadata": {
    "tags": [
     "code"
    ]
   },
   "outputs": [],
   "source": [
    "TRAIN_DATASET_PATH = '../datasets/tables/train_sampled.csv'\n",
    "run[\"datasets/train\"].track_files(TRAIN_DATASET_PATH, wait=True)"
   ]
  },
  {
   "cell_type": "markdown",
   "metadata": {},
   "source": [
    "Assert that it is the same dataset as the latest dataset version in your project. "
   ]
  },
  {
   "cell_type": "code",
   "execution_count": 10,
   "metadata": {},
   "outputs": [],
   "source": [
    "assert run[\"datasets/train\"].fetch_hash() == project['datasets/train_sampled/latest'].fetch_hash()"
   ]
  },
  {
   "cell_type": "markdown",
   "metadata": {},
   "source": [
    "**Note:**\n",
    "\n",
    "You can also download the latest version of the dataset by running \n",
    "\n",
    "```python\n",
    "project['datasets/train_sampled/latest'].download()\n",
    "```"
   ]
  },
  {
   "cell_type": "markdown",
   "metadata": {
    "tags": []
   },
   "source": [
    "## Step 6: Run model training and log parameters and metrics to Neptune"
   ]
  },
  {
   "cell_type": "markdown",
   "metadata": {},
   "source": [
    "Now train a model and log the test score to Neptune."
   ]
  },
  {
   "cell_type": "code",
   "execution_count": 11,
   "metadata": {},
   "outputs": [
    {
     "name": "stderr",
     "output_type": "stream",
     "text": [
      "/home/jakub/miniconda3/envs/py_37/lib/python3.7/site-packages/ipykernel_launcher.py:20: DataConversionWarning: A column-vector y was passed when a 1d array was expected. Please change the shape of y to (n_samples,), for example using ravel().\n"
     ]
    }
   ],
   "source": [
    "from sklearn.ensemble import RandomForestClassifier \n",
    "\n",
    "TEST_DATASET_PATH = '../datasets/tables/test.csv'\n",
    "\n",
    "PARAMS = {'n_estimators': 8,\n",
    "          'max_depth':3,\n",
    "          'max_features':2,\n",
    "         }\n",
    "run[\"parameters\"] = PARAMS\n",
    "\n",
    "train = pd.read_csv(TRAIN_DATASET_PATH)\n",
    "test = pd.read_csv(TEST_DATASET_PATH)\n",
    "\n",
    "FEATURE_COLUMNS = ['sepal.length', 'sepal.width', 'petal.length', 'petal.width']\n",
    "TARGET_COLUMN = ['variety']\n",
    "X_train, y_train = train[FEATURE_COLUMNS], train[TARGET_COLUMN]\n",
    "X_test, y_test = test[FEATURE_COLUMNS], test[TARGET_COLUMN]\n",
    "\n",
    "rf = RandomForestClassifier(**PARAMS)\n",
    "rf.fit(X_train, y_train)\n",
    "\n",
    "score = rf.score(X_test, y_test)\n",
    "run[\"metrics/test_score\"] = score"
   ]
  },
  {
   "cell_type": "markdown",
   "metadata": {},
   "source": [
    "Stop logging to Neptune"
   ]
  },
  {
   "cell_type": "code",
   "execution_count": 12,
   "metadata": {},
   "outputs": [
    {
     "name": "stdout",
     "output_type": "stream",
     "text": [
      "Shutting down background jobs, please wait a moment...\n",
      "Done!\n"
     ]
    },
    {
     "name": "stderr",
     "output_type": "stream",
     "text": [
      "Waiting for the remaining 6 operations to synchronize with Neptune. Do not kill this process.\n"
     ]
    },
    {
     "name": "stdout",
     "output_type": "stream",
     "text": [
      "All 6 operations synced, thanks for waiting!\n",
      "Shutting down background jobs, please wait a moment...\n",
      "Done!\n",
      "All 0 operations synced, thanks for waiting!\n"
     ]
    }
   ],
   "source": [
    "run.stop()\n",
    "project.stop()"
   ]
  },
  {
   "cell_type": "code",
   "execution_count": null,
   "metadata": {},
   "outputs": [],
   "source": []
  },
  {
   "cell_type": "code",
   "execution_count": null,
   "metadata": {},
   "outputs": [],
   "source": []
  }
 ],
 "metadata": {
  "kernelspec": {
   "display_name": "py_37",
   "language": "python",
   "name": "py_37"
  },
  "language_info": {
   "codemirror_mode": {
    "name": "ipython",
    "version": 3
   },
   "file_extension": ".py",
   "mimetype": "text/x-python",
   "name": "python",
   "nbconvert_exporter": "python",
   "pygments_lexer": "ipython3",
   "version": "3.7.11"
  },
  "widgets": {
   "application/vnd.jupyter.widget-state+json": {
    "state": {},
    "version_major": 2,
    "version_minor": 0
   }
  }
 },
 "nbformat": 4,
 "nbformat_minor": 4
}
