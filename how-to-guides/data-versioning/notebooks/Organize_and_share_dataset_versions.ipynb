{
 "cells": [
  {
   "attachments": {},
   "cell_type": "markdown",
   "metadata": {
    "tags": [
     "header"
    ]
   },
   "source": [
    "# Organize and share dataset versions\n",
    "\n",
    "<a target=\"_blank\" href=\"https://colab.research.google.com/github/neptune-ai/examples/blob/main/how-to-guides/data-versioning/notebooks/Organize_and_share_dataset_versions.ipynb\">\n",
    "  <img src=\"https://colab.research.google.com/assets/colab-badge.svg\" alt=\"Open in Colab\"/>\n",
    "</a><a target=\"_blank\" href=\"https://github.com/neptune-ai/examples/blob/main/how-to-guides/data-versioning/notebooks/Organize_and_share_dataset_versions.ipynb\">\n",
    "  <img alt=\"Open in GitHub\" src=\"https://img.shields.io/badge/Open_in_GitHub-blue?logo=github&labelColor=black\">\n",
    "</a><a target=\"_blank\" href=\"https://app.neptune.ai/o/common/org/data-versioning/metadata?path=datasets%2Ftrain_sampled&attribute=latest&filePath=.&file=train_sampled.csv\"> \n",
    "  <img alt=\"Explore in Neptune\" src=\"https://neptune.ai/wp-content/uploads/2024/01/neptune-badge.svg\">\n",
    "</a><a target=\"_blank\" href=\"https://docs.neptune.ai/tutorials/project_metadata/\">\n",
    "  <img alt=\"View tutorial in docs\" src=\"https://neptune.ai/wp-content/uploads/2024/01/docs-badge-2.svg\">\n",
    "</a>"
   ]
  },
  {
   "attachments": {},
   "cell_type": "markdown",
   "metadata": {
    "tags": [
     "header"
    ]
   },
   "source": [
    "## Introduction\n",
    "\n",
    "You can log and query metadata at a project level, including dataset and model versions, text notes, images, notebook files, and anything else you can log to a single run.\n",
    "\n",
    "This guide shows how to:\n",
    "* Log versions of all the datasets used in a project\n",
    "* Organize dataset version metadata in the Neptune app\n",
    "* Share all the currently used dataset versions with your team\n",
    "* Assert that you are training on the latest dataset version available\n",
    "\n",
    "By the end of this guide, you will log various dataset versions, organize them in the Neptune app and see how to share them with a persistent link.\n",
    "\n",
    "![image](https://neptune.ai/wp-content/uploads/neptune-datasets.png)"
   ]
  },
  {
   "attachments": {},
   "cell_type": "markdown",
   "metadata": {
    "tags": [
     "header",
     "installation"
    ]
   },
   "source": [
    "## Before you start\n",
    "\n",
    "This notebook example lets you try out Neptune as an anonymous user, with zero setup.\n",
    "\n",
    "If you want to see the example logged to your own workspace instead:\n",
    "\n",
    "  1. Create a Neptune account. [Register &rarr;](https://neptune.ai/register)\n",
    "  1. Create a Neptune project that you will use for tracking metadata. For instructions, see [Creating a project](https://docs.neptune.ai/setup/creating_project) in the Neptune docs."
   ]
  },
  {
   "attachments": {},
   "cell_type": "markdown",
   "metadata": {},
   "source": [
    "## Download data"
   ]
  },
  {
   "cell_type": "code",
   "execution_count": null,
   "metadata": {
    "colab": {
     "base_uri": "https://localhost:8080/"
    },
    "id": "DbRjEopuzLrZ",
    "outputId": "cb6bf505-f63a-4f4e-99a0-1a1acc99216c"
   },
   "outputs": [],
   "source": [
    "! curl https://raw.githubusercontent.com/neptune-ai/examples/main/how-to-guides/data-versioning/datasets/tables/train.csv --create-dirs -o ../datasets/tables/train.csv\n",
    "! curl https://raw.githubusercontent.com/neptune-ai/examples/main/how-to-guides/data-versioning/datasets/tables/test.csv --create-dirs -o ../datasets/tables/test.csv\n",
    "! curl https://raw.githubusercontent.com/neptune-ai/examples/main/how-to-guides/data-versioning/datasets/tables/train_v2.csv --create-dirs -o ../datasets/tables/train_v2.csv"
   ]
  },
  {
   "attachments": {},
   "cell_type": "markdown",
   "metadata": {},
   "source": [
    "## Install Neptune and dependencies"
   ]
  },
  {
   "cell_type": "code",
   "execution_count": null,
   "metadata": {
    "tags": [
     "installation"
    ]
   },
   "outputs": [],
   "source": [
    "! pip install -U neptune scikit-learn"
   ]
  },
  {
   "attachments": {},
   "cell_type": "markdown",
   "metadata": {},
   "source": [
    "## Initialize the Neptune project "
   ]
  },
  {
   "attachments": {},
   "cell_type": "markdown",
   "metadata": {},
   "source": [
    "To create a new run for tracking the metadata, you tell Neptune who you are (`api_token`) and where to send the data (`project`).\n",
    "\n",
    "You can use the default code cell below to create an anonymous run in a public project. **Note**: Public projects are cleaned regularly, so anonymous runs are only stored temporarily.\n",
    "\n",
    "### Log to your own project instead\n",
    "\n",
    "Replace the code below with the following:\n",
    "\n",
    "```python\n",
    "import neptune\n",
    "from getpass import getpass\n",
    "\n",
    "run = neptune.init_run(\n",
    "    project=\"workspace-name/project-name\",  # replace with your own (see instructions below)\n",
    "    api_token=getpass(\"Enter your Neptune API token: \"),\n",
    ")\n",
    "```\n",
    "\n",
    "To find your API token and full project name:\n",
    "\n",
    "1. [Log in to Neptune](https://app.neptune.ai/).\n",
    "1. In the bottom-left corner, expand your user menu and select **Get your API token**.\n",
    "1. The workspace name is displayed in the top-left corner of the app. \n",
    "\n",
    "    To copy the project path, in the top-right corner, open the settings menu and select **Properties**.\n",
    "\n",
    "For more help, see [Setting Neptune credentials](https://docs.neptune.ai/setup/setting_credentials) in the Neptune docs."
   ]
  },
  {
   "cell_type": "code",
   "execution_count": null,
   "metadata": {},
   "outputs": [],
   "source": [
    "import neptune\n",
    "\n",
    "project = neptune.init_project(\n",
    "    project=\"common/data-versioning\", api_token=neptune.ANONYMOUS_API_TOKEN\n",
    ")"
   ]
  },
  {
   "attachments": {},
   "cell_type": "markdown",
   "metadata": {},
   "source": [
    "**To open the run in the Neptune web app, click the link that appeared in the cell output.**\n",
    "\n",
    "We'll use the `run` object we just created to log metadata. You'll see the metadata appear in the app."
   ]
  },
  {
   "attachments": {},
   "cell_type": "markdown",
   "metadata": {
    "tags": [
     "header"
    ]
   },
   "source": [
    "## Log various dataset versions to Neptune"
   ]
  },
  {
   "attachments": {},
   "cell_type": "markdown",
   "metadata": {
    "tags": [
     "comment"
    ]
   },
   "source": [
    "Create a few different training data samples and log them as different dataset versions to a Neptune project. "
   ]
  },
  {
   "cell_type": "code",
   "execution_count": null,
   "metadata": {
    "tags": [
     "code"
    ]
   },
   "outputs": [],
   "source": [
    "import pandas as pd\n",
    "\n",
    "train = pd.read_csv(\"../datasets/tables/train.csv\")\n",
    "\n",
    "for i in range(5):\n",
    "    train_sample = train.sample(frac=0.5 + 0.1 * i)\n",
    "    train_sample.to_csv(\"../datasets/tables/train_sampled.csv\", index=None)\n",
    "    project[f\"datasets/train_sampled/v{i}\"].track_files(\n",
    "        \"../datasets/tables/train_sampled.csv\", wait=True\n",
    "    )"
   ]
  },
  {
   "attachments": {},
   "cell_type": "markdown",
   "metadata": {},
   "source": [
    "---\n",
    "**Note**\n",
    "\n",
    "In this case, you need to use ``wait=True`` to ensure all the logging operations are finished. \n",
    "By default, Neptune logs almost everything asynchronously.\n",
    "\n",
    "---\n",
    "\n",
    "You can confirm that it was logged by looking at the project metadata structure in the **datasets** namespace. "
   ]
  },
  {
   "cell_type": "code",
   "execution_count": null,
   "metadata": {},
   "outputs": [],
   "source": [
    "project.get_structure()[\"datasets\"]"
   ]
  },
  {
   "attachments": {},
   "cell_type": "markdown",
   "metadata": {},
   "source": [
    "**You should see something like this:**\n",
    "\n",
    "{'train_sampled': {'latest': <neptune.attributes.atoms.artifact.Artifact at 0x117af5b40>,\n",
    "  'v0': <neptune.attributes.atoms.artifact.Artifact at 0x117af6ef0>,\n",
    "  'v1': <neptune.attributes.atoms.artifact.Artifact at 0x117b491e0>,\n",
    "  'v2': <neptune.attributes.atoms.artifact.Artifact at 0x117b49240>,\n",
    "  'v3': <neptune.attributes.atoms.artifact.Artifact at 0x117b492a0>,\n",
    "  'v4': <neptune.attributes.atoms.artifact.Artifact at 0x117b49300>}}"
   ]
  },
  {
   "attachments": {},
   "cell_type": "markdown",
   "metadata": {},
   "source": [
    "Get the latest version of a dataset and create a separate dataset version called 'latest'."
   ]
  },
  {
   "cell_type": "code",
   "execution_count": null,
   "metadata": {},
   "outputs": [],
   "source": [
    "def get_latest_version():\n",
    "    artifact_name = project.get_structure()[\"datasets\"][\"train_sampled\"].keys()\n",
    "    versions = [int(version.replace(\"v\", \"\")) for version in artifact_name if version != \"latest\"]\n",
    "    return max(versions)\n",
    "\n",
    "\n",
    "latest_version = get_latest_version()\n",
    "print(\"latest version\", latest_version)"
   ]
  },
  {
   "cell_type": "code",
   "execution_count": null,
   "metadata": {},
   "outputs": [],
   "source": [
    "project[\"datasets/train_sampled/latest\"].assign(\n",
    "    project[f\"datasets/train_sampled/v{latest_version}\"].fetch(), wait=True\n",
    ")"
   ]
  },
  {
   "attachments": {},
   "cell_type": "markdown",
   "metadata": {
    "tags": []
   },
   "source": [
    "## See dataset versions in the Neptune app and share them with the team\n",
    "\n",
    "You can get a list of all datasets used in a project by running ``project.get_structure()`` function."
   ]
  },
  {
   "cell_type": "code",
   "execution_count": null,
   "metadata": {},
   "outputs": [],
   "source": [
    "project.get_structure()[\"datasets\"]"
   ]
  },
  {
   "attachments": {},
   "cell_type": "markdown",
   "metadata": {},
   "source": [
    "**You should see something like this:**\n",
    "\n",
    "{'train_sampled': {'latest': <neptune.attributes.atoms.artifact.Artifact at 0x117af5b40>,\n",
    "  'v0': <neptune.attributes.atoms.artifact.Artifact at 0x117af6ef0>,\n",
    "  'v1': <neptune.attributes.atoms.artifact.Artifact at 0x117b491e0>,\n",
    "  'v2': <neptune.attributes.atoms.artifact.Artifact at 0x117b49240>,\n",
    "  'v3': <neptune.attributes.atoms.artifact.Artifact at 0x117b492a0>,\n",
    "  'v4': <neptune.attributes.atoms.artifact.Artifact at 0x117b49300>}}"
   ]
  },
  {
   "attachments": {},
   "cell_type": "markdown",
   "metadata": {},
   "source": [
    "You and your team can also see and access all that in the Neptune app.\n",
    "Go to your project and then **Project Metadata > datasets**\n",
    "\n",
    "![image](https://neptune.ai/wp-content/uploads/Screenshot-from-2021-12-23-14-00-51.png)\n",
    "\n",
    "As all links in the Neptune app, the URL of the Project metadata for your project is persistent. \n",
    "\n",
    "For example:\n",
    "\n",
    "https://app.neptune.ai/o/common/org/data-versioning/metadata?path=datasets%2Ftrain_sampled&attribute=latest"
   ]
  },
  {
   "attachments": {},
   "cell_type": "markdown",
   "metadata": {
    "colab_type": "text",
    "tags": [
     "header"
    ]
   },
   "source": [
    "## Create a new Neptune run"
   ]
  },
  {
   "attachments": {},
   "cell_type": "markdown",
   "metadata": {
    "tags": [
     "comment"
    ]
   },
   "source": [
    "Connect your script to the Neptune application and create a new run."
   ]
  },
  {
   "cell_type": "code",
   "execution_count": null,
   "metadata": {
    "colab_type": "code",
    "tags": [
     "code"
    ]
   },
   "outputs": [],
   "source": [
    "run = neptune.init_run(project=\"common/data-versioning\", api_token=neptune.ANONYMOUS_API_TOKEN)"
   ]
  },
  {
   "attachments": {},
   "cell_type": "markdown",
   "metadata": {
    "tags": [
     "header"
    ]
   },
   "source": [
    "## Assert that you are training on the latest dataset version"
   ]
  },
  {
   "attachments": {},
   "cell_type": "markdown",
   "metadata": {
    "tags": [
     "comment"
    ]
   },
   "source": [
    "Log dataset version of the dataset you want to train your models on as a Neptune artifact"
   ]
  },
  {
   "cell_type": "code",
   "execution_count": null,
   "metadata": {
    "tags": [
     "code"
    ]
   },
   "outputs": [],
   "source": [
    "TRAIN_DATASET_PATH = \"../datasets/tables/train_sampled.csv\"\n",
    "run[\"datasets/train\"].track_files(TRAIN_DATASET_PATH, wait=True)"
   ]
  },
  {
   "attachments": {},
   "cell_type": "markdown",
   "metadata": {},
   "source": [
    "Assert that it is the same dataset as the latest dataset version in your project. "
   ]
  },
  {
   "cell_type": "code",
   "execution_count": null,
   "metadata": {},
   "outputs": [],
   "source": [
    "assert run[\"datasets/train\"].fetch_hash() == project[\"datasets/train_sampled/latest\"].fetch_hash()"
   ]
  },
  {
   "attachments": {},
   "cell_type": "markdown",
   "metadata": {},
   "source": [
    "**Note:**\n",
    "\n",
    "You can also download the latest version of the dataset by running \n",
    "\n",
    "```python\n",
    "project[\"datasets/train_sampled/latest\"].download()\n",
    "```"
   ]
  },
  {
   "attachments": {},
   "cell_type": "markdown",
   "metadata": {
    "tags": []
   },
   "source": [
    "## Run model training and log parameters and metrics to Neptune"
   ]
  },
  {
   "attachments": {},
   "cell_type": "markdown",
   "metadata": {},
   "source": [
    "Now train a model and log the test score to Neptune."
   ]
  },
  {
   "cell_type": "code",
   "execution_count": null,
   "metadata": {},
   "outputs": [],
   "source": [
    "from sklearn.ensemble import RandomForestClassifier\n",
    "\n",
    "TEST_DATASET_PATH = \"../datasets/tables/test.csv\"\n",
    "\n",
    "params = {\n",
    "    \"n_estimators\": 8,\n",
    "    \"max_depth\": 3,\n",
    "    \"max_features\": 2,\n",
    "}\n",
    "run[\"parameters\"] = params\n",
    "\n",
    "train = pd.read_csv(TRAIN_DATASET_PATH)\n",
    "test = pd.read_csv(TEST_DATASET_PATH)\n",
    "\n",
    "FEATURE_COLUMNS = [\"sepal.length\", \"sepal.width\", \"petal.length\", \"petal.width\"]\n",
    "TARGET_COLUMN = [\"variety\"]\n",
    "X_train, y_train = train[FEATURE_COLUMNS], train[TARGET_COLUMN]\n",
    "X_test, y_test = test[FEATURE_COLUMNS], test[TARGET_COLUMN]\n",
    "\n",
    "rf = RandomForestClassifier(**params)\n",
    "rf.fit(X_train, y_train)\n",
    "\n",
    "score = rf.score(X_test, y_test)\n",
    "run[\"metrics/test_score\"] = score"
   ]
  },
  {
   "attachments": {},
   "cell_type": "markdown",
   "metadata": {},
   "source": [
    "## Stop logging\n",
    "\n",
    "Once you are done logging, stop tracking the run."
   ]
  },
  {
   "cell_type": "code",
   "execution_count": null,
   "metadata": {},
   "outputs": [],
   "source": [
    "run.stop()\n",
    "project.stop()"
   ]
  }
 ],
 "metadata": {
  "kernelspec": {
   "display_name": "py38",
   "language": "python",
   "name": "python3"
  },
  "language_info": {
   "codemirror_mode": {
    "name": "ipython",
    "version": 3
   },
   "file_extension": ".py",
   "mimetype": "text/x-python",
   "name": "python",
   "nbconvert_exporter": "python",
   "pygments_lexer": "ipython3",
   "version": "3.10.4"
  },
  "vscode": {
   "interpreter": {
    "hash": "a9715cf0b0024f6e1c62cb31a4f1f43970eb41991212681878768b4bfe53050a"
   }
  }
 },
 "nbformat": 4,
 "nbformat_minor": 4
}
