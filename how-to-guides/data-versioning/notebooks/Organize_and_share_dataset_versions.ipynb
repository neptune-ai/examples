{
 "cells": [
  {
   "cell_type": "markdown",
   "metadata": {
    "tags": [
     "header"
    ]
   },
   "source": [
    "# Organize and share dataset versions"
   ]
  },
  {
   "cell_type": "markdown",
   "metadata": {
    "tags": [
     "header"
    ]
   },
   "source": [
    "## Introduction\n",
    "\n",
    "You can log and query metadata at a project level, including dataset and model versions, text notes, images, notebook files, and anything else you can log to a single Run.\n",
    "\n",
    "This guide shows how to:\n",
    "* Log versions of all the datasets used in a project\n",
    "* Organize dataset version metadata in the Neptune UI\n",
    "* Share all the currently used dataset versions with your team\n",
    "* Assert that you are training on the latest dataset version available\n",
    "\n",
    "By the end of this guide, you will log various dataset versions, organize them in the Neptune UI and see how to share them with a persistent link.\n",
    "\n",
    "[See this example in Neptune](https://app.neptune.ai/o/common/org/data-versioning/metadata?path=datasets%2Ftrain_sampled&attribute=latest)\n",
    "\n",
    "![image](https://user-images.githubusercontent.com/41324509/156204557-0878b92e-4ef3-4978-869d-e841d47d9f18.png)"
   ]
  },
  {
   "cell_type": "markdown",
   "metadata": {
    "tags": [
     "header",
     "installation"
    ]
   },
   "source": [
    "## Before you start\n",
    "\n",
    "Make sure that you have:\n",
    "* [Python 3.7+ installed](https://www.python.org/downloads/),\n",
    "* a [Neptune account](https://neptune.ai/register),\n",
    "* [created a project](https://app.gitbook.com/@neptune-ai/s/docs-re-positioning/administration/workspace-project-and-user-management/projects#create-project) from the Neptune UI that you will use for tracking metadata.\n",
    "\n",
    "**Tip**\n",
    "\n",
    "Registering with Neptune and creating a project is optional in case you are just trying out the application as an \"ANONYMOUS\" user."
   ]
  },
  {
   "cell_type": "code",
   "execution_count": null,
   "metadata": {
    "tags": [
     "installation"
    ]
   },
   "outputs": [],
   "source": [
    "! pip install neptune-client scikit-learn==0.24.1"
   ]
  },
  {
   "cell_type": "markdown",
   "metadata": {},
   "source": [
    "## Initialize the Neptune project "
   ]
  },
  {
   "cell_type": "code",
   "execution_count": null,
   "metadata": {},
   "outputs": [],
   "source": [
    "import neptune.new as neptune\n",
    "\n",
    "project = neptune.init_project(name=\"common/data-versioning\", api_token=\"ANONYMOUS\")"
   ]
  },
  {
   "cell_type": "markdown",
   "metadata": {},
   "source": [
    "**Note**\n",
    "\n",
    "\n",
    "Instead of logging data to the public project 'common/data-versioning' as an anonymous user 'neptuner' you can log it to your own project.\n",
    "\n",
    "To do that:\n",
    "\n",
    "1. Get your [Neptune API token](https://docs.neptune.ai/getting-started/installation#authentication-neptune-api-token)\n",
    "2. Pass the token to ``api_token`` argument of ``neptune.init_project()`` method: ``api_token=YOUR_API_TOKEN``\n",
    "3. Get your [Neptune project name](https://docs.neptune.ai/getting-started/installation#setting-the-project-name)\n",
    "3. Pass your project to the ``name`` argument of the ``neptune.init_project()``.\n",
    "\n",
    "For example:\n",
    "\n",
    "```python\n",
    "neptune.init_project(name=\"YOUR_WORKSPACE/YOUR_PROJECT\", api_token=\"YOUR_API_TOKEN\")\n",
    "```"
   ]
  },
  {
   "cell_type": "markdown",
   "metadata": {
    "tags": [
     "header"
    ]
   },
   "source": [
    "## Log various dataset versions to Neptune"
   ]
  },
  {
   "cell_type": "markdown",
   "metadata": {
    "tags": [
     "comment"
    ]
   },
   "source": [
    "Create a few different training data samples and log them as different dataset versions to a Neptune project. "
   ]
  },
  {
   "cell_type": "code",
   "execution_count": null,
   "metadata": {
    "tags": [
     "code"
    ]
   },
   "outputs": [],
   "source": [
    "import pandas as pd\n",
    "\n",
    "train = pd.read_csv(\"../datasets/tables/train.csv\")\n",
    "\n",
    "for i in range(5):\n",
    "    train_sample = train.sample(frac=0.5 + 0.1 * i)\n",
    "    train_sample.to_csv(\"../datasets/tables/train_sampled.csv\", index=None)\n",
    "    project[f\"datasets/train_sampled/v{i}\"].track_files(\n",
    "        \"../datasets/tables/train_sampled.csv\", wait=True\n",
    "    )"
   ]
  },
  {
   "cell_type": "markdown",
   "metadata": {},
   "source": [
    "---\n",
    "**Note**\n",
    "\n",
    "In this case, you need to use ``wait=True`` to ensure all the logging operations are finished. \n",
    "By default, Neptune logs almost everything asynchronously.\n",
    "\n",
    "---\n",
    "\n",
    "You can confirm that it was logged by looking at the project metadata structure in the **datasets** namespace. "
   ]
  },
  {
   "cell_type": "code",
   "execution_count": null,
   "metadata": {},
   "outputs": [],
   "source": [
    "project.get_structure()[\"datasets\"]"
   ]
  },
  {
   "cell_type": "markdown",
   "metadata": {},
   "source": [
    "**You should see something like this:**\n",
    "\n",
    "{'train_sampled': {'latest': <neptune.new.attributes.atoms.artifact.Artifact at 0x117af5b40>,\n",
    "  'v0': <neptune.new.attributes.atoms.artifact.Artifact at 0x117af6ef0>,\n",
    "  'v1': <neptune.new.attributes.atoms.artifact.Artifact at 0x117b491e0>,\n",
    "  'v2': <neptune.new.attributes.atoms.artifact.Artifact at 0x117b49240>,\n",
    "  'v3': <neptune.new.attributes.atoms.artifact.Artifact at 0x117b492a0>,\n",
    "  'v4': <neptune.new.attributes.atoms.artifact.Artifact at 0x117b49300>}}"
   ]
  },
  {
   "cell_type": "markdown",
   "metadata": {},
   "source": [
    "Get the latest version of a dataset and create a separate dataset version called 'latest'."
   ]
  },
  {
   "cell_type": "code",
   "execution_count": null,
   "metadata": {},
   "outputs": [],
   "source": [
    "def get_latest_version():\n",
    "    artifact_name = project.get_structure()[\"datasets\"][\"train_sampled\"].keys()\n",
    "    versions = [int(version.replace(\"v\", \"\")) for version in artifact_name if version != \"latest\"]\n",
    "    return max(versions)\n",
    "\n",
    "\n",
    "latest_version = get_latest_version()\n",
    "print(\"latest version\", latest_version)"
   ]
  },
  {
   "cell_type": "code",
   "execution_count": null,
   "metadata": {},
   "outputs": [],
   "source": [
    "project[\"datasets/train_sampled/latest\"].assign(\n",
    "    project[f\"datasets/train_sampled/v{latest_version}\"].fetch(), wait=True\n",
    ")"
   ]
  },
  {
   "cell_type": "markdown",
   "metadata": {
    "tags": []
   },
   "source": [
    "## See dataset versions in the Neptune UI and share them with the team\n",
    "\n",
    "You can get a list of all datasets used in a project by running ``project.get_structure()`` function."
   ]
  },
  {
   "cell_type": "code",
   "execution_count": null,
   "metadata": {},
   "outputs": [],
   "source": [
    "project.get_structure()[\"datasets\"]"
   ]
  },
  {
   "cell_type": "markdown",
   "metadata": {},
   "source": []
  },
  {
   "cell_type": "markdown",
   "metadata": {},
   "source": [
    "**You should see something like this:**\n",
    "\n",
    "{'train_sampled': {'latest': <neptune.new.attributes.atoms.artifact.Artifact at 0x117af5b40>,\n",
    "  'v0': <neptune.new.attributes.atoms.artifact.Artifact at 0x117af6ef0>,\n",
    "  'v1': <neptune.new.attributes.atoms.artifact.Artifact at 0x117b491e0>,\n",
    "  'v2': <neptune.new.attributes.atoms.artifact.Artifact at 0x117b49240>,\n",
    "  'v3': <neptune.new.attributes.atoms.artifact.Artifact at 0x117b492a0>,\n",
    "  'v4': <neptune.new.attributes.atoms.artifact.Artifact at 0x117b49300>}}"
   ]
  },
  {
   "cell_type": "markdown",
   "metadata": {},
   "source": [
    "You and your team can also see and access all that in the Neptune UI.\n",
    "Go to your project and then **Project Metadata > datasets**\n",
    "\n",
    "![image](https://neptune.ai/wp-content/uploads/Screenshot-from-2021-12-23-14-00-51.png)\n",
    "\n",
    "As all links in the Neptune UI URL of the Project metadata for your project is persistent. \n",
    "\n",
    "For example:\n",
    "\n",
    "https://app.neptune.ai/o/common/org/data-versioning/metadata?path=datasets%2Ftrain_sampled&attribute=latest"
   ]
  },
  {
   "cell_type": "markdown",
   "metadata": {
    "colab_type": "text",
    "id": "7LFLtV5R5JKT",
    "tags": [
     "header"
    ]
   },
   "source": [
    "## Create a new Neptune Run"
   ]
  },
  {
   "cell_type": "markdown",
   "metadata": {
    "tags": [
     "comment"
    ]
   },
   "source": [
    "Connect your script to the Neptune application and create a new Run."
   ]
  },
  {
   "cell_type": "code",
   "execution_count": null,
   "metadata": {
    "colab": {
     "base_uri": "https://localhost:8080/",
     "height": 71
    },
    "colab_type": "code",
    "id": "XMdpj-Se4t0U",
    "outputId": "d66a1df2-ed95-4790-c799-fe7f6a980b39",
    "tags": [
     "code"
    ]
   },
   "outputs": [],
   "source": [
    "run = neptune.init(project=\"common/data-versioning\", api_token=\"ANONYMOUS\")"
   ]
  },
  {
   "cell_type": "markdown",
   "metadata": {
    "tags": [
     "header"
    ]
   },
   "source": [
    "## Assert that you are training on the latest dataset version"
   ]
  },
  {
   "cell_type": "markdown",
   "metadata": {
    "tags": [
     "comment"
    ]
   },
   "source": [
    "Log dataset version of the dataset you want to train your models on as a Neptune artifact"
   ]
  },
  {
   "cell_type": "code",
   "execution_count": null,
   "metadata": {
    "tags": [
     "code"
    ]
   },
   "outputs": [],
   "source": [
    "TRAIN_DATASET_PATH = \"../datasets/tables/train_sampled.csv\"\n",
    "run[\"datasets/train\"].track_files(TRAIN_DATASET_PATH, wait=True)"
   ]
  },
  {
   "cell_type": "markdown",
   "metadata": {},
   "source": [
    "Assert that it is the same dataset as the latest dataset version in your project. "
   ]
  },
  {
   "cell_type": "code",
   "execution_count": null,
   "metadata": {},
   "outputs": [],
   "source": [
    "assert run[\"datasets/train\"].fetch_hash() == project[\"datasets/train_sampled/latest\"].fetch_hash()"
   ]
  },
  {
   "cell_type": "markdown",
   "metadata": {},
   "source": [
    "**Note:**\n",
    "\n",
    "You can also download the latest version of the dataset by running \n",
    "\n",
    "```python\n",
    "project['datasets/train_sampled/latest'].download()\n",
    "```"
   ]
  },
  {
   "cell_type": "markdown",
   "metadata": {
    "tags": []
   },
   "source": [
    "## Run model training and log parameters and metrics to Neptune"
   ]
  },
  {
   "cell_type": "markdown",
   "metadata": {},
   "source": [
    "Now train a model and log the test score to Neptune."
   ]
  },
  {
   "cell_type": "code",
   "execution_count": null,
   "metadata": {},
   "outputs": [],
   "source": [
    "from sklearn.ensemble import RandomForestClassifier\n",
    "\n",
    "TEST_DATASET_PATH = \"../datasets/tables/test.csv\"\n",
    "\n",
    "PARAMS = {\n",
    "    \"n_estimators\": 8,\n",
    "    \"max_depth\": 3,\n",
    "    \"max_features\": 2,\n",
    "}\n",
    "run[\"parameters\"] = PARAMS\n",
    "\n",
    "train = pd.read_csv(TRAIN_DATASET_PATH)\n",
    "test = pd.read_csv(TEST_DATASET_PATH)\n",
    "\n",
    "FEATURE_COLUMNS = [\"sepal.length\", \"sepal.width\", \"petal.length\", \"petal.width\"]\n",
    "TARGET_COLUMN = [\"variety\"]\n",
    "X_train, y_train = train[FEATURE_COLUMNS], train[TARGET_COLUMN]\n",
    "X_test, y_test = test[FEATURE_COLUMNS], test[TARGET_COLUMN]\n",
    "\n",
    "rf = RandomForestClassifier(**PARAMS)\n",
    "rf.fit(X_train, y_train)\n",
    "\n",
    "score = rf.score(X_test, y_test)\n",
    "run[\"metrics/test_score\"] = score"
   ]
  },
  {
   "cell_type": "markdown",
   "metadata": {},
   "source": [
    "## Stop logging  \n",
    "<font color=red>**Warning:**</font><br>\n",
    "Once you are done logging, you should stop tracking the run using the `stop()` method.\n",
    "This is needed only while logging from a notebook environment. While logging through a script, Neptune automatically stops tracking once the script has completed execution."
   ]
  },
  {
   "cell_type": "code",
   "execution_count": null,
   "metadata": {
    "pycharm": {
     "name": "#%%\n"
    }
   },
   "outputs": [],
   "source": [
    "run.stop()\n",
    "project.stop()"
   ]
  }
 ],
 "metadata": {
  "kernelspec": {
   "display_name": "Python (neptune-examples)",
   "language": "python",
   "name": "neptune-examples"
  },
  "language_info": {
   "codemirror_mode": {
    "name": "ipython",
    "version": 3
   },
   "file_extension": ".py",
   "mimetype": "text/x-python",
   "name": "python",
   "nbconvert_exporter": "python",
   "pygments_lexer": "ipython3",
   "version": "3.10.2"
  }
 },
 "nbformat": 4,
 "nbformat_minor": 4
}
