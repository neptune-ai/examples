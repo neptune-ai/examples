{
 "cells": [
  {
   "attachments": {},
   "cell_type": "markdown",
   "metadata": {
    "id": "rEp1Qqj-OkTW"
   },
   "source": [
    "# How to restart a run from checkpoint\n",
    "\n",
    "<a target=\"_blank\" href=\"https://colab.research.google.com/github/neptune-ai/examples/blob/main/how-to-guides/restart-run-from-checkpoint/notebooks/neptune_save_restart_run_from_checkpoint.ipynb\">\n",
    "  <img src=\"https://colab.research.google.com/assets/colab-badge.svg\" alt=\"Open in Colab\"/>\n",
    "</a>\n",
    "<a target=\"_blank\" href=\"https://github.com/neptune-ai/examples/blob/main/how-to-guides/restart-run-from-checkpoint/notebooks/neptune_save_restart_run_from_checkpoint.ipynb\">\n",
    "  <img alt=\"Open in GitHub\" src=\"https://img.shields.io/badge/Open_in_GitHub-blue?logo=github&labelColor=black\">\n",
    "</a>\n",
    "<a target=\"_blank\" href=\"https://app.neptune.ai/o/common/org/showroom/runs/details?viewId=standard-view&detailsTab=metadata&shortId=SHOW-32776&type=run\"> \n",
    "  <img alt=\"Explore in Neptune\" src=\"https://neptune.ai/wp-content/uploads/2024/01/neptune-badge.svg\">\n",
    "</a>\n",
    "<a target=\"_blank\" href=\"https://docs.neptune.ai/tutorials/restarting_from_checkpoint/\">\n",
    "  <img alt=\"View tutorial in docs\" src=\"https://neptune.ai/wp-content/uploads/2024/01/docs-badge-2.svg\">\n",
    "</a>"
   ]
  },
  {
   "attachments": {},
   "cell_type": "markdown",
   "metadata": {},
   "source": [
    "\n",
    "## Introduction\n",
    "Resuming ML experiments from checkpoints is essential to ensure progress is not lost in scenarios such as server disruptions or failures. \n",
    "\n",
    "By the end of this guide, you'll learn how to resume your experiment from a saved checkpoint."
   ]
  },
  {
   "attachments": {},
   "cell_type": "markdown",
   "metadata": {},
   "source": [
    "## Before you start\n",
    "\n",
    "This notebook example lets you try out Neptune as an anonymous user, with zero setup.\n",
    "\n",
    "If you want to see the example logged to your own workspace instead:\n",
    "\n",
    "  1. Create a Neptune account. [Register &rarr;](https://neptune.ai/register)\n",
    "  1. Create a Neptune project that you will use for tracking metadata. For instructions, see [Creating a project](https://docs.neptune.ai/setup/creating_project) in the Neptune docs."
   ]
  },
  {
   "cell_type": "markdown",
   "metadata": {
    "id": "yhti4u7IPjvs"
   },
   "source": [
    "## Install Neptune and dependencies"
   ]
  },
  {
   "cell_type": "code",
   "execution_count": null,
   "metadata": {
    "colab": {
     "base_uri": "https://localhost:8080/"
    },
    "id": "Zl_MWkstjTXu",
    "outputId": "1863eb7e-cbe1-41c8-8835-974f17a62ea9"
   },
   "outputs": [],
   "source": [
    "!pip install neptune torch torchvision"
   ]
  },
  {
   "cell_type": "markdown",
   "metadata": {
    "id": "PP_m2hx9PoUt"
   },
   "source": [
    "## Import dependencies"
   ]
  },
  {
   "cell_type": "code",
   "execution_count": null,
   "metadata": {
    "id": "k2-ThTkuxZOd"
   },
   "outputs": [],
   "source": [
    "import neptune\n",
    "from neptune.utils import stringify_unsupported\n",
    "from torch import load as torch_load\n",
    "from torch import save as torch_save\n",
    "import torch\n",
    "import torch.nn as nn\n",
    "import torch.optim as optim\n",
    "import torchvision.datasets as datasets\n",
    "import torchvision.transforms as transforms\n",
    "from torch.utils.data import DataLoader\n",
    "from typing import Dict, Any"
   ]
  },
  {
   "cell_type": "code",
   "execution_count": null,
   "metadata": {
    "colab": {
     "base_uri": "https://localhost:8080/"
    },
    "id": "YWSxc47hpKyi",
    "outputId": "9333b563-efee-49cb-cf73-5939917e6be2"
   },
   "outputs": [],
   "source": [
    "# (Neptune) Set environment varibles\n",
    "%env NEPTUNE_PROJECT=common/showroom\n",
    "%env NEPTUNE_API_TOKEN=ANONYMOUS"
   ]
  },
  {
   "cell_type": "markdown",
   "metadata": {
    "id": "31OeNhCyQnI9"
   },
   "source": [
    "## Utils"
   ]
  },
  {
   "cell_type": "code",
   "execution_count": null,
   "metadata": {
    "id": "82xx0M4N3G71"
   },
   "outputs": [],
   "source": [
    "# (Neptune) Fetch and load checkpoints\n",
    "def load_checkpoint(run: neptune.Run, epoch: int):\n",
    "    checkpoint_name = f\"epoch_{epoch}\"\n",
    "    ext = run[\"checkpoints\"][checkpoint_name].fetch_extension()\n",
    "    run[\"checkpoints\"][checkpoint_name].download()  # Download the checkpoint\n",
    "    checkpoint = torch_load(f\"{checkpoint_name}.{ext}\")  # Load the checkpoint\n",
    "    return checkpoint\n",
    "\n",
    "\n",
    "#\n",
    "\n",
    "\n",
    "# (Neptune) Save and log checkpoints while training\n",
    "def save_checkpoint(\n",
    "    run: neptune.Run, model: nn.Module, optimizer: optim.Optimizer, epoch: int, loss: torch.tensor\n",
    "):\n",
    "    checkpoint = {\n",
    "        \"model_state_dict\": model.state_dict(),\n",
    "        \"optimizer_state_dict\": optimizer.state_dict(),\n",
    "        \"epoch\": epoch,\n",
    "        \"loss\": loss.item(),\n",
    "    }\n",
    "    checkpoint_name = f\"checkpoint-{epoch}-{loss:.2f}.pth\"\n",
    "    torch_save(checkpoint, checkpoint_name)  # Save the checkpoint locally\n",
    "    run[f\"checkpoints/epoch_{epoch}\"].upload(checkpoint_name)  # Upload to Neptune\n",
    "\n",
    "\n",
    "def train(\n",
    "    run: neptune.Run,\n",
    "    model: nn.Module,\n",
    "    dataloader: DataLoader,\n",
    "    criterion: nn.Module,\n",
    "    optimizer: optim.Optimizer,\n",
    "    parameters: Dict[str, Any],\n",
    "    start_epoch: int = 0,\n",
    "):\n",
    "    for epoch in range(start_epoch, parameters[\"num_epochs\"]):\n",
    "        for i, (x, y) in enumerate(dataloader, 0):\n",
    "            x, y = x.to(parameters[\"device\"]), y.to(parameters[\"device\"])\n",
    "            optimizer.zero_grad()\n",
    "            outputs = model(x)\n",
    "            _, preds = torch.max(outputs, 1)\n",
    "            loss = criterion(outputs, y)\n",
    "            acc = (torch.sum(preds == y.data)) / len(x)\n",
    "\n",
    "            # (Neptune) Log metrics\n",
    "            run[\"metrics\"][\"batch/loss\"].append(loss.item())\n",
    "            run[\"metrics\"][\"batch/acc\"].append(acc.item())\n",
    "\n",
    "            loss.backward()\n",
    "            optimizer.step()\n",
    "\n",
    "        if epoch % parameters[\"ckpt_frequency\"] == 0:\n",
    "            # (Neptune) Log checkpoints\n",
    "            save_checkpoint(run, model, optimizer, epoch, loss)"
   ]
  },
  {
   "cell_type": "markdown",
   "metadata": {
    "id": "W6HEzn06Qs3f"
   },
   "source": [
    "## Hyperparameters for training"
   ]
  },
  {
   "cell_type": "code",
   "execution_count": null,
   "metadata": {
    "id": "OKbbRkga5Y8I"
   },
   "outputs": [],
   "source": [
    "parameters = {\n",
    "    \"lr\": 1e-2,\n",
    "    \"batch_size\": 128,\n",
    "    \"input_size\": 32 * 32 * 3,\n",
    "    \"n_classes\": 10,\n",
    "    \"device\": torch.device(\"cuda\" if torch.cuda.is_available() else \"cpu\"),\n",
    "    \"num_epochs\": 1,\n",
    "    \"ckpt_frequency\": 5,\n",
    "}"
   ]
  },
  {
   "cell_type": "markdown",
   "metadata": {
    "id": "0x05XxxfO5Wn"
   },
   "source": [
    "## Load model and dataset"
   ]
  },
  {
   "cell_type": "markdown",
   "metadata": {
    "id": "aBixA4AfPB8V"
   },
   "source": [
    "### Model"
   ]
  },
  {
   "cell_type": "code",
   "execution_count": null,
   "metadata": {
    "colab": {
     "base_uri": "https://localhost:8080/"
    },
    "id": "rPwLf1Se5c9t",
    "outputId": "f4004a18-eee9-4c54-f835-06993f3b3afa"
   },
   "outputs": [],
   "source": [
    "class Model(nn.Module):\n",
    "    def __init__(self, input_size: int, hidden_dim: int, n_classes: int):\n",
    "        super(Model, self).__init__()\n",
    "        self.seq_model = nn.Sequential(\n",
    "            nn.Linear(input_size, hidden_dim * 2),\n",
    "            nn.ReLU(),\n",
    "            nn.Linear(hidden_dim * 2, hidden_dim),\n",
    "            nn.ReLU(),\n",
    "            nn.Linear(hidden_dim, hidden_dim // 2),\n",
    "            nn.ReLU(),\n",
    "            nn.Linear(hidden_dim // 2, n_classes),\n",
    "        )\n",
    "\n",
    "    def forward(self, input):\n",
    "        x = input.view(-1, 32 * 32 * 3)\n",
    "        return self.seq_model(x)\n",
    "\n",
    "\n",
    "model = Model(parameters[\"input_size\"], parameters[\"input_size\"], parameters[\"n_classes\"]).to(\n",
    "    parameters[\"device\"]\n",
    ")\n",
    "criterion = nn.CrossEntropyLoss()\n",
    "optimizer = optim.SGD(model.parameters(), lr=parameters[\"lr\"])"
   ]
  },
  {
   "cell_type": "markdown",
   "metadata": {
    "id": "Pd1TldM6PMqn"
   },
   "source": [
    "### Data"
   ]
  },
  {
   "cell_type": "code",
   "execution_count": null,
   "metadata": {
    "id": "10_eKez4PI5G"
   },
   "outputs": [],
   "source": [
    "data_dir = \"data/CIFAR10\"\n",
    "compressed_ds = \"./data/CIFAR10/cifar-10-python.tar.gz\"\n",
    "data_tfms = {\n",
    "    \"train\": transforms.Compose(\n",
    "        [\n",
    "            transforms.RandomHorizontalFlip(),\n",
    "            transforms.ToTensor(),\n",
    "            transforms.Normalize([0.485, 0.456, 0.406], [0.229, 0.224, 0.225]),\n",
    "        ]\n",
    "    )\n",
    "}\n",
    "\n",
    "trainset = datasets.CIFAR10(data_dir, transform=data_tfms[\"train\"], download=True)\n",
    "trainloader = DataLoader(trainset, batch_size=parameters[\"batch_size\"], shuffle=True, num_workers=0)"
   ]
  },
  {
   "attachments": {},
   "cell_type": "markdown",
   "metadata": {
    "id": "ssYaFqvz42M9"
   },
   "source": [
    "## Save checkpoint"
   ]
  },
  {
   "cell_type": "code",
   "execution_count": null,
   "metadata": {
    "colab": {
     "base_uri": "https://localhost:8080/"
    },
    "id": "iCLjFolC5VqQ",
    "outputId": "e4fdd7ba-bf3c-4f48-94e2-4c73a653f844"
   },
   "outputs": [],
   "source": [
    "# (Neptune) Initialize a new run\n",
    "run = neptune.init_run()"
   ]
  },
  {
   "cell_type": "code",
   "execution_count": null,
   "metadata": {
    "id": "eltHkOZRiocg"
   },
   "outputs": [],
   "source": [
    "# (Neptune) Log hyperparameters\n",
    "run[\"parameters\"] = stringify_unsupported(parameters)"
   ]
  },
  {
   "cell_type": "code",
   "execution_count": null,
   "metadata": {
    "id": "2GlzY3ZWhGdh"
   },
   "outputs": [],
   "source": [
    "train(run, model, trainloader, criterion, optimizer, parameters)"
   ]
  },
  {
   "cell_type": "code",
   "execution_count": null,
   "metadata": {
    "id": "korW67Lto-3x"
   },
   "outputs": [],
   "source": [
    "run_id = run[\"sys/id\"].fetch()  # Get the run id to use downstream"
   ]
  },
  {
   "cell_type": "markdown",
   "metadata": {
    "id": "PHYI_K8N9RDx"
   },
   "source": [
    "## Stop logging\n",
    "\n",
    "Once you are done logging, stop tracking the run."
   ]
  },
  {
   "cell_type": "code",
   "execution_count": null,
   "metadata": {
    "colab": {
     "base_uri": "https://localhost:8080/"
    },
    "id": "yblkmt1Xo70g",
    "outputId": "79e57b0a-6662-411f-9254-b7b896d1e1db"
   },
   "outputs": [],
   "source": [
    "run.stop()"
   ]
  },
  {
   "attachments": {},
   "cell_type": "markdown",
   "metadata": {
    "id": "EyI9wn5G4zTj"
   },
   "source": [
    "## Fetch and load checkpoints from Neptune  "
   ]
  },
  {
   "cell_type": "code",
   "execution_count": null,
   "metadata": {
    "colab": {
     "base_uri": "https://localhost:8080/"
    },
    "id": "HDfg14k03MzE",
    "outputId": "1c618944-39ff-49e1-c0f8-da310cce51eb"
   },
   "outputs": [],
   "source": [
    "# (Neptune) Initialize existing run\n",
    "run = neptune.init_run(\n",
    "    with_id=run_id,  # Replace this with the ID of the run you want to restart\n",
    ")"
   ]
  },
  {
   "cell_type": "code",
   "execution_count": null,
   "metadata": {
    "id": "5l2J2NAt3Tfe"
   },
   "outputs": [],
   "source": [
    "# (Neptune) Fetch hyperparameters\n",
    "parameters = run[\"parameters\"].fetch()\n",
    "parameters[\"num_epochs\"] = 2\n",
    "run[\"parameters\"] = stringify_unsupported(parameters)\n",
    "\n",
    "# (Neptune) Fetch and load checkpoint\n",
    "checkpoints = run.get_structure()[\"checkpoints\"]\n",
    "epochs = [\n",
    "    int(checkpoint.split(\"_\")[-1]) for checkpoint in checkpoints\n",
    "]  # Fetch the epochs of the checkpoints\n",
    "epochs.sort()  # Sort the epochs\n",
    "epoch = epochs[-1]  # Fetch the last epoch\n",
    "checkpoint = load_checkpoint(run, epoch)  # Load the checkpoint\n",
    "\n",
    "# Load model and optimizer state\n",
    "model.load_state_dict(checkpoint[\"model_state_dict\"])\n",
    "optimizer.load_state_dict(checkpoint[\"optimizer_state_dict\"])"
   ]
  },
  {
   "attachments": {},
   "cell_type": "markdown",
   "metadata": {},
   "source": [
    "## Resume training from checkpoint"
   ]
  },
  {
   "cell_type": "code",
   "execution_count": null,
   "metadata": {
    "id": "eFdebm38istW"
   },
   "outputs": [],
   "source": [
    "train(run, model, trainloader, criterion, optimizer, parameters, start_epoch=checkpoint[\"epoch\"])"
   ]
  },
  {
   "cell_type": "markdown",
   "metadata": {
    "id": "fMKglR-Q9Yqr"
   },
   "source": [
    "## Stop logging\n",
    "\n",
    "Once you are done logging, stop tracking the run."
   ]
  },
  {
   "cell_type": "code",
   "execution_count": null,
   "metadata": {
    "colab": {
     "base_uri": "https://localhost:8080/"
    },
    "id": "ANcA84Qh9XSw",
    "outputId": "54c88c9d-6038-43c8-e062-508233838840"
   },
   "outputs": [],
   "source": [
    "run.stop()"
   ]
  },
  {
   "attachments": {},
   "cell_type": "markdown",
   "metadata": {},
   "source": [
    "## Conclusion\n",
    "\n",
    "You learned how to save, load, and resume the training from a saved checkpoint using Neptune.\n",
    "\n",
    "Visit our docs for more tutorials and guides on how to use Neptune: https://docs.neptune.ai"
   ]
  }
 ],
 "metadata": {
  "colab": {
   "provenance": []
  },
  "kernelspec": {
   "display_name": "Python 3",
   "name": "python3"
  },
  "language_info": {
   "codemirror_mode": {
    "name": "ipython",
    "version": 3
   },
   "file_extension": ".py",
   "mimetype": "text/x-python",
   "name": "python",
   "nbconvert_exporter": "python",
   "pygments_lexer": "ipython3",
   "version": "3.10.11"
  }
 },
 "nbformat": 4,
 "nbformat_minor": 0
}
