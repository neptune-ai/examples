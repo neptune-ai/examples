{
  "cells": [
    {
      "cell_type": "markdown",
      "metadata": {
        "id": "THIzFFk81nme"
      },
      "source": [
        "# How to re-run failed training\n",
        "\n",
        "## Before you start\n",
        "\n",
        "### Install dependencies"
      ]
    },
    {
      "cell_type": "code",
      "execution_count": null,
      "metadata": {
        "colab": {
          "base_uri": "https://localhost:8080/"
        },
        "id": "54CFqKRANLK5",
        "outputId": "3612c157-e2e0-4092-9f23-ffb2a8846c4f",
        "tags": []
      },
      "outputs": [],
      "source": [
        "! pip install -U neptune-client torch==1.10.2 torchvision==0.11.3"
      ]
    },
    {
      "cell_type": "markdown",
      "metadata": {
        "id": "90-k5eK205uM"
      },
      "source": [
        "# Basic example"
      ]
    },
    {
      "cell_type": "markdown",
      "metadata": {
        "id": "gXve6tFt1dLd"
      },
      "source": [
        "**Import libraries**"
      ]
    },
    {
      "cell_type": "code",
      "execution_count": null,
      "metadata": {
        "id": "n1NVL5h6MlLq",
        "tags": []
      },
      "outputs": [],
      "source": [
        "import neptune.new as neptune\n",
        "import torch\n",
        "import torch.nn as nn\n",
        "import torch.optim as optim\n",
        "from torchvision import datasets, transforms"
      ]
    },
    {
      "cell_type": "markdown",
      "metadata": {
        "id": "KdpS2pD5HvN2"
      },
      "source": [
        "## Step 1: Get Run ID\n",
        "You will get the Run ID of the failed run **programmatically**."
      ]
    },
    {
      "cell_type": "code",
      "execution_count": null,
      "metadata": {
        "id": "Bod3d1otHtn7"
      },
      "outputs": [],
      "source": [
        "# Fetch project\n",
        "project = neptune.get_project(name='common/showroom', api_token='ANONYMOUS')\n",
        "\n",
        "# Fetch only inactive runs\n",
        "runs_table_df = project.fetch_runs_table(state=\"idle\", tag=['showcase-run']).to_pandas()\n",
        "\n",
        "# Sort runs by failed \n",
        "runs_table_df = runs_table_df.sort_values(by='sys/failed', ascending=True)\n",
        "\n",
        "# Extract the last failed run's id\n",
        "failed_run_id = runs_table_df[runs_table_df['sys/failed']==True]['sys/id'].values[0]"
      ]
    },
    {
      "cell_type": "code",
      "execution_count": null,
      "metadata": {
        "colab": {
          "base_uri": "https://localhost:8080/",
          "height": 35
        },
        "id": "eEFG0Jn8PNNg",
        "outputId": "6b751bfa-a254-4995-f1ac-9e48953695f5"
      },
      "outputs": [],
      "source": [
        "print('Failed_run_id = ', failed_run_id)"
      ]
    },
    {
      "cell_type": "markdown",
      "metadata": {
        "id": "kfqmkNLB1SRu"
      },
      "source": [
        "## Step 2: Resume run\n",
        "Use the neptune.init() method to:\n",
        "* Re-open a run using the ID you got from the previous step \n",
        "* Re-open it in the `read-only` mode\n",
        "\n",
        "You use the `read-only` mode so the metadata previously logged to the run is not accidentally changed. Also, you can re-open a run as many times as needed.\n"
      ]
    },
    {
      "cell_type": "code",
      "execution_count": null,
      "metadata": {
        "colab": {
          "base_uri": "https://localhost:8080/"
        },
        "id": "YIAK4NasfQ_f",
        "outputId": "0ba95ae9-6520-4323-f67a-a9d6bdcb42da"
      },
      "outputs": [],
      "source": [
        "failed_run = neptune.init(\n",
        "    project=\"common/showroom\",\n",
        "    api_token=\"ANONYMOUS\",\n",
        "    mode=\"read-only\",\n",
        "    run=failed_run_id\n",
        ")"
      ]
    },
    {
      "cell_type": "markdown",
      "metadata": {
        "id": "-WbPjLDk1GcC"
      },
      "source": [
        "## Step 3: Fetching and downloading data from Neptune\n",
        "\n",
        "Fetch metadata(dataset and hyperparameters) needed to re-run the training. Precisely, you will download the hyperparameters used in the failed run to instantiate a model with the same configuration and then you will download the dataset path to get the same dataset too.\n",
        "\n",
        "To do that:"
      ]
    },
    {
      "cell_type": "markdown",
      "metadata": {
        "id": "_E_T5gUvA6kP"
      },
      "source": [
        "### Use the  [.download()](https://docs.neptune.ai/api-reference/field-types#.download-3) method to retrieve the [dataset artifact](https://docs.neptune.ai/api-reference/field-types#artifact) to your local disk:"
      ]
    },
    {
      "cell_type": "code",
      "execution_count": null,
      "metadata": {
        "id": "XcfHQqomSrAT"
      },
      "outputs": [],
      "source": [
        "data_dir = 'data'"
      ]
    },
    {
      "cell_type": "code",
      "execution_count": null,
      "metadata": {
        "id": "8j0cP5ZTA5AJ"
      },
      "outputs": [],
      "source": [
        "failed_run['artifacts/dataset'].download(destination=data_dir)"
      ]
    },
    {
      "cell_type": "markdown",
      "metadata": {
        "id": "BVJKNQxIYPAC"
      },
      "source": [
        "### Use the [.fetch()](https://docs.neptune.ai/api-reference/field-types#.fetch-1) method to retrieve hyperparameters:"
      ]
    },
    {
      "cell_type": "code",
      "execution_count": null,
      "metadata": {
        "id": "k_8vefGCNBIJ"
      },
      "outputs": [],
      "source": [
        "# fetching non-file values \n",
        "failed_run_params = failed_run['config/hyperparameters'].fetch()"
      ]
    },
    {
      "cell_type": "markdown",
      "metadata": {
        "id": "RxC8thpFHl-H"
      },
      "source": [
        "## Step 4: Create a new run\n",
        "Create a new Neptune run that will be used to log metadata in the re-run session."
      ]
    },
    {
      "cell_type": "code",
      "execution_count": null,
      "metadata": {
        "colab": {
          "base_uri": "https://localhost:8080/"
        },
        "id": "ruRMeJUiHWE7",
        "outputId": "b2f38fed-0482-4063-c426-657d92ea907e"
      },
      "outputs": [],
      "source": [
        "new_run = neptune.init(\n",
        "    project=\"common/showroom\",\n",
        "    api_token=\"ANONYMOUS\",\n",
        "    tags=['re-run', 'successful training'],\n",
        ")"
      ]
    },
    {
      "cell_type": "markdown",
      "metadata": {
        "id": "qRaqN0ug1KP_"
      },
      "source": [
        "## Step 5: Log new training metadata\n",
        "Now you can continue working and logging metadata to a brand new Run.\n",
        "You can log metadata using the [Neptune API Client](https://docs.neptune.ai/you-should-know/what-can-you-log-and-display)."
      ]
    },
    {
      "cell_type": "markdown",
      "metadata": {
        "id": "a1NWcSL5Vvzu"
      },
      "source": [
        "### Log copy of dataset artifact from failed_run to new run"
      ]
    },
    {
      "cell_type": "code",
      "execution_count": null,
      "metadata": {
        "id": "kYWBEZHmVHEr"
      },
      "outputs": [],
      "source": [
        "new_run[\"artifacts/dataset\"].assign(failed_run[\"artifacts/dataset\"].fetch())"
      ]
    },
    {
      "cell_type": "markdown",
      "metadata": {
        "id": "7hX3kXvCV7UD"
      },
      "source": [
        "### Log Hyperparameters from failed run to new run"
      ]
    },
    {
      "cell_type": "code",
      "execution_count": null,
      "metadata": {
        "id": "K82iRFAoV6jT"
      },
      "outputs": [],
      "source": [
        "new_run[\"config/hyperparameters\"] = failed_run_params"
      ]
    },
    {
      "cell_type": "markdown",
      "metadata": {
        "id": "M1po8V5NG3nN"
      },
      "source": [
        "### Load Dataset and Model"
      ]
    },
    {
      "cell_type": "markdown",
      "metadata": {
        "id": "rrUvnoY5SOmj"
      },
      "source": [
        "Dataset"
      ]
    },
    {
      "cell_type": "code",
      "execution_count": null,
      "metadata": {
        "id": "W2gKRp-8THxa"
      },
      "outputs": [],
      "source": [
        "data_tfms = {\n",
        "    \"train\": transforms.Compose(\n",
        "        [\n",
        "            transforms.RandomHorizontalFlip(),\n",
        "            transforms.ToTensor(),\n",
        "            transforms.Normalize([0.485, 0.456, 0.406], [0.229, 0.224, 0.225]),\n",
        "        ]\n",
        "    ),\n",
        "}"
      ]
    },
    {
      "cell_type": "code",
      "execution_count": null,
      "metadata": {
        "id": "oMa-mrc64qjz"
      },
      "outputs": [],
      "source": [
        "trainset = datasets.CIFAR10(data_dir+'/CIFAR10', transform=data_tfms[\"train\"], download=False)\n",
        "trainloader = torch.utils.data.DataLoader(\n",
        "    trainset, batch_size=failed_run_params[\"bs\"], shuffle=True, num_workers=2\n",
        ")"
      ]
    },
    {
      "cell_type": "markdown",
      "metadata": {
        "id": "P2rAXguq0_IZ"
      },
      "source": [
        "Model"
      ]
    },
    {
      "cell_type": "code",
      "execution_count": null,
      "metadata": {
        "id": "qwdf0rrklZWi"
      },
      "outputs": [],
      "source": [
        "class BaseModel(nn.Module):\n",
        "    def __init__(self, input_sz, hidden_dim, n_classes):\n",
        "        super(BaseModel, self).__init__()\n",
        "        self.main = nn.Sequential(\n",
        "            nn.Linear(input_sz, hidden_dim * 2),\n",
        "            nn.ReLU(),\n",
        "            nn.Linear(hidden_dim * 2, hidden_dim),\n",
        "            nn.ReLU(),\n",
        "            nn.Linear(hidden_dim, hidden_dim // 2),\n",
        "            nn.ReLU(),\n",
        "            nn.Linear(hidden_dim // 2, n_classes),\n",
        "        )\n",
        "\n",
        "    def forward(self, input):\n",
        "        x = input.view(-1, 32 * 32 * 3)\n",
        "        return self.main(x)"
      ]
    },
    {
      "cell_type": "code",
      "execution_count": null,
      "metadata": {
        "id": "i19Y0g3YGvV2"
      },
      "outputs": [],
      "source": [
        "model = BaseModel(\n",
        "    failed_run_params[\"input_sz\"], failed_run_params[\"input_sz\"], failed_run_params[\"n_classes\"]\n",
        ").to(failed_run_params[\"device\"])\n",
        "criterion = nn.CrossEntropyLoss()\n",
        "optimizer = optim.SGD(model.parameters(), lr=failed_run_params[\"lr\"])"
      ]
    },
    {
      "cell_type": "markdown",
      "metadata": {
        "id": "ASgLO3T3W-cw"
      },
      "source": [
        "### Log losses and metrics"
      ]
    },
    {
      "cell_type": "code",
      "execution_count": null,
      "metadata": {
        "colab": {
          "base_uri": "https://localhost:8080/"
        },
        "id": "MgGfdruzNB3t",
        "outputId": "e049c918-0ae3-4143-8f88-b26cdf2084bc"
      },
      "outputs": [],
      "source": [
        "for i, (x, y) in enumerate(trainloader, 0):\n",
        "    x, y = x.to(failed_run_params[\"device\"]), y.to(failed_run_params[\"device\"])\n",
        "    optimizer.zero_grad()\n",
        "    outputs = model.forward(x)\n",
        "    _, preds = torch.max(outputs, 1)\n",
        "    loss = criterion(outputs, y)\n",
        "    acc = (torch.sum(preds == y.data)) / len(x)\n",
        "\n",
        "    new_run[\"training/batch/loss\"].log(loss)\n",
        "\n",
        "    new_run[\"training/batch/acc\"].log(acc)\n",
        "\n",
        "    loss.backward()\n",
        "    optimizer.step()"
      ]
    },
    {
      "cell_type": "markdown",
      "metadata": {
        "id": "JhE6C9xv-lXK"
      },
      "source": [
        "# Stop run\n",
        "\n",
        "<font color=red>**Warning:**</font><br>\n",
        "Once you are done logging, you should stop tracking the run using the `stop()` method.\n",
        "This is needed only while logging from a notebook environment. While logging through a script, Neptune automatically stops tracking once the script has completed execution."
      ]
    },
    {
      "cell_type": "code",
      "execution_count": null,
      "metadata": {
        "id": "Meg02T9p9314",
        "tags": []
      },
      "outputs": [],
      "source": [
        "failed_run.stop()\n",
        "new_run.stop()"
      ]
    }
  ],
  "metadata": {
    "accelerator": "GPU",
    "colab": {
      "collapsed_sections": [],
      "name": "re-run-failed-training.ipynb",
      "provenance": []
    },
    "kernelspec": {
      "display_name": "Python (neptune)",
      "language": "python",
      "name": "neptune"
    },
    "language_info": {
      "codemirror_mode": {
        "name": "ipython",
        "version": 3
      },
      "file_extension": ".py",
      "mimetype": "text/x-python",
      "name": "python",
      "nbconvert_exporter": "python",
      "pygments_lexer": "ipython3",
      "version": "3.8.5"
    }
  },
  "nbformat": 4,
  "nbformat_minor": 0
}
