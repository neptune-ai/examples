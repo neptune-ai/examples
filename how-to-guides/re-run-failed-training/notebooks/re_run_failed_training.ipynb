{
  "cells": [
    {
      "cell_type": "markdown",
      "metadata": {
        "id": "THIzFFk81nme"
      },
      "source": [
        "# How to re-run failed training\n",
        "\n",
        "## Before you start\n",
        "\n",
        "### Install dependencies"
      ]
    },
    {
      "cell_type": "code",
      "execution_count": 2,
      "metadata": {
        "colab": {
          "base_uri": "https://localhost:8080/"
        },
        "id": "54CFqKRANLK5",
        "outputId": "3612c157-e2e0-4092-9f23-ffb2a8846c4f",
        "tags": []
      },
      "outputs": [
        {
          "name": "stdout",
          "output_type": "stream",
          "text": [
            "Collecting neptune-client\n",
            "  Downloading neptune-client-0.12.1.tar.gz (275 kB)\n",
            "\u001b[?25l\r\u001b[K     |█▏                              | 10 kB 30.9 MB/s eta 0:00:01\r\u001b[K     |██▍                             | 20 kB 28.4 MB/s eta 0:00:01\r\u001b[K     |███▋                            | 30 kB 21.4 MB/s eta 0:00:01\r\u001b[K     |████▊                           | 40 kB 17.7 MB/s eta 0:00:01\r\u001b[K     |██████                          | 51 kB 13.7 MB/s eta 0:00:01\r\u001b[K     |███████▏                        | 61 kB 12.5 MB/s eta 0:00:01\r\u001b[K     |████████▎                       | 71 kB 11.9 MB/s eta 0:00:01\r\u001b[K     |█████████▌                      | 81 kB 13.1 MB/s eta 0:00:01\r\u001b[K     |██████████▊                     | 92 kB 13.8 MB/s eta 0:00:01\r\u001b[K     |████████████                    | 102 kB 10.9 MB/s eta 0:00:01\r\u001b[K     |█████████████                   | 112 kB 10.9 MB/s eta 0:00:01\r\u001b[K     |██████████████▎                 | 122 kB 10.9 MB/s eta 0:00:01\r\u001b[K     |███████████████▌                | 133 kB 10.9 MB/s eta 0:00:01\r\u001b[K     |████████████████▋               | 143 kB 10.9 MB/s eta 0:00:01\r\u001b[K     |█████████████████▉              | 153 kB 10.9 MB/s eta 0:00:01\r\u001b[K     |███████████████████             | 163 kB 10.9 MB/s eta 0:00:01\r\u001b[K     |████████████████████▎           | 174 kB 10.9 MB/s eta 0:00:01\r\u001b[K     |█████████████████████▍          | 184 kB 10.9 MB/s eta 0:00:01\r\u001b[K     |██████████████████████▋         | 194 kB 10.9 MB/s eta 0:00:01\r\u001b[K     |███████████████████████▉        | 204 kB 10.9 MB/s eta 0:00:01\r\u001b[K     |█████████████████████████       | 215 kB 10.9 MB/s eta 0:00:01\r\u001b[K     |██████████████████████████▏     | 225 kB 10.9 MB/s eta 0:00:01\r\u001b[K     |███████████████████████████▍    | 235 kB 10.9 MB/s eta 0:00:01\r\u001b[K     |████████████████████████████▋   | 245 kB 10.9 MB/s eta 0:00:01\r\u001b[K     |█████████████████████████████▊  | 256 kB 10.9 MB/s eta 0:00:01\r\u001b[K     |███████████████████████████████ | 266 kB 10.9 MB/s eta 0:00:01\r\u001b[K     |████████████████████████████████| 275 kB 10.9 MB/s \n",
            "\u001b[?25hRequirement already satisfied: numpy==1.19.5 in /usr/local/lib/python3.7/dist-packages (1.19.5)\n",
            "Requirement already satisfied: torch==1.9.0 in /usr/local/lib/python3.7/dist-packages (1.9.0+cu111)\n",
            "Requirement already satisfied: torchvision==0.10.0 in /usr/local/lib/python3.7/dist-packages (0.10.0+cu111)\n",
            "Requirement already satisfied: typing-extensions in /usr/local/lib/python3.7/dist-packages (from torch==1.9.0) (3.7.4.3)\n",
            "Requirement already satisfied: pillow>=5.3.0 in /usr/local/lib/python3.7/dist-packages (from torchvision==0.10.0) (7.1.2)\n",
            "Collecting bravado\n",
            "  Downloading bravado-11.0.3-py2.py3-none-any.whl (38 kB)\n",
            "Requirement already satisfied: click>=7.0 in /usr/local/lib/python3.7/dist-packages (from neptune-client) (7.1.2)\n",
            "Collecting future>=0.17.1\n",
            "  Downloading future-0.18.2.tar.gz (829 kB)\n",
            "\u001b[K     |████████████████████████████████| 829 kB 47.7 MB/s \n",
            "\u001b[?25hRequirement already satisfied: oauthlib>=2.1.0 in /usr/local/lib/python3.7/dist-packages (from neptune-client) (3.1.1)\n",
            "Requirement already satisfied: pandas in /usr/local/lib/python3.7/dist-packages (from neptune-client) (1.1.5)\n",
            "Collecting PyJWT\n",
            "  Downloading PyJWT-2.2.0-py3-none-any.whl (16 kB)\n",
            "Requirement already satisfied: requests>=2.20.0 in /usr/local/lib/python3.7/dist-packages (from neptune-client) (2.23.0)\n",
            "Requirement already satisfied: requests-oauthlib>=1.0.0 in /usr/local/lib/python3.7/dist-packages (from neptune-client) (1.3.0)\n",
            "Requirement already satisfied: six>=1.12.0 in /usr/local/lib/python3.7/dist-packages (from neptune-client) (1.15.0)\n",
            "Collecting websocket-client!=1.0.0,>=0.35.0\n",
            "  Downloading websocket_client-1.2.1-py2.py3-none-any.whl (52 kB)\n",
            "\u001b[K     |████████████████████████████████| 52 kB 1.4 MB/s \n",
            "\u001b[?25hCollecting GitPython>=2.0.8\n",
            "  Downloading GitPython-3.1.24-py3-none-any.whl (180 kB)\n",
            "\u001b[K     |████████████████████████████████| 180 kB 41.5 MB/s \n",
            "\u001b[?25hCollecting boto3>=1.16.0\n",
            "  Downloading boto3-1.18.60-py3-none-any.whl (131 kB)\n",
            "\u001b[K     |████████████████████████████████| 131 kB 42.3 MB/s \n",
            "\u001b[?25hRequirement already satisfied: packaging in /usr/local/lib/python3.7/dist-packages (from neptune-client) (21.0)\n",
            "Requirement already satisfied: urllib3 in /usr/local/lib/python3.7/dist-packages (from neptune-client) (1.24.3)\n",
            "Requirement already satisfied: jsonschema<4 in /usr/local/lib/python3.7/dist-packages (from neptune-client) (2.6.0)\n",
            "Requirement already satisfied: psutil in /usr/local/lib/python3.7/dist-packages (from neptune-client) (5.4.8)\n",
            "Collecting botocore<1.22.0,>=1.21.60\n",
            "  Downloading botocore-1.21.60-py3-none-any.whl (8.0 MB)\n",
            "\u001b[K     |████████████████████████████████| 8.0 MB 49.9 MB/s \n",
            "\u001b[?25hCollecting jmespath<1.0.0,>=0.7.1\n",
            "  Downloading jmespath-0.10.0-py2.py3-none-any.whl (24 kB)\n",
            "Collecting s3transfer<0.6.0,>=0.5.0\n",
            "  Downloading s3transfer-0.5.0-py3-none-any.whl (79 kB)\n",
            "\u001b[K     |████████████████████████████████| 79 kB 6.8 MB/s \n",
            "\u001b[?25hCollecting urllib3\n",
            "  Downloading urllib3-1.26.7-py2.py3-none-any.whl (138 kB)\n",
            "\u001b[K     |████████████████████████████████| 138 kB 50.7 MB/s \n",
            "\u001b[?25hRequirement already satisfied: python-dateutil<3.0.0,>=2.1 in /usr/local/lib/python3.7/dist-packages (from botocore<1.22.0,>=1.21.60->boto3>=1.16.0->neptune-client) (2.8.2)\n",
            "Collecting gitdb<5,>=4.0.1\n",
            "  Downloading gitdb-4.0.7-py3-none-any.whl (63 kB)\n",
            "\u001b[K     |████████████████████████████████| 63 kB 1.9 MB/s \n",
            "\u001b[?25hCollecting smmap<5,>=3.0.1\n",
            "  Downloading smmap-4.0.0-py2.py3-none-any.whl (24 kB)\n",
            "Collecting urllib3\n",
            "  Downloading urllib3-1.25.11-py2.py3-none-any.whl (127 kB)\n",
            "\u001b[K     |████████████████████████████████| 127 kB 50.3 MB/s \n",
            "\u001b[?25hRequirement already satisfied: chardet<4,>=3.0.2 in /usr/local/lib/python3.7/dist-packages (from requests>=2.20.0->neptune-client) (3.0.4)\n",
            "Requirement already satisfied: idna<3,>=2.5 in /usr/local/lib/python3.7/dist-packages (from requests>=2.20.0->neptune-client) (2.10)\n",
            "Requirement already satisfied: certifi>=2017.4.17 in /usr/local/lib/python3.7/dist-packages (from requests>=2.20.0->neptune-client) (2021.5.30)\n",
            "Collecting bravado-core>=5.16.1\n",
            "  Downloading bravado_core-5.17.0-py2.py3-none-any.whl (67 kB)\n",
            "\u001b[K     |████████████████████████████████| 67 kB 6.2 MB/s \n",
            "\u001b[?25hCollecting simplejson\n",
            "  Downloading simplejson-3.17.5-cp37-cp37m-manylinux_2_5_x86_64.manylinux1_x86_64.manylinux_2_12_x86_64.manylinux2010_x86_64.whl (129 kB)\n",
            "\u001b[K     |████████████████████████████████| 129 kB 52.3 MB/s \n",
            "\u001b[?25hCollecting monotonic\n",
            "  Downloading monotonic-1.6-py2.py3-none-any.whl (8.2 kB)\n",
            "Requirement already satisfied: msgpack in /usr/local/lib/python3.7/dist-packages (from bravado->neptune-client) (1.0.2)\n",
            "Requirement already satisfied: pyyaml in /usr/local/lib/python3.7/dist-packages (from bravado->neptune-client) (3.13)\n",
            "Requirement already satisfied: pytz in /usr/local/lib/python3.7/dist-packages (from bravado-core>=5.16.1->bravado->neptune-client) (2018.9)\n",
            "Collecting swagger-spec-validator>=2.0.1\n",
            "  Downloading swagger_spec_validator-2.7.3-py2.py3-none-any.whl (27 kB)\n",
            "Collecting jsonref\n",
            "  Downloading jsonref-0.2-py3-none-any.whl (9.3 kB)\n",
            "Collecting webcolors\n",
            "  Downloading webcolors-1.11.1-py3-none-any.whl (9.9 kB)\n",
            "Collecting strict-rfc3339\n",
            "  Downloading strict-rfc3339-0.7.tar.gz (17 kB)\n",
            "Collecting rfc3987\n",
            "  Downloading rfc3987-1.3.8-py2.py3-none-any.whl (13 kB)\n",
            "Requirement already satisfied: pyparsing>=2.0.2 in /usr/local/lib/python3.7/dist-packages (from packaging->neptune-client) (2.4.7)\n",
            "Building wheels for collected packages: neptune-client, future, strict-rfc3339\n",
            "  Building wheel for neptune-client (setup.py) ... \u001b[?25l\u001b[?25hdone\n",
            "  Created wheel for neptune-client: filename=neptune_client-0.12.1-py2.py3-none-any.whl size=478360 sha256=588352421c3ba00f92f13d166be1305a18784132a9f5e34a11d5b74d4623f925\n",
            "  Stored in directory: /root/.cache/pip/wheels/96/92/2f/78dedfaeb7a2b39b198652c1e5b15c2c6284f3fbe773aaacef\n",
            "  Building wheel for future (setup.py) ... \u001b[?25l\u001b[?25hdone\n",
            "  Created wheel for future: filename=future-0.18.2-py3-none-any.whl size=491070 sha256=7bfb2a65cecda3f8b1d80ce500fdfcf7bd04bcc569fa7664bc83aa406405d7ac\n",
            "  Stored in directory: /root/.cache/pip/wheels/56/b0/fe/4410d17b32f1f0c3cf54cdfb2bc04d7b4b8f4ae377e2229ba0\n",
            "  Building wheel for strict-rfc3339 (setup.py) ... \u001b[?25l\u001b[?25hdone\n",
            "  Created wheel for strict-rfc3339: filename=strict_rfc3339-0.7-py3-none-any.whl size=18149 sha256=ec6f964d22b975141969f58723fad43f5a1f9a747bddef8c4c4093ff55817225\n",
            "  Stored in directory: /root/.cache/pip/wheels/f3/1d/9f/2a74caecb81b8beb9a4fbe1754203d4b7cf42ef5d39e0d2311\n",
            "Successfully built neptune-client future strict-rfc3339\n",
            "Installing collected packages: webcolors, urllib3, strict-rfc3339, rfc3987, jmespath, swagger-spec-validator, smmap, simplejson, jsonref, botocore, s3transfer, monotonic, gitdb, bravado-core, websocket-client, PyJWT, GitPython, future, bravado, boto3, neptune-client\n",
            "  Attempting uninstall: urllib3\n",
            "    Found existing installation: urllib3 1.24.3\n",
            "    Uninstalling urllib3-1.24.3:\n",
            "      Successfully uninstalled urllib3-1.24.3\n",
            "  Attempting uninstall: future\n",
            "    Found existing installation: future 0.16.0\n",
            "    Uninstalling future-0.16.0:\n",
            "      Successfully uninstalled future-0.16.0\n",
            "\u001b[31mERROR: pip's dependency resolver does not currently take into account all the packages that are installed. This behaviour is the source of the following dependency conflicts.\n",
            "datascience 0.10.6 requires folium==0.2.1, but you have folium 0.8.3 which is incompatible.\u001b[0m\n",
            "Successfully installed GitPython-3.1.24 PyJWT-2.2.0 boto3-1.18.60 botocore-1.21.60 bravado-11.0.3 bravado-core-5.17.0 future-0.18.2 gitdb-4.0.7 jmespath-0.10.0 jsonref-0.2 monotonic-1.6 neptune-client-0.12.1 rfc3987-1.3.8 s3transfer-0.5.0 simplejson-3.17.5 smmap-4.0.0 strict-rfc3339-0.7 swagger-spec-validator-2.7.3 urllib3-1.25.11 webcolors-1.11.1 websocket-client-1.2.1\n"
          ]
        }
      ],
      "source": [
        "! pip install -U neptune-client numpy==1.19.5 torch==1.9.0 torchvision==0.10.0"
      ]
    },
    {
      "cell_type": "markdown",
      "metadata": {
        "id": "90-k5eK205uM"
      },
      "source": [
        "# Basic example"
      ]
    },
    {
      "cell_type": "markdown",
      "metadata": {
        "id": "gXve6tFt1dLd"
      },
      "source": [
        "**Import libraries**"
      ]
    },
    {
      "cell_type": "code",
      "execution_count": 11,
      "metadata": {
        "id": "n1NVL5h6MlLq",
        "tags": []
      },
      "outputs": [],
      "source": [
        "import neptune.new as neptune\n",
        "import numpy as np\n",
        "import torch\n",
        "import torch.nn as nn\n",
        "import torch.optim as optim\n",
        "import os\n",
        "from torchvision import datasets, transforms"
      ]
    },
    {
      "cell_type": "markdown",
      "metadata": {
        "id": "KdpS2pD5HvN2"
      },
      "source": [
        "## Step 1: Get Run ID\n",
        "You will get the Run ID of the failed run **programmatically**."
      ]
    },
    {
      "cell_type": "code",
      "execution_count": 4,
      "metadata": {
        "id": "Bod3d1otHtn7"
      },
      "outputs": [],
      "source": [
        "# Fetch project\n",
        "project = neptune.get_project(name='common/showroom', api_token='ANONYMOUS')\n",
        "\n",
        "# Fetch only inactive runs\n",
        "runs_table_df = project.fetch_runs_table(state=\"idle\", tag=['showcase-run']).to_pandas()\n",
        "\n",
        "# Sort runs by failed \n",
        "runs_table_df = runs_table_df.sort_values(by='sys/failed', ascending=True)\n",
        "\n",
        "# Extract the last failed run's id\n",
        "failed_run_id = runs_table_df[runs_table_df['sys/failed']==True]['sys/id'].values[0]"
      ]
    },
    {
      "cell_type": "code",
      "execution_count": 5,
      "metadata": {
        "colab": {
          "base_uri": "https://localhost:8080/",
          "height": 35
        },
        "id": "eEFG0Jn8PNNg",
        "outputId": "6b751bfa-a254-4995-f1ac-9e48953695f5"
      },
      "outputs": [
        {
          "data": {
            "application/vnd.google.colaboratory.intrinsic+json": {
              "type": "string"
            },
            "text/plain": [
              "'SHOW-3295'"
            ]
          },
          "execution_count": 5,
          "metadata": {},
          "output_type": "execute_result"
        }
      ],
      "source": [
        "print('Failed_run_id = ', failed_run_id)"
      ]
    },
    {
      "cell_type": "markdown",
      "metadata": {
        "id": "kfqmkNLB1SRu"
      },
      "source": [
        "## Step 2: Resume run\n",
        "Use the neptune.init() method to:\n",
        "* Re-open a run using the ID you got from the previous step \n",
        "* Re-open it in the `read-only` mode\n",
        "\n",
        "You use the `read-only` mode so the metadata previously logged to the run is not accidentally changed. Also, you can re-open a run as many times as needed.\n"
      ]
    },
    {
      "cell_type": "code",
      "execution_count": 6,
      "metadata": {
        "colab": {
          "base_uri": "https://localhost:8080/"
        },
        "id": "YIAK4NasfQ_f",
        "outputId": "0ba95ae9-6520-4323-f67a-a9d6bdcb42da"
      },
      "outputs": [
        {
          "name": "stdout",
          "output_type": "stream",
          "text": [
            "https://app.neptune.ai/common/showroom/e/SHOW-3295\n",
            "Remember to stop your run once you’ve finished logging your metadata (https://docs.neptune.ai/api-reference/run#stop). It will be stopped automatically only when the notebook kernel/interactive console is terminated.\n"
          ]
        }
      ],
      "source": [
        "failed_run = neptune.init(\n",
        "    project=\"common/showroom\",\n",
        "    api_token=\"ANONYMOUS\",\n",
        "    mode=\"read-only\",\n",
        "    run=failed_run_id\n",
        ")"
      ]
    },
    {
      "cell_type": "markdown",
      "metadata": {
        "id": "-WbPjLDk1GcC"
      },
      "source": [
        "## Step 3: Fetching and downloading data from Neptune\n",
        "\n",
        "Fetch metadata(dataset and hyperparameters) needed to re-run the training. Precisely, you will download the hyperparameters used in the failed run to instantiate a model with the same configuration and then you will download the dataset path to get the same dataset too.\n",
        "\n",
        "To do that:"
      ]
    },
    {
      "cell_type": "markdown",
      "metadata": {
        "id": "_E_T5gUvA6kP"
      },
      "source": [
        "### Use the  [.download()](https://docs.neptune.ai/api-reference/field-types#.download-3) method to retrieve the [dataset artifact](https://docs.neptune.ai/api-reference/field-types#artifact) to your local disk:"
      ]
    },
    {
      "cell_type": "code",
      "execution_count": null,
      "metadata": {
        "id": "XcfHQqomSrAT"
      },
      "outputs": [],
      "source": [
        "data_dir = 'data'"
      ]
    },
    {
      "cell_type": "code",
      "execution_count": 21,
      "metadata": {
        "id": "8j0cP5ZTA5AJ"
      },
      "outputs": [],
      "source": [
        "failed_run['artifacts/dataset'].download(destination=data_dir)"
      ]
    },
    {
      "cell_type": "markdown",
      "metadata": {
        "id": "BVJKNQxIYPAC"
      },
      "source": [
        "### Use the [.fetch()](https://docs.neptune.ai/api-reference/field-types#.fetch-1) method to retrieve hyperparameters:"
      ]
    },
    {
      "cell_type": "code",
      "execution_count": 14,
      "metadata": {
        "id": "k_8vefGCNBIJ"
      },
      "outputs": [],
      "source": [
        "# fetching non-file values \n",
        "failed_run_params = failed_run['config/hyperparameters'].fetch()"
      ]
    },
    {
      "cell_type": "markdown",
      "metadata": {
        "id": "RxC8thpFHl-H"
      },
      "source": [
        "## Step 4: Create a new run\n",
        "Create a new Neptune run that will be used to log metadata in the re-run session."
      ]
    },
    {
      "cell_type": "code",
      "execution_count": 17,
      "metadata": {
        "colab": {
          "base_uri": "https://localhost:8080/"
        },
        "id": "ruRMeJUiHWE7",
        "outputId": "b2f38fed-0482-4063-c426-657d92ea907e"
      },
      "outputs": [
        {
          "name": "stdout",
          "output_type": "stream",
          "text": [
            "https://app.neptune.ai/common/showroom/e/SHOW-3296\n",
            "Remember to stop your run once you’ve finished logging your metadata (https://docs.neptune.ai/api-reference/run#stop). It will be stopped automatically only when the notebook kernel/interactive console is terminated.\n"
          ]
        }
      ],
      "source": [
        "new_run = neptune.init(\n",
        "    project=\"common/showroom\",\n",
        "    tags=['re-run', 'successful training'],\n",
        "    api_token=\"ANONYMOUS\"\n",
        ")"
      ]
    },
    {
      "cell_type": "markdown",
      "metadata": {
        "id": "qRaqN0ug1KP_"
      },
      "source": [
        "## Step 5: Log new training metadata\n",
        "Now you can continue working and logging metadata to a brand new Run.\n",
        "You can log metadata using the [Neptune API Client](https://docs.neptune.ai/you-should-know/what-can-you-log-and-display)."
      ]
    },
    {
      "cell_type": "markdown",
      "metadata": {
        "id": "a1NWcSL5Vvzu"
      },
      "source": [
        "### Log copy of dataset artifact from failed_run to new run"
      ]
    },
    {
      "cell_type": "code",
      "execution_count": 18,
      "metadata": {
        "id": "kYWBEZHmVHEr"
      },
      "outputs": [],
      "source": [
        "new_run[\"artifacts/dataset\"].assign(failed_run[\"artifacts/dataset\"].fetch())"
      ]
    },
    {
      "cell_type": "markdown",
      "metadata": {
        "id": "7hX3kXvCV7UD"
      },
      "source": [
        "### Log Hyperparameters from failed run to new run"
      ]
    },
    {
      "cell_type": "code",
      "execution_count": 19,
      "metadata": {
        "id": "K82iRFAoV6jT"
      },
      "outputs": [],
      "source": [
        "new_run[\"config/hyperparameters\"] = failed_run_params"
      ]
    },
    {
      "cell_type": "markdown",
      "metadata": {
        "id": "M1po8V5NG3nN"
      },
      "source": [
        "### Load Dataset and Model"
      ]
    },
    {
      "cell_type": "markdown",
      "metadata": {
        "id": "rrUvnoY5SOmj"
      },
      "source": [
        "Dataset"
      ]
    },
    {
      "cell_type": "code",
      "execution_count": 20,
      "metadata": {
        "id": "W2gKRp-8THxa"
      },
      "outputs": [],
      "source": [
        "data_tfms = {\n",
        "    \"train\": transforms.Compose(\n",
        "        [\n",
        "            transforms.RandomHorizontalFlip(),\n",
        "            transforms.ToTensor(),\n",
        "            transforms.Normalize([0.485, 0.456, 0.406], [0.229, 0.224, 0.225]),\n",
        "        ]\n",
        "    ),\n",
        "}"
      ]
    },
    {
      "cell_type": "code",
      "execution_count": 26,
      "metadata": {
        "id": "oMa-mrc64qjz"
      },
      "outputs": [],
      "source": [
        "trainset = datasets.CIFAR10(data_dir+'/CIFAR10', transform=data_tfms[\"train\"], download=False)\n",
        "trainloader = torch.utils.data.DataLoader(\n",
        "    trainset, batch_size=failed_run_params[\"bs\"], shuffle=True, num_workers=2\n",
        ")"
      ]
    },
    {
      "cell_type": "markdown",
      "metadata": {
        "id": "P2rAXguq0_IZ"
      },
      "source": [
        "Model"
      ]
    },
    {
      "cell_type": "code",
      "execution_count": 27,
      "metadata": {
        "id": "qwdf0rrklZWi"
      },
      "outputs": [],
      "source": [
        "class BaseModel(nn.Module):\n",
        "    def __init__(self, input_sz, hidden_dim, n_classes):\n",
        "        super(BaseModel, self).__init__()\n",
        "        self.main = nn.Sequential(\n",
        "            nn.Linear(input_sz, hidden_dim * 2),\n",
        "            nn.ReLU(),\n",
        "            nn.Linear(hidden_dim * 2, hidden_dim),\n",
        "            nn.ReLU(),\n",
        "            nn.Linear(hidden_dim, hidden_dim // 2),\n",
        "            nn.ReLU(),\n",
        "            nn.Linear(hidden_dim // 2, n_classes),\n",
        "        )\n",
        "\n",
        "    def forward(self, input):\n",
        "        x = input.view(-1, 32 * 32 * 3)\n",
        "        return self.main(x)"
      ]
    },
    {
      "cell_type": "code",
      "execution_count": 28,
      "metadata": {
        "id": "i19Y0g3YGvV2"
      },
      "outputs": [],
      "source": [
        "model = BaseModel(\n",
        "    failed_run_params[\"input_sz\"], failed_run_params[\"input_sz\"], failed_run_params[\"n_classes\"]\n",
        ").to(failed_run_params[\"device\"])\n",
        "criterion = nn.CrossEntropyLoss()\n",
        "optimizer = optim.SGD(model.parameters(), lr=failed_run_params[\"lr\"])"
      ]
    },
    {
      "cell_type": "markdown",
      "metadata": {
        "id": "ASgLO3T3W-cw"
      },
      "source": [
        "### Log losses and metrics"
      ]
    },
    {
      "cell_type": "code",
      "execution_count": 29,
      "metadata": {
        "colab": {
          "base_uri": "https://localhost:8080/"
        },
        "id": "MgGfdruzNB3t",
        "outputId": "e049c918-0ae3-4143-8f88-b26cdf2084bc"
      },
      "outputs": [
        {
          "name": "stderr",
          "output_type": "stream",
          "text": [
            "Error occurred during asynchronous operation processing: Timestamp must be non-decreasing for series attribute: monitoring/cpu. Invalid point: 2021-10-13T06:18:24.977Z\n",
            "Error occurred during asynchronous operation processing: Timestamp must be non-decreasing for series attribute: monitoring/memory. Invalid point: 2021-10-13T06:18:24.977Z\n",
            "Error occurred during asynchronous operation processing: Timestamp must be non-decreasing for series attribute: monitoring/gpu_memory. Invalid point: 2021-10-13T06:18:24.977Z\n",
            "Error occurred during asynchronous operation processing: Timestamp must be non-decreasing for series attribute: monitoring/stderr. Invalid point: 2021-10-13T06:18:29.754Z\n",
            "Error occurred during asynchronous operation processing: Timestamp must be non-decreasing for series attribute: monitoring/stderr. Invalid point: 2021-10-13T06:18:29.767Z\n",
            "Error occurred during asynchronous operation processing: Timestamp must be non-decreasing for series attribute: monitoring/stderr. Invalid point: 2021-10-13T06:18:34.910Z\n",
            "Error occurred during asynchronous operation processing: Timestamp must be non-decreasing for series attribute: monitoring/gpu_memory. Invalid point: 2021-10-13T06:18:34.979Z\n",
            "Error occurred during asynchronous operation processing: Timestamp must be non-decreasing for series attribute: monitoring/cpu. Invalid point: 2021-10-13T06:18:34.979Z\n",
            "Error occurred during asynchronous operation processing: Timestamp must be non-decreasing for series attribute: monitoring/memory. Invalid point: 2021-10-13T06:18:34.979Z\n",
            "Error occurred during asynchronous operation processing: Timestamp must be non-decreasing for series attribute: monitoring/stderr. Invalid point: 2021-10-13T06:18:40.097Z\n",
            "Error occurred during asynchronous operation processing: Timestamp must be non-decreasing for series attribute: monitoring/stderr. Invalid point: 2021-10-13T06:18:40.106Z\n",
            "Error occurred during asynchronous operation processing: Timestamp must be non-decreasing for series attribute: monitoring/stderr. Invalid point: 2021-10-13T06:18:40.114Z\n",
            "Error occurred during asynchronous operation processing: Timestamp must be non-decreasing for series attribute: monitoring/stderr. Invalid point: 2021-10-13T06:18:45.382Z\n",
            "Error occurred during asynchronous operation processing: Timestamp must be non-decreasing for series attribute: monitoring/stderr. Invalid point: 2021-10-13T06:18:45.385Z\n",
            "Error occurred during asynchronous operation processing: Timestamp must be non-decreasing for series attribute: monitoring/stderr. Invalid point: 2021-10-13T06:18:50.543Z\n",
            "Error occurred during asynchronous operation processing: Timestamp must be non-decreasing for series attribute: monitoring/cpu. Invalid point: 2021-10-13T06:19:24.991Z\n",
            "Error occurred during asynchronous operation processing: Timestamp must be non-decreasing for series attribute: monitoring/gpu_memory. Invalid point: 2021-10-13T06:19:24.991Z\n",
            "Error occurred during asynchronous operation processing: Timestamp must be non-decreasing for series attribute: monitoring/memory. Invalid point: 2021-10-13T06:19:24.991Z\n",
            "Error occurred during asynchronous operation processing: Timestamp must be non-decreasing for series attribute: monitoring/stderr. Invalid point: 2021-10-13T06:19:26.948Z\n",
            "Error occurred during asynchronous operation processing: Timestamp must be non-decreasing for series attribute: monitoring/stderr. Invalid point: 2021-10-13T06:19:26.962Z\n",
            "Error occurred during asynchronous operation processing: Timestamp must be non-decreasing for series attribute: monitoring/stderr. Invalid point: 2021-10-13T06:19:32.126Z\n",
            "Error occurred during asynchronous operation processing: Timestamp must be non-decreasing for series attribute: monitoring/cpu. Invalid point: 2021-10-13T06:19:34.994Z\n",
            "Error occurred during asynchronous operation processing: Timestamp must be non-decreasing for series attribute: monitoring/memory. Invalid point: 2021-10-13T06:19:34.994Z\n",
            "Error occurred during asynchronous operation processing: Timestamp must be non-decreasing for series attribute: monitoring/gpu_memory. Invalid point: 2021-10-13T06:19:34.994Z\n",
            "Error occurred during asynchronous operation processing: Timestamp must be non-decreasing for series attribute: monitoring/stderr. Invalid point: 2021-10-13T06:19:37.312Z\n",
            "Error occurred during asynchronous operation processing: Timestamp must be non-decreasing for series attribute: monitoring/stderr. Invalid point: 2021-10-13T06:19:37.321Z\n",
            "Error occurred during asynchronous operation processing: Timestamp must be non-decreasing for series attribute: monitoring/stderr. Invalid point: 2021-10-13T06:19:37.324Z\n",
            "Error occurred during asynchronous operation processing: Timestamp must be non-decreasing for series attribute: monitoring/stderr. Invalid point: 2021-10-13T06:19:42.476Z\n",
            "Error occurred during asynchronous operation processing: Timestamp must be non-decreasing for series attribute: monitoring/stderr. Invalid point: 2021-10-13T06:19:42.486Z\n",
            "Error occurred during asynchronous operation processing: Timestamp must be non-decreasing for series attribute: monitoring/memory. Invalid point: 2021-10-13T06:19:44.996Z\n",
            "Error occurred during asynchronous operation processing: Timestamp must be non-decreasing for series attribute: monitoring/cpu. Invalid point: 2021-10-13T06:19:44.996Z\n",
            "Error occurred during asynchronous operation processing: Timestamp must be non-decreasing for series attribute: monitoring/gpu_memory. Invalid point: 2021-10-13T06:19:44.996Z\n",
            "Error occurred during asynchronous operation processing: Timestamp must be non-decreasing for series attribute: monitoring/stderr. Invalid point: 2021-10-13T06:19:47.692Z\n",
            "Error occurred during asynchronous operation processing: Timestamp must be non-decreasing for series attribute: monitoring/stderr. Invalid point: 2021-10-13T06:19:47.702Z\n",
            "Error occurred during asynchronous operation processing: Timestamp must be non-decreasing for series attribute: monitoring/stderr. Invalid point: 2021-10-13T06:19:47.708Z\n",
            "Error occurred during asynchronous operation processing: Timestamp must be non-decreasing for series attribute: monitoring/stderr. Invalid point: 2021-10-13T06:19:47.720Z\n",
            "Error occurred during asynchronous operation processing: Timestamp must be non-decreasing for series attribute: monitoring/stderr. Invalid point: 2021-10-13T06:19:52.872Z\n",
            "Error occurred during asynchronous operation processing: Timestamp must be non-decreasing for series attribute: monitoring/stderr. Invalid point: 2021-10-13T06:19:52.884Z\n",
            "Error occurred during asynchronous operation processing: Timestamp must be non-decreasing for series attribute: monitoring/stderr. Invalid point: 2021-10-13T06:19:52.891Z\n",
            "Error occurred during asynchronous operation processing: Timestamp must be non-decreasing for series attribute: monitoring/memory. Invalid point: 2021-10-13T06:19:54.998Z\n",
            "Error occurred during asynchronous operation processing: Timestamp must be non-decreasing for series attribute: monitoring/gpu_memory. Invalid point: 2021-10-13T06:19:54.998Z\n",
            "Error occurred during asynchronous operation processing: Timestamp must be non-decreasing for series attribute: monitoring/cpu. Invalid point: 2021-10-13T06:19:54.998Z\n",
            "Error occurred during asynchronous operation processing: Timestamp must be non-decreasing for series attribute: monitoring/stderr. Invalid point: 2021-10-13T06:19:58.066Z\n",
            "Error occurred during asynchronous operation processing: Timestamp must be non-decreasing for series attribute: monitoring/stderr. Invalid point: 2021-10-13T06:19:58.069Z\n",
            "Error occurred during asynchronous operation processing: Timestamp must be non-decreasing for series attribute: monitoring/stderr. Invalid point: 2021-10-13T06:19:58.080Z\n",
            "Error occurred during asynchronous operation processing: Timestamp must be non-decreasing for series attribute: monitoring/stderr. Invalid point: 2021-10-13T06:19:58.085Z\n",
            "Error occurred during asynchronous operation processing: Timestamp must be non-decreasing for series attribute: monitoring/stderr. Invalid point: 2021-10-13T06:19:58.090Z\n",
            "Error occurred during asynchronous operation processing: Timestamp must be non-decreasing for series attribute: monitoring/stderr. Invalid point: 2021-10-13T06:20:03.238Z\n",
            "Error occurred during asynchronous operation processing: Timestamp must be non-decreasing for series attribute: monitoring/stderr. Invalid point: 2021-10-13T06:20:03.246Z\n",
            "Error occurred during asynchronous operation processing: Timestamp must be non-decreasing for series attribute: monitoring/stderr. Invalid point: 2021-10-13T06:20:03.253Z\n",
            "Error occurred during asynchronous operation processing: Timestamp must be non-decreasing for series attribute: monitoring/stderr. Invalid point: 2021-10-13T06:20:03.257Z\n",
            "Error occurred during asynchronous operation processing: Timestamp must be non-decreasing for series attribute: monitoring/cpu. Invalid point: 2021-10-13T06:20:05.002Z\n",
            "Error occurred during asynchronous operation processing: Timestamp must be non-decreasing for series attribute: monitoring/gpu_memory. Invalid point: 2021-10-13T06:20:05.002Z\n",
            "Error occurred during asynchronous operation processing: Timestamp must be non-decreasing for series attribute: monitoring/memory. Invalid point: 2021-10-13T06:20:05.002Z\n",
            "Error occurred during asynchronous operation processing: Timestamp must be non-decreasing for series attribute: monitoring/stderr. Invalid point: 2021-10-13T06:20:08.442Z\n",
            "Error occurred during asynchronous operation processing: Timestamp must be non-decreasing for series attribute: monitoring/stderr. Invalid point: 2021-10-13T06:20:08.470Z\n",
            "Error occurred during asynchronous operation processing: Timestamp must be non-decreasing for series attribute: monitoring/stderr. Invalid point: 2021-10-13T06:20:08.479Z\n",
            "Error occurred during asynchronous operation processing: Timestamp must be non-decreasing for series attribute: monitoring/stderr. Invalid point: 2021-10-13T06:20:08.484Z\n",
            "Error occurred during asynchronous operation processing: Timestamp must be non-decreasing for series attribute: monitoring/stderr. Invalid point: 2021-10-13T06:20:08.494Z\n",
            "Error occurred during asynchronous operation processing: Timestamp must be non-decreasing for series attribute: monitoring/stderr. Invalid point: 2021-10-13T06:20:08.500Z\n",
            "Error occurred during asynchronous operation processing: Timestamp must be non-decreasing for series attribute: monitoring/stderr. Invalid point: 2021-10-13T06:20:13.650Z\n",
            "Error occurred during asynchronous operation processing: Timestamp must be non-decreasing for series attribute: monitoring/stderr. Invalid point: 2021-10-13T06:20:13.662Z\n",
            "Error occurred during asynchronous operation processing: Timestamp must be non-decreasing for series attribute: monitoring/stderr. Invalid point: 2021-10-13T06:20:13.675Z\n",
            "Error occurred during asynchronous operation processing: Timestamp must be non-decreasing for series attribute: monitoring/stderr. Invalid point: 2021-10-13T06:20:13.686Z\n",
            "Error occurred during asynchronous operation processing: Timestamp must be non-decreasing for series attribute: monitoring/stderr. Invalid point: 2021-10-13T06:20:13.693Z\n",
            "Error occurred during asynchronous operation processing: Timestamp must be non-decreasing for series attribute: monitoring/gpu_memory. Invalid point: 2021-10-13T06:20:15.005Z\n",
            "Error occurred during asynchronous operation processing: Timestamp must be non-decreasing for series attribute: monitoring/memory. Invalid point: 2021-10-13T06:20:15.005Z\n",
            "Error occurred during asynchronous operation processing: Timestamp must be non-decreasing for series attribute: monitoring/cpu. Invalid point: 2021-10-13T06:20:15.005Z\n",
            "Error occurred during asynchronous operation processing: Timestamp must be non-decreasing for series attribute: monitoring/stderr. Invalid point: 2021-10-13T06:20:18.889Z\n",
            "Error occurred during asynchronous operation processing: Timestamp must be non-decreasing for series attribute: monitoring/stderr. Invalid point: 2021-10-13T06:20:18.899Z\n",
            "Error occurred during asynchronous operation processing: Timestamp must be non-decreasing for series attribute: monitoring/stderr. Invalid point: 2021-10-13T06:20:18.907Z\n",
            "Error occurred during asynchronous operation processing: Timestamp must be non-decreasing for series attribute: monitoring/stderr. Invalid point: 2021-10-13T06:20:18.909Z\n",
            "Error occurred during asynchronous operation processing: Timestamp must be non-decreasing for series attribute: monitoring/stderr. Invalid point: 2021-10-13T06:20:18.916Z\n",
            "Error occurred during asynchronous operation processing: Timestamp must be non-decreasing for series attribute: monitoring/stderr. Invalid point: 2021-10-13T06:20:18.922Z\n",
            "Error occurred during asynchronous operation processing: Timestamp must be non-decreasing for series attribute: monitoring/stderr. Invalid point: 2021-10-13T06:20:18.927Z\n",
            "Error occurred during asynchronous operation processing: Timestamp must be non-decreasing for series attribute: monitoring/stderr. Invalid point: 2021-10-13T06:20:24.136Z\n",
            "Error occurred during asynchronous operation processing: Timestamp must be non-decreasing for series attribute: monitoring/stderr. Invalid point: 2021-10-13T06:20:24.147Z\n",
            "Error occurred during asynchronous operation processing: Timestamp must be non-decreasing for series attribute: monitoring/stderr. Invalid point: 2021-10-13T06:20:24.165Z\n",
            "Error occurred during asynchronous operation processing: Timestamp must be non-decreasing for series attribute: monitoring/stderr. Invalid point: 2021-10-13T06:20:24.174Z\n",
            "Error occurred during asynchronous operation processing: Timestamp must be non-decreasing for series attribute: monitoring/stderr. Invalid point: 2021-10-13T06:20:24.182Z\n",
            "Error occurred during asynchronous operation processing: Timestamp must be non-decreasing for series attribute: monitoring/stderr. Invalid point: 2021-10-13T06:20:24.188Z\n",
            "Error occurred during asynchronous operation processing: Timestamp must be non-decreasing for series attribute: monitoring/cpu. Invalid point: 2021-10-13T06:20:25.007Z\n",
            "Error occurred during asynchronous operation processing: Timestamp must be non-decreasing for series attribute: monitoring/gpu_memory. Invalid point: 2021-10-13T06:20:25.007Z\n",
            "Error occurred during asynchronous operation processing: Timestamp must be non-decreasing for series attribute: monitoring/memory. Invalid point: 2021-10-13T06:20:25.007Z\n",
            "Error occurred during asynchronous operation processing: Timestamp must be non-decreasing for series attribute: monitoring/stderr. Invalid point: 2021-10-13T06:20:29.376Z\n",
            "Error occurred during asynchronous operation processing: Timestamp must be non-decreasing for series attribute: monitoring/stderr. Invalid point: 2021-10-13T06:20:29.386Z\n",
            "Error occurred during asynchronous operation processing: Timestamp must be non-decreasing for series attribute: monitoring/stderr. Invalid point: 2021-10-13T06:20:29.393Z\n",
            "Error occurred during asynchronous operation processing: Timestamp must be non-decreasing for series attribute: monitoring/stderr. Invalid point: 2021-10-13T06:20:29.401Z\n",
            "Error occurred during asynchronous operation processing: Timestamp must be non-decreasing for series attribute: monitoring/stderr. Invalid point: 2021-10-13T06:20:29.408Z\n",
            "Error occurred during asynchronous operation processing: Timestamp must be non-decreasing for series attribute: monitoring/stderr. Invalid point: 2021-10-13T06:20:29.410Z\n",
            "Error occurred during asynchronous operation processing: Timestamp must be non-decreasing for series attribute: monitoring/stderr. Invalid point: 2021-10-13T06:20:29.416Z\n",
            "Error occurred during asynchronous operation processing: Timestamp must be non-decreasing for series attribute: monitoring/stderr. Invalid point: 2021-10-13T06:20:29.418Z\n",
            "Error occurred during asynchronous operation processing: Timestamp must be non-decreasing for series attribute: monitoring/stderr. Invalid point: 2021-10-13T06:20:34.558Z\n",
            "Error occurred during asynchronous operation processing: Timestamp must be non-decreasing for series attribute: monitoring/stderr. Invalid point: 2021-10-13T06:20:34.574Z\n",
            "Error occurred during asynchronous operation processing: Timestamp must be non-decreasing for series attribute: monitoring/stderr. Invalid point: 2021-10-13T06:20:34.578Z\n",
            "Error occurred during asynchronous operation processing: Timestamp must be non-decreasing for series attribute: monitoring/stderr. Invalid point: 2021-10-13T06:20:34.587Z\n",
            "Error occurred during asynchronous operation processing: Timestamp must be non-decreasing for series attribute: monitoring/stderr. Invalid point: 2021-10-13T06:20:34.594Z\n",
            "Error occurred during asynchronous operation processing: Timestamp must be non-decreasing for series attribute: monitoring/stderr. Invalid point: 2021-10-13T06:20:34.599Z\n",
            "Error occurred during asynchronous operation processing: Timestamp must be non-decreasing for series attribute: monitoring/stderr. Invalid point: 2021-10-13T06:20:34.604Z\n",
            "Error occurred during asynchronous operation processing: Timestamp must be non-decreasing for series attribute: monitoring/gpu_memory. Invalid point: 2021-10-13T06:20:35.009Z\n",
            "Error occurred during asynchronous operation processing: Timestamp must be non-decreasing for series attribute: monitoring/memory. Invalid point: 2021-10-13T06:20:35.009Z\n",
            "Error occurred during asynchronous operation processing: Timestamp must be non-decreasing for series attribute: monitoring/cpu. Invalid point: 2021-10-13T06:20:35.009Z\n",
            "Error occurred during asynchronous operation processing: Timestamp must be non-decreasing for series attribute: monitoring/stderr. Invalid point: 2021-10-13T06:20:39.795Z\n",
            "Error occurred during asynchronous operation processing: Timestamp must be non-decreasing for series attribute: monitoring/stderr. Invalid point: 2021-10-13T06:20:39.797Z\n",
            "Error occurred during asynchronous operation processing: Timestamp must be non-decreasing for series attribute: monitoring/stderr. Invalid point: 2021-10-13T06:20:39.805Z\n",
            "Error occurred during asynchronous operation processing: Timestamp must be non-decreasing for series attribute: monitoring/stderr. Invalid point: 2021-10-13T06:20:39.810Z\n",
            "Error occurred during asynchronous operation processing: Timestamp must be non-decreasing for series attribute: monitoring/stderr. Invalid point: 2021-10-13T06:20:39.813Z\n",
            "Error occurred during asynchronous operation processing: Timestamp must be non-decreasing for series attribute: monitoring/stderr. Invalid point: 2021-10-13T06:20:39.818Z\n",
            "Error occurred during asynchronous operation processing: Timestamp must be non-decreasing for series attribute: monitoring/stderr. Invalid point: 2021-10-13T06:20:39.824Z\n",
            "Error occurred during asynchronous operation processing: Timestamp must be non-decreasing for series attribute: monitoring/stderr. Invalid point: 2021-10-13T06:20:39.828Z\n",
            "Error occurred during asynchronous operation processing: Timestamp must be non-decreasing for series attribute: monitoring/stderr. Invalid point: 2021-10-13T06:20:39.832Z\n",
            "Error occurred during asynchronous operation processing: Timestamp must be non-decreasing for series attribute: monitoring/stderr. Invalid point: 2021-10-13T06:20:44.977Z\n",
            "Error occurred during asynchronous operation processing: Timestamp must be non-decreasing for series attribute: monitoring/stderr. Invalid point: 2021-10-13T06:20:44.980Z\n",
            "Error occurred during asynchronous operation processing: Timestamp must be non-decreasing for series attribute: monitoring/stderr. Invalid point: 2021-10-13T06:20:44.995Z\n",
            "Error occurred during asynchronous operation processing: Timestamp must be non-decreasing for series attribute: monitoring/stderr. Invalid point: 2021-10-13T06:20:45.006Z\n",
            "Error occurred during asynchronous operation processing: Timestamp must be non-decreasing for series attribute: monitoring/stderr. Invalid point: 2021-10-13T06:20:45.008Z\n",
            "Error occurred during asynchronous operation processing: Timestamp must be non-decreasing for series attribute: monitoring/stderr. Invalid point: 2021-10-13T06:20:45.015Z\n",
            "Error occurred during asynchronous operation processing: Timestamp must be non-decreasing for series attribute: monitoring/stderr. Invalid point: 2021-10-13T06:20:45.018Z\n",
            "Error occurred during asynchronous operation processing: Timestamp must be non-decreasing for series attribute: monitoring/stderr. Invalid point: 2021-10-13T06:20:45.022Z\n",
            "Error occurred during asynchronous operation processing: Timestamp must be non-decreasing for series attribute: monitoring/gpu_memory. Invalid point: 2021-10-13T06:20:45.012Z\n",
            "Error occurred during asynchronous operation processing: Timestamp must be non-decreasing for series attribute: monitoring/memory. Invalid point: 2021-10-13T06:20:45.012Z\n",
            "Error occurred during asynchronous operation processing: Timestamp must be non-decreasing for series attribute: monitoring/cpu. Invalid point: 2021-10-13T06:20:45.012Z\n",
            "Error occurred during asynchronous operation processing: Timestamp must be non-decreasing for series attribute: monitoring/stderr. Invalid point: 2021-10-13T06:20:50.196Z\n",
            "Error occurred during asynchronous operation processing: Timestamp must be non-decreasing for series attribute: monitoring/stderr. Invalid point: 2021-10-13T06:20:50.213Z\n",
            "Error occurred during asynchronous operation processing: Timestamp must be non-decreasing for series attribute: monitoring/stderr. Invalid point: 2021-10-13T06:20:50.226Z\n",
            "Error occurred during asynchronous operation processing: Timestamp must be non-decreasing for series attribute: monitoring/stderr. Invalid point: 2021-10-13T06:20:50.236Z\n",
            "Error occurred during asynchronous operation processing: Timestamp must be non-decreasing for series attribute: monitoring/stderr. Invalid point: 2021-10-13T06:20:50.246Z\n",
            "Error occurred during asynchronous operation processing: Timestamp must be non-decreasing for series attribute: monitoring/stderr. Invalid point: 2021-10-13T06:20:50.261Z\n",
            "Error occurred during asynchronous operation processing: Timestamp must be non-decreasing for series attribute: monitoring/stderr. Invalid point: 2021-10-13T06:20:50.271Z\n",
            "Error occurred during asynchronous operation processing: Timestamp must be non-decreasing for series attribute: monitoring/stderr. Invalid point: 2021-10-13T06:20:50.280Z\n",
            "Error occurred during asynchronous operation processing: Timestamp must be non-decreasing for series attribute: monitoring/stderr. Invalid point: 2021-10-13T06:20:50.288Z\n",
            "Error occurred during asynchronous operation processing: Timestamp must be non-decreasing for series attribute: monitoring/stderr. Invalid point: 2021-10-13T06:20:50.298Z\n",
            "Error occurred during asynchronous operation processing: Timestamp must be non-decreasing for series attribute: monitoring/stderr. Invalid point: 2021-10-13T06:20:55.501Z\n",
            "Error occurred during asynchronous operation processing: Timestamp must be non-decreasing for series attribute: monitoring/stderr. Invalid point: 2021-10-13T06:20:55.513Z\n",
            "Error occurred during asynchronous operation processing: Timestamp must be non-decreasing for series attribute: monitoring/stderr. Invalid point: 2021-10-13T06:20:55.526Z\n",
            "Error occurred during asynchronous operation processing: Timestamp must be non-decreasing for series attribute: monitoring/stderr. Invalid point: 2021-10-13T06:20:55.533Z\n",
            "Error occurred during asynchronous operation processing: Timestamp must be non-decreasing for series attribute: monitoring/stderr. Invalid point: 2021-10-13T06:20:55.541Z\n",
            "Error occurred during asynchronous operation processing: Timestamp must be non-decreasing for series attribute: monitoring/stderr. Invalid point: 2021-10-13T06:20:55.547Z\n",
            "Error occurred during asynchronous operation processing: Timestamp must be non-decreasing for series attribute: monitoring/stderr. Invalid point: 2021-10-13T06:20:55.553Z\n",
            "Error occurred during asynchronous operation processing: Timestamp must be non-decreasing for series attribute: monitoring/stderr. Invalid point: 2021-10-13T06:20:55.567Z\n",
            "Error occurred during asynchronous operation processing: Timestamp must be non-decreasing for series attribute: monitoring/stderr. Invalid point: 2021-10-13T06:20:55.573Z\n",
            "Error occurred during asynchronous operation processing: Timestamp must be non-decreasing for series attribute: monitoring/stderr. Invalid point: 2021-10-13T06:21:00.738Z\n",
            "Error occurred during asynchronous operation processing: Timestamp must be non-decreasing for series attribute: monitoring/stderr. Invalid point: 2021-10-13T06:21:00.749Z\n",
            "Error occurred during asynchronous operation processing: Timestamp must be non-decreasing for series attribute: monitoring/stderr. Invalid point: 2021-10-13T06:21:00.754Z\n",
            "Error occurred during asynchronous operation processing: Timestamp must be non-decreasing for series attribute: monitoring/stderr. Invalid point: 2021-10-13T06:21:00.759Z\n",
            "Error occurred during asynchronous operation processing: Timestamp must be non-decreasing for series attribute: monitoring/stderr. Invalid point: 2021-10-13T06:21:00.766Z\n",
            "Error occurred during asynchronous operation processing: Timestamp must be non-decreasing for series attribute: monitoring/stderr. Invalid point: 2021-10-13T06:21:00.773Z\n",
            "Error occurred during asynchronous operation processing: Timestamp must be non-decreasing for series attribute: monitoring/stderr. Invalid point: 2021-10-13T06:21:00.776Z\n",
            "Error occurred during asynchronous operation processing: Timestamp must be non-decreasing for series attribute: monitoring/stderr. Invalid point: 2021-10-13T06:21:00.779Z\n"
          ]
        }
      ],
      "source": [
        "for i, (x, y) in enumerate(trainloader, 0):\n",
        "    x, y = x.to(failed_run_params[\"device\"]), y.to(failed_run_params[\"device\"])\n",
        "    optimizer.zero_grad()\n",
        "    outputs = model.forward(x)\n",
        "    _, preds = torch.max(outputs, 1)\n",
        "    loss = criterion(outputs, y)\n",
        "    acc = (torch.sum(preds == y.data)) / len(x)\n",
        "\n",
        "    new_run[\"training/batch/loss\"].log(loss)\n",
        "\n",
        "    new_run[\"training/batch/acc\"].log(acc)\n",
        "\n",
        "    loss.backward()\n",
        "    optimizer.step()"
      ]
    },
    {
      "cell_type": "markdown",
      "metadata": {
        "id": "JhE6C9xv-lXK"
      },
      "source": [
        "# Stop run\n",
        "\n",
        "<font color=red>**Warning:**</font><br>\n",
        "Once you are done logging, you should stop tracking the run using the `stop()` method.\n",
        "This is needed only while logging from a notebook environment. While logging through a script, Neptune automatically stops tracking once the script has completed execution."
      ]
    },
    {
      "cell_type": "code",
      "execution_count": 31,
      "metadata": {
        "id": "Meg02T9p9314",
        "tags": []
      },
      "outputs": [],
      "source": [
        "failed_run.stop()\n",
        "new_run.stop()"
      ]
    }
  ],
  "metadata": {
    "accelerator": "GPU",
    "colab": {
      "collapsed_sections": [],
      "name": "re-run-failed-training.ipynb",
      "provenance": []
    },
    "kernelspec": {
      "display_name": "Python (neptune)",
      "language": "python",
      "name": "neptune"
    },
    "language_info": {
      "codemirror_mode": {
        "name": "ipython",
        "version": 3
      },
      "file_extension": ".py",
      "mimetype": "text/x-python",
      "name": "python",
      "nbconvert_exporter": "python",
      "pygments_lexer": "ipython3",
      "version": "3.8.5"
    }
  },
  "nbformat": 4,
  "nbformat_minor": 0
}
