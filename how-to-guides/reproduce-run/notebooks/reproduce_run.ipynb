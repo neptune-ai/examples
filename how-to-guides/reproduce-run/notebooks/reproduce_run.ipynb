{
 "cells": [
  {
   "cell_type": "markdown",
   "metadata": {},
   "source": [
    "# How to reproduce a Neptune run"
   ]
  },
  {
   "cell_type": "markdown",
   "metadata": {},
   "source": [
    "## Introduction\n",
    "When building ML models for research or production, it's crucial to be able to reproduce a run to validate its results and performance. With Neptune, you can reproduce any run by retrieving the same metadata - such as hyperparameters, data, and code version.\n",
    "\n",
    "In this guide, we'll show you how to re-open an existing Neptune run to retrieve the metadata required for reproducing it. \n",
    "\n",
    "[See this example in Neptune](https://app.neptune.ai/common/pytorch-integration/e/PYTOR1-5234/metadata)\n",
    "\n"
   ]
  },
  {
   "cell_type": "markdown",
   "metadata": {},
   "source": [
    "## Before you start\n",
    "\n",
    "Make sure that you have:\n",
    "* [Python 3.7+ installed](https://www.python.org/downloads/),\n",
    "* [Basic familiarity with Neptune (create run and log metadata to it)](https://docs.neptune.ai/usage/#getting-started)"
   ]
  },
  {
   "cell_type": "code",
   "execution_count": null,
   "metadata": {
    "colab": {
     "base_uri": "https://localhost:8080/"
    },
    "tags": []
   },
   "outputs": [],
   "source": [
    "! pip install -U neptune torch torchvision"
   ]
  },
  {
   "cell_type": "markdown",
   "metadata": {},
   "source": [
    "## Step 1: Get run ID\n",
    "You will get the run ID of the failed run **programmatically**.\n",
    "\n",
    "**Note**: To log or retrieve metadata from Neptune, you need the project name and the API token\n",
    "\n",
    "To make this example easy to follow, we'll log the metadata to the public project **'common/showroom'** using a shared token for anonymous logging.\n",
    "\n",
    "**(Optional)** If you want to log to your own project, you need a [Neptune account](https://app.neptune.ai/register/) and a [project](https://docs.neptune.ai/setup/creating_project).\n",
    "Then you can pass [project](https://docs.neptune.ai/setup/creating_project/#next-steps) and [api_token](https://docs.neptune.ai/setup/setting_api_token/#setting-your-api-token) arguments to the `init_run()` method.\n",
    "\n",
    "`run = neptune.init_run(api_token='YOUR_API_TOKEN', project='YOUR_WORKSPACE/YOUR_PROJECT')` \n"
   ]
  },
  {
   "cell_type": "code",
   "execution_count": null,
   "metadata": {},
   "outputs": [],
   "source": [
    "project_name = \"common/pytorch-integration\""
   ]
  },
  {
   "cell_type": "code",
   "execution_count": null,
   "metadata": {},
   "outputs": [],
   "source": [
    "import neptune\n",
    "\n",
    "# Fetch project\n",
    "project = neptune.init_project(\n",
    "    project=project_name, api_token=neptune.ANONYMOUS_API_TOKEN, mode=\"read-only\"\n",
    ")\n",
    "\n",
    "# Fetch only inactive runs with tag \"showcase-run\"\n",
    "runs_table_df = project.fetch_runs_table(\n",
    "    state=\"inactive\", tag=[\"showcase-run\", \"reproduce\", \"Basic script\"]\n",
    ").to_pandas()\n",
    "\n",
    "# Stop project\n",
    "project.stop()\n",
    "\n",
    "# Extract the last successful run's id\n",
    "old_run_id = runs_table_df[runs_table_df[\"sys/failed\"] == False][\"sys/id\"].values[0]"
   ]
  },
  {
   "cell_type": "code",
   "execution_count": null,
   "metadata": {
    "colab": {
     "base_uri": "https://localhost:8080/",
     "height": 35
    }
   },
   "outputs": [],
   "source": [
    "print(\"old_run_id = \", old_run_id)"
   ]
  },
  {
   "cell_type": "markdown",
   "metadata": {},
   "source": [
    "## Step 2: Resume old run\n",
    "Use the `neptune.init_run()` method to:\n",
    "* Re-open an existing run using the ID you got from the previous step \n",
    "* Re-open it in the `read-only` mode\n",
    "\n",
    "Use the `read-only` mode so the metadata previously logged to the run is not accidentally changed. Also, you can re-open a run as many times as needed.\n",
    "\n",
    "**(Optional)** If you already have a [Neptune account](https://app.neptune.ai/register/) you can pass your credentials to **[project](https://docs.neptune.ai/getting-started/installation#setting-the-project-name)** and **[api_token](https://docs.neptune.ai/getting-started/installation#authentication-neptune-api-token)** arguments of neptune.init_run()\n",
    "\n",
    "```python\n",
    "from getpass import getpass\n",
    "\n",
    "run = neptune.init_run(\n",
    "    api_token=getpass(\"Enter your Neptune API token: \"),\n",
    "    project=\"workspace-name/project-name\",  # replace with your own\n",
    ") \n",
    "```"
   ]
  },
  {
   "cell_type": "code",
   "execution_count": null,
   "metadata": {
    "colab": {
     "base_uri": "https://localhost:8080/"
    }
   },
   "outputs": [],
   "source": [
    "old_run = neptune.init_run(\n",
    "    project=project_name,\n",
    "    api_token=neptune.ANONYMOUS_API_TOKEN,\n",
    "    with_id=old_run_id,\n",
    "    mode=\"read-only\",\n",
    ")"
   ]
  },
  {
   "cell_type": "code",
   "execution_count": null,
   "metadata": {},
   "outputs": [],
   "source": [
    "old_run[\"source_code/files\"].download()  # download training script"
   ]
  },
  {
   "cell_type": "markdown",
   "metadata": {},
   "source": [
    "## Step 3: Fetch relevant metadata from Neptune\n",
    "\n",
    "Fetch metadata (i.e., dataset and hyperparameters) needed to re-run the training. Precisely, you will download the hyperparameters and dataset path used in the old run to instantiate a model and dataset objects with the same configuration.\n",
    "\n",
    "To do that:"
   ]
  },
  {
   "cell_type": "markdown",
   "metadata": {},
   "source": [
    "Use the [fetch()](https://docs.neptune.ai/api/field-types/#fetch-1) method to retrieve relevant metadata"
   ]
  },
  {
   "cell_type": "code",
   "execution_count": null,
   "metadata": {},
   "outputs": [],
   "source": [
    "# Fetch hyperparameters\n",
    "old_run_params = old_run[\"config/params\"].fetch()"
   ]
  },
  {
   "cell_type": "code",
   "execution_count": null,
   "metadata": {},
   "outputs": [],
   "source": [
    "# Fetch dataset path\n",
    "dataset_path = old_run[\"config/dataset/path\"].fetch()"
   ]
  },
  {
   "cell_type": "markdown",
   "metadata": {},
   "source": [
    "## Step 4: Create a new run\n",
    "Create a new Neptune run that will be used to log metadata in the re-run session."
   ]
  },
  {
   "cell_type": "code",
   "execution_count": null,
   "metadata": {
    "colab": {
     "base_uri": "https://localhost:8080/"
    }
   },
   "outputs": [],
   "source": [
    "new_run = neptune.init_run(\n",
    "    project=project_name,\n",
    "    api_token=neptune.ANONYMOUS_API_TOKEN,\n",
    "    tags=[\"reproduce\", \"new-run\"],\n",
    ")"
   ]
  },
  {
   "cell_type": "markdown",
   "metadata": {},
   "source": [
    "Running this cell creates a run in Neptune, and you can log model building metadata to it.\n",
    "\n",
    "**Click on the link above to open the run in the Neptune app.** \n",
    "\n",
    "For now, it is empty, but you should keep the tab open to see what happens next."
   ]
  },
  {
   "cell_type": "markdown",
   "metadata": {},
   "source": [
    "## Step 5: Log hyperparameters and dataset details from old run to new run\n",
    "Now you can continue working and logging metadata to a brand new run.\n",
    "You can log metadata using the Neptune API Client. For details, see [What you can log and display](https://docs.neptune.ai/logging/what_you_can_log)."
   ]
  },
  {
   "cell_type": "code",
   "execution_count": null,
   "metadata": {},
   "outputs": [],
   "source": [
    "new_run[\"config/params\"] = old_run_params\n",
    "new_run[\"config/dataset/path\"] = dataset_path"
   ]
  },
  {
   "cell_type": "markdown",
   "metadata": {},
   "source": [
    "### Load dataset and model"
   ]
  },
  {
   "cell_type": "markdown",
   "metadata": {},
   "source": [
    "Dataset"
   ]
  },
  {
   "cell_type": "code",
   "execution_count": null,
   "metadata": {},
   "outputs": [],
   "source": [
    "import torch\n",
    "from torchvision import datasets, transforms\n",
    "\n",
    "data_tfms = {\n",
    "    \"train\": transforms.Compose(\n",
    "        [\n",
    "            transforms.RandomHorizontalFlip(),\n",
    "            transforms.ToTensor(),\n",
    "            transforms.Normalize([0.485, 0.456, 0.406], [0.229, 0.224, 0.225]),\n",
    "        ]\n",
    "    ),\n",
    "}"
   ]
  },
  {
   "cell_type": "code",
   "execution_count": null,
   "metadata": {},
   "outputs": [],
   "source": [
    "trainset = datasets.CIFAR10(dataset_path, transform=data_tfms[\"train\"], download=True)\n",
    "\n",
    "trainloader = torch.utils.data.DataLoader(\n",
    "    trainset, batch_size=old_run_params[\"bs\"], shuffle=True, num_workers=0\n",
    ")"
   ]
  },
  {
   "cell_type": "markdown",
   "metadata": {},
   "source": [
    "Model"
   ]
  },
  {
   "cell_type": "code",
   "execution_count": null,
   "metadata": {},
   "outputs": [],
   "source": [
    "import torch.nn as nn\n",
    "\n",
    "\n",
    "class BaseModel(nn.Module):\n",
    "    def __init__(self, input_sz, hidden_dim, n_classes):\n",
    "        super(BaseModel, self).__init__()\n",
    "        self.main = nn.Sequential(\n",
    "            nn.Linear(input_sz, hidden_dim * 2),\n",
    "            nn.ReLU(),\n",
    "            nn.Linear(hidden_dim * 2, hidden_dim),\n",
    "            nn.ReLU(),\n",
    "            nn.Linear(hidden_dim, hidden_dim // 2),\n",
    "            nn.ReLU(),\n",
    "            nn.Linear(hidden_dim // 2, n_classes),\n",
    "        )\n",
    "\n",
    "    def forward(self, input):\n",
    "        x = input.view(-1, 32 * 32 * 3)\n",
    "        return self.main(x)"
   ]
  },
  {
   "cell_type": "code",
   "execution_count": null,
   "metadata": {},
   "outputs": [],
   "source": [
    "model = BaseModel(\n",
    "    old_run_params[\"input_sz\"],\n",
    "    old_run_params[\"input_sz\"],\n",
    "    old_run_params[\"n_classes\"],\n",
    ")\n",
    "criterion = nn.CrossEntropyLoss()\n",
    "optimizer = torch.optim.SGD(model.parameters(), lr=old_run_params[\"lr\"])"
   ]
  },
  {
   "cell_type": "markdown",
   "metadata": {},
   "source": [
    "### Log losses and metrics"
   ]
  },
  {
   "cell_type": "code",
   "execution_count": null,
   "metadata": {
    "colab": {
     "base_uri": "https://localhost:8080/"
    }
   },
   "outputs": [],
   "source": [
    "for i, (x, y) in enumerate(trainloader, 0):\n",
    "    optimizer.zero_grad()\n",
    "    outputs = model.forward(x)\n",
    "    _, preds = torch.max(outputs, 1)\n",
    "    loss = criterion(outputs, y)\n",
    "    acc = (torch.sum(preds == y.data)) / len(x)\n",
    "\n",
    "    new_run[\"training/batch/loss\"].append(loss)\n",
    "\n",
    "    new_run[\"training/batch/acc\"].append(acc)\n",
    "\n",
    "    loss.backward()\n",
    "    optimizer.step()"
   ]
  },
  {
   "cell_type": "markdown",
   "metadata": {},
   "source": [
    "## Stop logging\n",
    "\n",
    "Once you are done logging, stop tracking the run."
   ]
  },
  {
   "cell_type": "code",
   "execution_count": null,
   "metadata": {
    "tags": []
   },
   "outputs": [],
   "source": [
    "old_run.stop()\n",
    "new_run.stop()"
   ]
  },
  {
   "cell_type": "markdown",
   "metadata": {},
   "source": [
    "## Explore the run in the Neptune app\n",
    "\n",
    "After running the code cell in **Step 4**, you will get a link on the cell output similar to  with: \n",
    "* **common/showroom** replaced by **your_workspace/your_project**,\n",
    "* **PYTOR1-5234** replaced by your Run ID. \n",
    "\n",
    "**Click on the link to open the Run in Neptune UI.**"
   ]
  },
  {
   "cell_type": "markdown",
   "metadata": {},
   "source": [
    "## Conclusion\n",
    "You learned how to:\n",
    "* Re-open a old run in order to fetch the metadata needed to reproduce it.\n",
    "* Use fetched metadata to parametrize a new run with the same training loop.\n",
    "\n",
    "**This knowledge can be applied to any other scenario as well!**\n",
    "\n",
    "Visit our docs for more tutorials and guides on how to use Neptune: https://docs.neptune.ai\n"
   ]
  }
 ],
 "metadata": {
  "accelerator": "GPU",
  "colab": {
   "collapsed_sections": [],
   "name": "re-run-failed-training.ipynb",
   "provenance": []
  },
  "kernelspec": {
   "display_name": "neptune_test_env",
   "language": "python",
   "name": "python3"
  },
  "language_info": {
   "codemirror_mode": {
    "name": "ipython",
    "version": 3
   },
   "file_extension": ".py",
   "mimetype": "text/x-python",
   "name": "python",
   "nbconvert_exporter": "python",
   "pygments_lexer": "ipython3",
   "version": "3.9.16"
  },
  "vscode": {
   "interpreter": {
    "hash": "9918a49f0ff3a4018a272fb676756b6b7681877efd7b7e72359fb8b30d06330a"
   }
  }
 },
 "nbformat": 4,
 "nbformat_minor": 1
}
