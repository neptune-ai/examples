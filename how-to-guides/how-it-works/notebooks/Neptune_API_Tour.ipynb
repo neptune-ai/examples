{
 "cells": [
  {
   "cell_type": "markdown",
   "metadata": {
    "tags": [
     "header"
    ]
   },
   "source": [
    "# Neptune API tour\n"
   ]
  },
  {
   "cell_type": "markdown",
   "metadata": {
    "tags": [
     "header"
    ]
   },
   "source": [
    "## Introduction"
   ]
  },
  {
   "cell_type": "markdown",
   "metadata": {
    "tags": [
     "comment"
    ]
   },
   "source": [
    "This guide will show you how to:\n",
    "\n",
    "* Install neptune-client\n",
    "* Connect Neptune to your script and create the first run\n",
    "* Log simple metrics to Neptune and explore them in the web app\n",
    "* Log learning curves, images and model binaries from Keras training and see those in the Neptune app\n",
    "* Fetch the data you logged to Neptune directly into your notebook and analyze them \n",
    "\n",
    "By the end of it, you will execute your first run and see it in Neptune!"
   ]
  },
  {
   "cell_type": "markdown",
   "metadata": {},
   "source": [
    "## Before you start\n",
    "\n",
    "This notebook example lets you try out Neptune as an anonymous user, with zero setup.\n",
    "\n",
    "* If you are running the notebook on your local machine, you need to have [Python](https://www.python.org/downloads/) and [pip](https://pypi.org/project/pip/) installed.\n",
    "* If you want to see the example recorded to your own workspace instead:\n",
    "    * Create a Neptune account → [Take me to registration](https://neptune.ai/register)\n",
    "    * Create a Neptune project that you will use for tracking metadata → [Tell me more about projects](https://docs.neptune.ai/administration/projects)"
   ]
  },
  {
   "cell_type": "markdown",
   "metadata": {},
   "source": [
    "## Install Neptune and dependencies"
   ]
  },
  {
   "cell_type": "code",
   "execution_count": null,
   "metadata": {},
   "outputs": [],
   "source": [
    "! pip install -U neptune-client"
   ]
  },
  {
   "cell_type": "markdown",
   "metadata": {},
   "source": [
    "## Initialize Neptune"
   ]
  },
  {
   "cell_type": "markdown",
   "metadata": {},
   "source": [
    "Connect your script to Neptune application and create new run."
   ]
  },
  {
   "cell_type": "code",
   "execution_count": null,
   "metadata": {},
   "outputs": [],
   "source": [
    "import neptune.new as neptune\n",
    "\n",
    "run = neptune.init_run(project=\"common/quickstarts\", api_token=neptune.ANONYMOUS_API_TOKEN)"
   ]
  },
  {
   "cell_type": "markdown",
   "metadata": {},
   "source": [
    "Click on the link above to open this run in Neptune. For now it is empty, but keep the tab with run open to see what happens next.\n",
    "\n",
    "With the `api_token` and `project` arguments, you tell Neptune: \n",
    "\n",
    "* **who you are**: with your Neptune API token\n",
    "* **where you want to send your data**: your Neptune project\n",
    "\n",
    "At this point you have new run in Neptune. From now on, we'll use the `run` object to log metadata.\n",
    "\n",
    "---\n",
    "\n",
    "**Note**\n",
    "\n",
    "\n",
    "Instead of logging data to the public project 'common/quickstarts' as an anonymous user, you can log it to your own project.\n",
    "\n",
    "To find and copy your credentials:\n",
    "\n",
    "1. Find your API token and securely set it depending on your system. Learn how to do that [here](https://docs.neptune.ai/setup/setting_api_token/).\n",
    "2. Pass your project name to the ``project`` argument. You can find it in the **project settings** &rarr; **Properties**.\n",
    "\n",
    "For example, in a Jupyter Notebook:\n",
    "\n",
    "```python\n",
    "from getpass import getpass\n",
    "\n",
    "neptune.init_run(\n",
    "    project=\"ml-team/classification\",\n",
    "    api_token=getpass(\"Enter your Neptune API token: \"),\n",
    ")\n",
    "```"
   ]
  },
  {
   "cell_type": "markdown",
   "metadata": {},
   "source": [
    "## Basic Example"
   ]
  },
  {
   "cell_type": "markdown",
   "metadata": {},
   "source": [
    "Lets start with something super simple.\n",
    "\n",
    "You will:\n",
    "* log parameters\n",
    "* log a training and validation scores\n",
    "* log loss\n",
    "* add name to the run\n",
    "* append two tags"
   ]
  },
  {
   "cell_type": "code",
   "execution_count": null,
   "metadata": {},
   "outputs": [],
   "source": [
    "params = {\"learning_rate\": 0.1}\n",
    "\n",
    "# log params\n",
    "run[\"parameters\"] = params\n",
    "\n",
    "# log name and append tags\n",
    "run[\"sys/name\"] = \"basic-colab-example\"\n",
    "run[\"sys/tags\"].add([\"colab\", \"intro\"])\n",
    "\n",
    "# log loss during training\n",
    "for epoch in range(100):\n",
    "    run[\"train/loss\"].log(0.99**epoch)\n",
    "\n",
    "# log train and validation scores\n",
    "run[\"train/accuracy\"] = 0.95\n",
    "run[\"valid/accuracy\"] = 0.93"
   ]
  },
  {
   "cell_type": "markdown",
   "metadata": {},
   "source": [
    "Runs can be viewed as dictionary-like structures - **namespaces** - that you can define in your code. You can apply hierarchical structure to your metadata that will be reflected in the web app as well. Thanks to this you can easily organize your metadata in a way you feel is most convenient.\n",
    "\n",
    "There is one special namespace: **system namespace**, denoted `sys`. You can use it to add name and tags to the run."
   ]
  },
  {
   "cell_type": "markdown",
   "metadata": {},
   "source": [
    "Try to change the values and re-execute to see your runs appear in the dashboard."
   ]
  },
  {
   "cell_type": "markdown",
   "metadata": {},
   "source": [
    "All `basic-colab-example` runs are grouped in [this dashboard view](https://app.neptune.ai/o/common/org/quickstarts/experiments?split=tbl&dash=charts&viewId=96fe9215-15ff-4bf8-9096-9d06a99a8b36).\n",
    "\n",
    "![colab-runs](https://neptune.ai/wp-content/uploads/Neptune_API_Tour_colab_runs.png)\n",
    "\n",
    "There are many other things that you can log to neptune:\n",
    "\n",
    "* Images and charts\n",
    "* Artifacts like model weights or results\n",
    "* Text values\n",
    "* Hardware consumption\n",
    "* Code snapshots\n",
    "* and more\n",
    "\n",
    "You can go and see all that in the [documentation](https://docs.neptune.ai/user-guides/logging-and-managing-runs-results/logging-runs-data), and also check out the next example to see some of those.\n"
   ]
  },
  {
   "cell_type": "markdown",
   "metadata": {},
   "source": [
    "**Stop logging**  \n",
    "\n",
    "<font color=red>**Warning:**</font><br>\n",
    "Once you are done logging, you should stop tracking the run using the `stop()` method.\n",
    "This is needed only while logging from a notebook environment. While logging through a script, Neptune automatically stops tracking once the script has completed execution."
   ]
  },
  {
   "cell_type": "code",
   "execution_count": null,
   "metadata": {},
   "outputs": [],
   "source": [
    "run.stop()"
   ]
  },
  {
   "cell_type": "markdown",
   "metadata": {},
   "source": [
    "## Keras classification example [Advanced]"
   ]
  },
  {
   "cell_type": "markdown",
   "metadata": {},
   "source": [
    "Install and import your machine learning libraries"
   ]
  },
  {
   "cell_type": "code",
   "execution_count": null,
   "metadata": {},
   "outputs": [],
   "source": [
    "! pip install scikit-plot tensorflow"
   ]
  },
  {
   "cell_type": "markdown",
   "metadata": {},
   "source": [
    "Get the data"
   ]
  },
  {
   "cell_type": "code",
   "execution_count": null,
   "metadata": {},
   "outputs": [],
   "source": [
    "import tensorflow as tf\n",
    "\n",
    "mnist = tf.keras.datasets.mnist\n",
    "\n",
    "(x_train, y_train), (x_test, y_test) = mnist.load_data()\n",
    "x_train, x_test = x_train / 255.0, x_test / 255.0"
   ]
  },
  {
   "cell_type": "markdown",
   "metadata": {},
   "source": [
    "Prepare the model"
   ]
  },
  {
   "cell_type": "code",
   "execution_count": null,
   "metadata": {},
   "outputs": [],
   "source": [
    "model = tf.keras.models.Sequential(\n",
    "    [\n",
    "        tf.keras.layers.Flatten(input_shape=(28, 28)),\n",
    "        tf.keras.layers.Dense(512, activation=\"relu\"),\n",
    "        tf.keras.layers.Dropout(0.2),\n",
    "        tf.keras.layers.Dense(10, activation=\"softmax\"),\n",
    "    ]\n",
    ")\n",
    "\n",
    "model.compile(optimizer=\"sgd\", loss=\"sparse_categorical_crossentropy\", metrics=[\"accuracy\"])"
   ]
  },
  {
   "cell_type": "markdown",
   "metadata": {},
   "source": [
    "To log metrics after every batch and epoch let's create `NeptuneLogger` callback:"
   ]
  },
  {
   "cell_type": "code",
   "execution_count": null,
   "metadata": {},
   "outputs": [],
   "source": [
    "from tensorflow.keras.callbacks import Callback\n",
    "\n",
    "\n",
    "class NeptuneLogger(Callback):\n",
    "    def on_batch_end(self, batch, logs=None):\n",
    "        if logs is None:\n",
    "            logs = {}\n",
    "        for log_name, log_value in logs.items():\n",
    "            run[f\"batch/{log_name}\"].log(log_value)\n",
    "\n",
    "    def on_epoch_end(self, epoch, logs=None):\n",
    "        if logs is None:\n",
    "            logs = {}\n",
    "        for log_name, log_value in logs.items():\n",
    "            run[f\"epoch/{log_name}\"].log(log_value)"
   ]
  },
  {
   "cell_type": "markdown",
   "metadata": {},
   "source": [
    "Now we simply need to create a run.\n",
    "I will tag it with the name `advanced` and log hyperparameters `epoch_nr` and `batch_size`: "
   ]
  },
  {
   "cell_type": "code",
   "execution_count": null,
   "metadata": {},
   "outputs": [],
   "source": [
    "EPOCH_NR = 5\n",
    "BATCH_SIZE = 32\n",
    "\n",
    "run = neptune.init_run(project=\"common/quickstarts\", api_token=neptune.ANONYMOUS_API_TOKEN)\n",
    "\n",
    "# log params\n",
    "run[\"parameters/epoch_nr\"] = EPOCH_NR\n",
    "run[\"parameters/batch_size\"] = BATCH_SIZE\n",
    "\n",
    "# log name and append tag\n",
    "run[\"sys/name\"] = \"keras-metrics\"\n",
    "run[\"sys/tags\"].add(\"advanced\")"
   ]
  },
  {
   "cell_type": "markdown",
   "metadata": {},
   "source": [
    "Now we pass our `NeptuneLogger` as keras callback and thats it."
   ]
  },
  {
   "cell_type": "code",
   "execution_count": null,
   "metadata": {},
   "outputs": [],
   "source": [
    "history = model.fit(\n",
    "    x=x_train,\n",
    "    y=y_train,\n",
    "    epochs=EPOCH_NR,\n",
    "    batch_size=BATCH_SIZE,\n",
    "    validation_data=(x_test, y_test),\n",
    "    callbacks=[NeptuneLogger()],\n",
    ")"
   ]
  },
  {
   "cell_type": "markdown",
   "metadata": {},
   "source": [
    "You can click on the run link above and monitor your learning curves as it is training!\n",
    "\n",
    "![advanced](https://neptune.ai/wp-content/uploads/charts-in-neptune.png)\n",
    "\n",
    "\n",
    "Great thing is, you can log more things if you need to during or after the training is finished.\n",
    "\n",
    "\n",
    "For example, let's calculate some additional metrics on test data and log them."
   ]
  },
  {
   "cell_type": "code",
   "execution_count": null,
   "metadata": {},
   "outputs": [],
   "source": [
    "import numpy as np\n",
    "\n",
    "y_test_pred = np.asarray(model.predict(x_test))\n",
    "y_test_pred_class = np.argmax(y_test_pred, axis=1)"
   ]
  },
  {
   "cell_type": "code",
   "execution_count": null,
   "metadata": {},
   "outputs": [],
   "source": [
    "from sklearn.metrics import f1_score\n",
    "\n",
    "run[\"test/f1\"] = f1_score(y_test, y_test_pred_class, average=\"micro\")"
   ]
  },
  {
   "cell_type": "markdown",
   "metadata": {},
   "source": [
    "We can log diagnostic charts like confusion matrix or ROC AUC curve."
   ]
  },
  {
   "cell_type": "code",
   "execution_count": null,
   "metadata": {},
   "outputs": [],
   "source": [
    "import matplotlib.pyplot as plt\n",
    "from scikitplot.metrics import plot_confusion_matrix, plot_roc\n",
    "\n",
    "fig, ax = plt.subplots(figsize=(16, 12))\n",
    "plot_confusion_matrix(y_test, y_test_pred_class, ax=ax)\n",
    "run[\"diagnostic_charts\"].log(fig)\n",
    "\n",
    "fig, ax = plt.subplots(figsize=(16, 12))\n",
    "plot_roc(y_test, y_test_pred, ax=ax)\n",
    "run[\"diagnostic_charts\"].log(fig)"
   ]
  },
  {
   "cell_type": "markdown",
   "metadata": {},
   "source": [
    "![Saved charts](https://neptune.ai/wp-content/uploads/Neptune_API_Tour_saved_charts.png)\n",
    "\n",
    "We can also log model weights to Neptune."
   ]
  },
  {
   "cell_type": "code",
   "execution_count": null,
   "metadata": {},
   "outputs": [],
   "source": [
    "model.save(\"my_model.h5\")\n",
    "run[\"model\"].upload(\"my_model.h5\")"
   ]
  },
  {
   "cell_type": "markdown",
   "metadata": {},
   "source": [
    "![Model](https://neptune.ai/wp-content/uploads/model-metadata-in-neptune.png)\n",
    "\n",
    "With that you can share models with your teammates easily."
   ]
  },
  {
   "cell_type": "markdown",
   "metadata": {},
   "source": [
    "You can play around and execute this run with different parameters and see results and compare them.\n",
    "\n",
    "Like I've done here:\n",
    "\n",
    "![Compare runs](https://neptune.ai/wp-content/uploads/compare-runs.png)\n",
    "\n",
    "A cool thing is, once things are logged to Neptune you can access them from wherever you want.\n",
    "Let me show you. \n",
    "\n"
   ]
  },
  {
   "cell_type": "markdown",
   "metadata": {},
   "source": [
    "## Access data you logged programatically "
   ]
  },
  {
   "cell_type": "markdown",
   "metadata": {},
   "source": [
    "## Getting the project's leaderboard"
   ]
  },
  {
   "cell_type": "markdown",
   "metadata": {},
   "source": [
    "You can use the project object to get aggregate data of all your runs. Here, fetch only runs with tag 'advanced'."
   ]
  },
  {
   "cell_type": "code",
   "execution_count": null,
   "metadata": {},
   "outputs": [],
   "source": [
    "my_project = neptune.init_project(\n",
    "    name=\"common/quickstarts\", api_token=neptune.ANONYMOUS_API_TOKEN, mode=\"read-only\"\n",
    ")\n",
    "run_df = my_project.fetch_runs_table(tag=[\"advanced\"]).to_pandas()\n",
    "run_df.head()"
   ]
  },
  {
   "cell_type": "markdown",
   "metadata": {},
   "source": [
    "**Stop logging** \n",
    "\n",
    "<font color=red>**Warning:**</font><br>\n",
    "Once you are done logging, you should stop tracking the run using the `stop()` method.\n",
    "This is needed only while logging from a notebook environment. While logging through a script, Neptune automatically stops tracking once the script has completed execution."
   ]
  },
  {
   "cell_type": "code",
   "execution_count": null,
   "metadata": {},
   "outputs": [],
   "source": [
    "run.stop()"
   ]
  },
  {
   "cell_type": "markdown",
   "metadata": {},
   "source": [
    "## Getting the run's metadata"
   ]
  },
  {
   "cell_type": "markdown",
   "metadata": {},
   "source": [
    "Neptune lets you fetch whatever you logged to it directly to your notebooks and scripts."
   ]
  },
  {
   "cell_type": "code",
   "execution_count": null,
   "metadata": {},
   "outputs": [],
   "source": [
    "run = neptune.init_run(\n",
    "    project=\"common/quickstarts\",\n",
    "    api_token=neptune.ANONYMOUS_API_TOKEN,\n",
    "    with_id=\"QUI-80989\",\n",
    "    mode=\"read-only\",\n",
    ")"
   ]
  },
  {
   "cell_type": "markdown",
   "metadata": {},
   "source": [
    "Now that your run is *fetched* you can download the metadata."
   ]
  },
  {
   "cell_type": "code",
   "execution_count": null,
   "metadata": {},
   "outputs": [],
   "source": [
    "batch_size = run[\"parameters/batch_size\"].fetch()\n",
    "last_batch_acc = run[\"batch/accuracy\"].fetch_last()\n",
    "print(f\"batch_size: {batch_size}\")\n",
    "print(f\"last_batch_acc: {last_batch_acc}\")"
   ]
  },
  {
   "cell_type": "markdown",
   "metadata": {},
   "source": [
    "You can even download artifacts from that run if you want to:\n",
    "\n"
   ]
  },
  {
   "cell_type": "code",
   "execution_count": null,
   "metadata": {},
   "outputs": [],
   "source": [
    "run[\"model\"].download()"
   ]
  },
  {
   "cell_type": "code",
   "execution_count": null,
   "metadata": {},
   "outputs": [],
   "source": [
    "! ls ./"
   ]
  },
  {
   "cell_type": "markdown",
   "metadata": {},
   "source": [
    "**Stop logging**  \n",
    "\n",
    "<font color=red>**Warning:**</font><br>\n",
    "Once you are done logging, you should stop tracking the run using the `stop()` method.\n",
    "This is needed only while logging from a notebook environment. While logging through a script, Neptune automatically stops tracking once the script has completed execution."
   ]
  },
  {
   "cell_type": "code",
   "execution_count": null,
   "metadata": {},
   "outputs": [],
   "source": [
    "run.stop()"
   ]
  },
  {
   "cell_type": "markdown",
   "metadata": {
    "tags": [
     "comment"
    ]
   },
   "source": [
    "## Learn more about Neptune\n",
    "\n",
    "Read about other Neptune features, create your free account and start logging!\n",
    "\n",
    "[Go to Neptune](https://neptune.ai/register)"
   ]
  }
 ],
 "metadata": {
  "colab": {
   "collapsed_sections": [],
   "name": "Neptune_API_Tour.ipynb",
   "provenance": [],
   "toc_visible": true
  },
  "language_info": {
   "codemirror_mode": {
    "name": "ipython",
    "version": 3
   },
   "file_extension": ".py",
   "mimetype": "text/x-python",
   "name": "python",
   "nbconvert_exporter": "python",
   "pygments_lexer": "ipython3",
   "version": "3.10.8"
  },
  "vscode": {
   "interpreter": {
    "hash": "ec001e92a202bf5caf822e845ea5ad1be0f2e89477ccf084fef05c1d70e5b02a"
   }
  }
 },
 "nbformat": 4,
 "nbformat_minor": 4
}
