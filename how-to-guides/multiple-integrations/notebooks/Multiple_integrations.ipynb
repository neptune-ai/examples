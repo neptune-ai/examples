{
 "cells": [
  {
   "attachments": {},
   "cell_type": "markdown",
   "metadata": {},
   "source": [
    "# How to use multiple Neptune integrations together\n",
    "\n",
    "<a target=\"_blank\" href=\"https://colab.research.google.com/github/neptune-ai/examples/blob/main/how-to-guides/multiple-integrations/notebooks/Multiple_integrations.ipynb\">\n",
    "  <img src=\"https://colab.research.google.com/assets/colab-badge.svg\" alt=\"Open in Colab\"/>\n",
    "</a><a target=\"_blank\" href=\"https://github.com/neptune-ai/examples/blob/main/how-to-guides/multiple-integrations\">\n",
    "  <img alt=\"Open in GitHub\" src=\"https://img.shields.io/badge/Open_in_GitHub-blue?logo=github&labelColor=black\">\n",
    "</a><a target=\"_blank\" href=\"https://app.neptune.ai/o/showcase/org/Multiple-integrations/runs/details?viewId=standard-view&detailsTab=metadata&shortId=MUL-1\"> \n",
    "  <img alt=\"Explore in Neptune\" src=\"https://neptune.ai/wp-content/uploads/2024/01/neptune-badge.svg\">\n",
    "</a><a target=\"_blank\" href=\"https://docs.neptune.ai/tutorials/multiple-integrations/\">\n",
    "  <img alt=\"View tutorial in docs\" src=\"https://neptune.ai/wp-content/uploads/2024/01/docs-badge-2.svg\">\n",
    "</a>\n",
    "\n",
    "## Introduction\n",
    "\n",
    "Neptune's integrations work independently of each other. This means that you can use multiple integrations together.\n",
    "\n",
    "For example, if you are doing hyperparameter optimization using Optuna on scikit-learn models, you can use both our Optuna and scikit-learn integrations together in the same script. The [Optuna integration](https://docs.neptune.ai/integrations/optuna/) will log all the relevant Optuna Study and Trial metadata, while the [scikit-learn integration](https://docs.neptune.ai/integrations/sklearn/) will log the scikit-learn model metadata. If you use Airflow to schedule the above setup, you can add our [Airflow integration](https://docs.neptune.ai/integrations/airflow/) to automatically log Airflow metadata.\n",
    "\n",
    "However, since the integrations work independently, it is necessary to organize the logged metadata in a way that makes it easy for you to search for the information you need, without it being overwritten by another integration.\n",
    "\n",
    "This notebook shows how you can use Neptune's Optuna and scikit-learn integrations together. For an example of a similar setup with Airflow scheduling on top, check this script &rarr; [Multiple_integrations.py](../scripts/Multiple_integrations.py).\n",
    "\n",
    "The concepts remain the same irrespective of the integration you are using. Check the list of all Neptune's integrations here &rarr; [Integrations](https://docs.neptune.ai/integrations/)"
   ]
  },
  {
   "cell_type": "markdown",
   "metadata": {},
   "source": [
    "## Before you start\n",
    "\n",
    "This notebook example lets you try out Neptune anonymously, with zero setup.\n",
    "\n",
    "If you want to see the example logged to your own workspace instead:\n",
    "\n",
    "  1. Create a Neptune account. [Register &rarr;](https://neptune.ai/register)\n",
    "  1. Create a Neptune project that you will use for tracking metadata. For instructions, see [Creating a project](https://docs.neptune.ai/setup/creating_project) in the Neptune docs."
   ]
  },
  {
   "cell_type": "markdown",
   "metadata": {},
   "source": [
    "## Install Neptune and dependencies"
   ]
  },
  {
   "cell_type": "code",
   "execution_count": null,
   "metadata": {},
   "outputs": [],
   "source": [
    "%pip install -q -U \"neptune[sklearn,optuna]\" scikit-learn optuna matplotlib"
   ]
  },
  {
   "cell_type": "code",
   "execution_count": null,
   "metadata": {},
   "outputs": [],
   "source": [
    "# Run this if you get a `RuntimeError: main thread is not in main loop` error\n",
    "import matplotlib\n",
    "\n",
    "matplotlib.use(\"Agg\")"
   ]
  },
  {
   "cell_type": "markdown",
   "metadata": {},
   "source": [
    "## Prepare the dataset"
   ]
  },
  {
   "cell_type": "code",
   "execution_count": null,
   "metadata": {},
   "outputs": [],
   "source": [
    "from sklearn.model_selection import train_test_split\n",
    "from sklearn.datasets import fetch_california_housing\n",
    "\n",
    "data, target = fetch_california_housing(return_X_y=True)\n",
    "X_train, X_test, y_train, y_test = train_test_split(data, target, test_size=0.25)"
   ]
  },
  {
   "cell_type": "markdown",
   "metadata": {},
   "source": [
    "## Create the Optuna objective function\n",
    "\n",
    "We'll use the scikit-learn integration inside the objective function to log model metadata for all trained models in each trial.\n",
    "\n",
    "**💡 Tip**  \n",
    "If you want to compare metadata across different trials, you can create a separate run for each trial as described here &rarr; [Logging each trial as separate Neptune run](https://docs.neptune.ai/integrations/optuna/#logging-each-trial-as-separate-neptune-run)"
   ]
  },
  {
   "cell_type": "code",
   "execution_count": null,
   "metadata": {
    "tags": [
     "code"
    ]
   },
   "outputs": [],
   "source": [
    "from sklearn.ensemble import RandomForestRegressor\n",
    "from neptune.integrations.sklearn import create_regressor_summary\n",
    "\n",
    "\n",
    "def objective(trial):\n",
    "    param = {\n",
    "        \"n_estimators\": trial.suggest_int(\"n_estimators\", 2, 64),\n",
    "        \"max_depth\": trial.suggest_int(\"max_depth\", 2, 5),\n",
    "        \"min_samples_split\": trial.suggest_int(\"min_samples_split\", 3, 10),\n",
    "    }\n",
    "\n",
    "    # Train the model\n",
    "    model = RandomForestRegressor(**param)\n",
    "    model.fit(X_train, y_train)\n",
    "\n",
    "    # Log model summary for each trial under the \"sklearn\" namespace\n",
    "    run[f\"sklearn/model_summary_{trial.number}\"] = create_regressor_summary(\n",
    "        model, X_train, X_test, y_train, y_test\n",
    "    )\n",
    "\n",
    "    # Fetch objective score from the run\n",
    "    run.wait()\n",
    "    score = run[f\"sklearn/model_summary_{trial.number}/test/scores/mean_absolute_error\"].fetch()\n",
    "\n",
    "    return score"
   ]
  },
  {
   "cell_type": "markdown",
   "metadata": {},
   "source": [
    "## Create the Optuna study and Neptune run"
   ]
  },
  {
   "cell_type": "code",
   "execution_count": null,
   "metadata": {},
   "outputs": [],
   "source": [
    "import optuna\n",
    "\n",
    "study = optuna.create_study(direction=\"minimize\")"
   ]
  },
  {
   "cell_type": "code",
   "execution_count": null,
   "metadata": {},
   "outputs": [],
   "source": [
    "import neptune\n",
    "\n",
    "run = neptune.init_run(\n",
    "    project=\"common/multiple-integrations\",  # Replace with your own\n",
    "    api_token=neptune.ANONYMOUS_API_TOKEN,  # Replace with your own\n",
    "    capture_hardware_metrics=True,\n",
    "    capture_stderr=True,\n",
    "    capture_stdout=True,\n",
    "    tags=[\"notebook\", \"optuna\", \"sklearn\"],\n",
    "    dependencies=\"infer\",\n",
    ")"
   ]
  },
  {
   "cell_type": "markdown",
   "metadata": {},
   "source": [
    "## Initialize Neptune's Optuna callback\n",
    "The below will log the Optuna sweeps and trials to the study-level run under the \"optuna\" namespace."
   ]
  },
  {
   "cell_type": "code",
   "execution_count": null,
   "metadata": {},
   "outputs": [],
   "source": [
    "from neptune.integrations.optuna import NeptuneCallback\n",
    "\n",
    "neptune_optuna_callback = NeptuneCallback(run, base_namespace=\"optuna\")"
   ]
  },
  {
   "cell_type": "markdown",
   "metadata": {},
   "source": [
    "## Run the hyperparameter-sweep with Neptune's Optuna callback"
   ]
  },
  {
   "cell_type": "code",
   "execution_count": null,
   "metadata": {},
   "outputs": [],
   "source": [
    "study.optimize(objective, n_trials=3, callbacks=[neptune_optuna_callback])"
   ]
  },
  {
   "cell_type": "markdown",
   "metadata": {},
   "source": [
    "## Stop the run"
   ]
  },
  {
   "cell_type": "code",
   "execution_count": null,
   "metadata": {},
   "outputs": [],
   "source": [
    "run.stop()"
   ]
  },
  {
   "cell_type": "markdown",
   "metadata": {},
   "source": [
    "## Explore the results in Neptune\n",
    "Follow the link to open the run in Neptune. You can explore the scikit-learn and Optuna metadata in the \"sklearn\" and \"optuna\" namespaces, respectively.\n",
    "\n",
    "You can also check out this [example run](https://app.neptune.ai/o/showcase/org/multiple-integrations/runs/details?viewId=standard-view&detailsTab=metadata&shortId=MUL-2)."
   ]
  }
 ],
 "metadata": {
  "colab": {
   "collapsed_sections": [],
   "name": "Neptune_Multiple_Integrations.ipynb",
   "provenance": [],
   "toc_visible": true
  },
  "kernelspec": {
   "display_name": "py38",
   "language": "python",
   "name": "python3"
  },
  "language_info": {
   "codemirror_mode": {
    "name": "ipython",
    "version": 3
   },
   "file_extension": ".py",
   "mimetype": "text/x-python",
   "name": "python",
   "nbconvert_exporter": "python",
   "pygments_lexer": "ipython3",
   "version": "3.10.11"
  },
  "vscode": {
   "interpreter": {
    "hash": "a9715cf0b0024f6e1c62cb31a4f1f43970eb41991212681878768b4bfe53050a"
   }
  }
 },
 "nbformat": 4,
 "nbformat_minor": 4
}
