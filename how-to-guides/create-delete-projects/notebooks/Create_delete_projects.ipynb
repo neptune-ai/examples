{
 "cells": [
  {
   "cell_type": "markdown",
   "metadata": {
    "tags": [
     "header"
    ]
   },
   "source": [
    "# Create and delete projects via Neptune API"
   ]
  },
  {
   "cell_type": "markdown",
   "metadata": {
    "tags": [
     "header",
     "comment"
    ]
   },
   "source": []
  },
  {
   "cell_type": "markdown",
   "metadata": {
    "tags": [
     "header",
     "comment"
    ]
   },
   "source": [
    "This guide will show you how to programmatically:\n",
    "\n",
    "* Create Neptune project \n",
    "* Delete Neptune project \n",
    "* List all projects you have access to"
   ]
  },
  {
   "cell_type": "markdown",
   "metadata": {
    "tags": [
     "header",
     "installation"
    ]
   },
   "source": [
    "## Before you start\n",
    "\n",
    "* Create a Neptune account → [Take me to registration](https://neptune.ai/register)\n",
    "* If you are running the notebook on your local machine, you need to have [Python](https://www.python.org/downloads/) and [pip](https://pypi.org/project/pip/) installed."
   ]
  },
  {
   "cell_type": "markdown",
   "metadata": {},
   "source": [
    "## Install Neptune and dependencies"
   ]
  },
  {
   "cell_type": "code",
   "execution_count": null,
   "metadata": {
    "tags": [
     "installation"
    ]
   },
   "outputs": [],
   "source": [
    "! pip install neptune-client --upgrade"
   ]
  },
  {
   "cell_type": "markdown",
   "metadata": {},
   "source": [
    "## Create a project"
   ]
  },
  {
   "cell_type": "markdown",
   "metadata": {
    "tags": [
     "comment"
    ]
   },
   "source": [
    "Use `.create_project` function to create a Neptune project in your workspace. "
   ]
  },
  {
   "cell_type": "code",
   "execution_count": null,
   "metadata": {},
   "outputs": [],
   "source": [
    "from neptune import management\n",
    "\n",
    "management.create_project(\n",
    "    name=\"YOUR_WORKSPACE/YOUR_PROJECT\",\n",
    "    key=\"YOUR_PROJECT_KEY\",\n",
    "    api_token=\"YOUR_API_TOKEN\",\n",
    "    visibility=\"pub\",\n",
    ")"
   ]
  },
  {
   "cell_type": "markdown",
   "metadata": {
    "tags": [
     "comment"
    ]
   },
   "source": [
    "In the above code You tell Neptune: \n",
    "\n",
    "* **name of the project you want to create**: your full Neptune project `name`.\n",
    "* **short key for the project you want to create**: your Neptune project key `key`.\n",
    "* **who you are**: your Neptune API token `api_token` \n",
    "* **whether you want this project to be public or private**: your project visibility level `visibility`.\n",
    "\n",
    "Now, you can get a list of your projects and see `common/YOUR_PROJECT` in there."
   ]
  },
  {
   "cell_type": "code",
   "execution_count": null,
   "metadata": {
    "colab": {
     "base_uri": "https://localhost:8080/",
     "height": 71
    },
    "colab_type": "code",
    "id": "XMdpj-Se4t0U",
    "outputId": "d66a1df2-ed95-4790-c799-fe7f6a980b39",
    "tags": [
     "code"
    ]
   },
   "outputs": [],
   "source": [
    "management.get_project_list(api_token=\"YOUR_API_TOKEN\")[:10]"
   ]
  },
  {
   "cell_type": "markdown",
   "metadata": {},
   "source": [
    "This will list your ten most recent projects"
   ]
  },
  {
   "cell_type": "markdown",
   "metadata": {
    "tags": [
     "header"
    ]
   },
   "source": [
    "## Delete a project"
   ]
  },
  {
   "cell_type": "markdown",
   "metadata": {
    "tags": [
     "comment"
    ]
   },
   "source": [
    "Now you can delete your projects with the `.delete_project` function:"
   ]
  },
  {
   "cell_type": "code",
   "execution_count": null,
   "metadata": {
    "tags": [
     "code"
    ]
   },
   "outputs": [],
   "source": [
    "management.delete_project(name=\"common/YOUR_PROJECT\", api_token=\"YOUR_API_TOKEN\")[:10]"
   ]
  },
  {
   "cell_type": "markdown",
   "metadata": {},
   "source": [
    "You can check that `common/YOUR_PROJECT` is deleted."
   ]
  },
  {
   "cell_type": "code",
   "execution_count": null,
   "metadata": {},
   "outputs": [],
   "source": [
    "management.get_project_list(api_token=\"YOUR_API_TOKEN\")"
   ]
  },
  {
   "cell_type": "markdown",
   "metadata": {
    "tags": [
     "comment"
    ]
   },
   "source": [
    "## Conclusion\n",
    "\n",
    "You’ve learned how to:\n",
    "\n",
    "* Create Neptune project \n",
    "* Delete Neptune project \n",
    "* List all projects you have access to"
   ]
  },
  {
   "cell_type": "markdown",
   "metadata": {
    "tags": [
     "comment"
    ]
   },
   "source": [
    "## See also\n",
    "\n",
    "* [Querying and downloading metadata](https://docs.neptune.ai/you-should-know/querying-and-downloading-metadata)\n",
    "* [Continuous Integration and Delivery(CI/CD) in Neptune](https://docs.neptune.ai/how-to-guides/automation-pipelines/ci-cd)\n",
    "* [Use Neptune with Docker](https://docs.neptune.ai/how-to-guides/automation-pipelines/how-to-use-neptune-with-docker)\n",
    "* [What are Workspaces in Neptune](https://docs.neptune.ai/administration/workspaces)"
   ]
  }
 ],
 "metadata": {
  "kernelspec": {
   "display_name": "Python (neptune-examples)",
   "language": "python",
   "name": "neptune-examples"
  },
  "language_info": {
   "codemirror_mode": {
    "name": "ipython",
    "version": 3
   },
   "file_extension": ".py",
   "mimetype": "text/x-python",
   "name": "python",
   "nbconvert_exporter": "python",
   "pygments_lexer": "ipython3",
   "version": "3.10.2"
  }
 },
 "nbformat": 4,
 "nbformat_minor": 4
}
