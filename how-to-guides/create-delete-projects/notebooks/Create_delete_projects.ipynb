{
 "cells": [
  {
   "attachments": {},
   "cell_type": "markdown",
   "metadata": {
    "tags": [
     "header"
    ]
   },
   "source": [
    "# Create and delete projects via Neptune API\n",
    "\n",
    "<a target=\"_blank\" href=\"https://colab.research.google.com/github/neptune-ai/examples/blob/main/how-to-guides/create-delete-projects/notebooks/Create_delete_projects.ipynb\">\n",
    "  <img src=\"https://colab.research.google.com/assets/colab-badge.svg\" alt=\"Open in Colab\"/>\n",
    "</a><a target=\"_blank\" href=\"https://github.com/neptune-ai/examples/blob/main/how-to-guides/create-delete-projects/notebooks/Create_delete_projects.ipynb\">\n",
    "  <img alt=\"Open in GitHub\" src=\"https://img.shields.io/badge/Open_in_GitHub-blue?logo=github&labelColor=black\">\n",
    "</a><a target=\"_blank\" href=\"https://docs.neptune.ai/api/creating_and_deleting_projects/\">\n",
    "  <img alt=\"View tutorial in docs\" src=\"https://neptune.ai/wp-content/uploads/2024/01/docs-badge-2.svg\">\n",
    "</a>"
   ]
  },
  {
   "attachments": {},
   "cell_type": "markdown",
   "metadata": {},
   "source": [
    "This guide will show you how to programmatically:\n",
    "\n",
    "* Create Neptune project \n",
    "* Delete Neptune project \n",
    "* List all projects you have access to"
   ]
  },
  {
   "attachments": {},
   "cell_type": "markdown",
   "metadata": {},
   "source": [
    "## Before you start\n",
    "\n",
    "This notebook example lets you try out Neptune as an anonymous user, with zero setup.\n",
    "\n",
    "If you want to see the example logged to your own workspace instead:\n",
    "\n",
    "  1. Create a Neptune account. [Register &rarr;](https://neptune.ai/register)\n",
    "  1. Create a Neptune project that you will use for tracking metadata. For instructions, see [Creating a project](https://docs.neptune.ai/setup/creating_project) in the Neptune docs."
   ]
  },
  {
   "attachments": {},
   "cell_type": "markdown",
   "metadata": {},
   "source": [
    "## Install Neptune and dependencies"
   ]
  },
  {
   "cell_type": "code",
   "execution_count": null,
   "metadata": {
    "tags": [
     "installation"
    ]
   },
   "outputs": [],
   "source": [
    "! pip install -U neptune"
   ]
  },
  {
   "attachments": {},
   "cell_type": "markdown",
   "metadata": {},
   "source": [
    "## Create a project\n",
    "\n",
    "Use the `create_project()` function to create a Neptune project in your workspace. "
   ]
  },
  {
   "cell_type": "code",
   "execution_count": null,
   "metadata": {},
   "outputs": [],
   "source": [
    "from neptune import management\n",
    "\n",
    "management.create_project(\n",
    "    workspace=\"YOUR_WORKSPACE\",\n",
    "    name=\"YOUR_NEW_PROJECT_NAME\",\n",
    "    key=\"YOUR_PROJECT_KEY\",\n",
    "    api_token=\"YOUR_API_TOKEN\",\n",
    "    visibility=\"pub\",\n",
    ")"
   ]
  },
  {
   "attachments": {},
   "cell_type": "markdown",
   "metadata": {
    "tags": [
     "comment"
    ]
   },
   "source": [
    "We use the function arguments to tell Neptune who we are and what the project should be like.\n",
    "\n",
    "- `workspace`: the Neptune workspace where the project should go.\n",
    "- `name`: your Neptune project name. It can contain alphanumerical characters and hyphens (-) and is not case-sensitive.\n",
    "- `key`: your Neptune project key. Consists of 1-10 capital letters.\n",
    "- `api_token`: your Neptune API token. The account associated with the token needs to be a member of the specified workspace.\n",
    "- `visibility`: the privacy level of the project.\n",
    "    - `\"pub\"`: accessible to anyone on the internet. Note that admins can disable the option to create public projects.\n",
    "    - `\"workspace\"`: accessible to all workspace members.\n",
    "    - `\"priv\"`: private project. Only users explicitly assigned to the project can see and access it (not available on the Team plan)."
   ]
  },
  {
   "attachments": {},
   "cell_type": "markdown",
   "metadata": {},
   "source": [
    "## List projects\n",
    "\n",
    "Now you can get a list of projects you have access to.\n",
    "\n",
    "You'll see the project you just created in there."
   ]
  },
  {
   "cell_type": "code",
   "execution_count": null,
   "metadata": {
    "colab_type": "code",
    "tags": [
     "code"
    ]
   },
   "outputs": [],
   "source": [
    "management.get_project_list(\n",
    "    api_token=\"YOUR_API_TOKEN\",  # replace with your own\n",
    ")"
   ]
  },
  {
   "attachments": {},
   "cell_type": "markdown",
   "metadata": {
    "tags": [
     "header"
    ]
   },
   "source": [
    "## Delete a project\n",
    "\n",
    "You can delete projects with the `delete_project()` function:"
   ]
  },
  {
   "cell_type": "code",
   "execution_count": null,
   "metadata": {
    "tags": [
     "code"
    ]
   },
   "outputs": [],
   "source": [
    "management.delete_project(project=\"YOUR_WORKSPACE/YOUR_PROJECT\", api_token=\"YOUR_API_TOKEN\")"
   ]
  },
  {
   "attachments": {},
   "cell_type": "markdown",
   "metadata": {},
   "source": [
    "You can check that `YOUR_WORKSPACE/YOUR_PROJECT` is deleted."
   ]
  },
  {
   "cell_type": "code",
   "execution_count": null,
   "metadata": {},
   "outputs": [],
   "source": [
    "management.get_project_list(api_token=\"YOUR_API_TOKEN\")"
   ]
  },
  {
   "attachments": {},
   "cell_type": "markdown",
   "metadata": {
    "tags": [
     "comment"
    ]
   },
   "source": [
    "## Conclusion\n",
    "\n",
    "You’ve learned how to:\n",
    "\n",
    "* Create Neptune project \n",
    "* Delete Neptune project \n",
    "* List all projects you have access to"
   ]
  },
  {
   "attachments": {},
   "cell_type": "markdown",
   "metadata": {
    "tags": [
     "comment"
    ]
   },
   "source": [
    "## See also\n",
    "\n",
    "* [Querying and downloading metadata](https://docs.neptune.ai/you-should-know/querying-and-downloading-metadata)\n",
    "* [Continuous Integration and Delivery(CI/CD) in Neptune](https://docs.neptune.ai/how-to-guides/automation-pipelines/ci-cd)\n",
    "* [Use Neptune with Docker](https://docs.neptune.ai/how-to-guides/automation-pipelines/how-to-use-neptune-with-docker)\n",
    "* [What are Workspaces in Neptune](https://docs.neptune.ai/administration/workspaces)"
   ]
  }
 ],
 "metadata": {
  "kernelspec": {
   "display_name": "py38",
   "language": "python",
   "name": "python3"
  },
  "language_info": {
   "codemirror_mode": {
    "name": "ipython",
    "version": 3
   },
   "file_extension": ".py",
   "mimetype": "text/x-python",
   "name": "python",
   "nbconvert_exporter": "python",
   "pygments_lexer": "ipython3",
   "version": "3.10.11"
  },
  "vscode": {
   "interpreter": {
    "hash": "a9715cf0b0024f6e1c62cb31a4f1f43970eb41991212681878768b4bfe53050a"
   }
  }
 },
 "nbformat": 4,
 "nbformat_minor": 4
}
