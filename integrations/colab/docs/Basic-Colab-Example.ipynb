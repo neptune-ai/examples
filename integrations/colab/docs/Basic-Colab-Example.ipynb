{
 "cells": [
  {
   "cell_type": "markdown",
   "metadata": {
    "id": "71btcZadQ7MF",
    "tags": [
     "header",
     "installation"
    ]
   },
   "source": [
    "# Quickstart"
   ]
  },
  {
   "cell_type": "markdown",
   "metadata": {
    "id": "0NQaVXuoWA-E",
    "tags": [
     "header",
     "installation"
    ]
   },
   "source": [
    "## Install ```neptune-client```"
   ]
  },
  {
   "cell_type": "code",
   "execution_count": null,
   "metadata": {
    "id": "wmpN4W8wQ7MI",
    "tags": [
     "installation"
    ]
   },
   "outputs": [],
   "source": [
    "! pip install --quiet git+https://github.com/neptune-ai/neptune-client.git@alpha"
   ]
  },
  {
   "cell_type": "markdown",
   "metadata": {
    "colab_type": "text",
    "id": "7LFLtV5R5JKT",
    "tags": [
     "header"
    ]
   },
   "source": [
    "## Initialize Neptune"
   ]
  },
  {
   "cell_type": "markdown",
   "metadata": {
    "id": "-KClvAKTQ7MR",
    "tags": [
     "header"
    ]
   },
   "source": [
    "### (option 1) Initialize a public project"
   ]
  },
  {
   "cell_type": "code",
   "execution_count": null,
   "metadata": {
    "colab": {
     "base_uri": "https://localhost:8080/",
     "height": 71
    },
    "colab_type": "code",
    "id": "XMdpj-Se4t0U",
    "outputId": "d66a1df2-ed95-4790-c799-fe7f6a980b39",
    "tags": [
     "code"
    ]
   },
   "outputs": [],
   "source": [
    "import neptune.new as neptune\n",
    "\n",
    "run = neptune.init(project='common/showroom', api_token='ANONYMOUS')"
   ]
  },
  {
   "cell_type": "markdown",
   "metadata": {
    "id": "pk4ZgmW9Q7Mg",
    "tags": [
     "header"
    ]
   },
   "source": [
    "## Step 4: Log metadata during training"
   ]
  },
  {
   "cell_type": "code",
   "execution_count": null,
   "metadata": {
    "id": "jZdLObUSQ7Mi",
    "tags": [
     "code"
    ]
   },
   "outputs": [],
   "source": [
    "params = {'learning_rate': 0.1}\n",
    "\n",
    "# log params\n",
    "run['parameters'] = params\n",
    "\n",
    "# log name and append tags\n",
    "run[\"sys/name\"] = 'colab-example'\n",
    "run[\"sys/tags\"].add(['colab', 'simple'])\n",
    "\n",
    "# log loss during training\n",
    "for epoch in range(132):\n",
    "    run[\"train/loss\"].log(0.97 ** epoch)\n",
    "    run[\"train/loss-pow-2\"].log((0.97 ** epoch)**2)\n",
    "\n",
    "# log train and validation scores\n",
    "run['train/accuracy'] = 0.95\n",
    "run['valid/accuracy'] = 0.93"
   ]
  }
 ],
 "metadata": {
  "colab": {
   "collapsed_sections": [],
   "name": "Basic-Colab-Example.ipynb",
   "private_outputs": true,
   "provenance": []
  },
  "kernelspec": {
   "display_name": "Python 3",
   "language": "python",
   "name": "python3"
  },
  "language_info": {
   "codemirror_mode": {
    "name": "ipython",
    "version": 3
   },
   "file_extension": ".py",
   "mimetype": "text/x-python",
   "name": "python",
   "nbconvert_exporter": "python",
   "pygments_lexer": "ipython3",
   "version": "3.6.9"
  },
  "toc-autonumbering": true,
  "toc-showcode": false,
  "toc-showmarkdowntxt": false,
  "toc-showtags": true
 },
 "nbformat": 4,
 "nbformat_minor": 4
}
