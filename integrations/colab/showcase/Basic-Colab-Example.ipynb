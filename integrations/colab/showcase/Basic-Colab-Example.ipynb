{
 "cells": [
  {
   "cell_type": "markdown",
   "metadata": {
    "id": "GG3_2HyRVY4Y",
    "tags": [
     "header",
     "comment"
    ]
   },
   "source": [
    "# Introduction"
   ]
  },
  {
   "cell_type": "markdown",
   "metadata": {
    "id": "3wSDx9alU7Zx",
    "tags": [
     "comment"
    ]
   },
   "source": [
    "This guide will show you how to:\n",
    "\n",
    "* Install ```neptune-client```,\n",
    "* Connect Neptune to your Colab notebook and create the first run,\n",
    "* Log metadata to Neptune and explore them in the UI."
   ]
  },
  {
   "cell_type": "markdown",
   "metadata": {
    "id": "71btcZadQ7MF",
    "tags": [
     "header",
     "installation"
    ]
   },
   "source": [
    "# Quickstart"
   ]
  },
  {
   "cell_type": "markdown",
   "metadata": {
    "id": "0NQaVXuoWA-E",
    "tags": [
     "header",
     "installation"
    ]
   },
   "source": [
    "## Install ```neptune-client```"
   ]
  },
  {
   "cell_type": "code",
   "execution_count": null,
   "metadata": {
    "id": "wmpN4W8wQ7MI",
    "tags": [
     "installation"
    ]
   },
   "outputs": [],
   "source": [
    "! pip install neptune-client==0.9.0"
   ]
  },
  {
   "cell_type": "markdown",
   "metadata": {
    "colab_type": "text",
    "id": "7LFLtV5R5JKT",
    "tags": [
     "header"
    ]
   },
   "source": [
    "## Initialize Neptune"
   ]
  },
  {
   "cell_type": "markdown",
   "metadata": {
    "tags": [
     "comment"
    ]
   },
   "source": [
    "Connect your script to Neptune application and create new run."
   ]
  },
  {
   "cell_type": "markdown",
   "metadata": {
    "id": "-KClvAKTQ7MR",
    "tags": [
     "header"
    ]
   },
   "source": [
    "### (option 1) Initialize a public project"
   ]
  },
  {
   "cell_type": "markdown",
   "metadata": {
    "id": "0QhyfqDWWvlx",
    "tags": [
     "comment"
    ]
   },
   "source": [
    "Neptune gives you an option of logging data under a public project as an anonymous user. This is great when you are just trying out the application and don't have a Neptune account yet."
   ]
  },
  {
   "cell_type": "markdown",
   "metadata": {
    "tags": [
     "comment"
    ]
   },
   "source": [
    "Below, you tell Neptune: \n",
    "\n",
    "* **who you are**: your Neptune API token `api_token` \n",
    "* **where you want to send your data**: your Neptune `project`.\n",
    "\n",
    "At this point you have new run in Neptune. For now on you will use `run` to log metadata to it."
   ]
  },
  {
   "cell_type": "code",
   "execution_count": null,
   "metadata": {
    "colab": {
     "base_uri": "https://localhost:8080/",
     "height": 71
    },
    "colab_type": "code",
    "id": "XMdpj-Se4t0U",
    "outputId": "d66a1df2-ed95-4790-c799-fe7f6a980b39",
    "tags": [
     "code"
    ]
   },
   "outputs": [],
   "source": [
    "import neptune.new as neptune\n",
    "\n",
    "run = neptune.init(project='common/showroom', api_token='ANONYMOUS')"
   ]
  },
  {
   "cell_type": "markdown",
   "metadata": {
    "id": "EBRhrcM3Q7Me",
    "tags": [
     "comment"
    ]
   },
   "source": [
    "Click on the link above to open this run in Neptune. For now it is empty but keep the tab with run open to see what happens next. "
   ]
  },
  {
   "cell_type": "markdown",
   "metadata": {
    "id": "pCAhb_-NXH6l",
    "tags": [
     "header",
     "exclude"
    ]
   },
   "source": [
    "### (option 2) Initialize a private project"
   ]
  },
  {
   "cell_type": "markdown",
   "metadata": {
    "id": "pCAhb_-NXH6l",
    "tags": [
     "header",
     "exclude"
    ]
   },
   "source": [
    "#### Get API token"
   ]
  },
  {
   "cell_type": "markdown",
   "metadata": {
    "tags": [
     "comment",
     "exclude"
    ]
   },
   "source": [
    "Instead of logging data to the public project `'common/onboarding'` as an anonymous user `'neptuner'` you can log it to your own project.\n",
    "\n",
    "To do that make your [Neptune API token](https://docs-beta.neptune.ai/administration/security-and-privacy/how-to-find-and-set-neptune-api-token) ready.\n",
    "\n",
    "Remember to [create new project](https://docs-beta.neptune.ai/administration/workspace-project-and-user-management/projects/create-a-project), that you will use for metadata tracking."
   ]
  },
  {
   "cell_type": "markdown",
   "metadata": {
    "id": "wEb6l4x8ZYlN",
    "tags": [
     "header",
     "exclude"
    ]
   },
   "source": [
    "#### Set the ```api_token``` to initialize Neptune"
   ]
  },
  {
   "cell_type": "markdown",
   "metadata": {
    "tags": [
     "comment",
     "exclude"
    ]
   },
   "source": [
    "The preferred way of doing this is by using the ```getpass()``` method so that your token remains private even if you share the notebook"
   ]
  },
  {
   "cell_type": "code",
   "execution_count": null,
   "metadata": {
    "id": "FXPlKmjC10MG",
    "tags": [
     "code",
     "exclude"
    ]
   },
   "outputs": [],
   "source": [
    "from getpass import getpass\n",
    "\n",
    "api_token = getpass('Enter your private Neptune API token: ')"
   ]
  },
  {
   "cell_type": "markdown",
   "metadata": {
    "id": "TQZAqPw5apot",
    "tags": [
     "header",
     "exclude"
    ]
   },
   "source": [
    "#### Initialize your private project"
   ]
  },
  {
   "cell_type": "markdown",
   "metadata": {
    "tags": [
     "comment",
     "exclude"
    ]
   },
   "source": [
    "You tell Neptune: \n",
    "\n",
    "* **who you are**: your Neptune API token `api_token` \n",
    "* **where you want to send your data**: your Neptune `project`.\n",
    "\n",
    "At this point you have new run in Neptune. For now on you will use `run` to log metadata to it."
   ]
  },
  {
   "cell_type": "code",
   "execution_count": null,
   "metadata": {
    "id": "4k_jZnnFwwW8",
    "tags": [
     "code",
     "exclude"
    ]
   },
   "outputs": [],
   "source": [
    "import neptune.new as neptune\n",
    "\n",
    "run = neptune.init(project='my_workspace/my_project', api_token=api_token)"
   ]
  },
  {
   "cell_type": "markdown",
   "metadata": {
    "id": "EBRhrcM3Q7Me",
    "tags": [
     "comment",
     "exclude"
    ]
   },
   "source": [
    "Click on the link above to open this run in Neptune. For now it is empty but keep the tab with run open to see what happens next. "
   ]
  },
  {
   "cell_type": "markdown",
   "metadata": {
    "id": "pk4ZgmW9Q7Mg",
    "tags": [
     "header"
    ]
   },
   "source": [
    "## Step 4: Log metadata during training"
   ]
  },
  {
   "cell_type": "markdown",
   "metadata": {
    "id": "0uyhflfLQ7Mg",
    "tags": [
     "comment"
    ]
   },
   "source": [
    "Log metrics or losses under a name of your choice. You can log one or multiple values."
   ]
  },
  {
   "cell_type": "markdown",
   "metadata": {
    "tags": [
     "comment"
    ]
   },
   "source": [
    "Runs can be viewed as dictionary-like structures - **namespaces** - that you can define in your code. You can apply hierarchical structure to your metadata that will be reflected in the UI as well. Thanks to this you can easily organize your metadata in a way you feel is most convenient.\n",
    "\n",
    "There is one special namespace: **system namespace**, denoted `sys`. You can use it to add name and tags to the run."
   ]
  },
  {
   "cell_type": "code",
   "execution_count": null,
   "metadata": {
    "id": "jZdLObUSQ7Mi",
    "tags": [
     "code"
    ]
   },
   "outputs": [],
   "source": [
    "params = {'learning_rate': 0.1}\n",
    "\n",
    "# log params\n",
    "run['parameters'] = params\n",
    "\n",
    "# log name and append tags\n",
    "run[\"sys/name\"] = 'colab-example'\n",
    "run[\"sys/tags\"].add(['colab', 'simple'])\n",
    "\n",
    "# log loss during training\n",
    "for epoch in range(132):\n",
    "    run[\"train/loss\"].log(0.97 ** epoch)\n",
    "    run[\"train/loss-pow-2\"].log((0.97 ** epoch)**2)\n",
    "\n",
    "# log train and validation scores\n",
    "run['train/accuracy'] = 0.95\n",
    "run['valid/accuracy'] = 0.93"
   ]
  },
  {
   "cell_type": "markdown",
   "metadata": {
    "id": "mRhOAcS0Q7Mm",
    "tags": [
     "comment"
    ]
   },
   "source": [
    "Snippet above logs some metadata:\n",
    "\n",
    "* `parameters` with just one field: learning rate,\n",
    "* adds name of run and two tags,\n",
    "* `train/loss` and `train/loss-pow-2` as series of numbers, visualized as charts in UI,\n",
    "* `train/accuracy` and `valid/accuracy` as single values.\n",
    "\n",
    "Go to the `All metadata` and `Charts` sections of the Neptune UI to see them. You can also check [example run](https://app.neptune.ai/o/common/org/showroom/e/SHOW-37/charts).\n",
    "\n",
    "![charts](https://neptune.ai/wp-content/uploads/colab-charts.png)\n",
    "\n",
    "**Note:**\n",
    "\n",
    "Neptune automatically logs the hardware consumption during the run. \n",
    "\n",
    "You can see it in the `Monitoring` section of the Neptune UI. \n",
    "\n",
    "![image](https://neptune.ai/wp-content/uploads/Product_hardware-usage-1.png)"
   ]
  },
  {
   "cell_type": "markdown",
   "metadata": {
    "id": "had9MNRtQ7Mr",
    "tags": [
     "comment"
    ]
   },
   "source": [
    "## Conclusion\n",
    "\n",
    "You’ve learned how to:\n",
    "* Install `neptune-client`,\n",
    "* Connect Neptune to your Google Colab notebook and create a run,\n",
    "* Log metadate to Neptune,\n",
    "* See your metrics parameters and scores,\n",
    "* See hardware consumption during the run."
   ]
  },
  {
   "cell_type": "markdown",
   "metadata": {
    "id": "_3ibcYhPQ7Mr",
    "tags": [
     "comment"
    ]
   },
   "source": [
    "## What's next\n",
    "\n",
    "Now that you know how to create runs and log metrics you can learn:\n",
    "\n",
    "* [How to Create a new project](https://docs-beta.neptune.ai/administration/workspace-project-and-user-management/projects/create-a-project)\n",
    "* [How to log other objects and monitor training in Neptune](https://neptune.ai/blog/monitoring-machine-learning-experiments-guide)\n",
    "* [How to download runs data from Neptune](https://docs-beta.neptune.ai/user-guides/logging-and-managing-runs-results/downloading-runs-data)\n",
    "* [How to connect Neptune to the ML framework you are using](https://docs-beta.neptune.ai/essentials/integrations)"
   ]
  }
 ],
 "metadata": {
  "colab": {
   "collapsed_sections": [],
   "name": "Basic-Colab-Example.ipynb",
   "private_outputs": true,
   "provenance": []
  },
  "kernelspec": {
   "display_name": "Python 3",
   "language": "python",
   "name": "python3"
  },
  "language_info": {
   "codemirror_mode": {
    "name": "ipython",
    "version": 3
   },
   "file_extension": ".py",
   "mimetype": "text/x-python",
   "name": "python",
   "nbconvert_exporter": "python",
   "pygments_lexer": "ipython3",
   "version": "3.6.9"
  },
  "toc-autonumbering": true,
  "toc-showcode": false,
  "toc-showmarkdowntxt": false,
  "toc-showtags": true
 },
 "nbformat": 4,
 "nbformat_minor": 4
}
