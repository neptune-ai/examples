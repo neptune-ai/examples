{
 "cells": [
  {
   "cell_type": "code",
   "execution_count": null,
   "metadata": {},
   "outputs": [],
   "source": [
    "%pip install -U neptune-client"
   ]
  },
  {
   "cell_type": "code",
   "execution_count": null,
   "metadata": {},
   "outputs": [],
   "source": [
    "import neptune.new as neptune"
   ]
  },
  {
   "cell_type": "code",
   "execution_count": null,
   "metadata": {
    "tags": []
   },
   "outputs": [],
   "source": [
    "try:\n",
    "    from pathlib import Path\n",
    "\n",
    "    DATA_PATH = str(Path(__file__).parent.parent.joinpath(\"dataset\"))\n",
    "except NameError:\n",
    "    DATA_PATH = \"../dataset\""
   ]
  },
  {
   "cell_type": "code",
   "execution_count": null,
   "metadata": {},
   "outputs": [
    {
     "name": "stdout",
     "output_type": "stream",
     "text": [
      "https://app.neptune.ai/common/project-time-series-forecasting/\n",
      "Remember to stop your project once you’ve finished logging your metadata (https://docs.neptune.ai/api/project#stop). It will be stopped automatically only when the notebook kernel/interactive console is terminated.\n",
      "Shutting down background jobs, please wait a moment...\n",
      "Done!\n",
      "Waiting for the remaining 3 operations to synchronize with Neptune. Do not kill this process.\n",
      "All 3 operations synced, thanks for waiting!\n",
      "Explore the metadata in the Neptune app:\n",
      "https://app.neptune.ai/common/project-time-series-forecasting/metadata\n"
     ]
    }
   ],
   "source": [
    "with neptune.init_project(project=\"common/project-time-series-forecasting\") as project:\n",
    "    project[\"sales-forecasting/brief\"] = \"Walmart sales forecast\"\n",
    "    project[\"sales-forecasting/dataset\"].track_files(DATA_PATH)\n",
    "    project[\n",
    "        \"sales-forecasting/code\"\n",
    "    ] = \"https://github.com/neptune-ai/examples/tree/main/use-cases/time-series-forecasting\""
   ]
  }
 ],
 "metadata": {
  "keep_output": true,
  "kernelspec": {
   "display_name": "neptune_test_env",
   "language": "python",
   "name": "python3"
  },
  "language_info": {
   "codemirror_mode": {
    "name": "ipython",
    "version": 3
   },
   "file_extension": ".py",
   "mimetype": "text/x-python",
   "name": "python",
   "nbconvert_exporter": "python",
   "pygments_lexer": "ipython3",
   "version": "3.8.13"
  },
  "vscode": {
   "interpreter": {
    "hash": "9918a49f0ff3a4018a272fb676756b6b7681877efd7b7e72359fb8b30d06330a"
   }
  }
 },
 "nbformat": 4,
 "nbformat_minor": 2
}
