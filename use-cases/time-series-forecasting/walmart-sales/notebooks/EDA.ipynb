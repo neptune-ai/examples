{
 "cells": [
  {
   "cell_type": "markdown",
   "metadata": {},
   "source": [
    "# Exploratory Data Analysis with Neptune"
   ]
  },
  {
   "cell_type": "markdown",
   "metadata": {},
   "source": [
    "## Introduction\n",
    "\n",
    "When executing exploratory data analysis, you can use Neptune namespaces to organize, visualize and compare dataset statistics.\n",
    "\n",
    "By the end of this guide, you will learn how to organize your run to track exploratory data analysis metadata, so that you can easily analyze the results.\n",
    "\n",
    "[See this example in Neptune]()"
   ]
  },
  {
   "cell_type": "markdown",
   "metadata": {},
   "source": [
    "## Before you start\n",
    "\n",
    "This notebook example lets you try out Neptune anonymously, with zero setup.\n",
    "\n",
    "* If you're running the notebook on your local machine, you need to have [Python](https://www.python.org/downloads/) and [pip](https://pypi.org/project/pip/) installed.\n",
    "* If you want to see the example logged to your own workspace instead:\n",
    "    * Create a Neptune account → [Take me to registration](https://neptune.ai/register)\n",
    "    * Create a Neptune project that you will use for tracking metadata → [Tell me more about projects](https://docs.neptune.ai/administration/projects)"
   ]
  },
  {
   "cell_type": "markdown",
   "metadata": {},
   "source": [
    "## Install Neptune and dependencies"
   ]
  },
  {
   "cell_type": "code",
   "execution_count": null,
   "metadata": {},
   "outputs": [],
   "source": [
    "! pip install -U neptune-client matplotlib numpy pandas scikit-learn seaborn==0.11.2"
   ]
  },
  {
   "cell_type": "markdown",
   "metadata": {},
   "source": [
    "## Import dependencies"
   ]
  },
  {
   "cell_type": "code",
   "execution_count": null,
   "metadata": {},
   "outputs": [],
   "source": [
    "import matplotlib.pyplot as plt\n",
    "import neptune.new as neptune\n",
    "import seaborn as sns\n",
    "from neptune.new.types import File\n",
    "import sys\n",
    "from pathlib import Path\n",
    "import os\n",
    "\n",
    "try:\n",
    "    grandparent_dir = Path.absolute(Path(__file__)).parent.parent\n",
    "    sys.path.append(os.path.join(os.getcwd(), Path.relative_to(grandparent_dir, os.getcwd())))\n",
    "\n",
    "    DATA_PATH = os.path.join(os.getcwd(), Path.relative_to(grandparent_dir, os.getcwd()), \"dataset\")\n",
    "except NameError:\n",
    "    sys.path.append(os.path.dirname(os.getcwd()))\n",
    "    DATA_PATH = \"../dataset\"\n",
    "\n",
    "from utils import *\n",
    "\n",
    "sns.set()\n",
    "plt.rcParams[\"figure.figsize\"] = 15, 8\n",
    "plt.rcParams[\"image.cmap\"] = \"viridis\""
   ]
  },
  {
   "cell_type": "markdown",
   "metadata": {},
   "source": [
    "## Start a run\n",
    "\n",
    "To create a new run for tracking the metadata, we tell Neptune:\n",
    "* **Who you are** - with your Neptune API token\n",
    "* **Where to send the metadata** - to your Neptune project\n",
    "\n",
    "For example, if your workspace name is `ml-team` and the project name is `time-series-forecasting`, the project argument is: `project=\"ml-team/time-series-forecasting\"`.\n",
    "\n",
    "To find your API token and project name, [log in to Neptune](https://app.neptune.ai/).\n",
    "- In the top-right corner, click your avatar and select **Get your API token**.\n",
    "- To find and copy your project name, navigate to the project, then click **Settings** → **Properties**.\n",
    "\n",
    "### Haven't registered yet?\n",
    "\n",
    "To log anonymously to a public project, replace the code below with the following:\n",
    "\n",
    "```python\n",
    "import neptune.new as neptune\n",
    "\n",
    "run = neptune.init_run(project=\"common/project-time-series-forecasting\", api_token=neptune.ANONYMOUS_API_TOKEN)\n",
    "```"
   ]
  },
  {
   "cell_type": "code",
   "execution_count": null,
   "metadata": {},
   "outputs": [],
   "source": [
    "run = neptune.init_run(\n",
    "    project=\"common/project-time-series-forecasting\",  # replace with your own\n",
    "    tags=[\"eda\", \"walmart-sales\"],\n",
    "    name=\"EDA\",\n",
    ")"
   ]
  },
  {
   "cell_type": "markdown",
   "metadata": {},
   "source": [
    "You now have new run in Neptune! From here on, we'll use the `run` object to log metadata.\n",
    "\n",
    "**To open the run in Neptune, click on the link that appeared in the cell output.**\n",
    "\n",
    "There's not much to display yet, but keep the tab with the run open to see what happens next."
   ]
  },
  {
   "cell_type": "markdown",
   "metadata": {},
   "source": [
    "## Log dataset statistics & visualizations to Neptune"
   ]
  },
  {
   "cell_type": "code",
   "execution_count": null,
   "metadata": {},
   "outputs": [],
   "source": [
    "# Load dataset\n",
    "df = load_data(DATA_PATH, cache=True)\n",
    "\n",
    "# Create data statistics\n",
    "df_statistics = df.describe()\n",
    "\n",
    "# Create data processing\n",
    "total_no_days = (pd.to_datetime(df.Date.max()).date() - pd.to_datetime(df.Date.min()).date()).days\n",
    "total_no_months = total_no_days * 0.032855\n",
    "total_no_years = total_no_months * 0.0833334\n",
    "abs_no_years = int(total_no_years)\n",
    "sales_warm_vs_cold = (\n",
    "    df[df.Temperature > 15][\"Weekly_Sales\"].sum() - df[df.Temperature < 15][\"Weekly_Sales\"].sum()\n",
    ")"
   ]
  },
  {
   "cell_type": "markdown",
   "metadata": {},
   "source": [
    "### Log dataset statistics"
   ]
  },
  {
   "cell_type": "code",
   "execution_count": null,
   "metadata": {},
   "outputs": [],
   "source": [
    "stats_namespace = \"data/statistics\"\n",
    "run[stats_namespace][\"dataset_statistics\"].upload(File.as_html(df_statistics))\n",
    "run[stats_namespace][\"total_no_days\"] = total_no_days\n",
    "run[stats_namespace][\"total_no_years\"] = total_no_years\n",
    "run[stats_namespace][\"abs_no_years\"] = abs_no_years\n",
    "run[stats_namespace][\"diffSales_warm_vs_cold\"] = \"$ {:,}\".format(round(sales_warm_vs_cold))"
   ]
  },
  {
   "cell_type": "code",
   "execution_count": null,
   "metadata": {},
   "outputs": [],
   "source": [
    "# Create data visualizations\n",
    "corr_matrix = df.corr()\n",
    "plt.figure()\n",
    "sns_corr_matrix = sns.heatmap(data=corr_matrix, annot=True)"
   ]
  },
  {
   "cell_type": "code",
   "execution_count": null,
   "metadata": {},
   "outputs": [],
   "source": [
    "plt.figure()\n",
    "sales_vs_week = sns.lineplot(\n",
    "    x=\"Week\", y=\"Weekly_Sales\", hue=\"Year\", data=df, palette=[\"b\", \"g\", \"orange\"]\n",
    ")"
   ]
  },
  {
   "cell_type": "code",
   "execution_count": null,
   "metadata": {},
   "outputs": [],
   "source": [
    "plt.figure()\n",
    "sales_vs_month = sns.lineplot(\n",
    "    x=\"Month\", y=\"Weekly_Sales\", hue=\"Year\", data=df, palette=[\"b\", \"g\", \"orange\"]\n",
    ")"
   ]
  },
  {
   "cell_type": "code",
   "execution_count": null,
   "metadata": {},
   "outputs": [],
   "source": [
    "plt.figure()\n",
    "sales_vs_qt = sns.lineplot(\n",
    "    x=df[\"Date\"].dt.quarter,\n",
    "    y=\"Weekly_Sales\",\n",
    "    hue=\"Year\",\n",
    "    data=df,\n",
    "    palette=[\"b\", \"g\", \"orange\"],\n",
    ")"
   ]
  },
  {
   "cell_type": "code",
   "execution_count": null,
   "metadata": {},
   "outputs": [],
   "source": [
    "plt.figure()\n",
    "sales_vs_isholiday = sns.lineplot(x=\"Month\", y=\"Weekly_Sales\", hue=\"IsHoliday\", data=df)"
   ]
  },
  {
   "cell_type": "code",
   "execution_count": null,
   "metadata": {},
   "outputs": [],
   "source": [
    "plt.figure()\n",
    "sales_vs_store = sns.lineplot(\n",
    "    x=\"Store\", y=\"Weekly_Sales\", hue=\"Year\", data=df, palette=[\"b\", \"g\", \"orange\"]\n",
    ")"
   ]
  },
  {
   "cell_type": "code",
   "execution_count": null,
   "metadata": {},
   "outputs": [],
   "source": [
    "plt.figure()\n",
    "sales_vs_dept = sns.lineplot(\n",
    "    x=\"Dept\", y=\"Weekly_Sales\", hue=\"Year\", data=df, palette=[\"b\", \"g\", \"orange\"]\n",
    ")"
   ]
  },
  {
   "cell_type": "code",
   "execution_count": null,
   "metadata": {},
   "outputs": [],
   "source": [
    "plt.figure()\n",
    "sales_vs_storeType = sns.boxenplot(\n",
    "    x=\"Type\", y=\"Weekly_Sales\", data=df, hue=\"IsHoliday\", palette=[\"b\", \"orange\"]\n",
    ")"
   ]
  },
  {
   "cell_type": "code",
   "execution_count": null,
   "metadata": {},
   "outputs": [],
   "source": [
    "plt.figure()\n",
    "sales_vs_temp = sns.histplot(data=df.groupby(\"Weekly_Sales\")[\"Temperature\"].mean(), bins=30)"
   ]
  },
  {
   "cell_type": "code",
   "execution_count": null,
   "metadata": {},
   "outputs": [],
   "source": [
    "df_normalized = normalize_data(df, \"Weekly_Sales\")\n",
    "plt.figure()\n",
    "sales_vs_storeType_normalized = sns.boxenplot(\n",
    "    x=\"Type\",\n",
    "    y=\"Weekly_Sales\",\n",
    "    data=df_normalized,\n",
    "    hue=\"IsHoliday\",\n",
    "    palette=[\"b\", \"orange\"],\n",
    ")"
   ]
  },
  {
   "cell_type": "markdown",
   "metadata": {},
   "source": [
    "### Log dataset visualizations"
   ]
  },
  {
   "cell_type": "code",
   "execution_count": null,
   "metadata": {},
   "outputs": [],
   "source": [
    "viz_namespace = \"data/visualizations\"\n",
    "run[viz_namespace][\"corr_matrix\"].upload(File.as_image(sns_corr_matrix.figure))\n",
    "run[viz_namespace][\"/sales_vs_week\"].upload(File.as_image(sales_vs_week.figure))\n",
    "run[viz_namespace][\"/sales_vs_month\"].upload(File.as_image(sales_vs_month.figure))\n",
    "run[viz_namespace][\"/sales_vs_quarter\"].upload(File.as_image(sales_vs_qt.figure))\n",
    "run[viz_namespace][\"/sales_vs_store\"].upload(File.as_image(sales_vs_store.figure))\n",
    "run[viz_namespace][\"/sales_vs_dept\"].upload(File.as_image(sales_vs_dept.figure))\n",
    "run[viz_namespace][\"/sales_vs_IsHoliday\"].upload(File.as_image(sales_vs_isholiday.figure))\n",
    "run[viz_namespace][\"sales_vs_temperature\"].upload(File.as_image(sales_vs_temp.figure))\n",
    "run[viz_namespace][\"sales_vs_storeType\"].upload(File.as_image(sales_vs_storeType.figure))\n",
    "run[viz_namespace][\"sales_vs_storeType_normalized\"].upload(\n",
    "    File.as_image(sales_vs_storeType_normalized.figure)\n",
    ")"
   ]
  },
  {
   "cell_type": "markdown",
   "metadata": {},
   "source": [
    "## Stop logging\n",
    "\n",
    "Once you are done logging, stop tracking the run."
   ]
  },
  {
   "cell_type": "code",
   "execution_count": null,
   "metadata": {},
   "outputs": [],
   "source": [
    "run.stop()"
   ]
  }
 ],
 "metadata": {
  "keep_output": true,
  "kernelspec": {
   "display_name": "py38",
   "language": "python",
   "name": "python3"
  },
  "language_info": {
   "codemirror_mode": {
    "name": "ipython",
    "version": 3
   },
   "file_extension": ".py",
   "mimetype": "text/x-python",
   "name": "python",
   "nbconvert_exporter": "python",
   "pygments_lexer": "ipython3",
   "version": "3.8.15"
  },
  "neptune": {
   "notebookId": "98751c04-372f-4395-80fd-225ed548e55f",
   "projectVersion": 2
  },
  "vscode": {
   "interpreter": {
    "hash": "a9715cf0b0024f6e1c62cb31a4f1f43970eb41991212681878768b4bfe53050a"
   }
  }
 },
 "nbformat": 4,
 "nbformat_minor": 2
}
