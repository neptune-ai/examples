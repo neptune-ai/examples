{
 "cells": [
  {
   "cell_type": "markdown",
   "metadata": {},
   "source": [
    "# Neptune + XGBoost"
   ]
  },
  {
   "cell_type": "markdown",
   "metadata": {
    "id": "GG3_2HyRVY4Y",
    "pycharm": {
     "name": "#%% md\n"
    },
    "tags": [
     "header",
     "comment"
    ]
   },
   "source": [
    "## Introduction\n",
    "\n",
    "This guide will show you how to:\n",
    "\n",
    "* Initialize Neptune and create a `run`,\n",
    "* Create a `NeptuneCallback()`,\n",
    "* Log model training metrics to Neptune using `NeptuneCallback()`."
   ]
  },
  {
   "cell_type": "markdown",
   "metadata": {
    "id": "1tBfsYCm05rl",
    "pycharm": {
     "name": "#%% md\n"
    }
   },
   "source": [
    "## Before you start\n",
    "\n",
    "This notebook example lets you try out Neptune as an anonymous user, with zero setup.\n",
    "\n",
    "* If you are running the notebook on your local machine, you need to have [Python](https://www.python.org/downloads/) and [pip](https://pypi.org/project/pip/) installed.\n",
    "* If you want to see the example recorded to your own workspace instead:\n",
    "    * Create a Neptune account → [Take me to registration](https://neptune.ai/register)\n",
    "    * Create a Neptune project that you will use for tracking metadata → [Tell me more about projects](https://docs.neptune.ai/administration/projects)"
   ]
  },
  {
   "cell_type": "markdown",
   "metadata": {
    "pycharm": {
     "name": "#%% md\n"
    }
   },
   "source": [
    "## Install Neptune and dependencies"
   ]
  },
  {
   "cell_type": "code",
   "execution_count": null,
   "metadata": {
    "id": "jl90ahSMvhmV",
    "pycharm": {
     "name": "#%%\n"
    },
    "tags": [
     "installation"
    ]
   },
   "outputs": [],
   "source": [
    "! pip install graphviz==0.10.1 scikit-learn==1.0.2 neptune-client neptune-xgboost xgboost==1.4.0"
   ]
  },
  {
   "cell_type": "markdown",
   "metadata": {
    "id": "1As3OW3LGqKg",
    "pycharm": {
     "name": "#%% md\n"
    },
    "tags": [
     "header"
    ]
   },
   "source": [
    "## Import libraries"
   ]
  },
  {
   "cell_type": "code",
   "execution_count": null,
   "metadata": {
    "id": "FufE4GTzvRZG",
    "pycharm": {
     "name": "#%%\n"
    },
    "tags": [
     "code"
    ]
   },
   "outputs": [],
   "source": [
    "import xgboost as xgb\n",
    "from sklearn.datasets import fetch_california_housing\n",
    "from sklearn.model_selection import train_test_split"
   ]
  },
  {
   "cell_type": "markdown",
   "metadata": {
    "id": "7LFLtV5R5JKT",
    "pycharm": {
     "name": "#%% md\n"
    },
    "tags": [
     "header"
    ]
   },
   "source": [
    "## Create run"
   ]
  },
  {
   "cell_type": "code",
   "execution_count": null,
   "metadata": {
    "id": "XMdpj-Se4t0U",
    "pycharm": {
     "name": "#%%\n"
    },
    "tags": [
     "code"
    ]
   },
   "outputs": [],
   "source": [
    "import neptune.new as neptune\n",
    "\n",
    "run = neptune.init(\n",
    "    project=\"common/xgboost-integration\",\n",
    "    api_token=\"ANONYMOUS\",\n",
    "    name=\"xgb-train\",\n",
    "    tags=[\"xgb-integration\", \"train\"],\n",
    ")"
   ]
  },
  {
   "cell_type": "markdown",
   "metadata": {
    "id": "Y7vaklgyZGDv",
    "pycharm": {
     "name": "#%% md\n"
    },
    "tags": [
     "comment"
    ]
   },
   "source": [
    "Link above is a link to the run. Click on it, and leave the run tab open - you will get back to it when you start model training.\n",
    "\n",
    "Few explanations:\n",
    "1. You need to pass project to the `project`, parameter to inform Neptune where to log metadata. Project is a string of this form: `my_workspace/my_project`.\n",
    "1. There are more parameters to customize Neptune behavior, check [neptune.init() docs](https://docs.neptune.ai/api-reference/neptune#init) for more details.\n",
    "\n",
    "----\n",
    "\n",
    "**Note**\n",
    "\n",
    "Instead of logging data to the public project `\"common/xgboost-integration\"` as an anonymous user `\"neptuner\"` you can log it to your own project.\n",
    "\n",
    "To do that:\n",
    "1. Follow the [installation and setup](https://docs.neptune.ai/getting-started/installation) that will show you how to use individual, private api_token.\n",
    "1. Create new [private project](https://docs.neptune.ai/administration/workspace-project-and-user-management/projects).\n",
    "1. Pass this project name here, instead of `\"common/xgboost-integration\"`.\n",
    "\n",
    "At this point you will be ready to log XGBoost runs to your own project :)"
   ]
  },
  {
   "cell_type": "markdown",
   "metadata": {
    "id": "XomuTzlsVILc",
    "pycharm": {
     "name": "#%% md\n"
    },
    "tags": [
     "header"
    ]
   },
   "source": [
    "## Create NeptuneCallback()"
   ]
  },
  {
   "cell_type": "code",
   "execution_count": null,
   "metadata": {
    "id": "82879lQuVfsJ",
    "pycharm": {
     "name": "#%%\n"
    },
    "tags": [
     "code"
    ]
   },
   "outputs": [],
   "source": [
    "from neptune.new.integrations.xgboost import NeptuneCallback\n",
    "\n",
    "neptune_callback = NeptuneCallback(run=run, log_tree=[0, 1, 2, 3])"
   ]
  },
  {
   "cell_type": "markdown",
   "metadata": {
    "id": "WE-nXzGGZGDy",
    "pycharm": {
     "name": "#%% md\n"
    },
    "tags": [
     "comment"
    ]
   },
   "source": [
    "This callback will do metadata logging during training. You will pass it to the XGBoost `train()` function.\n",
    "\n",
    "It also works with `cv()` function and sklearn-like API of the XGBoost (in this case you pass it to the `model.fit()` function).\n",
    "\n",
    "----\n",
    "\n",
    "Notice that you will log trees with indices `[0, 1, 2, 3]`."
   ]
  },
  {
   "cell_type": "markdown",
   "metadata": {
    "id": "NG0RPaHRZGDy",
    "pycharm": {
     "name": "#%% md\n"
    },
    "tags": [
     "header"
    ]
   },
   "source": [
    "## Prepare data and define parameters"
   ]
  },
  {
   "cell_type": "code",
   "execution_count": null,
   "metadata": {
    "id": "Y_YrBwS0ZGDz",
    "pycharm": {
     "name": "#%%\n"
    },
    "tags": [
     "code"
    ]
   },
   "outputs": [],
   "source": [
    "# Prepare data\n",
    "X, y = fetch_california_housing(return_X_y=True)\n",
    "X_train, X_test, y_train, y_test = train_test_split(X, y, test_size=0.2, random_state=123)\n",
    "dtrain = xgb.DMatrix(X_train, label=y_train)\n",
    "dval = xgb.DMatrix(X_test, label=y_test)\n",
    "\n",
    "# Define parameters\n",
    "model_params = {\n",
    "    \"eta\": 0.7,\n",
    "    \"gamma\": 0.001,\n",
    "    \"max_depth\": 9,\n",
    "    \"objective\": \"reg:squarederror\",\n",
    "    \"eval_metric\": [\"mae\", \"rmse\"],\n",
    "}\n",
    "evals = [(dtrain, \"train\"), (dval, \"valid\")]\n",
    "num_round = 57"
   ]
  },
  {
   "cell_type": "markdown",
   "metadata": {
    "id": "QiJh8ZZrZGDz",
    "pycharm": {
     "name": "#%% md\n"
    },
    "tags": [
     "header"
    ]
   },
   "source": [
    "## Train the model and log metadata to the run in Neptune"
   ]
  },
  {
   "cell_type": "code",
   "execution_count": null,
   "metadata": {
    "id": "M0Ap_5fCZGDz",
    "pycharm": {
     "name": "#%%\n"
    },
    "tags": [
     "code"
    ]
   },
   "outputs": [],
   "source": [
    "xgb.train(\n",
    "    params=model_params,\n",
    "    dtrain=dtrain,\n",
    "    num_boost_round=num_round,\n",
    "    evals=evals,\n",
    "    callbacks=[\n",
    "        neptune_callback,\n",
    "        xgb.callback.LearningRateScheduler(lambda epoch: 0.99**epoch),\n",
    "        xgb.callback.EarlyStopping(rounds=30),\n",
    "    ],\n",
    ")"
   ]
  },
  {
   "cell_type": "markdown",
   "metadata": {
    "id": "zHXEO3vbZGD0",
    "pycharm": {
     "name": "#%% md\n"
    },
    "tags": [
     "comment"
    ]
   },
   "source": [
    "This cell do the model trainig and metadata logging to Neptune."
   ]
  },
  {
   "cell_type": "markdown",
   "metadata": {
    "id": "FZMTLYr8ameF",
    "pycharm": {
     "name": "#%% md\n"
    }
   },
   "source": [
    "## Stop logging\n",
    "\n",
    "<font color=red>**Warning:**</font><br>\n",
    "Once you are done logging, you should stop tracking the run using the `stop()` method.\n",
    "This is needed only while logging from a notebook environment. While logging through a script, Neptune automatically stops tracking once the script has completed execution.\n"
   ]
  },
  {
   "cell_type": "code",
   "execution_count": null,
   "metadata": {
    "id": "QkVpV9Z4arRO",
    "pycharm": {
     "name": "#%%\n"
    }
   },
   "outputs": [],
   "source": [
    "run.stop()"
   ]
  },
  {
   "cell_type": "markdown",
   "metadata": {
    "id": "LUuBRCHaZGD0",
    "pycharm": {
     "name": "#%% md\n"
    },
    "tags": [
     "header"
    ]
   },
   "source": [
    "## Analyze logged metadata in the Neptune app"
   ]
  },
  {
   "cell_type": "markdown",
   "metadata": {
    "id": "d83z1nb2ZGD1",
    "pycharm": {
     "name": "#%% md\n"
    },
    "tags": [
     "comment"
    ]
   },
   "source": [
    "Go to the run link and explore metadata (metrics, all parameters, learning rate, pickled model, visualizations) that were logged to the run in Neptune.\n",
    "\n",
    "Link should look like this:\n",
    "\n",
    "https://app.neptune.ai/o/common/org/xgboost-integration/e/XGBOOST-84/all?path=training"
   ]
  }
 ],
 "metadata": {
  "colab": {
   "collapsed_sections": [],
   "name": "Neptune_XGBoost.ipynb",
   "private_outputs": true,
   "provenance": [],
   "toc_visible": true
  },
  "kernelspec": {
   "display_name": "Python 3.10.4 ('examples')",
   "language": "python",
   "name": "python3"
  },
  "language_info": {
   "codemirror_mode": {
    "name": "ipython",
    "version": 3
   },
   "file_extension": ".py",
   "mimetype": "text/x-python",
   "name": "python",
   "nbconvert_exporter": "python",
   "pygments_lexer": "ipython3",
   "version": "3.10.4"
  },
  "vscode": {
   "interpreter": {
    "hash": "caf1280a293ef984b479cfc2977fec90259151e9c35ad8dfe4d0fc61aa03216b"
   }
  }
 },
 "nbformat": 4,
 "nbformat_minor": 4
}
