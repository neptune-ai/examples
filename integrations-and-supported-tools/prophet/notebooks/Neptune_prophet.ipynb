{
 "cells": [
  {
   "cell_type": "markdown",
   "id": "0a1db14f",
   "metadata": {},
   "source": [
    "# Neptune + Prophet"
   ]
  },
  {
   "cell_type": "markdown",
   "id": "e37c2302",
   "metadata": {},
   "source": [
    "## Introduction\n",
    "\n",
    "This guide will show you how to log the following Prophet metadata with Neptune, using a single function:\n",
    "\n",
    "* Regression summary metadata\n",
    "* Input and forecast Dataframes\n",
    "* Forecast, components and residual diagnostics plots\n",
    "* Model configuration\n",
    "* Serialized model\n",
    "\n",
    "[![image](https://neptune.ai/wp-content/uploads/fbprophet-neptune-dashboard.png)](https://app.neptune.ai/o/common/org/fbprophet-integration/e/FBPROP-249/)"
   ]
  },
  {
   "cell_type": "markdown",
   "id": "f0ecdb17",
   "metadata": {},
   "source": [
    "## Before you start\n",
    "\n",
    "This notebook example lets you try out Neptune as an anonymous user, with zero setup.\n",
    "\n",
    "* If you are running the notebook on your local machine, you need to have [Python](https://www.python.org/downloads/) and [pip](https://pypi.org/project/pip/) installed.\n",
    "* If you want to see the example recorded to your own workspace instead:\n",
    "    * Create a Neptune account → [Take me to registration](https://neptune.ai/register)\n",
    "    * Create a Neptune project that you will use for tracking metadata → [Tell me more about projects](https://docs.neptune.ai/administration/projects)"
   ]
  },
  {
   "cell_type": "markdown",
   "id": "557bc3b5",
   "metadata": {},
   "source": [
    "## Install Neptune and dependencies"
   ]
  },
  {
   "cell_type": "code",
   "execution_count": null,
   "id": "f1e24601",
   "metadata": {},
   "outputs": [],
   "source": [
    "! pip install neptune-client neptune-prophet prophet==1.1"
   ]
  },
  {
   "cell_type": "code",
   "execution_count": null,
   "id": "7f776cad",
   "metadata": {},
   "outputs": [],
   "source": [
    "import neptune.new as neptune"
   ]
  },
  {
   "cell_type": "markdown",
   "id": "813878e1",
   "metadata": {},
   "source": [
    "## Initialize Neptune and create new run\n",
    "Connect your script to Neptune application and create a new run."
   ]
  },
  {
   "cell_type": "code",
   "execution_count": null,
   "id": "8f521acb",
   "metadata": {},
   "outputs": [],
   "source": [
    "run = neptune.init_run(\n",
    "    project=\"common/fbprophet-integration\",\n",
    "    api_token=neptune.ANONYMOUS_API_TOKEN,\n",
    "    tags=[\"prophet\", \"artifacts\", \"notebook\"],  # optional\n",
    ")"
   ]
  },
  {
   "cell_type": "markdown",
   "id": "9cf32479",
   "metadata": {},
   "source": [
    "Click on the link above to open this run in Neptune. For now it is empty, but keep the tab with run open to see what happens next.\n",
    "\n",
    "With the `api_token` and `project` arguments, you tell Neptune: \n",
    "\n",
    "* **who you are**: with your Neptune API token\n",
    "* **where you want to send your data**: your Neptune project\n",
    "\n",
    "At this point you have new run in Neptune. From now on, we'll use the `run` object to log metadata.\n",
    "\n",
    "---\n",
    "\n",
    "**Note**\n",
    "\n",
    "\n",
    "Instead of logging data to the public project `'common/fbprophet-integration'` as an anonymous user, you can log it to your own project.\n",
    "\n",
    "To find and copy your credentials:\n",
    "\n",
    "1. In the Neptune app, click your avatar and select **Get your API token**.\n",
    "2. Pass the token to ``api_token`` argument of the ``init_run()`` method.\n",
    "3. Pass your project name to the ``project`` argument. You can find it in the **project settings** &rarr; **Properties**.\n",
    "\n",
    "For example:\n",
    "\n",
    "```python\n",
    "neptune.init_run(\n",
    "    project=\"ml-team/classification\",\n",
    "    api_token=\"h0dHBzOi8aHR0cHM6Lkc78ghs74kl0jvYh3Kb8\",\n",
    ")\n",
    "```"
   ]
  },
  {
   "cell_type": "code",
   "execution_count": null,
   "id": "702d8c5b",
   "metadata": {},
   "outputs": [],
   "source": [
    "import pandas as pd"
   ]
  },
  {
   "cell_type": "code",
   "execution_count": null,
   "id": "21659dce",
   "metadata": {},
   "outputs": [],
   "source": [
    "df = pd.read_csv(\"https://raw.githubusercontent.com/facebook/prophet/master/examples/example_wp_log_R.csv\")\n",
    "\n",
    "# Market capacity\n",
    "df[\"cap\"] = 8.5"
   ]
  },
  {
   "cell_type": "code",
   "execution_count": null,
   "id": "8180d30a",
   "metadata": {},
   "outputs": [],
   "source": [
    "from prophet import Prophet"
   ]
  },
  {
   "cell_type": "code",
   "execution_count": null,
   "id": "dd382b5f",
   "metadata": {},
   "outputs": [],
   "source": [
    "model = Prophet(growth=\"logistic\")\n",
    "model.fit(df)"
   ]
  },
  {
   "cell_type": "code",
   "execution_count": null,
   "id": "9f8579f7",
   "metadata": {},
   "outputs": [],
   "source": [
    "forecast = model.predict(df)"
   ]
  },
  {
   "cell_type": "markdown",
   "id": "307f8733",
   "metadata": {},
   "source": [
    "### Log summary metadata\n",
    "\n",
    "Log the Prophet regression summary to Neptune using the `create_summary()` function:\n"
   ]
  },
  {
   "cell_type": "code",
   "execution_count": null,
   "id": "98c5a2cb",
   "metadata": {},
   "outputs": [],
   "source": [
    "import neptune.new.integrations.prophet as npt_utils\n",
    "\n",
    "run[\"prophet_summary\"] = npt_utils.create_summary(model=model, df=df, fcst=forecast)"
   ]
  },
  {
   "cell_type": "markdown",
   "id": "77b13baa",
   "metadata": {},
   "source": [
    "## Stop logging\n",
    "\n",
    "Once you are done logging, stop tracking the run."
   ]
  },
  {
   "cell_type": "code",
   "execution_count": null,
   "id": "f38f8660",
   "metadata": {},
   "outputs": [],
   "source": [
    "run.stop()"
   ]
  },
  {
   "cell_type": "markdown",
   "id": "8b98b6ef",
   "metadata": {},
   "source": [
    "### Explore results in Neptune"
   ]
  },
  {
   "cell_type": "markdown",
   "id": "b3fe4b76",
   "metadata": {},
   "source": [
    "You just learned how to log the Prophet regressor summary to Neptune using a single function. \n",
    "\n",
    "Click on the link that was printed to the console or [go here](https://app.neptune.ai/o/common/org/fbprophet-integration/e/FBPROP-249/all?path=prophet_summary%2Fdiagnostics_charts%2F) to explore a run similar to yours. In particular check:\n",
    "\n",
    "* [logged dataframes](https://app.neptune.ai/o/common/org/fbprophet-integration/e/FBPROP-249/all?path=prophet_summary%2Fdataframes%2F)\n",
    "* [logged regressor visualizations](https://app.neptune.ai/o/common/org/fbprophet-integration/e/FBPROP-249/all?path=prophet_summary%2Fdiagnostics_charts%2F)\n",
    "* [logged model config](https://app.neptune.ai/o/common/org/fbprophet-integration/e/FBPROP-249/all?path=prophet_summary%2Fmodel%2Fmodel_config%2F)\n",
    "* [logged serialized model](https://app.neptune.ai/o/common/org/fbprophet-integration/e/FBPROP-249/all?path=prophet_summary%2Fmodel%2F&attribute=serialized_model)\n",
    "* [logged metadata](https://app.neptune.ai/o/common/org/fbprophet-integration/e/FBPROP-249/all?path=sys)\n",
    "* [logged code and git metadata](https://app.neptune.ai/o/common/org/fbprophet-integration/e/FBPROP-249/source-code?path=source_code&file=Neptune_prophet.py)"
   ]
  },
  {
   "cell_type": "markdown",
   "id": "fcb10252",
   "metadata": {},
   "source": [
    "## More Options\n",
    "\n",
    "The Neptune + Prophet integration also lets you log only specific metadata of your choice, by using additional methods.\n",
    "Below are a few examples.\n",
    "\n",
    "For the full example, see the [Neptune docs](https://docs.neptune.ai/integrations-and-supported-tools/model-training/prophet)."
   ]
  },
  {
   "cell_type": "markdown",
   "id": "41d0d804",
   "metadata": {},
   "source": [
    "### Before you start: create, fit and predict a Prophet model"
   ]
  },
  {
   "cell_type": "code",
   "execution_count": null,
   "id": "422eaf19",
   "metadata": {},
   "outputs": [],
   "source": [
    "df = pd.read_csv(\"https://raw.githubusercontent.com/facebook/prophet/master/examples/example_wp_log_R.csv\")\n",
    "\n",
    "# Market capacity\n",
    "df[\"cap\"] = 8.5\n",
    "\n",
    "model = Prophet(growth=\"logistic\")\n",
    "model.fit(df)\n",
    "forecast = model.predict(df)"
   ]
  },
  {
   "cell_type": "code",
   "execution_count": null,
   "id": "9d7f7faf",
   "metadata": {},
   "outputs": [],
   "source": [
    "import neptune.new.integrations.prophet as npt_utils\n",
    "\n",
    "run = neptune.init_run(\n",
    "    project=\"common/fbprophet-integration\",\n",
    "    api_token=\"ANONYMOUS\",\n",
    "    tags=[\"prophet\", \"artifacts\", \"notebook\"],  # optional\n",
    ")"
   ]
  },
  {
   "cell_type": "markdown",
   "id": "13dca64d",
   "metadata": {},
   "source": [
    "Open the link above to see the metadata logging results, as we add them below."
   ]
  },
  {
   "cell_type": "markdown",
   "id": "a2717b06",
   "metadata": {},
   "source": [
    "### Log Prophet plots"
   ]
  },
  {
   "cell_type": "code",
   "execution_count": null,
   "id": "5a19ca0f",
   "metadata": {},
   "outputs": [],
   "source": [
    "run[\"forecast_plots\"] = npt_utils.create_forecast_plots(model, forecast)"
   ]
  },
  {
   "cell_type": "code",
   "execution_count": null,
   "id": "a421c635",
   "metadata": {},
   "outputs": [],
   "source": [
    "run[\"forecast_components\"] = npt_utils.get_forecast_components(model, forecast)"
   ]
  },
  {
   "cell_type": "code",
   "execution_count": null,
   "id": "0f7a7c9f",
   "metadata": {},
   "outputs": [],
   "source": [
    "run[\"residual_diagnostics_plot\"] = npt_utils.create_residual_diagnostics_plots(forecast, df.y)"
   ]
  },
  {
   "cell_type": "markdown",
   "id": "d140c773",
   "metadata": {},
   "source": [
    "### Log Prophet model configuration "
   ]
  },
  {
   "cell_type": "code",
   "execution_count": null,
   "id": "5e59c64f",
   "metadata": {},
   "outputs": [],
   "source": [
    "run[\"model_config\"] = npt_utils.get_model_config(model)"
   ]
  },
  {
   "cell_type": "markdown",
   "id": "9668fced",
   "metadata": {},
   "source": [
    "### Log Prophet serialized model"
   ]
  },
  {
   "cell_type": "code",
   "execution_count": null,
   "id": "a73802de",
   "metadata": {},
   "outputs": [],
   "source": [
    "run[\"model\"] = npt_utils.get_serialized_model(model)"
   ]
  },
  {
   "cell_type": "markdown",
   "id": "f17d80d0",
   "metadata": {},
   "source": [
    "## Stop logging\n",
    "\n",
    "Once you are done logging, stop tracking the run."
   ]
  },
  {
   "cell_type": "code",
   "execution_count": null,
   "id": "21390637",
   "metadata": {},
   "outputs": [],
   "source": [
    "run.stop()"
   ]
  }
 ],
 "metadata": {
  "language_info": {
   "codemirror_mode": {
    "name": "ipython",
    "version": 3
   },
   "file_extension": ".py",
   "mimetype": "text/x-python",
   "name": "python",
   "nbconvert_exporter": "python",
   "pygments_lexer": "ipython3",
   "version": "3.10.5"
  },
  "vscode": {
   "interpreter": {
    "hash": "ec001e92a202bf5caf822e845ea5ad1be0f2e89477ccf084fef05c1d70e5b02a"
   }
  }
 },
 "nbformat": 4,
 "nbformat_minor": 5
}
