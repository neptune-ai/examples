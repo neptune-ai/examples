{
 "cells": [
  {
   "cell_type": "markdown",
   "id": "0a1db14f",
   "metadata": {},
   "source": [
    "# Neptune + Prophet"
   ]
  },
  {
   "cell_type": "markdown",
   "id": "e37c2302",
   "metadata": {},
   "source": [
    "## Introduction\n",
    "\n",
    "This guide will show you how to log the following Prophet metadata with Neptune, using a single function:\n",
    "\n",
    "* Regression summary metadata\n",
    "* Input and forecast Dataframes\n",
    "* Forecast, components and residual diagnostics plots\n",
    "* Model configuration\n",
    "* Serialized model\n",
    "\n",
    "[![image](https://neptune.ai/wp-content/uploads/fbprophet-neptune-dashboard.png)](https://app.neptune.ai/o/common/org/fbprophet-integration/e/FBPROP-249/)"
   ]
  },
  {
   "cell_type": "markdown",
   "id": "f0ecdb17",
   "metadata": {},
   "source": [
    "## Before you start\n",
    "\n",
    "This notebook example lets you try out Neptune as an anonymous user, with zero setup.\n",
    "\n",
    "* If you are running the notebook on your local machine, you need to have [Python](https://www.python.org/downloads/) and [pip](https://pypi.org/project/pip/) installed.\n",
    "* If you want to see the example recorded to your own workspace instead:\n",
    "    * Create a Neptune account → [Take me to registration](https://neptune.ai/register)\n",
    "    * Create a Neptune project that you will use for tracking metadata → [Tell me more about projects](https://docs.neptune.ai/administration/projects)"
   ]
  },
  {
   "cell_type": "markdown",
   "id": "557bc3b5",
   "metadata": {},
   "source": [
    "## Install Neptune and dependencies"
   ]
  },
  {
   "cell_type": "code",
   "execution_count": 1,
   "id": "f1e24601",
   "metadata": {},
   "outputs": [
    {
     "name": "stdout",
     "output_type": "stream",
     "text": [
      "Requirement already satisfied: neptune-prophet in c:\\users\\siddh\\miniconda3\\envs\\py38\\lib\\site-packages (0.4.1)\n",
      "Collecting neptune-prophet\n",
      "  Downloading neptune_prophet-0.5.0-py3-none-any.whl (12 kB)\n",
      "Requirement already satisfied: prophet in c:\\users\\siddh\\miniconda3\\envs\\py38\\lib\\site-packages (1.1.2)\n",
      "Requirement already satisfied: scipy in c:\\users\\siddh\\miniconda3\\envs\\py38\\lib\\site-packages (from neptune-prophet) (1.10.1)\n",
      "Requirement already satisfied: pandas in c:\\users\\siddh\\miniconda3\\envs\\py38\\lib\\site-packages (from neptune-prophet) (1.5.3)\n",
      "Requirement already satisfied: numpy in c:\\users\\siddh\\miniconda3\\envs\\py38\\lib\\site-packages (from neptune-prophet) (1.24.2)\n",
      "Requirement already satisfied: statsmodels>=0.13.0 in c:\\users\\siddh\\miniconda3\\envs\\py38\\lib\\site-packages (from neptune-prophet) (0.13.5)\n",
      "Collecting matplotlib<=3.4.3\n",
      "  Using cached matplotlib-3.4.3-cp38-cp38-win_amd64.whl (7.1 MB)\n",
      "Requirement already satisfied: neptune>=1.0.0 in c:\\users\\siddh\\miniconda3\\envs\\py38\\lib\\site-packages (from neptune-prophet) (1.0.2)\n",
      "Requirement already satisfied: LunarCalendar>=0.0.9 in c:\\users\\siddh\\miniconda3\\envs\\py38\\lib\\site-packages (from prophet) (0.0.9)\n",
      "Requirement already satisfied: convertdate>=2.1.2 in c:\\users\\siddh\\miniconda3\\envs\\py38\\lib\\site-packages (from prophet) (2.4.0)\n",
      "Requirement already satisfied: holidays>=0.14.2 in c:\\users\\siddh\\miniconda3\\envs\\py38\\lib\\site-packages (from prophet) (0.19)\n",
      "Requirement already satisfied: python-dateutil>=2.8.0 in c:\\users\\siddh\\miniconda3\\envs\\py38\\lib\\site-packages (from prophet) (2.8.2)\n",
      "Requirement already satisfied: tqdm>=4.36.1 in c:\\users\\siddh\\miniconda3\\envs\\py38\\lib\\site-packages (from prophet) (4.64.1)\n",
      "Requirement already satisfied: cmdstanpy>=1.0.4 in c:\\users\\siddh\\miniconda3\\envs\\py38\\lib\\site-packages (from prophet) (1.1.0)\n",
      "Requirement already satisfied: pymeeus<=1,>=0.3.13 in c:\\users\\siddh\\miniconda3\\envs\\py38\\lib\\site-packages (from convertdate>=2.1.2->prophet) (0.5.12)\n",
      "Requirement already satisfied: hijri-converter in c:\\users\\siddh\\miniconda3\\envs\\py38\\lib\\site-packages (from holidays>=0.14.2->prophet) (2.2.4)\n",
      "Requirement already satisfied: korean-lunar-calendar in c:\\users\\siddh\\miniconda3\\envs\\py38\\lib\\site-packages (from holidays>=0.14.2->prophet) (0.3.1)\n",
      "Requirement already satisfied: ephem>=3.7.5.3 in c:\\users\\siddh\\miniconda3\\envs\\py38\\lib\\site-packages (from LunarCalendar>=0.0.9->prophet) (4.1.4)\n",
      "Requirement already satisfied: pytz in c:\\users\\siddh\\miniconda3\\envs\\py38\\lib\\site-packages (from LunarCalendar>=0.0.9->prophet) (2022.7)\n",
      "Requirement already satisfied: cycler>=0.10 in c:\\users\\siddh\\miniconda3\\envs\\py38\\lib\\site-packages (from matplotlib<=3.4.3->neptune-prophet) (0.11.0)\n",
      "Requirement already satisfied: kiwisolver>=1.0.1 in c:\\users\\siddh\\miniconda3\\envs\\py38\\lib\\site-packages (from matplotlib<=3.4.3->neptune-prophet) (1.4.4)\n",
      "Requirement already satisfied: pillow>=6.2.0 in c:\\users\\siddh\\miniconda3\\envs\\py38\\lib\\site-packages (from matplotlib<=3.4.3->neptune-prophet) (9.4.0)\n",
      "Requirement already satisfied: pyparsing>=2.2.1 in c:\\users\\siddh\\miniconda3\\envs\\py38\\lib\\site-packages (from matplotlib<=3.4.3->neptune-prophet) (3.0.9)\n",
      "Requirement already satisfied: websocket-client!=1.0.0,>=0.35.0 in c:\\users\\siddh\\miniconda3\\envs\\py38\\lib\\site-packages (from neptune>=1.0.0->neptune-prophet) (1.4.2)\n",
      "Requirement already satisfied: six>=1.12.0 in c:\\users\\siddh\\miniconda3\\envs\\py38\\lib\\site-packages (from neptune>=1.0.0->neptune-prophet) (1.16.0)\n",
      "Requirement already satisfied: future>=0.17.1 in c:\\users\\siddh\\miniconda3\\envs\\py38\\lib\\site-packages (from neptune>=1.0.0->neptune-prophet) (0.18.2)\n",
      "Requirement already satisfied: requests-oauthlib>=1.0.0 in c:\\users\\siddh\\miniconda3\\envs\\py38\\lib\\site-packages (from neptune>=1.0.0->neptune-prophet) (1.3.1)\n",
      "Requirement already satisfied: PyJWT in c:\\users\\siddh\\miniconda3\\envs\\py38\\lib\\site-packages (from neptune>=1.0.0->neptune-prophet) (2.6.0)\n",
      "Requirement already satisfied: GitPython>=2.0.8 in c:\\users\\siddh\\miniconda3\\envs\\py38\\lib\\site-packages (from neptune>=1.0.0->neptune-prophet) (3.1.29)\n",
      "Requirement already satisfied: swagger-spec-validator>=2.7.4 in c:\\users\\siddh\\miniconda3\\envs\\py38\\lib\\site-packages (from neptune>=1.0.0->neptune-prophet) (3.0.3)\n",
      "Requirement already satisfied: psutil in c:\\users\\siddh\\miniconda3\\envs\\py38\\lib\\site-packages (from neptune>=1.0.0->neptune-prophet) (5.9.4)\n",
      "Requirement already satisfied: boto3>=1.16.0 in c:\\users\\siddh\\miniconda3\\envs\\py38\\lib\\site-packages (from neptune>=1.0.0->neptune-prophet) (1.24.59)\n",
      "Requirement already satisfied: bravado<12.0.0,>=11.0.0 in c:\\users\\siddh\\miniconda3\\envs\\py38\\lib\\site-packages (from neptune>=1.0.0->neptune-prophet) (11.0.3)\n",
      "Requirement already satisfied: click>=7.0 in c:\\users\\siddh\\miniconda3\\envs\\py38\\lib\\site-packages (from neptune>=1.0.0->neptune-prophet) (8.1.3)\n",
      "Requirement already satisfied: requests>=2.20.0 in c:\\users\\siddh\\miniconda3\\envs\\py38\\lib\\site-packages (from neptune>=1.0.0->neptune-prophet) (2.28.1)\n",
      "Requirement already satisfied: oauthlib>=2.1.0 in c:\\users\\siddh\\miniconda3\\envs\\py38\\lib\\site-packages (from neptune>=1.0.0->neptune-prophet) (3.2.2)\n",
      "Requirement already satisfied: packaging in c:\\users\\siddh\\miniconda3\\envs\\py38\\lib\\site-packages (from neptune>=1.0.0->neptune-prophet) (22.0)\n",
      "Requirement already satisfied: urllib3 in c:\\users\\siddh\\miniconda3\\envs\\py38\\lib\\site-packages (from neptune>=1.0.0->neptune-prophet) (1.26.13)\n",
      "Requirement already satisfied: patsy>=0.5.2 in c:\\users\\siddh\\miniconda3\\envs\\py38\\lib\\site-packages (from statsmodels>=0.13.0->neptune-prophet) (0.5.3)\n",
      "Requirement already satisfied: colorama in c:\\users\\siddh\\miniconda3\\envs\\py38\\lib\\site-packages (from tqdm>=4.36.1->prophet) (0.4.6)\n",
      "Requirement already satisfied: jmespath<2.0.0,>=0.7.1 in c:\\users\\siddh\\miniconda3\\envs\\py38\\lib\\site-packages (from boto3>=1.16.0->neptune>=1.0.0->neptune-prophet) (0.10.0)\n",
      "Requirement already satisfied: s3transfer<0.7.0,>=0.6.0 in c:\\users\\siddh\\miniconda3\\envs\\py38\\lib\\site-packages (from boto3>=1.16.0->neptune>=1.0.0->neptune-prophet) (0.6.0)\n",
      "Requirement already satisfied: botocore<1.28.0,>=1.27.59 in c:\\users\\siddh\\miniconda3\\envs\\py38\\lib\\site-packages (from boto3>=1.16.0->neptune>=1.0.0->neptune-prophet) (1.27.59)\n",
      "Requirement already satisfied: msgpack in c:\\users\\siddh\\miniconda3\\envs\\py38\\lib\\site-packages (from bravado<12.0.0,>=11.0.0->neptune>=1.0.0->neptune-prophet) (1.0.4)\n",
      "Requirement already satisfied: pyyaml in c:\\users\\siddh\\miniconda3\\envs\\py38\\lib\\site-packages (from bravado<12.0.0,>=11.0.0->neptune>=1.0.0->neptune-prophet) (6.0)\n",
      "Requirement already satisfied: simplejson in c:\\users\\siddh\\miniconda3\\envs\\py38\\lib\\site-packages (from bravado<12.0.0,>=11.0.0->neptune>=1.0.0->neptune-prophet) (3.18.0)\n",
      "Requirement already satisfied: bravado-core>=5.16.1 in c:\\users\\siddh\\miniconda3\\envs\\py38\\lib\\site-packages (from bravado<12.0.0,>=11.0.0->neptune>=1.0.0->neptune-prophet) (5.17.1)\n",
      "Requirement already satisfied: monotonic in c:\\users\\siddh\\miniconda3\\envs\\py38\\lib\\site-packages (from bravado<12.0.0,>=11.0.0->neptune>=1.0.0->neptune-prophet) (1.6)\n",
      "Requirement already satisfied: typing-extensions in c:\\users\\siddh\\miniconda3\\envs\\py38\\lib\\site-packages (from bravado<12.0.0,>=11.0.0->neptune>=1.0.0->neptune-prophet) (4.4.0)\n",
      "Requirement already satisfied: gitdb<5,>=4.0.1 in c:\\users\\siddh\\miniconda3\\envs\\py38\\lib\\site-packages (from GitPython>=2.0.8->neptune>=1.0.0->neptune-prophet) (4.0.10)\n",
      "Requirement already satisfied: certifi>=2017.4.17 in c:\\users\\siddh\\miniconda3\\envs\\py38\\lib\\site-packages (from requests>=2.20.0->neptune>=1.0.0->neptune-prophet) (2022.12.7)\n",
      "Requirement already satisfied: idna<4,>=2.5 in c:\\users\\siddh\\miniconda3\\envs\\py38\\lib\\site-packages (from requests>=2.20.0->neptune>=1.0.0->neptune-prophet) (3.4)\n",
      "Requirement already satisfied: charset-normalizer<3,>=2 in c:\\users\\siddh\\miniconda3\\envs\\py38\\lib\\site-packages (from requests>=2.20.0->neptune>=1.0.0->neptune-prophet) (2.1.1)\n",
      "Requirement already satisfied: jsonschema in c:\\users\\siddh\\miniconda3\\envs\\py38\\lib\\site-packages (from swagger-spec-validator>=2.7.4->neptune>=1.0.0->neptune-prophet) (4.17.3)\n",
      "Requirement already satisfied: jsonref in c:\\users\\siddh\\miniconda3\\envs\\py38\\lib\\site-packages (from bravado-core>=5.16.1->bravado<12.0.0,>=11.0.0->neptune>=1.0.0->neptune-prophet) (1.0.1)\n",
      "Requirement already satisfied: smmap<6,>=3.0.1 in c:\\users\\siddh\\miniconda3\\envs\\py38\\lib\\site-packages (from gitdb<5,>=4.0.1->GitPython>=2.0.8->neptune>=1.0.0->neptune-prophet) (5.0.0)\n",
      "Requirement already satisfied: pkgutil-resolve-name>=1.3.10 in c:\\users\\siddh\\miniconda3\\envs\\py38\\lib\\site-packages (from jsonschema->swagger-spec-validator>=2.7.4->neptune>=1.0.0->neptune-prophet) (1.3.10)\n",
      "Requirement already satisfied: attrs>=17.4.0 in c:\\users\\siddh\\miniconda3\\envs\\py38\\lib\\site-packages (from jsonschema->swagger-spec-validator>=2.7.4->neptune>=1.0.0->neptune-prophet) (22.1.0)\n",
      "Requirement already satisfied: pyrsistent!=0.17.0,!=0.17.1,!=0.17.2,>=0.14.0 in c:\\users\\siddh\\miniconda3\\envs\\py38\\lib\\site-packages (from jsonschema->swagger-spec-validator>=2.7.4->neptune>=1.0.0->neptune-prophet) (0.19.2)\n",
      "Requirement already satisfied: importlib-resources>=1.4.0 in c:\\users\\siddh\\miniconda3\\envs\\py38\\lib\\site-packages (from jsonschema->swagger-spec-validator>=2.7.4->neptune>=1.0.0->neptune-prophet) (5.10.1)\n",
      "Requirement already satisfied: zipp>=3.1.0 in c:\\users\\siddh\\miniconda3\\envs\\py38\\lib\\site-packages (from importlib-resources>=1.4.0->jsonschema->swagger-spec-validator>=2.7.4->neptune>=1.0.0->neptune-prophet) (3.11.0)\n",
      "Requirement already satisfied: fqdn in c:\\users\\siddh\\miniconda3\\envs\\py38\\lib\\site-packages (from jsonschema->swagger-spec-validator>=2.7.4->neptune>=1.0.0->neptune-prophet) (1.5.1)\n",
      "Requirement already satisfied: jsonpointer>1.13 in c:\\users\\siddh\\miniconda3\\envs\\py38\\lib\\site-packages (from jsonschema->swagger-spec-validator>=2.7.4->neptune>=1.0.0->neptune-prophet) (2.3)\n",
      "Requirement already satisfied: webcolors>=1.11 in c:\\users\\siddh\\miniconda3\\envs\\py38\\lib\\site-packages (from jsonschema->swagger-spec-validator>=2.7.4->neptune>=1.0.0->neptune-prophet) (1.12)\n",
      "Requirement already satisfied: isoduration in c:\\users\\siddh\\miniconda3\\envs\\py38\\lib\\site-packages (from jsonschema->swagger-spec-validator>=2.7.4->neptune>=1.0.0->neptune-prophet) (20.11.0)\n",
      "Requirement already satisfied: rfc3339-validator in c:\\users\\siddh\\miniconda3\\envs\\py38\\lib\\site-packages (from jsonschema->swagger-spec-validator>=2.7.4->neptune>=1.0.0->neptune-prophet) (0.1.4)\n",
      "Requirement already satisfied: uri-template in c:\\users\\siddh\\miniconda3\\envs\\py38\\lib\\site-packages (from jsonschema->swagger-spec-validator>=2.7.4->neptune>=1.0.0->neptune-prophet) (1.2.0)\n",
      "Requirement already satisfied: rfc3987 in c:\\users\\siddh\\miniconda3\\envs\\py38\\lib\\site-packages (from jsonschema->swagger-spec-validator>=2.7.4->neptune>=1.0.0->neptune-prophet) (1.3.8)\n",
      "Requirement already satisfied: arrow>=0.15.0 in c:\\users\\siddh\\miniconda3\\envs\\py38\\lib\\site-packages (from isoduration->jsonschema->swagger-spec-validator>=2.7.4->neptune>=1.0.0->neptune-prophet) (1.2.3)\n",
      "Installing collected packages: matplotlib, neptune-prophet\n",
      "  Attempting uninstall: matplotlib\n",
      "    Found existing installation: matplotlib 3.7.0\n",
      "    Uninstalling matplotlib-3.7.0:\n",
      "      Successfully uninstalled matplotlib-3.7.0\n",
      "  Attempting uninstall: neptune-prophet\n",
      "    Found existing installation: neptune-prophet 0.4.1\n",
      "    Uninstalling neptune-prophet-0.4.1:\n",
      "      Successfully uninstalled neptune-prophet-0.4.1\n",
      "Successfully installed matplotlib-3.4.3 neptune-prophet-0.5.0\n"
     ]
    },
    {
     "name": "stderr",
     "output_type": "stream",
     "text": [
      "ERROR: pip's dependency resolver does not currently take into account all the packages that are installed. This behaviour is the source of the following dependency conflicts.\n",
      "neptune-xgboost 1.0.0 requires neptune-client>=0.16.17, which is not installed.\n",
      "neptune-sklearn 2.0.0 requires neptune-client>=0.16.17, which is not installed.\n",
      "neptune-lightgbm 1.0.0 requires neptune-client>=0.16.17, which is not installed.\n"
     ]
    }
   ],
   "source": [
    "! pip install -U neptune-prophet prophet"
   ]
  },
  {
   "cell_type": "code",
   "execution_count": 2,
   "id": "7f776cad",
   "metadata": {},
   "outputs": [],
   "source": [
    "import neptune"
   ]
  },
  {
   "cell_type": "markdown",
   "id": "813878e1",
   "metadata": {},
   "source": [
    "## Initialize Neptune and create new run\n",
    "Connect your script to Neptune application and create a new run."
   ]
  },
  {
   "cell_type": "code",
   "execution_count": 3,
   "id": "8f521acb",
   "metadata": {},
   "outputs": [
    {
     "name": "stderr",
     "output_type": "stream",
     "text": [
      "c:\\Users\\siddh\\miniconda3\\envs\\py38\\lib\\site-packages\\neptune\\common\\warnings.py:62: NeptuneWarning: To avoid unintended consumption of logging hours during interactive sessions, the following monitoring options are disabled unless set to 'True' when initializing the run: 'capture_stdout', 'capture_stderr', and 'capture_hardware_metrics'.\n",
      "  warnings.warn(\n"
     ]
    },
    {
     "name": "stdout",
     "output_type": "stream",
     "text": [
      "https://app.neptune.ai/common/fbprophet-integration/e/FBPROP-3034\n"
     ]
    }
   ],
   "source": [
    "run = neptune.init_run(\n",
    "    project=\"common/fbprophet-integration\",\n",
    "    api_token=neptune.ANONYMOUS_API_TOKEN,\n",
    "    tags=[\"prophet\", \"artifacts\", \"notebook\"],  # optional\n",
    ")"
   ]
  },
  {
   "cell_type": "markdown",
   "id": "9cf32479",
   "metadata": {},
   "source": [
    "Click on the link above to open this run in Neptune. For now it is empty, but keep the tab with run open to see what happens next.\n",
    "\n",
    "With the `api_token` and `project` arguments, you tell Neptune: \n",
    "\n",
    "* **who you are**: with your Neptune API token\n",
    "* **where you want to send your data**: your Neptune project\n",
    "\n",
    "At this point you have new run in Neptune. From now on, we'll use the `run` object to log metadata.\n",
    "\n",
    "---\n",
    "\n",
    "**Note**\n",
    "\n",
    "\n",
    "Instead of logging data to the public project `'common/fbprophet-integration'` as an anonymous user, you can log it to your own project.\n",
    "\n",
    "To find and copy your credentials:\n",
    "\n",
    "1. In the Neptune app, click your avatar and select **Get your API token**.\n",
    "2. Pass the token to ``api_token`` argument of the ``init_run()`` method.\n",
    "3. Pass your project name to the ``project`` argument. You can find it in the **project settings** &rarr; **Properties**.\n",
    "\n",
    "For example:\n",
    "\n",
    "```python\n",
    "neptune.init_run(\n",
    "    project=\"ml-team/classification\",\n",
    "    api_token=\"h0dHBzOi8aHR0cHM6Lkc78ghs74kl0jvYh3Kb8\",\n",
    ")\n",
    "```"
   ]
  },
  {
   "cell_type": "code",
   "execution_count": 4,
   "id": "702d8c5b",
   "metadata": {},
   "outputs": [],
   "source": [
    "import pandas as pd"
   ]
  },
  {
   "cell_type": "code",
   "execution_count": 5,
   "id": "21659dce",
   "metadata": {},
   "outputs": [],
   "source": [
    "df = pd.read_csv(\n",
    "    \"https://raw.githubusercontent.com/facebook/prophet/master/examples/example_wp_log_R.csv\"\n",
    ")\n",
    "\n",
    "# Market capacity\n",
    "df[\"cap\"] = 8.5"
   ]
  },
  {
   "cell_type": "code",
   "execution_count": 6,
   "id": "8180d30a",
   "metadata": {},
   "outputs": [],
   "source": [
    "from prophet import Prophet"
   ]
  },
  {
   "cell_type": "code",
   "execution_count": 7,
   "id": "dd382b5f",
   "metadata": {},
   "outputs": [
    {
     "name": "stderr",
     "output_type": "stream",
     "text": [
      "13:48:41 - cmdstanpy - INFO - Chain [1] start processing\n",
      "13:48:42 - cmdstanpy - INFO - Chain [1] done processing\n"
     ]
    },
    {
     "data": {
      "text/plain": [
       "<prophet.forecaster.Prophet at 0x21e15648d30>"
      ]
     },
     "execution_count": 7,
     "metadata": {},
     "output_type": "execute_result"
    }
   ],
   "source": [
    "model = Prophet(growth=\"logistic\")\n",
    "model.fit(df)"
   ]
  },
  {
   "cell_type": "code",
   "execution_count": 8,
   "id": "9f8579f7",
   "metadata": {},
   "outputs": [],
   "source": [
    "forecast = model.predict(df)"
   ]
  },
  {
   "cell_type": "markdown",
   "id": "307f8733",
   "metadata": {},
   "source": [
    "### Log summary metadata\n",
    "\n",
    "Log the Prophet regression summary to Neptune using the `create_summary()` function:\n"
   ]
  },
  {
   "cell_type": "code",
   "execution_count": 9,
   "id": "98c5a2cb",
   "metadata": {},
   "outputs": [
    {
     "name": "stderr",
     "output_type": "stream",
     "text": [
      "c:\\Users\\siddh\\miniconda3\\envs\\py38\\lib\\site-packages\\neptune\\common\\warnings.py:62: NeptuneDeprecationWarning: You're importing the Neptune client library via the deprecated `neptune.new` module, which will be removed in a future release. Import directly from `neptune` instead.\n",
      "  warnings.warn(\n"
     ]
    }
   ],
   "source": [
    "import neptune.new.integrations.prophet as npt_utils\n",
    "\n",
    "run[\"prophet_summary\"] = npt_utils.create_summary(model=model, df=df, fcst=forecast)"
   ]
  },
  {
   "cell_type": "markdown",
   "id": "77b13baa",
   "metadata": {},
   "source": [
    "## Stop logging\n",
    "\n",
    "Once you are done logging, stop tracking the run."
   ]
  },
  {
   "cell_type": "code",
   "execution_count": 10,
   "id": "f38f8660",
   "metadata": {},
   "outputs": [
    {
     "name": "stdout",
     "output_type": "stream",
     "text": [
      "Shutting down background jobs, please wait a moment...\n",
      "Done!\n",
      "All 0 operations synced, thanks for waiting!\n",
      "Explore the metadata in the Neptune app:\n",
      "https://app.neptune.ai/common/fbprophet-integration/e/FBPROP-3034/metadata\n"
     ]
    }
   ],
   "source": [
    "run.stop()"
   ]
  },
  {
   "cell_type": "markdown",
   "id": "8b98b6ef",
   "metadata": {},
   "source": [
    "### Explore results in Neptune"
   ]
  },
  {
   "cell_type": "markdown",
   "id": "b3fe4b76",
   "metadata": {},
   "source": [
    "You just learned how to log the Prophet regressor summary to Neptune using a single function. \n",
    "\n",
    "Click on the link that was printed to the console or [go here](https://app.neptune.ai/o/common/org/fbprophet-integration/e/FBPROP-249/all?path=prophet_summary%2Fdiagnostics_charts%2F) to explore a run similar to yours. In particular check:\n",
    "\n",
    "* [logged dataframes](https://app.neptune.ai/o/common/org/fbprophet-integration/e/FBPROP-249/all?path=prophet_summary%2Fdataframes%2F)\n",
    "* [logged regressor visualizations](https://app.neptune.ai/o/common/org/fbprophet-integration/e/FBPROP-249/all?path=prophet_summary%2Fdiagnostics_charts%2F)\n",
    "* [logged model config](https://app.neptune.ai/o/common/org/fbprophet-integration/e/FBPROP-249/all?path=prophet_summary%2Fmodel%2Fmodel_config%2F)\n",
    "* [logged serialized model](https://app.neptune.ai/o/common/org/fbprophet-integration/e/FBPROP-249/all?path=prophet_summary%2Fmodel%2F&attribute=serialized_model)\n",
    "* [logged metadata](https://app.neptune.ai/o/common/org/fbprophet-integration/e/FBPROP-249/all?path=sys)\n",
    "* [logged code and git metadata](https://app.neptune.ai/o/common/org/fbprophet-integration/e/FBPROP-249/source-code?path=source_code&file=Neptune_prophet.py)"
   ]
  },
  {
   "cell_type": "markdown",
   "id": "fcb10252",
   "metadata": {},
   "source": [
    "## More Options\n",
    "\n",
    "The Neptune + Prophet integration also lets you log only specific metadata of your choice, by using additional methods.\n",
    "Below are a few examples.\n",
    "\n",
    "For the full example, see the [Neptune docs](https://docs.neptune.ai/integrations-and-supported-tools/model-training/prophet)."
   ]
  },
  {
   "cell_type": "markdown",
   "id": "41d0d804",
   "metadata": {},
   "source": [
    "### Before you start: create, fit and predict a Prophet model"
   ]
  },
  {
   "cell_type": "code",
   "execution_count": 11,
   "id": "422eaf19",
   "metadata": {},
   "outputs": [
    {
     "name": "stderr",
     "output_type": "stream",
     "text": [
      "13:56:08 - cmdstanpy - INFO - Chain [1] start processing\n",
      "13:56:08 - cmdstanpy - INFO - Chain [1] done processing\n"
     ]
    }
   ],
   "source": [
    "df = pd.read_csv(\n",
    "    \"https://raw.githubusercontent.com/facebook/prophet/master/examples/example_wp_log_R.csv\"\n",
    ")\n",
    "\n",
    "# Market capacity\n",
    "df[\"cap\"] = 8.5\n",
    "\n",
    "model = Prophet(growth=\"logistic\")\n",
    "model.fit(df)\n",
    "forecast = model.predict(df)"
   ]
  },
  {
   "cell_type": "code",
   "execution_count": 12,
   "id": "9d7f7faf",
   "metadata": {},
   "outputs": [
    {
     "name": "stdout",
     "output_type": "stream",
     "text": [
      "https://app.neptune.ai/common/fbprophet-integration/e/FBPROP-3037\n"
     ]
    }
   ],
   "source": [
    "import neptune.integrations.prophet as npt_utils\n",
    "\n",
    "run = neptune.init_run(\n",
    "    project=\"common/fbprophet-integration\",\n",
    "    api_token=neptune.ANONYMOUS_API_TOKEN,\n",
    "    tags=[\"prophet\", \"artifacts\", \"notebook\"],  # optional\n",
    ")"
   ]
  },
  {
   "cell_type": "markdown",
   "id": "13dca64d",
   "metadata": {},
   "source": [
    "Open the link above to see the metadata logging results, as we add them below."
   ]
  },
  {
   "cell_type": "markdown",
   "id": "a2717b06",
   "metadata": {},
   "source": [
    "### Log Prophet plots"
   ]
  },
  {
   "cell_type": "code",
   "execution_count": 13,
   "id": "5a19ca0f",
   "metadata": {},
   "outputs": [],
   "source": [
    "run[\"forecast_plots\"] = npt_utils.create_forecast_plots(model, forecast)"
   ]
  },
  {
   "cell_type": "code",
   "execution_count": 14,
   "id": "a421c635",
   "metadata": {},
   "outputs": [],
   "source": [
    "run[\"forecast_components\"] = npt_utils.get_forecast_components(model, forecast)"
   ]
  },
  {
   "cell_type": "code",
   "execution_count": 15,
   "id": "0f7a7c9f",
   "metadata": {},
   "outputs": [],
   "source": [
    "run[\"residual_diagnostics_plot\"] = npt_utils.create_residual_diagnostics_plots(forecast, df.y)"
   ]
  },
  {
   "cell_type": "markdown",
   "id": "d140c773",
   "metadata": {},
   "source": [
    "### Log Prophet model configuration "
   ]
  },
  {
   "cell_type": "code",
   "execution_count": 16,
   "id": "5e59c64f",
   "metadata": {},
   "outputs": [],
   "source": [
    "run[\"model_config\"] = npt_utils.get_model_config(model)"
   ]
  },
  {
   "cell_type": "markdown",
   "id": "9668fced",
   "metadata": {},
   "source": [
    "### Log Prophet serialized model"
   ]
  },
  {
   "cell_type": "code",
   "execution_count": 17,
   "id": "a73802de",
   "metadata": {},
   "outputs": [],
   "source": [
    "run[\"model\"] = npt_utils.get_serialized_model(model)"
   ]
  },
  {
   "cell_type": "markdown",
   "id": "f17d80d0",
   "metadata": {},
   "source": [
    "## Stop logging\n",
    "\n",
    "Once you are done logging, stop tracking the run."
   ]
  },
  {
   "cell_type": "code",
   "execution_count": 18,
   "id": "21390637",
   "metadata": {},
   "outputs": [
    {
     "name": "stdout",
     "output_type": "stream",
     "text": [
      "Shutting down background jobs, please wait a moment...\n",
      "Done!\n",
      "Waiting for the remaining 39 operations to synchronize with Neptune. Do not kill this process.\n",
      "All 39 operations synced, thanks for waiting!\n",
      "Explore the metadata in the Neptune app:\n",
      "https://app.neptune.ai/common/fbprophet-integration/e/FBPROP-3037/metadata\n"
     ]
    }
   ],
   "source": [
    "run.stop()"
   ]
  }
 ],
 "metadata": {
  "kernelspec": {
   "display_name": "py38",
   "language": "python",
   "name": "python3"
  },
  "language_info": {
   "codemirror_mode": {
    "name": "ipython",
    "version": 3
   },
   "file_extension": ".py",
   "mimetype": "text/x-python",
   "name": "python",
   "nbconvert_exporter": "python",
   "pygments_lexer": "ipython3",
   "version": "3.8.15"
  },
  "vscode": {
   "interpreter": {
    "hash": "a9715cf0b0024f6e1c62cb31a4f1f43970eb41991212681878768b4bfe53050a"
   }
  }
 },
 "nbformat": 4,
 "nbformat_minor": 5
}
