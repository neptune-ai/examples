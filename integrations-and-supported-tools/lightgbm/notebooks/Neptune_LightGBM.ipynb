{
 "cells": [
  {
   "cell_type": "markdown",
   "metadata": {
    "id": "G4ny3mHCFrqG",
    "tags": [
     "header"
    ]
   },
   "source": [
    "# Neptune + LightGBM"
   ]
  },
  {
   "cell_type": "markdown",
   "metadata": {
    "id": "xndcBi_EUFVi",
    "tags": [
     "header",
     "installation"
    ]
   },
   "source": [
    "## Install dependencies"
   ]
  },
  {
   "cell_type": "code",
   "execution_count": null,
   "metadata": {
    "id": "jl90ahSMvhmV",
    "tags": [
     "installation"
    ]
   },
   "outputs": [],
   "source": [
    "! pip install neptune-client==0.9.16 lightgbm==3.2.1 neptune-lightgbm==0.9.10 psutil==5.8.0 graphviz==0.16"
   ]
  },
  {
   "cell_type": "markdown",
   "metadata": {
    "tags": [
     "header"
    ]
   },
   "source": [
    "## Quickstart"
   ]
  },
  {
   "cell_type": "markdown",
   "metadata": {
    "id": "1As3OW3LGqKg",
    "tags": [
     "header"
    ]
   },
   "source": [
    "### Import libraries"
   ]
  },
  {
   "cell_type": "code",
   "execution_count": null,
   "metadata": {
    "id": "FufE4GTzvRZG",
    "tags": [
     "code"
    ]
   },
   "outputs": [],
   "source": [
    "import lightgbm as lgb\n",
    "import neptune.new as neptune\n",
    "import numpy as np\n",
    "from neptune.new.integrations.lightgbm import NeptuneCallback, create_booster_summary\n",
    "from sklearn.datasets import load_digits\n",
    "from sklearn.model_selection import train_test_split"
   ]
  },
  {
   "cell_type": "markdown",
   "metadata": {
    "colab_type": "text",
    "id": "7LFLtV5R5JKT",
    "tags": [
     "header"
    ]
   },
   "source": [
    "### Create run"
   ]
  },
  {
   "cell_type": "code",
   "execution_count": null,
   "metadata": {
    "colab": {
     "base_uri": "https://localhost:8080/",
     "height": 71
    },
    "colab_type": "code",
    "id": "XMdpj-Se4t0U",
    "outputId": "d66a1df2-ed95-4790-c799-fe7f6a980b39",
    "tags": [
     "code"
    ]
   },
   "outputs": [],
   "source": [
    "run = neptune.init(\n",
    "    project=\"common/lightgbm-integration\",\n",
    "    api_token=\"ANONYMOUS\",\n",
    "    name=\"train-cls\",\n",
    "    tags=[\"lgbm-integration\", \"train\", \"cls\", \"notebook\"]\n",
    ")"
   ]
  },
  {
   "cell_type": "markdown",
   "metadata": {
    "tags": [
     "comment"
    ]
   },
   "source": [
    "Link above is a link to the run. Click on it, and leave the run tab open - you will get back to it when you start model training.\n",
    "\n",
    "Few explanations:\n",
    "1. You need to pass project to the `project`, parameter to inform Neptune where to log metadata. Project is a string of this form: `my_workspace/my_project`.\n",
    "1. There are more parameters to customize Neptune behavior, check [neptune.init() docs](https://docs.neptune.ai/api-reference/neptune#init) for more details.\n",
    "\n",
    "----\n",
    "\n",
    "**Note**\n",
    "\n",
    "Instead of logging data to the public project `\"common/lightgbm-integration\"` as an anonymous user `\"neptuner\"` you can log it to your own project.\n",
    "\n",
    "To do that:\n",
    "1. Follow the [installation and setup](https://docs.neptune.ai/getting-started/installation) that will show you how to use individual, private api_token.\n",
    "1. Create new [private project](https://docs.neptune.ai/administration/workspace-project-and-user-management/projects).\n",
    "1. Pass this project name here, instead of `\"common/lightgbm-integration\"`.\n",
    "\n",
    "At this point you will be ready to log LightGBM runs to your own project :)"
   ]
  },
  {
   "cell_type": "markdown",
   "metadata": {
    "id": "XomuTzlsVILc",
    "tags": [
     "header"
    ]
   },
   "source": [
    "### Create neptune callback"
   ]
  },
  {
   "cell_type": "code",
   "execution_count": null,
   "metadata": {
    "id": "82879lQuVfsJ",
    "tags": [
     "code"
    ]
   },
   "outputs": [],
   "source": [
    "neptune_callback = NeptuneCallback(run=run)"
   ]
  },
  {
   "cell_type": "markdown",
   "metadata": {
    "tags": [
     "comment"
    ]
   },
   "source": [
    "This callback will do metadata logging during training. You will pass it to the LightGBM `train()` function.\n",
    "\n",
    "It also works with `cv()` function and sklearn-like API of the LightGBM (in this case you pass it to the `fit()` function)."
   ]
  },
  {
   "cell_type": "markdown",
   "metadata": {
    "id": "XomuTzlsVILc",
    "tags": [
     "header"
    ]
   },
   "source": [
    "### Prepare data and define parameters"
   ]
  },
  {
   "cell_type": "code",
   "execution_count": null,
   "metadata": {
    "id": "82879lQuVfsJ",
    "tags": [
     "code"
    ]
   },
   "outputs": [],
   "source": [
    "# Prepare data\n",
    "X, y = load_digits(return_X_y=True)\n",
    "X_train, X_test, y_train, y_test = train_test_split(X, y, test_size=0.2, random_state=123)\n",
    "lgb_train = lgb.Dataset(X_train, y_train)\n",
    "lgb_eval = lgb.Dataset(X_test, y_test, reference=lgb_train)\n",
    "\n",
    "# Define parameters\n",
    "params = {\n",
    "    \"boosting_type\": \"gbdt\",\n",
    "    \"objective\": \"multiclass\",\n",
    "    \"num_class\": 10,\n",
    "    \"metric\": [\"multi_logloss\", \"multi_error\"],\n",
    "    \"num_leaves\": 21,\n",
    "    \"learning_rate\": 0.05,\n",
    "    \"feature_fraction\": 0.9,\n",
    "    \"bagging_fraction\": 0.8,\n",
    "    \"bagging_freq\": 5,\n",
    "    \"max_depth\": 12,\n",
    "}"
   ]
  },
  {
   "cell_type": "markdown",
   "metadata": {
    "id": "XomuTzlsVILc",
    "tags": [
     "header"
    ]
   },
   "source": [
    "### Train the model"
   ]
  },
  {
   "cell_type": "code",
   "execution_count": null,
   "metadata": {
    "id": "82879lQuVfsJ",
    "tags": [
     "code"
    ]
   },
   "outputs": [],
   "source": [
    "gbm = lgb.train(\n",
    "    params,\n",
    "    lgb_train,\n",
    "    num_boost_round=200,\n",
    "    valid_sets=[lgb_train, lgb_eval],\n",
    "    valid_names=[\"training\", \"validation\"],\n",
    "    callbacks=[neptune_callback],\n",
    ")"
   ]
  },
  {
   "cell_type": "markdown",
   "metadata": {
    "tags": [
     "comment"
    ]
   },
   "source": [
    "This cell do the model trainig and metadata logging to Neptune."
   ]
  },
  {
   "cell_type": "markdown",
   "metadata": {
    "id": "XomuTzlsVILc",
    "tags": [
     "header"
    ]
   },
   "source": [
    "### Log summary metadata to the same run under the \"lgbm_summary\" namespace"
   ]
  },
  {
   "cell_type": "code",
   "execution_count": null,
   "metadata": {
    "tags": [
     "code"
    ]
   },
   "outputs": [],
   "source": [
    "y_pred = np.argmax(gbm.predict(X_test), axis=1)\n",
    "\n",
    "# Log summary metadata to the same run under the \"lgbm_summary\" namespace\n",
    "run[\"lgbm_summary\"] = create_booster_summary(\n",
    "    booster=gbm,\n",
    "    log_trees=True,\n",
    "    list_trees=[0, 1, 2, 3, 4],\n",
    "    log_confusion_matrix=True,\n",
    "    y_pred=y_pred,\n",
    "    y_true=y_test\n",
    ")"
   ]
  },
  {
   "cell_type": "markdown",
   "metadata": {
    "tags": [
     "header"
    ]
   },
   "source": [
    "### Analyze logged metadata in the Neptune App"
   ]
  },
  {
   "cell_type": "markdown",
   "metadata": {
    "tags": [
     "comment"
    ]
   },
   "source": [
    "Go to the run link and explore metadata (parameters, metrics, visualizations, pickled model) that were logged to the run in Neptune.\n",
    "\n",
    "Link should look like this:\n",
    "\n",
    "https://app.neptune.ai/o/common/org/lightgbm-integration/e/LGBM-86/all"
   ]
  }
 ],
 "metadata": {
  "colab": {
   "collapsed_sections": [],
   "name": "Neptune-TensorFlow-Keras.ipynb",
   "private_outputs": true,
   "provenance": [],
   "toc_visible": true
  },
  "kernelspec": {
   "display_name": "Python 3",
   "language": "python",
   "name": "python3"
  },
  "language_info": {
   "codemirror_mode": {
    "name": "ipython",
    "version": 3
   },
   "file_extension": ".py",
   "mimetype": "text/x-python",
   "name": "python",
   "nbconvert_exporter": "python",
   "pygments_lexer": "ipython3",
   "version": "3.7.10"
  }
 },
 "nbformat": 4,
 "nbformat_minor": 4
}
