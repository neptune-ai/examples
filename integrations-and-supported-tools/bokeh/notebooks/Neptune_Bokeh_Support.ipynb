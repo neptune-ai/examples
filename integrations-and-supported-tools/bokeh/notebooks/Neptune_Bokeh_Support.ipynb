{
 "cells": [
  {
   "cell_type": "markdown",
   "metadata": {},
   "source": [
    "# Neptune + Bokeh"
   ]
  },
  {
   "cell_type": "markdown",
   "metadata": {
    "id": "GG3_2HyRVY4Y",
    "tags": [
     "header",
     "comment"
    ]
   },
   "source": [
    "## Introduction\n",
    "\n",
    "This guide will show you how to:\n",
    "\n",
    "* Initialize Neptune and create a `run`,\n",
    "* Log `bokeh` charts to Neptune."
   ]
  },
  {
   "cell_type": "markdown",
   "metadata": {
    "id": "1tBfsYCm05rl"
   },
   "source": [
    "## Before you start\n",
    "\n",
    "This notebook example lets you try out Neptune as an anonymous user, with zero setup.\n",
    "\n",
    "* If you are running the notebook on your local machine, you need to have [Python](https://www.python.org/downloads/) and [pip](https://pypi.org/project/pip/) installed.\n",
    "* If you want to see the example recorded to your own workspace instead:\n",
    "    * Create a Neptune account → [Take me to registration](https://neptune.ai/register)\n",
    "    * Create a Neptune project that you will use for tracking metadata → [Tell me more about projects](https://docs.neptune.ai/administration/projects)"
   ]
  },
  {
   "cell_type": "markdown",
   "metadata": {},
   "source": [
    "## Install Neptune and dependencies"
   ]
  },
  {
   "cell_type": "code",
   "execution_count": null,
   "metadata": {
    "id": "xm0WX77L1Nii"
   },
   "outputs": [],
   "source": [
    "! pip install bokeh==2.3.2 neptune-client"
   ]
  },
  {
   "cell_type": "markdown",
   "metadata": {
    "id": "0NQaVXuoWA-E",
    "tags": [
     "header",
     "installation"
    ]
   },
   "source": [
    "## Import and initialize `neptune`"
   ]
  },
  {
   "cell_type": "code",
   "execution_count": null,
   "metadata": {
    "id": "quJ_tJDk7R3e"
   },
   "outputs": [],
   "source": [
    "import neptune.new as neptune"
   ]
  },
  {
   "cell_type": "code",
   "execution_count": null,
   "metadata": {
    "id": "asktsEotnTlR"
   },
   "outputs": [],
   "source": [
    "run = neptune.init(api_token=\"ANONYMOUS\", project=\"common/bokeh-support\")"
   ]
  },
  {
   "cell_type": "markdown",
   "metadata": {
    "id": "VnSWXRbXHUz3",
    "tags": [
     "comment",
     "exclude"
    ]
   },
   "source": [
    "Click on the link above to open this run in Neptune. For now it is empty but keep the tab with run open to see what happens next. "
   ]
  },
  {
   "cell_type": "markdown",
   "metadata": {
    "id": "QYakxenbPkrR"
   },
   "source": [
    "**Note:**<br>\n",
    "To [create your own private projects](https://docs.neptune.ai/administration/workspace-project-and-user-management/projects#create-project), you will need a [Neptune account](https://neptune.ai/register) and  your [personal Neptune API token](https://docs.neptune.ai/getting-started/installation#get-api-token)."
   ]
  },
  {
   "cell_type": "markdown",
   "metadata": {
    "id": "pk4ZgmW9Q7Mg",
    "tags": [
     "header"
    ]
   },
   "source": [
    "## Log `bokeh` charts to Neptune"
   ]
  },
  {
   "cell_type": "markdown",
   "metadata": {
    "id": "E3XjDiMB-XDK"
   },
   "source": [
    "### Create a sample chart"
   ]
  },
  {
   "cell_type": "code",
   "execution_count": null,
   "metadata": {
    "id": "V6i1BJfL96ww"
   },
   "outputs": [],
   "source": [
    "import numpy as np\n",
    "from bokeh.plotting import figure\n",
    "\n",
    "N = 500\n",
    "x = np.linspace(0, 10, N)\n",
    "y = np.linspace(0, 10, N)\n",
    "xx, yy = np.meshgrid(x, y)\n",
    "d = np.sin(xx) * np.cos(yy)\n",
    "\n",
    "p = figure(tooltips=[(\"x\", \"$x\"), (\"y\", \"$y\"), (\"value\", \"@image\")])\n",
    "p.x_range.range_padding = p.y_range.range_padding = 0\n",
    "\n",
    "# must give a vector of image data for image parameter\n",
    "p.image(image=[d], x=0, y=0, dw=10, dh=10, palette=\"Spectral11\", level=\"image\")\n",
    "p.grid.grid_line_width = 0.5"
   ]
  },
  {
   "cell_type": "markdown",
   "metadata": {
    "id": "tqqF7gsP_Sh9"
   },
   "source": [
    "### Log interactive image"
   ]
  },
  {
   "cell_type": "code",
   "execution_count": null,
   "metadata": {
    "id": "8WWCJy73_Sh_"
   },
   "outputs": [],
   "source": [
    "run[\"interactive_img\"].upload(p)"
   ]
  },
  {
   "cell_type": "markdown",
   "metadata": {
    "id": "XSHLD6AkI7LW",
    "tags": []
   },
   "source": [
    "## Stop logging\n",
    "\n",
    "<font color=red>**Warning:**</font><br>\n",
    "Once you are done logging, you should stop tracking the run using the `stop()` method.\n",
    "This is needed only while logging from a notebook environment. While logging through a script, Neptune automatically stops tracking once the script has completed execution."
   ]
  },
  {
   "cell_type": "code",
   "execution_count": null,
   "metadata": {
    "id": "Zgh3NwDoJAuG"
   },
   "outputs": [],
   "source": [
    "run.stop()"
   ]
  },
  {
   "cell_type": "markdown",
   "metadata": {
    "id": "swXKaHZmASyd"
   },
   "source": [
    "## Explore the charts in Neptune\n",
    "\n",
    "The images can be found in the **All metadata** section  \n",
    "![](https://files.gitbook.com/v0/b/gitbook-legacy-files/o/assets%2F-MT0sYKbymfLAAtTq4-t%2F-M_5AwBKJkQJY2HLPIvG%2F-M_6SGxYD9pGNHAv_6Yp%2Fbokeh-logging.gif?alt=media&token=70e8d5c9-285e-4216-bf56-a0d12c080f13)"
   ]
  },
  {
   "cell_type": "markdown",
   "metadata": {
    "id": "had9MNRtQ7Mr",
    "tags": [
     "comment"
    ]
   },
   "source": [
    "## Conclusion\n",
    "\n",
    "You’ve learned how to:\n",
    "\n",
    "* Initialize Neptune and create a run,\n",
    "* Log `bokeh` charts to Neptune."
   ]
  },
  {
   "cell_type": "markdown",
   "metadata": {
    "id": "_3ibcYhPQ7Mr",
    "tags": [
     "comment"
    ]
   },
   "source": [
    "## What's next\n",
    "\n",
    "Now that you know how to log charts to Neptune, you can learn:\n",
    "\n",
    "* [How to log other types of metadata to Neptune](https://docs.neptune.ai/you-should-know/logging-and-managing-runs-results/logging-runs-data#what-objects-can-you-log-to-neptune)\n",
    "* [How to download runs data from Neptune](https://docs.neptune.ai/user-guides/logging-and-managing-runs-results/downloading-runs-data)\n",
    "* [How to connect Neptune to the ML framework you are using](https://docs.neptune.ai/essentials/integrations)"
   ]
  }
 ],
 "metadata": {
  "colab": {
   "collapsed_sections": [],
   "name": "Neptune_Bokeh_Support.ipynb",
   "private_outputs": true,
   "provenance": [],
   "toc_visible": true
  },
  "kernelspec": {
   "display_name": "Python 3 (ipykernel)",
   "language": "python",
   "name": "python3"
  },
  "language_info": {
   "codemirror_mode": {
    "name": "ipython",
    "version": 3
   },
   "file_extension": ".py",
   "mimetype": "text/x-python",
   "name": "python",
   "nbconvert_exporter": "python",
   "pygments_lexer": "ipython3",
   "version": "3.10.5"
  },
  "toc-autonumbering": false,
  "toc-showcode": false,
  "toc-showmarkdowntxt": false,
  "toc-showtags": false,
  "vscode": {
   "interpreter": {
    "hash": "ec001e92a202bf5caf822e845ea5ad1be0f2e89477ccf084fef05c1d70e5b02a"
   }
  }
 },
 "nbformat": 4,
 "nbformat_minor": 4
}
