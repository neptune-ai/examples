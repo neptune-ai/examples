{
 "cells": [
  {
   "cell_type": "markdown",
   "metadata": {
    "pycharm": {
     "name": "#%% md\n"
    }
   },
   "source": [
    "# Neptune + fastai"
   ]
  },
  {
   "cell_type": "markdown",
   "metadata": {
    "id": "GG3_2HyRVY4Y",
    "pycharm": {
     "name": "#%% md\n"
    },
    "tags": [
     "header",
     "comment"
    ]
   },
   "source": [
    "## Introduction\n",
    "\n",
    "This guide will show you how to:\n",
    "\n",
    "* Log basic metadata using `NeptuneCallback()`,\n",
    "* Do single and multi phase logging using `NeptuneCallback()`,\n",
    "* Log model weights using `NeptuneCallback()`,\n",
    "* Log images to a Neptune `run` using the Neptune client library (`neptune-client`)."
   ]
  },
  {
   "cell_type": "markdown",
   "metadata": {
    "id": "1tBfsYCm05rl",
    "pycharm": {
     "name": "#%% md\n"
    }
   },
   "source": [
    "## Before you start\n",
    "\n",
    "This notebook example lets you try out Neptune as an anonymous user, with zero setup.\n",
    "\n",
    "* If you are running the notebook on your local machine, you need to have [Python](https://www.python.org/downloads/) and [pip](https://pypi.org/project/pip/) installed.\n",
    "* If you want to see the example recorded to your own workspace instead:\n",
    "    * Create a Neptune account → [Take me to registration](https://neptune.ai/register)\n",
    "    * Create a Neptune project that you will use for tracking metadata → [Tell me more about projects](https://docs.neptune.ai/administration/projects)"
   ]
  },
  {
   "cell_type": "markdown",
   "metadata": {
    "pycharm": {
     "name": "#%% md\n"
    }
   },
   "source": [
    "## Install Neptune and dependencies"
   ]
  },
  {
   "cell_type": "code",
   "execution_count": null,
   "metadata": {
    "id": "7XAimXshlauN",
    "pycharm": {
     "name": "#%%\n"
    }
   },
   "outputs": [],
   "source": [
    "! pip install --quiet neptune-client neptune-fastai fastai==2.6.3  torch==1.11.0 torchvision==0.12.0"
   ]
  },
  {
   "cell_type": "markdown",
   "metadata": {
    "id": "gO_cFFcElVZ3",
    "pycharm": {
     "name": "#%% md\n"
    }
   },
   "source": [
    "## Basic Example"
   ]
  },
  {
   "cell_type": "markdown",
   "metadata": {
    "id": "VRxD9Nwtlgt3",
    "pycharm": {
     "name": "#%% md\n"
    }
   },
   "source": [
    "**Import libraries**"
   ]
  },
  {
   "cell_type": "code",
   "execution_count": null,
   "metadata": {
    "id": "OOobenPNmwX2",
    "pycharm": {
     "name": "#%%\n"
    }
   },
   "outputs": [],
   "source": [
    "import neptune.new as neptune\n",
    "import torch\n",
    "from fastai.callback.all import SaveModelCallback\n",
    "from fastai.vision.all import (\n",
    "    resnet18,\n",
    "    vision_learner,\n",
    "    ImageDataLoaders,\n",
    "    untar_data,\n",
    "    URLs,\n",
    "    accuracy,\n",
    ")\n",
    "from neptune.new.integrations.fastai import NeptuneCallback\n",
    "from neptune.new.types import File"
   ]
  },
  {
   "cell_type": "markdown",
   "metadata": {
    "id": "7xARz0oqQ6K3",
    "pycharm": {
     "name": "#%% md\n"
    }
   },
   "source": [
    "### Create a Neptune run\n",
    "\n",
    "To log metadata to the Neptune project, you need the `project name` and the `api_token`.\n",
    "\n",
    "To make this example easy to follow, we have created a public project **'common/fastai-integration'** and a shared user **'neptuner'** with the API token **'ANONYMOUS'**. As you will see in the code cell below.\n",
    "\n",
    "**(Optional)** To log to your Neptune project:\n",
    "\n",
    "* [Create a Neptune account](https://app.neptune.ai/register/)\n",
    "\n",
    "* [Find your API token](https://docs.neptune.ai/getting-started/installation#authentication-neptune-api-token)\n",
    "* [Find your project name](https://docs.neptune.ai/getting-started/installation#setting-the-project-name)\n",
    "\n",
    "Pass your credentials to project and api_token arguments of neptune.init()\n",
    "\n",
    "`run = neptune.init(api_token=\"YOUR_API_TOKEN\", project=\"YOUR_WORKSPACE/YOUR_PROJECT\")` # pass your credentials\n"
   ]
  },
  {
   "cell_type": "code",
   "execution_count": null,
   "metadata": {
    "id": "a5josiPlQ8_S",
    "pycharm": {
     "name": "#%%\n"
    }
   },
   "outputs": [],
   "source": [
    "run = neptune.init(\n",
    "    project=\"common/fastai-integration\",\n",
    "    api_token=\"ANONYMOUS\",\n",
    "    tags=\"notebook-run\",\n",
    ")"
   ]
  },
  {
   "cell_type": "markdown",
   "metadata": {
    "id": "XX-XBtp1Ndr7",
    "pycharm": {
     "name": "#%% md\n"
    }
   },
   "source": [
    "**Dataset**"
   ]
  },
  {
   "cell_type": "code",
   "execution_count": null,
   "metadata": {
    "colab": {
     "base_uri": "https://localhost:8080/",
     "height": 17
    },
    "id": "-Y5Az-g8m9l4",
    "outputId": "d43c73d7-8f4a-4e55-8647-547460fe841d",
    "pycharm": {
     "name": "#%%\n"
    }
   },
   "outputs": [],
   "source": [
    "path = untar_data(URLs.MNIST_TINY)\n",
    "dls = ImageDataLoaders.from_csv(path)"
   ]
  },
  {
   "cell_type": "code",
   "execution_count": null,
   "metadata": {
    "id": "VdDCPKPGQAMM",
    "pycharm": {
     "name": "#%%\n"
    }
   },
   "outputs": [],
   "source": [
    "dls.show_batch()"
   ]
  },
  {
   "cell_type": "markdown",
   "metadata": {
    "id": "bwAvyUTah2wG",
    "pycharm": {
     "name": "#%% md\n"
    }
   },
   "source": [
    "### Log metadata using `NeptuneCallback()`\n",
    "By using `NeptuneCallback()`, the following is automatically logged to Neptune for you:\n",
    "- Hyperparameters\n",
    "- Loss\n",
    "- Metrics\n",
    "- Best model weights \n",
    "- Model architecture"
   ]
  },
  {
   "cell_type": "code",
   "execution_count": null,
   "metadata": {
    "id": "XeKggX9TieAt",
    "pycharm": {
     "name": "#%%\n"
    }
   },
   "outputs": [],
   "source": [
    "learn = vision_learner(\n",
    "    dls,\n",
    "    resnet18,\n",
    "    cbs=[SaveModelCallback(), NeptuneCallback(run=run, base_namespace=\"experiment\")],\n",
    ")"
   ]
  },
  {
   "cell_type": "code",
   "execution_count": null,
   "metadata": {
    "id": "UQPN6xLliiQf",
    "pycharm": {
     "name": "#%%\n"
    }
   },
   "outputs": [],
   "source": [
    "learn.fit_one_cycle(1)"
   ]
  },
  {
   "cell_type": "markdown",
   "metadata": {
    "id": "FCY2qcr4Z3sd",
    "pycharm": {
     "name": "#%% md\n"
    }
   },
   "source": [
    "## More options"
   ]
  },
  {
   "cell_type": "markdown",
   "metadata": {
    "id": "AvhSUx5-nOoh",
    "pycharm": {
     "name": "#%% md\n"
    }
   },
   "source": [
    "### Single and Multi phase logging"
   ]
  },
  {
   "cell_type": "markdown",
   "metadata": {
    "id": "fMwRFdGIiJAa",
    "pycharm": {
     "name": "#%% md\n"
    }
   },
   "source": [
    "#### Log on a single training phase"
   ]
  },
  {
   "cell_type": "code",
   "execution_count": null,
   "metadata": {
    "colab": {
     "base_uri": "https://localhost:8080/",
     "height": 84,
     "referenced_widgets": [
      "5693bb4dfa794081b99214ff331105d7",
      "487528e8655b466881efdd01db8f967f",
      "76c99b85bc1b4edaa844f8649c018a46",
      "5791b3089f9e4a8b854668ad30b859fa",
      "af05db39e2b1416aa801dec0768029e0",
      "74cf93d7a8214ec2a095435d147a76b8",
      "be692e16774548b0bc0d727059cf6fa6",
      "c60acb0e1f18466490addacb9cd8c93a"
     ]
    },
    "id": "EBnCsZcNQCwM",
    "outputId": "8642a59f-69bd-49b5-83ee-4a9a97a21611",
    "pycharm": {
     "name": "#%%\n"
    }
   },
   "outputs": [],
   "source": [
    "learn = vision_learner(dls, resnet18, metrics=accuracy)"
   ]
  },
  {
   "cell_type": "code",
   "execution_count": null,
   "metadata": {
    "colab": {
     "base_uri": "https://localhost:8080/",
     "height": 95
    },
    "id": "pwgp4C2gmA8k",
    "outputId": "788bd2b3-f2af-4f2f-ed6c-589583e77050",
    "pycharm": {
     "name": "#%%\n"
    }
   },
   "outputs": [],
   "source": [
    "learn.fit_one_cycle(1, cbs=[NeptuneCallback(run=run, base_namespace=\"experiment_1\")])"
   ]
  },
  {
   "cell_type": "markdown",
   "metadata": {
    "id": "F7wmJ3wEjgwa",
    "pycharm": {
     "name": "#%% md\n"
    }
   },
   "source": [
    "#### Log all training phases of the learner"
   ]
  },
  {
   "cell_type": "code",
   "execution_count": null,
   "metadata": {
    "id": "PHBtywoijgDH",
    "pycharm": {
     "name": "#%%\n"
    }
   },
   "outputs": [],
   "source": [
    "learn = vision_learner(\n",
    "    dls, resnet18, cbs=[NeptuneCallback(run=run, base_namespace=\"experiment_2\")]\n",
    ")"
   ]
  },
  {
   "cell_type": "code",
   "execution_count": null,
   "metadata": {
    "id": "KuChX6iNjrJ-",
    "pycharm": {
     "name": "#%%\n"
    }
   },
   "outputs": [],
   "source": [
    "learn.fit_one_cycle(2)"
   ]
  },
  {
   "cell_type": "code",
   "execution_count": null,
   "metadata": {
    "id": "v5-iNQ0Mjr24",
    "pycharm": {
     "name": "#%%\n"
    }
   },
   "outputs": [],
   "source": [
    "learn.fit_one_cycle(2)"
   ]
  },
  {
   "cell_type": "markdown",
   "metadata": {
    "id": "6OrymETJj0WP",
    "pycharm": {
     "name": "#%% md\n"
    }
   },
   "source": [
    "### Log model weights every n epochs"
   ]
  },
  {
   "cell_type": "code",
   "execution_count": null,
   "metadata": {
    "id": "mCqMRybFkDR-",
    "pycharm": {
     "name": "#%%\n"
    }
   },
   "outputs": [],
   "source": [
    "n = 2\n",
    "learn = vision_learner(\n",
    "    dls,\n",
    "    resnet18,\n",
    "    metrics=accuracy,\n",
    "    cbs=[\n",
    "        SaveModelCallback(every_epoch=n),\n",
    "        NeptuneCallback(\n",
    "            run=run, base_namespace=\"experiment_3\", upload_saved_models=\"all\"\n",
    "        ),\n",
    "    ],\n",
    ")"
   ]
  },
  {
   "cell_type": "code",
   "execution_count": null,
   "metadata": {
    "id": "4vrqLIdDkcTl",
    "pycharm": {
     "name": "#%%\n"
    }
   },
   "outputs": [],
   "source": [
    "learn.fit_one_cycle(5)"
   ]
  },
  {
   "cell_type": "markdown",
   "metadata": {
    "id": "hByiet7ZaC-h",
    "pycharm": {
     "name": "#%% md\n"
    }
   },
   "source": [
    "### Log images"
   ]
  },
  {
   "cell_type": "code",
   "execution_count": null,
   "metadata": {
    "id": "aCAZgIr-Z7ne",
    "pycharm": {
     "name": "#%%\n"
    }
   },
   "outputs": [],
   "source": [
    "batch = dls.one_batch()\n",
    "for i, (x, y) in enumerate(dls.decode_batch(batch)):\n",
    "    # Neptune supports torch tensors\n",
    "    # fastai uses their own tensor type name TensorImage\n",
    "    # so you have to convert it back to torch.Tensor\n",
    "    run[\"images/one_batch\"].log(\n",
    "        File.as_image(x.as_subclass(torch.Tensor).permute(2, 1, 0) / 255.0),\n",
    "        name=f\"{i}\",\n",
    "        description=f\"Label: {y}\",\n",
    "    )"
   ]
  },
  {
   "cell_type": "markdown",
   "metadata": {
    "id": "94Q_KFXHoeZ0",
    "pycharm": {
     "name": "#%% md\n"
    }
   },
   "source": [
    "## Stop logging\n",
    "\n",
    "<font color=red>**Warning:**</font><br>\n",
    "Once you are done logging, you should stop tracking the run using the `stop()` method.\n",
    "This is needed only while logging from a notebook environment. While logging through a script, Neptune automatically stops tracking once the script has completed execution."
   ]
  },
  {
   "cell_type": "code",
   "execution_count": null,
   "metadata": {
    "id": "gJC4Q0SEXQn1",
    "pycharm": {
     "name": "#%%\n"
    }
   },
   "outputs": [],
   "source": [
    "run.stop()"
   ]
  }
 ],
 "metadata": {
  "colab": {
   "collapsed_sections": [],
   "name": "Neptune_fastai.ipynb",
   "provenance": [],
   "toc_visible": true
  },
  "kernelspec": {
   "display_name": "Python 3 (ipykernel)",
   "language": "python",
   "name": "python3"
  },
  "language_info": {
   "codemirror_mode": {
    "name": "ipython",
    "version": 3
   },
   "file_extension": ".py",
   "mimetype": "text/x-python",
   "name": "python",
   "nbconvert_exporter": "python",
   "pygments_lexer": "ipython3",
   "version": "3.8.10"

  }
 },
 "nbformat": 4,
 "nbformat_minor": 4
}
