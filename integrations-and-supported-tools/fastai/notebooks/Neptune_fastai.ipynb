{
 "cells": [
  {
   "cell_type": "markdown",
   "metadata": {
    "id": "WzRZxnhilGh3"
   },
   "source": [
    "# Neptune + Fastai\n",
    "## Before you start\n",
    "**Install dependencies**"
   ]
  },
  {
   "cell_type": "code",
   "execution_count": null,
   "metadata": {
    "id": "7XAimXshlauN"
   },
   "outputs": [],
   "source": [
    "! pip install fastai==2.3.1 neptune-client[fastai]"
   ]
  },
  {
   "cell_type": "markdown",
   "metadata": {
    "id": "gO_cFFcElVZ3"
   },
   "source": [
    "## Basic Example"
   ]
  },
  {
   "cell_type": "markdown",
   "metadata": {
    "id": "VRxD9Nwtlgt3"
   },
   "source": [
    "**Import libraries**"
   ]
  },
  {
   "cell_type": "code",
   "execution_count": null,
   "metadata": {
    "id": "OOobenPNmwX2"
   },
   "outputs": [],
   "source": [
    "import fastai\n",
    "import neptune.new as neptune\n",
    "\n",
    "from fastai.vision.all import *\n",
    "from neptune.new.integrations.fastai import NeptuneCallback"
   ]
  },
  {
   "cell_type": "markdown",
   "metadata": {
    "id": "7xARz0oqQ6K3"
   },
   "source": [
    "### Create a Neptune run\n",
    "\n",
    "To log metadata to the Neptune project, you need the `project name` and the `api_token`.\n",
    "\n",
    "To make this example easy to follow, we have created a public project **'common/fastai-integration'** and a shared user **'neptuner'** with the API token **'ANONYMOUS'**. As you will see in the code cell below.\n",
    "\n",
    "**(Optional)** To log to your Neptune project:\n",
    "\n",
    "* [Create a Neptune account](https://app.neptune.ai/register/)\n",
    "\n",
    "* [Find your API token](https://docs.neptune.ai/getting-started/installation#authentication-neptune-api-token)\n",
    "* [Find your project name](https://docs.neptune.ai/getting-started/installation#setting-the-project-name)\n",
    "\n",
    "Pass your credentials to project and api_token arguments of neptune.init()\n",
    "\n",
    "`run = neptune.init(api_token='<YOUR_API_TOKEN>', project='<YOUR_WORKSPACE/YOUR_PROJECT>')` # pass your credentials\n"
   ]
  },
  {
   "cell_type": "code",
   "execution_count": null,
   "metadata": {
    "id": "a5josiPlQ8_S"
   },
   "outputs": [],
   "source": [
    "run = neptune.init(project=\"common/fastai-integration\", api_token=\"ANONYMOUS\")"
   ]
  },
  {
   "cell_type": "markdown",
   "metadata": {
    "id": "XX-XBtp1Ndr7"
   },
   "source": [
    "**Dataset**"
   ]
  },
  {
   "cell_type": "code",
   "execution_count": null,
   "metadata": {
    "colab": {
     "base_uri": "https://localhost:8080/",
     "height": 17
    },
    "id": "-Y5Az-g8m9l4",
    "outputId": "d43c73d7-8f4a-4e55-8647-547460fe841d"
   },
   "outputs": [],
   "source": [
    "path = untar_data(URLs.MNIST_TINY)"
   ]
  },
  {
   "cell_type": "code",
   "execution_count": null,
   "metadata": {
    "id": "SEzDfnfePtd7"
   },
   "outputs": [],
   "source": [
    "dls = ImageDataLoaders.from_csv(path)"
   ]
  },
  {
   "cell_type": "code",
   "execution_count": null,
   "metadata": {
    "id": "VdDCPKPGQAMM"
   },
   "outputs": [],
   "source": [
    "dls.show_batch()"
   ]
  },
  {
   "cell_type": "markdown",
   "metadata": {
    "id": "bwAvyUTah2wG"
   },
   "source": [
    "### Log metadata using NeptuneCallback()\n",
    "Using NeptuneCallback the following is automatically logged to Neptune UI for you:\n",
    "- Hyperparameters\n",
    "- Loss\n",
    "- Metrics\n",
    "- Best model weights \n",
    "- Model architecture\n"
   ]
  },
  {
   "cell_type": "code",
   "execution_count": null,
   "metadata": {
    "id": "XeKggX9TieAt"
   },
   "outputs": [],
   "source": [
    "learn = cnn_learner(dls, resnet18, cbs=[NeptuneCallback(run, \"experiment\")])"
   ]
  },
  {
   "cell_type": "code",
   "execution_count": null,
   "metadata": {
    "id": "UQPN6xLliiQf"
   },
   "outputs": [],
   "source": [
    "learn.fit_one_cycle(1)"
   ]
  },
  {
   "cell_type": "markdown",
   "metadata": {
    "id": "FCY2qcr4Z3sd"
   },
   "source": [
    "## More options"
   ]
  },
  {
   "cell_type": "markdown",
   "metadata": {
    "id": "AvhSUx5-nOoh"
   },
   "source": [
    "### Single and Multi phase logging"
   ]
  },
  {
   "cell_type": "markdown",
   "metadata": {
    "id": "fMwRFdGIiJAa"
   },
   "source": [
    "#### Log on a single training phase"
   ]
  },
  {
   "cell_type": "code",
   "execution_count": null,
   "metadata": {
    "colab": {
     "base_uri": "https://localhost:8080/",
     "height": 84,
     "referenced_widgets": [
      "5693bb4dfa794081b99214ff331105d7",
      "487528e8655b466881efdd01db8f967f",
      "76c99b85bc1b4edaa844f8649c018a46",
      "5791b3089f9e4a8b854668ad30b859fa",
      "af05db39e2b1416aa801dec0768029e0",
      "74cf93d7a8214ec2a095435d147a76b8",
      "be692e16774548b0bc0d727059cf6fa6",
      "c60acb0e1f18466490addacb9cd8c93a"
     ]
    },
    "id": "EBnCsZcNQCwM",
    "outputId": "8642a59f-69bd-49b5-83ee-4a9a97a21611"
   },
   "outputs": [],
   "source": [
    "learn = cnn_learner(dls, resnet18)"
   ]
  },
  {
   "cell_type": "code",
   "execution_count": null,
   "metadata": {
    "colab": {
     "base_uri": "https://localhost:8080/",
     "height": 95
    },
    "id": "pwgp4C2gmA8k",
    "outputId": "788bd2b3-f2af-4f2f-ed6c-589583e77050"
   },
   "outputs": [],
   "source": [
    "learn.fit_one_cycle(3, cbs=[NeptuneCallback(run, \"bs\", save_model_freq=2)])"
   ]
  },
  {
   "cell_type": "markdown",
   "metadata": {
    "id": "F7wmJ3wEjgwa"
   },
   "source": [
    "#### Log all training phases of the learner"
   ]
  },
  {
   "cell_type": "code",
   "execution_count": null,
   "metadata": {
    "id": "PHBtywoijgDH"
   },
   "outputs": [],
   "source": [
    "learn = cnn_learner(dls, resnet18, cbs=[NeptuneCallback(run, \"experiment\")])"
   ]
  },
  {
   "cell_type": "code",
   "execution_count": null,
   "metadata": {
    "id": "KuChX6iNjrJ-"
   },
   "outputs": [],
   "source": [
    "learn.fit_one_cycle(2)"
   ]
  },
  {
   "cell_type": "code",
   "execution_count": null,
   "metadata": {
    "id": "v5-iNQ0Mjr24"
   },
   "outputs": [],
   "source": [
    "learn.fit_one_cycle(2)"
   ]
  },
  {
   "cell_type": "markdown",
   "metadata": {
    "id": "6OrymETJj0WP"
   },
   "source": [
    "### Model weights"
   ]
  },
  {
   "cell_type": "markdown",
   "metadata": {
    "id": "823ZK7B9ky3y"
   },
   "source": [
    "1. By default NeptuneCallback() saves and logs the best model for you automatically. \n",
    "You can disable it by setting `save_best_model` arg to False."
   ]
  },
  {
   "cell_type": "markdown",
   "metadata": {
    "id": "9t0Gyrtnj34B"
   },
   "source": [
    "2. Log Every N epochs"
   ]
  },
  {
   "cell_type": "code",
   "execution_count": null,
   "metadata": {
    "id": "mCqMRybFkDR-"
   },
   "outputs": [],
   "source": [
    "n = 4\n",
    "learn = cnn_learner(\n",
    "    dls, resnet18, cbs=[NeptuneCallback(run, \"experiment\", save_model_freq=n)]\n",
    ")"
   ]
  },
  {
   "cell_type": "code",
   "execution_count": null,
   "metadata": {
    "id": "4vrqLIdDkcTl"
   },
   "outputs": [],
   "source": [
    "learn.fit_one_cycle(8)"
   ]
  },
  {
   "cell_type": "markdown",
   "metadata": {
    "id": "Cr7Ng6v_khQz"
   },
   "source": [
    " 3. Add SaveModelCallback \n",
    "\n",
    "  If you want to log your model weight files during single training phase then add  SavemodelCallback()."
   ]
  },
  {
   "cell_type": "code",
   "execution_count": null,
   "metadata": {
    "id": "HmGm3ACrkqx0"
   },
   "outputs": [],
   "source": [
    "learn.fit_one_cycle(1, cbs=[SaveModelCallback(), NeptuneCallback(run, \"experiment\")])"
   ]
  },
  {
   "cell_type": "markdown",
   "metadata": {
    "id": "hByiet7ZaC-h"
   },
   "source": [
    "### Log images"
   ]
  },
  {
   "cell_type": "code",
   "execution_count": null,
   "metadata": {
    "id": "aCAZgIr-Z7ne"
   },
   "outputs": [],
   "source": [
    "batch = dls.one_batch()\n",
    "for i, (x, y) in enumerate(dls.decode_batch(batch)):\n",
    "    run[\"images/one_batch\"].log(File.as_image(x), name=f\"{y}\")"
   ]
  },
  {
   "cell_type": "markdown",
   "metadata": {
    "id": "94Q_KFXHoeZ0"
   },
   "source": [
    "## Stop logging\n",
    "\n",
    "<font color=red>**Warning:**</font><br>\n",
    "Once you are done logging, you should stop tracking the run using the `stop()` method.\n",
    "This is needed only while logging from a notebook environment. While logging through a script, Neptune automatically stops tracking once the script has completed execution."
   ]
  },
  {
   "cell_type": "code",
   "execution_count": null,
   "metadata": {
    "id": "gJC4Q0SEXQn1"
   },
   "outputs": [],
   "source": [
    "run.stop()"
   ]
  }
 ],
 "metadata": {
  "colab": {
   "collapsed_sections": [],
   "name": "Neptune_fastai.ipynb",
   "provenance": [],
   "toc_visible": true
  },
  "kernelspec": {
   "display_name": "Python 3",
   "language": "python",
   "name": "python3"
  },
  "language_info": {
   "codemirror_mode": {
    "name": "ipython",
    "version": 3
   },
   "file_extension": ".py",
   "mimetype": "text/x-python",
   "name": "python",
   "nbconvert_exporter": "python",
   "pygments_lexer": "ipython3",
   "version": "3.8.5"
  }
 },
 "nbformat": 4,
 "nbformat_minor": 4
}
