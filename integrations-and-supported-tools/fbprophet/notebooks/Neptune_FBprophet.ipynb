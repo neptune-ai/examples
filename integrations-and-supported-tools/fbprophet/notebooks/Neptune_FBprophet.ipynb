{
 "cells": [
  {
   "cell_type": "markdown",
   "id": "0a1db14f",
   "metadata": {},
   "source": [
    "# Neptune + Prophet"
   ]
  },
  {
   "cell_type": "markdown",
   "id": "e37c2302",
   "metadata": {},
   "source": [
    "## Introduction\n",
    "\n",
    "This quickstart will show you how to (using just single function) log FBprophet:\n",
    "\n",
    "* Regression summary metadata,\n",
    "* Input and forecast Dataframes,\n",
    "* Forecast, components and residual diagnostics plots,\n",
    "* Model configuration,\n",
    "* Serialized model"
   ]
  },
  {
   "cell_type": "markdown",
   "id": "f0ecdb17",
   "metadata": {},
   "source": [
    "## Before you start\n",
    "\n",
    "This notebook example lets you try out Neptune as an anonymous user, with zero setup.\n",
    "\n",
    "* If you are running the notebook on your local machine, you need to have [Python](https://www.python.org/downloads/) and [pip](https://pypi.org/project/pip/) installed.\n",
    "* If you want to see the example recorded to your own workspace instead:\n",
    "    * Create a Neptune account → [Take me to registration](https://neptune.ai/register)\n",
    "    * Create a Neptune project that you will use for tracking metadata → [Tell me more about projects](https://docs.neptune.ai/administration/projects)"
   ]
  },
  {
   "cell_type": "markdown",
   "id": "557bc3b5",
   "metadata": {},
   "source": [
    "## Install Neptune and dependencies"
   ]
  },
  {
   "cell_type": "code",
   "execution_count": null,
   "id": "f1e24601",
   "metadata": {},
   "outputs": [],
   "source": [
    "! pip install neptune-client neptune-prophet==1.0.0"
   ]
  },
  {
   "cell_type": "code",
   "execution_count": 9,
   "id": "7f776cad",
   "metadata": {},
   "outputs": [],
   "source": [
    "import neptune.new as neptune"
   ]
  },
  {
   "cell_type": "markdown",
   "id": "813878e1",
   "metadata": {},
   "source": [
    "## Initialize Neptune and create new run\n",
    "Connect your script to Neptune application and create new run.\n"
   ]
  },
  {
   "cell_type": "code",
   "execution_count": 3,
   "id": "8f521acb",
   "metadata": {},
   "outputs": [
    {
     "name": "stderr",
     "output_type": "stream",
     "text": [
      "Info (NVML): NVML Shared Library Not Found. GPU usage metrics may not be reported. For more information, see https://docs-legacy.neptune.ai/logging-and-managing-experiment-results/logging-experiment-data.html#hardware-consumption \n"
     ]
    },
    {
     "name": "stdout",
     "output_type": "stream",
     "text": [
      "https://app.neptune.ai/common/fbprophet-integration/e/FBPROP-19\n",
      "Remember to stop your run once you’ve finished logging your metadata (https://docs.neptune.ai/api-reference/run#stop). It will be stopped automatically only when the notebook kernel/interactive console is terminated.\n"
     ]
    }
   ],
   "source": [
    "run = neptune.init(\n",
    "    project='common/fbprophet-integration', \n",
    "    api_token=\"ANONYMOUS\",\n",
    "    tags=[\"fbprophet\", \"artifacts\", \"notebook\"]    \n",
    ")"
   ]
  },
  {
   "cell_type": "markdown",
   "id": "9cf32479",
   "metadata": {},
   "source": [
    "Click on the link above to open this run in Neptune. For now it is empty but keep the tab with run open to see what happens next."
   ]
  },
  {
   "cell_type": "markdown",
   "id": "f005089d",
   "metadata": {},
   "source": [
    "You tell Neptune: \n",
    "\n",
    "* **who you are**: your Neptune API token `api_token` \n",
    "* **where you want to send your data**: your Neptune `project`.\n",
    "\n",
    "At this point you have new run in Neptune. For now on you will use `run` to log metadata to it.\n",
    "\n",
    "---\n",
    "\n",
    "**Note**\n",
    "\n",
    "\n",
    "Instead of logging data to the public project `'common/sklearn-integration'` as an anonymous user 'neptuner' you can log it to your own project.\n",
    "\n",
    "To do that:\n",
    "\n",
    "1. Get your [Neptune API token](https://docs.neptune.ai/getting-started/installation#get-api-token)\n",
    "2. Pass the token to ``api_token`` argument of ``neptune.init()`` method: ``api_token=YOUR_API_TOKEN``\n",
    "3. Pass your project to the ``project`` argument of ``neptune.init()``.\n",
    "\n",
    "For example:\n",
    "\n",
    "```python\n",
    "neptune.init(project=\"YOUR_WORKSPACE/YOUR_PROJECT\",\n",
    "             api_token=\"YOUR_API_TOKEN\")\n",
    "```"
   ]
  },
  {
   "cell_type": "code",
   "execution_count": null,
   "id": "702d8c5b",
   "metadata": {},
   "outputs": [],
   "source": [
    "\n",
    "import pandas as pd"
   ]
  },
  {
   "cell_type": "code",
   "execution_count": 11,
   "id": "21659dce",
   "metadata": {},
   "outputs": [],
   "source": [
    "df = pd.read_csv(\"https://raw.githubusercontent.com/facebook/prophet/master/examples/example_wp_log_R.csv\")\n",
    "df[\"cap\"] = 8.5"
   ]
  },
  {
   "cell_type": "code",
   "execution_count": null,
   "id": "8180d30a",
   "metadata": {},
   "outputs": [],
   "source": [
    "from prophet import Prophet"
   ]
  },
  {
   "cell_type": "code",
   "execution_count": 23,
   "id": "dd382b5f",
   "metadata": {},
   "outputs": [
    {
     "name": "stderr",
     "output_type": "stream",
     "text": [
      "INFO:fbprophet:Disabling daily seasonality. Run prophet with daily_seasonality=True to override this.\n"
     ]
    },
    {
     "name": "stdout",
     "output_type": "stream",
     "text": [
      "Initial log joint probability = -19.9808\n"
     ]
    },
    {
     "data": {
      "text/plain": [
       "<fbprophet.forecaster.Prophet at 0x7f8c58834940>"
      ]
     },
     "execution_count": 23,
     "metadata": {},
     "output_type": "execute_result"
    },
    {
     "name": "stdout",
     "output_type": "stream",
     "text": [
      "    Iter      log prob        ||dx||      ||grad||       alpha      alpha0  # evals  Notes \n",
      "      99       9006.46      0.012704       469.696           1           1      113   \n",
      "    Iter      log prob        ||dx||      ||grad||       alpha      alpha0  # evals  Notes \n",
      "     199       9014.75     0.0122174       453.437       2.277      0.2277      232   \n",
      "    Iter      log prob        ||dx||      ||grad||       alpha      alpha0  # evals  Notes \n",
      "     299       9018.94   0.000458159       104.683      0.6529      0.6529      362   \n",
      "    Iter      log prob        ||dx||      ||grad||       alpha      alpha0  # evals  Notes \n",
      "     399       9019.52   9.46772e-05       91.5897           1           1      498   \n",
      "    Iter      log prob        ||dx||      ||grad||       alpha      alpha0  # evals  Notes \n",
      "     421       9019.56   6.88623e-05        72.725   9.252e-07       0.001      569  LS failed, Hessian reset \n",
      "     444       9019.56   2.64826e-07       72.1751     0.03109      0.8902      602   \n",
      "Optimization terminated normally: \n",
      "  Convergence detected: relative gradient magnitude is below tolerance\n"
     ]
    }
   ],
   "source": [
    "\n",
    "model = Prophet(growth='logistic')\n",
    "model.fit(df)"
   ]
  },
  {
   "cell_type": "code",
   "execution_count": 35,
   "id": "9f8579f7",
   "metadata": {},
   "outputs": [],
   "source": [
    "future = model.make_future_dataframe(periods=365*5)\n",
    "future[\"cap\"] = 8.5\n",
    "\n",
    "forecast = model.predict(future)\n",
    "fig = model.plot(forecast)"
   ]
  },
  {
   "cell_type": "markdown",
   "id": "307f8733",
   "metadata": {},
   "source": [
    "### Log summary metadata"
   ]
  },
  {
   "cell_type": "code",
   "execution_count": null,
   "id": "98c5a2cb",
   "metadata": {},
   "outputs": [],
   "source": [
    "import neptune_prophet.impl as npt_utils\n",
    "\n",
    "run[\"prophet_summary\"] = npt_utils.create_summary(model=model, df=df, fcst=forecast)"
   ]
  },
  {
   "cell_type": "markdown",
   "id": "9c2ad825",
   "metadata": {},
   "source": [
    "You just learned how to log FBProphet regression summary to Neptune using single function.\n",
    "\n",
    "Click on the link that was outputted to the console or [go here](https://app.neptune.ai/o/common/org/fbprophet-integration/e/FBPROP-249/all?path=prophet_summary%2Fdiagnostics_charts%2F) to explore a run similar to yours. In particular check:\n",
    "\n",
    "* [logged dataframes](https://app.neptune.ai/o/common/org/fbprophet-integration/e/FBPROP-249/all?path=prophet_summary%2Fdataframes%2F)\n",
    "* [logged regressor visualizations](https://app.neptune.ai/o/common/org/fbprophet-integration/e/FBPROP-249/all?path=prophet_summary%2Fdiagnostics_charts%2F)\n",
    "* [logged model config](https://app.neptune.ai/o/common/org/fbprophet-integration/e/FBPROP-249/all?path=prophet_summary%2Fmodel%2Fmodel_config%2F),\n",
    "* [logged serialized model](https://app.neptune.ai/o/common/org/fbprophet-integration/e/FBPROP-249/all?path=prophet_summary%2Fmodel%2F&attribute=serialized_model),\n",
    "* [logged metadata](https://app.neptune.ai/o/common/org/fbprophet-integration/e/FBPROP-249/all?path=sys),\n",
    "* [logged code and git metadata](https://app.neptune.ai/o/common/org/fbprophet-integration/e/FBPROP-249/source-code?path=source_code&file=Neptune_prophet.py)."
   ]
  },
  {
   "cell_type": "markdown",
   "id": "fcb10252",
   "metadata": {},
   "source": [
    "## More Options"
   ]
  },
  {
   "cell_type": "markdown",
   "id": "a2717b06",
   "metadata": {},
   "source": [
    "### Log FBprophet plots"
   ]
  },
  {
   "cell_type": "code",
   "execution_count": null,
   "id": "5a19ca0f",
   "metadata": {},
   "outputs": [],
   "source": [
    "run[\"forecast_plots\"] = npt_utils.create_forecast_plots(model, forecast)"
   ]
  },
  {
   "cell_type": "code",
   "execution_count": null,
   "id": "a421c635",
   "metadata": {},
   "outputs": [],
   "source": [
    "run[\"forecast_components\"] = npt_utils.get_forecast_components(model, forecast)"
   ]
  },
  {
   "cell_type": "code",
   "execution_count": null,
   "id": "0f7a7c9f",
   "metadata": {},
   "outputs": [],
   "source": [
    "run[\"residual_diagnostics_plot\"] = npt_utils.create_residual_diagnostics_plots(forecast, df.y)"
   ]
  },
  {
   "cell_type": "markdown",
   "id": "d140c773",
   "metadata": {},
   "source": [
    "### Log FBprophet model configuration "
   ]
  },
  {
   "cell_type": "code",
   "execution_count": null,
   "id": "5e59c64f",
   "metadata": {},
   "outputs": [],
   "source": [
    "run[\"model_config\"] = npt_utils.get_model_config(model)"
   ]
  },
  {
   "cell_type": "markdown",
   "id": "9668fced",
   "metadata": {},
   "source": [
    "### Log FBprophet serialized model"
   ]
  },
  {
   "cell_type": "code",
   "execution_count": 1,
   "id": "a73802de",
   "metadata": {},
   "outputs": [
    {
     "ename": "Exception",
     "evalue": "File `'[model].py'` not found.",
     "output_type": "error",
     "traceback": [
      "\u001b[0;31m---------------------------------------------------------------------------\u001b[0m",
      "\u001b[0;31mOSError\u001b[0m                                   Traceback (most recent call last)",
      "File \u001b[0;32m~/opt/anaconda3/envs/neptune_test_env/lib/python3.8/site-packages/IPython/core/magics/execution.py:696\u001b[0m, in \u001b[0;36mExecutionMagics.run\u001b[0;34m(self, parameter_s, runner, file_finder)\u001b[0m\n\u001b[1;32m    695\u001b[0m     fpath \u001b[39m=\u001b[39m arg_lst[\u001b[39m0\u001b[39m]\n\u001b[0;32m--> 696\u001b[0m     filename \u001b[39m=\u001b[39m file_finder(fpath)\n\u001b[1;32m    697\u001b[0m \u001b[39mexcept\u001b[39;00m \u001b[39mIndexError\u001b[39;00m \u001b[39mas\u001b[39;00m e:\n",
      "File \u001b[0;32m~/opt/anaconda3/envs/neptune_test_env/lib/python3.8/site-packages/IPython/utils/path.py:91\u001b[0m, in \u001b[0;36mget_py_filename\u001b[0;34m(name)\u001b[0m\n\u001b[1;32m     90\u001b[0m \u001b[39melse\u001b[39;00m:\n\u001b[0;32m---> 91\u001b[0m     \u001b[39mraise\u001b[39;00m \u001b[39mIOError\u001b[39;00m(\u001b[39m'\u001b[39m\u001b[39mFile `\u001b[39m\u001b[39m%r\u001b[39;00m\u001b[39m` not found.\u001b[39m\u001b[39m'\u001b[39m \u001b[39m%\u001b[39m name)\n",
      "\u001b[0;31mOSError\u001b[0m: File `'[model].py'` not found.",
      "\nThe above exception was the direct cause of the following exception:\n",
      "\u001b[0;31mException\u001b[0m                                 Traceback (most recent call last)",
      "\u001b[1;32m/Users/prince_canuma/Documents/Neptune/Integrations/code examples/examples/integrations-and-supported-tools/fbprophet/notebooks/Neptune_FBprophet.ipynb Cell 26\u001b[0m in \u001b[0;36m<cell line: 1>\u001b[0;34m()\u001b[0m\n\u001b[0;32m----> <a href='vscode-notebook-cell:/Users/prince_canuma/Documents/Neptune/Integrations/code%20examples/examples/integrations-and-supported-tools/fbprophet/notebooks/Neptune_FBprophet.ipynb#Y110sZmlsZQ%3D%3D?line=0'>1</a>\u001b[0m get_ipython()\u001b[39m.\u001b[39;49mrun_line_magic(\u001b[39m'\u001b[39;49m\u001b[39mrun\u001b[39;49m\u001b[39m'\u001b[39;49m, \u001b[39m'\u001b[39;49m\u001b[39m[\u001b[39;49m\u001b[39m\"\u001b[39;49m\u001b[39mmodel\u001b[39;49m\u001b[39m\"\u001b[39;49m\u001b[39m] = npt_utils.get_serialized_model(model)\u001b[39;49m\u001b[39m'\u001b[39;49m)\n",
      "File \u001b[0;32m~/opt/anaconda3/envs/neptune_test_env/lib/python3.8/site-packages/IPython/core/interactiveshell.py:2304\u001b[0m, in \u001b[0;36mInteractiveShell.run_line_magic\u001b[0;34m(self, magic_name, line, _stack_depth)\u001b[0m\n\u001b[1;32m   2302\u001b[0m     kwargs[\u001b[39m'\u001b[39m\u001b[39mlocal_ns\u001b[39m\u001b[39m'\u001b[39m] \u001b[39m=\u001b[39m \u001b[39mself\u001b[39m\u001b[39m.\u001b[39mget_local_scope(stack_depth)\n\u001b[1;32m   2303\u001b[0m \u001b[39mwith\u001b[39;00m \u001b[39mself\u001b[39m\u001b[39m.\u001b[39mbuiltin_trap:\n\u001b[0;32m-> 2304\u001b[0m     result \u001b[39m=\u001b[39m fn(\u001b[39m*\u001b[39;49margs, \u001b[39m*\u001b[39;49m\u001b[39m*\u001b[39;49mkwargs)\n\u001b[1;32m   2305\u001b[0m \u001b[39mreturn\u001b[39;00m result\n",
      "File \u001b[0;32m~/opt/anaconda3/envs/neptune_test_env/lib/python3.8/site-packages/IPython/core/magics/execution.py:707\u001b[0m, in \u001b[0;36mExecutionMagics.run\u001b[0;34m(self, parameter_s, runner, file_finder)\u001b[0m\n\u001b[1;32m    705\u001b[0m     \u001b[39mif\u001b[39;00m os\u001b[39m.\u001b[39mname \u001b[39m==\u001b[39m \u001b[39m'\u001b[39m\u001b[39mnt\u001b[39m\u001b[39m'\u001b[39m \u001b[39mand\u001b[39;00m re\u001b[39m.\u001b[39mmatch(\u001b[39mr\u001b[39m\u001b[39m\"\u001b[39m\u001b[39m^\u001b[39m\u001b[39m'\u001b[39m\u001b[39m.*\u001b[39m\u001b[39m'\u001b[39m\u001b[39m$\u001b[39m\u001b[39m\"\u001b[39m,fpath):\n\u001b[1;32m    706\u001b[0m         warn(\u001b[39m'\u001b[39m\u001b[39mFor Windows, use double quotes to wrap a filename: \u001b[39m\u001b[39m%r\u001b[39;00m\u001b[39mun \u001b[39m\u001b[39m\"\u001b[39m\u001b[39mmypath\u001b[39m\u001b[39m\\\\\u001b[39;00m\u001b[39mmyfile.py\u001b[39m\u001b[39m\"\u001b[39m\u001b[39m'\u001b[39m)\n\u001b[0;32m--> 707\u001b[0m     \u001b[39mraise\u001b[39;00m \u001b[39mException\u001b[39;00m(msg) \u001b[39mfrom\u001b[39;00m \u001b[39me\u001b[39;00m\n\u001b[1;32m    708\u001b[0m \u001b[39mexcept\u001b[39;00m \u001b[39mTypeError\u001b[39;00m:\n\u001b[1;32m    709\u001b[0m     \u001b[39mif\u001b[39;00m fpath \u001b[39min\u001b[39;00m sys\u001b[39m.\u001b[39mmeta_path:\n",
      "\u001b[0;31mException\u001b[0m: File `'[model].py'` not found."
     ]
    }
   ],
   "source": [
    "run[\"model\"] = npt_utils.get_serialized_model(model)"
   ]
  },
  {
   "cell_type": "markdown",
   "id": "77b13baa",
   "metadata": {},
   "source": [
    "## Stop run\n",
    "\n",
    "<font color=red>**Warning:**</font><br>\n",
    "Once you are done logging, you should stop tracking the run using the `stop()` method.\n",
    "This is needed only while logging from a notebook environment. While logging through a script, Neptune automatically stops tracking once the script has completed execution."
   ]
  },
  {
   "cell_type": "code",
   "execution_count": 20,
   "id": "21390637",
   "metadata": {},
   "outputs": [
    {
     "name": "stdout",
     "output_type": "stream",
     "text": [
      "Shutting down background jobs, please wait a moment...\n",
      "Done!\n"
     ]
    },
    {
     "name": "stderr",
     "output_type": "stream",
     "text": [
      "Waiting for the remaining 11 operations to synchronize with Neptune. Do not kill this process.\n"
     ]
    },
    {
     "name": "stdout",
     "output_type": "stream",
     "text": [
      "All 11 operations synced, thanks for waiting!\n"
     ]
    }
   ],
   "source": [
    "run.stop()"
   ]
  }
 ],
 "metadata": {
  "kernelspec": {
   "display_name": "Python 3.8.13 ('neptune_test_env')",
   "language": "python",
   "name": "python3"
  },
  "language_info": {
   "codemirror_mode": {
    "name": "ipython",
    "version": 3
   },
   "file_extension": ".py",
   "mimetype": "text/x-python",
   "name": "python",
   "nbconvert_exporter": "python",
   "pygments_lexer": "ipython3",
   "version": "3.8.13"
  },
  "vscode": {
   "interpreter": {
    "hash": "9918a49f0ff3a4018a272fb676756b6b7681877efd7b7e72359fb8b30d06330a"
   }
  }
 },
 "nbformat": 4,
 "nbformat_minor": 5
}
