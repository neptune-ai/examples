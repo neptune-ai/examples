{
 "cells": [
  {
   "cell_type": "markdown",
   "id": "0a1db14f",
   "metadata": {},
   "source": [
    "# Neptune + Prophet"
   ]
  },
  {
   "cell_type": "markdown",
   "id": "e37c2302",
   "metadata": {},
   "source": [
    "## Introduction\n",
    "\n",
    "This quickstart will show you how to (using just single function) log FBprophet:\n",
    "\n",
    "* Regression summary metadata,\n",
    "* Input and forecast Dataframes,\n",
    "* Forecast, components and residual diagnostics plots,\n",
    "* Model configuration,\n",
    "* Serialized model"
   ]
  },
  {
   "cell_type": "markdown",
   "id": "f0ecdb17",
   "metadata": {},
   "source": [
    "## Before you start\n",
    "\n",
    "This notebook example lets you try out Neptune as an anonymous user, with zero setup.\n",
    "\n",
    "* If you are running the notebook on your local machine, you need to have [Python](https://www.python.org/downloads/) and [pip](https://pypi.org/project/pip/) installed.\n",
    "* If you want to see the example recorded to your own workspace instead:\n",
    "    * Create a Neptune account → [Take me to registration](https://neptune.ai/register)\n",
    "    * Create a Neptune project that you will use for tracking metadata → [Tell me more about projects](https://docs.neptune.ai/administration/projects)"
   ]
  },
  {
   "cell_type": "markdown",
   "id": "557bc3b5",
   "metadata": {},
   "source": [
    "## Install Neptune and dependencies"
   ]
  },
  {
   "cell_type": "code",
   "execution_count": null,
   "id": "f1e24601",
   "metadata": {},
   "outputs": [],
   "source": [
    "! pip install neptune-client neptune-prophet==1.0.0"
   ]
  },
  {
   "cell_type": "code",
   "execution_count": null,
   "id": "7f776cad",
   "metadata": {},
   "outputs": [],
   "source": [
    "import neptune.new as neptune"
   ]
  },
  {
   "cell_type": "markdown",
   "id": "813878e1",
   "metadata": {},
   "source": [
    "## Initialize Neptune and create new run\n",
    "Connect your script to Neptune application and create new run.\n"
   ]
  },
  {
   "cell_type": "code",
   "execution_count": null,
   "id": "8f521acb",
   "metadata": {},
   "outputs": [],
   "source": [
    "run = neptune.init(\n",
    "    project='common/fbprophet-integration', \n",
    "    api_token=\"ANONYMOUS\",\n",
    "    tags=[\"fbprophet\", \"artifacts\", \"notebook\"]    \n",
    ")"
   ]
  },
  {
   "cell_type": "markdown",
   "id": "9cf32479",
   "metadata": {},
   "source": [
    "Click on the link above to open this run in Neptune. For now it is empty but keep the tab with run open to see what happens next."
   ]
  },
  {
   "cell_type": "markdown",
   "id": "f005089d",
   "metadata": {},
   "source": [
    "You tell Neptune: \n",
    "\n",
    "* **who you are**: your Neptune API token `api_token` \n",
    "* **where you want to send your data**: your Neptune `project`.\n",
    "\n",
    "At this point you have new run in Neptune. For now on you will use `run` to log metadata to it.\n",
    "\n",
    "---\n",
    "\n",
    "**Note**\n",
    "\n",
    "\n",
    "Instead of logging data to the public project `'common/sklearn-integration'` as an anonymous user 'neptuner' you can log it to your own project.\n",
    "\n",
    "To do that:\n",
    "\n",
    "1. Get your [Neptune API token](https://docs.neptune.ai/getting-started/installation#get-api-token)\n",
    "2. Pass the token to ``api_token`` argument of ``neptune.init()`` method: ``api_token=YOUR_API_TOKEN``\n",
    "3. Pass your project to the ``project`` argument of ``neptune.init()``.\n",
    "\n",
    "For example:\n",
    "\n",
    "```python\n",
    "neptune.init(project=\"YOUR_WORKSPACE/YOUR_PROJECT\",\n",
    "             api_token=\"YOUR_API_TOKEN\")\n",
    "```"
   ]
  },
  {
   "cell_type": "code",
   "execution_count": null,
   "id": "702d8c5b",
   "metadata": {},
   "outputs": [],
   "source": [
    "\n",
    "import pandas as pd"
   ]
  },
  {
   "cell_type": "code",
   "execution_count": null,
   "id": "21659dce",
   "metadata": {},
   "outputs": [],
   "source": [
    "df = pd.read_csv(\"https://raw.githubusercontent.com/facebook/prophet/master/examples/example_wp_log_R.csv\")\n",
    "df[\"cap\"] = 8.5"
   ]
  },
  {
   "cell_type": "code",
   "execution_count": null,
   "id": "8180d30a",
   "metadata": {},
   "outputs": [],
   "source": [
    "from prophet import Prophet"
   ]
  },
  {
   "cell_type": "code",
   "execution_count": null,
   "id": "dd382b5f",
   "metadata": {},
   "outputs": [],
   "source": [
    "\n",
    "model = Prophet(growth='logistic')\n",
    "model.fit(df)"
   ]
  },
  {
   "cell_type": "code",
   "execution_count": null,
   "id": "9f8579f7",
   "metadata": {},
   "outputs": [],
   "source": [
    "future = model.make_future_dataframe(periods=365*5)\n",
    "future[\"cap\"] = 8.5\n",
    "\n",
    "forecast = model.predict(future)\n",
    "fig = model.plot(forecast)"
   ]
  },
  {
   "cell_type": "markdown",
   "id": "307f8733",
   "metadata": {},
   "source": [
    "### Log summary metadata"
   ]
  },
  {
   "cell_type": "code",
   "execution_count": null,
   "id": "98c5a2cb",
   "metadata": {},
   "outputs": [],
   "source": [
    "import neptune_prophet.impl as npt_utils\n",
    "\n",
    "run[\"prophet_summary\"] = npt_utils.create_summary(model=model, df=df, fcst=forecast)"
   ]
  },
  {
   "cell_type": "markdown",
   "id": "9c2ad825",
   "metadata": {},
   "source": [
    "You just learned how to log FBProphet regression summary to Neptune using single function.\n",
    "\n",
    "Click on the link that was outputted to the console or [go here](https://app.neptune.ai/o/common/org/fbprophet-integration/e/FBPROP-249/all?path=prophet_summary%2Fdiagnostics_charts%2F) to explore a run similar to yours. In particular check:\n",
    "\n",
    "* [logged dataframes](https://app.neptune.ai/o/common/org/fbprophet-integration/e/FBPROP-249/all?path=prophet_summary%2Fdataframes%2F)\n",
    "* [logged regressor visualizations](https://app.neptune.ai/o/common/org/fbprophet-integration/e/FBPROP-249/all?path=prophet_summary%2Fdiagnostics_charts%2F)\n",
    "* [logged model config](https://app.neptune.ai/o/common/org/fbprophet-integration/e/FBPROP-249/all?path=prophet_summary%2Fmodel%2Fmodel_config%2F),\n",
    "* [logged serialized model](https://app.neptune.ai/o/common/org/fbprophet-integration/e/FBPROP-249/all?path=prophet_summary%2Fmodel%2F&attribute=serialized_model),\n",
    "* [logged metadata](https://app.neptune.ai/o/common/org/fbprophet-integration/e/FBPROP-249/all?path=sys),\n",
    "* [logged code and git metadata](https://app.neptune.ai/o/common/org/fbprophet-integration/e/FBPROP-249/source-code?path=source_code&file=Neptune_prophet.py)."
   ]
  },
  {
   "cell_type": "markdown",
   "id": "fcb10252",
   "metadata": {},
   "source": [
    "## More Options"
   ]
  },
  {
   "cell_type": "markdown",
   "id": "a2717b06",
   "metadata": {},
   "source": [
    "### Log FBprophet plots"
   ]
  },
  {
   "cell_type": "code",
   "execution_count": null,
   "id": "5a19ca0f",
   "metadata": {},
   "outputs": [],
   "source": [
    "run[\"forecast_plots\"] = npt_utils.create_forecast_plots(model, forecast)"
   ]
  },
  {
   "cell_type": "code",
   "execution_count": null,
   "id": "a421c635",
   "metadata": {},
   "outputs": [],
   "source": [
    "run[\"forecast_components\"] = npt_utils.get_forecast_components(model, forecast)"
   ]
  },
  {
   "cell_type": "code",
   "execution_count": null,
   "id": "0f7a7c9f",
   "metadata": {},
   "outputs": [],
   "source": [
    "run[\"residual_diagnostics_plot\"] = npt_utils.create_residual_diagnostics_plots(forecast, df.y)"
   ]
  },
  {
   "cell_type": "markdown",
   "id": "d140c773",
   "metadata": {},
   "source": [
    "### Log FBprophet model configuration "
   ]
  },
  {
   "cell_type": "code",
   "execution_count": null,
   "id": "5e59c64f",
   "metadata": {},
   "outputs": [],
   "source": [
    "run[\"model_config\"] = npt_utils.get_model_config(model)"
   ]
  },
  {
   "cell_type": "markdown",
   "id": "9668fced",
   "metadata": {},
   "source": [
    "### Log FBprophet serialized model"
   ]
  },
  {
   "cell_type": "code",
   "execution_count": null,
   "id": "a73802de",
   "metadata": {},
   "outputs": [],
   "source": [
    "run[\"model\"] = npt_utils.get_serialized_model(model)"
   ]
  },
  {
   "cell_type": "markdown",
   "id": "77b13baa",
   "metadata": {},
   "source": [
    "## Stop run\n",
    "\n",
    "<font color=red>**Warning:**</font><br>\n",
    "Once you are done logging, you should stop tracking the run using the `stop()` method.\n",
    "This is needed only while logging from a notebook environment. While logging through a script, Neptune automatically stops tracking once the script has completed execution."
   ]
  },
  {
   "cell_type": "code",
   "execution_count": null,
   "id": "21390637",
   "metadata": {},
   "outputs": [],
   "source": [
    "run.stop()"
   ]
  }
 ],
 "metadata": {
  "kernelspec": {
   "display_name": "Python 3.8.13 ('neptune_test_env')",
   "language": "python",
   "name": "python3"
  },
  "language_info": {
   "codemirror_mode": {
    "name": "ipython",
    "version": 3
   },
   "file_extension": ".py",
   "mimetype": "text/x-python",
   "name": "python",
   "nbconvert_exporter": "python",
   "pygments_lexer": "ipython3",
   "version": "3.8.13"
  },
  "vscode": {
   "interpreter": {
    "hash": "9918a49f0ff3a4018a272fb676756b6b7681877efd7b7e72359fb8b30d06330a"
   }
  }
 },
 "nbformat": 4,
 "nbformat_minor": 5
}
