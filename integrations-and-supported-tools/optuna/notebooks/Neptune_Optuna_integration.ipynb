{
 "cells": [
  {
   "cell_type": "markdown",
   "metadata": {
    "pycharm": {
     "name": "#%% md\n"
    }
   },
   "source": [
    "# Neptune + Optuna"
   ]
  },
  {
   "cell_type": "markdown",
   "metadata": {
    "id": "GG3_2HyRVY4Y",
    "pycharm": {
     "name": "#%% md\n"
    },
    "tags": [
     "header",
     "comment"
    ]
   },
   "source": [
    "## Introduction\n",
    "\n",
    "This guide will show you how to:\n",
    "\n",
    "* Create a Neptune `run`,\n",
    "* Create a `NeptuneCallback()`,\n",
    "* Log Optuna study using `NeptuneCallback()`,\n",
    "* Load an Optuna study from an existing Neptune `run`,\n",
    "* Log bpth study and trial-level Optuna runs to Neptune."
   ]
  },
  {
   "cell_type": "markdown",
   "metadata": {
    "id": "1tBfsYCm05rl",
    "pycharm": {
     "name": "#%% md\n"
    }
   },
   "source": [
    "## Before you start\n",
    "\n",
    "This notebook example lets you try out Neptune as an anonymous user, with zero setup.\n",
    "\n",
    "* If you are running the notebook on your local machine, you need to have [Python](https://www.python.org/downloads/) and [pip](https://pypi.org/project/pip/) installed.\n",
    "* If you want to see the example recorded to your own workspace instead:\n",
    "    * Create a Neptune account → [Take me to registration](https://neptune.ai/register)\n",
    "    * Create a Neptune project that you will use for tracking metadata → [Tell me more about projects](https://docs.neptune.ai/administration/projects)"
   ]
  },
  {
   "cell_type": "markdown",
   "metadata": {
    "pycharm": {
     "name": "#%% md\n"
    }
   },
   "source": [
    "## Install Neptune and dependencies"
   ]
  },
  {
   "cell_type": "code",
   "execution_count": null,
   "metadata": {
    "id": "jl90ahSMvhmV",
    "pycharm": {
     "name": "#%%\n"
    },
    "tags": [
     "installation"
    ]
   },
   "outputs": [],
   "source": [
    "! pip install lightgbm==2.2.3 neptune-client[optuna] optuna==2.8.0 plotly==4.4.1"
   ]
  },
  {
   "cell_type": "markdown",
   "metadata": {
    "id": "1As3OW3LGqKg",
    "pycharm": {
     "name": "#%% md\n"
    },
    "tags": [
     "header"
    ]
   },
   "source": [
    "## Import libraries"
   ]
  },
  {
   "cell_type": "code",
   "execution_count": null,
   "metadata": {
    "id": "FufE4GTzvRZG",
    "pycharm": {
     "name": "#%%\n"
    },
    "tags": [
     "code"
    ]
   },
   "outputs": [],
   "source": [
    "import lightgbm as lgb\n",
    "import optuna\n",
    "\n",
    "from sklearn.datasets import load_breast_cancer\n",
    "from sklearn.metrics import roc_auc_score\n",
    "from sklearn.model_selection import train_test_split"
   ]
  },
  {
   "cell_type": "markdown",
   "metadata": {
    "id": "K-FNh8EKV40p",
    "pycharm": {
     "name": "#%% md\n"
    },
    "tags": [
     "header"
    ]
   },
   "source": [
    "## Create a sample `objective` function for Optuna"
   ]
  },
  {
   "cell_type": "code",
   "execution_count": null,
   "metadata": {
    "id": "RHuuJb5VV94w",
    "pycharm": {
     "name": "#%%\n"
    },
    "tags": [
     "code"
    ]
   },
   "outputs": [],
   "source": [
    "def objective(trial):\n",
    "    data, target = load_breast_cancer(return_X_y=True)\n",
    "    train_x, test_x, train_y, test_y = train_test_split(data, target, test_size=0.25)\n",
    "    dtrain = lgb.Dataset(train_x, label=train_y)\n",
    "\n",
    "    param = {\n",
    "        \"verbose\": -1,\n",
    "        \"objective\": \"binary\",\n",
    "        \"metric\": \"binary_logloss\",\n",
    "        \"num_leaves\": trial.suggest_int(\"num_leaves\", 2, 256),\n",
    "        \"feature_fraction\": trial.suggest_uniform(\"feature_fraction\", 0.2, 1.0),\n",
    "        \"bagging_fraction\": trial.suggest_uniform(\"bagging_fraction\", 0.2, 1.0),\n",
    "        \"min_child_samples\": trial.suggest_int(\"min_child_samples\", 3, 100),\n",
    "    }\n",
    "\n",
    "    gbm = lgb.train(param, dtrain)\n",
    "    preds = gbm.predict(test_x)\n",
    "    accuracy = roc_auc_score(test_y, preds)\n",
    "\n",
    "    return accuracy"
   ]
  },
  {
   "cell_type": "markdown",
   "metadata": {
    "id": "CHp9zfqBToiX",
    "pycharm": {
     "name": "#%% md\n"
    },
    "tags": [
     "header"
    ]
   },
   "source": [
    "## Quickstart"
   ]
  },
  {
   "cell_type": "markdown",
   "metadata": {
    "id": "zRhtLjSQMrIa",
    "pycharm": {
     "name": "#%% md\n"
    }
   },
   "source": [
    "### Create a Neptune run\n",
    "\n",
    "To log metadata to the Neptune project, you need the `project` name and the `api_token`.\n",
    "\n",
    "To make this example easy to follow, we have created a public project 'common/optuna-integration' and a shared user 'neptuner' with the API token 'ANONYMOUS'.\n",
    "\n",
    "```python\n",
    "run = neptune.init(api_token=\"ANONYMOUS\", project=\"common/optuna-integration\")\n",
    "```\n",
    "\n",
    "**Create your own Neptune project and get your API token (optional)**\n",
    "\n",
    "To log to your own Neptune project:\n",
    "* [Create a Neptune account](https://neptune.ai/register)\n",
    "* [Find your API token](https://docs.neptune.ai/getting-started/installation#authentication-neptune-api-token)\n",
    "* [Find your project name](https://docs.neptune.ai/getting-started/installation#setting-the-project-name)\n",
    "* Pass your credentials to the `project` and `api_token` arguments of the `init()` method:\n",
    "\n",
    "\n",
    "```python\n",
    "run = neptune.init(api_token=\"YOUR_API_TOKEN\", project=\"YOUR_WORKSPACE/YOUR_PROJECT\") # pass your credentials\n",
    "```\n",
    "\n",
    "Add a snippet at the top of your script:"
   ]
  },
  {
   "cell_type": "code",
   "execution_count": null,
   "metadata": {
    "id": "t5VBefIDwBjR",
    "pycharm": {
     "name": "#%%\n"
    },
    "tags": [
     "code"
    ]
   },
   "outputs": [],
   "source": [
    "import neptune.new as neptune\n",
    "\n",
    "run = neptune.init(\n",
    "    api_token=\"ANONYMOUS\", project=\"common/optuna-integration\"\n",
    ")  # you can pass your credentials here"
   ]
  },
  {
   "cell_type": "markdown",
   "metadata": {
    "id": "Be3xPNTHTsIz",
    "pycharm": {
     "name": "#%% md\n"
    },
    "tags": [
     "comment"
    ]
   },
   "source": [
    "Running this cell creates a run in Neptune, and you can log model building metadata to it.\n",
    "\n",
    "**Click on the link above to open the run in the Neptune app**. For now, it is empty, but you should keep the tab open to see what happens next."
   ]
  },
  {
   "cell_type": "markdown",
   "metadata": {
    "id": "XomuTzlsVILc",
    "pycharm": {
     "name": "#%% md\n"
    },
    "tags": [
     "header"
    ]
   },
   "source": [
    "### Initialize the NeptuneCallback"
   ]
  },
  {
   "cell_type": "code",
   "execution_count": null,
   "metadata": {
    "id": "82879lQuVfsJ",
    "pycharm": {
     "name": "#%%\n"
    },
    "tags": [
     "code"
    ]
   },
   "outputs": [],
   "source": [
    "import neptune.new.integrations.optuna as optuna_utils\n",
    "\n",
    "neptune_callback = optuna_utils.NeptuneCallback(run)"
   ]
  },
  {
   "cell_type": "markdown",
   "metadata": {
    "id": "xbkNjVVLVl8t",
    "pycharm": {
     "name": "#%% md\n"
    },
    "tags": [
     "header"
    ]
   },
   "source": [
    "### Pass the NeptuneCallback to Optuna Study `.optimize()` method"
   ]
  },
  {
   "cell_type": "code",
   "execution_count": null,
   "metadata": {
    "id": "40McUYc5wrva",
    "pycharm": {
     "name": "#%%\n"
    },
    "tags": [
     "code"
    ]
   },
   "outputs": [],
   "source": [
    "study = optuna.create_study(direction=\"maximize\")\n",
    "study.optimize(objective, n_trials=20, callbacks=[neptune_callback])"
   ]
  },
  {
   "cell_type": "markdown",
   "metadata": {
    "id": "cRIz17O9LMrJ",
    "pycharm": {
     "name": "#%% md\n"
    },
    "tags": [
     "comment"
    ]
   },
   "source": [
    "You can view the logging live in the Neptune tab once Optuna you run the below cell"
   ]
  },
  {
   "cell_type": "markdown",
   "metadata": {
    "id": "P04k_nFiXl63",
    "pycharm": {
     "name": "#%% md\n"
    },
    "tags": [
     "header"
    ]
   },
   "source": [
    "### Stop logging"
   ]
  },
  {
   "cell_type": "markdown",
   "metadata": {
    "id": "CB-fczL6LMrJ",
    "pycharm": {
     "name": "#%% md\n"
    },
    "tags": [
     "comment"
    ]
   },
   "source": [
    "When you track your ML runs with Neptune in Jupyter notebooks, you need to stop the run by `run.stop()` explicitly.\n",
    "\n",
    "If you are running Neptune in regular '.py' scripts, it will stop automatically when your code finishes."
   ]
  },
  {
   "cell_type": "code",
   "execution_count": null,
   "metadata": {
    "id": "T5teGbiLwuEi",
    "pycharm": {
     "name": "#%%\n"
    },
    "tags": [
     "code"
    ]
   },
   "outputs": [],
   "source": [
    "run.stop()"
   ]
  },
  {
   "cell_type": "markdown",
   "metadata": {
    "id": "Q9zxE-EzLAbe",
    "pycharm": {
     "name": "#%% md\n"
    },
    "tags": [
     "header"
    ]
   },
   "source": [
    "## More Options\n",
    "\n",
    "### Customize which plots you want to log and how often\n",
    "\n",
    "By default, `NeptuneCallback` creates and logs all of the plots from `optuna.visualizations`, but it adds overhead to your Optuna sweep.\n",
    "You can decide which plots to create and log and how often you want to do that with:\n",
    "* `plot_update_freq` argument: pass integer k to update plots every k trials or 'never' to not log any plots\n",
    "* `log_plot_contour`, `log_plot_slice`, and other `log_{OPTUNA_PLOT_FUNCTION}` arguments: pass 'False', and the plots will not be created or logged"
   ]
  },
  {
   "cell_type": "code",
   "execution_count": null,
   "metadata": {
    "id": "EcRlqlGNLQ-3",
    "pycharm": {
     "name": "#%%\n"
    },
    "tags": [
     "code"
    ]
   },
   "outputs": [],
   "source": [
    "# Create a Neptune run\n",
    "run = neptune.init(\n",
    "    api_token=\"ANONYMOUS\", project=\"common/optuna-integration\"\n",
    ")  # you can pass your credentials here\n",
    "\n",
    "# Create a NeptuneCallback for Optuna\n",
    "neptune_callback = optuna_utils.NeptuneCallback(\n",
    "    run,\n",
    "    plots_update_freq=10,  # create/log plots every 10 trials\n",
    "    log_plot_slice=False,  # do not create/log plot_slice\n",
    "    log_plot_contour=False,  # do not create/log plot_contour\n",
    ")\n",
    "\n",
    "# Pass NeptuneCallback to Optuna Study .optimize()\n",
    "study = optuna.create_study(direction=\"maximize\")\n",
    "study.optimize(objective, n_trials=50, callbacks=[neptune_callback])\n",
    "\n",
    "# Stop logging to a Neptune run\n",
    "run.stop()"
   ]
  },
  {
   "cell_type": "markdown",
   "metadata": {
    "id": "iAJZLVQKL8Dt",
    "pycharm": {
     "name": "#%% md\n"
    },
    "tags": [
     "header"
    ]
   },
   "source": [
    "### Log charts and study object after the sweep\n",
    "\n",
    "If you want to log study metadata after the Study was finished you can use the `.log_study_metadata()`.\n",
    "`.log_study_metadata()` function logs the same things that `NeptuneCallback` logs, and you can customize what is logged with similar flags."
   ]
  },
  {
   "cell_type": "code",
   "execution_count": null,
   "metadata": {
    "id": "Hw_lQq9AL5PR",
    "pycharm": {
     "name": "#%%\n"
    },
    "tags": [
     "code"
    ]
   },
   "outputs": [],
   "source": [
    "# Create a new Neptune run\n",
    "run = neptune.init(\n",
    "    api_token=\"ANONYMOUS\", project=\"common/optuna-integration\"\n",
    ")  # you can pass your credentials here\n",
    "\n",
    "# Run Optuna with Neptune Callback\n",
    "study = optuna.create_study(direction=\"maximize\")\n",
    "study.optimize(objective, n_trials=10)\n",
    "\n",
    "# Log Optuna charts and study object after the sweep is complete\n",
    "optuna_utils.log_study_metadata(study, run, log_plot_contour=False)\n",
    "\n",
    "# Stop logging\n",
    "run.stop()"
   ]
  },
  {
   "cell_type": "markdown",
   "metadata": {
    "id": "s3vuU8BaLMrM",
    "pycharm": {
     "name": "#%% md\n"
    }
   },
   "source": [
    "### Load the Optuna Study from an existing Neptune run\n",
    "\n",
    "If you logged the Optuna Study to Neptune, you can load the Study directly from the run with the `load_study_from_run()` function and continue working with it.\n",
    "\n",
    "It works both for Optuna `InMemoryStorage` and database storage."
   ]
  },
  {
   "cell_type": "code",
   "execution_count": null,
   "metadata": {
    "id": "-b1sQ5ALLMrN",
    "pycharm": {
     "name": "#%%\n"
    }
   },
   "outputs": [],
   "source": [
    "# Fetch an existing Neptune run\n",
    "run = neptune.init(\n",
    "    api_token=\"ANONYMOUS\",\n",
    "    project=\"common/optuna-integration\",  # you can pass your credentials here\n",
    "    run=\"NEP1-513\",\n",
    ")  # You can pass the run ID for some other run\n",
    "\n",
    "# Run Optuna with Neptune Callback\n",
    "study = optuna_utils.load_study_from_run(run)\n",
    "\n",
    "# Create callback to log advanced options during the sweep\n",
    "neptune_callback = optuna_utils.NeptuneCallback(run)\n",
    "\n",
    "# Continue logging to the same run\n",
    "study.optimize(objective, n_trials=10, callbacks=[neptune_callback])\n",
    "\n",
    "# Stop logging\n",
    "run.stop()"
   ]
  },
  {
   "cell_type": "markdown",
   "metadata": {
    "id": "z1MCU_EALMrN",
    "pycharm": {
     "name": "#%% md\n"
    }
   },
   "source": [
    "### Keep track of both study-level and trial-level Runs\n",
    "\n",
    "You can log trial-level information to separate Neptune Runs and have a main run for the study-level information.\n",
    "\n",
    "**Warning**\n",
    "The sweep will take longer as each trial-level run needs to synchronize with Neptune. "
   ]
  },
  {
   "cell_type": "markdown",
   "metadata": {
    "id": "z0Z3HgGKLMrN",
    "pycharm": {
     "name": "#%% md\n"
    }
   },
   "source": [
    "#### Create a unique sweep ID"
   ]
  },
  {
   "cell_type": "code",
   "execution_count": null,
   "metadata": {
    "id": "xVDqdff1LMrO",
    "pycharm": {
     "name": "#%%\n"
    }
   },
   "outputs": [],
   "source": [
    "import uuid\n",
    "\n",
    "sweep_id = uuid.uuid1()\n",
    "print(\"sweep-id: \", sweep_id)"
   ]
  },
  {
   "cell_type": "markdown",
   "metadata": {
    "id": "IXLCS2AtLMrO",
    "pycharm": {
     "name": "#%% md\n"
    }
   },
   "source": [
    "#### Create a study-level Neptune run"
   ]
  },
  {
   "cell_type": "code",
   "execution_count": null,
   "metadata": {
    "id": "m14BFfZyLMrO",
    "pycharm": {
     "name": "#%%\n"
    }
   },
   "outputs": [],
   "source": [
    "run_study_level = neptune.init(\n",
    "    api_token=\"ANONYMOUS\", project=\"common/optuna-integration\"\n",
    ")  # you can pass your credentials here"
   ]
  },
  {
   "cell_type": "markdown",
   "metadata": {
    "id": "rdMwaPEWLMrO",
    "pycharm": {
     "name": "#%% md\n"
    }
   },
   "source": [
    "#### Log the sweep ID to the study-level run \n",
    "\n",
    "You can also add a tag 'study-level' to distinguish between the study-level and trial-level runs for the sweap. "
   ]
  },
  {
   "cell_type": "code",
   "execution_count": null,
   "metadata": {
    "id": "bOanrinoLMrP",
    "pycharm": {
     "name": "#%%\n"
    }
   },
   "outputs": [],
   "source": [
    "run_study_level[\"sys/tags\"].add(\"study-level\")\n",
    "run_study_level[\"sweep-id\"] = sweep_id"
   ]
  },
  {
   "cell_type": "markdown",
   "metadata": {
    "id": "U0np_iAPLMrP",
    "pycharm": {
     "name": "#%% md\n"
    }
   },
   "source": [
    "#### Create an objective function that logs each trial to Neptune as a run\n",
    "\n",
    "Inside of the objective function, you need to:\n",
    "create a trial-level Neptune run\n",
    "* log the sweep ID and a tag 'trial-level' to distinguish between study-level and trial-level Runs\n",
    "* log parameters and scores to the trial-level run\n",
    "* stop the trial-level run"
   ]
  },
  {
   "cell_type": "code",
   "execution_count": null,
   "metadata": {
    "id": "kZCZueioLMrQ",
    "pycharm": {
     "name": "#%%\n"
    }
   },
   "outputs": [],
   "source": [
    "def objective_with_logging(trial):\n",
    "    data, target = load_breast_cancer(return_X_y=True)\n",
    "    train_x, test_x, train_y, test_y = train_test_split(data, target, test_size=0.25)\n",
    "    dtrain = lgb.Dataset(train_x, label=train_y)\n",
    "\n",
    "    param = {\n",
    "        \"verbose\": -1,\n",
    "        \"objective\": \"binary\",\n",
    "        \"metric\": \"binary_logloss\",\n",
    "        \"num_leaves\": trial.suggest_int(\"num_leaves\", 2, 256),\n",
    "        \"feature_fraction\": trial.suggest_uniform(\"feature_fraction\", 0.2, 1.0),\n",
    "        \"bagging_fraction\": trial.suggest_uniform(\"bagging_fraction\", 0.2, 1.0),\n",
    "        \"min_child_samples\": trial.suggest_int(\"min_child_samples\", 3, 100),\n",
    "    }\n",
    "\n",
    "    # create a trial-level run\n",
    "    run_trial_level = neptune.init(api_token=\"ANONYMOUS\", project=\"common/optuna-integration\")\n",
    "\n",
    "    # log sweep id to trial-level run\n",
    "    run_trial_level[\"sys/tags\"].add(\"trial-level\")\n",
    "    run_trial_level[\"sweep-id\"] = sweep_id\n",
    "\n",
    "    # log parameters of a trial-level run\n",
    "    run_trial_level[\"parameters\"] = param\n",
    "\n",
    "    # run model training\n",
    "    gbm = lgb.train(param, dtrain)\n",
    "    preds = gbm.predict(test_x)\n",
    "    accuracy = roc_auc_score(test_y, preds)\n",
    "\n",
    "    # log score of a trial-level run\n",
    "    run_trial_level[\"score\"] = accuracy\n",
    "\n",
    "    # stop trial-level run\n",
    "    run_trial_level.stop()\n",
    "\n",
    "    return accuracy"
   ]
  },
  {
   "cell_type": "markdown",
   "metadata": {
    "id": "oNxgN_f3LMrQ",
    "pycharm": {
     "name": "#%% md\n"
    }
   },
   "source": [
    "#### Create a study-level NeptuneCallback"
   ]
  },
  {
   "cell_type": "code",
   "execution_count": null,
   "metadata": {
    "id": "NHMzpJD4LMrQ",
    "pycharm": {
     "name": "#%%\n"
    }
   },
   "outputs": [],
   "source": [
    "neptune_callback = optuna_utils.NeptuneCallback(run_study_level)"
   ]
  },
  {
   "cell_type": "markdown",
   "metadata": {
    "id": "4JOcogmMLMrR",
    "pycharm": {
     "name": "#%% md\n"
    }
   },
   "source": [
    "#### Pass the NeptuneCallback to the `study.optimize()` method and run the parameter sweep"
   ]
  },
  {
   "cell_type": "code",
   "execution_count": null,
   "metadata": {
    "id": "VjluEUWLLMrR",
    "pycharm": {
     "name": "#%%\n"
    }
   },
   "outputs": [],
   "source": [
    "study = optuna.create_study(direction=\"maximize\")\n",
    "study.optimize(objective_with_logging, n_trials=20, callbacks=[neptune_callback])"
   ]
  },
  {
   "cell_type": "markdown",
   "metadata": {
    "id": "5yEFq7_xLMrR",
    "pycharm": {
     "name": "#%% md\n"
    }
   },
   "source": [
    "#### Stop logging to the Neptune run"
   ]
  },
  {
   "cell_type": "code",
   "execution_count": null,
   "metadata": {
    "id": "t_48f69kLMrS",
    "pycharm": {
     "name": "#%%\n"
    }
   },
   "outputs": [],
   "source": [
    "run_study_level.stop()"
   ]
  },
  {
   "cell_type": "markdown",
   "metadata": {
    "id": "-VtaDZpeLMrS",
    "pycharm": {
     "name": "#%% md\n"
    }
   },
   "source": [
    "## Go to the Neptune app to see your parameter sweep\n",
    "\n",
    "Now when you go to the Neptune app, you have:\n",
    "* all the trial-level Runs logged with `'sys/tags'='trial-level'`\n",
    "* study-level run logged with `'sys/tags'='study-level'`\n",
    "\n",
    "You can use filters to find all the Runs that belong to the 'sweep-id' of the parameter sweep and compare them. You can also look only at the 'study-level' run to see the high-level picture of the sweep.\n",
    "\n",
    "To compare sweeps between each other or find your current sweep, use Group by:\n",
    "* Go to the Runs Table\n",
    "* Click **+ Group by** in the top right\n",
    "* Type 'sweep-id' and click on it\n",
    "* Click **Show all** to see your trials in a separate Table View"
   ]
  }
 ],
 "metadata": {
  "colab": {
   "collapsed_sections": [],
   "name": "Neptune_Optuna_integration.ipynb",
   "private_outputs": true,
   "provenance": [],
   "toc_visible": true
  },
  "kernelspec": {
   "display_name": "Python 3 (ipykernel)",
   "language": "python",
   "name": "python3"
  },
  "language_info": {
   "codemirror_mode": {
    "name": "ipython",
    "version": 3
   },
   "file_extension": ".py",
   "mimetype": "text/x-python",
   "name": "python",
   "nbconvert_exporter": "python",
   "pygments_lexer": "ipython3",
   "version": "3.10.2"
  },
  "toc-showtags": false
 },
 "nbformat": 4,
 "nbformat_minor": 4
}
