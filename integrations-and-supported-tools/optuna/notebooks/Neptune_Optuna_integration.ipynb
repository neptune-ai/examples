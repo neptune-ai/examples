{
 "cells": [
  {
   "cell_type": "markdown",
   "metadata": {},
   "source": [
    "![Neptune + Optuna](https://neptune.ai/wp-content/uploads/2023/09/optuna.svg)\n",
    "\n",
    "# Neptune + Optuna\n",
    "\n",
    "<a target=\"_blank\" href=\"https://colab.research.google.com/github/neptune-ai/examples/blob/main/integrations-and-supported-tools/optuna/notebooks/Neptune_Optuna_integration.ipynb\">\n",
    "  <img alt=\"Open in Colab\" src=\"https://colab.research.google.com/assets/colab-badge.svg\"/>\n",
    "</a><a target=\"_blank\" href=\"https://github.com/neptune-ai/examples/blob/main/integrations-and-supported-tools/optuna/notebooks/Neptune_Optuna_integration.ipynb\">\n",
    "  <img alt=\"Open in GitHub\" src=\"https://img.shields.io/badge/Open_in_GitHub-blue?logo=github&labelColor=black\">\n",
    "</a><a target=\"_blank\" href=\"https://app.neptune.ai/o/showcase/org/optuna/runs/details?viewId=9c1c6f28-8234-4548-b44c-26b88e4c82a7&detailsTab=dashboard&dashboardId=Visualizations-9c1c70b1-6609-4961-8e93-d321e4006574\"> \n",
    "  <img alt=\"Explore in Neptune\" src=\"https://neptune.ai/wp-content/uploads/2024/01/neptune-badge.svg\">\n",
    "</a><a target=\"_blank\" href=\"https://docs.neptune.ai/integrations/optuna/\">\n",
    "  <img alt=\"View tutorial in docs\" src=\"https://neptune.ai/wp-content/uploads/2024/01/docs-badge-2.svg\">\n",
    "</a>"
   ]
  },
  {
   "attachments": {},
   "cell_type": "markdown",
   "metadata": {
    "tags": [
     "header",
     "comment"
    ]
   },
   "source": [
    "## Introduction\n",
    "\n",
    "This guide will show you how to:\n",
    "\n",
    "* Create a Neptune `run`,\n",
    "* Create a `NeptuneCallback()`,\n",
    "* Log Optuna study using `NeptuneCallback()`,\n",
    "* Load an Optuna study from an existing Neptune `run`,\n",
    "* Log bpth study and trial-level Optuna runs to Neptune."
   ]
  },
  {
   "attachments": {},
   "cell_type": "markdown",
   "metadata": {},
   "source": [
    "## Before you start\n",
    "\n",
    "This notebook example lets you try out Neptune as an anonymous user, with zero setup.\n",
    "\n",
    "If you want to see the example logged to your own workspace instead:\n",
    "\n",
    "  1. Create a Neptune account. [Register &rarr;](https://neptune.ai/register)\n",
    "  1. Create a Neptune project that you will use for tracking metadata. For instructions, see [Creating a project](https://docs.neptune.ai/setup/creating_project) in the Neptune docs."
   ]
  },
  {
   "attachments": {},
   "cell_type": "markdown",
   "metadata": {},
   "source": [
    "## Install Neptune and dependencies"
   ]
  },
  {
   "cell_type": "code",
   "execution_count": null,
   "metadata": {
    "tags": [
     "installation"
    ]
   },
   "outputs": [],
   "source": [
    "%pip install -U -q lightgbm \"neptune[optuna]\" optuna plotly"
   ]
  },
  {
   "attachments": {},
   "cell_type": "markdown",
   "metadata": {
    "tags": [
     "header"
    ]
   },
   "source": [
    "## Import libraries"
   ]
  },
  {
   "cell_type": "code",
   "execution_count": null,
   "metadata": {
    "tags": [
     "code"
    ]
   },
   "outputs": [],
   "source": [
    "import lightgbm as lgb\n",
    "import neptune\n",
    "import neptune.integrations.optuna as optuna_utils\n",
    "import optuna\n",
    "from sklearn.datasets import load_breast_cancer\n",
    "from sklearn.metrics import roc_auc_score\n",
    "from sklearn.model_selection import train_test_split"
   ]
  },
  {
   "attachments": {},
   "cell_type": "markdown",
   "metadata": {
    "tags": [
     "header"
    ]
   },
   "source": [
    "## Create a sample `objective` function for Optuna"
   ]
  },
  {
   "cell_type": "code",
   "execution_count": null,
   "metadata": {
    "tags": [
     "code"
    ]
   },
   "outputs": [],
   "source": [
    "def objective(trial):\n",
    "    data, target = load_breast_cancer(return_X_y=True)\n",
    "    train_x, test_x, train_y, test_y = train_test_split(data, target, test_size=0.25)\n",
    "    dtrain = lgb.Dataset(train_x, label=train_y)\n",
    "\n",
    "    param = {\n",
    "        \"verbose\": -1,\n",
    "        \"objective\": \"binary\",\n",
    "        \"metric\": \"binary_logloss\",\n",
    "        \"num_leaves\": trial.suggest_int(\"num_leaves\", 2, 256),\n",
    "        \"feature_fraction\": trial.suggest_float(\"feature_fraction\", 0.2, 1.0, step=0.1),\n",
    "        \"bagging_fraction\": trial.suggest_float(\"bagging_fraction\", 0.2, 1.0, step=0.1),\n",
    "        \"min_child_samples\": trial.suggest_int(\"min_child_samples\", 3, 100),\n",
    "    }\n",
    "\n",
    "    gbm = lgb.train(param, dtrain)\n",
    "    preds = gbm.predict(test_x)\n",
    "    accuracy = roc_auc_score(test_y, preds)\n",
    "\n",
    "    return accuracy"
   ]
  },
  {
   "attachments": {},
   "cell_type": "markdown",
   "metadata": {
    "tags": [
     "header"
    ]
   },
   "source": [
    "## Quickstart"
   ]
  },
  {
   "cell_type": "markdown",
   "metadata": {},
   "source": [
    "## Create the Neptune run\n",
    "\n",
    "To create a new run for tracking the metadata, you must tell Neptune who you are (`api_token`) and where to send the data (`project`).\n",
    "\n",
    "You can use the default code cell below to create an anonymous run in a public project. \n",
    "\n",
    "**Note**: Public projects are cleaned regularly, so anonymous runs are only stored temporarily.\n",
    "\n",
    "### To log to your own project instead\n",
    "\n",
    "Replace the cell below with the following:\n",
    "\n",
    "```python\n",
    "import os\n",
    "from getpass import getpass\n",
    "\n",
    "os.environ[\"NEPTUNE_PROJECT\"] = \"workspace-name/project-name\"  # replace with your own (see instructions below)\n",
    "os.environ[\"NEPTUNE_API_TOKEN\"] = getpass(\"Enter your Neptune API token: \")\n",
    "```\n",
    "\n",
    "To find your API token and full project name:\n",
    "\n",
    "1. [Log in to Neptune](https://app.neptune.ai/).\n",
    "1. In the bottom-left corner, expand your user menu and select **Get your API token**.\n",
    "1. In the project view, in the top-right corner, select the menu and then **Edit project details**.\n",
    "\n",
    "For help, see [Setting Neptune credentials](https://docs.neptune.ai/setup/setting_credentials) in the Neptune docs."
   ]
  },
  {
   "cell_type": "code",
   "execution_count": null,
   "metadata": {},
   "outputs": [],
   "source": [
    "import os\n",
    "\n",
    "os.environ[\"NEPTUNE_PROJECT\"] = \"common/optuna\"\n",
    "os.environ[\"NEPTUNE_API_TOKEN\"] = neptune.ANONYMOUS_API_TOKEN"
   ]
  },
  {
   "cell_type": "code",
   "execution_count": null,
   "metadata": {
    "tags": [
     "code"
    ]
   },
   "outputs": [],
   "source": [
    "run = neptune.init_run(tags=[\"quickstart\", \"study\", \"notebook\"])"
   ]
  },
  {
   "attachments": {},
   "cell_type": "markdown",
   "metadata": {
    "tags": [
     "comment"
    ]
   },
   "source": [
    "**To open the run in the Neptune web app, click the link that appeared in the cell output.**\n",
    "\n",
    "We'll use the `run` object we just created to log metadata. You'll see the metadata appear in the app."
   ]
  },
  {
   "attachments": {},
   "cell_type": "markdown",
   "metadata": {
    "tags": [
     "header"
    ]
   },
   "source": [
    "### Initialize the NeptuneCallback\n",
    "\n",
    "By default, the callback logs all the plots from the `optuna.visualization` module, details of all trials, and the Study object itself. For how to customize the NeptuneCallback further, see the [integration guide](https://docs.neptune.ai/integrations/optuna/#customizing-which-plots-to-log-and-how-often) in the Neptune docs."
   ]
  },
  {
   "cell_type": "code",
   "execution_count": null,
   "metadata": {
    "tags": [
     "code"
    ]
   },
   "outputs": [],
   "source": [
    "neptune_callback = optuna_utils.NeptuneCallback(run)"
   ]
  },
  {
   "attachments": {},
   "cell_type": "markdown",
   "metadata": {
    "tags": [
     "header"
    ]
   },
   "source": [
    "### Pass the NeptuneCallback to Optuna Study `.optimize()` method"
   ]
  },
  {
   "cell_type": "code",
   "execution_count": null,
   "metadata": {
    "tags": [
     "code"
    ]
   },
   "outputs": [],
   "source": [
    "study = optuna.create_study(direction=\"maximize\")\n",
    "study.optimize(objective, n_trials=5, callbacks=[neptune_callback])"
   ]
  },
  {
   "attachments": {},
   "cell_type": "markdown",
   "metadata": {
    "tags": [
     "comment"
    ]
   },
   "source": [
    "You can view the logging live in the Neptune tab once Optuna you run the below cell"
   ]
  },
  {
   "attachments": {},
   "cell_type": "markdown",
   "metadata": {
    "tags": [
     "comment"
    ]
   },
   "source": [
    "### Stop logging\n",
    "\n",
    "Once you are done logging, stop tracking the run."
   ]
  },
  {
   "cell_type": "code",
   "execution_count": null,
   "metadata": {
    "tags": [
     "code"
    ]
   },
   "outputs": [],
   "source": [
    "run.stop()"
   ]
  },
  {
   "attachments": {},
   "cell_type": "markdown",
   "metadata": {
    "tags": [
     "header"
    ]
   },
   "source": [
    "## More options"
   ]
  },
  {
   "attachments": {},
   "cell_type": "markdown",
   "metadata": {
    "tags": [
     "header"
    ]
   },
   "source": [
    "### Log charts and study object after the sweep\n",
    "\n",
    "To log study metadata after the Study is finished, use the `log_study_metadata()` function.\n",
    "This method is generally faster than using `NeptuneCallback`, as it doesn't log the data live. It logs the same metadata as the callback and accepts the same flags for customization."
   ]
  },
  {
   "cell_type": "code",
   "execution_count": null,
   "metadata": {
    "tags": [
     "code"
    ]
   },
   "outputs": [],
   "source": [
    "# Create a new Neptune run\n",
    "run = neptune.init_run(tags=[\"log-after-study\", \"study\", \"notebook\"])\n",
    "\n",
    "# Run Optuna with Neptune Callback\n",
    "study = optuna.create_study(direction=\"maximize\")\n",
    "study.optimize(objective, n_trials=5)\n",
    "\n",
    "# Log Optuna charts and study object after the sweep is complete\n",
    "optuna_utils.log_study_metadata(study, run)\n",
    "\n",
    "# Get run-id for the next step\n",
    "prev_run_id = run[\"sys/id\"].fetch()\n",
    "\n",
    "# Stop logging\n",
    "run.stop()"
   ]
  },
  {
   "attachments": {},
   "cell_type": "markdown",
   "metadata": {},
   "source": [
    "### Load the Optuna Study from an existing Neptune run\n",
    "\n",
    "If you logged the Optuna Study to Neptune, you can load the Study directly from the run with the `load_study_from_run()` function and continue working with it.\n",
    "\n",
    "It works both for Optuna `InMemoryStorage` and database storage."
   ]
  },
  {
   "cell_type": "code",
   "execution_count": null,
   "metadata": {},
   "outputs": [],
   "source": [
    "# Fetch an existing Neptune run\n",
    "run = neptune.init_run(with_id=prev_run_id)  # You can pass the ID of some other run\n",
    "\n",
    "# Run Optuna with Neptune Callback\n",
    "study = optuna_utils.load_study_from_run(run)\n",
    "\n",
    "# Create callback to log advanced options during the sweep\n",
    "neptune_callback = optuna_utils.NeptuneCallback(run)\n",
    "\n",
    "# Continue logging to the same run\n",
    "study.optimize(objective, n_trials=5, callbacks=[neptune_callback])\n",
    "\n",
    "# Stop logging\n",
    "run.stop()"
   ]
  },
  {
   "attachments": {},
   "cell_type": "markdown",
   "metadata": {},
   "source": [
    "### Keep track of both study-level and trial-level Runs\n",
    "\n",
    "You can log trial-level information to separate Neptune Runs and have a main run for the study-level information.\n",
    "\n",
    "**Warning**  \n",
    "The sweep will take longer as each trial-level run needs to synchronize with Neptune. "
   ]
  },
  {
   "attachments": {},
   "cell_type": "markdown",
   "metadata": {},
   "source": [
    "#### Create an objective function that logs each trial to Neptune as a run\n",
    "\n",
    "Inside of the objective function, you need to:  \n",
    "* create a trial-level Neptune run\n",
    "* log the study name and a \"trial\" tag to distinguish between study-level and trial-level runs\n",
    "* log parameters and scores to the trial-level run\n",
    "* stop the trial-level run"
   ]
  },
  {
   "cell_type": "code",
   "execution_count": null,
   "metadata": {},
   "outputs": [],
   "source": [
    "def objective_with_logging(trial):\n",
    "    data, target = load_breast_cancer(return_X_y=True)\n",
    "    train_x, test_x, train_y, test_y = train_test_split(data, target, test_size=0.25)\n",
    "    dtrain = lgb.Dataset(train_x, label=train_y)\n",
    "\n",
    "    param = {\n",
    "        \"verbose\": -1,\n",
    "        \"objective\": \"binary\",\n",
    "        \"metric\": \"binary_logloss\",\n",
    "        \"num_leaves\": trial.suggest_int(\"num_leaves\", 2, 256),\n",
    "        \"feature_fraction\": trial.suggest_float(\"feature_fraction\", 0.2, 1.0, step=0.1),\n",
    "        \"bagging_fraction\": trial.suggest_float(\"bagging_fraction\", 0.2, 1.0, step=0.1),\n",
    "        \"min_child_samples\": trial.suggest_int(\"min_child_samples\", 3, 100),\n",
    "    }\n",
    "\n",
    "    # create a trial-level run\n",
    "    run_trial_level = neptune.init_run(tags=[\"trial\", \"notebook\"])\n",
    "\n",
    "    # log study name and trial number to trial-level run\n",
    "    run_trial_level[\"study/study_name\"] = study.study_name\n",
    "    run_trial_level[\"trial/number\"] = trial.number\n",
    "\n",
    "    # log parameters of a trial-level run\n",
    "    run_trial_level[\"trial/parameters\"] = param\n",
    "\n",
    "    # run model training\n",
    "    gbm = lgb.train(param, dtrain)\n",
    "    preds = gbm.predict(test_x)\n",
    "    accuracy = roc_auc_score(test_y, preds)\n",
    "\n",
    "    # log score of a trial-level run\n",
    "    run_trial_level[\"trial/score\"] = accuracy\n",
    "\n",
    "    # stop trial-level run\n",
    "    run_trial_level.stop()\n",
    "\n",
    "    return accuracy"
   ]
  },
  {
   "cell_type": "markdown",
   "metadata": {},
   "source": [
    "#### Create an Optuna study"
   ]
  },
  {
   "cell_type": "code",
   "execution_count": null,
   "metadata": {},
   "outputs": [],
   "source": [
    "study = optuna.create_study(direction=\"maximize\")"
   ]
  },
  {
   "attachments": {},
   "cell_type": "markdown",
   "metadata": {},
   "source": [
    "#### Create a study-level Neptune run"
   ]
  },
  {
   "cell_type": "code",
   "execution_count": null,
   "metadata": {},
   "outputs": [],
   "source": [
    "run_study_level = neptune.init_run(tags=[\"study\", \"notebook\"])"
   ]
  },
  {
   "attachments": {},
   "cell_type": "markdown",
   "metadata": {},
   "source": [
    "#### Create a study-level NeptuneCallback"
   ]
  },
  {
   "cell_type": "code",
   "execution_count": null,
   "metadata": {},
   "outputs": [],
   "source": [
    "neptune_callback = optuna_utils.NeptuneCallback(run_study_level)"
   ]
  },
  {
   "attachments": {},
   "cell_type": "markdown",
   "metadata": {},
   "source": [
    "#### Pass the NeptuneCallback to the `study.optimize()` method and run the parameter sweep"
   ]
  },
  {
   "cell_type": "code",
   "execution_count": null,
   "metadata": {},
   "outputs": [],
   "source": [
    "study.optimize(objective_with_logging, n_trials=5, callbacks=[neptune_callback])"
   ]
  },
  {
   "attachments": {},
   "cell_type": "markdown",
   "metadata": {},
   "source": [
    "#### Stop logging to the Neptune run"
   ]
  },
  {
   "cell_type": "code",
   "execution_count": null,
   "metadata": {},
   "outputs": [],
   "source": [
    "run_study_level.stop()"
   ]
  },
  {
   "attachments": {},
   "cell_type": "markdown",
   "metadata": {},
   "source": [
    "## Go to the Neptune app to see your parameter sweep\n",
    "\n",
    "Now when you go to the Neptune app, you have:\n",
    "* all the trial-level runs tagged as `trial`\n",
    "* the study-level run tagged as `study`\n",
    "\n",
    "You can use filters to find all the trials that belong to the same study and compare them. You can also look only at the 'study' runs to see the high-level picture.\n",
    "\n",
    "To compare trials within each study, group the runs by study name:\n",
    "1. Go to the runs table.\n",
    "1. Next to the search input box, click **Group by**.\n",
    "1. Type 'study/study_name' and select the field from the list.\n",
    "1. To see your trials in a separate table view, click **Show all**."
   ]
  }
 ],
 "metadata": {
  "colab": {
   "collapsed_sections": [],
   "name": "Neptune_Optuna_integration.ipynb",
   "private_outputs": true,
   "provenance": [],
   "toc_visible": true
  },
  "kernelspec": {
   "display_name": "py38",
   "language": "python",
   "name": "python3"
  },
  "language_info": {
   "codemirror_mode": {
    "name": "ipython",
    "version": 3
   },
   "file_extension": ".py",
   "mimetype": "text/x-python",
   "name": "python",
   "nbconvert_exporter": "python",
   "pygments_lexer": "ipython3",
   "version": "3.10.11"
  },
  "toc-showtags": false,
  "vscode": {
   "interpreter": {
    "hash": "a9715cf0b0024f6e1c62cb31a4f1f43970eb41991212681878768b4bfe53050a"
   }
  }
 },
 "nbformat": 4,
 "nbformat_minor": 4
}
