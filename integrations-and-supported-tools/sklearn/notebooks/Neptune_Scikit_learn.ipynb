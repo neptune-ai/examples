{
 "cells": [
  {
   "cell_type": "markdown",
   "metadata": {},
   "source": [
    "# Neptune + scikit-learn"
   ]
  },
  {
   "cell_type": "markdown",
   "metadata": {
    "tags": [
     "header"
    ]
   },
   "source": [
    "## Introduction"
   ]
  },
  {
   "cell_type": "markdown",
   "metadata": {
    "tags": [
     "comment"
    ]
   },
   "source": [
    "Neptune helps you keep track of your machine learning runs and if you are using scikit-learn you can add tracking very easily.\n",
    "\n",
    "This quickstart will show you how to (using just single function) log scikit-learn:\n",
    "\n",
    "* regression summary,\n",
    "* classification summary,\n",
    "* kmeans clustering summary."
   ]
  },
  {
   "cell_type": "markdown",
   "metadata": {},
   "source": [
    "## Before you start\n",
    "\n",
    "This notebook example lets you try out Neptune as an anonymous user, with zero setup.\n",
    "\n",
    "* If you are running the notebook on your local machine, you need to have [Python](https://www.python.org/downloads/) and [pip](https://pypi.org/project/pip/) installed.\n",
    "* If you want to see the example recorded to your own workspace instead:\n",
    "    * Create a Neptune account → [Take me to registration](https://neptune.ai/register)\n",
    "    * Create a Neptune project that you will use for tracking metadata → [Tell me more about projects](https://docs.neptune.ai/administration/projects)"
   ]
  },
  {
   "cell_type": "markdown",
   "metadata": {},
   "source": [
    "## Install Neptune and dependencies"
   ]
  },
  {
   "cell_type": "code",
   "execution_count": null,
   "metadata": {
    "tags": [
     "installation"
    ]
   },
   "outputs": [],
   "source": [
    "! pip install neptune-client neptune-sklearn scikit-learn==1.0.2"
   ]
  },
  {
   "cell_type": "markdown",
   "metadata": {
    "tags": [
     "header"
    ]
   },
   "source": [
    "## Scikit-learn regression"
   ]
  },
  {
   "cell_type": "markdown",
   "metadata": {
    "tags": [
     "header"
    ]
   },
   "source": [
    "### Create and fit random forest regressor"
   ]
  },
  {
   "cell_type": "markdown",
   "metadata": {
    "tags": [
     "comment"
    ]
   },
   "source": [
    "Define regressor parameters, that will be later passed to Neptune."
   ]
  },
  {
   "cell_type": "code",
   "execution_count": null,
   "metadata": {
    "tags": [
     "code"
    ]
   },
   "outputs": [],
   "source": [
    "parameters = {\"n_estimators\": 70, \"max_depth\": 7, \"min_samples_split\": 3}"
   ]
  },
  {
   "cell_type": "markdown",
   "metadata": {
    "tags": [
     "comment"
    ]
   },
   "source": [
    "Create and fit regressor."
   ]
  },
  {
   "cell_type": "code",
   "execution_count": null,
   "metadata": {
    "tags": [
     "code"
    ]
   },
   "outputs": [],
   "source": [
    "from sklearn.datasets import fetch_california_housing\n",
    "from sklearn.ensemble import RandomForestRegressor\n",
    "from sklearn.model_selection import train_test_split\n",
    "\n",
    "rfr = RandomForestRegressor(**parameters)\n",
    "\n",
    "X, y = fetch_california_housing(return_X_y=True)\n",
    "X_train, X_test, y_train, y_test = train_test_split(X, y, test_size=0.20, random_state=28743)\n",
    "\n",
    "rfr.fit(X_train, y_train)"
   ]
  },
  {
   "cell_type": "markdown",
   "metadata": {
    "tags": [
     "header"
    ]
   },
   "source": [
    "### Initialize Neptune"
   ]
  },
  {
   "cell_type": "markdown",
   "metadata": {
    "tags": [
     "comment"
    ]
   },
   "source": [
    "Connect your script to Neptune application and create new run."
   ]
  },
  {
   "cell_type": "code",
   "execution_count": null,
   "metadata": {
    "tags": [
     "code"
    ]
   },
   "outputs": [],
   "source": [
    "import neptune.new as neptune\n",
    "\n",
    "run = neptune.init(\n",
    "    project=\"common/sklearn-integration\",\n",
    "    api_token=\"ANONYMOUS\",\n",
    "    name=\"regression-example\",\n",
    "    tags=[\"RandomForestRegressor\", \"regression\"],\n",
    ")"
   ]
  },
  {
   "cell_type": "markdown",
   "metadata": {
    "tags": [
     "comment"
    ]
   },
   "source": [
    "Click on the link above to open this run in Neptune. For now it is empty but keep the tab with run open to see what happens next."
   ]
  },
  {
   "cell_type": "markdown",
   "metadata": {
    "tags": [
     "comment"
    ]
   },
   "source": [
    "You tell Neptune: \n",
    "\n",
    "* **who you are**: your Neptune API token `api_token` \n",
    "* **where you want to send your data**: your Neptune `project`.\n",
    "\n",
    "At this point you have new run in Neptune. For now on you will use `run` to log metadata to it.\n",
    "\n",
    "---\n",
    "\n",
    "**Note**\n",
    "\n",
    "\n",
    "Instead of logging data to the public project `'common/sklearn-integration'` as an anonymous user 'neptuner' you can log it to your own project.\n",
    "\n",
    "To do that:\n",
    "\n",
    "1. Get your [Neptune API token](https://docs.neptune.ai/getting-started/installation#get-api-token)\n",
    "2. Pass the token to ``api_token`` argument of ``neptune.init()`` method: ``api_token=YOUR_API_TOKEN``\n",
    "3. Pass your project to the ``project`` argument of ``neptune.init()``.\n",
    "\n",
    "For example:\n",
    "\n",
    "```python\n",
    "neptune.init(project=\"YOUR_WORKSPACE/YOUR_PROJECT\",\n",
    "             api_token=\"YOUR_API_TOKEN\")\n",
    "```"
   ]
  },
  {
   "cell_type": "markdown",
   "metadata": {
    "tags": [
     "header"
    ]
   },
   "source": [
    "### Log regressor summary"
   ]
  },
  {
   "cell_type": "code",
   "execution_count": null,
   "metadata": {
    "tags": [
     "code"
    ]
   },
   "outputs": [],
   "source": [
    "import neptune.new.integrations.sklearn as npt_utils\n",
    "\n",
    "run[\"rfr_summary\"] = npt_utils.create_regressor_summary(rfr, X_train, X_test, y_train, y_test)"
   ]
  },
  {
   "cell_type": "markdown",
   "metadata": {
    "tags": [
     "comment"
    ]
   },
   "source": [
    "You just logged information about the regressor, including:\n",
    "\n",
    "* [logged regressor parameters](https://app.neptune.ai/o/common/org/sklearn-integration/e/SKLEAR-92/all?path=rfr_summary%2Fall_params),\n",
    "* [logged pickled model](https://app.neptune.ai/o/common/org/sklearn-integration/e/SKLEAR-92/all?path=rfr_summary%2F&attribute=pickled_model),\n",
    "* [logged test predictions](https://app.neptune.ai/o/common/org/sklearn-integration/e/SKLEAR-92/all?path=rfr_summary%2Ftest&attribute=preds),\n",
    "* [logged test scores](https://app.neptune.ai/o/common/org/sklearn-integration/e/SKLEAR-92/all?path=rfr_summary%2Ftest%2Fscores),\n",
    "* [logged regressor visualizations](https://app.neptune.ai/o/common/org/sklearn-integration/e/SKLEAR-92/all?path=rfr_summary%2Fdiagnostics_charts&attribute=feature_importance),\n",
    "* [logged metadata](https://app.neptune.ai/o/common/org/sklearn-integration/e/SKLEAR-92/all?path=sys),\n",
    "* [logged code and git metadata](https://app.neptune.ai/o/common/org/sklearn-integration/e/SKLEAR-92/source-code?file=main.py)."
   ]
  },
  {
   "cell_type": "markdown",
   "metadata": {},
   "source": [
    "### Stop logging\n",
    "\n",
    "<font color=red>**Warning:**</font><br>\n",
    "Once you are done logging, you should stop tracking the run using the `stop()` method.\n",
    "This is needed only while logging from a notebook environment. While logging through a script, Neptune automatically stops tracking once the script has completed execution."
   ]
  },
  {
   "cell_type": "code",
   "execution_count": null,
   "metadata": {},
   "outputs": [],
   "source": [
    "run.stop()"
   ]
  },
  {
   "cell_type": "markdown",
   "metadata": {
    "tags": [
     "header"
    ]
   },
   "source": [
    "### Explore results"
   ]
  },
  {
   "cell_type": "markdown",
   "metadata": {
    "tags": [
     "comment"
    ]
   },
   "source": [
    "You just learned how to log scikit-learn regression summary to Neptune using single function.\n",
    "\n",
    "Click on the link that was outputted to the console or [go here](https://app.neptune.ai/o/common/org/sklearn-integration/e/SKLEAR-92/all) to explore a run similar to yours. In particular check:\n",
    "\n",
    "* [logged regressor parameters](https://app.neptune.ai/o/common/org/sklearn-integration/e/SKLEAR-92/all?path=rfr_summary%2Fall_params),\n",
    "* [logged pickled model](https://app.neptune.ai/o/common/org/sklearn-integration/e/SKLEAR-92/all?path=rfr_summary%2F&attribute=pickled_model),\n",
    "* [logged test predictions](https://app.neptune.ai/o/common/org/sklearn-integration/e/SKLEAR-92/all?path=rfr_summary%2Ftest&attribute=preds),\n",
    "* [logged test scores](https://app.neptune.ai/o/common/org/sklearn-integration/e/SKLEAR-92/all?path=rfr_summary%2Ftest%2Fscores),\n",
    "* [logged regressor visualizations](https://app.neptune.ai/o/common/org/sklearn-integration/e/SKLEAR-92/all?path=rfr_summary%2Fdiagnostics_charts&attribute=feature_importance),\n",
    "* [logged metadata](https://app.neptune.ai/o/common/org/sklearn-integration/e/SKLEAR-92/all?path=sys),\n",
    "* [logged code and git metadata](https://app.neptune.ai/o/common/org/sklearn-integration/e/SKLEAR-92/source-code?file=main.py)."
   ]
  },
  {
   "cell_type": "markdown",
   "metadata": {
    "tags": [
     "header"
    ]
   },
   "source": [
    "## Scikit-learn classification"
   ]
  },
  {
   "cell_type": "markdown",
   "metadata": {
    "tags": [
     "header"
    ]
   },
   "source": [
    "### Create and fit gradient boosting classifier"
   ]
  },
  {
   "cell_type": "markdown",
   "metadata": {
    "tags": [
     "comment"
    ]
   },
   "source": [
    "Define classifier parameters, that will be later passed to Neptune."
   ]
  },
  {
   "cell_type": "code",
   "execution_count": null,
   "metadata": {
    "tags": [
     "code"
    ]
   },
   "outputs": [],
   "source": [
    "parameters = {\n",
    "    \"n_estimators\": 120,\n",
    "    \"learning_rate\": 0.12,\n",
    "    \"min_samples_split\": 3,\n",
    "    \"min_samples_leaf\": 2,\n",
    "}"
   ]
  },
  {
   "cell_type": "markdown",
   "metadata": {
    "tags": [
     "comment"
    ]
   },
   "source": [
    "Create and fit regressor."
   ]
  },
  {
   "cell_type": "code",
   "execution_count": null,
   "metadata": {
    "tags": [
     "code"
    ]
   },
   "outputs": [],
   "source": [
    "from sklearn.datasets import load_digits\n",
    "from sklearn.ensemble import GradientBoostingClassifier\n",
    "from sklearn.model_selection import train_test_split\n",
    "\n",
    "gbc = GradientBoostingClassifier(**parameters)\n",
    "\n",
    "X, y = load_digits(return_X_y=True)\n",
    "X_train, X_test, y_train, y_test = train_test_split(X, y, test_size=0.20, random_state=28743)\n",
    "\n",
    "gbc.fit(X_train, y_train)"
   ]
  },
  {
   "cell_type": "markdown",
   "metadata": {
    "tags": [
     "header"
    ]
   },
   "source": [
    "### Initialize Neptune"
   ]
  },
  {
   "cell_type": "markdown",
   "metadata": {
    "tags": [
     "comment"
    ]
   },
   "source": [
    "Connect your script to Neptune application and create new run."
   ]
  },
  {
   "cell_type": "code",
   "execution_count": null,
   "metadata": {
    "tags": [
     "code"
    ]
   },
   "outputs": [],
   "source": [
    "import neptune.new as neptune\n",
    "\n",
    "run = neptune.init(\n",
    "    project=\"common/sklearn-integration\",\n",
    "    api_token=\"ANONYMOUS\",\n",
    "    name=\"classification-example\",\n",
    "    tags=[\"GradientBoostingClassifier\", \"classification\"],\n",
    ")"
   ]
  },
  {
   "cell_type": "markdown",
   "metadata": {
    "tags": [
     "comment"
    ]
   },
   "source": [
    "Click on the link above to open this run in Neptune. For now it is empty but keep the tab with run open to see what happens next."
   ]
  },
  {
   "cell_type": "markdown",
   "metadata": {
    "tags": [
     "comment"
    ]
   },
   "source": [
    "You tell Neptune: \n",
    "\n",
    "* **who you are**: your Neptune API token `api_token` \n",
    "* **where you want to send your data**: your Neptune `project`.\n",
    "\n",
    "At this point you have new run in Neptune. For now on you will use `run` to log metadata to it.\n",
    "\n",
    "---\n",
    "\n",
    "**Note**\n",
    "\n",
    "\n",
    "Instead of logging data to the public project `'common/sklearn-integration'` as an anonymous user 'neptuner' you can log it to your own project.\n",
    "\n",
    "To do that:\n",
    "\n",
    "1. Get your [Neptune API token](https://docs.neptune.ai/getting-started/installation#get-api-token)\n",
    "2. Pass the token to ``api_token`` argument of ``neptune.init()`` method: ``api_token=YOUR_API_TOKEN``\n",
    "3. Pass your project to the ``project`` argument of ``neptune.init()``.\n",
    "\n",
    "For example:\n",
    "\n",
    "```python\n",
    "neptune.init(project=\"YOUR_WORKSPACE/YOUR_PROJECT\", \n",
    "             api_token=\"YOUR_API_TOKEN\")\n",
    "```"
   ]
  },
  {
   "cell_type": "markdown",
   "metadata": {
    "tags": [
     "header"
    ]
   },
   "source": [
    "### Log classifier summary"
   ]
  },
  {
   "cell_type": "code",
   "execution_count": null,
   "metadata": {
    "tags": [
     "code"
    ]
   },
   "outputs": [],
   "source": [
    "import neptune.new.integrations.sklearn as npt_utils\n",
    "\n",
    "run[\"cls_summary\"] = npt_utils.create_classifier_summary(gbc, X_train, X_test, y_train, y_test)"
   ]
  },
  {
   "cell_type": "markdown",
   "metadata": {
    "tags": [
     "comment"
    ]
   },
   "source": [
    "You just logged information about the classifier, including:\n",
    "\n",
    "* [logged classifier parameters](https://app.neptune.ai/o/common/org/sklearn-integration/e/SKLEAR-95/all?path=cls_summary%2Fall_params),\n",
    "* [logged pickled model](https://app.neptune.ai/o/common/org/sklearn-integration/e/SKLEAR-95/all?path=cls_summary%2F&attribute=pickled_model),\n",
    "* [logged test predictions](https://app.neptune.ai/o/common/org/sklearn-integration/e/SKLEAR-95/all?path=cls_summary%2Ftest&attribute=preds),\n",
    "* [logged test predictions probabilities](https://app.neptune.ai/o/common/org/sklearn-integration/e/SKLEAR-95/all?path=cls_summary%2Ftest&attribute=preds_proba),\n",
    "* [logged test scores](https://app.neptune.ai/o/common/org/sklearn-integration/e/SKLEAR-95/all?path=cls_summary%2Ftest%2Fscores%2F),\n",
    "* [logged classifier visualizations](https://app.neptune.ai/o/common/org/sklearn-integration/e/SKLEAR-95/all?path=cls_summary%2Fdiagnostics_charts&attribute=class_prediction_error),\n",
    "* [logged metadata](https://app.neptune.ai/o/common/org/sklearn-integration/e/SKLEAR-95/all?path=sys),\n",
    "* [logged code and git metadata](https://app.neptune.ai/o/common/org/sklearn-integration/e/SKLEAR-95/source-code?file=main.py&filePath=integrations%2Fsklearn%2F)."
   ]
  },
  {
   "cell_type": "markdown",
   "metadata": {},
   "source": [
    "### Stop logging\n",
    "\n",
    "<font color=red>**Warning:**</font><br>\n",
    "Once you are done logging, you should stop tracking the run using the `stop()` method.\n",
    "This is needed only while logging from a notebook environment. While logging through a script, Neptune automatically stops tracking once the script has completed execution."
   ]
  },
  {
   "cell_type": "code",
   "execution_count": null,
   "metadata": {},
   "outputs": [],
   "source": [
    "run.stop()"
   ]
  },
  {
   "cell_type": "markdown",
   "metadata": {
    "tags": [
     "header"
    ]
   },
   "source": [
    "### Explore Results"
   ]
  },
  {
   "cell_type": "markdown",
   "metadata": {
    "tags": [
     "comment"
    ]
   },
   "source": [
    "You just learned how to log scikit-learn classification summary to Neptune using single function.\n",
    "\n",
    "Click on the link that was outputted to the console or [go here](https://app.neptune.ai/o/common/org/sklearn-integration/e/SKLEAR-95/allhttps://ui.neptune.ai/o/shared/org/sklearn-integration/e/SKLEARN-312/charts) to explore a run similar to yours. In particular check:\n",
    "\n",
    "* [logged classifier parameters](https://app.neptune.ai/o/common/org/sklearn-integration/e/SKLEAR-95/all?path=cls_summary%2Fall_params),\n",
    "* [logged pickled model](https://app.neptune.ai/o/common/org/sklearn-integration/e/SKLEAR-95/all?path=cls_summary%2F&attribute=pickled_model),\n",
    "* [logged test predictions](https://app.neptune.ai/o/common/org/sklearn-integration/e/SKLEAR-95/all?path=cls_summary%2Ftest&attribute=preds),\n",
    "* [logged test predictions probabilities](https://app.neptune.ai/o/common/org/sklearn-integration/e/SKLEAR-95/all?path=cls_summary%2Ftest&attribute=preds_proba),\n",
    "* [logged test scores](https://app.neptune.ai/o/common/org/sklearn-integration/e/SKLEAR-95/all?path=cls_summary%2Ftest%2Fscores%2F),\n",
    "* [logged classifier visualizations](https://app.neptune.ai/o/common/org/sklearn-integration/e/SKLEAR-95/all?path=cls_summary%2Fdiagnostics_charts&attribute=class_prediction_error),\n",
    "* [logged metadata](https://app.neptune.ai/o/common/org/sklearn-integration/e/SKLEAR-95/all?path=sys),\n",
    "* [logged code and git metadata](https://app.neptune.ai/o/common/org/sklearn-integration/e/SKLEAR-95/source-code?file=main.py&filePath=integrations%2Fsklearn%2F)."
   ]
  },
  {
   "cell_type": "markdown",
   "metadata": {
    "tags": [
     "header"
    ]
   },
   "source": [
    "## Scikit-learn KMeans clustering"
   ]
  },
  {
   "cell_type": "markdown",
   "metadata": {
    "tags": [
     "header"
    ]
   },
   "source": [
    "### Create KMeans object and example data"
   ]
  },
  {
   "cell_type": "markdown",
   "metadata": {
    "tags": [
     "comment"
    ]
   },
   "source": [
    "Define KMeans clustering parameters, that will be later passed to Neptune."
   ]
  },
  {
   "cell_type": "code",
   "execution_count": null,
   "metadata": {
    "tags": [
     "code"
    ]
   },
   "outputs": [],
   "source": [
    "parameters = {\"n_init\": 11, \"max_iter\": 270}"
   ]
  },
  {
   "cell_type": "markdown",
   "metadata": {
    "tags": [
     "comment"
    ]
   },
   "source": [
    "Create and fit KMeans model."
   ]
  },
  {
   "cell_type": "code",
   "execution_count": null,
   "metadata": {
    "tags": [
     "code"
    ]
   },
   "outputs": [],
   "source": [
    "from sklearn.cluster import KMeans\n",
    "from sklearn.datasets import make_blobs\n",
    "\n",
    "km = KMeans(**parameters)\n",
    "\n",
    "X, y = make_blobs(n_samples=579, n_features=17, centers=7, random_state=28743)"
   ]
  },
  {
   "cell_type": "markdown",
   "metadata": {
    "tags": [
     "header"
    ]
   },
   "source": [
    "### Initialize Neptune"
   ]
  },
  {
   "cell_type": "markdown",
   "metadata": {
    "tags": [
     "comment"
    ]
   },
   "source": [
    "Connect your script to Neptune application and create new run."
   ]
  },
  {
   "cell_type": "code",
   "execution_count": null,
   "metadata": {
    "tags": [
     "code"
    ]
   },
   "outputs": [],
   "source": [
    "import neptune.new as neptune\n",
    "\n",
    "run = neptune.init(\n",
    "    project=\"common/sklearn-integration\",\n",
    "    api_token=\"ANONYMOUS\",\n",
    "    name=\"clustering-example\",\n",
    "    tags=[\"KMeans\", \"clustering\"],\n",
    ")"
   ]
  },
  {
   "cell_type": "markdown",
   "metadata": {
    "tags": [
     "comment"
    ]
   },
   "source": [
    "Click on the link above to open this run in Neptune. For now it is empty but keep the tab with run open to see what happens next."
   ]
  },
  {
   "cell_type": "markdown",
   "metadata": {
    "tags": [
     "comment"
    ]
   },
   "source": [
    "You tell Neptune: \n",
    "\n",
    "* **who you are**: your Neptune API token `api_token` \n",
    "* **where you want to send your data**: your Neptune `project`.\n",
    "\n",
    "At this point you have new run in Neptune. For now on you will use `run` to log metadata to it.\n",
    "\n",
    "---\n",
    "\n",
    "**Note**\n",
    "\n",
    "\n",
    "Instead of logging data to the public project `'common/sklearn-integration'` as an anonymous user 'neptuner' you can log it to your own project.\n",
    "\n",
    "To do that:\n",
    "\n",
    "1. Get your [Neptune API token](https://docs.neptune.ai/getting-started/installation#get-api-token)\n",
    "2. Pass the token to `api_token` argument of the `init()` method: `api_token=YOUR_API_TOKEN`\n",
    "3. Pass your project to the `project` argument of the `init()` method.\n",
    "\n",
    "For example:\n",
    "\n",
    "```python\n",
    "neptune.init(project=\"YOUR_WORKSPACE/YOUR_PROJECT\", \n",
    "             api_token=\"YOUR_API_TOKEN\")\n",
    "```"
   ]
  },
  {
   "cell_type": "markdown",
   "metadata": {
    "tags": [
     "header"
    ]
   },
   "source": [
    "### Log KMeans clustering summary"
   ]
  },
  {
   "cell_type": "code",
   "execution_count": null,
   "metadata": {
    "tags": [
     "code"
    ]
   },
   "outputs": [],
   "source": [
    "import neptune.new.integrations.sklearn as npt_utils\n",
    "\n",
    "run[\"kmeans_summary\"] = npt_utils.create_kmeans_summary(km, X, n_clusters=17)"
   ]
  },
  {
   "cell_type": "markdown",
   "metadata": {
    "tags": [
     "comment"
    ]
   },
   "source": [
    "You just logged information about the KMeans clustering, including:\n",
    "\n",
    "* [logged KMeans parameters](https://app.neptune.ai/o/common/org/sklearn-integration/e/SKLEAR-96/all?path=kmeans_summary%2Fall_params),\n",
    "* [logged cluster labels](https://app.neptune.ai/o/common/org/sklearn-integration/e/SKLEAR-96/all?path=kmeans_summary%2F&attribute=cluster_labels),\n",
    "* [logged KMeans clustering visualizations](https://app.neptune.ai/o/common/org/sklearn-integration/e/SKLEAR-96/all?path=kmeans_summary%2Fdiagnostics_charts&attribute=silhouette),\n",
    "* [logged metadata](https://app.neptune.ai/o/common/org/sklearn-integration/e/SKLEAR-96/all?path=sys),\n",
    "* [logged code and git metadata](https://app.neptune.ai/o/common/org/sklearn-integration/e/SKLEAR-96/source-code?file=main.py&filePath=integrations%2Fsklearn%2F)."
   ]
  },
  {
   "cell_type": "markdown",
   "metadata": {},
   "source": [
    "### Stop logging\n",
    "\n",
    "<font color=red>**Warning:**</font><br>\n",
    "Once you are done logging, you should stop tracking the run using the `stop()` method.\n",
    "This is needed only while logging from a notebook environment. While logging through a script, Neptune automatically stops tracking once the script has completed execution."
   ]
  },
  {
   "cell_type": "code",
   "execution_count": null,
   "metadata": {},
   "outputs": [],
   "source": [
    "run.stop()"
   ]
  },
  {
   "cell_type": "markdown",
   "metadata": {
    "tags": [
     "header"
    ]
   },
   "source": [
    "### Explore Results"
   ]
  },
  {
   "cell_type": "markdown",
   "metadata": {
    "tags": [
     "comment"
    ]
   },
   "source": [
    "You just learned how to log scikit-learn KMeans clustering summary to Neptune using single function.\n",
    "\n",
    "Click on the link that was outputted to the console or [go here](https://app.neptune.ai/o/common/org/sklearn-integration/e/SKLEAR-96/all) to explore a run similar to yours. In particular check:\n",
    "\n",
    "* [logged KMeans parameters](https://app.neptune.ai/o/common/org/sklearn-integration/e/SKLEAR-96/all?path=kmeans_summary%2Fall_params),\n",
    "* [logged cluster labels](https://app.neptune.ai/o/common/org/sklearn-integration/e/SKLEAR-96/all?path=kmeans_summary%2F&attribute=cluster_labels),\n",
    "* [logged KMeans clustering visualizations](https://app.neptune.ai/o/common/org/sklearn-integration/e/SKLEAR-96/all?path=kmeans_summary%2Fdiagnostics_charts&attribute=silhouette),\n",
    "* [logged metadata](https://app.neptune.ai/o/common/org/sklearn-integration/e/SKLEAR-96/all?path=sys),\n",
    "* [logged code and git metadata](https://app.neptune.ai/o/common/org/sklearn-integration/e/SKLEAR-96/source-code?file=main.py&filePath=integrations%2Fsklearn%2F)."
   ]
  },
  {
   "cell_type": "markdown",
   "metadata": {
    "tags": [
     "header"
    ]
   },
   "source": [
    "## Other logging options"
   ]
  },
  {
   "cell_type": "markdown",
   "metadata": {
    "tags": [
     "comment"
    ]
   },
   "source": [
    "Neptune-Sklearn integration also lets you log only specific metadata of your choice, by using additional methods.\n",
    "\n",
    "Below are few examples, visit [sklean integration documentation](https://docs.neptune.ai/integrations-and-supported-tools/model-training/sklearn) for the full example."
   ]
  },
  {
   "cell_type": "markdown",
   "metadata": {
    "tags": [
     "header"
    ]
   },
   "source": [
    "### Before you start: create and fit gradient boosting classifier"
   ]
  },
  {
   "cell_type": "code",
   "execution_count": null,
   "metadata": {
    "tags": [
     "code"
    ]
   },
   "outputs": [],
   "source": [
    "from sklearn.ensemble import RandomForestClassifier\n",
    "\n",
    "rfc = RandomForestClassifier()\n",
    "\n",
    "X, y = load_digits(return_X_y=True)\n",
    "X_train, X_test, y_train, y_test = train_test_split(X, y, test_size=0.20, random_state=28743)\n",
    "\n",
    "rfc.fit(X_train, y_train)"
   ]
  },
  {
   "cell_type": "markdown",
   "metadata": {
    "tags": [
     "header"
    ]
   },
   "source": [
    "### Import scikit-learn integration"
   ]
  },
  {
   "cell_type": "code",
   "execution_count": null,
   "metadata": {
    "tags": [
     "code"
    ]
   },
   "outputs": [],
   "source": [
    "import neptune.new.integrations.sklearn as npt_utils\n",
    "\n",
    "run = neptune.init(project=\"common/sklearn-integration\", api_token=\"ANONYMOUS\", name=\"other-options\")"
   ]
  },
  {
   "cell_type": "markdown",
   "metadata": {
    "tags": [
     "comment"
    ]
   },
   "source": [
    "Open link above to see the metadata logging results, as we add them below."
   ]
  },
  {
   "cell_type": "markdown",
   "metadata": {
    "tags": [
     "header"
    ]
   },
   "source": [
    "### Log estimator parameters"
   ]
  },
  {
   "cell_type": "code",
   "execution_count": null,
   "metadata": {
    "tags": [
     "code"
    ]
   },
   "outputs": [],
   "source": [
    "run[\"estimator/parameters\"] = npt_utils.get_estimator_params(rfc)"
   ]
  },
  {
   "cell_type": "markdown",
   "metadata": {
    "tags": [
     "header"
    ]
   },
   "source": [
    "### Log model"
   ]
  },
  {
   "cell_type": "code",
   "execution_count": null,
   "metadata": {
    "tags": [
     "code"
    ]
   },
   "outputs": [],
   "source": [
    "run[\"estimator/pickled-model\"] = npt_utils.get_pickled_model(rfc)"
   ]
  },
  {
   "cell_type": "markdown",
   "metadata": {
    "tags": [
     "header"
    ]
   },
   "source": [
    "### Log confusion matrix"
   ]
  },
  {
   "cell_type": "code",
   "execution_count": null,
   "metadata": {
    "tags": [
     "code"
    ]
   },
   "outputs": [],
   "source": [
    "run[\"confusion-matrix\"] = npt_utils.create_confusion_matrix_chart(rfc, X_train, X_test, y_train, y_test)"
   ]
  },
  {
   "cell_type": "markdown",
   "metadata": {},
   "source": [
    "### Stop logging\n",
    "\n",
    "<font color=red>**Warning:**</font><br>\n",
    "Once you are done logging, you should stop tracking the run using the `stop()` method.\n",
    "This is needed only while logging from a notebook environment. While logging through a script, Neptune automatically stops tracking once the script has completed execution."
   ]
  },
  {
   "cell_type": "code",
   "execution_count": null,
   "metadata": {},
   "outputs": [],
   "source": [
    "run.stop()"
   ]
  }
 ],
 "metadata": {
  "colab": {
   "collapsed_sections": [],
   "name": "Neptune_Scikit_learn.ipynb",
   "provenance": [],
   "toc_visible": true
  },
  "language_info": {
   "codemirror_mode": {
    "name": "ipython",
    "version": 3
   },
   "file_extension": ".py",
   "mimetype": "text/x-python",
   "name": "python",
   "nbconvert_exporter": "python",
   "pygments_lexer": "ipython3",
   "version": "3.10.4"
  }
 },
 "nbformat": 4,
 "nbformat_minor": 4
}
