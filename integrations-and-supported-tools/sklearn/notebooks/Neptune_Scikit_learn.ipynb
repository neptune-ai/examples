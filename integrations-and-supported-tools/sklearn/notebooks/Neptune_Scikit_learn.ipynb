{
 "cells": [
  {
   "cell_type": "markdown",
   "metadata": {
    "id": "QXGSKS1u0n8x",
    "tags": [
     "header"
    ]
   },
   "source": [
    "# Scikit-learn + Neptune"
   ]
  },
  {
   "cell_type": "markdown",
   "metadata": {
    "id": "ekPpb4Kte9ji",
    "tags": [
     "comment"
    ]
   },
   "source": [
    "Neptune helps you keep track of your machine learning runs and if you are using scikit-learn you can add tracking very easily.\n",
    "\n",
    "This quickstart will show you how to (using just single function) log scikit-learn:\n",
    "\n",
    "* regression summary,\n",
    "* classification summary,\n",
    "* kmeans clustering summary."
   ]
  },
  {
   "cell_type": "markdown",
   "metadata": {
    "id": "89TinKJle9jj",
    "tags": [
     "header"
    ]
   },
   "source": [
    "## Before you start"
   ]
  },
  {
   "cell_type": "markdown",
   "metadata": {
    "id": "Hj_U8LGye9jj",
    "tags": [
     "header"
    ]
   },
   "source": [
    "### Install dependencies"
   ]
  },
  {
   "cell_type": "code",
   "execution_count": null,
   "metadata": {
    "colab": {
     "base_uri": "https://localhost:8080/"
    },
    "id": "DO7yawFVxVIt",
    "outputId": "2011fa0b-604d-436b-d80f-bb26c7f1d0df",
    "tags": [
     "installation"
    ]
   },
   "outputs": [],
   "source": [
    "! pip install neptune-client neptune-sklearn scikit-learn==0.24.1"
   ]
  },
  {
   "cell_type": "markdown",
   "metadata": {
    "id": "ZL0tT2jDe9jl",
    "tags": [
     "header"
    ]
   },
   "source": [
    "## Scikit-learn regression"
   ]
  },
  {
   "cell_type": "markdown",
   "metadata": {
    "id": "LxutQKQCe9jl",
    "tags": [
     "header"
    ]
   },
   "source": [
    "### Step 1: Create and fit random forest regressor"
   ]
  },
  {
   "cell_type": "markdown",
   "metadata": {
    "id": "KBPGHtgMe9jl",
    "tags": [
     "comment"
    ]
   },
   "source": [
    "Define regressor parameters, that will be later passed to Neptune."
   ]
  },
  {
   "cell_type": "code",
   "execution_count": null,
   "metadata": {
    "id": "WSNdC_dne9jn",
    "tags": [
     "code"
    ]
   },
   "outputs": [],
   "source": [
    "parameters = {\"n_estimators\": 70, \"max_depth\": 7, \"min_samples_split\": 3}"
   ]
  },
  {
   "cell_type": "markdown",
   "metadata": {
    "id": "i2dutvwXe9jn",
    "tags": [
     "comment"
    ]
   },
   "source": [
    "Create and fit regressor."
   ]
  },
  {
   "cell_type": "code",
   "execution_count": null,
   "metadata": {
    "colab": {
     "base_uri": "https://localhost:8080/"
    },
    "id": "oYhmJQwZe9jo",
    "outputId": "9a0a5433-7319-42e0-b781-918c9ca9b366",
    "tags": [
     "code"
    ]
   },
   "outputs": [],
   "source": [
    "from sklearn.datasets import load_boston\n",
    "from sklearn.ensemble import RandomForestRegressor\n",
    "from sklearn.model_selection import train_test_split\n",
    "\n",
    "rfr = RandomForestRegressor(**parameters)\n",
    "\n",
    "X, y = load_boston(return_X_y=True)\n",
    "X_train, X_test, y_train, y_test = train_test_split(\n",
    "    X, y, test_size=0.20, random_state=28743\n",
    ")\n",
    "\n",
    "rfr.fit(X_train, y_train)"
   ]
  },
  {
   "cell_type": "markdown",
   "metadata": {
    "id": "7LFLtV5R5JKT",
    "tags": [
     "header"
    ]
   },
   "source": [
    "### Step 2: Initialize Neptune"
   ]
  },
  {
   "cell_type": "markdown",
   "metadata": {
    "id": "7nW93n9Be9jp",
    "tags": [
     "comment"
    ]
   },
   "source": [
    "Connect your script to Neptune application and create new run."
   ]
  },
  {
   "cell_type": "code",
   "execution_count": null,
   "metadata": {
    "colab": {
     "base_uri": "https://localhost:8080/"
    },
    "id": "XMdpj-Se4t0U",
    "outputId": "a5f0e00f-c635-4a3e-9085-effc14813de4",
    "tags": [
     "code"
    ]
   },
   "outputs": [],
   "source": [
    "import neptune.new as neptune\n",
    "\n",
    "run = neptune.init(\n",
    "    project=\"common/sklearn-integration\",\n",
    "    api_token=\"ANONYMOUS\",\n",
    "    name=\"regression-example\",\n",
    "    tags=[\"RandomForestRegressor\", \"regression\"],\n",
    ")"
   ]
  },
  {
   "cell_type": "markdown",
   "metadata": {
    "id": "SlIvyMCRe9jq",
    "tags": [
     "comment"
    ]
   },
   "source": [
    "Click on the link above to open this run in Neptune. For now it is empty but keep the tab with run open to see what happens next."
   ]
  },
  {
   "cell_type": "markdown",
   "metadata": {
    "id": "NrQodtF-e9jq",
    "tags": [
     "comment"
    ]
   },
   "source": [
    "You tell Neptune: \n",
    "\n",
    "* **who you are**: your Neptune API token `api_token` \n",
    "* **where you want to send your data**: your Neptune `project`.\n",
    "\n",
    "At this point you have new run in Neptune. For now on you will use `run` to log metadata to it.\n",
    "\n",
    "---\n",
    "\n",
    "**Note**\n",
    "\n",
    "\n",
    "Instead of logging data to the public project `'common/sklearn-integration'` as an anonymous user 'neptuner' you can log it to your own project.\n",
    "\n",
    "To do that:\n",
    "\n",
    "1. Get your [Neptune API token](https://docs.neptune.ai/getting-started/installation#get-api-token)\n",
    "2. Pass the token to ``api_token`` argument of ``neptune.init()`` method: ``api_token=YOUR_API_TOKEN``\n",
    "3. Pass your project to the ``project`` argument of the ``neptune.init()``.\n",
    "\n",
    "For example:\n",
    "\n",
    "```python\n",
    "neptune.init(project='my_workspace/my_project', \n",
    "             api_token='MY_API_TOKEN')\n",
    "```"
   ]
  },
  {
   "cell_type": "markdown",
   "metadata": {
    "id": "AW4MM4qj5ErX",
    "tags": [
     "header"
    ]
   },
   "source": [
    "### Step 3: Log regressor summary"
   ]
  },
  {
   "cell_type": "code",
   "execution_count": null,
   "metadata": {
    "id": "GvDSBSrOx-R4",
    "tags": [
     "code"
    ]
   },
   "outputs": [],
   "source": [
    "import neptune.new.integrations.sklearn as npt_utils\n",
    "\n",
    "run[\"rfr_summary\"] = npt_utils.create_regressor_summary(\n",
    "    rfr, X_train, X_test, y_train, y_test\n",
    ")"
   ]
  },
  {
   "cell_type": "markdown",
   "metadata": {
    "id": "u2quQZEue9jr",
    "tags": [
     "comment"
    ]
   },
   "source": [
    "You just logged information about the regressor, including:\n",
    "\n",
    "* [logged regressor parameters](https://app.neptune.ai/o/common/org/sklearn-integration/e/SKLEAR-92/all?path=rfr_summary%2Fall_params),\n",
    "* [logged pickled model](https://app.neptune.ai/o/common/org/sklearn-integration/e/SKLEAR-92/all?path=rfr_summary%2F&attribute=pickled_model),\n",
    "* [logged test predictions](https://app.neptune.ai/o/common/org/sklearn-integration/e/SKLEAR-92/all?path=rfr_summary%2Ftest&attribute=preds),\n",
    "* [logged test scores](https://app.neptune.ai/o/common/org/sklearn-integration/e/SKLEAR-92/all?path=rfr_summary%2Ftest%2Fscores),\n",
    "* [logged regressor visualizations](https://app.neptune.ai/o/common/org/sklearn-integration/e/SKLEAR-92/all?path=rfr_summary%2Fdiagnostics_charts&attribute=feature_importance),\n",
    "* [logged metadata](https://app.neptune.ai/o/common/org/sklearn-integration/e/SKLEAR-92/all?path=sys),\n",
    "* [logged code and git metadata](https://app.neptune.ai/o/common/org/sklearn-integration/e/SKLEAR-92/source-code?file=main.py)."
   ]
  },
  {
   "cell_type": "markdown",
   "metadata": {
    "id": "ta6VcI8z6DvM",
    "tags": [
     "header"
    ]
   },
   "source": [
    "### Step 4: Explore results"
   ]
  },
  {
   "cell_type": "markdown",
   "metadata": {
    "id": "gi-GeHrIe9jr",
    "tags": [
     "comment"
    ]
   },
   "source": [
    "You just learned how to log scikit-learn regression summary to Neptune using single function.\n",
    "\n",
    "Click on the link that was outputted to the console or [go here](https://app.neptune.ai/o/common/org/sklearn-integration/e/SKLEAR-92/all) to explore a run similar to yours. In particular check:\n",
    "\n",
    "* [logged regressor parameters](https://app.neptune.ai/o/common/org/sklearn-integration/e/SKLEAR-92/all?path=rfr_summary%2Fall_params),\n",
    "* [logged pickled model](https://app.neptune.ai/o/common/org/sklearn-integration/e/SKLEAR-92/all?path=rfr_summary%2F&attribute=pickled_model),\n",
    "* [logged test predictions](https://app.neptune.ai/o/common/org/sklearn-integration/e/SKLEAR-92/all?path=rfr_summary%2Ftest&attribute=preds),\n",
    "* [logged test scores](https://app.neptune.ai/o/common/org/sklearn-integration/e/SKLEAR-92/all?path=rfr_summary%2Ftest%2Fscores),\n",
    "* [logged regressor visualizations](https://app.neptune.ai/o/common/org/sklearn-integration/e/SKLEAR-92/all?path=rfr_summary%2Fdiagnostics_charts&attribute=feature_importance),\n",
    "* [logged metadata](https://app.neptune.ai/o/common/org/sklearn-integration/e/SKLEAR-92/all?path=sys),\n",
    "* [logged code and git metadata](https://app.neptune.ai/o/common/org/sklearn-integration/e/SKLEAR-92/source-code?file=main.py)."
   ]
  },
  {
   "cell_type": "markdown",
   "metadata": {
    "id": "T75GndU-f9HQ"
   },
   "source": [
    "### Step 5: Stop logging\n",
    "\n",
    "<font color=red>**Warning:**</font><br>\n",
    "Once you are done logging, you should stop tracking the run using the `stop()` method.\n",
    "This is needed only while logging from a notebook environment. While logging through a script, Neptune automatically stops tracking once the script has completed execution."
   ]
  },
  {
   "cell_type": "code",
   "execution_count": null,
   "metadata": {
    "id": "e0u7QQ87gFgV"
   },
   "outputs": [],
   "source": [
    "run.stop()"
   ]
  },
  {
   "cell_type": "markdown",
   "metadata": {
    "id": "LQqfY5D_e9js",
    "tags": [
     "header"
    ]
   },
   "source": [
    "## Scikit-learn classification"
   ]
  },
  {
   "cell_type": "markdown",
   "metadata": {
    "id": "jC3LenqLe9js",
    "tags": [
     "header"
    ]
   },
   "source": [
    "### Step 1: Create and fit gradient boosting classifier"
   ]
  },
  {
   "cell_type": "markdown",
   "metadata": {
    "id": "1Uyyz9o7e9js",
    "tags": [
     "comment"
    ]
   },
   "source": [
    "Define classifier parameters, that will be later passed to Neptune."
   ]
  },
  {
   "cell_type": "code",
   "execution_count": null,
   "metadata": {
    "id": "o8Stieyje9js",
    "tags": [
     "code"
    ]
   },
   "outputs": [],
   "source": [
    "parameters = {\n",
    "    \"n_estimators\": 120,\n",
    "    \"learning_rate\": 0.12,\n",
    "    \"min_samples_split\": 3,\n",
    "    \"min_samples_leaf\": 2,\n",
    "}"
   ]
  },
  {
   "cell_type": "markdown",
   "metadata": {
    "id": "mPjRu3F4e9js",
    "tags": [
     "comment"
    ]
   },
   "source": [
    "Create and fit regressor."
   ]
  },
  {
   "cell_type": "code",
   "execution_count": null,
   "metadata": {
    "colab": {
     "base_uri": "https://localhost:8080/"
    },
    "id": "W7dylNTqe9jt",
    "outputId": "7ad8ba90-7a96-454a-94fe-be5c29dd5f88",
    "tags": [
     "code"
    ]
   },
   "outputs": [],
   "source": [
    "from sklearn.datasets import load_digits\n",
    "from sklearn.ensemble import GradientBoostingClassifier\n",
    "from sklearn.model_selection import train_test_split\n",
    "\n",
    "gbc = GradientBoostingClassifier(**parameters)\n",
    "\n",
    "X, y = load_digits(return_X_y=True)\n",
    "X_train, X_test, y_train, y_test = train_test_split(\n",
    "    X, y, test_size=0.20, random_state=28743\n",
    ")\n",
    "\n",
    "gbc.fit(X_train, y_train)"
   ]
  },
  {
   "cell_type": "markdown",
   "metadata": {
    "id": "7Q0gjOzie9jt",
    "tags": [
     "header"
    ]
   },
   "source": [
    "### Step 2: Initialize Neptune"
   ]
  },
  {
   "cell_type": "markdown",
   "metadata": {
    "id": "SrDOWfz1e9jt",
    "tags": [
     "comment"
    ]
   },
   "source": [
    "Connect your script to Neptune application and create new run."
   ]
  },
  {
   "cell_type": "code",
   "execution_count": null,
   "metadata": {
    "colab": {
     "base_uri": "https://localhost:8080/"
    },
    "id": "K1y3WjbQe9jt",
    "outputId": "0f69883e-1140-466f-9b00-0fe776da82b2",
    "tags": [
     "code"
    ]
   },
   "outputs": [],
   "source": [
    "import neptune.new as neptune\n",
    "\n",
    "run = neptune.init(\n",
    "    project=\"common/sklearn-integration\",\n",
    "    api_token=\"ANONYMOUS\",\n",
    "    name=\"classification-example\",\n",
    "    tags=[\"GradientBoostingClassifier\", \"classification\"],\n",
    ")"
   ]
  },
  {
   "cell_type": "markdown",
   "metadata": {
    "id": "dmfqS17fe9jt",
    "tags": [
     "comment"
    ]
   },
   "source": [
    "Click on the link above to open this run in Neptune. For now it is empty but keep the tab with run open to see what happens next."
   ]
  },
  {
   "cell_type": "markdown",
   "metadata": {
    "id": "8iUIqE_qe9ju",
    "tags": [
     "comment"
    ]
   },
   "source": [
    "You tell Neptune: \n",
    "\n",
    "* **who you are**: your Neptune API token `api_token` \n",
    "* **where you want to send your data**: your Neptune `project`.\n",
    "\n",
    "At this point you have new run in Neptune. For now on you will use `run` to log metadata to it.\n",
    "\n",
    "---\n",
    "\n",
    "**Note**\n",
    "\n",
    "\n",
    "Instead of logging data to the public project `'common/sklearn-integration'` as an anonymous user 'neptuner' you can log it to your own project.\n",
    "\n",
    "To do that:\n",
    "\n",
    "1. Get your [Neptune API token](https://docs.neptune.ai/getting-started/installation#get-api-token)\n",
    "2. Pass the token to ``api_token`` argument of ``neptune.init()`` method: ``api_token=YOUR_API_TOKEN``\n",
    "3. Pass your project to the ``project`` argument of the ``neptune.init()``.\n",
    "\n",
    "For example:\n",
    "\n",
    "```python\n",
    "neptune.init(project='my_workspace/my_project', \n",
    "             api_token='MY_API_TOKEN')\n",
    "```"
   ]
  },
  {
   "cell_type": "markdown",
   "metadata": {
    "id": "OdIXqiE3e9ju",
    "tags": [
     "header"
    ]
   },
   "source": [
    "### Step 3: Log classifier summary"
   ]
  },
  {
   "cell_type": "code",
   "execution_count": null,
   "metadata": {
    "id": "4MGosqCSe9ju",
    "tags": [
     "code"
    ]
   },
   "outputs": [],
   "source": [
    "import neptune.new.integrations.sklearn as npt_utils\n",
    "\n",
    "run[\"cls_summary\"] = npt_utils.create_classifier_summary(\n",
    "    gbc, X_train, X_test, y_train, y_test\n",
    ")"
   ]
  },
  {
   "cell_type": "markdown",
   "metadata": {
    "id": "T0YG7Uece9jv",
    "tags": [
     "comment"
    ]
   },
   "source": [
    "You just logged information about the classifier, including:\n",
    "\n",
    "* [logged classifier parameters](https://app.neptune.ai/o/common/org/sklearn-integration/e/SKLEAR-95/all?path=cls_summary%2Fall_params),\n",
    "* [logged pickled model](https://app.neptune.ai/o/common/org/sklearn-integration/e/SKLEAR-95/all?path=cls_summary%2F&attribute=pickled_model),\n",
    "* [logged test predictions](https://app.neptune.ai/o/common/org/sklearn-integration/e/SKLEAR-95/all?path=cls_summary%2Ftest&attribute=preds),\n",
    "* [logged test predictions probabilities](https://app.neptune.ai/o/common/org/sklearn-integration/e/SKLEAR-95/all?path=cls_summary%2Ftest&attribute=preds_proba),\n",
    "* [logged test scores](https://app.neptune.ai/o/common/org/sklearn-integration/e/SKLEAR-95/all?path=cls_summary%2Ftest%2Fscores%2F),\n",
    "* [logged classifier visualizations](https://app.neptune.ai/o/common/org/sklearn-integration/e/SKLEAR-95/all?path=cls_summary%2Fdiagnostics_charts&attribute=class_prediction_error),\n",
    "* [logged metadata](https://app.neptune.ai/o/common/org/sklearn-integration/e/SKLEAR-95/all?path=sys),\n",
    "* [logged code and git metadata](https://app.neptune.ai/o/common/org/sklearn-integration/e/SKLEAR-95/source-code?file=main.py&filePath=integrations%2Fsklearn%2F)."
   ]
  },
  {
   "cell_type": "markdown",
   "metadata": {
    "id": "pApl9JJre9jv",
    "tags": [
     "header"
    ]
   },
   "source": [
    "### Step 4: Explore Results"
   ]
  },
  {
   "cell_type": "markdown",
   "metadata": {
    "id": "_EkoxdS-e9jv",
    "tags": [
     "comment"
    ]
   },
   "source": [
    "You just learned how to log scikit-learn classification summary to Neptune using single function.\n",
    "\n",
    "Click on the link that was outputted to the console or [go here](https://app.neptune.ai/o/common/org/sklearn-integration/e/SKLEAR-95/allhttps://ui.neptune.ai/o/shared/org/sklearn-integration/e/SKLEARN-312/charts) to explore a run similar to yours. In particular check:\n",
    "\n",
    "* [logged classifier parameters](https://app.neptune.ai/o/common/org/sklearn-integration/e/SKLEAR-95/all?path=cls_summary%2Fall_params),\n",
    "* [logged pickled model](https://app.neptune.ai/o/common/org/sklearn-integration/e/SKLEAR-95/all?path=cls_summary%2F&attribute=pickled_model),\n",
    "* [logged test predictions](https://app.neptune.ai/o/common/org/sklearn-integration/e/SKLEAR-95/all?path=cls_summary%2Ftest&attribute=preds),\n",
    "* [logged test predictions probabilities](https://app.neptune.ai/o/common/org/sklearn-integration/e/SKLEAR-95/all?path=cls_summary%2Ftest&attribute=preds_proba),\n",
    "* [logged test scores](https://app.neptune.ai/o/common/org/sklearn-integration/e/SKLEAR-95/all?path=cls_summary%2Ftest%2Fscores%2F),\n",
    "* [logged classifier visualizations](https://app.neptune.ai/o/common/org/sklearn-integration/e/SKLEAR-95/all?path=cls_summary%2Fdiagnostics_charts&attribute=class_prediction_error),\n",
    "* [logged metadata](https://app.neptune.ai/o/common/org/sklearn-integration/e/SKLEAR-95/all?path=sys),\n",
    "* [logged code and git metadata](https://app.neptune.ai/o/common/org/sklearn-integration/e/SKLEAR-95/source-code?file=main.py&filePath=integrations%2Fsklearn%2F)."
   ]
  },
  {
   "cell_type": "markdown",
   "metadata": {
    "id": "5ZLOht-lgKc_"
   },
   "source": [
    "### Step 5: Stop logging\n",
    "\n",
    "<font color=red>**Warning:**</font><br>\n",
    "Once you are done logging, you should stop tracking the run using the `stop()` method.\n",
    "This is needed only while logging from a notebook environment. While logging through a script, Neptune automatically stops tracking once the script has completed execution."
   ]
  },
  {
   "cell_type": "code",
   "execution_count": null,
   "metadata": {
    "id": "IyTKLeflgKdA"
   },
   "outputs": [],
   "source": [
    "run.stop()"
   ]
  },
  {
   "cell_type": "markdown",
   "metadata": {
    "id": "4evP3oZLe9jv",
    "tags": [
     "header"
    ]
   },
   "source": [
    "## Scikit-learn KMeans clustering"
   ]
  },
  {
   "cell_type": "markdown",
   "metadata": {
    "id": "Bxr5TTy8e9jw",
    "tags": [
     "header"
    ]
   },
   "source": [
    "### Step 1: Create KMeans object and example data"
   ]
  },
  {
   "cell_type": "markdown",
   "metadata": {
    "id": "SmD5Wr1oe9jw",
    "tags": [
     "comment"
    ]
   },
   "source": [
    "Define KMeans clustering parameters, that will be later passed to Neptune."
   ]
  },
  {
   "cell_type": "code",
   "execution_count": null,
   "metadata": {
    "id": "byDHm4PFe9jw",
    "tags": [
     "code"
    ]
   },
   "outputs": [],
   "source": [
    "parameters = {\"n_init\": 11, \"max_iter\": 270}"
   ]
  },
  {
   "cell_type": "markdown",
   "metadata": {
    "id": "3xKEvQI3e9jw",
    "tags": [
     "comment"
    ]
   },
   "source": [
    "Create and fit KMeans model."
   ]
  },
  {
   "cell_type": "code",
   "execution_count": null,
   "metadata": {
    "id": "lRALTF9Qe9jw",
    "tags": [
     "code"
    ]
   },
   "outputs": [],
   "source": [
    "from sklearn.datasets import make_blobs\n",
    "from sklearn.cluster import KMeans\n",
    "\n",
    "km = KMeans(**parameters)\n",
    "\n",
    "X, y = make_blobs(n_samples=579, n_features=17, centers=7, random_state=28743)"
   ]
  },
  {
   "cell_type": "markdown",
   "metadata": {
    "id": "JsxJZT7ze9jx",
    "tags": [
     "header"
    ]
   },
   "source": [
    "### Step 2: Initialize Neptune"
   ]
  },
  {
   "cell_type": "markdown",
   "metadata": {
    "id": "zXAI_D-he9jx",
    "tags": [
     "comment"
    ]
   },
   "source": [
    "Connect your script to Neptune application and create new run."
   ]
  },
  {
   "cell_type": "code",
   "execution_count": null,
   "metadata": {
    "colab": {
     "base_uri": "https://localhost:8080/"
    },
    "id": "lGN7vBOVe9jx",
    "outputId": "223ce55e-e07a-4c08-bef7-b9bf55e0b67a",
    "tags": [
     "code"
    ]
   },
   "outputs": [],
   "source": [
    "import neptune.new as neptune\n",
    "\n",
    "run = neptune.init(\n",
    "    project=\"common/sklearn-integration\",\n",
    "    api_token=\"ANONYMOUS\",\n",
    "    name=\"clustering-example\",\n",
    "    tags=[\"KMeans\", \"clustering\"],\n",
    ")"
   ]
  },
  {
   "cell_type": "markdown",
   "metadata": {
    "id": "k0GwAC3Ze9jy",
    "tags": [
     "comment"
    ]
   },
   "source": [
    "Click on the link above to open this run in Neptune. For now it is empty but keep the tab with run open to see what happens next."
   ]
  },
  {
   "cell_type": "markdown",
   "metadata": {
    "id": "Kl-SWsbve9jy",
    "tags": [
     "comment"
    ]
   },
   "source": [
    "You tell Neptune: \n",
    "\n",
    "* **who you are**: your Neptune API token `api_token` \n",
    "* **where you want to send your data**: your Neptune `project`.\n",
    "\n",
    "At this point you have new run in Neptune. For now on you will use `run` to log metadata to it.\n",
    "\n",
    "---\n",
    "\n",
    "**Note**\n",
    "\n",
    "\n",
    "Instead of logging data to the public project `'common/sklearn-integration'` as an anonymous user 'neptuner' you can log it to your own project.\n",
    "\n",
    "To do that:\n",
    "\n",
    "1. Get your [Neptune API token](https://docs.neptune.ai/getting-started/installation#get-api-token)\n",
    "2. Pass the token to ``api_token`` argument of ``neptune.init()`` method: ``api_token=YOUR_API_TOKEN``\n",
    "3. Pass your project to the ``project`` argument of the ``neptune.init()``.\n",
    "\n",
    "For example:\n",
    "\n",
    "```python\n",
    "neptune.init(project='my_workspace/my_project', \n",
    "             api_token='MY_API_TOKEN')\n",
    "```"
   ]
  },
  {
   "cell_type": "markdown",
   "metadata": {
    "id": "-0vaDLgpe9jy",
    "tags": [
     "header"
    ]
   },
   "source": [
    "### Step 3: Log KMeans clustering summary"
   ]
  },
  {
   "cell_type": "code",
   "execution_count": null,
   "metadata": {
    "id": "WK9ebOvze9jy",
    "tags": [
     "code"
    ]
   },
   "outputs": [],
   "source": [
    "import neptune.new.integrations.sklearn as npt_utils\n",
    "\n",
    "run[\"kmeans_summary\"] = npt_utils.create_kmeans_summary(km, X, n_clusters=17)"
   ]
  },
  {
   "cell_type": "markdown",
   "metadata": {
    "id": "1Z3Mxy4Xe9jz",
    "tags": [
     "comment"
    ]
   },
   "source": [
    "You just logged information about the KMeans clustering, including:\n",
    "\n",
    "* [logged KMeans parameters](https://app.neptune.ai/o/common/org/sklearn-integration/e/SKLEAR-96/all?path=kmeans_summary%2Fall_params),\n",
    "* [logged cluster labels](https://app.neptune.ai/o/common/org/sklearn-integration/e/SKLEAR-96/all?path=kmeans_summary%2F&attribute=cluster_labels),\n",
    "* [logged KMeans clustering visualizations](https://app.neptune.ai/o/common/org/sklearn-integration/e/SKLEAR-96/all?path=kmeans_summary%2Fdiagnostics_charts&attribute=silhouette),\n",
    "* [logged metadata](https://app.neptune.ai/o/common/org/sklearn-integration/e/SKLEAR-96/all?path=sys),\n",
    "* [logged code and git metadata](https://app.neptune.ai/o/common/org/sklearn-integration/e/SKLEAR-96/source-code?file=main.py&filePath=integrations%2Fsklearn%2F)."
   ]
  },
  {
   "cell_type": "markdown",
   "metadata": {
    "id": "D4PmBLMPe9jz",
    "tags": [
     "header"
    ]
   },
   "source": [
    "### Step 4: Explore Results"
   ]
  },
  {
   "cell_type": "markdown",
   "metadata": {
    "id": "EejfxdZAe9jz",
    "tags": [
     "comment"
    ]
   },
   "source": [
    "You just learned how to log scikit-learn KMeans clustering summary to Neptune using single function.\n",
    "\n",
    "Click on the link that was outputted to the console or [go here](https://app.neptune.ai/o/common/org/sklearn-integration/e/SKLEAR-96/all) to explore a run similar to yours. In particular check:\n",
    "\n",
    "* [logged KMeans parameters](https://app.neptune.ai/o/common/org/sklearn-integration/e/SKLEAR-96/all?path=kmeans_summary%2Fall_params),\n",
    "* [logged cluster labels](https://app.neptune.ai/o/common/org/sklearn-integration/e/SKLEAR-96/all?path=kmeans_summary%2F&attribute=cluster_labels),\n",
    "* [logged KMeans clustering visualizations](https://app.neptune.ai/o/common/org/sklearn-integration/e/SKLEAR-96/all?path=kmeans_summary%2Fdiagnostics_charts&attribute=silhouette),\n",
    "* [logged metadata](https://app.neptune.ai/o/common/org/sklearn-integration/e/SKLEAR-96/all?path=sys),\n",
    "* [logged code and git metadata](https://app.neptune.ai/o/common/org/sklearn-integration/e/SKLEAR-96/source-code?file=main.py&filePath=integrations%2Fsklearn%2F)."
   ]
  },
  {
   "cell_type": "markdown",
   "metadata": {
    "id": "zc5gBjb_gNlP"
   },
   "source": [
    "### Step 5: Stop logging\n",
    "\n",
    "<font color=red>**Warning:**</font><br>\n",
    "Once you are done logging, you should stop tracking the run using the `stop()` method.\n",
    "This is needed only while logging from a notebook environment. While logging through a script, Neptune automatically stops tracking once the script has completed execution."
   ]
  },
  {
   "cell_type": "code",
   "execution_count": null,
   "metadata": {
    "id": "l1FmcsPfgNlQ"
   },
   "outputs": [],
   "source": [
    "run.stop()"
   ]
  },
  {
   "cell_type": "markdown",
   "metadata": {
    "id": "gt1IGqWpe9jz",
    "tags": [
     "header"
    ]
   },
   "source": [
    "## Other logging options"
   ]
  },
  {
   "cell_type": "markdown",
   "metadata": {
    "id": "yfZoejN6e9jz",
    "tags": [
     "comment"
    ]
   },
   "source": [
    "Neptune-Sklearn integration also lets you log only specific metadata of your choice, by using additional methods.\n",
    "\n",
    "Below are few examples, visit [sklean integration documentation](https://docs.neptune.ai/integrations-and-supported-tools/model-training/sklearn) for the full example."
   ]
  },
  {
   "cell_type": "markdown",
   "metadata": {
    "id": "1EO3t_o6e9j0",
    "tags": [
     "header"
    ]
   },
   "source": [
    "### Before you start: create and fit gradient boosting classifier"
   ]
  },
  {
   "cell_type": "code",
   "execution_count": null,
   "metadata": {
    "colab": {
     "base_uri": "https://localhost:8080/"
    },
    "id": "5dROSY-ie9j0",
    "outputId": "42153aa5-f530-4391-be91-5a2935da54d5",
    "tags": [
     "code"
    ]
   },
   "outputs": [],
   "source": [
    "from sklearn.ensemble import RandomForestClassifier\n",
    "\n",
    "rfc = RandomForestClassifier()\n",
    "\n",
    "X, y = load_digits(return_X_y=True)\n",
    "X_train, X_test, y_train, y_test = train_test_split(\n",
    "    X, y, test_size=0.20, random_state=28743\n",
    ")\n",
    "\n",
    "rfc.fit(X_train, y_train)"
   ]
  },
  {
   "cell_type": "markdown",
   "metadata": {
    "id": "fYU7-vJhe9j0",
    "tags": [
     "header"
    ]
   },
   "source": [
    "### Import sklearn integration that will be used below, and create new run"
   ]
  },
  {
   "cell_type": "code",
   "execution_count": null,
   "metadata": {
    "colab": {
     "base_uri": "https://localhost:8080/"
    },
    "id": "crV9I4bee9j0",
    "outputId": "2694a292-b626-49eb-f877-92ba92abc1db",
    "tags": [
     "code"
    ]
   },
   "outputs": [],
   "source": [
    "import neptune.new.integrations.sklearn as npt_utils\n",
    "\n",
    "run = neptune.init(\n",
    "    project=\"common/sklearn-integration\", api_token=\"ANONYMOUS\", name=\"other-options\"\n",
    ")"
   ]
  },
  {
   "cell_type": "markdown",
   "metadata": {
    "id": "pAtU3KfZe9j0",
    "tags": [
     "comment"
    ]
   },
   "source": [
    "Open link above to see the metadata logging results, as we add them below."
   ]
  },
  {
   "cell_type": "markdown",
   "metadata": {
    "id": "XypNAjqee9j1",
    "tags": [
     "header"
    ]
   },
   "source": [
    "### Log estimator parameters"
   ]
  },
  {
   "cell_type": "code",
   "execution_count": null,
   "metadata": {
    "id": "6uh-VNjye9j1",
    "tags": [
     "code"
    ]
   },
   "outputs": [],
   "source": [
    "run[\"estimator/parameters\"] = npt_utils.get_estimator_params(rfc)"
   ]
  },
  {
   "cell_type": "markdown",
   "metadata": {
    "id": "5Nwnoegme9j1",
    "tags": [
     "header"
    ]
   },
   "source": [
    "### Log model"
   ]
  },
  {
   "cell_type": "code",
   "execution_count": null,
   "metadata": {
    "id": "okEor76we9j1",
    "tags": [
     "code"
    ]
   },
   "outputs": [],
   "source": [
    "run[\"estimator/pickled-model\"] = npt_utils.get_pickled_model(rfc)"
   ]
  },
  {
   "cell_type": "markdown",
   "metadata": {
    "id": "o9ey3fF0e9j1",
    "tags": [
     "header"
    ]
   },
   "source": [
    "### Log confusion matrix"
   ]
  },
  {
   "cell_type": "code",
   "execution_count": null,
   "metadata": {
    "id": "34JN1wZ8e9j1",
    "tags": [
     "code"
    ]
   },
   "outputs": [],
   "source": [
    "run[\"confusion-matrix\"] = npt_utils.create_confusion_matrix_chart(\n",
    "    rfc, X_train, X_test, y_train, y_test\n",
    ")"
   ]
  },
  {
   "cell_type": "markdown",
   "metadata": {
    "id": "_vHq2txTgPiG"
   },
   "source": [
    "### Stop logging\n",
    "\n",
    "<font color=red>**Warning:**</font><br>\n",
    "Once you are done logging, you should stop tracking the run using the `stop()` method.\n",
    "This is needed only while logging from a notebook environment. While logging through a script, Neptune automatically stops tracking once the script has completed execution."
   ]
  },
  {
   "cell_type": "code",
   "execution_count": null,
   "metadata": {
    "id": "LQUZhvKQgPiH"
   },
   "outputs": [],
   "source": [
    "run.stop()"
   ]
  }
 ],
 "metadata": {
  "colab": {
   "collapsed_sections": [],
   "name": "Neptune_Scikit_learn.ipynb",
   "provenance": [],
   "toc_visible": true
  },
  "kernelspec": {
   "display_name": "Python 3",
   "language": "python",
   "name": "python3"
  },
  "language_info": {
   "codemirror_mode": {
    "name": "ipython",
    "version": 3
   },
   "file_extension": ".py",
   "mimetype": "text/x-python",
   "name": "python",
   "nbconvert_exporter": "python",
   "pygments_lexer": "ipython3",
   "version": "3.7.7"
  },
  "widgets": {
   "application/vnd.jupyter.widget-state+json": {
    "state": {},
    "version_major": 2,
    "version_minor": 0
   }
  }
 },
 "nbformat": 4,
 "nbformat_minor": 4
}
