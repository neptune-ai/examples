{
 "cells": [
  {
   "cell_type": "markdown",
   "metadata": {
    "id": "C73PO_vy-cbf"
   },
   "source": [
    "# Using Neptune with pandas\n",
    "[pandas](https://pandas.pydata.org/)  is a popular open-source data analysis and manipulation tool. With Neptune, you can log and visualize pandas DataFrames.\n",
    "\n",
    "[See this example in Neptune](https://app.neptune.ai/o/common/org/showroom/runs/details?viewId=standard-view&detailsTab=metadata&shortId=SHOW-33019&type=run&path=data%2F&attribute=iris-df-csv)"
   ]
  },
  {
   "cell_type": "markdown",
   "metadata": {
    "id": "I-J31qXAc8pE"
   },
   "source": [
    "## Before you start\n",
    "\n",
    "This notebook example lets you try out Neptune anonymously, with zero setup.\n",
    "\n",
    "If you want to see the example logged to your own workspace instead:\n",
    "\n",
    "  1. Create a Neptune account. [Register &rarr;](https://neptune.ai/register)\n",
    "  1. Create a Neptune project that you will use for tracking metadata. For instructions, see [Creating a project](https://docs.neptune.ai/setup/creating_project) in the Neptune docs."
   ]
  },
  {
   "cell_type": "markdown",
   "metadata": {
    "id": "GIpJx9h4c_2C"
   },
   "source": [
    "## Install Neptune and dependencies"
   ]
  },
  {
   "cell_type": "code",
   "execution_count": null,
   "metadata": {
    "colab": {
     "base_uri": "https://localhost:8080/"
    },
    "id": "KzTgGiQyZVe7",
    "outputId": "f46fde39-67ac-4056-bfd1-de3be3f29f55"
   },
   "outputs": [],
   "source": [
    "%pip install neptune pandas"
   ]
  },
  {
   "cell_type": "markdown",
   "metadata": {
    "id": "X5EO1JsC9SB3"
   },
   "source": [
    "## Import libraries"
   ]
  },
  {
   "cell_type": "code",
   "execution_count": null,
   "metadata": {
    "id": "yEQYykaxaTVl"
   },
   "outputs": [],
   "source": [
    "import neptune\n",
    "import pandas as pd"
   ]
  },
  {
   "cell_type": "markdown",
   "metadata": {
    "id": "6w6kZ3P8ckSN"
   },
   "source": [
    "## (Neptune) Start a run\n",
    "\n",
    "To create a new run for tracking the metadata, you tell Neptune who you are (`api_token`) and where to send the data (`project`).\n",
    "\n",
    "You can use the default code cell below to create an anonymous run in a public project. **Note**: Public projects are cleaned regularly, so anonymous runs are only stored temporarily.\n",
    "\n",
    "### Log to your own project instead\n",
    "\n",
    "Replace the code below with the following:\n",
    "\n",
    "```python\n",
    "import neptune\n",
    "from getpass import getpass\n",
    "\n",
    "run = neptune.init_run(\n",
    "    project=\"workspace-name/project-name\",  # replace with your own (see instructions below)\n",
    "    api_token=getpass(\"Enter your Neptune API token: \"),\n",
    ")\n",
    "```\n",
    "\n",
    "To find your API token and full project name:\n",
    "\n",
    "1. [Log in to Neptune](https://app.neptune.ai/).\n",
    "1. In the bottom-left corner, expand your user menu and select **Get your API token**.\n",
    "1. The workspace name is displayed in the top-left corner of the app. To copy the project path, in the top-right corner, open the settings menu and select **Properties**.\n",
    "\n",
    "For more help, see [Setting Neptune credentials](https://docs.neptune.ai/setup/setting_credentials) in the Neptune docs."
   ]
  },
  {
   "cell_type": "code",
   "execution_count": null,
   "metadata": {
    "colab": {
     "base_uri": "https://localhost:8080/"
    },
    "id": "HJsLGwJLaXmg",
    "outputId": "909068f7-339a-41ad-ab76-e6f93e50847b"
   },
   "outputs": [],
   "source": [
    "run = neptune.init_run(\n",
    "    project=\"common/pandas-support\",\n",
    "    api_token=neptune.ANONYMOUS_API_TOKEN,\n",
    ")"
   ]
  },
  {
   "cell_type": "markdown",
   "metadata": {
    "id": "Ekkp23fK8rV2"
   },
   "source": [
    "**To open the run in the Neptune web app, click the link that appeared in the cell output.**\n",
    "\n",
    "We'll use the `run` object we just created to log metadata. You'll see the metadata appear in the app."
   ]
  },
  {
   "cell_type": "markdown",
   "metadata": {
    "id": "YhLOUQvv89W3"
   },
   "source": [
    "## Load dataset"
   ]
  },
  {
   "cell_type": "code",
   "execution_count": null,
   "metadata": {
    "id": "cIeBnKntZbTv"
   },
   "outputs": [],
   "source": [
    "iris_df = pd.read_csv(\n",
    "    \"https://raw.githubusercontent.com/mwaskom/seaborn-data/master/iris.csv\",\n",
    "    nrows=100,\n",
    ")"
   ]
  },
  {
   "cell_type": "markdown",
   "metadata": {
    "id": "1YHF3QLva-9i"
   },
   "source": [
    "## (Neptune) Log DataFrame to Neptune as an HTML"
   ]
  },
  {
   "cell_type": "code",
   "execution_count": null,
   "metadata": {},
   "outputs": [],
   "source": [
    "from neptune.types import File"
   ]
  },
  {
   "cell_type": "code",
   "execution_count": null,
   "metadata": {
    "id": "4b8reNJcaiFo"
   },
   "outputs": [],
   "source": [
    "run[\"data/iris-df-html\"].upload(File.as_html(iris_df))"
   ]
  },
  {
   "cell_type": "markdown",
   "metadata": {
    "id": "2e_zG44Gapfk"
   },
   "source": [
    "## (Neptune) Log CSV to Neptune\n",
    "You can save the DataFrame as a CSV and then upload it to Neptune with the `upload()` method. This lets you view and sort the data in Neptune's interactive table format."
   ]
  },
  {
   "cell_type": "markdown",
   "metadata": {},
   "source": [
    "### Upload from disk"
   ]
  },
  {
   "cell_type": "code",
   "execution_count": null,
   "metadata": {},
   "outputs": [],
   "source": [
    "csv_fname = \"iris.csv\"\n",
    "iris_df.to_csv(csv_fname, index=False)"
   ]
  },
  {
   "cell_type": "code",
   "execution_count": null,
   "metadata": {
    "id": "XaIcj__eayKV"
   },
   "outputs": [],
   "source": [
    "run[\"data/iris-df-csv\"].upload(csv_fname)"
   ]
  },
  {
   "cell_type": "markdown",
   "metadata": {
    "id": "txsaA1Hfb-xw"
   },
   "source": [
    "### Upload from stream\n",
    "You can also save the file to a CSV buffer, then upload the streaming buffer using the `from_stream()` method:"
   ]
  },
  {
   "cell_type": "code",
   "execution_count": null,
   "metadata": {},
   "outputs": [],
   "source": [
    "from io import StringIO"
   ]
  },
  {
   "cell_type": "code",
   "execution_count": null,
   "metadata": {},
   "outputs": [],
   "source": [
    "csv_buffer = StringIO()\n",
    "iris_df.to_csv(csv_buffer, index=False)"
   ]
  },
  {
   "cell_type": "code",
   "execution_count": null,
   "metadata": {
    "id": "LZaXjcoDcBU1"
   },
   "outputs": [],
   "source": [
    "run[\"data/iris-df-csv-buffer\"].upload(File.from_stream(csv_buffer, extension=\"csv\"))"
   ]
  },
  {
   "cell_type": "markdown",
   "metadata": {
    "id": "QsrQjDEidZUK"
   },
   "source": [
    "## More Options\n"
   ]
  },
  {
   "cell_type": "markdown",
   "metadata": {
    "id": "OHlNjO7ceG7g"
   },
   "source": [
    "### Log Pandas Profile Report to Neptune\n",
    "\n",
    "You also have the ability to log your dataset's Exploratory Data Analysis (EDA) report to Neptune, utilizing libraries that support Pandas such as [ydata-profiling](https://github.com/ydataai/ydata-profiling)."
   ]
  },
  {
   "cell_type": "code",
   "execution_count": null,
   "metadata": {},
   "outputs": [],
   "source": [
    "%pip install ydata-profiling --user"
   ]
  },
  {
   "cell_type": "code",
   "execution_count": null,
   "metadata": {},
   "outputs": [],
   "source": [
    "from ydata_profiling import ProfileReport"
   ]
  },
  {
   "cell_type": "code",
   "execution_count": null,
   "metadata": {
    "id": "f_ajwSyQdj3L"
   },
   "outputs": [],
   "source": [
    "profile = ProfileReport(iris_df, title=\"Iris Species Dataset Profile Report\")"
   ]
  },
  {
   "cell_type": "code",
   "execution_count": null,
   "metadata": {
    "colab": {
     "base_uri": "https://localhost:8080/",
     "height": 113,
     "referenced_widgets": [
      "945bc390b6b74ebfa2cce2db32d40ed1",
      "8f81035811554f6ea6adc97bdbe5aed0",
      "1149fa0cf22945b7aa2d9fb06c827b7d",
      "382b331a7f9c4cb3a38691b6da9d28ee",
      "b121f021bacc43d3b6e0292a458dbabd",
      "ffea058d62ab4ed789094bbb1d3d04eb",
      "19ab0f7e0f744b42ab8f145237e042bf",
      "7349d522149f4375b030d77e22b74b4d",
      "63506395acdf43628e64564df10b9015",
      "3860a92e3ec645599c4678cd0b42d547",
      "1183a47ec8c144b3983728dfda739386",
      "b04d41b500a840b48f335701a4307221",
      "fe933beadfee4449bb4823047c346798",
      "4a09fa51c48f4828be1fc1c672bfe4d6",
      "49d27f1abe6448678e4753e7c27d3531",
      "628b684063f246fb9f8c598266246837",
      "1b631f9eb9564ba594f201555a7b39e3",
      "84abeeb178b54dca9fc0601fc9418d1e",
      "2f82a29ecb604b108f816b5699a8c252",
      "50a4f897ac3843208cb78a5815684b49",
      "931f33fa5e98470eaaad98bd61a303a6",
      "78a4826a505544fba312e95e04f6814e",
      "08823583391b45a8a2015a1d4e04286a",
      "2b4f4ff259a3419d9d21fe2b52e88fe3",
      "7e675e7989ec43a6afe46d9fd2159d57",
      "62f640a25fb749c6ad3c89d37d35e921",
      "3174c1e5521a46b6936745a9e881a088",
      "faf1ce2a944c401093c05e977c792480",
      "e01731972e0949dea9429d3a40b8e2e0",
      "d4d1adf3897840309085ab2be7d71e8d",
      "47b0d599e7a54e5ba8af95dbad07d487",
      "b3025419c0a54002bd366bad41258d4d",
      "22303b39ac0641c29013a515e364583a"
     ]
    },
    "id": "IC-0GgUZflsl",
    "outputId": "ed273ebe-069d-4479-f491-511b93843e8e"
   },
   "outputs": [],
   "source": [
    "run[\"data/iris-df-profile-report\"].upload(File.from_content(profile.to_html(), extension=\"html\"))"
   ]
  },
  {
   "cell_type": "markdown",
   "metadata": {
    "id": "3JHh7kZJjH0M"
   },
   "source": [
    "## Stop logging\n",
    "\n",
    "Once you are done logging, stop tracking the run."
   ]
  },
  {
   "cell_type": "code",
   "execution_count": null,
   "metadata": {
    "colab": {
     "base_uri": "https://localhost:8080/"
    },
    "id": "ohv3ZAy8jFgT",
    "outputId": "9f6c926c-cfb8-45f3-fb3a-40940a6efee0"
   },
   "outputs": [],
   "source": [
    "run.stop()"
   ]
  },
  {
   "cell_type": "markdown",
   "metadata": {},
   "source": [
    "## Explore the results in Neptune\n",
    "\n",
    "You can also check out an [example run](https://app.neptune.ai/o/common/org/pandas-support/runs/details?viewId=standard-view&detailsTab=dashboard&dashboardId=DataFrames-99d4e1f0-fe18-4f7a-82bf-b80017d47d84&shortId=PD-1&type=run)."
   ]
  }
 ],
 "metadata": {
  "colab": {
   "provenance": []
  },
  "kernelspec": {
   "display_name": "Python 3",
   "name": "python3"
  },
  "language_info": {
   "codemirror_mode": {
    "name": "ipython",
    "version": 3
   },
   "file_extension": ".py",
   "mimetype": "text/x-python",
   "name": "python",
   "nbconvert_exporter": "python",
   "pygments_lexer": "ipython3",
   "version": "3.8.15"
  }
 },
 "nbformat": 4,
 "nbformat_minor": 0
}
