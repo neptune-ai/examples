{
 "cells": [
  {
   "cell_type": "markdown",
   "metadata": {
    "id": "G4ny3mHCFrqG",
    "tags": [
     "header"
    ]
   },
   "source": [
    "# Neptune + TensorFlow / Keras"
   ]
  },
  {
   "cell_type": "markdown",
   "metadata": {
    "id": "h0vy0JKC6SnS",
    "tags": [
     "header"
    ]
   },
   "source": [
    "## Before we start"
   ]
  },
  {
   "cell_type": "markdown",
   "metadata": {
    "id": "xndcBi_EUFVi",
    "tags": [
     "header",
     "installation"
    ]
   },
   "source": [
    "### Install dependencies"
   ]
  },
  {
   "cell_type": "code",
   "execution_count": null,
   "metadata": {
    "id": "jl90ahSMvhmV",
    "tags": [
     "installation"
    ]
   },
   "outputs": [],
   "source": [
    "! pip install neptune-client neptune-tensorflow-keras tensorflow==2.5.0"
   ]
  },
  {
   "cell_type": "markdown",
   "metadata": {
    "id": "1As3OW3LGqKg",
    "tags": [
     "header"
    ]
   },
   "source": [
    "### Import libraries"
   ]
  },
  {
   "cell_type": "code",
   "execution_count": null,
   "metadata": {
    "id": "FufE4GTzvRZG",
    "tags": [
     "code"
    ]
   },
   "outputs": [],
   "source": [
    "import tensorflow as tf"
   ]
  },
  {
   "cell_type": "markdown",
   "metadata": {
    "id": "a_vHfsJh6SnW",
    "tags": [
     "header"
    ]
   },
   "source": [
    "### Define your model, data loaders, and optimizer"
   ]
  },
  {
   "cell_type": "code",
   "execution_count": null,
   "metadata": {
    "id": "12By7MBF6SnW",
    "tags": [
     "code"
    ]
   },
   "outputs": [],
   "source": [
    "mnist = tf.keras.datasets.mnist\n",
    "(x_train, y_train), (x_test, y_test) = mnist.load_data()\n",
    "x_train, x_test = x_train / 255.0, x_test / 255.0\n",
    "\n",
    "model = tf.keras.models.Sequential(\n",
    "    [\n",
    "        tf.keras.layers.Flatten(),\n",
    "        tf.keras.layers.Dense(256, activation=tf.keras.activations.relu),\n",
    "        tf.keras.layers.Dropout(0.5),\n",
    "        tf.keras.layers.Dense(10, activation=tf.keras.activations.softmax),\n",
    "    ]\n",
    ")\n",
    "\n",
    "optimizer = tf.keras.optimizers.SGD(\n",
    "    lr=0.005,\n",
    "    momentum=0.4,\n",
    ")\n",
    "\n",
    "model.compile(\n",
    "    optimizer=optimizer, loss=\"sparse_categorical_crossentropy\", metrics=[\"accuracy\"]\n",
    ")"
   ]
  },
  {
   "cell_type": "markdown",
   "metadata": {
    "id": "lPwpiPs26SnX",
    "tags": [
     "header"
    ]
   },
   "source": [
    "## Quickstart"
   ]
  },
  {
   "cell_type": "markdown",
   "metadata": {
    "id": "7LFLtV5R5JKT",
    "tags": [
     "header"
    ]
   },
   "source": [
    "### Initialize Neptune"
   ]
  },
  {
   "cell_type": "markdown",
   "metadata": {
    "id": "gfJ-uguh6SnY",
    "tags": [
     "comment"
    ]
   },
   "source": [
    "Connect your script to Neptune application and create new run."
   ]
  },
  {
   "cell_type": "code",
   "execution_count": null,
   "metadata": {
    "id": "XMdpj-Se4t0U",
    "tags": [
     "code"
    ]
   },
   "outputs": [],
   "source": [
    "import neptune.new as neptune\n",
    "\n",
    "run = neptune.init(project=\"common/tf-keras-integration\", api_token=\"ANONYMOUS\")"
   ]
  },
  {
   "cell_type": "markdown",
   "metadata": {
    "id": "_QdNmNLIXYXx",
    "tags": [
     "comment"
    ]
   },
   "source": [
    "Click on the link above to open this run in Neptune. For now it is empty but keep the tab with run open to see what happens next. "
   ]
  },
  {
   "cell_type": "markdown",
   "metadata": {
    "id": "QCB1kANb6Sna",
    "tags": [
     "comment"
    ]
   },
   "source": [
    "You tell Neptune: \n",
    "\n",
    "* **who you are**: your Neptune API token `api_token` \n",
    "* **where you want to send your data**: your Neptune `project`.\n",
    "\n",
    "At this point you have new run in Neptune. For now on you will use `run` to log metadata to it.\n",
    "\n",
    "---\n",
    "\n",
    "**Note**\n",
    "\n",
    "\n",
    "Instead of logging data to the public project `'common/tf-keras-integration'` as an anonymous user `'neptuner'` you can log it to your own project.\n",
    "\n",
    "To do that:\n",
    "\n",
    "1. Get your [Neptune API token](https://docs.neptune.ai/getting-started/installation#get-api-token)\n",
    "2. Pass the token to ``api_token`` argument of ``neptune.init()`` method: ``api_token=YOUR_API_TOKEN``\n",
    "3. Pass your project to the ``project`` argument of the ``neptune.init()``.\n",
    "\n",
    "For example:\n",
    "\n",
    "```python\n",
    "neptune.init(project='my_workspace/my_project', \n",
    "             api_token='MY_API_TOKEN')\n",
    "```"
   ]
  },
  {
   "cell_type": "markdown",
   "metadata": {
    "id": "XomuTzlsVILc",
    "tags": [
     "header"
    ]
   },
   "source": [
    "### Add NeptuneCallback to model.fit()"
   ]
  },
  {
   "cell_type": "code",
   "execution_count": null,
   "metadata": {
    "id": "82879lQuVfsJ",
    "tags": [
     "code"
    ]
   },
   "outputs": [],
   "source": [
    "from neptune.new.integrations.tensorflow_keras import NeptuneCallback\n",
    "\n",
    "neptune_cbk = NeptuneCallback(run=run, base_namespace=\"metrics\")\n",
    "\n",
    "model.fit(x_train, y_train, epochs=5, batch_size=64, callbacks=[neptune_cbk])"
   ]
  },
  {
   "cell_type": "markdown",
   "metadata": {
    "id": "CznvTnfL8VTR"
   },
   "source": [
    "### Stop logging\n",
    "\n",
    "<font color=red>**Warning:**</font><br>\n",
    "Once you are done logging, you should stop tracking the run using the `stop()` method.\n",
    "This is needed only while logging from a notebook environment. While logging through a script, Neptune automatically stops tracking once the script has completed execution."
   ]
  },
  {
   "cell_type": "code",
   "execution_count": null,
   "metadata": {
    "id": "E2OBmDlm8dXQ"
   },
   "outputs": [],
   "source": [
    "run.stop()"
   ]
  },
  {
   "cell_type": "markdown",
   "metadata": {
    "id": "07zIz0_f6Snb"
   },
   "source": [
    "### Explore results in the Neptune UI"
   ]
  },
  {
   "cell_type": "markdown",
   "metadata": {
    "id": "dcZVfL9y6Snb",
    "tags": [
     "comment"
    ]
   },
   "source": [
    "Go to the run link and explore charts that were created from the metric values you logged. "
   ]
  },
  {
   "cell_type": "markdown",
   "metadata": {
    "id": "YHQrdIgOIo_E",
    "tags": [
     "header"
    ]
   },
   "source": [
    "## More Options"
   ]
  },
  {
   "cell_type": "markdown",
   "metadata": {
    "id": "wk2nj1dp6Snc",
    "tags": [
     "comment"
    ]
   },
   "source": [
    "You can log way more than just metrics to Neptune. \n",
    "\n",
    "Let's go over some of those options here. "
   ]
  },
  {
   "cell_type": "markdown",
   "metadata": {
    "id": "iAJZLVQKL8Dt",
    "tags": [
     "header"
    ]
   },
   "source": [
    "### Log hyperparameters"
   ]
  },
  {
   "cell_type": "markdown",
   "metadata": {
    "id": "UOt7wJFZ6Sne",
    "tags": [
     "comment"
    ]
   },
   "source": [
    "If you want to log hyperparameters of your model training run you just need to pass them to the `base_namespace` of your choice."
   ]
  },
  {
   "cell_type": "code",
   "execution_count": null,
   "metadata": {
    "id": "Hw_lQq9AL5PR",
    "tags": [
     "code"
    ]
   },
   "outputs": [],
   "source": [
    "run_2 = neptune.init(project=\"common/tf-keras-integration\", api_token=\"ANONYMOUS\")\n",
    "\n",
    "PARAMS = {\"lr\": 0.005, \"momentum\": 0.9, \"epochs\": 10, \"batch_size\": 32}\n",
    "\n",
    "# log hyper-parameters\n",
    "run_2[\"hyper-parameters\"] = PARAMS\n",
    "\n",
    "optimizer = tf.keras.optimizers.SGD(\n",
    "    learning_rate=PARAMS[\"lr\"], momentum=PARAMS[\"momentum\"]\n",
    ")\n",
    "\n",
    "model.compile(\n",
    "    optimizer=optimizer, loss=\"sparse_categorical_crossentropy\", metrics=[\"accuracy\"]\n",
    ")\n",
    "\n",
    "neptune_cbk_2 = NeptuneCallback(run=run_2, base_namespace=\"metrics\")\n",
    "\n",
    "model.fit(\n",
    "    x_train,\n",
    "    y_train,\n",
    "    epochs=PARAMS[\"epochs\"],\n",
    "    batch_size=PARAMS[\"batch_size\"],\n",
    "    callbacks=[neptune_cbk_2],\n",
    ")"
   ]
  },
  {
   "cell_type": "markdown",
   "metadata": {
    "id": "07k3eJ9m6Snf",
    "tags": [
     "comment"
    ]
   },
   "source": [
    "Click on the link above to open this run in Neptune. For now it is empty but keep the tab with run open to see what happens next. "
   ]
  },
  {
   "cell_type": "markdown",
   "metadata": {
    "id": "K0eGaJoI6Snf",
    "tags": [
     "header"
    ]
   },
   "source": [
    "### Log test sample images"
   ]
  },
  {
   "cell_type": "code",
   "execution_count": null,
   "metadata": {
    "id": "_rnmkOT36Snf",
    "tags": [
     "code"
    ]
   },
   "outputs": [],
   "source": [
    "for image in x_test[:100]:\n",
    "    run_2[\"test/sample_images\"].log(neptune.types.File.as_image(image))"
   ]
  },
  {
   "cell_type": "markdown",
   "metadata": {
    "id": "LiUc_xGj6Snf",
    "tags": [
     "header"
    ]
   },
   "source": [
    "### Log model weights"
   ]
  },
  {
   "cell_type": "code",
   "execution_count": null,
   "metadata": {
    "id": "eAOqtrxB6Sng",
    "tags": [
     "code"
    ]
   },
   "outputs": [],
   "source": [
    "import glob\n",
    "\n",
    "model.save(\"my_model\")\n",
    "\n",
    "run_2[\"my_model/saved_model\"].upload(\"my_model/saved_model.pb\")\n",
    "\n",
    "for name in glob.glob(\"my_model/variables/*\"):\n",
    "    run_2[name].upload(name)"
   ]
  },
  {
   "cell_type": "markdown",
   "metadata": {
    "id": "kpa_czOU8lCM"
   },
   "source": [
    "### Stop logging\n",
    "\n",
    "<font color=red>**Warning:**</font><br>\n",
    "Once you are done logging, you should stop tracking the run using the `stop()` method.\n",
    "This is needed only while logging from a notebook environment. While logging through a script, Neptune automatically stops tracking once the script has completed execution."
   ]
  },
  {
   "cell_type": "code",
   "execution_count": null,
   "metadata": {
    "id": "wxcG2pTP8lCN"
   },
   "outputs": [],
   "source": [
    "run.stop()"
   ]
  },
  {
   "cell_type": "markdown",
   "metadata": {
    "id": "Tcq00KslIdDd",
    "tags": [
     "header"
    ]
   },
   "source": [
    "## Explore results in the Neptune UI"
   ]
  },
  {
   "cell_type": "markdown",
   "metadata": {
    "id": "oe2U07Tn6Sng",
    "tags": [
     "comment"
    ]
   },
   "source": [
    "Go over run details and see all the objects that were logged. "
   ]
  }
 ],
 "metadata": {
  "colab": {
   "collapsed_sections": [],
   "name": "Neptune_TensorFlow_Keras.ipynb",
   "private_outputs": true,
   "provenance": [],
   "toc_visible": true
  },
  "kernelspec": {
   "display_name": "Python 3",
   "language": "python",
   "name": "python3"
  },
  "language_info": {
   "codemirror_mode": {
    "name": "ipython",
    "version": 3
   },
   "file_extension": ".py",
   "mimetype": "text/x-python",
   "name": "python",
   "nbconvert_exporter": "python",
   "pygments_lexer": "ipython3",
   "version": "3.8.5"
  }
 },
 "nbformat": 4,
 "nbformat_minor": 4
}
