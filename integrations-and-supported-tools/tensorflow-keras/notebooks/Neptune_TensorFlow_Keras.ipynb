{
 "cells": [
  {
   "cell_type": "markdown",
   "metadata": {},
   "source": [
    "# Neptune + Tensorflow/Keras"
   ]
  },
  {
   "cell_type": "markdown",
   "metadata": {
    "id": "GG3_2HyRVY4Y",
    "pycharm": {
     "name": "#%% md\n"
    },
    "tags": [
     "header",
     "comment"
    ]
   },
   "source": [
    "## Introduction\n",
    "\n",
    "This guide will show you how to:\n",
    "\n",
    "* Initialize Neptune and create a `run`,\n",
    "* Create a `NeptuneCallback()`,\n",
    "* Log model training metrics to Neptune using `NeptuneCallback()`\n",
    "* Log additional metadata like hyperaparameters, images, and model weights to Neptune."
   ]
  },
  {
   "cell_type": "markdown",
   "metadata": {
    "id": "1tBfsYCm05rl",
    "pycharm": {
     "name": "#%% md\n"
    }
   },
   "source": [
    "## Before you start\n",
    "\n",
    "This notebook example lets you try out Neptune as an anonymous user, with zero setup.\n",
    "\n",
    "* If you are running the notebook on your local machine, you need to have [Python](https://www.python.org/downloads/) and [pip](https://pypi.org/project/pip/) installed.\n",
    "* If you want to see the example recorded to your own workspace instead:\n",
    "    * Create a Neptune account → [Take me to registration](https://neptune.ai/register)\n",
    "    * Create a Neptune project that you will use for tracking metadata → [Tell me more about projects](https://docs.neptune.ai/administration/projects)"
   ]
  },
  {
   "cell_type": "markdown",
   "metadata": {
    "pycharm": {
     "name": "#%% md\n"
    }
   },
   "source": [
    "## Install Neptune and dependencies"
   ]
  },
  {
   "cell_type": "code",
   "execution_count": null,
   "metadata": {
    "id": "jl90ahSMvhmV",
    "pycharm": {
     "name": "#%%\n"
    },
    "tags": [
     "installation"
    ]
   },
   "outputs": [],
   "source": [
    "! pip install neptune-client neptune-tensorflow-keras tensorflow==2.5.0"
   ]
  },
  {
   "cell_type": "markdown",
   "metadata": {
    "id": "1As3OW3LGqKg",
    "pycharm": {
     "name": "#%% md\n"
    },
    "tags": [
     "header"
    ]
   },
   "source": [
    "## Import libraries"
   ]
  },
  {
   "cell_type": "code",
   "execution_count": null,
   "metadata": {
    "id": "FufE4GTzvRZG",
    "pycharm": {
     "name": "#%%\n"
    },
    "tags": [
     "code"
    ]
   },
   "outputs": [],
   "source": [
    "import tensorflow as tf"
   ]
  },
  {
   "cell_type": "markdown",
   "metadata": {
    "id": "a_vHfsJh6SnW",
    "pycharm": {
     "name": "#%% md\n"
    },
    "tags": [
     "header"
    ]
   },
   "source": [
    "## Define your model, data loaders, and optimizer"
   ]
  },
  {
   "cell_type": "code",
   "execution_count": null,
   "metadata": {
    "id": "12By7MBF6SnW",
    "pycharm": {
     "name": "#%%\n"
    },
    "tags": [
     "code"
    ]
   },
   "outputs": [],
   "source": [
    "mnist = tf.keras.datasets.mnist\n",
    "(x_train, y_train), (x_test, y_test) = mnist.load_data()\n",
    "x_train, x_test = x_train / 255.0, x_test / 255.0\n",
    "\n",
    "model = tf.keras.models.Sequential(\n",
    "    [\n",
    "        tf.keras.layers.Flatten(),\n",
    "        tf.keras.layers.Dense(256, activation=tf.keras.activations.relu),\n",
    "        tf.keras.layers.Dropout(0.5),\n",
    "        tf.keras.layers.Dense(10, activation=tf.keras.activations.softmax),\n",
    "    ]\n",
    ")\n",
    "\n",
    "optimizer = tf.keras.optimizers.SGD(\n",
    "    lr=0.005,\n",
    "    momentum=0.4,\n",
    ")\n",
    "\n",
    "model.compile(optimizer=optimizer, loss=\"sparse_categorical_crossentropy\", metrics=[\"accuracy\"])"
   ]
  },
  {
   "cell_type": "markdown",
   "metadata": {
    "id": "lPwpiPs26SnX",
    "pycharm": {
     "name": "#%% md\n"
    },
    "tags": [
     "header"
    ]
   },
   "source": [
    "## Quickstart"
   ]
  },
  {
   "cell_type": "markdown",
   "metadata": {
    "id": "7LFLtV5R5JKT",
    "pycharm": {
     "name": "#%% md\n"
    },
    "tags": [
     "header"
    ]
   },
   "source": [
    "### Initialize Neptune"
   ]
  },
  {
   "cell_type": "markdown",
   "metadata": {
    "id": "gfJ-uguh6SnY",
    "pycharm": {
     "name": "#%% md\n"
    },
    "tags": [
     "comment"
    ]
   },
   "source": [
    "Connect your script to Neptune application and create new run."
   ]
  },
  {
   "cell_type": "code",
   "execution_count": null,
   "metadata": {
    "id": "XMdpj-Se4t0U",
    "pycharm": {
     "name": "#%%\n"
    },
    "tags": [
     "code"
    ]
   },
   "outputs": [],
   "source": [
    "import neptune.new as neptune\n",
    "\n",
    "run = neptune.init(project=\"common/tf-keras-integration\", api_token=\"ANONYMOUS\")"
   ]
  },
  {
   "cell_type": "markdown",
   "metadata": {
    "id": "_QdNmNLIXYXx",
    "pycharm": {
     "name": "#%% md\n"
    },
    "tags": [
     "comment"
    ]
   },
   "source": [
    "Click on the link above to open this run in Neptune. For now it is empty but keep the tab with run open to see what happens next. "
   ]
  },
  {
   "cell_type": "markdown",
   "metadata": {
    "id": "QCB1kANb6Sna",
    "pycharm": {
     "name": "#%% md\n"
    },
    "tags": [
     "comment"
    ]
   },
   "source": [
    "You tell Neptune: \n",
    "\n",
    "* **who you are**: your Neptune API token `api_token` \n",
    "* **where you want to send your data**: your Neptune `project`.\n",
    "\n",
    "At this point you have new run in Neptune. For now on you will use `run` to log metadata to it.\n",
    "\n",
    "---\n",
    "\n",
    "**Note**\n",
    "\n",
    "\n",
    "Instead of logging data to the public project `'common/tf-keras-integration'` as an anonymous user `'neptuner'` you can log it to your own project.\n",
    "\n",
    "To do that:\n",
    "\n",
    "1. Get your [Neptune API token](https://docs.neptune.ai/getting-started/installation#get-api-token)\n",
    "2. Pass the token to ``api_token`` argument of ``neptune.init()`` method: ``api_token=YOUR_API_TOKEN``\n",
    "3. Pass your project to the `project` argument of the `init()` method.\n",
    "\n",
    "For example:\n",
    "\n",
    "```python\n",
    "neptune.init(project=\"YOUR_WORKSPACE/YOUR_PROJECT\", \n",
    "             api_token=\"YOUR_API_TOKEN\")\n",
    "```"
   ]
  },
  {
   "cell_type": "markdown",
   "metadata": {
    "id": "XomuTzlsVILc",
    "pycharm": {
     "name": "#%% md\n"
    },
    "tags": [
     "header"
    ]
   },
   "source": [
    "### Add NeptuneCallback() to model.fit()"
   ]
  },
  {
   "cell_type": "code",
   "execution_count": null,
   "metadata": {
    "id": "82879lQuVfsJ",
    "pycharm": {
     "name": "#%%\n"
    },
    "tags": [
     "code"
    ]
   },
   "outputs": [],
   "source": [
    "from neptune.new.integrations.tensorflow_keras import NeptuneCallback\n",
    "\n",
    "neptune_cbk = NeptuneCallback(run=run, base_namespace=\"metrics\")\n",
    "\n",
    "model.fit(x_train, y_train, epochs=5, batch_size=64, callbacks=[neptune_cbk])"
   ]
  },
  {
   "cell_type": "markdown",
   "metadata": {
    "id": "CznvTnfL8VTR",
    "pycharm": {
     "name": "#%% md\n"
    }
   },
   "source": [
    "### Stop logging\n",
    "\n",
    "<font color=red>**Warning:**</font><br>\n",
    "Once you are done logging, you should stop tracking the run using the `stop()` method.\n",
    "This is needed only while logging from a notebook environment. While logging through a script, Neptune automatically stops tracking once the script has completed execution."
   ]
  },
  {
   "cell_type": "code",
   "execution_count": null,
   "metadata": {
    "id": "E2OBmDlm8dXQ",
    "pycharm": {
     "name": "#%%\n"
    }
   },
   "outputs": [],
   "source": [
    "run.stop()"
   ]
  },
  {
   "cell_type": "markdown",
   "metadata": {
    "id": "07zIz0_f6Snb",
    "pycharm": {
     "name": "#%% md\n"
    }
   },
   "source": [
    "### Explore results in the Neptune app"
   ]
  },
  {
   "cell_type": "markdown",
   "metadata": {
    "id": "dcZVfL9y6Snb",
    "pycharm": {
     "name": "#%% md\n"
    },
    "tags": [
     "comment"
    ]
   },
   "source": [
    "Go to the run link and explore charts that were created from the metric values you logged. "
   ]
  },
  {
   "cell_type": "markdown",
   "metadata": {
    "id": "YHQrdIgOIo_E",
    "pycharm": {
     "name": "#%% md\n"
    },
    "tags": [
     "header"
    ]
   },
   "source": [
    "## More Options"
   ]
  },
  {
   "cell_type": "markdown",
   "metadata": {
    "id": "wk2nj1dp6Snc",
    "pycharm": {
     "name": "#%% md\n"
    },
    "tags": [
     "comment"
    ]
   },
   "source": [
    "You can log way more than just metrics to Neptune. \n",
    "\n",
    "Let's go over some of those options here. "
   ]
  },
  {
   "cell_type": "markdown",
   "metadata": {
    "id": "iAJZLVQKL8Dt",
    "pycharm": {
     "name": "#%% md\n"
    },
    "tags": [
     "header"
    ]
   },
   "source": [
    "### Log hyperparameters"
   ]
  },
  {
   "cell_type": "markdown",
   "metadata": {
    "id": "UOt7wJFZ6Sne",
    "pycharm": {
     "name": "#%% md\n"
    },
    "tags": [
     "comment"
    ]
   },
   "source": [
    "If you want to log hyperparameters of your model training run you just need to pass them to the `base_namespace` of your choice."
   ]
  },
  {
   "cell_type": "code",
   "execution_count": null,
   "metadata": {
    "id": "Hw_lQq9AL5PR",
    "pycharm": {
     "name": "#%%\n"
    },
    "tags": [
     "code"
    ]
   },
   "outputs": [],
   "source": [
    "run_2 = neptune.init(project=\"common/tf-keras-integration\", api_token=\"ANONYMOUS\")\n",
    "\n",
    "params = {\"lr\": 0.005, \"momentum\": 0.9, \"epochs\": 10, \"batch_size\": 32}\n",
    "\n",
    "# log hyper-parameters\n",
    "run_2[\"hyper-parameters\"] = params\n",
    "\n",
    "optimizer = tf.keras.optimizers.SGD(learning_rate=params[\"lr\"], momentum=params[\"momentum\"])\n",
    "\n",
    "model.compile(optimizer=optimizer, loss=\"sparse_categorical_crossentropy\", metrics=[\"accuracy\"])\n",
    "\n",
    "neptune_cbk_2 = NeptuneCallback(run=run_2, base_namespace=\"metrics\")\n",
    "\n",
    "model.fit(\n",
    "    x_train,\n",
    "    y_train,\n",
    "    epochs=params[\"epochs\"],\n",
    "    batch_size=params[\"batch_size\"],\n",
    "    callbacks=[neptune_cbk_2],\n",
    ")"
   ]
  },
  {
   "cell_type": "markdown",
   "metadata": {
    "id": "07k3eJ9m6Snf",
    "pycharm": {
     "name": "#%% md\n"
    },
    "tags": [
     "comment"
    ]
   },
   "source": [
    "Click on the link above to open this run in Neptune. For now it is empty but keep the tab with run open to see what happens next. "
   ]
  },
  {
   "cell_type": "markdown",
   "metadata": {
    "id": "K0eGaJoI6Snf",
    "pycharm": {
     "name": "#%% md\n"
    },
    "tags": [
     "header"
    ]
   },
   "source": [
    "### Log test sample images"
   ]
  },
  {
   "cell_type": "code",
   "execution_count": null,
   "metadata": {
    "id": "_rnmkOT36Snf",
    "pycharm": {
     "name": "#%%\n"
    },
    "tags": [
     "code"
    ]
   },
   "outputs": [],
   "source": [
    "for image in x_test[:100]:\n",
    "    run_2[\"test/sample_images\"].log(neptune.types.File.as_image(image))"
   ]
  },
  {
   "cell_type": "markdown",
   "metadata": {
    "id": "LiUc_xGj6Snf",
    "pycharm": {
     "name": "#%% md\n"
    },
    "tags": [
     "header"
    ]
   },
   "source": [
    "### Log model weights"
   ]
  },
  {
   "cell_type": "code",
   "execution_count": null,
   "metadata": {
    "id": "eAOqtrxB6Sng",
    "pycharm": {
     "name": "#%%\n"
    },
    "tags": [
     "code"
    ]
   },
   "outputs": [],
   "source": [
    "import glob\n",
    "\n",
    "model.save(\"my_model\")\n",
    "\n",
    "run_2[\"my_model/saved_model\"].upload(\"my_model/saved_model.pb\")\n",
    "\n",
    "for name in glob.glob(\"my_model/variables/*\"):\n",
    "    run_2[name].upload(name)"
   ]
  },
  {
   "cell_type": "markdown",
   "metadata": {
    "id": "kpa_czOU8lCM",
    "pycharm": {
     "name": "#%% md\n"
    }
   },
   "source": [
    "### Stop logging\n",
    "\n",
    "<font color=red>**Warning:**</font><br>\n",
    "Once you are done logging, you should stop tracking the run using the `stop()` method.\n",
    "This is needed only while logging from a notebook environment. While logging through a script, Neptune automatically stops tracking once the script has completed execution."
   ]
  },
  {
   "cell_type": "code",
   "execution_count": null,
   "metadata": {
    "id": "wxcG2pTP8lCN",
    "pycharm": {
     "name": "#%%\n"
    }
   },
   "outputs": [],
   "source": [
    "run.stop()"
   ]
  },
  {
   "cell_type": "markdown",
   "metadata": {
    "id": "Tcq00KslIdDd",
    "pycharm": {
     "name": "#%% md\n"
    },
    "tags": [
     "header"
    ]
   },
   "source": [
    "## Explore results in the Neptune app"
   ]
  },
  {
   "cell_type": "markdown",
   "metadata": {
    "id": "oe2U07Tn6Sng",
    "pycharm": {
     "name": "#%% md\n"
    },
    "tags": [
     "comment"
    ]
   },
   "source": [
    "Go over run details and see all the objects that were logged. "
   ]
  }
 ],
 "metadata": {
  "colab": {
   "collapsed_sections": [],
   "name": "Neptune_TensorFlow_Keras.ipynb",
   "private_outputs": true,
   "provenance": [],
   "toc_visible": true
  },
  "kernelspec": {
   "display_name": "Python 3 (ipykernel)",
   "language": "python",
   "name": "python3"
  },
  "language_info": {
   "codemirror_mode": {
    "name": "ipython",
    "version": 3
   },
   "file_extension": ".py",
   "mimetype": "text/x-python",
   "name": "python",
   "nbconvert_exporter": "python",
   "pygments_lexer": "ipython3",
   "version": "3.10.2"
  }
 },
 "nbformat": 4,
 "nbformat_minor": 4
}
