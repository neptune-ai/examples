{
 "cells": [
  {
   "cell_type": "markdown",
   "metadata": {
    "id": "EYNlatILeluO"
   },
   "source": [
    "# Neptune + PyTorch Ignite"
   ]
  },
  {
   "attachments": {},
   "cell_type": "markdown",
   "metadata": {
    "id": "zY6B8JTKeluQ",
    "tags": [
     "header",
     "comment"
    ]
   },
   "source": [
    "## Introduction\n",
    "\n",
    "This guide will show you how to:\n",
    "\n",
    "* Create a `NeptuneLogger()`,\n",
    "* Log training metrics to Neptune using `NeptuneLogger()`,\n",
    "* Upload model checkpoints to Neptune using `NeptuneSaver()`."
   ]
  },
  {
   "cell_type": "markdown",
   "metadata": {
    "id": "EiPydbIreluR"
   },
   "source": [
    "## Before you start\n",
    "\n",
    "This notebook example lets you try out Neptune as an anonymous user, with zero setup.\n",
    "\n",
    "* If you are running the notebook on your local machine, you need to have [Python](https://www.python.org/downloads/) and [pip](https://pypi.org/project/pip/) installed.\n",
    "* If you want to see the example recorded to your own workspace instead:\n",
    "    * Create a Neptune account → [Take me to registration](https://neptune.ai/register)\n",
    "    * Create a Neptune project that you will use for tracking metadata → [Tell me more about projects](https://docs.neptune.ai/administration/projects)"
   ]
  },
  {
   "cell_type": "markdown",
   "metadata": {
    "id": "NTVvWzR-eluS"
   },
   "source": [
    "## Install Neptune and dependencies"
   ]
  },
  {
   "cell_type": "code",
   "execution_count": 10,
   "metadata": {
    "id": "7S4oP2QneluT",
    "tags": [
     "installation"
    ]
   },
   "outputs": [
    {
     "name": "stdout",
     "output_type": "stream",
     "text": [
      "Requirement already satisfied: neptune in c:\\users\\siddh\\miniconda3\\envs\\py38\\lib\\site-packages (1.1.1)\n",
      "Requirement already satisfied: scikit-plot in c:\\users\\siddh\\miniconda3\\envs\\py38\\lib\\site-packages (0.3.7)\n",
      "Requirement already satisfied: torchvision in c:\\users\\siddh\\miniconda3\\envs\\py38\\lib\\site-packages (0.15.1)\n",
      "Requirement already satisfied: GitPython>=2.0.8 in c:\\users\\siddh\\miniconda3\\envs\\py38\\lib\\site-packages (from neptune) (3.1.31)\n",
      "Requirement already satisfied: Pillow>=1.1.6 in c:\\users\\siddh\\miniconda3\\envs\\py38\\lib\\site-packages (from neptune) (9.4.0)\n",
      "Requirement already satisfied: PyJWT in c:\\users\\siddh\\miniconda3\\envs\\py38\\lib\\site-packages (from neptune) (2.6.0)\n",
      "Requirement already satisfied: boto3>=1.16.0 in c:\\users\\siddh\\miniconda3\\envs\\py38\\lib\\site-packages (from neptune) (1.24.59)\n",
      "Requirement already satisfied: bravado<12.0.0,>=11.0.0 in c:\\users\\siddh\\miniconda3\\envs\\py38\\lib\\site-packages (from neptune) (11.0.3)\n",
      "Requirement already satisfied: click>=7.0 in c:\\users\\siddh\\miniconda3\\envs\\py38\\lib\\site-packages (from neptune) (8.0.4)\n",
      "Requirement already satisfied: future>=0.17.1 in c:\\users\\siddh\\miniconda3\\envs\\py38\\lib\\site-packages (from neptune) (0.18.2)\n",
      "Requirement already satisfied: oauthlib>=2.1.0 in c:\\users\\siddh\\miniconda3\\envs\\py38\\lib\\site-packages (from neptune) (3.2.2)\n",
      "Requirement already satisfied: packaging in c:\\users\\siddh\\miniconda3\\envs\\py38\\lib\\site-packages (from neptune) (21.3)\n",
      "Requirement already satisfied: pandas in c:\\users\\siddh\\miniconda3\\envs\\py38\\lib\\site-packages (from neptune) (1.5.3)\n",
      "Requirement already satisfied: psutil in c:\\users\\siddh\\miniconda3\\envs\\py38\\lib\\site-packages (from neptune) (5.9.0)\n",
      "Requirement already satisfied: requests>=2.20.0 in c:\\users\\siddh\\miniconda3\\envs\\py38\\lib\\site-packages (from neptune) (2.28.1)\n",
      "Requirement already satisfied: requests-oauthlib>=1.0.0 in c:\\users\\siddh\\miniconda3\\envs\\py38\\lib\\site-packages (from neptune) (1.3.1)\n",
      "Requirement already satisfied: six>=1.12.0 in c:\\users\\siddh\\miniconda3\\envs\\py38\\lib\\site-packages (from neptune) (1.16.0)\n",
      "Requirement already satisfied: swagger-spec-validator>=2.7.4 in c:\\users\\siddh\\miniconda3\\envs\\py38\\lib\\site-packages (from neptune) (3.0.3)\n",
      "Requirement already satisfied: urllib3 in c:\\users\\siddh\\miniconda3\\envs\\py38\\lib\\site-packages (from neptune) (1.26.13)\n",
      "Requirement already satisfied: websocket-client!=1.0.0,>=0.35.0 in c:\\users\\siddh\\miniconda3\\envs\\py38\\lib\\site-packages (from neptune) (1.4.2)\n",
      "Requirement already satisfied: matplotlib>=1.4.0 in c:\\users\\siddh\\miniconda3\\envs\\py38\\lib\\site-packages (from scikit-plot) (3.4.3)\n",
      "Requirement already satisfied: scikit-learn>=0.18 in c:\\users\\siddh\\appdata\\roaming\\python\\python38\\site-packages (from scikit-plot) (1.2.2)\n",
      "Requirement already satisfied: scipy>=0.9 in c:\\users\\siddh\\appdata\\roaming\\python\\python38\\site-packages (from scikit-plot) (1.10.1)\n",
      "Requirement already satisfied: joblib>=0.10 in c:\\users\\siddh\\miniconda3\\envs\\py38\\lib\\site-packages (from scikit-plot) (1.2.0)\n",
      "Requirement already satisfied: numpy in c:\\users\\siddh\\appdata\\roaming\\python\\python38\\site-packages (from torchvision) (1.24.2)\n",
      "Requirement already satisfied: torch==2.0.0 in c:\\users\\siddh\\appdata\\roaming\\python\\python38\\site-packages (from torchvision) (2.0.0)\n",
      "Requirement already satisfied: filelock in c:\\users\\siddh\\miniconda3\\envs\\py38\\lib\\site-packages (from torch==2.0.0->torchvision) (3.9.0)\n",
      "Requirement already satisfied: typing-extensions in c:\\users\\siddh\\miniconda3\\envs\\py38\\lib\\site-packages (from torch==2.0.0->torchvision) (4.4.0)\n",
      "Requirement already satisfied: sympy in c:\\users\\siddh\\miniconda3\\envs\\py38\\lib\\site-packages (from torch==2.0.0->torchvision) (1.11.1)\n",
      "Requirement already satisfied: networkx in c:\\users\\siddh\\miniconda3\\envs\\py38\\lib\\site-packages (from torch==2.0.0->torchvision) (3.0)\n",
      "Requirement already satisfied: jinja2 in c:\\users\\siddh\\miniconda3\\envs\\py38\\lib\\site-packages (from torch==2.0.0->torchvision) (3.1.2)\n",
      "Requirement already satisfied: botocore<1.28.0,>=1.27.59 in c:\\users\\siddh\\miniconda3\\envs\\py38\\lib\\site-packages (from boto3>=1.16.0->neptune) (1.27.59)\n",
      "Requirement already satisfied: jmespath<2.0.0,>=0.7.1 in c:\\users\\siddh\\miniconda3\\envs\\py38\\lib\\site-packages (from boto3>=1.16.0->neptune) (0.10.0)\n",
      "Requirement already satisfied: s3transfer<0.7.0,>=0.6.0 in c:\\users\\siddh\\miniconda3\\envs\\py38\\lib\\site-packages (from boto3>=1.16.0->neptune) (0.6.0)\n",
      "Requirement already satisfied: bravado-core>=5.16.1 in c:\\users\\siddh\\miniconda3\\envs\\py38\\lib\\site-packages (from bravado<12.0.0,>=11.0.0->neptune) (5.17.1)\n",
      "Requirement already satisfied: msgpack in c:\\users\\siddh\\miniconda3\\envs\\py38\\lib\\site-packages (from bravado<12.0.0,>=11.0.0->neptune) (1.0.4)\n",
      "Requirement already satisfied: python-dateutil in c:\\users\\siddh\\miniconda3\\envs\\py38\\lib\\site-packages (from bravado<12.0.0,>=11.0.0->neptune) (2.8.2)\n",
      "Requirement already satisfied: pyyaml in c:\\users\\siddh\\miniconda3\\envs\\py38\\lib\\site-packages (from bravado<12.0.0,>=11.0.0->neptune) (6.0)\n",
      "Requirement already satisfied: simplejson in c:\\users\\siddh\\miniconda3\\envs\\py38\\lib\\site-packages (from bravado<12.0.0,>=11.0.0->neptune) (3.18.0)\n",
      "Requirement already satisfied: monotonic in c:\\users\\siddh\\miniconda3\\envs\\py38\\lib\\site-packages (from bravado<12.0.0,>=11.0.0->neptune) (1.6)\n",
      "Requirement already satisfied: colorama in c:\\users\\siddh\\miniconda3\\envs\\py38\\lib\\site-packages (from click>=7.0->neptune) (0.4.5)\n",
      "Requirement already satisfied: gitdb<5,>=4.0.1 in c:\\users\\siddh\\miniconda3\\envs\\py38\\lib\\site-packages (from GitPython>=2.0.8->neptune) (4.0.10)\n",
      "Requirement already satisfied: cycler>=0.10 in c:\\users\\siddh\\miniconda3\\envs\\py38\\lib\\site-packages (from matplotlib>=1.4.0->scikit-plot) (0.11.0)\n",
      "Requirement already satisfied: kiwisolver>=1.0.1 in c:\\users\\siddh\\miniconda3\\envs\\py38\\lib\\site-packages (from matplotlib>=1.4.0->scikit-plot) (1.4.4)\n",
      "Requirement already satisfied: pyparsing>=2.2.1 in c:\\users\\siddh\\miniconda3\\envs\\py38\\lib\\site-packages (from matplotlib>=1.4.0->scikit-plot) (3.0.9)\n",
      "Requirement already satisfied: charset-normalizer<3,>=2 in c:\\users\\siddh\\miniconda3\\envs\\py38\\lib\\site-packages (from requests>=2.20.0->neptune) (2.1.1)\n",
      "Requirement already satisfied: idna<4,>=2.5 in c:\\users\\siddh\\miniconda3\\envs\\py38\\lib\\site-packages (from requests>=2.20.0->neptune) (3.4)\n",
      "Requirement already satisfied: certifi>=2017.4.17 in c:\\users\\siddh\\miniconda3\\envs\\py38\\lib\\site-packages (from requests>=2.20.0->neptune) (2022.12.7)\n",
      "Requirement already satisfied: threadpoolctl>=2.0.0 in c:\\users\\siddh\\miniconda3\\envs\\py38\\lib\\site-packages (from scikit-learn>=0.18->scikit-plot) (3.1.0)\n",
      "Requirement already satisfied: jsonschema in c:\\users\\siddh\\miniconda3\\envs\\py38\\lib\\site-packages (from swagger-spec-validator>=2.7.4->neptune) (4.17.3)\n",
      "Requirement already satisfied: pytz>=2020.1 in c:\\users\\siddh\\miniconda3\\envs\\py38\\lib\\site-packages (from pandas->neptune) (2022.6)\n",
      "Requirement already satisfied: jsonref in c:\\users\\siddh\\miniconda3\\envs\\py38\\lib\\site-packages (from bravado-core>=5.16.1->bravado<12.0.0,>=11.0.0->neptune) (1.0.1)\n",
      "Requirement already satisfied: smmap<6,>=3.0.1 in c:\\users\\siddh\\miniconda3\\envs\\py38\\lib\\site-packages (from gitdb<5,>=4.0.1->GitPython>=2.0.8->neptune) (5.0.0)\n",
      "Requirement already satisfied: MarkupSafe>=2.0 in c:\\users\\siddh\\miniconda3\\envs\\py38\\lib\\site-packages (from jinja2->torch==2.0.0->torchvision) (2.1.1)\n",
      "Requirement already satisfied: attrs>=17.4.0 in c:\\users\\siddh\\miniconda3\\envs\\py38\\lib\\site-packages (from jsonschema->swagger-spec-validator>=2.7.4->neptune) (22.1.0)\n",
      "Requirement already satisfied: importlib-resources>=1.4.0 in c:\\users\\siddh\\miniconda3\\envs\\py38\\lib\\site-packages (from jsonschema->swagger-spec-validator>=2.7.4->neptune) (5.10.1)\n",
      "Requirement already satisfied: pkgutil-resolve-name>=1.3.10 in c:\\users\\siddh\\miniconda3\\envs\\py38\\lib\\site-packages (from jsonschema->swagger-spec-validator>=2.7.4->neptune) (1.3.10)\n",
      "Requirement already satisfied: pyrsistent!=0.17.0,!=0.17.1,!=0.17.2,>=0.14.0 in c:\\users\\siddh\\miniconda3\\envs\\py38\\lib\\site-packages (from jsonschema->swagger-spec-validator>=2.7.4->neptune) (0.19.2)\n",
      "Requirement already satisfied: mpmath>=0.19 in c:\\users\\siddh\\miniconda3\\envs\\py38\\lib\\site-packages (from sympy->torch==2.0.0->torchvision) (1.3.0)\n",
      "Requirement already satisfied: zipp>=3.1.0 in c:\\users\\siddh\\miniconda3\\envs\\py38\\lib\\site-packages (from importlib-resources>=1.4.0->jsonschema->swagger-spec-validator>=2.7.4->neptune) (3.11.0)\n",
      "Requirement already satisfied: fqdn in c:\\users\\siddh\\miniconda3\\envs\\py38\\lib\\site-packages (from jsonschema->swagger-spec-validator>=2.7.4->neptune) (1.5.1)\n",
      "Requirement already satisfied: isoduration in c:\\users\\siddh\\miniconda3\\envs\\py38\\lib\\site-packages (from jsonschema->swagger-spec-validator>=2.7.4->neptune) (20.11.0)\n",
      "Requirement already satisfied: jsonpointer>1.13 in c:\\users\\siddh\\miniconda3\\envs\\py38\\lib\\site-packages (from jsonschema->swagger-spec-validator>=2.7.4->neptune) (2.3)\n",
      "Requirement already satisfied: rfc3339-validator in c:\\users\\siddh\\miniconda3\\envs\\py38\\lib\\site-packages (from jsonschema->swagger-spec-validator>=2.7.4->neptune) (0.1.4)\n",
      "Requirement already satisfied: rfc3987 in c:\\users\\siddh\\miniconda3\\envs\\py38\\lib\\site-packages (from jsonschema->swagger-spec-validator>=2.7.4->neptune) (1.3.8)\n",
      "Requirement already satisfied: uri-template in c:\\users\\siddh\\miniconda3\\envs\\py38\\lib\\site-packages (from jsonschema->swagger-spec-validator>=2.7.4->neptune) (1.2.0)\n",
      "Requirement already satisfied: webcolors>=1.11 in c:\\users\\siddh\\miniconda3\\envs\\py38\\lib\\site-packages (from jsonschema->swagger-spec-validator>=2.7.4->neptune) (1.12)\n",
      "Requirement already satisfied: arrow>=0.15.0 in c:\\users\\siddh\\miniconda3\\envs\\py38\\lib\\site-packages (from isoduration->jsonschema->swagger-spec-validator>=2.7.4->neptune) (1.2.3)\n",
      "Note: you may need to restart the kernel to use updated packages.\n"
     ]
    }
   ],
   "source": [
    "%pip install -U neptune scikit-plot torchvision"
   ]
  },
  {
   "cell_type": "markdown",
   "metadata": {
    "id": "pgt9N-NneluU"
   },
   "source": [
    "**Note**: If running on Google Colab, restart the kernel and continue execution from the next cell to avoid a `ContextualVersionConflict` error.\n",
    "\n",
    "This error is caused by Colab coming with `future==0.16.0` preinstalled, while `torchvision` updates this to a newer version."
   ]
  },
  {
   "cell_type": "markdown",
   "metadata": {
    "id": "I9FI9oaqeluU",
    "tags": [
     "header"
    ]
   },
   "source": [
    "## Import libraries"
   ]
  },
  {
   "cell_type": "code",
   "execution_count": 11,
   "metadata": {
    "id": "0CrsGX17eluV",
    "tags": [
     "code"
    ]
   },
   "outputs": [],
   "source": [
    "import torch\n",
    "import torch.nn.functional as F\n",
    "from torch import nn\n",
    "from torch.optim import SGD\n",
    "from torch.utils.data import DataLoader\n",
    "from torchvision.datasets import MNIST\n",
    "from torchvision.transforms import Compose, Normalize, ToTensor\n",
    "\n",
    "from ignite.engine import create_supervised_evaluator, create_supervised_trainer, Events\n",
    "from ignite.metrics import Accuracy, Loss\n",
    "from ignite.utils import setup_logger"
   ]
  },
  {
   "cell_type": "markdown",
   "metadata": {
    "id": "1y70xxTmeluW",
    "tags": [
     "header"
    ]
   },
   "source": [
    "## Define hyper-parameters"
   ]
  },
  {
   "cell_type": "code",
   "execution_count": 12,
   "metadata": {
    "id": "8RZl3acXeluY",
    "tags": [
     "code"
    ]
   },
   "outputs": [],
   "source": [
    "params = {\n",
    "    \"train_batch_size\": 64,\n",
    "    \"val_batch_size\": 64,\n",
    "    \"epochs\": 10,\n",
    "    \"lr\": 0.1,\n",
    "    \"momentum\": 0.5,\n",
    "}"
   ]
  },
  {
   "cell_type": "markdown",
   "metadata": {
    "id": "fXCqwaqmelua"
   },
   "source": [
    "## Create model"
   ]
  },
  {
   "cell_type": "code",
   "execution_count": 13,
   "metadata": {
    "id": "zJV2W6lZeluc"
   },
   "outputs": [],
   "source": [
    "class Net(nn.Module):\n",
    "    def __init__(self):\n",
    "        super(Net, self).__init__()\n",
    "        self.conv1 = nn.Conv2d(1, 10, kernel_size=5)\n",
    "        self.conv2 = nn.Conv2d(10, 20, kernel_size=5)\n",
    "        self.conv2_drop = nn.Dropout2d()\n",
    "        self.fc1 = nn.Linear(320, 50)\n",
    "        self.fc2 = nn.Linear(50, 10)\n",
    "\n",
    "    def forward(self, x):\n",
    "        x = F.relu(F.max_pool2d(self.conv1(x), 2))\n",
    "        x = F.relu(F.max_pool2d(self.conv2_drop(self.conv2(x)), 2))\n",
    "        x = x.view(-1, 320)\n",
    "        x = F.relu(self.fc1(x))\n",
    "        x = F.dropout(x, training=self.training)\n",
    "        x = self.fc2(x)\n",
    "        return F.log_softmax(x, dim=-1)"
   ]
  },
  {
   "cell_type": "code",
   "execution_count": 14,
   "metadata": {
    "id": "Ui44iiKrelue"
   },
   "outputs": [
    {
     "data": {
      "text/plain": [
       "Net(\n",
       "  (conv1): Conv2d(1, 10, kernel_size=(5, 5), stride=(1, 1))\n",
       "  (conv2): Conv2d(10, 20, kernel_size=(5, 5), stride=(1, 1))\n",
       "  (conv2_drop): Dropout2d(p=0.5, inplace=False)\n",
       "  (fc1): Linear(in_features=320, out_features=50, bias=True)\n",
       "  (fc2): Linear(in_features=50, out_features=10, bias=True)\n",
       ")"
      ]
     },
     "execution_count": 14,
     "metadata": {},
     "output_type": "execute_result"
    }
   ],
   "source": [
    "model = Net()\n",
    "device = \"cuda\" if torch.cuda.is_available() else \"cpu\"\n",
    "model.to(device)  # Move model before creating optimizer"
   ]
  },
  {
   "cell_type": "markdown",
   "metadata": {
    "id": "vcWRgu2Feluf",
    "tags": [
     "header"
    ]
   },
   "source": [
    "## Define DataLoader()"
   ]
  },
  {
   "cell_type": "code",
   "execution_count": 15,
   "metadata": {
    "id": "SaBZEKY4eluf",
    "tags": [
     "code"
    ]
   },
   "outputs": [],
   "source": [
    "def get_data_loaders(train_batch_size, val_batch_size):\n",
    "    data_transform = Compose([ToTensor(), Normalize((0.1307,), (0.3081,))])\n",
    "\n",
    "    train_loader = DataLoader(\n",
    "        MNIST(download=True, root=\".\", transform=data_transform, train=True),\n",
    "        batch_size=train_batch_size,\n",
    "        shuffle=True,\n",
    "    )\n",
    "\n",
    "    val_loader = DataLoader(\n",
    "        MNIST(download=False, root=\".\", transform=data_transform, train=False),\n",
    "        batch_size=val_batch_size,\n",
    "        shuffle=False,\n",
    "    )\n",
    "    return train_loader, val_loader"
   ]
  },
  {
   "cell_type": "code",
   "execution_count": 16,
   "metadata": {
    "id": "8t04ULWGelug"
   },
   "outputs": [],
   "source": [
    "train_loader, val_loader = get_data_loaders(params[\"train_batch_size\"], params[\"val_batch_size\"])"
   ]
  },
  {
   "cell_type": "markdown",
   "metadata": {
    "id": "V-DceXNselug"
   },
   "source": [
    "## Create optimizer, trainer, and logger"
   ]
  },
  {
   "cell_type": "code",
   "execution_count": 17,
   "metadata": {
    "id": "lL3OBjbqeluh"
   },
   "outputs": [],
   "source": [
    "optimizer = SGD(model.parameters(), lr=params[\"lr\"], momentum=params[\"momentum\"])\n",
    "criterion = nn.CrossEntropyLoss()\n",
    "\n",
    "trainer = create_supervised_trainer(model, optimizer, criterion, device=device)"
   ]
  },
  {
   "cell_type": "markdown",
   "metadata": {
    "id": "FtveI27Yelui",
    "tags": [
     "header"
    ]
   },
   "source": [
    "## (Neptune) Create NeptuneLogger()"
   ]
  },
  {
   "cell_type": "code",
   "execution_count": 18,
   "metadata": {
    "id": "_9X4eCjGelui"
   },
   "outputs": [
    {
     "name": "stderr",
     "output_type": "stream",
     "text": [
      "c:\\Users\\siddh\\miniconda3\\envs\\py38\\lib\\site-packages\\neptune\\common\\warnings.py:62: NeptuneWarning: To avoid unintended consumption of logging hours during interactive sessions, the following monitoring options are disabled unless set to 'True' when initializing the run: 'capture_stdout', 'capture_stderr', and 'capture_hardware_metrics'.\n",
      "  warnings.warn(\n"
     ]
    },
    {
     "name": "stdout",
     "output_type": "stream",
     "text": [
      "https://app.neptune.ai/common/pytorch-ignite-integration/e/PYTOR2-25\n"
     ]
    }
   ],
   "source": [
    "import neptune\n",
    "from ignite.contrib.handlers.neptune_logger import NeptuneLogger\n",
    "\n",
    "neptune_logger = NeptuneLogger(\n",
    "    api_token=neptune.ANONYMOUS_API_TOKEN,\n",
    "    project=\"common/pytorch-ignite-integration\",\n",
    ")"
   ]
  },
  {
   "cell_type": "markdown",
   "metadata": {
    "id": "9x-KVoHJeluj"
   },
   "source": [
    "To open the run, click the Neptune link that appears in the console output. This will be updated live once training starts."
   ]
  },
  {
   "cell_type": "markdown",
   "metadata": {
    "id": "hu1pkNFQeluj"
   },
   "source": [
    "## (Neptune) Attach logger to the trainer"
   ]
  },
  {
   "cell_type": "code",
   "execution_count": 19,
   "metadata": {
    "id": "0Dy0htR0eluk"
   },
   "outputs": [
    {
     "data": {
      "text/plain": [
       "<ignite.engine.events.RemovableEventHandle at 0x1bb52ffd160>"
      ]
     },
     "execution_count": 19,
     "metadata": {},
     "output_type": "execute_result"
    }
   ],
   "source": [
    "trainer.logger = setup_logger(\"Trainer\")\n",
    "\n",
    "neptune_logger.attach_output_handler(\n",
    "    trainer,\n",
    "    event_name=Events.ITERATION_COMPLETED(every=100),\n",
    "    tag=\"training\",\n",
    "    output_transform=lambda loss: {\"batchloss\": loss},\n",
    ")"
   ]
  },
  {
   "cell_type": "markdown",
   "metadata": {
    "id": "o4hrvDrheluk"
   },
   "source": [
    "## Create evaluators"
   ]
  },
  {
   "cell_type": "code",
   "execution_count": 20,
   "metadata": {
    "id": "P5SPE_e-eluk"
   },
   "outputs": [],
   "source": [
    "metrics = {\"accuracy\": Accuracy(), \"loss\": Loss(criterion)}\n",
    "\n",
    "train_evaluator = create_supervised_evaluator(model, metrics=metrics, device=device)\n",
    "\n",
    "validation_evaluator = create_supervised_evaluator(model, metrics=metrics, device=device)"
   ]
  },
  {
   "cell_type": "code",
   "execution_count": 21,
   "metadata": {
    "id": "jzw-MQcrelul"
   },
   "outputs": [],
   "source": [
    "@trainer.on(Events.EPOCH_COMPLETED)\n",
    "def compute_metrics(engine):\n",
    "    train_evaluator.run(train_loader)\n",
    "    validation_evaluator.run(val_loader)"
   ]
  },
  {
   "cell_type": "markdown",
   "metadata": {
    "id": "8wiMykjielul"
   },
   "source": [
    "### (Neptune) Attach logger to training and validation evaluators"
   ]
  },
  {
   "cell_type": "code",
   "execution_count": 22,
   "metadata": {
    "id": "m8LJIYHRelul"
   },
   "outputs": [],
   "source": [
    "from ignite.contrib.handlers.neptune_logger import global_step_from_engine"
   ]
  },
  {
   "cell_type": "code",
   "execution_count": 23,
   "metadata": {
    "id": "rXXD55yVelum"
   },
   "outputs": [
    {
     "data": {
      "text/plain": [
       "<ignite.engine.events.RemovableEventHandle at 0x1bb52fe8f70>"
      ]
     },
     "execution_count": 23,
     "metadata": {},
     "output_type": "execute_result"
    }
   ],
   "source": [
    "train_evaluator.logger = setup_logger(\"Train Evaluator\")\n",
    "\n",
    "neptune_logger.attach_output_handler(\n",
    "    train_evaluator,\n",
    "    event_name=Events.EPOCH_COMPLETED,  # logging at the end of each epoch\n",
    "    tag=\"training\",\n",
    "    metric_names=\"all\",\n",
    "    global_step_transform=global_step_from_engine(\n",
    "        trainer\n",
    "    ),  # takes the epoch of the trainer instead of train_evaluator\n",
    ")"
   ]
  },
  {
   "cell_type": "code",
   "execution_count": 24,
   "metadata": {
    "id": "eRJKcQeHelum"
   },
   "outputs": [
    {
     "data": {
      "text/plain": [
       "<ignite.engine.events.RemovableEventHandle at 0x1bb52ffd4f0>"
      ]
     },
     "execution_count": 24,
     "metadata": {},
     "output_type": "execute_result"
    }
   ],
   "source": [
    "validation_evaluator.logger = setup_logger(\"Validation Evaluator\")\n",
    "\n",
    "neptune_logger.attach_output_handler(\n",
    "    validation_evaluator,\n",
    "    event_name=Events.EPOCH_COMPLETED,\n",
    "    tag=\"validation\",\n",
    "    metric_names=\"all\",\n",
    "    global_step_transform=global_step_from_engine(\n",
    "        trainer\n",
    "    ),  # takes the epoch of the trainer instead of train_evaluator\n",
    ")"
   ]
  },
  {
   "cell_type": "markdown",
   "metadata": {
    "id": "Erd4Xi3Gelun"
   },
   "source": [
    "## (Neptune) Log optimizer parameters"
   ]
  },
  {
   "cell_type": "code",
   "execution_count": 25,
   "metadata": {
    "id": "WlYJPi3jelun"
   },
   "outputs": [
    {
     "data": {
      "text/plain": [
       "<ignite.engine.events.RemovableEventHandle at 0x1bb52fe8ac0>"
      ]
     },
     "execution_count": 25,
     "metadata": {},
     "output_type": "execute_result"
    }
   ],
   "source": [
    "neptune_logger.attach_opt_params_handler(\n",
    "    trainer,\n",
    "    event_name=Events.ITERATION_COMPLETED(every=100),\n",
    "    optimizer=optimizer,\n",
    ")"
   ]
  },
  {
   "cell_type": "markdown",
   "metadata": {
    "id": "fMVUNWmhelun"
   },
   "source": [
    "## (Neptune) Log model's normalized weights and gradients after each iteration"
   ]
  },
  {
   "cell_type": "code",
   "execution_count": 26,
   "metadata": {
    "id": "K9p9HsQoeluo"
   },
   "outputs": [
    {
     "data": {
      "text/plain": [
       "<ignite.engine.events.RemovableEventHandle at 0x1bb1d49dfd0>"
      ]
     },
     "execution_count": 26,
     "metadata": {},
     "output_type": "execute_result"
    }
   ],
   "source": [
    "from ignite.contrib.handlers.neptune_logger import WeightsScalarHandler\n",
    "\n",
    "neptune_logger.attach(\n",
    "    trainer,\n",
    "    log_handler=WeightsScalarHandler(model, reduction=torch.norm),\n",
    "    event_name=Events.ITERATION_COMPLETED(every=100),\n",
    ")"
   ]
  },
  {
   "cell_type": "code",
   "execution_count": 27,
   "metadata": {
    "id": "8BGG8Wi-elup"
   },
   "outputs": [
    {
     "data": {
      "text/plain": [
       "<ignite.engine.events.RemovableEventHandle at 0x1bb1d4b96a0>"
      ]
     },
     "execution_count": 27,
     "metadata": {},
     "output_type": "execute_result"
    }
   ],
   "source": [
    "from ignite.contrib.handlers.neptune_logger import GradsScalarHandler\n",
    "\n",
    "neptune_logger.attach(\n",
    "    trainer,\n",
    "    log_handler=GradsScalarHandler(model, reduction=torch.norm),\n",
    "    event_name=Events.ITERATION_COMPLETED(every=100),\n",
    ")"
   ]
  },
  {
   "cell_type": "markdown",
   "metadata": {
    "id": "zc-OyA5pelup"
   },
   "source": [
    "## (Neptune) Save model checkpoints\n",
    "__Note:__ `NeptuneSaver` currently does not work on Windows"
   ]
  },
  {
   "cell_type": "code",
   "execution_count": 28,
   "metadata": {
    "id": "r38cOqM5elup"
   },
   "outputs": [],
   "source": [
    "from ignite.handlers import Checkpoint\n",
    "from ignite.contrib.handlers.neptune_logger import NeptuneSaver\n",
    "\n",
    "\n",
    "def score_function(engine):\n",
    "    return engine.state.metrics[\"accuracy\"]\n",
    "\n",
    "\n",
    "to_save = {\"model\": model}\n",
    "\n",
    "handler = Checkpoint(\n",
    "    to_save=to_save,\n",
    "    save_handler=NeptuneSaver(neptune_logger),\n",
    "    n_saved=2,\n",
    "    filename_prefix=\"best\",\n",
    "    score_function=score_function,\n",
    "    score_name=\"validation_accuracy\",\n",
    "    global_step_transform=global_step_from_engine(trainer),\n",
    ")\n",
    "\n",
    "# validation_evaluator.add_event_handler(Events.COMPLETED, handler)"
   ]
  },
  {
   "cell_type": "markdown",
   "metadata": {
    "id": "TfYH1TaKeluq"
   },
   "source": [
    "## Run trainer"
   ]
  },
  {
   "cell_type": "code",
   "execution_count": 29,
   "metadata": {
    "id": "M91ng_fmeluq"
   },
   "outputs": [
    {
     "name": "stderr",
     "output_type": "stream",
     "text": [
      "2023-05-02 11:04:15,546 Trainer INFO: Engine run starting with max_epochs=10.\n",
      "2023-05-02 11:04:31,931 Train Evaluator INFO: Engine run starting with max_epochs=1.\n",
      "2023-05-02 11:04:42,541 Train Evaluator INFO: Epoch[1] Complete. Time taken: 00:00:10.608\n",
      "2023-05-02 11:04:42,542 Train Evaluator INFO: Engine run complete. Time taken: 00:00:10.609\n",
      "2023-05-02 11:04:42,543 Validation Evaluator INFO: Engine run starting with max_epochs=1.\n",
      "2023-05-02 11:04:44,418 Validation Evaluator INFO: Epoch[1] Complete. Time taken: 00:00:01.876\n",
      "2023-05-02 11:04:44,418 Validation Evaluator INFO: Engine run complete. Time taken: 00:00:01.876\n",
      "2023-05-02 11:04:44,419 Trainer INFO: Epoch[1] Complete. Time taken: 00:00:28.867\n",
      "2023-05-02 11:04:59,881 Train Evaluator INFO: Engine run starting with max_epochs=1.\n",
      "2023-05-02 11:05:10,424 Train Evaluator INFO: Epoch[1] Complete. Time taken: 00:00:10.543\n",
      "2023-05-02 11:05:10,425 Train Evaluator INFO: Engine run complete. Time taken: 00:00:10.543\n",
      "2023-05-02 11:05:10,426 Validation Evaluator INFO: Engine run starting with max_epochs=1.\n",
      "2023-05-02 11:05:13,738 Validation Evaluator INFO: Epoch[1] Complete. Time taken: 00:00:03.310\n",
      "2023-05-02 11:05:13,738 Validation Evaluator INFO: Engine run complete. Time taken: 00:00:03.311\n",
      "2023-05-02 11:05:13,739 Trainer INFO: Epoch[2] Complete. Time taken: 00:00:29.320\n",
      "2023-05-02 11:05:52,468 Train Evaluator INFO: Engine run starting with max_epochs=1.\n",
      "2023-05-02 11:06:02,541 Train Evaluator INFO: Epoch[1] Complete. Time taken: 00:00:10.072\n",
      "2023-05-02 11:06:02,542 Train Evaluator INFO: Engine run complete. Time taken: 00:00:10.073\n",
      "2023-05-02 11:06:02,542 Validation Evaluator INFO: Engine run starting with max_epochs=1.\n",
      "2023-05-02 11:06:04,198 Validation Evaluator INFO: Epoch[1] Complete. Time taken: 00:00:01.655\n",
      "2023-05-02 11:06:04,199 Validation Evaluator INFO: Engine run complete. Time taken: 00:00:01.656\n",
      "2023-05-02 11:06:04,199 Trainer INFO: Epoch[3] Complete. Time taken: 00:00:50.461\n",
      "2023-05-02 11:06:24,961 Train Evaluator INFO: Engine run starting with max_epochs=1.\n",
      "2023-05-02 11:06:34,859 Train Evaluator INFO: Epoch[1] Complete. Time taken: 00:00:09.896\n",
      "2023-05-02 11:06:34,859 Train Evaluator INFO: Engine run complete. Time taken: 00:00:09.896\n",
      "2023-05-02 11:06:34,859 Validation Evaluator INFO: Engine run starting with max_epochs=1.\n",
      "2023-05-02 11:06:36,472 Validation Evaluator INFO: Epoch[1] Complete. Time taken: 00:00:01.611\n",
      "2023-05-02 11:06:36,472 Validation Evaluator INFO: Engine run complete. Time taken: 00:00:01.613\n",
      "2023-05-02 11:06:36,473 Trainer INFO: Epoch[4] Complete. Time taken: 00:00:32.273\n",
      "2023-05-02 11:07:10,631 Train Evaluator INFO: Engine run starting with max_epochs=1.\n",
      "2023-05-02 11:07:20,024 Train Evaluator INFO: Epoch[1] Complete. Time taken: 00:00:09.391\n",
      "2023-05-02 11:07:20,025 Train Evaluator INFO: Engine run complete. Time taken: 00:00:09.393\n",
      "2023-05-02 11:07:20,025 Validation Evaluator INFO: Engine run starting with max_epochs=1.\n",
      "2023-05-02 11:07:21,579 Validation Evaluator INFO: Epoch[1] Complete. Time taken: 00:00:01.552\n",
      "2023-05-02 11:07:21,579 Validation Evaluator INFO: Engine run complete. Time taken: 00:00:01.553\n",
      "2023-05-02 11:07:21,579 Trainer INFO: Epoch[5] Complete. Time taken: 00:00:45.106\n",
      "2023-05-02 11:07:36,571 Train Evaluator INFO: Engine run starting with max_epochs=1.\n",
      "2023-05-02 11:07:45,935 Train Evaluator INFO: Epoch[1] Complete. Time taken: 00:00:09.364\n",
      "2023-05-02 11:07:45,936 Train Evaluator INFO: Engine run complete. Time taken: 00:00:09.365\n",
      "2023-05-02 11:07:45,936 Validation Evaluator INFO: Engine run starting with max_epochs=1.\n",
      "2023-05-02 11:07:47,491 Validation Evaluator INFO: Epoch[1] Complete. Time taken: 00:00:01.555\n",
      "2023-05-02 11:07:47,492 Validation Evaluator INFO: Engine run complete. Time taken: 00:00:01.556\n",
      "2023-05-02 11:07:47,492 Trainer INFO: Epoch[6] Complete. Time taken: 00:00:25.912\n",
      "2023-05-02 11:08:02,921 Train Evaluator INFO: Engine run starting with max_epochs=1.\n",
      "2023-05-02 11:08:12,714 Train Evaluator INFO: Epoch[1] Complete. Time taken: 00:00:09.793\n",
      "2023-05-02 11:08:12,714 Train Evaluator INFO: Engine run complete. Time taken: 00:00:09.793\n",
      "2023-05-02 11:08:12,715 Validation Evaluator INFO: Engine run starting with max_epochs=1.\n",
      "2023-05-02 11:08:14,373 Validation Evaluator INFO: Epoch[1] Complete. Time taken: 00:00:01.658\n",
      "2023-05-02 11:08:14,373 Validation Evaluator INFO: Engine run complete. Time taken: 00:00:01.658\n",
      "2023-05-02 11:08:14,374 Trainer INFO: Epoch[7] Complete. Time taken: 00:00:26.880\n",
      "2023-05-02 11:08:41,539 Train Evaluator INFO: Engine run starting with max_epochs=1.\n",
      "2023-05-02 11:08:53,765 Train Evaluator INFO: Epoch[1] Complete. Time taken: 00:00:12.226\n",
      "2023-05-02 11:08:53,770 Train Evaluator INFO: Engine run complete. Time taken: 00:00:12.231\n",
      "2023-05-02 11:08:53,772 Validation Evaluator INFO: Engine run starting with max_epochs=1.\n",
      "2023-05-02 11:08:57,713 Validation Evaluator INFO: Epoch[1] Complete. Time taken: 00:00:03.941\n",
      "2023-05-02 11:08:57,715 Validation Evaluator INFO: Engine run complete. Time taken: 00:00:03.943\n",
      "2023-05-02 11:08:57,715 Trainer INFO: Epoch[8] Complete. Time taken: 00:00:43.342\n",
      "2023-05-02 11:09:39,034 Train Evaluator INFO: Engine run starting with max_epochs=1.\n",
      "2023-05-02 11:09:49,236 Train Evaluator INFO: Epoch[1] Complete. Time taken: 00:00:10.202\n",
      "2023-05-02 11:09:49,237 Train Evaluator INFO: Engine run complete. Time taken: 00:00:10.203\n",
      "2023-05-02 11:09:49,237 Validation Evaluator INFO: Engine run starting with max_epochs=1.\n",
      "2023-05-02 11:09:51,028 Validation Evaluator INFO: Epoch[1] Complete. Time taken: 00:00:01.790\n",
      "2023-05-02 11:09:51,029 Validation Evaluator INFO: Engine run complete. Time taken: 00:00:01.791\n",
      "2023-05-02 11:09:51,029 Trainer INFO: Epoch[9] Complete. Time taken: 00:00:53.311\n",
      "2023-05-02 11:10:06,385 Train Evaluator INFO: Engine run starting with max_epochs=1.\n",
      "2023-05-02 11:10:17,001 Train Evaluator INFO: Epoch[1] Complete. Time taken: 00:00:10.616\n",
      "2023-05-02 11:10:17,002 Train Evaluator INFO: Engine run complete. Time taken: 00:00:10.617\n",
      "2023-05-02 11:10:17,002 Validation Evaluator INFO: Engine run starting with max_epochs=1.\n",
      "2023-05-02 11:10:18,746 Validation Evaluator INFO: Epoch[1] Complete. Time taken: 00:00:01.743\n",
      "2023-05-02 11:10:18,747 Validation Evaluator INFO: Engine run complete. Time taken: 00:00:01.744\n",
      "2023-05-02 11:10:18,747 Trainer INFO: Epoch[10] Complete. Time taken: 00:00:27.717\n",
      "2023-05-02 11:10:18,748 Trainer INFO: Engine run complete. Time taken: 00:06:03.202\n"
     ]
    },
    {
     "data": {
      "text/plain": [
       "State:\n",
       "\titeration: 9380\n",
       "\tepoch: 10\n",
       "\tepoch_length: 938\n",
       "\tmax_epochs: 10\n",
       "\tmax_iters: <class 'NoneType'>\n",
       "\toutput: 0.04835706204175949\n",
       "\tbatch: <class 'list'>\n",
       "\tmetrics: <class 'dict'>\n",
       "\tdataloader: <class 'torch.utils.data.dataloader.DataLoader'>\n",
       "\tseed: <class 'NoneType'>\n",
       "\ttimes: <class 'dict'>"
      ]
     },
     "execution_count": 29,
     "metadata": {},
     "output_type": "execute_result"
    }
   ],
   "source": [
    "trainer.run(train_loader, max_epochs=params[\"epochs\"])"
   ]
  },
  {
   "cell_type": "markdown",
   "metadata": {
    "id": "0tbeA_z9eluq"
   },
   "source": [
    "Head back to the run on Neptune to watch it being updated live!"
   ]
  },
  {
   "cell_type": "markdown",
   "metadata": {
    "id": "SYobp2q4eluq"
   },
   "source": [
    "## (Neptune) Logging additional metadata after training\n",
    "You can access the Neptune run through the `.experiment` attribute of the `NeptuneLogger` object."
   ]
  },
  {
   "cell_type": "markdown",
   "metadata": {
    "id": "I_95r5cqelur"
   },
   "source": [
    "### (Neptune) Log hyper-parameters"
   ]
  },
  {
   "cell_type": "code",
   "execution_count": 30,
   "metadata": {
    "id": "NF60rSd8elur"
   },
   "outputs": [],
   "source": [
    "neptune_logger.experiment[\"params\"] = params"
   ]
  },
  {
   "cell_type": "markdown",
   "metadata": {
    "id": "vajObO2_elur"
   },
   "source": [
    "### (Neptune) Upload trained model"
   ]
  },
  {
   "cell_type": "code",
   "execution_count": 31,
   "metadata": {
    "id": "-FcYJnrJelur"
   },
   "outputs": [],
   "source": [
    "torch.save(model.state_dict(), \"model.pth\")\n",
    "neptune_logger.experiment[\"trained_model\"].upload(\"model.pth\")"
   ]
  },
  {
   "cell_type": "markdown",
   "metadata": {
    "id": "HOzeOKoxelur"
   },
   "source": [
    "## (Neptune) Stop logging"
   ]
  },
  {
   "cell_type": "code",
   "execution_count": 32,
   "metadata": {
    "id": "zVbvAyRLelut"
   },
   "outputs": [
    {
     "name": "stdout",
     "output_type": "stream",
     "text": [
      "Shutting down background jobs, please wait a moment...\n",
      "Done!\n",
      "Waiting for the remaining 10 operations to synchronize with Neptune. Do not kill this process.\n",
      "All 10 operations synced, thanks for waiting!\n",
      "Explore the metadata in the Neptune app:\n",
      "https://app.neptune.ai/common/pytorch-ignite-integration/e/PYTOR2-25/metadata\n"
     ]
    }
   ],
   "source": [
    "neptune_logger.close()"
   ]
  },
  {
   "cell_type": "markdown",
   "metadata": {
    "id": "HIL4YStSelut",
    "tags": [
     "header"
    ]
   },
   "source": [
    "## Analyze logged metadata in the Neptune app"
   ]
  },
  {
   "cell_type": "markdown",
   "metadata": {
    "id": "IolGWegcelut",
    "tags": [
     "comment"
    ]
   },
   "source": [
    "Go to the run link and explore metadata (metrics, params, model checkpoints) that were logged to the run in Neptune."
   ]
  }
 ],
 "metadata": {
  "accelerator": "GPU",
  "colab": {
   "private_outputs": true,
   "provenance": [],
   "toc_visible": true
  },
  "gpuClass": "standard",
  "kernelspec": {
   "display_name": "py38",
   "language": "python",
   "name": "python3"
  },
  "language_info": {
   "codemirror_mode": {
    "name": "ipython",
    "version": 3
   },
   "file_extension": ".py",
   "mimetype": "text/x-python",
   "name": "python",
   "nbconvert_exporter": "python",
   "pygments_lexer": "ipython3",
   "version": "3.8.15"
  },
  "vscode": {
   "interpreter": {
    "hash": "a9715cf0b0024f6e1c62cb31a4f1f43970eb41991212681878768b4bfe53050a"
   }
  }
 },
 "nbformat": 4,
 "nbformat_minor": 0
}
