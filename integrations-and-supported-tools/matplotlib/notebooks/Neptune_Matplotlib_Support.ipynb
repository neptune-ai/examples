{
 "cells": [
  {
   "cell_type": "markdown",
   "metadata": {
    "id": "GG3_2HyRVY4Y",
    "tags": [
     "header",
     "comment"
    ]
   },
   "source": [
    "# Introduction\n",
    "\n",
    "This guide will show you how to:\n",
    "\n",
    "* Install ```neptune-client```,\n",
    "* Initialize Neptune and create a `run`,\n",
    "* Log `matplotlib` charts to Neptune."
   ]
  },
  {
   "cell_type": "markdown",
   "metadata": {
    "id": "1tBfsYCm05rl"
   },
   "source": [
    "# Before you start\n",
    "\n",
    "Install `neptune-client`, `matplotlib`, and `plotly`"
   ]
  },
  {
   "cell_type": "code",
   "execution_count": null,
   "metadata": {
    "id": "xm0WX77L1Nii"
   },
   "outputs": [],
   "source": [
    "! pip install matplotlib==3.2.2 neptune-client plotly==5.0.0"
   ]
  },
  {
   "cell_type": "markdown",
   "metadata": {
    "id": "0NQaVXuoWA-E",
    "tags": [
     "header",
     "installation"
    ]
   },
   "source": [
    "# Import and initialize `neptune`"
   ]
  },
  {
   "cell_type": "code",
   "execution_count": null,
   "metadata": {
    "id": "quJ_tJDk7R3e"
   },
   "outputs": [],
   "source": [
    "import neptune.new as neptune\n",
    "\n",
    "run = neptune.init(api_token=\"ANONYMOUS\", project=\"common/matplotlib-support\")"
   ]
  },
  {
   "cell_type": "markdown",
   "metadata": {
    "id": "VnSWXRbXHUz3",
    "tags": [
     "comment",
     "exclude"
    ]
   },
   "source": [
    "Click on the link above to open this run in Neptune. For now, it is empty but keep the tab with run open to see what happens next."
   ]
  },
  {
   "cell_type": "markdown",
   "metadata": {
    "id": "QYakxenbPkrR"
   },
   "source": [
    "**Note:**<br>\n",
    "To [create your own private projects](https://docs.neptune.ai/administration/workspace-project-and-user-management/projects#create-project), you will need a [Neptune account](https://neptune.ai/register) and  your [personal Neptune API token](https://docs.neptune.ai/getting-started/installation#get-api-token)."
   ]
  },
  {
   "cell_type": "markdown",
   "metadata": {
    "id": "pk4ZgmW9Q7Mg",
    "tags": [
     "header"
    ]
   },
   "source": [
    "# Log `matplotlib` charts to Neptune"
   ]
  },
  {
   "cell_type": "markdown",
   "metadata": {
    "id": "E3XjDiMB-XDK"
   },
   "source": [
    "## Create a sample chart"
   ]
  },
  {
   "cell_type": "code",
   "execution_count": null,
   "metadata": {
    "id": "V6i1BJfL96ww"
   },
   "outputs": [],
   "source": [
    "import matplotlib.pyplot as plt\n",
    "import numpy as np\n",
    "\n",
    "np.random.seed(42)\n",
    "data = np.random.randn(2, 100)\n",
    "\n",
    "figure, ax = plt.subplots(2, 2, figsize=(5, 5))\n",
    "ax[0, 0].hist(data[0])\n",
    "ax[1, 0].scatter(data[0], data[1])\n",
    "ax[0, 1].plot(data[0], data[1])"
   ]
  },
  {
   "cell_type": "markdown",
   "metadata": {
    "id": "BmoK95Ur-eEr"
   },
   "source": [
    "## Log as static image"
   ]
  },
  {
   "cell_type": "code",
   "execution_count": null,
   "metadata": {
    "id": "caWJsNJg-iCz"
   },
   "outputs": [],
   "source": [
    "run[\"static-img\"].upload(neptune.types.File.as_image(figure))"
   ]
  },
  {
   "cell_type": "markdown",
   "metadata": {
    "id": "tqqF7gsP_Sh9"
   },
   "source": [
    "## Log as interactive image"
   ]
  },
  {
   "cell_type": "code",
   "execution_count": null,
   "metadata": {
    "id": "8WWCJy73_Sh_"
   },
   "outputs": [],
   "source": [
    "run[\"interactive-img\"].upload(neptune.types.File.as_html(figure))"
   ]
  },
  {
   "cell_type": "markdown",
   "metadata": {
    "id": "XSHLD6AkI7LW"
   },
   "source": [
    "# Stop logging\n",
    "\n",
    "<font color=red>**Warning:**</font><br>\n",
    "Once you are done logging, you should stop tracking the run using the `stop()` method.\n",
    "This is needed only while logging from a notebook environment. While logging through a script, Neptune automatically stops tracking once the script has completed execution."
   ]
  },
  {
   "cell_type": "code",
   "execution_count": null,
   "metadata": {
    "id": "Zgh3NwDoJAuG"
   },
   "outputs": [],
   "source": [
    "run.stop()"
   ]
  },
  {
   "cell_type": "markdown",
   "metadata": {
    "id": "swXKaHZmASyd"
   },
   "source": [
    "# Explore the charts in Neptune\n",
    "\n",
    "The images can be found in the **All metadata** section  \n",
    "![](https://gblobscdn.gitbook.com/assets%2F-MT0sYKbymfLAAtTq4-t%2F-MZ1VQbLNKU9dhA3tLHR%2F-MZ3Tcz_YVuzbE5qocz2%2Fmatplotlib-logging.gif?alt=media&token=9d6b8308-1a25-4559-bb24-adee31a2803b)"
   ]
  },
  {
   "cell_type": "markdown",
   "metadata": {
    "id": "had9MNRtQ7Mr",
    "tags": [
     "comment"
    ]
   },
   "source": [
    "# Conclusion\n",
    "\n",
    "You’ve learned how to:\n",
    "* Initialize Neptune and create a run,\n",
    "* Log `matplotlib` charts to Neptune."
   ]
  },
  {
   "cell_type": "markdown",
   "metadata": {
    "id": "_3ibcYhPQ7Mr",
    "tags": [
     "comment"
    ]
   },
   "source": [
    "# What's next\n",
    "\n",
    "Now that you know how to log charts to Neptune, you can learn:\n",
    "\n",
    "* [How to log other types of metadata to Neptune](https://docs.neptune.ai/you-should-know/logging-and-managing-runs-results/logging-runs-data#what-objects-can-you-log-to-neptune)\n",
    "* [How to download runs data from Neptune](https://docs.neptune.ai/user-guides/logging-and-managing-runs-results/downloading-runs-data)\n",
    "* [How to connect Neptune to the ML framework you are using](https://docs.neptune.ai/essentials/integrations)"
   ]
  }
 ],
 "metadata": {
  "colab": {
   "collapsed_sections": [],
   "name": "Neptune_Matplotlib_Support.ipynb",
   "private_outputs": true,
   "provenance": [],
   "toc_visible": true
  },
  "kernelspec": {
   "display_name": "Python 3",
   "language": "python",
   "name": "python3"
  },
  "language_info": {
   "codemirror_mode": {
    "name": "ipython",
    "version": 3
   },
   "file_extension": ".py",
   "mimetype": "text/x-python",
   "name": "python",
   "nbconvert_exporter": "python",
   "pygments_lexer": "ipython3",
   "version": "3.8.5"
  },
  "toc-autonumbering": true,
  "toc-showcode": false,
  "toc-showmarkdowntxt": false,
  "toc-showtags": true
 },
 "nbformat": 4,
 "nbformat_minor": 4
}
