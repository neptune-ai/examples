{
 "cells": [
  {
   "attachments": {},
   "cell_type": "markdown",
   "metadata": {
    "id": "EYNlatILeluO"
   },
   "source": [
    "![Neptune + MosaicML Composer](https://neptune.ai/wp-content/uploads/2023/09/mosiacml.svg)\n",
    "\n",
    "# Neptune + MosaicML\n",
    "\n",
    "<a target=\"_blank\" href=\"https://colab.research.google.com/github/neptune-ai/examples/blob/main/integrations-and-supported-tools/mosaicml/notebooks/Neptune_MosaicML.ipynb\">\n",
    "  <img src=\"https://colab.research.google.com/assets/colab-badge.svg\" alt=\"Open in Colab\"/>\n",
    "</a>\n",
    "\n",
    "<a target=\"_blank\" href=\"https://github.com/neptune-ai/examples/blob/main/integrations-and-supported-tools/mosaicml/notebooks/Neptune_MosaicML.ipynb\">\n",
    "  <img alt=\"Open in GitHub\" src=\"https://img.shields.io/badge/Open_in_GitHub-blue?logo=github&labelColor=black\">\n",
    "</a>"
   ]
  },
  {
   "attachments": {},
   "cell_type": "markdown",
   "metadata": {
    "id": "zY6B8JTKeluQ",
    "tags": [
     "header",
     "comment"
    ]
   },
   "source": [
    "## Introduction\n",
    "\n",
    "[MosaicML Composer](https://github.com/mosaicml/composer) is a PyTorch library for efficient neural network training.\n",
    "\n",
    "This guide will show you how to:\n",
    "\n",
    "* Create a Neptune logger for MosaicML Composer\n",
    "* Automatically log your Composer training metadata to Neptune"
   ]
  },
  {
   "cell_type": "markdown",
   "metadata": {
    "id": "EiPydbIreluR"
   },
   "source": [
    "## Before you start\n",
    "\n",
    "This notebook example lets you try out Neptune as an anonymous user, with zero setup.\n",
    "\n",
    "If you want to see the example logged to your own workspace instead:\n",
    "\n",
    "  1. Create a Neptune account. [Register &rarr;](https://neptune.ai/register)\n",
    "  1. Create a Neptune project that you will use for tracking metadata. For instructions, see [Creating a project](https://docs.neptune.ai/setup/creating_project) in the Neptune docs."
   ]
  },
  {
   "cell_type": "markdown",
   "metadata": {
    "id": "NTVvWzR-eluS"
   },
   "source": [
    "## Install Neptune and dependencies"
   ]
  },
  {
   "cell_type": "code",
   "execution_count": 2,
   "metadata": {},
   "outputs": [
    {
     "name": "stdout",
     "output_type": "stream",
     "text": [
      "Requirement already satisfied: neptune in /opt/conda/lib/python3.10/site-packages (1.7.0)\n",
      "Requirement already satisfied: mosaicml in /opt/conda/lib/python3.10/site-packages (0.16.0)\n",
      "Collecting mosaicml\n",
      "  Using cached mosaicml-0.16.2-py3-none-any.whl (604 kB)\n",
      "Requirement already satisfied: torch in /opt/conda/lib/python3.10/site-packages (2.0.1)\n",
      "Requirement already satisfied: torchvision in /opt/conda/lib/python3.10/site-packages (0.15.2)\n",
      "Requirement already satisfied: packaging in /opt/conda/lib/python3.10/site-packages (from neptune) (22.0)\n",
      "Requirement already satisfied: Pillow>=1.1.6 in /opt/conda/lib/python3.10/site-packages (from neptune) (9.4.0)\n",
      "Requirement already satisfied: GitPython>=2.0.8 in /opt/conda/lib/python3.10/site-packages (from neptune) (3.1.31)\n",
      "Requirement already satisfied: requests>=2.20.0 in /opt/conda/lib/python3.10/site-packages (from neptune) (2.29.0)\n",
      "Requirement already satisfied: urllib3 in /opt/conda/lib/python3.10/site-packages (from neptune) (1.26.15)\n",
      "Requirement already satisfied: pandas in /opt/conda/lib/python3.10/site-packages (from neptune) (2.0.1)\n",
      "Requirement already satisfied: websocket-client!=1.0.0,>=0.35.0 in /opt/conda/lib/python3.10/site-packages (from neptune) (1.5.1)\n",
      "Requirement already satisfied: PyJWT in /opt/conda/lib/python3.10/site-packages (from neptune) (2.8.0)\n",
      "Requirement already satisfied: six>=1.12.0 in /opt/conda/lib/python3.10/site-packages (from neptune) (1.16.0)\n",
      "Requirement already satisfied: psutil in /opt/conda/lib/python3.10/site-packages (from neptune) (5.9.0)\n",
      "Requirement already satisfied: bravado<12.0.0,>=11.0.0 in /opt/conda/lib/python3.10/site-packages (from neptune) (11.0.3)\n",
      "Requirement already satisfied: click>=7.0 in /opt/conda/lib/python3.10/site-packages (from neptune) (8.1.3)\n",
      "Requirement already satisfied: boto3>=1.16.0 in /opt/conda/lib/python3.10/site-packages (from neptune) (1.28.54)\n",
      "Requirement already satisfied: oauthlib>=2.1.0 in /opt/conda/lib/python3.10/site-packages (from neptune) (3.2.2)\n",
      "Requirement already satisfied: requests-oauthlib>=1.0.0 in /opt/conda/lib/python3.10/site-packages (from neptune) (1.3.1)\n",
      "Requirement already satisfied: future>=0.17.1 in /opt/conda/lib/python3.10/site-packages (from neptune) (0.18.3)\n",
      "Requirement already satisfied: swagger-spec-validator>=2.7.4 in /opt/conda/lib/python3.10/site-packages (from neptune) (3.0.3)\n",
      "Requirement already satisfied: tabulate==0.9.0 in /opt/conda/lib/python3.10/site-packages (from mosaicml) (0.9.0)\n",
      "Requirement already satisfied: pyyaml<7,>=6.0 in /opt/conda/lib/python3.10/site-packages (from mosaicml) (6.0)\n",
      "Requirement already satisfied: py-cpuinfo<10,>=8.0.0 in /opt/conda/lib/python3.10/site-packages (from mosaicml) (9.0.0)\n",
      "Requirement already satisfied: numpy<1.26.0,>=1.21.5 in /opt/conda/lib/python3.10/site-packages (from mosaicml) (1.24.3)\n",
      "Requirement already satisfied: tqdm<5,>=4.62.3 in /opt/conda/lib/python3.10/site-packages (from mosaicml) (4.65.0)\n",
      "Requirement already satisfied: importlib-metadata<7,>=5.0.0 in /opt/conda/lib/python3.10/site-packages (from mosaicml) (6.6.0)\n",
      "Requirement already satisfied: torch-optimizer<0.4,>=0.3.0 in /opt/conda/lib/python3.10/site-packages (from mosaicml) (0.3.0)\n",
      "Requirement already satisfied: torchmetrics<1.1,>=0.10.0 in /opt/conda/lib/python3.10/site-packages (from mosaicml) (1.0.3)\n",
      "Requirement already satisfied: coolname<3,>=1.1.0 in /opt/conda/lib/python3.10/site-packages (from mosaicml) (2.2.0)\n",
      "Requirement already satisfied: mosaicml-cli<0.6,>=0.4.12 in /opt/conda/lib/python3.10/site-packages (from mosaicml) (0.5.14)\n",
      "Requirement already satisfied: filelock in /opt/conda/lib/python3.10/site-packages (from torch) (3.9.0)\n",
      "Requirement already satisfied: typing-extensions in /opt/conda/lib/python3.10/site-packages (from torch) (4.5.0)\n",
      "Requirement already satisfied: sympy in /opt/conda/lib/python3.10/site-packages (from torch) (1.12)\n",
      "Requirement already satisfied: networkx in /opt/conda/lib/python3.10/site-packages (from torch) (3.1)\n",
      "Requirement already satisfied: jinja2 in /opt/conda/lib/python3.10/site-packages (from torch) (3.1.2)\n",
      "Requirement already satisfied: botocore<1.32.0,>=1.31.54 in /opt/conda/lib/python3.10/site-packages (from boto3>=1.16.0->neptune) (1.31.54)\n",
      "Requirement already satisfied: s3transfer<0.7.0,>=0.6.0 in /opt/conda/lib/python3.10/site-packages (from boto3>=1.16.0->neptune) (0.6.2)\n",
      "Requirement already satisfied: jmespath<2.0.0,>=0.7.1 in /opt/conda/lib/python3.10/site-packages (from boto3>=1.16.0->neptune) (1.0.1)\n",
      "Requirement already satisfied: msgpack in /opt/conda/lib/python3.10/site-packages (from bravado<12.0.0,>=11.0.0->neptune) (1.0.6)\n",
      "Requirement already satisfied: bravado-core>=5.16.1 in /opt/conda/lib/python3.10/site-packages (from bravado<12.0.0,>=11.0.0->neptune) (6.1.0)\n",
      "Requirement already satisfied: python-dateutil in /opt/conda/lib/python3.10/site-packages (from bravado<12.0.0,>=11.0.0->neptune) (2.8.2)\n",
      "Requirement already satisfied: monotonic in /opt/conda/lib/python3.10/site-packages (from bravado<12.0.0,>=11.0.0->neptune) (1.6)\n",
      "Requirement already satisfied: simplejson in /opt/conda/lib/python3.10/site-packages (from bravado<12.0.0,>=11.0.0->neptune) (3.19.1)\n",
      "Requirement already satisfied: gitdb<5,>=4.0.1 in /opt/conda/lib/python3.10/site-packages (from GitPython>=2.0.8->neptune) (4.0.10)\n",
      "Requirement already satisfied: zipp>=0.5 in /opt/conda/lib/python3.10/site-packages (from importlib-metadata<7,>=5.0.0->mosaicml) (3.15.0)\n",
      "Requirement already satisfied: prompt-toolkit>=3.0.29 in /opt/conda/lib/python3.10/site-packages (from mosaicml-cli<0.6,>=0.4.12->mosaicml) (3.0.36)\n",
      "Requirement already satisfied: argcomplete>=2.0.0 in /opt/conda/lib/python3.10/site-packages (from mosaicml-cli<0.6,>=0.4.12->mosaicml) (3.1.2)\n",
      "Requirement already satisfied: backoff>=2.2.1 in /opt/conda/lib/python3.10/site-packages (from mosaicml-cli<0.6,>=0.4.12->mosaicml) (2.2.1)\n",
      "Requirement already satisfied: gql[websockets]>=3.4.0 in /opt/conda/lib/python3.10/site-packages (from mosaicml-cli<0.6,>=0.4.12->mosaicml) (3.4.1)\n",
      "Requirement already satisfied: ruamel.yaml>=0.17.21 in /opt/conda/lib/python3.10/site-packages (from mosaicml-cli<0.6,>=0.4.12->mosaicml) (0.17.21)\n",
      "Requirement already satisfied: arrow>=1.2.2 in /opt/conda/lib/python3.10/site-packages (from mosaicml-cli<0.6,>=0.4.12->mosaicml) (1.2.3)\n",
      "Requirement already satisfied: questionary>=1.10.0 in /opt/conda/lib/python3.10/site-packages (from mosaicml-cli<0.6,>=0.4.12->mosaicml) (2.0.1)\n",
      "Requirement already satisfied: validators>=0.20.0 in /opt/conda/lib/python3.10/site-packages (from mosaicml-cli<0.6,>=0.4.12->mosaicml) (0.22.0)\n",
      "Requirement already satisfied: protobuf>=3.20.0 in /opt/conda/lib/python3.10/site-packages (from mosaicml-cli<0.6,>=0.4.12->mosaicml) (4.24.3)\n",
      "Requirement already satisfied: rich>=12.6.0 in /opt/conda/lib/python3.10/site-packages (from mosaicml-cli<0.6,>=0.4.12->mosaicml) (13.5.3)\n",
      "Requirement already satisfied: idna<4,>=2.5 in /opt/conda/lib/python3.10/site-packages (from requests>=2.20.0->neptune) (3.4)\n",
      "Requirement already satisfied: certifi>=2017.4.17 in /opt/conda/lib/python3.10/site-packages (from requests>=2.20.0->neptune) (2023.5.7)\n",
      "Requirement already satisfied: charset-normalizer<4,>=2 in /opt/conda/lib/python3.10/site-packages (from requests>=2.20.0->neptune) (2.0.4)\n",
      "Requirement already satisfied: jsonschema in /opt/conda/lib/python3.10/site-packages (from swagger-spec-validator>=2.7.4->neptune) (4.17.3)\n",
      "Requirement already satisfied: pytorch-ranger>=0.1.1 in /opt/conda/lib/python3.10/site-packages (from torch-optimizer<0.4,>=0.3.0->mosaicml) (0.1.1)\n",
      "Requirement already satisfied: lightning-utilities>=0.7.0 in /opt/conda/lib/python3.10/site-packages (from torchmetrics<1.1,>=0.10.0->mosaicml) (0.9.0)\n",
      "Requirement already satisfied: MarkupSafe>=2.0 in /opt/conda/lib/python3.10/site-packages (from jinja2->torch) (2.1.1)\n",
      "Requirement already satisfied: tzdata>=2022.1 in /opt/conda/lib/python3.10/site-packages (from pandas->neptune) (2023.3)\n",
      "Requirement already satisfied: pytz>=2020.1 in /opt/conda/lib/python3.10/site-packages (from pandas->neptune) (2022.7)\n",
      "Requirement already satisfied: mpmath>=0.19 in /opt/conda/lib/python3.10/site-packages (from sympy->torch) (1.3.0)\n",
      "Requirement already satisfied: jsonref in /opt/conda/lib/python3.10/site-packages (from bravado-core>=5.16.1->bravado<12.0.0,>=11.0.0->neptune) (1.1.0)\n",
      "Requirement already satisfied: smmap<6,>=3.0.1 in /opt/conda/lib/python3.10/site-packages (from gitdb<5,>=4.0.1->GitPython>=2.0.8->neptune) (3.0.5)\n",
      "Requirement already satisfied: yarl<2.0,>=1.6 in /opt/conda/lib/python3.10/site-packages (from gql[websockets]>=3.4.0->mosaicml-cli<0.6,>=0.4.12->mosaicml) (1.9.2)\n",
      "Requirement already satisfied: graphql-core<3.3,>=3.2 in /opt/conda/lib/python3.10/site-packages (from gql[websockets]>=3.4.0->mosaicml-cli<0.6,>=0.4.12->mosaicml) (3.2.3)\n",
      "Requirement already satisfied: websockets<11,>=10 in /opt/conda/lib/python3.10/site-packages (from gql[websockets]>=3.4.0->mosaicml-cli<0.6,>=0.4.12->mosaicml) (10.4)\n",
      "Requirement already satisfied: wcwidth in /opt/conda/lib/python3.10/site-packages (from prompt-toolkit>=3.0.29->mosaicml-cli<0.6,>=0.4.12->mosaicml) (0.2.5)\n",
      "Requirement already satisfied: pygments<3.0.0,>=2.13.0 in /opt/conda/lib/python3.10/site-packages (from rich>=12.6.0->mosaicml-cli<0.6,>=0.4.12->mosaicml) (2.15.1)\n",
      "Requirement already satisfied: markdown-it-py>=2.2.0 in /opt/conda/lib/python3.10/site-packages (from rich>=12.6.0->mosaicml-cli<0.6,>=0.4.12->mosaicml) (3.0.0)\n",
      "Requirement already satisfied: ruamel.yaml.clib>=0.2.6 in /opt/conda/lib/python3.10/site-packages (from ruamel.yaml>=0.17.21->mosaicml-cli<0.6,>=0.4.12->mosaicml) (0.2.6)\n",
      "Requirement already satisfied: attrs>=17.4.0 in /opt/conda/lib/python3.10/site-packages (from jsonschema->swagger-spec-validator>=2.7.4->neptune) (23.1.0)\n",
      "Requirement already satisfied: pyrsistent!=0.17.0,!=0.17.1,!=0.17.2,>=0.14.0 in /opt/conda/lib/python3.10/site-packages (from jsonschema->swagger-spec-validator>=2.7.4->neptune) (0.19.3)\n",
      "Requirement already satisfied: rfc3987 in /opt/conda/lib/python3.10/site-packages (from jsonschema->swagger-spec-validator>=2.7.4->neptune) (1.3.8)\n",
      "Requirement already satisfied: uri-template in /opt/conda/lib/python3.10/site-packages (from jsonschema->swagger-spec-validator>=2.7.4->neptune) (1.2.0)\n",
      "Requirement already satisfied: rfc3339-validator in /opt/conda/lib/python3.10/site-packages (from jsonschema->swagger-spec-validator>=2.7.4->neptune) (0.1.4)\n",
      "Requirement already satisfied: fqdn in /opt/conda/lib/python3.10/site-packages (from jsonschema->swagger-spec-validator>=2.7.4->neptune) (1.5.1)\n",
      "Requirement already satisfied: jsonpointer>1.13 in /opt/conda/lib/python3.10/site-packages (from jsonschema->swagger-spec-validator>=2.7.4->neptune) (2.1)\n",
      "Requirement already satisfied: webcolors>=1.11 in /opt/conda/lib/python3.10/site-packages (from jsonschema->swagger-spec-validator>=2.7.4->neptune) (1.13)\n",
      "Requirement already satisfied: isoduration in /opt/conda/lib/python3.10/site-packages (from jsonschema->swagger-spec-validator>=2.7.4->neptune) (20.11.0)\n",
      "Requirement already satisfied: mdurl~=0.1 in /opt/conda/lib/python3.10/site-packages (from markdown-it-py>=2.2.0->rich>=12.6.0->mosaicml-cli<0.6,>=0.4.12->mosaicml) (0.1.2)\n",
      "Requirement already satisfied: multidict>=4.0 in /opt/conda/lib/python3.10/site-packages (from yarl<2.0,>=1.6->gql[websockets]>=3.4.0->mosaicml-cli<0.6,>=0.4.12->mosaicml) (6.0.4)\n",
      "Installing collected packages: mosaicml\n",
      "  Attempting uninstall: mosaicml\n",
      "    Found existing installation: mosaicml 0.16.0\n",
      "    Uninstalling mosaicml-0.16.0:\n",
      "      Successfully uninstalled mosaicml-0.16.0\n",
      "Successfully installed mosaicml-0.16.2\n",
      "\u001b[33mWARNING: Running pip as the 'root' user can result in broken permissions and conflicting behaviour with the system package manager. It is recommended to use a virtual environment instead: https://pip.pypa.io/warnings/venv\u001b[0m\u001b[33m\n",
      "\u001b[0mNote: you may need to restart the kernel to use updated packages.\n",
      "Collecting git+https://github.com/AleksanderWWW/composer.git\n",
      "  Cloning https://github.com/AleksanderWWW/composer.git to /tmp/pip-req-build-s07a00ty\n",
      "  Running command git clone --filter=blob:none --quiet https://github.com/AleksanderWWW/composer.git /tmp/pip-req-build-s07a00ty\n",
      "  Resolved https://github.com/AleksanderWWW/composer.git to commit f34f86bd3e23def060577d559fc9a557ff11a19f\n",
      "  Installing build dependencies ... \u001b[?25ldone\n",
      "\u001b[?25h  Getting requirements to build wheel ... \u001b[?25ldone\n",
      "\u001b[?25h  Installing backend dependencies ... \u001b[?25ldone\n",
      "\u001b[?25h  Preparing metadata (pyproject.toml) ... \u001b[?25ldone\n",
      "\u001b[?25hRequirement already satisfied: tabulate==0.9.0 in /opt/conda/lib/python3.10/site-packages (from mosaicml==0.16.0) (0.9.0)\n",
      "Requirement already satisfied: psutil<6,>=5.8.0 in /opt/conda/lib/python3.10/site-packages (from mosaicml==0.16.0) (5.9.0)\n",
      "Requirement already satisfied: tqdm<5,>=4.62.3 in /opt/conda/lib/python3.10/site-packages (from mosaicml==0.16.0) (4.65.0)\n",
      "Requirement already satisfied: packaging<23,>=21.3.0 in /opt/conda/lib/python3.10/site-packages (from mosaicml==0.16.0) (22.0)\n",
      "Requirement already satisfied: torch<2.1,>=1.13.1 in /opt/conda/lib/python3.10/site-packages (from mosaicml==0.16.0) (2.0.1)\n",
      "Requirement already satisfied: numpy<1.26.0,>=1.21.5 in /opt/conda/lib/python3.10/site-packages (from mosaicml==0.16.0) (1.24.3)\n",
      "Requirement already satisfied: py-cpuinfo<10,>=8.0.0 in /opt/conda/lib/python3.10/site-packages (from mosaicml==0.16.0) (9.0.0)\n",
      "Requirement already satisfied: importlib-metadata<7,>=5.0.0 in /opt/conda/lib/python3.10/site-packages (from mosaicml==0.16.0) (6.6.0)\n",
      "Requirement already satisfied: torchmetrics<1.1,>=0.10.0 in /opt/conda/lib/python3.10/site-packages (from mosaicml==0.16.0) (1.0.3)\n",
      "Requirement already satisfied: torchvision<0.16,>=0.13.1 in /opt/conda/lib/python3.10/site-packages (from mosaicml==0.16.0) (0.15.2)\n",
      "Requirement already satisfied: torch-optimizer<0.4,>=0.3.0 in /opt/conda/lib/python3.10/site-packages (from mosaicml==0.16.0) (0.3.0)\n",
      "Requirement already satisfied: mosaicml-cli<0.6,>=0.4.12 in /opt/conda/lib/python3.10/site-packages (from mosaicml==0.16.0) (0.5.14)\n",
      "Requirement already satisfied: requests<3,>=2.26.0 in /opt/conda/lib/python3.10/site-packages (from mosaicml==0.16.0) (2.29.0)\n",
      "Requirement already satisfied: coolname<3,>=1.1.0 in /opt/conda/lib/python3.10/site-packages (from mosaicml==0.16.0) (2.2.0)\n",
      "Requirement already satisfied: pyyaml<7,>=6.0 in /opt/conda/lib/python3.10/site-packages (from mosaicml==0.16.0) (6.0)\n",
      "Requirement already satisfied: zipp>=0.5 in /opt/conda/lib/python3.10/site-packages (from importlib-metadata<7,>=5.0.0->mosaicml==0.16.0) (3.15.0)\n",
      "Requirement already satisfied: argcomplete>=2.0.0 in /opt/conda/lib/python3.10/site-packages (from mosaicml-cli<0.6,>=0.4.12->mosaicml==0.16.0) (3.1.2)\n",
      "Requirement already satisfied: typing-extensions>=4.0.1 in /opt/conda/lib/python3.10/site-packages (from mosaicml-cli<0.6,>=0.4.12->mosaicml==0.16.0) (4.5.0)\n",
      "Requirement already satisfied: gql[websockets]>=3.4.0 in /opt/conda/lib/python3.10/site-packages (from mosaicml-cli<0.6,>=0.4.12->mosaicml==0.16.0) (3.4.1)\n",
      "Requirement already satisfied: rich>=12.6.0 in /opt/conda/lib/python3.10/site-packages (from mosaicml-cli<0.6,>=0.4.12->mosaicml==0.16.0) (13.5.3)\n",
      "Requirement already satisfied: arrow>=1.2.2 in /opt/conda/lib/python3.10/site-packages (from mosaicml-cli<0.6,>=0.4.12->mosaicml==0.16.0) (1.2.3)\n",
      "Requirement already satisfied: backoff>=2.2.1 in /opt/conda/lib/python3.10/site-packages (from mosaicml-cli<0.6,>=0.4.12->mosaicml==0.16.0) (2.2.1)\n",
      "Requirement already satisfied: protobuf>=3.20.0 in /opt/conda/lib/python3.10/site-packages (from mosaicml-cli<0.6,>=0.4.12->mosaicml==0.16.0) (4.24.3)\n",
      "Requirement already satisfied: validators>=0.20.0 in /opt/conda/lib/python3.10/site-packages (from mosaicml-cli<0.6,>=0.4.12->mosaicml==0.16.0) (0.22.0)\n",
      "Requirement already satisfied: prompt-toolkit>=3.0.29 in /opt/conda/lib/python3.10/site-packages (from mosaicml-cli<0.6,>=0.4.12->mosaicml==0.16.0) (3.0.36)\n",
      "Requirement already satisfied: questionary>=1.10.0 in /opt/conda/lib/python3.10/site-packages (from mosaicml-cli<0.6,>=0.4.12->mosaicml==0.16.0) (2.0.1)\n",
      "Requirement already satisfied: ruamel.yaml>=0.17.21 in /opt/conda/lib/python3.10/site-packages (from mosaicml-cli<0.6,>=0.4.12->mosaicml==0.16.0) (0.17.21)\n",
      "Requirement already satisfied: urllib3<1.27,>=1.21.1 in /opt/conda/lib/python3.10/site-packages (from requests<3,>=2.26.0->mosaicml==0.16.0) (1.26.15)\n",
      "Requirement already satisfied: idna<4,>=2.5 in /opt/conda/lib/python3.10/site-packages (from requests<3,>=2.26.0->mosaicml==0.16.0) (3.4)\n",
      "Requirement already satisfied: certifi>=2017.4.17 in /opt/conda/lib/python3.10/site-packages (from requests<3,>=2.26.0->mosaicml==0.16.0) (2023.5.7)\n",
      "Requirement already satisfied: charset-normalizer<4,>=2 in /opt/conda/lib/python3.10/site-packages (from requests<3,>=2.26.0->mosaicml==0.16.0) (2.0.4)\n",
      "Requirement already satisfied: filelock in /opt/conda/lib/python3.10/site-packages (from torch<2.1,>=1.13.1->mosaicml==0.16.0) (3.9.0)\n",
      "Requirement already satisfied: sympy in /opt/conda/lib/python3.10/site-packages (from torch<2.1,>=1.13.1->mosaicml==0.16.0) (1.12)\n",
      "Requirement already satisfied: networkx in /opt/conda/lib/python3.10/site-packages (from torch<2.1,>=1.13.1->mosaicml==0.16.0) (3.1)\n",
      "Requirement already satisfied: jinja2 in /opt/conda/lib/python3.10/site-packages (from torch<2.1,>=1.13.1->mosaicml==0.16.0) (3.1.2)\n",
      "Requirement already satisfied: pytorch-ranger>=0.1.1 in /opt/conda/lib/python3.10/site-packages (from torch-optimizer<0.4,>=0.3.0->mosaicml==0.16.0) (0.1.1)\n",
      "Requirement already satisfied: lightning-utilities>=0.7.0 in /opt/conda/lib/python3.10/site-packages (from torchmetrics<1.1,>=0.10.0->mosaicml==0.16.0) (0.9.0)\n",
      "Requirement already satisfied: pillow!=8.3.*,>=5.3.0 in /opt/conda/lib/python3.10/site-packages (from torchvision<0.16,>=0.13.1->mosaicml==0.16.0) (9.4.0)\n",
      "Requirement already satisfied: python-dateutil>=2.7.0 in /opt/conda/lib/python3.10/site-packages (from arrow>=1.2.2->mosaicml-cli<0.6,>=0.4.12->mosaicml==0.16.0) (2.8.2)\n",
      "Requirement already satisfied: graphql-core<3.3,>=3.2 in /opt/conda/lib/python3.10/site-packages (from gql[websockets]>=3.4.0->mosaicml-cli<0.6,>=0.4.12->mosaicml==0.16.0) (3.2.3)\n",
      "Requirement already satisfied: yarl<2.0,>=1.6 in /opt/conda/lib/python3.10/site-packages (from gql[websockets]>=3.4.0->mosaicml-cli<0.6,>=0.4.12->mosaicml==0.16.0) (1.9.2)\n",
      "Requirement already satisfied: websockets<11,>=10 in /opt/conda/lib/python3.10/site-packages (from gql[websockets]>=3.4.0->mosaicml-cli<0.6,>=0.4.12->mosaicml==0.16.0) (10.4)\n",
      "Requirement already satisfied: wcwidth in /opt/conda/lib/python3.10/site-packages (from prompt-toolkit>=3.0.29->mosaicml-cli<0.6,>=0.4.12->mosaicml==0.16.0) (0.2.5)\n",
      "Requirement already satisfied: pygments<3.0.0,>=2.13.0 in /opt/conda/lib/python3.10/site-packages (from rich>=12.6.0->mosaicml-cli<0.6,>=0.4.12->mosaicml==0.16.0) (2.15.1)\n",
      "Requirement already satisfied: markdown-it-py>=2.2.0 in /opt/conda/lib/python3.10/site-packages (from rich>=12.6.0->mosaicml-cli<0.6,>=0.4.12->mosaicml==0.16.0) (3.0.0)\n",
      "Requirement already satisfied: ruamel.yaml.clib>=0.2.6 in /opt/conda/lib/python3.10/site-packages (from ruamel.yaml>=0.17.21->mosaicml-cli<0.6,>=0.4.12->mosaicml==0.16.0) (0.2.6)\n",
      "Requirement already satisfied: MarkupSafe>=2.0 in /opt/conda/lib/python3.10/site-packages (from jinja2->torch<2.1,>=1.13.1->mosaicml==0.16.0) (2.1.1)\n",
      "Requirement already satisfied: mpmath>=0.19 in /opt/conda/lib/python3.10/site-packages (from sympy->torch<2.1,>=1.13.1->mosaicml==0.16.0) (1.3.0)\n",
      "Requirement already satisfied: mdurl~=0.1 in /opt/conda/lib/python3.10/site-packages (from markdown-it-py>=2.2.0->rich>=12.6.0->mosaicml-cli<0.6,>=0.4.12->mosaicml==0.16.0) (0.1.2)\n",
      "Requirement already satisfied: six>=1.5 in /opt/conda/lib/python3.10/site-packages (from python-dateutil>=2.7.0->arrow>=1.2.2->mosaicml-cli<0.6,>=0.4.12->mosaicml==0.16.0) (1.16.0)\n",
      "Requirement already satisfied: multidict>=4.0 in /opt/conda/lib/python3.10/site-packages (from yarl<2.0,>=1.6->gql[websockets]>=3.4.0->mosaicml-cli<0.6,>=0.4.12->mosaicml==0.16.0) (6.0.4)\n",
      "Building wheels for collected packages: mosaicml\n",
      "  Building wheel for mosaicml (pyproject.toml) ... \u001b[?25ldone\n",
      "\u001b[?25h  Created wheel for mosaicml: filename=mosaicml-0.16.0-py3-none-any.whl size=590779 sha256=fff4f4022771d2b2dbc338a5a0327127903851dbd7df416af27fc1e5436da15a\n",
      "  Stored in directory: /tmp/pip-ephem-wheel-cache-8c_mkhoq/wheels/90/63/f5/e05310f2ab267e94a486659d03e5e1547b4fe1ca3a37f29be3\n",
      "Successfully built mosaicml\n",
      "Installing collected packages: mosaicml\n",
      "  Attempting uninstall: mosaicml\n",
      "    Found existing installation: mosaicml 0.16.2\n",
      "    Uninstalling mosaicml-0.16.2:\n",
      "      Successfully uninstalled mosaicml-0.16.2\n",
      "Successfully installed mosaicml-0.16.0\n",
      "\u001b[33mWARNING: Running pip as the 'root' user can result in broken permissions and conflicting behaviour with the system package manager. It is recommended to use a virtual environment instead: https://pip.pypa.io/warnings/venv\u001b[0m\u001b[33m\n",
      "\u001b[0mNote: you may need to restart the kernel to use updated packages.\n"
     ]
    }
   ],
   "source": [
    "%pip install -U neptune mosaicml torch torchvision\n",
    "\n",
    "# TODO: Update after released\n",
    "%pip install git+https://github.com/AleksanderWWW/composer.git@neptune-logger"
   ]
  },
  {
   "cell_type": "markdown",
   "metadata": {},
   "source": [
    "## Import libraries"
   ]
  },
  {
   "cell_type": "code",
   "execution_count": 1,
   "metadata": {},
   "outputs": [],
   "source": [
    "import torch\n",
    "\n",
    "from torch.utils.data import DataLoader\n",
    "from torchvision import datasets, transforms\n",
    "from composer import Trainer\n",
    "from composer.models import mnist_model\n",
    "from composer.loggers import NeptuneLogger\n",
    "from composer.algorithms import LabelSmoothing, BlurPool, ProgressiveResizing\n"
   ]
  },
  {
   "attachments": {},
   "cell_type": "markdown",
   "metadata": {},
   "source": [
    "## Prepare dataset and dataloaders"
   ]
  },
  {
   "cell_type": "code",
   "execution_count": 2,
   "metadata": {},
   "outputs": [],
   "source": [
    "transform = transforms.Compose([transforms.ToTensor()])\n",
    "train_dataset = datasets.MNIST('data', download=True, train=True, transform=transform)\n",
    "eval_dataset = datasets.MNIST('data', download=True, train=False, transform=transform)\n",
    "train_dataloader = DataLoader(train_dataset, batch_size=128)\n",
    "eval_dataloader = DataLoader(eval_dataset, batch_size=128)"
   ]
  },
  {
   "attachments": {},
   "cell_type": "markdown",
   "metadata": {},
   "source": [
    "## (Neptune) Create `neptune_logger`\n",
    "\n",
    "To create a new run for tracking the metadata, you tell Neptune who you are (`api_token`) and where to send the data (`project`).\n",
    "\n",
    "You can use the default code cell below to create an anonymous run in the public project [common/mosaicml](https://app.neptune.ai/o/common/org/mosaicml). **Note**: Public projects are cleaned regularly, so anonymous runs are only stored temporarily.\n",
    "\n",
    "### Log to your own project instead\n",
    "\n",
    "Replace the code below with the following:\n",
    "\n",
    "```python\n",
    "from getpass import getpass\n",
    "\n",
    "neptune_logger = NeptuneLogger(\n",
    "    project=\"workspace-name/project-name\",  # replace with your own (see instructions below)\n",
    "    api_token=getpass(\"Enter your Neptune API token: \"),\n",
    "    tags=[\"mnist\", \"notebook\"],  # (optional) use your own\n",
    ")\n",
    "```\n",
    "\n",
    "To find your API token and full project name:\n",
    "\n",
    "1. [Log in to Neptune](https://app.neptune.ai/).\n",
    "1. In the bottom-left corner, expand your user menu and select **Get your API token**.\n",
    "1. The workspace name is displayed in the top-left corner of the app.\n",
    "\n",
    "    To copy the project path, in the top-right corner, open the settings menu and select **Properties**.\n",
    "\n",
    "For more help, see [Setting Neptune credentials](https://docs.neptune.ai/setup/setting_credentials) in the Neptune docs."
   ]
  },
  {
   "cell_type": "code",
   "execution_count": 21,
   "metadata": {},
   "outputs": [
    {
     "name": "stdout",
     "output_type": "stream",
     "text": [
      "https://app.neptune.ai/siddhant.sadangi/sandbox/e/SAN-1007\n"
     ]
    }
   ],
   "source": [
    "from neptune import ANONYMOUS_API_TOKEN\n",
    "\n",
    "neptune_logger = NeptuneLogger(\n",
    "    api_token=ANONYMOUS_API_TOKEN,  # Replace with your own\n",
    "    project=\"common/mosaicml\",  # Replace with your own\n",
    "    capture_hardware_metrics=True,  # This is turned off by default in Notebooks\n",
    "    tags=[\"mnist\", \"notebook\"],  # (optional) use your own\n",
    ")"
   ]
  },
  {
   "attachments": {},
   "cell_type": "markdown",
   "metadata": {},
   "source": [
    "**To open the run in the Neptune web app, click the link that appeared in the cell output.**"
   ]
  },
  {
   "attachments": {},
   "cell_type": "markdown",
   "metadata": {},
   "source": [
    "## Configure Composer algorithms"
   ]
  },
  {
   "attachments": {},
   "cell_type": "markdown",
   "metadata": {},
   "source": [
    "### Label smoothing"
   ]
  },
  {
   "cell_type": "code",
   "execution_count": 22,
   "metadata": {},
   "outputs": [],
   "source": [
    "label_smoothing = LabelSmoothing(0.1)"
   ]
  },
  {
   "attachments": {},
   "cell_type": "markdown",
   "metadata": {},
   "source": [
    "### Blur pooling"
   ]
  },
  {
   "cell_type": "code",
   "execution_count": 23,
   "metadata": {},
   "outputs": [],
   "source": [
    "blurpool = BlurPool(\n",
    "    replace_convs=True,\n",
    "    replace_maxpools=True,\n",
    "    blur_first=True,\n",
    ")"
   ]
  },
  {
   "attachments": {},
   "cell_type": "markdown",
   "metadata": {},
   "source": [
    "### Progressive resizing"
   ]
  },
  {
   "cell_type": "code",
   "execution_count": 24,
   "metadata": {},
   "outputs": [],
   "source": [
    "prog_resize = ProgressiveResizing(\n",
    "    initial_scale=.6,\n",
    "    finetune_fraction=0.34,\n",
    ")"
   ]
  },
  {
   "attachments": {},
   "cell_type": "markdown",
   "metadata": {},
   "source": [
    "## Train model with Composer algorithms"
   ]
  },
  {
   "cell_type": "code",
   "execution_count": 25,
   "metadata": {},
   "outputs": [
    {
     "name": "stdout",
     "output_type": "stream",
     "text": [
      "Value '3765361996' is outside the range of 32-bit integers ('-2147483648' to '2147483647') and will be logged as float\n"
     ]
    },
    {
     "name": "stderr",
     "output_type": "stream",
     "text": [
      "/opt/conda/lib/python3.10/site-packages/composer/trainer/trainer.py:982: UserWarning: No optimizer was specified. Defaulting to DecoupledSGDW(lr=0.1)\n",
      "  warnings.warn(('No optimizer was specified. Defaulting to '\n",
      "/opt/conda/lib/python3.10/site-packages/composer/algorithms/blurpool/blurpool.py:160: NoEffectWarning: Applying BlurPool did not change any layers. No strided Conv2d or Pool2d layers were found.\n",
      "  warnings.warn(\n",
      "******************************\n",
      "Config:\n",
      "blurpool/num_blurconv_layers: 0\n",
      "blurpool/num_blurpool_layers: 0\n",
      "enabled_algorithms/BlurPool: true\n",
      "enabled_algorithms/LabelSmoothing: true\n",
      "enabled_algorithms/ProgressiveResizing: true\n",
      "node_name: unknown because NODENAME environment variable not set\n",
      "num_gpus_per_node: 1\n",
      "num_nodes: 1\n",
      "rank_zero_seed: 3765361996\n",
      "\n",
      "******************************\n"
     ]
    },
    {
     "data": {
      "application/vnd.jupyter.widget-view+json": {
       "model_id": "1f40cb1f977c4ee3b1b5dc729fb7b0ca",
       "version_major": 2,
       "version_minor": 0
      },
      "text/plain": [
       "train          Epoch   0:    0%|| 0/469 [00:00<?, ?ba/s]         "
      ]
     },
     "metadata": {},
     "output_type": "display_data"
    },
    {
     "name": "stderr",
     "output_type": "stream",
     "text": [
      "/opt/conda/lib/python3.10/site-packages/composer/loss/loss.py:134: UserWarning: Some targets have less than 1 total probability.\n",
      "  warnings.warn('Some targets have less than 1 total probability.')\n",
      "/opt/conda/lib/python3.10/site-packages/composer/core/data_spec.py:35: UserWarning: Cannot split tensor of length 96 into batches of size 128. As it is smaller, no splitting will be done. This may happen on the last batch of a dataset if it is a smaller size than the microbatch size.\n",
      "  warnings.warn(f'Cannot split tensor of length {len(t)} into batches of size {microbatch_size}. '\n"
     ]
    },
    {
     "data": {
      "application/vnd.jupyter.widget-view+json": {
       "model_id": "c6d0efbc778e4a1193bc3997c47d6849",
       "version_major": 2,
       "version_minor": 0
      },
      "text/plain": [
       "eval           Epoch   0:    0%|| 0/79 [00:00<?, ?ba/s]         "
      ]
     },
     "metadata": {},
     "output_type": "display_data"
    },
    {
     "name": "stderr",
     "output_type": "stream",
     "text": [
      "/opt/conda/lib/python3.10/site-packages/composer/core/data_spec.py:35: UserWarning: Cannot split tensor of length 16 into batches of size 128. As it is smaller, no splitting will be done. This may happen on the last batch of a dataset if it is a smaller size than the microbatch size.\n",
      "  warnings.warn(f'Cannot split tensor of length {len(t)} into batches of size {microbatch_size}. '\n"
     ]
    }
   ],
   "source": [
    "trainer = Trainer(\n",
    "    model=mnist_model(),\n",
    "    train_dataloader=train_dataloader,\n",
    "    eval_dataloader=eval_dataloader,\n",
    "    max_duration=\"3ep\",\n",
    "    device=\"gpu\" if torch.cuda.is_available() else \"cpu\",\n",
    "    algorithms = [label_smoothing, blurpool, prog_resize],\n",
    "    loggers=neptune_logger,\n",
    ")\n",
    "\n",
    "trainer.fit()"
   ]
  },
  {
   "attachments": {},
   "cell_type": "markdown",
   "metadata": {},
   "source": [
    "## Log additional metadata to your custom namespaces\n",
    "`neptune_logger`'s `neptune_run` property exposes the Neptune `Run` object, and can be used to log any additional metadata to your custom namespaces.\n",
    "\n",
    "For example, here we will be logging a sample of the training and eval datasets as a series of images."
   ]
  },
  {
   "cell_type": "code",
   "execution_count": 43,
   "metadata": {},
   "outputs": [],
   "source": [
    "from neptune.types import File\n",
    "neptune_logger.neptune_run[neptune_logger._base_namespace][\"images/training\"].extend([File.as_image(img/255) for img in train_dataset.data[:50]])\n",
    "neptune_logger.neptune_run[neptune_logger._base_namespace][\"images/eval\"].extend([File.as_image(img/255) for img in eval_dataset.data[:50]])"
   ]
  },
  {
   "attachments": {},
   "cell_type": "markdown",
   "metadata": {},
   "source": [
    "The images will be logged to the \"training/images/eval\" namespace."
   ]
  },
  {
   "cell_type": "markdown",
   "metadata": {},
   "source": [
    "## Stop logging\n",
    "\n",
    "Once you are done logging, stop tracking the run."
   ]
  },
  {
   "cell_type": "code",
   "execution_count": 16,
   "metadata": {},
   "outputs": [
    {
     "name": "stdout",
     "output_type": "stream",
     "text": [
      "Shutting down background jobs, please wait a moment...\n",
      "Done!\n",
      "All 0 operations synced, thanks for waiting!\n",
      "Explore the metadata in the Neptune app:\n",
      "https://app.neptune.ai/siddhant.sadangi/sandbox/e/SAN-1005/metadata\n"
     ]
    }
   ],
   "source": [
    "trainer.close()"
   ]
  },
  {
   "attachments": {},
   "cell_type": "markdown",
   "metadata": {
    "id": "HIL4YStSelut",
    "tags": [
     "header"
    ]
   },
   "source": [
    "## Analyze run in the Neptune app\n",
    "Follow the run link in the above cell output and explore the logged metadata.  \n",
    "You can also explore this [example run](https://app.neptune.ai/o/common/org/mosaicml/runs/details?viewId=standard-view&detailsTab=dashboard&dashboardId=Overview-99f571df-0fec-4447-9ffe-5a4c668577cd&shortId=CAT-2). #TODO: Update link"
   ]
  }
 ],
 "metadata": {
  "accelerator": "GPU",
  "colab": {
   "private_outputs": true,
   "provenance": [],
   "toc_visible": true
  },
  "gpuClass": "standard",
  "kernelspec": {
   "display_name": "Python 3 (ipykernel)",
   "language": "python",
   "name": "python3"
  },
  "language_info": {
   "codemirror_mode": {
    "name": "ipython",
    "version": 3
   },
   "file_extension": ".py",
   "mimetype": "text/x-python",
   "name": "python",
   "nbconvert_exporter": "python",
   "pygments_lexer": "ipython3",
   "version": "3.10.11"
  },
  "vscode": {
   "interpreter": {
    "hash": "a9715cf0b0024f6e1c62cb31a4f1f43970eb41991212681878768b4bfe53050a"
   }
  }
 },
 "nbformat": 4,
 "nbformat_minor": 4
}
