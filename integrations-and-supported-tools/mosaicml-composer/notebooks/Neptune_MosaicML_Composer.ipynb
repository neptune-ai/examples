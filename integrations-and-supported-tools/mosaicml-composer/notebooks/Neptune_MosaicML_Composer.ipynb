{
 "cells": [
  {
   "cell_type": "markdown",
   "metadata": {
    "id": "EYNlatILeluO"
   },
   "source": [
    "![Neptune + MosaicML Composer](https://neptune.ai/wp-content/uploads/2023/09/mosiacml.svg)\n",
    "\n",
    "# Neptune + MosaicML Composer\n",
    "\n",
    "<a target=\"_blank\" href=\"https://colab.research.google.com/github/neptune-ai/examples/blob/main/integrations-and-supported-tools/mosaicml-composer/notebooks/Neptune_MosaicML_Composer.ipynb\">\n",
    "  <img src=\"https://colab.research.google.com/assets/colab-badge.svg\" alt=\"Open in Colab\"/>\n",
    "</a>\n",
    "<a target=\"_blank\" href=\"https://github.com/neptune-ai/examples/blob/main/integrations-and-supported-tools/mosaicml-composer/notebooks/Neptune_MosaicML_Composer.ipynb\">\n",
    "  <img alt=\"Open in GitHub\" src=\"https://img.shields.io/badge/Open_in_GitHub-blue?logo=github&labelColor=black\">\n",
    "</a>\n",
    "<a target=\"_blank\" href=\"https://app.neptune.ai/showcase/mosaicml-composer/e/MMLCOMP-3/metadata\">\n",
    "  <img alt=\"Explore in Neptune\" src=\"https://neptune.ai/wp-content/uploads/2024/01/neptune-badge.svg\">\n",
    "</a>\n",
    "\n",
    "\n",
    "<a target=\"_blank\" href=\"https://docs.neptune.ai/integrations/mosaicml-composer/\">\n",
    "  <img alt=\"View tutorial in docs\" src=\"https://neptune.ai/wp-content/uploads/2024/01/docs-badge-2.svg\">\n",
    "</a>"
   ]
  },
  {
   "cell_type": "markdown",
   "metadata": {
    "id": "zY6B8JTKeluQ",
    "tags": [
     "header",
     "comment"
    ]
   },
   "source": [
    "## Introduction\n",
    "\n",
    "[MosaicML Composer](https://github.com/mosaicml/composer) is a PyTorch library for efficient neural network training.\n",
    "\n",
    "This guide will show you how to:\n",
    "\n",
    "* Create a Neptune logger for MosaicML Composer\n",
    "* Automatically log your Composer training metadata to Neptune"
   ]
  },
  {
   "cell_type": "markdown",
   "metadata": {
    "id": "EiPydbIreluR"
   },
   "source": [
    "## Before you start\n",
    "\n",
    "This notebook example lets you try out Neptune as an anonymous user, with zero setup.\n",
    "\n",
    "If you want to see the example logged to your own workspace instead:\n",
    "\n",
    "  1. Create a Neptune account. [Register &rarr;](https://neptune.ai/register)\n",
    "  1. Create a Neptune project that you will use for tracking metadata. For instructions, see [Creating a project](https://docs.neptune.ai/setup/creating_project) in the Neptune docs."
   ]
  },
  {
   "cell_type": "markdown",
   "metadata": {
    "id": "NTVvWzR-eluS"
   },
   "source": [
    "## Install Neptune and dependencies"
   ]
  },
  {
   "cell_type": "code",
   "execution_count": null,
   "metadata": {
    "id": "FkNDnnv1PsFg"
   },
   "outputs": [],
   "source": [
    "%pip install -U neptune torch torchvision mosaicml"
   ]
  },
  {
   "cell_type": "markdown",
   "metadata": {
    "id": "81QrDUjyPsFh"
   },
   "source": [
    "## Import libraries"
   ]
  },
  {
   "cell_type": "code",
   "execution_count": null,
   "metadata": {
    "id": "pJVFqUM9PsFh"
   },
   "outputs": [],
   "source": [
    "import composer\n",
    "import torch\n",
    "import torch.nn as nn\n",
    "import torch.nn.functional as F\n",
    "import torch.utils.data\n",
    "from composer.algorithms import LabelSmoothing, ProgressiveResizing\n",
    "from composer.callbacks import ImageVisualizer\n",
    "from composer.loggers import NeptuneLogger\n",
    "from composer.models import ComposerClassifier\n",
    "from torchvision import datasets, transforms"
   ]
  },
  {
   "cell_type": "markdown",
   "metadata": {
    "id": "xcpySPa-PsFh"
   },
   "source": [
    "## Prepare dataset and dataloaders"
   ]
  },
  {
   "cell_type": "code",
   "execution_count": null,
   "metadata": {
    "id": "uxDdtzdLPsFh"
   },
   "outputs": [],
   "source": [
    "data_directory = \"./data\"\n",
    "batch_size = 512\n",
    "\n",
    "transforms = transforms.Compose([transforms.ToTensor()])\n",
    "\n",
    "train_dataset = datasets.MNIST(data_directory, train=True, download=True, transform=transforms)\n",
    "test_dataset = datasets.MNIST(data_directory, train=False, download=True, transform=transforms)\n",
    "\n",
    "train_dataloader = torch.utils.data.DataLoader(train_dataset, batch_size=batch_size, shuffle=True)\n",
    "test_dataloader = torch.utils.data.DataLoader(test_dataset, batch_size=batch_size, shuffle=True)"
   ]
  },
  {
   "cell_type": "markdown",
   "metadata": {},
   "source": [
    "## Create model"
   ]
  },
  {
   "cell_type": "code",
   "execution_count": null,
   "metadata": {},
   "outputs": [],
   "source": [
    "class Model(nn.Module):\n",
    "    \"\"\"Toy convolutional neural network architecture in pytorch for MNIST.\"\"\"\n",
    "\n",
    "    def __init__(self, num_classes: int = 10):\n",
    "        super().__init__()\n",
    "\n",
    "        self.num_classes = num_classes\n",
    "\n",
    "        self.conv1 = nn.Conv2d(1, 16, (3, 3), padding=0)\n",
    "        self.conv2 = nn.Conv2d(16, 32, (3, 3), padding=0)\n",
    "        self.bn = nn.BatchNorm2d(32)\n",
    "        self.fc1 = nn.Linear(32 * 16, 32)\n",
    "        self.fc2 = nn.Linear(32, num_classes)\n",
    "\n",
    "    def forward(self, x):\n",
    "        out = self.conv1(x)\n",
    "        out = F.relu(out)\n",
    "        out = self.conv2(out)\n",
    "        out = self.bn(out)\n",
    "        out = F.relu(out)\n",
    "        out = F.adaptive_avg_pool2d(out, (4, 4))\n",
    "        out = torch.flatten(out, 1, -1)\n",
    "        out = self.fc1(out)\n",
    "        out = F.relu(out)\n",
    "        return self.fc2(out)\n",
    "\n",
    "\n",
    "model = ComposerClassifier(module=Model(num_classes=10))"
   ]
  },
  {
   "cell_type": "markdown",
   "metadata": {},
   "source": [
    "## Configure Composer algorithms"
   ]
  },
  {
   "cell_type": "code",
   "execution_count": null,
   "metadata": {},
   "outputs": [],
   "source": [
    "label_smoothing = LabelSmoothing(\n",
    "    0.1\n",
    ")  # We're creating an instance of the LabelSmoothing algorithm class\n",
    "\n",
    "prog_resize = ProgressiveResizing(\n",
    "    initial_scale=0.6,  # Size of images at the beginning of training = .6 * default image size\n",
    "    finetune_fraction=0.34,  # Train on default size images for 0.34 of total training time.\n",
    ")\n",
    "\n",
    "algorithms = [label_smoothing, prog_resize]"
   ]
  },
  {
   "cell_type": "markdown",
   "metadata": {
    "id": "AvBNFkT0PsFh"
   },
   "source": [
    "## Create `neptune_logger`\n",
    "\n",
    "To create a new run for tracking the metadata, you tell Neptune who you are (`api_token`) and where to send the data (`project`).\n",
    "\n",
    "You can use the default code cell below to create an anonymous run in the public project [common/mosaicml-composer](https://app.neptune.ai/o/common/org/mosaicml-composer). **Note**: Public projects are cleaned regularly, so anonymous runs are only stored temporarily.\n",
    "\n",
    "### Log to your own project instead\n",
    "\n",
    "Replace the code below with the following:\n",
    "\n",
    "```python\n",
    "from getpass import getpass\n",
    "\n",
    "neptune_logger = NeptuneLogger(\n",
    "    project=\"workspace-name/project-name\",  # replace with your own (see instructions below)\n",
    "    api_token=getpass(\"Enter your Neptune API token: \"),\n",
    "    tags=[\"mnist\", \"notebook\"],  # (optional) use your own\n",
    ")\n",
    "```\n",
    "\n",
    "To find your API token and full project name:\n",
    "\n",
    "1. [Log in to Neptune](https://app.neptune.ai/).\n",
    "1. In the bottom-left corner, expand your user menu and select **Get your API token**.\n",
    "1. The workspace name is displayed in the top-left corner of the app.\n",
    "\n",
    "    To copy the project path, in the top-right corner, open the settings menu and select **Properties**.\n",
    "\n",
    "For more help, see [Setting Neptune credentials](https://docs.neptune.ai/setup/setting_credentials) in the Neptune docs."
   ]
  },
  {
   "cell_type": "code",
   "execution_count": null,
   "metadata": {
    "id": "z056VXq1PsFh"
   },
   "outputs": [],
   "source": [
    "from neptune import ANONYMOUS_API_TOKEN\n",
    "\n",
    "neptune_logger = NeptuneLogger(\n",
    "    api_token=ANONYMOUS_API_TOKEN,  # or replace with your own\n",
    "    project=\"common/mosaicml-composer\",  # or replace with your own\n",
    "    tags=[\"mnist\", \"script\"],  # (optional) use your own\n",
    ")"
   ]
  },
  {
   "cell_type": "markdown",
   "metadata": {
    "id": "h4XBrMZIPsFi"
   },
   "source": [
    "## Train model with Neptune logger"
   ]
  },
  {
   "cell_type": "code",
   "execution_count": null,
   "metadata": {
    "id": "bgPo-ZAWPsFi"
   },
   "outputs": [],
   "source": [
    "train_epochs = \"3ep\"  # Train for 3 epochs because we're assuming Colab environment and hardware\n",
    "device = \"gpu\" if torch.cuda.is_available() else \"cpu\"  # select the device\n",
    "\n",
    "trainer = composer.trainer.Trainer(\n",
    "    model=model,\n",
    "    train_dataloader=train_dataloader,\n",
    "    eval_dataloader=test_dataloader,\n",
    "    max_duration=train_epochs,\n",
    "    device=device,\n",
    "    callbacks=ImageVisualizer(),  # Adding the ImageVisualizer() callback automatically logs input images to Neptune\n",
    "    loggers=neptune_logger,\n",
    "    algorithms=algorithms,\n",
    ")\n",
    "\n",
    "trainer.fit()"
   ]
  },
  {
   "cell_type": "markdown",
   "metadata": {
    "id": "0p-PoOFSPsFh"
   },
   "source": [
    "**To open the run in the Neptune web app, click the link that appeared in the cell output.**"
   ]
  },
  {
   "cell_type": "markdown",
   "metadata": {
    "id": "ZIzqE8dDPsFi"
   },
   "source": [
    "## Log additional metadata\n",
    "The `base_handler` property of `NeptuneLogger` exposes the [namespace handler](https://docs.neptune.ai/api/field_types/#namespace-handler) being used by the logger. You can use it to log any additional metadata in the base namespace.\n",
    "\n",
    "To learn more about namespaces, see [Namespace and fields](https://docs.neptune.ai/about/namespaces_and_fields/) in the Neptune docs.\n",
    "\n",
    "**Note:** The default base namespace used by `NeptuneLogger` is \"training\". You can update this by passing your own \"base_namespace\" while initializing `NeptuneLogger`.\n",
    "\n",
    "In the below example, we log a sample image from the training dataset to the \"training/sample_image\" namespace of the run."
   ]
  },
  {
   "cell_type": "code",
   "execution_count": null,
   "metadata": {
    "id": "zu1J6hw_PsFi"
   },
   "outputs": [],
   "source": [
    "from neptune.types import File\n",
    "\n",
    "neptune_logger.base_handler[\"sample_image\"].upload(File.as_image(train_dataset.data[0] / 255))"
   ]
  },
  {
   "cell_type": "markdown",
   "metadata": {
    "id": "QJrreEE5PsFi"
   },
   "source": [
    "## Log to your custom namespace\n",
    "If you want to log to a different namespace than the base one, you can use the `neptune_run` property of the `NeptuneLogger` instance to access the underlying Neptune `Run` object and pass your own namespaces.\n",
    "\n",
    "In the below example, we log a sample image from the eval dataset to the \"eval/sample_image\" namespace of the run."
   ]
  },
  {
   "cell_type": "code",
   "execution_count": null,
   "metadata": {
    "id": "Quqqh5ezPsFi"
   },
   "outputs": [],
   "source": [
    "neptune_logger.neptune_run[\"eval/sample_image\"].upload(File.as_image(test_dataset.data[0] / 255))"
   ]
  },
  {
   "cell_type": "markdown",
   "metadata": {
    "id": "WuTf1oxEPsFi"
   },
   "source": [
    "## Stop logging\n",
    "\n",
    "Once you are done logging, stop tracking the run."
   ]
  },
  {
   "cell_type": "code",
   "execution_count": null,
   "metadata": {
    "id": "-kaRdVZlPsFi"
   },
   "outputs": [],
   "source": [
    "trainer.close()"
   ]
  },
  {
   "cell_type": "markdown",
   "metadata": {
    "id": "HIL4YStSelut",
    "tags": [
     "header"
    ]
   },
   "source": [
    "## Analyze run in the Neptune app\n",
    "To explore the logged metadata, follow the run link in the above cell output.\n",
    "You can also explore this [example run](https://app.neptune.ai/showcase/mosaicml-composer/e/MMLCOMP-3/metadata)."
   ]
  }
 ],
 "metadata": {
  "accelerator": "GPU",
  "colab": {
   "private_outputs": true,
   "provenance": [],
   "toc_visible": true
  },
  "gpuClass": "standard",
  "kernelspec": {
   "display_name": "Python 3 (ipykernel)",
   "language": "python",
   "name": "python3"
  },
  "language_info": {
   "codemirror_mode": {
    "name": "ipython",
    "version": 3
   },
   "file_extension": ".py",
   "mimetype": "text/x-python",
   "name": "python",
   "nbconvert_exporter": "python",
   "pygments_lexer": "ipython3",
   "version": "3.10.11"
  },
  "vscode": {
   "interpreter": {
    "hash": "a9715cf0b0024f6e1c62cb31a4f1f43970eb41991212681878768b4bfe53050a"
   }
  }
 },
 "nbformat": 4,
 "nbformat_minor": 0
}
