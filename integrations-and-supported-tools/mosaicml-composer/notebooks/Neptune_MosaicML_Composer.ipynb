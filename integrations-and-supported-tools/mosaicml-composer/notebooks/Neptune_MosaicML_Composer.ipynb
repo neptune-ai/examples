{
 "cells": [
  {
   "cell_type": "markdown",
   "metadata": {
    "id": "EYNlatILeluO"
   },
   "source": [
    "![Neptune + MosaicML Composer](https://neptune.ai/wp-content/uploads/2023/09/mosiacml.svg)\n",
    "\n",
    "# Neptune + MosaicML Composer\n",
    "\n",
    "<a target=\"_blank\" href=\"https://colab.research.google.com/github/neptune-ai/examples/blob/main/integrations-and-supported-tools/mosaicml-composer/notebooks/Neptune_MosaicML_Composer.ipynb\">\n",
    "  <img src=\"https://colab.research.google.com/assets/colab-badge.svg\" alt=\"Open in Colab\"/>\n",
    "</a>\n",
    "\n",
    "<a target=\"_blank\" href=\"https://github.com/neptune-ai/examples/blob/main/integrations-and-supported-tools/mosaicml-composer/notebooks/Neptune_MosaicML_Composer.ipynb\">\n",
    "  <img alt=\"Open in GitHub\" src=\"https://img.shields.io/badge/Open_in_GitHub-blue?logo=github&labelColor=black\">\n",
    "</a>\n",
    "\n",
    "<a target=\"_blank\" href=\"https://app.neptune.ai/showcase/mosaicml-composer/e/MMLCOMP-3/metadata\">\n",
    "  <img alt=\"Explore in Neptune\" src=\"https://neptune.ai/wp-content/uploads/2024/01/neptune-badge.svg\">\n",
    "</a>\n",
    "\n",
    "\n",
    "<a target=\"_blank\" href=\"https://docs.neptune.ai/integrations/mosaicml-composer/\">\n",
    "  <img alt=\"View tutorial in docs\" src=\"https://neptune.ai/wp-content/uploads/2024/01/docs-badge-2.svg\">\n",
    "</a>"
   ]
  },
  {
   "cell_type": "markdown",
   "metadata": {
    "id": "zY6B8JTKeluQ",
    "tags": [
     "header",
     "comment"
    ]
   },
   "source": [
    "## Introduction\n",
    "\n",
    "[MosaicML Composer](https://github.com/mosaicml/composer) is a PyTorch library for efficient neural network training.\n",
    "\n",
    "This guide will show you how to:\n",
    "\n",
    "* Create a Neptune logger for MosaicML Composer\n",
    "* Automatically log your Composer training metadata to Neptune"
   ]
  },
  {
   "cell_type": "markdown",
   "metadata": {
    "id": "EiPydbIreluR"
   },
   "source": [
    "## Before you start\n",
    "\n",
    "This notebook example lets you try out Neptune as an anonymous user, with zero setup.\n",
    "\n",
    "If you want to see the example logged to your own workspace instead:\n",
    "\n",
    "  1. Create a Neptune account. [Register &rarr;](https://neptune.ai/register)\n",
    "  1. Create a Neptune project that you will use for tracking metadata. For instructions, see [Creating a project](https://docs.neptune.ai/setup/creating_project) in the Neptune docs."
   ]
  },
  {
   "cell_type": "markdown",
   "metadata": {
    "id": "NTVvWzR-eluS"
   },
   "source": [
    "## Install Neptune and dependencies"
   ]
  },
  {
   "cell_type": "code",
   "execution_count": null,
   "metadata": {
    "id": "FkNDnnv1PsFg"
   },
   "outputs": [],
   "source": [
    "%pip install -U neptune torch torchvision #mosaicml\n",
    "\n",
    "# TODO: Update after released\n",
    "%pip install git+https://github.com/AleksanderWWW/composer.git@neptune-logger"
   ]
  },
  {
   "cell_type": "markdown",
   "metadata": {
    "id": "81QrDUjyPsFh"
   },
   "source": [
    "## Import libraries"
   ]
  },
  {
   "cell_type": "code",
   "execution_count": null,
   "metadata": {
    "id": "pJVFqUM9PsFh"
   },
   "outputs": [],
   "source": [
    "import torch\n",
    "\n",
    "from torch.utils.data import DataLoader\n",
    "from torchvision import datasets, transforms\n",
    "from composer import Trainer\n",
    "from composer.models import mnist_model\n",
    "from composer.loggers import NeptuneLogger\n",
    "from composer.algorithms import LabelSmoothing, ProgressiveResizing\n",
    "from composer.callbacks import ImageVisualizer"
   ]
  },
  {
   "cell_type": "markdown",
   "metadata": {
    "id": "xcpySPa-PsFh"
   },
   "source": [
    "## Prepare dataset and dataloaders"
   ]
  },
  {
   "cell_type": "code",
   "execution_count": null,
   "metadata": {
    "id": "uxDdtzdLPsFh"
   },
   "outputs": [],
   "source": [
    "transform = transforms.Compose([transforms.ToTensor()])\n",
    "train_dataset = datasets.MNIST(\"data\", download=True, train=True, transform=transform)\n",
    "eval_dataset = datasets.MNIST(\"data\", download=True, train=False, transform=transform)\n",
    "train_dataloader = DataLoader(train_dataset, batch_size=32)\n",
    "eval_dataloader = DataLoader(eval_dataset, batch_size=16)"
   ]
  },
  {
   "cell_type": "markdown",
   "metadata": {
    "id": "AvBNFkT0PsFh"
   },
   "source": [
    "## Create `neptune_logger`\n",
    "\n",
    "To create a new run for tracking the metadata, you tell Neptune who you are (`api_token`) and where to send the data (`project`).\n",
    "\n",
    "You can use the default code cell below to create an anonymous run in the public project [common/mosaicml-composer](https://app.neptune.ai/o/common/org/mosaicml-composer). **Note**: Public projects are cleaned regularly, so anonymous runs are only stored temporarily.\n",
    "\n",
    "### Log to your own project instead\n",
    "\n",
    "Replace the code below with the following:\n",
    "\n",
    "```python\n",
    "from getpass import getpass\n",
    "\n",
    "neptune_logger = NeptuneLogger(\n",
    "    project=\"workspace-name/project-name\",  # replace with your own (see instructions below)\n",
    "    api_token=getpass(\"Enter your Neptune API token: \"),\n",
    "    tags=[\"mnist\", \"notebook\"],  # (optional) use your own\n",
    ")\n",
    "```\n",
    "\n",
    "To find your API token and full project name:\n",
    "\n",
    "1. [Log in to Neptune](https://app.neptune.ai/).\n",
    "1. In the bottom-left corner, expand your user menu and select **Get your API token**.\n",
    "1. The workspace name is displayed in the top-left corner of the app.\n",
    "\n",
    "    To copy the project path, in the top-right corner, open the settings menu and select **Properties**.\n",
    "\n",
    "For more help, see [Setting Neptune credentials](https://docs.neptune.ai/setup/setting_credentials) in the Neptune docs."
   ]
  },
  {
   "cell_type": "code",
   "execution_count": null,
   "metadata": {
    "id": "z056VXq1PsFh"
   },
   "outputs": [],
   "source": [
    "from neptune import ANONYMOUS_API_TOKEN\n",
    "\n",
    "neptune_logger = NeptuneLogger(\n",
    "    api_token=ANONYMOUS_API_TOKEN,  # Replace with your own\n",
    "    project=\"common/mosaicml-composer\",  # Replace with your own\n",
    "    capture_hardware_metrics=True,  # This is turned off by default in Notebooks\n",
    "    tags=[\"mnist\", \"notebook\"],  # (optional) use your own\n",
    ")"
   ]
  },
  {
   "cell_type": "markdown",
   "metadata": {
    "id": "mqvevqK4PsFh"
   },
   "source": [
    "## Configure Composer algorithms"
   ]
  },
  {
   "cell_type": "code",
   "execution_count": null,
   "metadata": {
    "id": "phLgTbZ0PsFh"
   },
   "outputs": [],
   "source": [
    "label_smoothing = LabelSmoothing(0.1)"
   ]
  },
  {
   "cell_type": "code",
   "execution_count": null,
   "metadata": {
    "id": "_qtVc6pgPsFi"
   },
   "outputs": [],
   "source": [
    "prog_resize = ProgressiveResizing(\n",
    "    initial_scale=0.6,\n",
    "    finetune_fraction=0.34,\n",
    ")"
   ]
  },
  {
   "cell_type": "markdown",
   "metadata": {
    "id": "h4XBrMZIPsFi"
   },
   "source": [
    "## Train model with Composer algorithms"
   ]
  },
  {
   "cell_type": "code",
   "execution_count": null,
   "metadata": {
    "id": "bgPo-ZAWPsFi"
   },
   "outputs": [],
   "source": [
    "trainer = Trainer(\n",
    "    model=mnist_model(),\n",
    "    train_dataloader=train_dataloader,\n",
    "    eval_dataloader=eval_dataloader,\n",
    "    max_duration=\"3ep\",\n",
    "    device=\"gpu\" if torch.cuda.is_available() else \"cpu\",\n",
    "    algorithms=[label_smoothing, prog_resize],\n",
    "    callbacks=ImageVisualizer(),  # Adding the ImageVisualizer() callback automatically logs input images to Neptune\n",
    "    loggers=neptune_logger,\n",
    ")\n",
    "\n",
    "trainer.fit()"
   ]
  },
  {
   "cell_type": "markdown",
   "metadata": {
    "id": "0p-PoOFSPsFh"
   },
   "source": [
    "**To open the run in the Neptune web app, click the link that appeared in the cell output.**"
   ]
  },
  {
   "cell_type": "markdown",
   "metadata": {
    "id": "ZIzqE8dDPsFi"
   },
   "source": [
    "## Log additional metadata\n",
    "`neptune_logger`'s `base_handler` property exposes the [Namespace handler](https://docs.neptune.ai/api/field_types/#namespace-handler) being used by the logger. You can use it to log any additional metadata in the **base namespace used by the logger**.\n",
    "\n",
    "Read more about namespaces [in the docs](https://docs.neptune.ai/about/namespaces_and_fields/).\n",
    "\n",
    "**Note:** The default base namespace used by `NeptuneLogger` is \"training\". You can update this by passing your own \"base_namespace\" while initializing `NeptuneLogger`.\n",
    "\n",
    "In the below example, we log a sample image from the training dataset to the \"training/sample_image\" namespace of the run."
   ]
  },
  {
   "cell_type": "code",
   "execution_count": null,
   "metadata": {
    "id": "zu1J6hw_PsFi"
   },
   "outputs": [],
   "source": [
    "from neptune.types import File\n",
    "\n",
    "neptune_logger.base_handler[\"sample_image\"].upload(File.as_image(train_dataset.data[0] / 255))"
   ]
  },
  {
   "cell_type": "markdown",
   "metadata": {
    "id": "QJrreEE5PsFi"
   },
   "source": [
    "## Log to your custom namespace\n",
    "If you want to log to a different base namespace than used by the base handler, you can use `neptune_logger`'s `neptune_run` property to access the underlying Neptune `Run` object and pass your own namespaces.\n",
    "\n",
    "In the below example, we log a sample image from the eval dataset to the \"eval/sample_image\" namespace of the run."
   ]
  },
  {
   "cell_type": "code",
   "execution_count": null,
   "metadata": {
    "id": "Quqqh5ezPsFi"
   },
   "outputs": [],
   "source": [
    "neptune_logger.neptune_run[\"eval/sample_image\"].upload(File.as_image(eval_dataset.data[0] / 255))"
   ]
  },
  {
   "cell_type": "markdown",
   "metadata": {
    "id": "WuTf1oxEPsFi"
   },
   "source": [
    "## Stop logging\n",
    "\n",
    "Once you are done logging, stop tracking the run."
   ]
  },
  {
   "cell_type": "code",
   "execution_count": null,
   "metadata": {
    "id": "-kaRdVZlPsFi"
   },
   "outputs": [],
   "source": [
    "trainer.close()"
   ]
  },
  {
   "cell_type": "markdown",
   "metadata": {
    "id": "HIL4YStSelut",
    "tags": [
     "header"
    ]
   },
   "source": [
    "## Analyze run in the Neptune app\n",
    "Follow the run link in the above cell output and explore the logged metadata.  \n",
    "You can also explore this [example run](https://app.neptune.ai/showcase/mosaicml-composer/e/MMLCOMP-3/metadata)."
   ]
  }
 ],
 "metadata": {
  "accelerator": "GPU",
  "colab": {
   "private_outputs": true,
   "provenance": [],
   "toc_visible": true
  },
  "gpuClass": "standard",
  "kernelspec": {
   "display_name": "Python 3 (ipykernel)",
   "language": "python",
   "name": "python3"
  },
  "language_info": {
   "codemirror_mode": {
    "name": "ipython",
    "version": 3
   },
   "file_extension": ".py",
   "mimetype": "text/x-python",
   "name": "python",
   "nbconvert_exporter": "python",
   "pygments_lexer": "ipython3",
   "version": "3.10.11"
  },
  "vscode": {
   "interpreter": {
    "hash": "a9715cf0b0024f6e1c62cb31a4f1f43970eb41991212681878768b4bfe53050a"
   }
  }
 },
 "nbformat": 4,
 "nbformat_minor": 0
}
