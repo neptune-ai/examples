{
 "nbformat": 4,
 "nbformat_minor": 0,
 "metadata": {
  "colab": {
   "name": "Neptune_Plotly_Support.ipynb",
   "private_outputs": true,
   "provenance": [],
   "collapsed_sections": [],
   "toc_visible": true
  },
  "kernelspec": {
   "display_name": "Python 3",
   "language": "python",
   "name": "python3"
  },
  "language_info": {
   "codemirror_mode": {
    "name": "ipython",
    "version": 3
   },
   "file_extension": ".py",
   "mimetype": "text/x-python",
   "name": "python",
   "nbconvert_exporter": "python",
   "pygments_lexer": "ipython3",
   "version": "3.7.7"
  },
  "toc-autonumbering": true,
  "toc-showcode": false,
  "toc-showmarkdowntxt": false,
  "toc-showtags": true
 },
 "cells": [
  {
   "cell_type": "markdown",
   "metadata": {
    "id": "GG3_2HyRVY4Y",
    "tags": [
     "header",
     "comment"
    ]
   },
   "source": [
    "# Introduction\n",
    "\n",
    "This guide will show you how to:\n",
    "\n",
    "* Initialize Neptune and create a `run`,\n",
    "* Log `plotly` charts to Neptune."
   ]
  },
  {
   "cell_type": "markdown",
   "metadata": {
    "id": "1tBfsYCm05rl"
   },
   "source": [
    "# Step 0: Before you start\n",
    "\n",
    "Install `neptune-client` and `plotly`"
   ]
  },
  {
   "cell_type": "code",
   "metadata": {
    "id": "xm0WX77L1Nii"
   },
   "source": [
    "! pip install --upgrade --quiet neptune-client==0.9.12 plotly==4.4.1"
   ],
   "execution_count": null,
   "outputs": []
  },
  {
   "cell_type": "markdown",
   "metadata": {
    "id": "0NQaVXuoWA-E",
    "tags": [
     "header",
     "installation"
    ]
   },
   "source": [
    "# Step 1: Import and initialize `neptune`"
   ]
  },
  {
   "cell_type": "code",
   "metadata": {
    "id": "quJ_tJDk7R3e"
   },
   "source": [
    "import neptune.new as neptune"
   ],
   "execution_count": null,
   "outputs": []
  },
  {
   "cell_type": "code",
   "metadata": {
    "id": "asktsEotnTlR"
   },
   "source": [
    "run = neptune.init(api_token='ANONYMOUS',\n",
    "                   project='common/plotly-support')"
   ],
   "execution_count": null,
   "outputs": []
  },
  {
   "cell_type": "markdown",
   "metadata": {
    "id": "VnSWXRbXHUz3",
    "tags": [
     "comment",
     "exclude"
    ]
   },
   "source": [
    "Click on the link above to open this run in Neptune. For now it is empty but keep the tab with run open to see what happens next. "
   ]
  },
  {
   "cell_type": "markdown",
   "metadata": {
    "id": "QYakxenbPkrR"
   },
   "source": [
    "**Note:**<br>\n",
    "To [create your own private projects](https://docs.neptune.ai/administration/workspace-project-and-user-management/projects#create-project), you will need a [Neptune account](https://neptune.ai/register) and  your [personal Neptune API token](https://docs.neptune.ai/getting-started/installation#get-api-token)."
   ]
  },
  {
   "cell_type": "markdown",
   "metadata": {
    "id": "pk4ZgmW9Q7Mg",
    "tags": [
     "header"
    ]
   },
   "source": [
    "# Step 2: Log `plotly` charts to Neptune"
   ]
  },
  {
   "cell_type": "markdown",
   "metadata": {
    "id": "E3XjDiMB-XDK"
   },
   "source": [
    "## Create a sample chart"
   ]
  },
  {
   "cell_type": "code",
   "metadata": {
    "id": "V6i1BJfL96ww"
   },
   "source": [
    "import plotly.express as px\n",
    "\n",
    "df = px.data.iris()\n",
    "plotly_fig = px.scatter_3d(df, \n",
    "                           x='sepal_length', y='sepal_width', z='petal_width',\n",
    "                           color='species')"
   ],
   "execution_count": null,
   "outputs": []
  },
  {
   "cell_type": "markdown",
   "metadata": {
    "id": "tqqF7gsP_Sh9"
   },
   "source": [
    "## Log interactive image"
   ]
  },
  {
   "cell_type": "code",
   "metadata": {
    "id": "8WWCJy73_Sh_"
   },
   "source": [
    "run['interactive_img'] = neptune.types.File.as_html(plotly_fig)"
   ],
   "execution_count": null,
   "outputs": []
  },
  {
   "cell_type": "markdown",
   "metadata": {
    "id": "swXKaHZmASyd"
   },
   "source": [
    "# Step 3: Explore the charts in Neptune\n",
    "\n",
    "The images can be found in the **All metadata** section  \n",
    "![](https://gblobscdn.gitbook.com/assets%2F-MT0sYKbymfLAAtTq4-t%2F-MZcou0IPaNYZGlU6azq%2F-MZcyeUO2mvLTy5IYfqF%2Fplotly-logging.gif?alt=media&token=2c9cd2f2-fa86-4783-85be-dd4510a76371)"
   ]
  },
  {
   "cell_type": "markdown",
   "metadata": {
    "id": "XSHLD6AkI7LW"
   },
   "source": [
    "# Step 4: Stop logging\n",
    "\n",
    "<font color=red>**Warning:**</font><br>\n",
    "Once you are done logging, you can stop tracking the run using the `stop()` method.\n",
    "This is needed only while logging from a notebook environment. While logging through a script, Neptune automatically stops tracking once the script has completed execution."
   ]
  },
  {
   "cell_type": "code",
   "metadata": {
    "id": "Zgh3NwDoJAuG"
   },
   "source": [
    "run.stop()"
   ],
   "execution_count": null,
   "outputs": []
  },
  {
   "cell_type": "markdown",
   "metadata": {
    "id": "had9MNRtQ7Mr",
    "tags": [
     "comment"
    ]
   },
   "source": [
    "# Conclusion\n",
    "\n",
    "You’ve learned how to:\n",
    "\n",
    "* Initialize Neptune and create a run,\n",
    "* Log `plotly` charts to Neptune."
   ]
  },
  {
   "cell_type": "markdown",
   "metadata": {
    "id": "_3ibcYhPQ7Mr",
    "tags": [
     "comment"
    ]
   },
   "source": [
    "# What's next\n",
    "\n",
    "Now that you know how to log charts to Neptune, you can learn:\n",
    "\n",
    "* [How to log other types of metadata to Neptune](https://docs.neptune.ai/you-should-know/logging-and-managing-runs-results/logging-runs-data#what-objects-can-you-log-to-neptune)\n",
    "* [How to download runs data from Neptune](https://docs.neptune.ai/user-guides/logging-and-managing-runs-results/downloading-runs-data)\n",
    "* [How to connect Neptune to the ML framework you are using](https://docs.neptune.ai/essentials/integrations)"
   ]
  }
 ]
}