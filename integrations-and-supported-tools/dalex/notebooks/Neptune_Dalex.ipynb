{
 "cells": [
  {
   "attachments": {},
   "cell_type": "markdown",
   "metadata": {
    "id": "EYNlatILeluO"
   },
   "source": [
    "![Neptune + Dalex](https://neptune.ai/wp-content/uploads/2023/09/dalex.svg)\n",
    "\n",
    "# Neptune + Dalex\n",
    "\n",
    "<a target=\"_blank\" href=\"https://colab.research.google.com/github/neptune-ai/examples/blob/main/integrations-and-supported-tools/dalex/notebooks/Neptune_Dalex.ipynb\">\n",
    "  <img src=\"https://colab.research.google.com/assets/colab-badge.svg\" alt=\"Open in Colab\"/>\n",
    "</a><a target=\"_blank\" href=\"https://github.com/neptune-ai/examples/blob/main/integrations-and-supported-tools/dalex/notebooks/Neptune_Dalex.ipynb\">\n",
    "  <img alt=\"Open in GitHub\" src=\"https://img.shields.io/badge/Open_in_GitHub-blue?logo=github&labelColor=black\">\n",
    "</a><a target=\"_blank\" href=\"https://app.neptune.ai/o/common/org/dalex-support/runs/details?viewId=standard-view&detailsTab=dashboard&dashboardId=993ea4c1-c528-4d6d-86ba-1a7a3bd65e7e&shortId=DLX-2&type=run\"> \n",
    "  <img alt=\"Explore in Neptune\" src=\"https://neptune.ai/wp-content/uploads/2024/01/neptune-badge.svg\">\n",
    "</a><a target=\"_blank\" href=\"https://docs.neptune.ai/integrations/dalex/\">\n",
    "  <img alt=\"View tutorial in docs\" src=\"https://neptune.ai/wp-content/uploads/2024/01/docs-badge-2.svg\">\n",
    "</a>"
   ]
  },
  {
   "attachments": {},
   "cell_type": "markdown",
   "metadata": {
    "id": "zY6B8JTKeluQ",
    "tags": [
     "header",
     "comment"
    ]
   },
   "source": [
    "## Introduction\n",
    "\n",
    "[Dalex](https://dalex.drwhy.ai/) is an open-source tool to explore and explain model behavior to understand how complex models are working.  \n",
    "This guide will show you how to:\n",
    "\n",
    "* Upload pickled dalex explainer object to Neptune\n",
    "* Upload dalex's interactive reports to Neptune.\n",
    "\n",
    "This guide is adapted from the dalex documentation [here](https://dalex.drwhy.ai/python-dalex-titanic.html)."
   ]
  },
  {
   "attachments": {},
   "cell_type": "markdown",
   "metadata": {
    "id": "EiPydbIreluR"
   },
   "source": [
    "## Before you start\n",
    "\n",
    "This notebook example lets you try out Neptune as an anonymous user, with zero setup.\n",
    "\n",
    "If you want to see the example logged to your own workspace instead:\n",
    "\n",
    "  1. Create a Neptune account. [Register &rarr;](https://neptune.ai/register)\n",
    "  1. Create a Neptune project that you will use for tracking metadata. For instructions, see [Creating a project](https://docs.neptune.ai/setup/creating_project) in the Neptune docs."
   ]
  },
  {
   "attachments": {},
   "cell_type": "markdown",
   "metadata": {
    "id": "NTVvWzR-eluS"
   },
   "source": [
    "## Install Neptune and dependencies"
   ]
  },
  {
   "cell_type": "code",
   "execution_count": null,
   "metadata": {
    "id": "7S4oP2QneluT",
    "tags": [
     "installation"
    ]
   },
   "outputs": [],
   "source": [
    "%pip install -U dalex neptune pandas scikit-learn nbformat\n",
    "%pip install -U --user scikit-learn"
   ]
  },
  {
   "attachments": {},
   "cell_type": "markdown",
   "metadata": {
    "id": "I9FI9oaqeluU",
    "tags": [
     "header"
    ]
   },
   "source": [
    "## Import libraries"
   ]
  },
  {
   "cell_type": "code",
   "execution_count": null,
   "metadata": {
    "id": "0CrsGX17eluV",
    "tags": [
     "code"
    ]
   },
   "outputs": [],
   "source": [
    "import dalex as dx\n",
    "\n",
    "import pandas as pd\n",
    "\n",
    "from sklearn.neural_network import MLPClassifier\n",
    "from sklearn.preprocessing import StandardScaler, OneHotEncoder\n",
    "from sklearn.impute import SimpleImputer\n",
    "from sklearn.pipeline import Pipeline\n",
    "from sklearn.compose import ColumnTransformer\n",
    "\n",
    "import warnings\n",
    "\n",
    "warnings.filterwarnings(\"ignore\")"
   ]
  },
  {
   "attachments": {},
   "cell_type": "markdown",
   "metadata": {},
   "source": [
    "## Load data"
   ]
  },
  {
   "cell_type": "code",
   "execution_count": null,
   "metadata": {},
   "outputs": [],
   "source": [
    "data = dx.datasets.load_titanic()\n",
    "\n",
    "X = data.drop(columns=\"survived\")\n",
    "y = data.survived\n",
    "\n",
    "data.head(10)"
   ]
  },
  {
   "attachments": {},
   "cell_type": "markdown",
   "metadata": {},
   "source": [
    "## Create a pipeline model"
   ]
  },
  {
   "cell_type": "code",
   "execution_count": null,
   "metadata": {},
   "outputs": [],
   "source": [
    "numerical_features = [\"age\", \"fare\", \"sibsp\", \"parch\"]\n",
    "numerical_transformer = Pipeline(\n",
    "    steps=[(\"imputer\", SimpleImputer(strategy=\"median\")), (\"scaler\", StandardScaler())]\n",
    ")\n",
    "\n",
    "categorical_features = [\"gender\", \"class\", \"embarked\"]\n",
    "categorical_transformer = Pipeline(\n",
    "    steps=[\n",
    "        (\"imputer\", SimpleImputer(strategy=\"constant\", fill_value=\"missing\")),\n",
    "        (\"onehot\", OneHotEncoder(handle_unknown=\"ignore\")),\n",
    "    ]\n",
    ")\n",
    "\n",
    "preprocessor = ColumnTransformer(\n",
    "    transformers=[\n",
    "        (\"num\", numerical_transformer, numerical_features),\n",
    "        (\"cat\", categorical_transformer, categorical_features),\n",
    "    ]\n",
    ")\n",
    "\n",
    "classifier = MLPClassifier(hidden_layer_sizes=(150, 100, 50), max_iter=500, random_state=0)\n",
    "\n",
    "clf = Pipeline(steps=[(\"preprocessor\", preprocessor), (\"classifier\", classifier)])"
   ]
  },
  {
   "attachments": {},
   "cell_type": "markdown",
   "metadata": {},
   "source": [
    "## Fit the model"
   ]
  },
  {
   "cell_type": "code",
   "execution_count": null,
   "metadata": {},
   "outputs": [],
   "source": [
    "clf.fit(X, y)"
   ]
  },
  {
   "attachments": {},
   "cell_type": "markdown",
   "metadata": {},
   "source": [
    "### (Neptune) Start a run\n",
    "\n",
    "To create a new run for tracking the metadata, you tell Neptune who you are (`api_token`) and where to send the data (`project`).\n",
    "\n",
    "You can use the default code cell below to create an anonymous run in the public project [common/dalex-support](https://app.neptune.ai/o/common/org/dalex-support). **Note**: Public projects are cleaned regularly, so anonymous runs are only stored temporarily.\n",
    "\n",
    "### Log to your own project instead\n",
    "\n",
    "Replace the code below with the following:\n",
    "\n",
    "```python\n",
    "import neptune\n",
    "from getpass import getpass\n",
    "\n",
    "run = neptune.init_run(\n",
    "    project=\"workspace-name/project-name\",  # replace with your own (see instructions below)\n",
    "    api_token=getpass(\"Enter your Neptune API token: \"),\n",
    "    tags=[\"reports\"],  # (optional) replace with your own\n",
    ")\n",
    "```\n",
    "\n",
    "To find your API token and full project name:\n",
    "\n",
    "1. [Log in to Neptune](https://app.neptune.ai/).\n",
    "1. In the bottom-left corner, expand your user menu and select **Get your API token**.\n",
    "1. The workspace name is displayed in the top-left corner of the app.\n",
    "\n",
    "    To copy the project path, in the top-right corner, open the settings menu and select **Properties**.\n",
    "\n",
    "For more help, see [Setting Neptune credentials](https://docs.neptune.ai/setup/setting_credentials) in the Neptune docs."
   ]
  },
  {
   "cell_type": "code",
   "execution_count": null,
   "metadata": {},
   "outputs": [],
   "source": [
    "import neptune\n",
    "\n",
    "run = neptune.init_run(\n",
    "    api_token=neptune.ANONYMOUS_API_TOKEN,\n",
    "    project=\"common/dalex-support\",\n",
    "    tags=[\"dalex reports\"],  # (optional) replace with your own\n",
    ")"
   ]
  },
  {
   "attachments": {},
   "cell_type": "markdown",
   "metadata": {},
   "source": [
    "**To open the run in the Neptune web app, click the link that appeared in the cell output.**\n",
    "\n",
    "We'll use the `run` object we just created to log metadata. You'll see the metadata appear in the app."
   ]
  },
  {
   "attachments": {},
   "cell_type": "markdown",
   "metadata": {},
   "source": [
    "## Create an explainer for the model¶"
   ]
  },
  {
   "cell_type": "code",
   "execution_count": null,
   "metadata": {},
   "outputs": [],
   "source": [
    "exp = dx.Explainer(clf, X, y)"
   ]
  },
  {
   "attachments": {},
   "cell_type": "markdown",
   "metadata": {},
   "source": [
    "### (Neptune) Upload explainer object to Neptune\n",
    "You can use dalex's [`dumps()`](https://dalex.drwhy.ai/python/api/#dalex.Explainer.dumps) method to get a pickled representation of the explainer, and then upload it to Neptune using Neptune's [`from_content()`](https://docs.neptune.ai/api/field_types/#from_content) method."
   ]
  },
  {
   "cell_type": "code",
   "execution_count": null,
   "metadata": {},
   "outputs": [],
   "source": [
    "from neptune.types import File\n",
    "\n",
    "run[\"pickled_explainer\"].upload(File.from_content(exp.dumps()))"
   ]
  },
  {
   "attachments": {},
   "cell_type": "markdown",
   "metadata": {},
   "source": [
    "## Model-level explanations"
   ]
  },
  {
   "attachments": {},
   "cell_type": "markdown",
   "metadata": {},
   "source": [
    "### model_performance\n",
    "\n",
    "This function calculates various Model Performance measures:\n",
    "\n",
    "- __Classification:__ F1, accuracy, recall, precision and AUC\n",
    "- __Regression:__ mean squared error, R squared, median absolute deviation\n"
   ]
  },
  {
   "cell_type": "code",
   "execution_count": null,
   "metadata": {},
   "outputs": [],
   "source": [
    "mp = exp.model_performance().plot(geom=\"roc\", show=False)\n",
    "mp"
   ]
  },
  {
   "attachments": {},
   "cell_type": "markdown",
   "metadata": {},
   "source": [
    "#### (Neptune) Upload ROC plot to Neptune\n",
    "These plots can be uploaded to Neptune by setting `show=False`.  \n",
    "To distinguish between the plot types, you can use namespaces. For example, \"model/performace/roc\", \"model/performance/ecdf\", etc. \n",
    "You can learn more about Neptune namespaces and fields in the [documentation](https://docs.neptune.ai/about/namespaces_and_fields/)."
   ]
  },
  {
   "cell_type": "code",
   "execution_count": null,
   "metadata": {},
   "outputs": [],
   "source": [
    "run[\"model/performance/roc\"].upload(mp)"
   ]
  },
  {
   "attachments": {},
   "cell_type": "markdown",
   "metadata": {},
   "source": [
    "### model_parts\n",
    "This function calculates Variable Importance."
   ]
  },
  {
   "cell_type": "code",
   "execution_count": null,
   "metadata": {},
   "outputs": [],
   "source": [
    "vi = exp.model_parts().plot(show=False)\n",
    "vi"
   ]
  },
  {
   "attachments": {},
   "cell_type": "markdown",
   "metadata": {},
   "source": [
    "There is also a possibility of calculating variable importance of group of variables"
   ]
  },
  {
   "cell_type": "code",
   "execution_count": null,
   "metadata": {},
   "outputs": [],
   "source": [
    "vi_grouped = exp.model_parts(\n",
    "    variable_groups={\"personal\": [\"gender\", \"age\", \"sibsp\", \"parch\"], \"wealth\": [\"class\", \"fare\"]}\n",
    ").plot(show=False)\n",
    "vi_grouped"
   ]
  },
  {
   "attachments": {},
   "cell_type": "markdown",
   "metadata": {},
   "source": [
    "#### (Neptune) Upload variable importance plots to Neptune"
   ]
  },
  {
   "cell_type": "code",
   "execution_count": null,
   "metadata": {},
   "outputs": [],
   "source": [
    "run[\"model/variable_importance/single\"].upload(vi)\n",
    "run[\"model/variable_importance/grouped\"].upload(vi_grouped)"
   ]
  },
  {
   "attachments": {},
   "cell_type": "markdown",
   "metadata": {},
   "source": [
    "### model_profile\n",
    "This function calculates explanations that explore model response as a function of selected variables.  \n",
    "The explanations can be calculated as Partial Dependence Profile or Accumulated Local Dependence Profile."
   ]
  },
  {
   "cell_type": "code",
   "execution_count": null,
   "metadata": {},
   "outputs": [],
   "source": [
    "pdp_num = exp.model_profile(type=\"partial\", label=\"pdp\")\n",
    "ale_num = exp.model_profile(type=\"accumulated\", label=\"ale\")\n",
    "mp_num = pdp_num.plot(ale_num, show=False)\n",
    "mp_num"
   ]
  },
  {
   "cell_type": "code",
   "execution_count": null,
   "metadata": {},
   "outputs": [],
   "source": [
    "pdp_cat = exp.model_profile(\n",
    "    type=\"partial\", variable_type=\"categorical\", variables=[\"gender\", \"class\"], label=\"pdp\"\n",
    ")\n",
    "ale_cat = exp.model_profile(\n",
    "    type=\"accumulated\", variable_type=\"categorical\", variables=[\"gender\", \"class\"], label=\"ale\"\n",
    ")\n",
    "mp_cat = ale_cat.plot(pdp_cat, show=False)\n",
    "mp_cat"
   ]
  },
  {
   "attachments": {},
   "cell_type": "markdown",
   "metadata": {},
   "source": [
    "#### (Neptune) Upload model profile plots to Neptune"
   ]
  },
  {
   "cell_type": "code",
   "execution_count": null,
   "metadata": {},
   "outputs": [],
   "source": [
    "run[\"model/profile/num\"].upload(mp_num)\n",
    "run[\"model/profile/cat\"].upload(mp_cat)"
   ]
  },
  {
   "attachments": {},
   "cell_type": "markdown",
   "metadata": {},
   "source": [
    "## Prediction-level explanations"
   ]
  },
  {
   "attachments": {},
   "cell_type": "markdown",
   "metadata": {},
   "source": [
    "Let's create two example persons for this tutorial."
   ]
  },
  {
   "cell_type": "code",
   "execution_count": null,
   "metadata": {},
   "outputs": [],
   "source": [
    "john = pd.DataFrame(\n",
    "    {\n",
    "        \"gender\": [\"male\"],\n",
    "        \"age\": [25],\n",
    "        \"class\": [\"1st\"],\n",
    "        \"embarked\": [\"Southampton\"],\n",
    "        \"fare\": [72],\n",
    "        \"sibsp\": [0],\n",
    "        \"parch\": 0,\n",
    "    },\n",
    "    index=[\"John\"],\n",
    ")\n",
    "\n",
    "mary = pd.DataFrame(\n",
    "    {\n",
    "        \"gender\": [\"female\"],\n",
    "        \"age\": [35],\n",
    "        \"class\": [\"3rd\"],\n",
    "        \"embarked\": [\"Cherbourg\"],\n",
    "        \"fare\": [25],\n",
    "        \"sibsp\": [0],\n",
    "        \"parch\": [0],\n",
    "    },\n",
    "    index=[\"Mary\"],\n",
    ")"
   ]
  },
  {
   "attachments": {},
   "cell_type": "markdown",
   "metadata": {},
   "source": [
    "### predict_parts\n",
    "This function calculates Variable Attributions as Break Down, iBreakDown or Shapley Values explanations.  \n",
    "Model prediction is decomposed into parts that are attributed for particular variables."
   ]
  },
  {
   "attachments": {},
   "cell_type": "markdown",
   "metadata": {},
   "source": [
    "Breakdown values for John's predictions"
   ]
  },
  {
   "cell_type": "code",
   "execution_count": null,
   "metadata": {},
   "outputs": [],
   "source": [
    "bd_john = exp.predict_parts(john, type=\"break_down\", label=john.index[0])\n",
    "bd_interactions_john = exp.predict_parts(john, type=\"break_down_interactions\", label=\"John+\")\n",
    "bd_pp = bd_john.plot(bd_interactions_john, show=False)\n",
    "bd_pp"
   ]
  },
  {
   "attachments": {},
   "cell_type": "markdown",
   "metadata": {},
   "source": [
    "Shapely values for Mary's predictions"
   ]
  },
  {
   "cell_type": "code",
   "execution_count": null,
   "metadata": {},
   "outputs": [],
   "source": [
    "sh_mary = exp.predict_parts(mary, type=\"shap\", B=10, label=mary.index[0]).plot(show=False)\n",
    "sh_mary"
   ]
  },
  {
   "attachments": {},
   "cell_type": "markdown",
   "metadata": {},
   "source": [
    "#### (Neptune) Upload plots to Neptune"
   ]
  },
  {
   "cell_type": "code",
   "execution_count": null,
   "metadata": {},
   "outputs": [],
   "source": [
    "run[\"prediction/breakdown/john\"].upload(bd_pp)\n",
    "run[\"prediction/shapely/mary\"].upload(sh_mary)"
   ]
  },
  {
   "attachments": {},
   "cell_type": "markdown",
   "metadata": {},
   "source": [
    "### predict_profile\n",
    "\n",
    "This function computes individual profiles aka Ceteris Paribus Profiles."
   ]
  },
  {
   "cell_type": "code",
   "execution_count": null,
   "metadata": {},
   "outputs": [],
   "source": [
    "cp_mary = exp.predict_profile(mary, label=mary.index[0])\n",
    "cp_john = exp.predict_profile(john, label=john.index[0])\n",
    "pred_profile = cp_mary.plot(cp_john, show=False)\n",
    "pred_profile"
   ]
  },
  {
   "cell_type": "code",
   "execution_count": null,
   "metadata": {},
   "outputs": [],
   "source": [
    "pred_profile_cat = cp_john.plot(cp_mary, variable_type=\"categorical\", show=False)\n",
    "pred_profile_cat"
   ]
  },
  {
   "attachments": {},
   "cell_type": "markdown",
   "metadata": {},
   "source": [
    "#### (Neptune) Upload CP plots to Neptune"
   ]
  },
  {
   "cell_type": "code",
   "execution_count": null,
   "metadata": {},
   "outputs": [],
   "source": [
    "run[\"prediction/profile/numerical\"].upload(pred_profile)\n",
    "run[\"prediction/profile/categorical\"].upload(pred_profile_cat)"
   ]
  },
  {
   "attachments": {},
   "cell_type": "markdown",
   "metadata": {},
   "source": [
    "## Stop logging\n",
    "\n",
    "Once you are done logging, stop tracking the run."
   ]
  },
  {
   "cell_type": "code",
   "execution_count": null,
   "metadata": {},
   "outputs": [],
   "source": [
    "run.stop()"
   ]
  },
  {
   "attachments": {},
   "cell_type": "markdown",
   "metadata": {
    "id": "HIL4YStSelut",
    "tags": [
     "header"
    ]
   },
   "source": [
    "## Analyze reports in the Neptune app\n",
    "Go to the run link and explore the reports. \n",
    "You can also explore this [example run](https://app.neptune.ai/o/common/org/dalex-support/runs/details?viewId=standard-view&detailsTab=dashboard&dashboardId=993ea4c1-c528-4d6d-86ba-1a7a3bd65e7e&shortId=DLX-2&type=run)."
   ]
  }
 ],
 "metadata": {
  "accelerator": "GPU",
  "colab": {
   "private_outputs": true,
   "provenance": [],
   "toc_visible": true
  },
  "gpuClass": "standard",
  "kernelspec": {
   "display_name": "py38",
   "language": "python",
   "name": "python3"
  },
  "language_info": {
   "codemirror_mode": {
    "name": "ipython",
    "version": 3
   },
   "file_extension": ".py",
   "mimetype": "text/x-python",
   "name": "python",
   "nbconvert_exporter": "python",
   "pygments_lexer": "ipython3",
   "version": "3.10.11"
  },
  "vscode": {
   "interpreter": {
    "hash": "a9715cf0b0024f6e1c62cb31a4f1f43970eb41991212681878768b4bfe53050a"
   }
  }
 },
 "nbformat": 4,
 "nbformat_minor": 0
}
