{
 "cells": [
  {
   "attachments": {},
   "cell_type": "markdown",
   "metadata": {
    "id": "EYNlatILeluO"
   },
   "source": [
    "# Neptune + Dalex"
   ]
  },
  {
   "attachments": {},
   "cell_type": "markdown",
   "metadata": {
    "id": "zY6B8JTKeluQ",
    "tags": [
     "header",
     "comment"
    ]
   },
   "source": [
    "## Introduction\n",
    "\n",
    "[Dalex](https://dalex.drwhy.ai/) is an open-source tool to explore and explain model behaviour to understand how complex models are working.  \n",
    "This guide will show you how to:\n",
    "\n",
    "* Upload pickeled dalex explainer object to Neptune\n",
    "* Upload dalex's interactive reports to Neptune.\n",
    "\n",
    "This guide is adapted from the dalex documentation [here](https://dalex.drwhy.ai/python-dalex-titanic.html)."
   ]
  },
  {
   "attachments": {},
   "cell_type": "markdown",
   "metadata": {
    "id": "EiPydbIreluR"
   },
   "source": [
    "## Before you start\n",
    "\n",
    "This notebook example lets you try out Neptune as an anonymous user, with zero setup.\n",
    "\n",
    "If you want to see the example logged to your own workspace instead:\n",
    "\n",
    "  1. Create a Neptune account. [Register &rarr;](https://neptune.ai/register)\n",
    "  1. Create a Neptune project that you will use for tracking metadata. For instructions, see [Creating a project](https://docs.neptune.ai/setup/creating_project) in the Neptune docs."
   ]
  },
  {
   "attachments": {},
   "cell_type": "markdown",
   "metadata": {
    "id": "NTVvWzR-eluS"
   },
   "source": [
    "## Install Neptune and dependencies"
   ]
  },
  {
   "cell_type": "code",
   "execution_count": 1,
   "metadata": {
    "id": "7S4oP2QneluT",
    "tags": [
     "installation"
    ]
   },
   "outputs": [
    {
     "name": "stdout",
     "output_type": "stream",
     "text": [
      "Collecting dalex\n",
      "  Downloading dalex-1.6.0.tar.gz (1.0 MB)\n",
      "     ---------------------------------------- 1.0/1.0 MB 6.4 MB/s eta 0:00:00\n",
      "  Preparing metadata (setup.py): started\n",
      "  Preparing metadata (setup.py): finished with status 'done'\n",
      "Collecting neptune\n",
      "  Using cached neptune-1.2.0-py3-none-any.whl (448 kB)\n",
      "Requirement already satisfied: pandas in c:\\users\\siddh\\miniconda3\\envs\\py38\\lib\\site-packages (2.0.1)\n",
      "Requirement already satisfied: setuptools in c:\\users\\siddh\\miniconda3\\envs\\py38\\lib\\site-packages (from dalex) (65.5.1)\n",
      "Requirement already satisfied: numpy>=1.20.3 in c:\\users\\siddh\\miniconda3\\envs\\py38\\lib\\site-packages (from dalex) (1.24.3)\n",
      "Requirement already satisfied: scipy>=1.6.3 in c:\\users\\siddh\\appdata\\roaming\\python\\python38\\site-packages (from dalex) (1.10.1)\n",
      "Requirement already satisfied: plotly>=5.1.0 in c:\\users\\siddh\\miniconda3\\envs\\py38\\lib\\site-packages (from dalex) (5.13.1)\n",
      "Requirement already satisfied: tqdm>=4.61.2 in c:\\users\\siddh\\miniconda3\\envs\\py38\\lib\\site-packages (from dalex) (4.64.1)\n",
      "Requirement already satisfied: GitPython>=2.0.8 in c:\\users\\siddh\\miniconda3\\envs\\py38\\lib\\site-packages (from neptune) (3.1.31)\n",
      "Requirement already satisfied: Pillow>=1.1.6 in c:\\users\\siddh\\miniconda3\\envs\\py38\\lib\\site-packages (from neptune) (9.4.0)\n",
      "Requirement already satisfied: PyJWT in c:\\users\\siddh\\miniconda3\\envs\\py38\\lib\\site-packages (from neptune) (2.6.0)\n",
      "Requirement already satisfied: boto3>=1.16.0 in c:\\users\\siddh\\miniconda3\\envs\\py38\\lib\\site-packages (from neptune) (1.24.59)\n",
      "Requirement already satisfied: bravado<12.0.0,>=11.0.0 in c:\\users\\siddh\\miniconda3\\envs\\py38\\lib\\site-packages (from neptune) (11.0.3)\n",
      "Requirement already satisfied: click>=7.0 in c:\\users\\siddh\\miniconda3\\envs\\py38\\lib\\site-packages (from neptune) (8.1.3)\n",
      "Requirement already satisfied: future>=0.17.1 in c:\\users\\siddh\\miniconda3\\envs\\py38\\lib\\site-packages (from neptune) (0.18.2)\n",
      "Requirement already satisfied: oauthlib>=2.1.0 in c:\\users\\siddh\\miniconda3\\envs\\py38\\lib\\site-packages (from neptune) (3.2.2)\n",
      "Requirement already satisfied: packaging in c:\\users\\siddh\\miniconda3\\envs\\py38\\lib\\site-packages (from neptune) (22.0)\n",
      "Requirement already satisfied: psutil in c:\\users\\siddh\\miniconda3\\envs\\py38\\lib\\site-packages (from neptune) (5.9.0)\n",
      "Requirement already satisfied: requests>=2.20.0 in c:\\users\\siddh\\miniconda3\\envs\\py38\\lib\\site-packages (from neptune) (2.28.1)\n",
      "Requirement already satisfied: requests-oauthlib>=1.0.0 in c:\\users\\siddh\\miniconda3\\envs\\py38\\lib\\site-packages (from neptune) (1.3.1)\n",
      "Requirement already satisfied: six>=1.12.0 in c:\\users\\siddh\\miniconda3\\envs\\py38\\lib\\site-packages (from neptune) (1.16.0)\n",
      "Requirement already satisfied: swagger-spec-validator>=2.7.4 in c:\\users\\siddh\\miniconda3\\envs\\py38\\lib\\site-packages (from neptune) (3.0.3)\n",
      "Requirement already satisfied: urllib3 in c:\\users\\siddh\\miniconda3\\envs\\py38\\lib\\site-packages (from neptune) (1.26.13)\n",
      "Requirement already satisfied: websocket-client!=1.0.0,>=0.35.0 in c:\\users\\siddh\\miniconda3\\envs\\py38\\lib\\site-packages (from neptune) (1.4.2)\n",
      "Requirement already satisfied: python-dateutil>=2.8.2 in c:\\users\\siddh\\miniconda3\\envs\\py38\\lib\\site-packages (from pandas) (2.8.2)\n",
      "Requirement already satisfied: pytz>=2020.1 in c:\\users\\siddh\\miniconda3\\envs\\py38\\lib\\site-packages (from pandas) (2022.6)\n",
      "Requirement already satisfied: tzdata>=2022.1 in c:\\users\\siddh\\miniconda3\\envs\\py38\\lib\\site-packages (from pandas) (2023.3)\n",
      "Requirement already satisfied: botocore<1.28.0,>=1.27.59 in c:\\users\\siddh\\miniconda3\\envs\\py38\\lib\\site-packages (from boto3>=1.16.0->neptune) (1.27.59)\n",
      "Requirement already satisfied: jmespath<2.0.0,>=0.7.1 in c:\\users\\siddh\\miniconda3\\envs\\py38\\lib\\site-packages (from boto3>=1.16.0->neptune) (0.10.0)\n",
      "Requirement already satisfied: s3transfer<0.7.0,>=0.6.0 in c:\\users\\siddh\\miniconda3\\envs\\py38\\lib\\site-packages (from boto3>=1.16.0->neptune) (0.6.0)\n",
      "Requirement already satisfied: bravado-core>=5.16.1 in c:\\users\\siddh\\miniconda3\\envs\\py38\\lib\\site-packages (from bravado<12.0.0,>=11.0.0->neptune) (5.17.1)\n",
      "Requirement already satisfied: msgpack in c:\\users\\siddh\\miniconda3\\envs\\py38\\lib\\site-packages (from bravado<12.0.0,>=11.0.0->neptune) (1.0.4)\n",
      "Requirement already satisfied: pyyaml in c:\\users\\siddh\\miniconda3\\envs\\py38\\lib\\site-packages (from bravado<12.0.0,>=11.0.0->neptune) (6.0)\n",
      "Requirement already satisfied: simplejson in c:\\users\\siddh\\miniconda3\\envs\\py38\\lib\\site-packages (from bravado<12.0.0,>=11.0.0->neptune) (3.18.0)\n",
      "Requirement already satisfied: monotonic in c:\\users\\siddh\\miniconda3\\envs\\py38\\lib\\site-packages (from bravado<12.0.0,>=11.0.0->neptune) (1.6)\n",
      "Requirement already satisfied: typing-extensions in c:\\users\\siddh\\miniconda3\\envs\\py38\\lib\\site-packages (from bravado<12.0.0,>=11.0.0->neptune) (4.4.0)\n",
      "Requirement already satisfied: colorama in c:\\users\\siddh\\miniconda3\\envs\\py38\\lib\\site-packages (from click>=7.0->neptune) (0.4.5)\n",
      "Requirement already satisfied: gitdb<5,>=4.0.1 in c:\\users\\siddh\\miniconda3\\envs\\py38\\lib\\site-packages (from GitPython>=2.0.8->neptune) (4.0.10)\n",
      "Requirement already satisfied: tenacity>=6.2.0 in c:\\users\\siddh\\miniconda3\\envs\\py38\\lib\\site-packages (from plotly>=5.1.0->dalex) (8.1.0)\n",
      "Requirement already satisfied: charset-normalizer<3,>=2 in c:\\users\\siddh\\miniconda3\\envs\\py38\\lib\\site-packages (from requests>=2.20.0->neptune) (2.1.1)\n",
      "Requirement already satisfied: idna<4,>=2.5 in c:\\users\\siddh\\miniconda3\\envs\\py38\\lib\\site-packages (from requests>=2.20.0->neptune) (3.4)\n",
      "Requirement already satisfied: certifi>=2017.4.17 in c:\\users\\siddh\\miniconda3\\envs\\py38\\lib\\site-packages (from requests>=2.20.0->neptune) (2022.12.7)\n",
      "Requirement already satisfied: jsonschema in c:\\users\\siddh\\miniconda3\\envs\\py38\\lib\\site-packages (from swagger-spec-validator>=2.7.4->neptune) (4.17.3)\n",
      "Requirement already satisfied: jsonref in c:\\users\\siddh\\miniconda3\\envs\\py38\\lib\\site-packages (from bravado-core>=5.16.1->bravado<12.0.0,>=11.0.0->neptune) (1.0.1)\n",
      "Requirement already satisfied: smmap<6,>=3.0.1 in c:\\users\\siddh\\miniconda3\\envs\\py38\\lib\\site-packages (from gitdb<5,>=4.0.1->GitPython>=2.0.8->neptune) (5.0.0)\n",
      "Requirement already satisfied: attrs>=17.4.0 in c:\\users\\siddh\\miniconda3\\envs\\py38\\lib\\site-packages (from jsonschema->swagger-spec-validator>=2.7.4->neptune) (22.1.0)\n",
      "Requirement already satisfied: importlib-resources>=1.4.0 in c:\\users\\siddh\\miniconda3\\envs\\py38\\lib\\site-packages (from jsonschema->swagger-spec-validator>=2.7.4->neptune) (5.10.1)\n",
      "Requirement already satisfied: pkgutil-resolve-name>=1.3.10 in c:\\users\\siddh\\miniconda3\\envs\\py38\\lib\\site-packages (from jsonschema->swagger-spec-validator>=2.7.4->neptune) (1.3.10)\n",
      "Requirement already satisfied: pyrsistent!=0.17.0,!=0.17.1,!=0.17.2,>=0.14.0 in c:\\users\\siddh\\miniconda3\\envs\\py38\\lib\\site-packages (from jsonschema->swagger-spec-validator>=2.7.4->neptune) (0.19.2)\n",
      "Requirement already satisfied: zipp>=3.1.0 in c:\\users\\siddh\\miniconda3\\envs\\py38\\lib\\site-packages (from importlib-resources>=1.4.0->jsonschema->swagger-spec-validator>=2.7.4->neptune) (3.11.0)\n",
      "Requirement already satisfied: fqdn in c:\\users\\siddh\\miniconda3\\envs\\py38\\lib\\site-packages (from jsonschema->swagger-spec-validator>=2.7.4->neptune) (1.5.1)\n",
      "Requirement already satisfied: isoduration in c:\\users\\siddh\\miniconda3\\envs\\py38\\lib\\site-packages (from jsonschema->swagger-spec-validator>=2.7.4->neptune) (20.11.0)\n",
      "Requirement already satisfied: jsonpointer>1.13 in c:\\users\\siddh\\miniconda3\\envs\\py38\\lib\\site-packages (from jsonschema->swagger-spec-validator>=2.7.4->neptune) (2.3)\n",
      "Requirement already satisfied: rfc3339-validator in c:\\users\\siddh\\miniconda3\\envs\\py38\\lib\\site-packages (from jsonschema->swagger-spec-validator>=2.7.4->neptune) (0.1.4)\n",
      "Requirement already satisfied: rfc3987 in c:\\users\\siddh\\miniconda3\\envs\\py38\\lib\\site-packages (from jsonschema->swagger-spec-validator>=2.7.4->neptune) (1.3.8)\n",
      "Requirement already satisfied: uri-template in c:\\users\\siddh\\miniconda3\\envs\\py38\\lib\\site-packages (from jsonschema->swagger-spec-validator>=2.7.4->neptune) (1.2.0)\n",
      "Requirement already satisfied: webcolors>=1.11 in c:\\users\\siddh\\miniconda3\\envs\\py38\\lib\\site-packages (from jsonschema->swagger-spec-validator>=2.7.4->neptune) (1.12)\n",
      "Requirement already satisfied: arrow>=0.15.0 in c:\\users\\siddh\\miniconda3\\envs\\py38\\lib\\site-packages (from isoduration->jsonschema->swagger-spec-validator>=2.7.4->neptune) (1.2.3)\n",
      "Building wheels for collected packages: dalex\n",
      "  Building wheel for dalex (setup.py): started\n",
      "  Building wheel for dalex (setup.py): finished with status 'done'\n",
      "  Created wheel for dalex: filename=dalex-1.6.0-py3-none-any.whl size=1046062 sha256=f479644e8e5c79090d32bad8f340f00942f4bb3ecdcb74b8437106a931d53483\n",
      "  Stored in directory: c:\\users\\siddh\\appdata\\local\\pip\\cache\\wheels\\dd\\07\\2f\\f5456a1d25db6d8e3568bef25dfa7c6b180921487177da33be\n",
      "Successfully built dalex\n",
      "Installing collected packages: dalex, neptune\n",
      "Successfully installed dalex-1.6.0 neptune-1.2.0\n",
      "Note: you may need to restart the kernel to use updated packages.\n",
      "Requirement already satisfied: scikit-learn in c:\\users\\siddh\\appdata\\roaming\\python\\python38\\site-packages (1.2.2)\n",
      "Requirement already satisfied: numpy>=1.17.3 in c:\\users\\siddh\\miniconda3\\envs\\py38\\lib\\site-packages (from scikit-learn) (1.24.3)\n",
      "Requirement already satisfied: scipy>=1.3.2 in c:\\users\\siddh\\appdata\\roaming\\python\\python38\\site-packages (from scikit-learn) (1.10.1)\n",
      "Requirement already satisfied: joblib>=1.1.1 in c:\\users\\siddh\\miniconda3\\envs\\py38\\lib\\site-packages (from scikit-learn) (1.2.0)\n",
      "Requirement already satisfied: threadpoolctl>=2.0.0 in c:\\users\\siddh\\miniconda3\\envs\\py38\\lib\\site-packages (from scikit-learn) (3.1.0)\n",
      "Note: you may need to restart the kernel to use updated packages.\n"
     ]
    }
   ],
   "source": [
    "%pip install -U dalex neptune pandas\n",
    "%pip install -U --user scikit-learn"
   ]
  },
  {
   "attachments": {},
   "cell_type": "markdown",
   "metadata": {
    "id": "I9FI9oaqeluU",
    "tags": [
     "header"
    ]
   },
   "source": [
    "## Import libraries"
   ]
  },
  {
   "cell_type": "code",
   "execution_count": 55,
   "metadata": {
    "id": "0CrsGX17eluV",
    "tags": [
     "code"
    ]
   },
   "outputs": [],
   "source": [
    "import dalex as dx\n",
    "\n",
    "import pandas as pd\n",
    "\n",
    "from sklearn.neural_network import MLPClassifier\n",
    "from sklearn.preprocessing import StandardScaler, OneHotEncoder\n",
    "from sklearn.impute import SimpleImputer\n",
    "from sklearn.pipeline import Pipeline\n",
    "from sklearn.compose import ColumnTransformer\n",
    "\n",
    "import warnings\n",
    "warnings.filterwarnings('ignore')"
   ]
  },
  {
   "attachments": {},
   "cell_type": "markdown",
   "metadata": {},
   "source": [
    "## Load data"
   ]
  },
  {
   "cell_type": "code",
   "execution_count": 56,
   "metadata": {},
   "outputs": [
    {
     "data": {
      "text/html": [
       "<div>\n",
       "<style scoped>\n",
       "    .dataframe tbody tr th:only-of-type {\n",
       "        vertical-align: middle;\n",
       "    }\n",
       "\n",
       "    .dataframe tbody tr th {\n",
       "        vertical-align: top;\n",
       "    }\n",
       "\n",
       "    .dataframe thead th {\n",
       "        text-align: right;\n",
       "    }\n",
       "</style>\n",
       "<table border=\"1\" class=\"dataframe\">\n",
       "  <thead>\n",
       "    <tr style=\"text-align: right;\">\n",
       "      <th></th>\n",
       "      <th>gender</th>\n",
       "      <th>age</th>\n",
       "      <th>class</th>\n",
       "      <th>embarked</th>\n",
       "      <th>fare</th>\n",
       "      <th>sibsp</th>\n",
       "      <th>parch</th>\n",
       "      <th>survived</th>\n",
       "    </tr>\n",
       "  </thead>\n",
       "  <tbody>\n",
       "    <tr>\n",
       "      <th>0</th>\n",
       "      <td>male</td>\n",
       "      <td>42.0</td>\n",
       "      <td>3rd</td>\n",
       "      <td>Southampton</td>\n",
       "      <td>7.1100</td>\n",
       "      <td>0</td>\n",
       "      <td>0</td>\n",
       "      <td>0</td>\n",
       "    </tr>\n",
       "    <tr>\n",
       "      <th>1</th>\n",
       "      <td>male</td>\n",
       "      <td>13.0</td>\n",
       "      <td>3rd</td>\n",
       "      <td>Southampton</td>\n",
       "      <td>20.0500</td>\n",
       "      <td>0</td>\n",
       "      <td>2</td>\n",
       "      <td>0</td>\n",
       "    </tr>\n",
       "    <tr>\n",
       "      <th>2</th>\n",
       "      <td>male</td>\n",
       "      <td>16.0</td>\n",
       "      <td>3rd</td>\n",
       "      <td>Southampton</td>\n",
       "      <td>20.0500</td>\n",
       "      <td>1</td>\n",
       "      <td>1</td>\n",
       "      <td>0</td>\n",
       "    </tr>\n",
       "    <tr>\n",
       "      <th>3</th>\n",
       "      <td>female</td>\n",
       "      <td>39.0</td>\n",
       "      <td>3rd</td>\n",
       "      <td>Southampton</td>\n",
       "      <td>20.0500</td>\n",
       "      <td>1</td>\n",
       "      <td>1</td>\n",
       "      <td>1</td>\n",
       "    </tr>\n",
       "    <tr>\n",
       "      <th>4</th>\n",
       "      <td>female</td>\n",
       "      <td>16.0</td>\n",
       "      <td>3rd</td>\n",
       "      <td>Southampton</td>\n",
       "      <td>7.1300</td>\n",
       "      <td>0</td>\n",
       "      <td>0</td>\n",
       "      <td>1</td>\n",
       "    </tr>\n",
       "    <tr>\n",
       "      <th>5</th>\n",
       "      <td>male</td>\n",
       "      <td>25.0</td>\n",
       "      <td>3rd</td>\n",
       "      <td>Southampton</td>\n",
       "      <td>7.1300</td>\n",
       "      <td>0</td>\n",
       "      <td>0</td>\n",
       "      <td>1</td>\n",
       "    </tr>\n",
       "    <tr>\n",
       "      <th>6</th>\n",
       "      <td>male</td>\n",
       "      <td>30.0</td>\n",
       "      <td>2nd</td>\n",
       "      <td>Cherbourg</td>\n",
       "      <td>24.0000</td>\n",
       "      <td>1</td>\n",
       "      <td>0</td>\n",
       "      <td>0</td>\n",
       "    </tr>\n",
       "    <tr>\n",
       "      <th>7</th>\n",
       "      <td>female</td>\n",
       "      <td>28.0</td>\n",
       "      <td>2nd</td>\n",
       "      <td>Cherbourg</td>\n",
       "      <td>24.0000</td>\n",
       "      <td>1</td>\n",
       "      <td>0</td>\n",
       "      <td>1</td>\n",
       "    </tr>\n",
       "    <tr>\n",
       "      <th>8</th>\n",
       "      <td>male</td>\n",
       "      <td>27.0</td>\n",
       "      <td>3rd</td>\n",
       "      <td>Cherbourg</td>\n",
       "      <td>18.1509</td>\n",
       "      <td>0</td>\n",
       "      <td>0</td>\n",
       "      <td>1</td>\n",
       "    </tr>\n",
       "    <tr>\n",
       "      <th>9</th>\n",
       "      <td>male</td>\n",
       "      <td>20.0</td>\n",
       "      <td>3rd</td>\n",
       "      <td>Southampton</td>\n",
       "      <td>7.1806</td>\n",
       "      <td>0</td>\n",
       "      <td>0</td>\n",
       "      <td>1</td>\n",
       "    </tr>\n",
       "  </tbody>\n",
       "</table>\n",
       "</div>"
      ],
      "text/plain": [
       "   gender   age class     embarked     fare  sibsp  parch  survived\n",
       "0    male  42.0   3rd  Southampton   7.1100      0      0         0\n",
       "1    male  13.0   3rd  Southampton  20.0500      0      2         0\n",
       "2    male  16.0   3rd  Southampton  20.0500      1      1         0\n",
       "3  female  39.0   3rd  Southampton  20.0500      1      1         1\n",
       "4  female  16.0   3rd  Southampton   7.1300      0      0         1\n",
       "5    male  25.0   3rd  Southampton   7.1300      0      0         1\n",
       "6    male  30.0   2nd    Cherbourg  24.0000      1      0         0\n",
       "7  female  28.0   2nd    Cherbourg  24.0000      1      0         1\n",
       "8    male  27.0   3rd    Cherbourg  18.1509      0      0         1\n",
       "9    male  20.0   3rd  Southampton   7.1806      0      0         1"
      ]
     },
     "execution_count": 56,
     "metadata": {},
     "output_type": "execute_result"
    }
   ],
   "source": [
    "data = dx.datasets.load_titanic()\n",
    "\n",
    "X = data.drop(columns='survived')\n",
    "y = data.survived\n",
    "\n",
    "data.head(10)"
   ]
  },
  {
   "attachments": {},
   "cell_type": "markdown",
   "metadata": {},
   "source": [
    "## Create a pipeline model"
   ]
  },
  {
   "cell_type": "code",
   "execution_count": 57,
   "metadata": {},
   "outputs": [],
   "source": [
    "numerical_features = ['age', 'fare', 'sibsp', 'parch']\n",
    "numerical_transformer = Pipeline(\n",
    "    steps=[\n",
    "        ('imputer', SimpleImputer(strategy='median')),\n",
    "        ('scaler', StandardScaler())\n",
    "    ]\n",
    ")\n",
    "\n",
    "categorical_features = ['gender', 'class', 'embarked']\n",
    "categorical_transformer = Pipeline(\n",
    "    steps=[\n",
    "        ('imputer', SimpleImputer(strategy='constant', fill_value='missing')),\n",
    "        ('onehot', OneHotEncoder(handle_unknown='ignore'))\n",
    "    ]\n",
    ")\n",
    "\n",
    "preprocessor = ColumnTransformer(\n",
    "    transformers=[\n",
    "        ('num', numerical_transformer, numerical_features),\n",
    "        ('cat', categorical_transformer, categorical_features)\n",
    "    ]\n",
    ")\n",
    "\n",
    "classifier = MLPClassifier(hidden_layer_sizes=(150,100,50), max_iter=500, random_state=0)\n",
    "\n",
    "clf = Pipeline(steps=[('preprocessor', preprocessor),\n",
    "                      ('classifier', classifier)])"
   ]
  },
  {
   "attachments": {},
   "cell_type": "markdown",
   "metadata": {},
   "source": [
    "## Fit the model"
   ]
  },
  {
   "cell_type": "code",
   "execution_count": 58,
   "metadata": {},
   "outputs": [
    {
     "data": {
      "text/html": [
       "<style>#sk-container-id-2 {color: black;background-color: white;}#sk-container-id-2 pre{padding: 0;}#sk-container-id-2 div.sk-toggleable {background-color: white;}#sk-container-id-2 label.sk-toggleable__label {cursor: pointer;display: block;width: 100%;margin-bottom: 0;padding: 0.3em;box-sizing: border-box;text-align: center;}#sk-container-id-2 label.sk-toggleable__label-arrow:before {content: \"▸\";float: left;margin-right: 0.25em;color: #696969;}#sk-container-id-2 label.sk-toggleable__label-arrow:hover:before {color: black;}#sk-container-id-2 div.sk-estimator:hover label.sk-toggleable__label-arrow:before {color: black;}#sk-container-id-2 div.sk-toggleable__content {max-height: 0;max-width: 0;overflow: hidden;text-align: left;background-color: #f0f8ff;}#sk-container-id-2 div.sk-toggleable__content pre {margin: 0.2em;color: black;border-radius: 0.25em;background-color: #f0f8ff;}#sk-container-id-2 input.sk-toggleable__control:checked~div.sk-toggleable__content {max-height: 200px;max-width: 100%;overflow: auto;}#sk-container-id-2 input.sk-toggleable__control:checked~label.sk-toggleable__label-arrow:before {content: \"▾\";}#sk-container-id-2 div.sk-estimator input.sk-toggleable__control:checked~label.sk-toggleable__label {background-color: #d4ebff;}#sk-container-id-2 div.sk-label input.sk-toggleable__control:checked~label.sk-toggleable__label {background-color: #d4ebff;}#sk-container-id-2 input.sk-hidden--visually {border: 0;clip: rect(1px 1px 1px 1px);clip: rect(1px, 1px, 1px, 1px);height: 1px;margin: -1px;overflow: hidden;padding: 0;position: absolute;width: 1px;}#sk-container-id-2 div.sk-estimator {font-family: monospace;background-color: #f0f8ff;border: 1px dotted black;border-radius: 0.25em;box-sizing: border-box;margin-bottom: 0.5em;}#sk-container-id-2 div.sk-estimator:hover {background-color: #d4ebff;}#sk-container-id-2 div.sk-parallel-item::after {content: \"\";width: 100%;border-bottom: 1px solid gray;flex-grow: 1;}#sk-container-id-2 div.sk-label:hover label.sk-toggleable__label {background-color: #d4ebff;}#sk-container-id-2 div.sk-serial::before {content: \"\";position: absolute;border-left: 1px solid gray;box-sizing: border-box;top: 0;bottom: 0;left: 50%;z-index: 0;}#sk-container-id-2 div.sk-serial {display: flex;flex-direction: column;align-items: center;background-color: white;padding-right: 0.2em;padding-left: 0.2em;position: relative;}#sk-container-id-2 div.sk-item {position: relative;z-index: 1;}#sk-container-id-2 div.sk-parallel {display: flex;align-items: stretch;justify-content: center;background-color: white;position: relative;}#sk-container-id-2 div.sk-item::before, #sk-container-id-2 div.sk-parallel-item::before {content: \"\";position: absolute;border-left: 1px solid gray;box-sizing: border-box;top: 0;bottom: 0;left: 50%;z-index: -1;}#sk-container-id-2 div.sk-parallel-item {display: flex;flex-direction: column;z-index: 1;position: relative;background-color: white;}#sk-container-id-2 div.sk-parallel-item:first-child::after {align-self: flex-end;width: 50%;}#sk-container-id-2 div.sk-parallel-item:last-child::after {align-self: flex-start;width: 50%;}#sk-container-id-2 div.sk-parallel-item:only-child::after {width: 0;}#sk-container-id-2 div.sk-dashed-wrapped {border: 1px dashed gray;margin: 0 0.4em 0.5em 0.4em;box-sizing: border-box;padding-bottom: 0.4em;background-color: white;}#sk-container-id-2 div.sk-label label {font-family: monospace;font-weight: bold;display: inline-block;line-height: 1.2em;}#sk-container-id-2 div.sk-label-container {text-align: center;}#sk-container-id-2 div.sk-container {/* jupyter's `normalize.less` sets `[hidden] { display: none; }` but bootstrap.min.css set `[hidden] { display: none !important; }` so we also need the `!important` here to be able to override the default hidden behavior on the sphinx rendered scikit-learn.org. See: https://github.com/scikit-learn/scikit-learn/issues/21755 */display: inline-block !important;position: relative;}#sk-container-id-2 div.sk-text-repr-fallback {display: none;}</style><div id=\"sk-container-id-2\" class=\"sk-top-container\"><div class=\"sk-text-repr-fallback\"><pre>Pipeline(steps=[(&#x27;preprocessor&#x27;,\n",
       "                 ColumnTransformer(transformers=[(&#x27;num&#x27;,\n",
       "                                                  Pipeline(steps=[(&#x27;imputer&#x27;,\n",
       "                                                                   SimpleImputer(strategy=&#x27;median&#x27;)),\n",
       "                                                                  (&#x27;scaler&#x27;,\n",
       "                                                                   StandardScaler())]),\n",
       "                                                  [&#x27;age&#x27;, &#x27;fare&#x27;, &#x27;sibsp&#x27;,\n",
       "                                                   &#x27;parch&#x27;]),\n",
       "                                                 (&#x27;cat&#x27;,\n",
       "                                                  Pipeline(steps=[(&#x27;imputer&#x27;,\n",
       "                                                                   SimpleImputer(fill_value=&#x27;missing&#x27;,\n",
       "                                                                                 strategy=&#x27;constant&#x27;)),\n",
       "                                                                  (&#x27;onehot&#x27;,\n",
       "                                                                   OneHotEncoder(handle_unknown=&#x27;ignore&#x27;))]),\n",
       "                                                  [&#x27;gender&#x27;, &#x27;class&#x27;,\n",
       "                                                   &#x27;embarked&#x27;])])),\n",
       "                (&#x27;classifier&#x27;,\n",
       "                 MLPClassifier(hidden_layer_sizes=(150, 100, 50), max_iter=500,\n",
       "                               random_state=0))])</pre><b>In a Jupyter environment, please rerun this cell to show the HTML representation or trust the notebook. <br />On GitHub, the HTML representation is unable to render, please try loading this page with nbviewer.org.</b></div><div class=\"sk-container\" hidden><div class=\"sk-item sk-dashed-wrapped\"><div class=\"sk-label-container\"><div class=\"sk-label sk-toggleable\"><input class=\"sk-toggleable__control sk-hidden--visually\" id=\"sk-estimator-id-10\" type=\"checkbox\" ><label for=\"sk-estimator-id-10\" class=\"sk-toggleable__label sk-toggleable__label-arrow\">Pipeline</label><div class=\"sk-toggleable__content\"><pre>Pipeline(steps=[(&#x27;preprocessor&#x27;,\n",
       "                 ColumnTransformer(transformers=[(&#x27;num&#x27;,\n",
       "                                                  Pipeline(steps=[(&#x27;imputer&#x27;,\n",
       "                                                                   SimpleImputer(strategy=&#x27;median&#x27;)),\n",
       "                                                                  (&#x27;scaler&#x27;,\n",
       "                                                                   StandardScaler())]),\n",
       "                                                  [&#x27;age&#x27;, &#x27;fare&#x27;, &#x27;sibsp&#x27;,\n",
       "                                                   &#x27;parch&#x27;]),\n",
       "                                                 (&#x27;cat&#x27;,\n",
       "                                                  Pipeline(steps=[(&#x27;imputer&#x27;,\n",
       "                                                                   SimpleImputer(fill_value=&#x27;missing&#x27;,\n",
       "                                                                                 strategy=&#x27;constant&#x27;)),\n",
       "                                                                  (&#x27;onehot&#x27;,\n",
       "                                                                   OneHotEncoder(handle_unknown=&#x27;ignore&#x27;))]),\n",
       "                                                  [&#x27;gender&#x27;, &#x27;class&#x27;,\n",
       "                                                   &#x27;embarked&#x27;])])),\n",
       "                (&#x27;classifier&#x27;,\n",
       "                 MLPClassifier(hidden_layer_sizes=(150, 100, 50), max_iter=500,\n",
       "                               random_state=0))])</pre></div></div></div><div class=\"sk-serial\"><div class=\"sk-item sk-dashed-wrapped\"><div class=\"sk-label-container\"><div class=\"sk-label sk-toggleable\"><input class=\"sk-toggleable__control sk-hidden--visually\" id=\"sk-estimator-id-11\" type=\"checkbox\" ><label for=\"sk-estimator-id-11\" class=\"sk-toggleable__label sk-toggleable__label-arrow\">preprocessor: ColumnTransformer</label><div class=\"sk-toggleable__content\"><pre>ColumnTransformer(transformers=[(&#x27;num&#x27;,\n",
       "                                 Pipeline(steps=[(&#x27;imputer&#x27;,\n",
       "                                                  SimpleImputer(strategy=&#x27;median&#x27;)),\n",
       "                                                 (&#x27;scaler&#x27;, StandardScaler())]),\n",
       "                                 [&#x27;age&#x27;, &#x27;fare&#x27;, &#x27;sibsp&#x27;, &#x27;parch&#x27;]),\n",
       "                                (&#x27;cat&#x27;,\n",
       "                                 Pipeline(steps=[(&#x27;imputer&#x27;,\n",
       "                                                  SimpleImputer(fill_value=&#x27;missing&#x27;,\n",
       "                                                                strategy=&#x27;constant&#x27;)),\n",
       "                                                 (&#x27;onehot&#x27;,\n",
       "                                                  OneHotEncoder(handle_unknown=&#x27;ignore&#x27;))]),\n",
       "                                 [&#x27;gender&#x27;, &#x27;class&#x27;, &#x27;embarked&#x27;])])</pre></div></div></div><div class=\"sk-parallel\"><div class=\"sk-parallel-item\"><div class=\"sk-item\"><div class=\"sk-label-container\"><div class=\"sk-label sk-toggleable\"><input class=\"sk-toggleable__control sk-hidden--visually\" id=\"sk-estimator-id-12\" type=\"checkbox\" ><label for=\"sk-estimator-id-12\" class=\"sk-toggleable__label sk-toggleable__label-arrow\">num</label><div class=\"sk-toggleable__content\"><pre>[&#x27;age&#x27;, &#x27;fare&#x27;, &#x27;sibsp&#x27;, &#x27;parch&#x27;]</pre></div></div></div><div class=\"sk-serial\"><div class=\"sk-item\"><div class=\"sk-serial\"><div class=\"sk-item\"><div class=\"sk-estimator sk-toggleable\"><input class=\"sk-toggleable__control sk-hidden--visually\" id=\"sk-estimator-id-13\" type=\"checkbox\" ><label for=\"sk-estimator-id-13\" class=\"sk-toggleable__label sk-toggleable__label-arrow\">SimpleImputer</label><div class=\"sk-toggleable__content\"><pre>SimpleImputer(strategy=&#x27;median&#x27;)</pre></div></div></div><div class=\"sk-item\"><div class=\"sk-estimator sk-toggleable\"><input class=\"sk-toggleable__control sk-hidden--visually\" id=\"sk-estimator-id-14\" type=\"checkbox\" ><label for=\"sk-estimator-id-14\" class=\"sk-toggleable__label sk-toggleable__label-arrow\">StandardScaler</label><div class=\"sk-toggleable__content\"><pre>StandardScaler()</pre></div></div></div></div></div></div></div></div><div class=\"sk-parallel-item\"><div class=\"sk-item\"><div class=\"sk-label-container\"><div class=\"sk-label sk-toggleable\"><input class=\"sk-toggleable__control sk-hidden--visually\" id=\"sk-estimator-id-15\" type=\"checkbox\" ><label for=\"sk-estimator-id-15\" class=\"sk-toggleable__label sk-toggleable__label-arrow\">cat</label><div class=\"sk-toggleable__content\"><pre>[&#x27;gender&#x27;, &#x27;class&#x27;, &#x27;embarked&#x27;]</pre></div></div></div><div class=\"sk-serial\"><div class=\"sk-item\"><div class=\"sk-serial\"><div class=\"sk-item\"><div class=\"sk-estimator sk-toggleable\"><input class=\"sk-toggleable__control sk-hidden--visually\" id=\"sk-estimator-id-16\" type=\"checkbox\" ><label for=\"sk-estimator-id-16\" class=\"sk-toggleable__label sk-toggleable__label-arrow\">SimpleImputer</label><div class=\"sk-toggleable__content\"><pre>SimpleImputer(fill_value=&#x27;missing&#x27;, strategy=&#x27;constant&#x27;)</pre></div></div></div><div class=\"sk-item\"><div class=\"sk-estimator sk-toggleable\"><input class=\"sk-toggleable__control sk-hidden--visually\" id=\"sk-estimator-id-17\" type=\"checkbox\" ><label for=\"sk-estimator-id-17\" class=\"sk-toggleable__label sk-toggleable__label-arrow\">OneHotEncoder</label><div class=\"sk-toggleable__content\"><pre>OneHotEncoder(handle_unknown=&#x27;ignore&#x27;)</pre></div></div></div></div></div></div></div></div></div></div><div class=\"sk-item\"><div class=\"sk-estimator sk-toggleable\"><input class=\"sk-toggleable__control sk-hidden--visually\" id=\"sk-estimator-id-18\" type=\"checkbox\" ><label for=\"sk-estimator-id-18\" class=\"sk-toggleable__label sk-toggleable__label-arrow\">MLPClassifier</label><div class=\"sk-toggleable__content\"><pre>MLPClassifier(hidden_layer_sizes=(150, 100, 50), max_iter=500, random_state=0)</pre></div></div></div></div></div></div></div>"
      ],
      "text/plain": [
       "Pipeline(steps=[('preprocessor',\n",
       "                 ColumnTransformer(transformers=[('num',\n",
       "                                                  Pipeline(steps=[('imputer',\n",
       "                                                                   SimpleImputer(strategy='median')),\n",
       "                                                                  ('scaler',\n",
       "                                                                   StandardScaler())]),\n",
       "                                                  ['age', 'fare', 'sibsp',\n",
       "                                                   'parch']),\n",
       "                                                 ('cat',\n",
       "                                                  Pipeline(steps=[('imputer',\n",
       "                                                                   SimpleImputer(fill_value='missing',\n",
       "                                                                                 strategy='constant')),\n",
       "                                                                  ('onehot',\n",
       "                                                                   OneHotEncoder(handle_unknown='ignore'))]),\n",
       "                                                  ['gender', 'class',\n",
       "                                                   'embarked'])])),\n",
       "                ('classifier',\n",
       "                 MLPClassifier(hidden_layer_sizes=(150, 100, 50), max_iter=500,\n",
       "                               random_state=0))])"
      ]
     },
     "execution_count": 58,
     "metadata": {},
     "output_type": "execute_result"
    }
   ],
   "source": [
    "clf.fit(X, y)"
   ]
  },
  {
   "attachments": {},
   "cell_type": "markdown",
   "metadata": {},
   "source": [
    "### (Neptune) Start a run\n",
    "\n",
    "To create a new run for tracking the metadata, you tell Neptune who you are (`api_token`) and where to send the data (`project`).\n",
    "\n",
    "You can use the default code cell below to create an anonymous run in the public project [common/dalex-support](https://app.neptune.ai/o/common/org/dalex-support). **Note**: Public projects are cleaned regularly, so anonymous runs are only stored temporarily.\n",
    "\n",
    "### Log to your own project instead\n",
    "\n",
    "Replace the code below with the following:\n",
    "\n",
    "```python\n",
    "import neptune\n",
    "from getpass import getpass\n",
    "\n",
    "run = neptune.init_run(\n",
    "    project=\"workspace-name/project-name\",  # replace with your own (see instructions below)\n",
    "    api_token=getpass(\"Enter your Neptune API token: \"),\n",
    "    tags=[\"reports\"],  # (optional) replace with your own\n",
    ")\n",
    "```\n",
    "\n",
    "To find your API token and full project name:\n",
    "\n",
    "1. [Log in to Neptune](https://app.neptune.ai/).\n",
    "1. In the bottom-left corner, expand your user menu and select **Get your API token**.\n",
    "1. The workspace name is displayed in the top-left corner of the app.\n",
    "\n",
    "    To copy the project path, in the top-right corner, open the settings menu and select **Properties**.\n",
    "\n",
    "For more help, see [Setting Neptune credentials](https://docs.neptune.ai/setup/setting_credentials) in the Neptune docs."
   ]
  },
  {
   "cell_type": "code",
   "execution_count": 79,
   "metadata": {},
   "outputs": [
    {
     "name": "stdout",
     "output_type": "stream",
     "text": [
      "https://app.neptune.ai/common/dalex-support/e/DLX-1\n"
     ]
    }
   ],
   "source": [
    "import neptune\n",
    "\n",
    "run = neptune.init_run(\n",
    "    #api_token=neptune.ANONYMOUS_API_TOKEN,\n",
    "    project=\"common/dalex-support\",\n",
    "    tags=[\"dalex reports\"] # (optional) replace with your own\n",
    ")"
   ]
  },
  {
   "attachments": {},
   "cell_type": "markdown",
   "metadata": {},
   "source": [
    "**To open the run in the Neptune web app, click the link that appeared in the cell output.**\n",
    "\n",
    "We'll use the `run` object we just created to log metadata. You'll see the metadata appear in the app."
   ]
  },
  {
   "attachments": {},
   "cell_type": "markdown",
   "metadata": {},
   "source": [
    "## Create an explainer for the model¶"
   ]
  },
  {
   "cell_type": "code",
   "execution_count": 80,
   "metadata": {},
   "outputs": [
    {
     "name": "stdout",
     "output_type": "stream",
     "text": [
      "Preparation of a new explainer is initiated\n",
      "\n",
      "  -> data              : 2207 rows 7 cols\n",
      "  -> target variable   : Parameter 'y' was a pandas.Series. Converted to a numpy.ndarray.\n",
      "  -> target variable   : 2207 values\n",
      "  -> model_class       : sklearn.neural_network._multilayer_perceptron.MLPClassifier (default)\n",
      "  -> label             : Not specified, model's class short name will be used. (default)\n",
      "  -> predict function  : <function yhat_proba_default at 0x0000017FF73B75E0> will be used (default)\n",
      "  -> predict function  : Accepts only pandas.DataFrame, numpy.ndarray causes problems.\n",
      "  -> predicted values  : min = 2.72e-06, mean = 0.337, max = 1.0\n",
      "  -> model type        : classification will be used (default)\n",
      "  -> residual function : difference between y and yhat (default)\n",
      "  -> residuals         : min = -0.921, mean = -0.0146, max = 0.975\n",
      "  -> model_info        : package sklearn\n",
      "\n",
      "A new explainer has been created!\n"
     ]
    }
   ],
   "source": [
    "exp = dx.Explainer(clf, X, y)"
   ]
  },
  {
   "attachments": {},
   "cell_type": "markdown",
   "metadata": {},
   "source": [
    "### (Neptune) Upload explainer object to Neptune\n",
    "You can use dalex's [`dumps()`](https://dalex.drwhy.ai/python/api/#dalex.Explainer.dumps) method to get a pickled representation of the explainer, and then upload it to Neptune using Neptune's [`from_content()`](https://docs.neptune.ai/api/field_types/#from_content) method."
   ]
  },
  {
   "cell_type": "code",
   "execution_count": 81,
   "metadata": {},
   "outputs": [
    {
     "name": "stdout",
     "output_type": "stream",
     "text": [
      "  -> 'residual_function' attribute is a local function; thus, has to be dropped.\n"
     ]
    }
   ],
   "source": [
    "from neptune.types import File\n",
    "\n",
    "run[\"pickled_explainer\"].upload(File.from_content(exp.dumps()))"
   ]
  },
  {
   "attachments": {},
   "cell_type": "markdown",
   "metadata": {},
   "source": [
    "## Model-level explanations"
   ]
  },
  {
   "attachments": {},
   "cell_type": "markdown",
   "metadata": {},
   "source": [
    "### model_performance\n",
    "\n",
    "This function calculates various Model Performance measures:\n",
    "\n",
    "- __Classification:__ F1, accuracy, recall, precision and AUC\n",
    "- __Regression:__ mean squared error, R squared, median absolute deviation\n"
   ]
  },
  {
   "cell_type": "code",
   "execution_count": null,
   "metadata": {},
   "outputs": [
    {
     "data": {
      "application/vnd.plotly.v1+json": {
       "config": {
        "plotlyServerURL": "https://plot.ly"
       },
       "data": [
        {
         "line": {
          "shape": "hv"
         },
         "marker": {
          "color": "#46bac2"
         },
         "name": "MLPClassifier",
         "type": "scatter",
         "x": [
          0,
          0,
          0,
          0,
          0,
          0,
          0,
          0,
          0,
          0,
          0,
          0,
          0,
          0,
          0,
          0,
          0,
          0,
          0,
          0.004679144385026738,
          0.004679144385026738,
          0.008021390374331552,
          0.011363636363636364,
          0.013368983957219251,
          0.014705882352941176,
          0.01537433155080214,
          0.016042780748663103,
          0.01804812834224599,
          0.02540106951871658,
          0.02606951871657754,
          0.03877005347593583,
          0.0481283422459893,
          0.05080213903743316,
          0.05213903743315508,
          0.052807486631016046,
          0.05548128342245989,
          0.0661764705882353,
          0.06951871657754011,
          0.07152406417112299,
          0.07419786096256685,
          0.07754010695187166,
          0.08355614973262032,
          0.08489304812834225,
          0.08622994652406417,
          0.08689839572192513,
          0.08957219251336898,
          0.12299465240641712,
          0.12366310160427807,
          0.12366310160427807,
          0.13368983957219252,
          0.15040106951871657,
          0.16644385026737968,
          0.2606951871657754,
          0.2620320855614973,
          0.3014705882352941,
          0.3141711229946524,
          0.3422459893048128,
          0.35962566844919786,
          0.40842245989304815,
          0.41711229946524064,
          0.4177807486631016,
          0.4712566844919786,
          0.48863636363636365,
          0.4913101604278075,
          0.5200534759358288,
          0.5267379679144385,
          0.5320855614973262,
          0.5614973262032086,
          0.5661764705882353,
          0.6056149732620321,
          0.6136363636363636,
          0.6377005347593583,
          0.6383689839572193,
          0.643048128342246,
          0.6597593582887701,
          0.678475935828877,
          0.6885026737967914,
          0.6918449197860963,
          0.7072192513368984,
          0.7566844919786097,
          0.7593582887700535,
          0.7733957219251337,
          0.7901069518716578,
          0.8001336898395722,
          0.8061497326203209,
          0.8068181818181818,
          0.8175133689839572,
          0.8188502673796791,
          0.8235294117647058,
          0.8382352941176471,
          0.8435828877005348,
          0.8462566844919787,
          0.8602941176470589,
          0.8696524064171123,
          0.8803475935828877,
          0.9077540106951871,
          0.9137700534759359,
          0.9438502673796791,
          0.9485294117647058,
          0.9525401069518716,
          0.9719251336898396,
          1
         ],
         "y": [
          0,
          0.0829817158931083,
          0.08016877637130802,
          0.1589310829817159,
          0.06610407876230662,
          0.05485232067510549,
          0.030942334739803096,
          0.31926863572433195,
          0.270042194092827,
          0.06751054852320675,
          0.046413502109704644,
          0.2545710267229255,
          0.18143459915611815,
          0.08860759493670886,
          0.3009845288326301,
          0.004219409282700422,
          0.08720112517580872,
          0.3361462728551336,
          0.035161744022503515,
          0.379746835443038,
          0.38115330520393814,
          0.4022503516174402,
          0.42616033755274263,
          0.44022503516174405,
          0.45147679324894513,
          0.45569620253164556,
          0.46272855133614627,
          0.4810126582278481,
          0.5161744022503516,
          0.5246132208157525,
          0.5724331926863573,
          0.5921237693389592,
          0.5991561181434599,
          0.6033755274261603,
          0.6033755274261603,
          0.6146272855133614,
          0.639943741209564,
          0.6483825597749648,
          0.6511954992967651,
          0.6540084388185654,
          0.659634317862166,
          0.6624472573839663,
          0.6652601969057665,
          0.6666666666666666,
          0.6666666666666666,
          0.6708860759493671,
          0.7158931082981715,
          0.7187060478199718,
          0.7172995780590717,
          0.729957805907173,
          0.7440225035161744,
          0.7538677918424754,
          0.819971870604782,
          0.8213783403656821,
          0.8396624472573839,
          0.8424753867791842,
          0.8509142053445851,
          0.8621659634317862,
          0.8917018284106891,
          0.8973277074542897,
          0.8973277074542897,
          0.9142053445850914,
          0.9226441631504922,
          0.9254571026722925,
          0.9338959212376934,
          0.9353023909985936,
          0.9381153305203939,
          0.9423347398030942,
          0.9423347398030942,
          0.9507735583684951,
          0.9507735583684951,
          0.9578059071729957,
          0.9592123769338959,
          0.960618846694796,
          0.9662447257383966,
          0.9704641350210971,
          0.9746835443037974,
          0.9746835443037974,
          0.9789029535864979,
          0.9873417721518988,
          0.9873417721518988,
          0.9873417721518988,
          0.9887482419127989,
          0.9943741209563994,
          0.9957805907172996,
          0.9957805907172996,
          0.9957805907172996,
          0.9957805907172996,
          0.9971870604781997,
          0.9971870604781997,
          0.9971870604781997,
          0.9971870604781997,
          0.9985935302390999,
          0.9985935302390999,
          0.9985935302390999,
          1,
          1,
          1,
          1,
          1,
          1,
          1
         ]
        }
       ],
       "layout": {
        "font": {
         "color": "#371ea3"
        },
        "margin": {
         "b": 71,
         "r": 30,
         "t": 78
        },
        "template": {
         "data": {
          "scatter": [
           {
            "type": "scatter"
           }
          ]
         }
        },
        "title": {
         "text": "Receiver Operating Characteristic",
         "x": 0.15
        },
        "xaxis": {
         "automargin": true,
         "fixedrange": true,
         "gridwidth": 2,
         "tickcolor": "white",
         "ticklen": 10,
         "ticks": "outside",
         "title": {
          "text": "False positive rate"
         },
         "type": "linear",
         "zeroline": false
        },
        "yaxis": {
         "automargin": true,
         "fixedrange": true,
         "gridwidth": 2,
         "tickcolor": "white",
         "ticklen": 10,
         "ticks": "outside",
         "title": {
          "text": "True positive rate"
         },
         "type": "linear",
         "zeroline": false
        }
       }
      }
     },
     "metadata": {},
     "output_type": "display_data"
    }
   ],
   "source": [
    "mp = exp.model_performance()\n",
    "mp.plot(geom=\"roc\")"
   ]
  },
  {
   "attachments": {},
   "cell_type": "markdown",
   "metadata": {},
   "source": [
    "#### (Neptune) Upload ROC plot to Neptune\n",
    "These plots can be uploaded to Neptune by setting `show=False`.  \n",
    "To distinguish between the plot types, you can use namespaces. For example, \"model/performace/roc\", \"model/performance/ecdf\", etc. \n",
    "You can learn more about Neptune namespaces and fields in the [documentation](https://docs.neptune.ai/about/namespaces_and_fields/)."
   ]
  },
  {
   "cell_type": "code",
   "execution_count": null,
   "metadata": {},
   "outputs": [],
   "source": [
    "run[\"model/performance/roc\"].upload(mp.plot(geom=\"roc\", show=False))"
   ]
  },
  {
   "attachments": {},
   "cell_type": "markdown",
   "metadata": {},
   "source": [
    "### model_parts\n",
    "This function calculates Variable Importance."
   ]
  },
  {
   "cell_type": "code",
   "execution_count": null,
   "metadata": {},
   "outputs": [
    {
     "data": {
      "application/vnd.plotly.v1+json": {
       "config": {
        "displaylogo": false,
        "modeBarButtonsToRemove": [
         "sendDataToCloud",
         "lasso2d",
         "autoScale2d",
         "select2d",
         "zoom2d",
         "pan2d",
         "zoomIn2d",
         "zoomOut2d",
         "resetScale2d",
         "toggleSpikelines",
         "hoverCompareCartesian",
         "hoverClosestCartesian"
        ],
        "plotlyServerURL": "https://plot.ly",
        "staticPlot": false,
        "toImageButtonOptions": {
         "height": null,
         "width": null
        }
       },
       "data": [
        {
         "base": 0.1207388553410397,
         "hoverinfo": "text",
         "hoverlabel": {
          "bgcolor": "rgba(0,0,0,0.8)"
         },
         "hovertext": [
          "Model: MLPClassifier loss after<br>variable: gender is permuted: 0.375<br>Drop-out loss change: +0.254",
          "Model: MLPClassifier loss after<br>variable: class is permuted: 0.242<br>Drop-out loss change: +0.121",
          "Model: MLPClassifier loss after<br>variable: age is permuted: 0.206<br>Drop-out loss change: +0.086",
          "Model: MLPClassifier loss after<br>variable: embarked is permuted: 0.163<br>Drop-out loss change: +0.043",
          "Model: MLPClassifier loss after<br>variable: sibsp is permuted: 0.16<br>Drop-out loss change: +0.04",
          "Model: MLPClassifier loss after<br>variable: fare is permuted: 0.15<br>Drop-out loss change: +0.029",
          "Model: MLPClassifier loss after<br>variable: parch is permuted: 0.149<br>Drop-out loss change: +0.029"
         ],
         "marker": {
          "color": "#46bac2"
         },
         "orientation": "h",
         "showlegend": false,
         "text": [
          "+0.254",
          "+0.121",
          "+0.086",
          "+0.043",
          "+0.04",
          "+0.029",
          "+0.029"
         ],
         "textposition": "outside",
         "type": "bar",
         "x": [
          0.2542362496120648,
          0.1214205678842101,
          0.08550656224063649,
          0.04255136126032211,
          0.03965334610413285,
          0.029209809276361298,
          0.028665721949463735
         ],
         "xaxis": "x",
         "y": [
          "gender",
          "class",
          "age",
          "embarked",
          "sibsp",
          "fare",
          "parch"
         ],
         "yaxis": "y"
        }
       ],
       "layout": {
        "annotations": [
         {
          "font": {
           "size": 16
          },
          "showarrow": false,
          "text": "MLPClassifier",
          "x": 0.5,
          "xanchor": "center",
          "xref": "paper",
          "y": 1,
          "yanchor": "bottom",
          "yref": "paper"
         },
         {
          "font": {
           "size": 16
          },
          "showarrow": false,
          "text": "drop-out loss",
          "x": 0.5,
          "xanchor": "center",
          "xref": "paper",
          "y": 0,
          "yanchor": "top",
          "yref": "paper",
          "yshift": -30
         }
        ],
        "font": {
         "color": "#371ea3"
        },
        "height": 323,
        "margin": {
         "b": 71,
         "r": 30,
         "t": 78
        },
        "shapes": [
         {
          "line": {
           "color": "#371ea3",
           "dash": "dot",
           "width": 1.5
          },
          "type": "line",
          "x0": 0.1207388553410397,
          "x1": 0.1207388553410397,
          "xref": "x",
          "y0": -1,
          "y1": 7,
          "yref": "y"
         }
        ],
        "template": {
         "data": {
          "scatter": [
           {
            "type": "scatter"
           }
          ]
         }
        },
        "title": {
         "text": "Variable Importance",
         "x": 0.15
        },
        "xaxis": {
         "anchor": "y",
         "automargin": true,
         "domain": [
          0,
          1
         ],
         "fixedrange": true,
         "gridwidth": 2,
         "range": [
          0.08260341789922998,
          0.4131105423949142
         ],
         "tickcolor": "white",
         "ticklen": 3,
         "ticks": "outside",
         "type": "linear",
         "zeroline": false
        },
        "yaxis": {
         "anchor": "x",
         "automargin": true,
         "autorange": "reversed",
         "domain": [
          0,
          1
         ],
         "fixedrange": true,
         "gridwidth": 2,
         "tickcolor": "white",
         "ticklen": 10,
         "ticks": "outside",
         "type": "category"
        }
       }
      }
     },
     "metadata": {},
     "output_type": "display_data"
    }
   ],
   "source": [
    "vi = exp.model_parts()\n",
    "vi.plot()"
   ]
  },
  {
   "attachments": {},
   "cell_type": "markdown",
   "metadata": {},
   "source": [
    "There is also a possibility of calculating variable importance of group of variables"
   ]
  },
  {
   "cell_type": "code",
   "execution_count": null,
   "metadata": {},
   "outputs": [
    {
     "data": {
      "application/vnd.plotly.v1+json": {
       "config": {
        "displaylogo": false,
        "modeBarButtonsToRemove": [
         "sendDataToCloud",
         "lasso2d",
         "autoScale2d",
         "select2d",
         "zoom2d",
         "pan2d",
         "zoomIn2d",
         "zoomOut2d",
         "resetScale2d",
         "toggleSpikelines",
         "hoverCompareCartesian",
         "hoverClosestCartesian"
        ],
        "plotlyServerURL": "https://plot.ly",
        "staticPlot": false,
        "toImageButtonOptions": {
         "height": null,
         "width": null
        }
       },
       "data": [
        {
         "base": 0.11685501396179594,
         "hoverinfo": "text",
         "hoverlabel": {
          "bgcolor": "rgba(0,0,0,0.8)"
         },
         "hovertext": [
          "Model: MLPClassifier loss after<br>variable: personal is permuted: 0.474<br>Drop-out loss change: +0.358",
          "Model: MLPClassifier loss after<br>variable: wealth is permuted: 0.259<br>Drop-out loss change: +0.142"
         ],
         "marker": {
          "color": "#46bac2"
         },
         "orientation": "h",
         "showlegend": false,
         "text": [
          "+0.358",
          "+0.142"
         ],
         "textposition": "outside",
         "type": "bar",
         "x": [
          0.35763673001169666,
          0.1420767896156639
         ],
         "xaxis": "x",
         "y": [
          "personal",
          "wealth"
         ],
         "yaxis": "y"
        }
       ],
       "layout": {
        "annotations": [
         {
          "font": {
           "size": 16
          },
          "showarrow": false,
          "text": "MLPClassifier",
          "x": 0.5,
          "xanchor": "center",
          "xref": "paper",
          "y": 1,
          "yanchor": "bottom",
          "yref": "paper"
         },
         {
          "font": {
           "size": 16
          },
          "showarrow": false,
          "text": "drop-out loss",
          "x": 0.5,
          "xanchor": "center",
          "xref": "paper",
          "y": 0,
          "yanchor": "top",
          "yref": "paper",
          "yshift": -30
         }
        ],
        "font": {
         "color": "#371ea3"
        },
        "height": 223,
        "margin": {
         "b": 71,
         "r": 30,
         "t": 78
        },
        "shapes": [
         {
          "line": {
           "color": "#371ea3",
           "dash": "dot",
           "width": 1.5
          },
          "type": "line",
          "x0": 0.11685501396179594,
          "x1": 0.11685501396179594,
          "xref": "x",
          "y0": -1,
          "y1": 2,
          "yref": "y"
         }
        ],
        "template": {
         "data": {
          "scatter": [
           {
            "type": "scatter"
           }
          ]
         }
        },
        "title": {
         "text": "Variable Importance",
         "x": 0.15
        },
        "xaxis": {
         "anchor": "y",
         "automargin": true,
         "domain": [
          0,
          1
         ],
         "fixedrange": true,
         "gridwidth": 2,
         "range": [
          0.06320950446004145,
          0.5281372534752471
         ],
         "tickcolor": "white",
         "ticklen": 3,
         "ticks": "outside",
         "type": "linear",
         "zeroline": false
        },
        "yaxis": {
         "anchor": "x",
         "automargin": true,
         "autorange": "reversed",
         "domain": [
          0,
          1
         ],
         "fixedrange": true,
         "gridwidth": 2,
         "tickcolor": "white",
         "ticklen": 10,
         "ticks": "outside",
         "type": "category"
        }
       }
      }
     },
     "metadata": {},
     "output_type": "display_data"
    }
   ],
   "source": [
    "vi_grouped = exp.model_parts(variable_groups={'personal': ['gender', 'age', 'sibsp', 'parch'],\n",
    "                                     'wealth': ['class', 'fare']})\n",
    "vi_grouped.plot()"
   ]
  },
  {
   "attachments": {},
   "cell_type": "markdown",
   "metadata": {},
   "source": [
    "#### (Neptune) Upload variable importance plots to Neptune"
   ]
  },
  {
   "cell_type": "code",
   "execution_count": null,
   "metadata": {},
   "outputs": [],
   "source": [
    "run[\"model/variable_importance/single\"].upload(vi.plot(show=False))\n",
    "run[\"model/variable_importance/grouped\"].upload(vi_grouped.plot(show=False))"
   ]
  },
  {
   "attachments": {},
   "cell_type": "markdown",
   "metadata": {},
   "source": [
    "### model_profile\n",
    "This function calculates explanations that explore model response as a function of selected variables.  \n",
    "The explanations can be calulated as Partial Dependence Profile or Accumulated Local Dependence Profile."
   ]
  },
  {
   "cell_type": "code",
   "execution_count": null,
   "metadata": {},
   "outputs": [
    {
     "name": "stderr",
     "output_type": "stream",
     "text": [
      "Calculating ceteris paribus: 100%|██████████| 7/7 [00:00<00:00, 18.89it/s]\n",
      "Calculating ceteris paribus: 100%|██████████| 7/7 [00:00<00:00, 22.54it/s]\n",
      "Calculating accumulated dependency: 100%|██████████| 4/4 [00:00<00:00, 18.01it/s]\n"
     ]
    },
    {
     "data": {
      "application/vnd.plotly.v1+json": {
       "config": {
        "displaylogo": false,
        "modeBarButtonsToRemove": [
         "sendDataToCloud",
         "lasso2d",
         "autoScale2d",
         "select2d",
         "zoom2d",
         "pan2d",
         "zoomIn2d",
         "zoomOut2d",
         "resetScale2d",
         "toggleSpikelines",
         "hoverCompareCartesian",
         "hoverClosestCartesian"
        ],
        "plotlyServerURL": "https://plot.ly",
        "staticPlot": false,
        "toImageButtonOptions": {
         "height": null,
         "width": null
        }
       },
       "data": [
        {
         "customdata": [
          [
           0.3229613000492165,
           "pdp",
           "age"
          ],
          [
           0.3229613000492165,
           "pdp",
           "age"
          ],
          [
           0.3229613000492165,
           "pdp",
           "age"
          ],
          [
           0.3229613000492165,
           "pdp",
           "age"
          ],
          [
           0.3229613000492165,
           "pdp",
           "age"
          ],
          [
           0.3229613000492165,
           "pdp",
           "age"
          ],
          [
           0.3229613000492165,
           "pdp",
           "age"
          ],
          [
           0.3229613000492165,
           "pdp",
           "age"
          ],
          [
           0.3229613000492165,
           "pdp",
           "age"
          ],
          [
           0.3229613000492165,
           "pdp",
           "age"
          ],
          [
           0.3229613000492165,
           "pdp",
           "age"
          ],
          [
           0.3229613000492165,
           "pdp",
           "age"
          ],
          [
           0.3229613000492165,
           "pdp",
           "age"
          ],
          [
           0.3229613000492165,
           "pdp",
           "age"
          ],
          [
           0.3229613000492165,
           "pdp",
           "age"
          ],
          [
           0.3229613000492165,
           "pdp",
           "age"
          ],
          [
           0.3229613000492165,
           "pdp",
           "age"
          ],
          [
           0.3229613000492165,
           "pdp",
           "age"
          ],
          [
           0.3229613000492165,
           "pdp",
           "age"
          ],
          [
           0.3229613000492165,
           "pdp",
           "age"
          ],
          [
           0.3229613000492165,
           "pdp",
           "age"
          ],
          [
           0.3229613000492165,
           "pdp",
           "age"
          ],
          [
           0.3229613000492165,
           "pdp",
           "age"
          ],
          [
           0.3229613000492165,
           "pdp",
           "age"
          ],
          [
           0.3229613000492165,
           "pdp",
           "age"
          ],
          [
           0.3229613000492165,
           "pdp",
           "age"
          ],
          [
           0.3229613000492165,
           "pdp",
           "age"
          ],
          [
           0.3229613000492165,
           "pdp",
           "age"
          ],
          [
           0.3229613000492165,
           "pdp",
           "age"
          ],
          [
           0.3229613000492165,
           "pdp",
           "age"
          ],
          [
           0.3229613000492165,
           "pdp",
           "age"
          ],
          [
           0.3229613000492165,
           "pdp",
           "age"
          ],
          [
           0.3229613000492165,
           "pdp",
           "age"
          ],
          [
           0.3229613000492165,
           "pdp",
           "age"
          ],
          [
           0.3229613000492165,
           "pdp",
           "age"
          ],
          [
           0.3229613000492165,
           "pdp",
           "age"
          ],
          [
           0.3229613000492165,
           "pdp",
           "age"
          ],
          [
           0.3229613000492165,
           "pdp",
           "age"
          ],
          [
           0.3229613000492165,
           "pdp",
           "age"
          ],
          [
           0.3229613000492165,
           "pdp",
           "age"
          ],
          [
           0.3229613000492165,
           "pdp",
           "age"
          ],
          [
           0.3229613000492165,
           "pdp",
           "age"
          ],
          [
           0.3229613000492165,
           "pdp",
           "age"
          ],
          [
           0.3229613000492165,
           "pdp",
           "age"
          ],
          [
           0.3229613000492165,
           "pdp",
           "age"
          ],
          [
           0.3229613000492165,
           "pdp",
           "age"
          ],
          [
           0.3229613000492165,
           "pdp",
           "age"
          ],
          [
           0.3229613000492165,
           "pdp",
           "age"
          ],
          [
           0.3229613000492165,
           "pdp",
           "age"
          ],
          [
           0.3229613000492165,
           "pdp",
           "age"
          ],
          [
           0.3229613000492165,
           "pdp",
           "age"
          ],
          [
           0.3229613000492165,
           "pdp",
           "age"
          ],
          [
           0.3229613000492165,
           "pdp",
           "age"
          ],
          [
           0.3229613000492165,
           "pdp",
           "age"
          ],
          [
           0.3229613000492165,
           "pdp",
           "age"
          ],
          [
           0.3229613000492165,
           "pdp",
           "age"
          ],
          [
           0.3229613000492165,
           "pdp",
           "age"
          ],
          [
           0.3229613000492165,
           "pdp",
           "age"
          ],
          [
           0.3229613000492165,
           "pdp",
           "age"
          ],
          [
           0.3229613000492165,
           "pdp",
           "age"
          ],
          [
           0.3229613000492165,
           "pdp",
           "age"
          ],
          [
           0.3229613000492165,
           "pdp",
           "age"
          ],
          [
           0.3229613000492165,
           "pdp",
           "age"
          ],
          [
           0.3229613000492165,
           "pdp",
           "age"
          ],
          [
           0.3229613000492165,
           "pdp",
           "age"
          ],
          [
           0.3229613000492165,
           "pdp",
           "age"
          ],
          [
           0.3229613000492165,
           "pdp",
           "age"
          ],
          [
           0.3229613000492165,
           "pdp",
           "age"
          ],
          [
           0.3229613000492165,
           "pdp",
           "age"
          ],
          [
           0.3229613000492165,
           "pdp",
           "age"
          ],
          [
           0.3229613000492165,
           "pdp",
           "age"
          ],
          [
           0.3229613000492165,
           "pdp",
           "age"
          ],
          [
           0.3229613000492165,
           "pdp",
           "age"
          ],
          [
           0.3229613000492165,
           "pdp",
           "age"
          ],
          [
           0.3229613000492165,
           "pdp",
           "age"
          ],
          [
           0.3229613000492165,
           "pdp",
           "age"
          ],
          [
           0.3229613000492165,
           "pdp",
           "age"
          ],
          [
           0.3229613000492165,
           "pdp",
           "age"
          ],
          [
           0.3229613000492165,
           "pdp",
           "age"
          ],
          [
           0.3229613000492165,
           "pdp",
           "age"
          ],
          [
           0.3229613000492165,
           "pdp",
           "age"
          ],
          [
           0.3229613000492165,
           "pdp",
           "age"
          ],
          [
           0.3229613000492165,
           "pdp",
           "age"
          ],
          [
           0.3229613000492165,
           "pdp",
           "age"
          ],
          [
           0.3229613000492165,
           "pdp",
           "age"
          ],
          [
           0.3229613000492165,
           "pdp",
           "age"
          ],
          [
           0.3229613000492165,
           "pdp",
           "age"
          ],
          [
           0.3229613000492165,
           "pdp",
           "age"
          ],
          [
           0.3229613000492165,
           "pdp",
           "age"
          ],
          [
           0.3229613000492165,
           "pdp",
           "age"
          ],
          [
           0.3229613000492165,
           "pdp",
           "age"
          ],
          [
           0.3229613000492165,
           "pdp",
           "age"
          ],
          [
           0.3229613000492165,
           "pdp",
           "age"
          ],
          [
           0.3229613000492165,
           "pdp",
           "age"
          ],
          [
           0.3229613000492165,
           "pdp",
           "age"
          ],
          [
           0.3229613000492165,
           "pdp",
           "age"
          ],
          [
           0.3229613000492165,
           "pdp",
           "age"
          ],
          [
           0.3229613000492165,
           "pdp",
           "age"
          ],
          [
           0.3229613000492165,
           "pdp",
           "age"
          ],
          [
           0.3229613000492165,
           "pdp",
           "age"
          ],
          [
           0.3229613000492165,
           "pdp",
           "age"
          ]
         ],
         "hovertemplate": "<b>%{hovertext}</b><br><br>prediction=%{y:.3f}<br>mean_prediction=%{customdata[0]:.3f}<extra></extra>",
         "hovertext": [
          "pdp",
          "pdp",
          "pdp",
          "pdp",
          "pdp",
          "pdp",
          "pdp",
          "pdp",
          "pdp",
          "pdp",
          "pdp",
          "pdp",
          "pdp",
          "pdp",
          "pdp",
          "pdp",
          "pdp",
          "pdp",
          "pdp",
          "pdp",
          "pdp",
          "pdp",
          "pdp",
          "pdp",
          "pdp",
          "pdp",
          "pdp",
          "pdp",
          "pdp",
          "pdp",
          "pdp",
          "pdp",
          "pdp",
          "pdp",
          "pdp",
          "pdp",
          "pdp",
          "pdp",
          "pdp",
          "pdp",
          "pdp",
          "pdp",
          "pdp",
          "pdp",
          "pdp",
          "pdp",
          "pdp",
          "pdp",
          "pdp",
          "pdp",
          "pdp",
          "pdp",
          "pdp",
          "pdp",
          "pdp",
          "pdp",
          "pdp",
          "pdp",
          "pdp",
          "pdp",
          "pdp",
          "pdp",
          "pdp",
          "pdp",
          "pdp",
          "pdp",
          "pdp",
          "pdp",
          "pdp",
          "pdp",
          "pdp",
          "pdp",
          "pdp",
          "pdp",
          "pdp",
          "pdp",
          "pdp",
          "pdp",
          "pdp",
          "pdp",
          "pdp",
          "pdp",
          "pdp",
          "pdp",
          "pdp",
          "pdp",
          "pdp",
          "pdp",
          "pdp",
          "pdp",
          "pdp",
          "pdp",
          "pdp",
          "pdp",
          "pdp",
          "pdp",
          "pdp",
          "pdp",
          "pdp",
          "pdp",
          "pdp"
         ],
         "legendgroup": "pdp",
         "line": {
          "color": "#8bdcbe",
          "dash": "solid",
          "width": 2
         },
         "marker": {
          "symbol": "circle"
         },
         "mode": "lines",
         "name": "pdp",
         "opacity": 1,
         "orientation": "v",
         "showlegend": true,
         "type": "scatter",
         "x": [
          0.1666666667,
          0.905000000033,
          1.643333333366,
          2.3816666666989996,
          3.120000000032,
          3.858333333365,
          4.596666666698,
          5.335000000031,
          6.073333333364,
          6.8116666666970005,
          7.550000000030001,
          8.288333333363,
          9.026666666695998,
          9.765000000029,
          10.503333333361999,
          11.241666666695,
          11.980000000028,
          12.718333333360999,
          13.456666666694,
          14.195000000027,
          14.93333333336,
          15.671666666693,
          16.410000000026,
          17.148333333359,
          17.886666666691998,
          18.625000000025,
          19.363333333358,
          20.101666666691,
          20.840000000024,
          21.578333333356998,
          22.31666666669,
          23.055000000023,
          23.793333333356,
          24.531666666689,
          25.270000000021998,
          26.008333333355,
          26.746666666688,
          27.485000000021,
          28.223333333354,
          28.961666666686998,
          29.70000000002,
          30.438333333353,
          31.176666666686,
          31.915000000019,
          32.653333333352,
          33.391666666685005,
          34.130000000018,
          34.868333333351,
          35.606666666684,
          36.345000000017,
          37.083333333350005,
          37.821666666683,
          38.560000000016004,
          39.298333333349,
          40.036666666682,
          40.775000000015005,
          41.513333333348,
          42.251666666681004,
          42.990000000014,
          43.728333333347,
          44.466666666680005,
          45.205000000013,
          45.943333333346004,
          46.681666666679,
          47.420000000012,
          48.158333333345006,
          48.896666666678,
          49.635000000011004,
          50.373333333344,
          51.111666666677,
          51.850000000010006,
          52.588333333343,
          53.326666666676005,
          54.065000000009,
          54.803333333342,
          55.541666666675006,
          56.280000000008,
          57.018333333341005,
          57.756666666674,
          58.495000000007,
          59.233333333340006,
          59.971666666673,
          60.710000000006005,
          61.448333333339,
          62.186666666672004,
          62.925000000005,
          63.663333333338,
          64.40166666667099,
          65.140000000004,
          65.878333333337,
          66.61666666667,
          67.355000000003,
          68.09333333333599,
          68.831666666669,
          69.570000000002,
          70.308333333335,
          71.04666666666799,
          71.78500000000099,
          72.523333333334,
          73.261666666667,
          74
         ],
         "xaxis": "x3",
         "y": [
          0.8169421849826491,
          0.7951911509799228,
          0.7717609784148122,
          0.7469413120830155,
          0.7215564731067513,
          0.6952092012005993,
          0.6684715719372977,
          0.6415865320716178,
          0.6144064235800399,
          0.5876458055915563,
          0.5609876118748792,
          0.5342029841458217,
          0.510742395160703,
          0.49333585071527686,
          0.47647459773992873,
          0.45966457352064255,
          0.4431568481283442,
          0.42621030754141126,
          0.4110488577373371,
          0.3997698872419065,
          0.39046743521628835,
          0.38236812982253665,
          0.37515104022414847,
          0.3685673314741359,
          0.3643720744811375,
          0.36156455612049965,
          0.35971414900317983,
          0.3582258158747347,
          0.3558928560530087,
          0.35347247737022564,
          0.3507557893616682,
          0.3479367450833574,
          0.3452812129641363,
          0.3431854933986548,
          0.34130571728880993,
          0.3395467122768013,
          0.338684392568265,
          0.33780379003322325,
          0.33702249911346127,
          0.33556844210443265,
          0.3324240516069449,
          0.32789858277276723,
          0.3227593424807434,
          0.3176216385833624,
          0.3124697874052919,
          0.30734152940363907,
          0.3027192914234939,
          0.2981518576185046,
          0.29381440793751246,
          0.2899632298664296,
          0.2870861558228586,
          0.2845706466466854,
          0.28222037573179004,
          0.27980790826045016,
          0.2772002518263452,
          0.2746425583906543,
          0.27196707607574244,
          0.26935048313573295,
          0.2670407323838722,
          0.26481397907576304,
          0.26272903221072197,
          0.26068669685977947,
          0.2586810787141406,
          0.25695953843491554,
          0.2556614991428501,
          0.25456478398129595,
          0.2535067575607737,
          0.25276309039612666,
          0.2519463918461346,
          0.2511243851784856,
          0.2503150542003949,
          0.24885490177960132,
          0.24630543456902884,
          0.24250512385075826,
          0.23771510220006964,
          0.23290353646803533,
          0.22812971624707132,
          0.22377284933345631,
          0.21968948180152215,
          0.21600719827149537,
          0.21255035300649552,
          0.20899457419928608,
          0.20557289647835067,
          0.2016061747252734,
          0.1975773354476698,
          0.1931603944249547,
          0.18817242766990128,
          0.18287197057226404,
          0.17758857790828386,
          0.17236513521514907,
          0.16669474629793585,
          0.16076828447312008,
          0.15513817318181625,
          0.14982848549613872,
          0.14479331284844452,
          0.13993860214999732,
          0.13534193612761097,
          0.13087793455863717,
          0.1263892630423947,
          0.12200767538836653,
          0.11780351337032298
         ],
         "yaxis": "y3"
        },
        {
         "customdata": [
          [
           0.3229613000492165,
           "pdp",
           "fare"
          ],
          [
           0.3229613000492165,
           "pdp",
           "fare"
          ],
          [
           0.3229613000492165,
           "pdp",
           "fare"
          ],
          [
           0.3229613000492165,
           "pdp",
           "fare"
          ],
          [
           0.3229613000492165,
           "pdp",
           "fare"
          ],
          [
           0.3229613000492165,
           "pdp",
           "fare"
          ],
          [
           0.3229613000492165,
           "pdp",
           "fare"
          ],
          [
           0.3229613000492165,
           "pdp",
           "fare"
          ],
          [
           0.3229613000492165,
           "pdp",
           "fare"
          ],
          [
           0.3229613000492165,
           "pdp",
           "fare"
          ],
          [
           0.3229613000492165,
           "pdp",
           "fare"
          ],
          [
           0.3229613000492165,
           "pdp",
           "fare"
          ],
          [
           0.3229613000492165,
           "pdp",
           "fare"
          ],
          [
           0.3229613000492165,
           "pdp",
           "fare"
          ],
          [
           0.3229613000492165,
           "pdp",
           "fare"
          ],
          [
           0.3229613000492165,
           "pdp",
           "fare"
          ],
          [
           0.3229613000492165,
           "pdp",
           "fare"
          ],
          [
           0.3229613000492165,
           "pdp",
           "fare"
          ],
          [
           0.3229613000492165,
           "pdp",
           "fare"
          ],
          [
           0.3229613000492165,
           "pdp",
           "fare"
          ],
          [
           0.3229613000492165,
           "pdp",
           "fare"
          ],
          [
           0.3229613000492165,
           "pdp",
           "fare"
          ],
          [
           0.3229613000492165,
           "pdp",
           "fare"
          ],
          [
           0.3229613000492165,
           "pdp",
           "fare"
          ],
          [
           0.3229613000492165,
           "pdp",
           "fare"
          ],
          [
           0.3229613000492165,
           "pdp",
           "fare"
          ],
          [
           0.3229613000492165,
           "pdp",
           "fare"
          ],
          [
           0.3229613000492165,
           "pdp",
           "fare"
          ],
          [
           0.3229613000492165,
           "pdp",
           "fare"
          ],
          [
           0.3229613000492165,
           "pdp",
           "fare"
          ],
          [
           0.3229613000492165,
           "pdp",
           "fare"
          ],
          [
           0.3229613000492165,
           "pdp",
           "fare"
          ],
          [
           0.3229613000492165,
           "pdp",
           "fare"
          ],
          [
           0.3229613000492165,
           "pdp",
           "fare"
          ],
          [
           0.3229613000492165,
           "pdp",
           "fare"
          ],
          [
           0.3229613000492165,
           "pdp",
           "fare"
          ],
          [
           0.3229613000492165,
           "pdp",
           "fare"
          ],
          [
           0.3229613000492165,
           "pdp",
           "fare"
          ],
          [
           0.3229613000492165,
           "pdp",
           "fare"
          ],
          [
           0.3229613000492165,
           "pdp",
           "fare"
          ],
          [
           0.3229613000492165,
           "pdp",
           "fare"
          ],
          [
           0.3229613000492165,
           "pdp",
           "fare"
          ],
          [
           0.3229613000492165,
           "pdp",
           "fare"
          ],
          [
           0.3229613000492165,
           "pdp",
           "fare"
          ],
          [
           0.3229613000492165,
           "pdp",
           "fare"
          ],
          [
           0.3229613000492165,
           "pdp",
           "fare"
          ],
          [
           0.3229613000492165,
           "pdp",
           "fare"
          ],
          [
           0.3229613000492165,
           "pdp",
           "fare"
          ],
          [
           0.3229613000492165,
           "pdp",
           "fare"
          ],
          [
           0.3229613000492165,
           "pdp",
           "fare"
          ],
          [
           0.3229613000492165,
           "pdp",
           "fare"
          ],
          [
           0.3229613000492165,
           "pdp",
           "fare"
          ],
          [
           0.3229613000492165,
           "pdp",
           "fare"
          ],
          [
           0.3229613000492165,
           "pdp",
           "fare"
          ],
          [
           0.3229613000492165,
           "pdp",
           "fare"
          ],
          [
           0.3229613000492165,
           "pdp",
           "fare"
          ],
          [
           0.3229613000492165,
           "pdp",
           "fare"
          ],
          [
           0.3229613000492165,
           "pdp",
           "fare"
          ],
          [
           0.3229613000492165,
           "pdp",
           "fare"
          ],
          [
           0.3229613000492165,
           "pdp",
           "fare"
          ],
          [
           0.3229613000492165,
           "pdp",
           "fare"
          ],
          [
           0.3229613000492165,
           "pdp",
           "fare"
          ],
          [
           0.3229613000492165,
           "pdp",
           "fare"
          ],
          [
           0.3229613000492165,
           "pdp",
           "fare"
          ],
          [
           0.3229613000492165,
           "pdp",
           "fare"
          ],
          [
           0.3229613000492165,
           "pdp",
           "fare"
          ],
          [
           0.3229613000492165,
           "pdp",
           "fare"
          ],
          [
           0.3229613000492165,
           "pdp",
           "fare"
          ],
          [
           0.3229613000492165,
           "pdp",
           "fare"
          ],
          [
           0.3229613000492165,
           "pdp",
           "fare"
          ],
          [
           0.3229613000492165,
           "pdp",
           "fare"
          ],
          [
           0.3229613000492165,
           "pdp",
           "fare"
          ],
          [
           0.3229613000492165,
           "pdp",
           "fare"
          ],
          [
           0.3229613000492165,
           "pdp",
           "fare"
          ],
          [
           0.3229613000492165,
           "pdp",
           "fare"
          ],
          [
           0.3229613000492165,
           "pdp",
           "fare"
          ],
          [
           0.3229613000492165,
           "pdp",
           "fare"
          ],
          [
           0.3229613000492165,
           "pdp",
           "fare"
          ],
          [
           0.3229613000492165,
           "pdp",
           "fare"
          ],
          [
           0.3229613000492165,
           "pdp",
           "fare"
          ],
          [
           0.3229613000492165,
           "pdp",
           "fare"
          ],
          [
           0.3229613000492165,
           "pdp",
           "fare"
          ],
          [
           0.3229613000492165,
           "pdp",
           "fare"
          ],
          [
           0.3229613000492165,
           "pdp",
           "fare"
          ],
          [
           0.3229613000492165,
           "pdp",
           "fare"
          ],
          [
           0.3229613000492165,
           "pdp",
           "fare"
          ],
          [
           0.3229613000492165,
           "pdp",
           "fare"
          ],
          [
           0.3229613000492165,
           "pdp",
           "fare"
          ],
          [
           0.3229613000492165,
           "pdp",
           "fare"
          ],
          [
           0.3229613000492165,
           "pdp",
           "fare"
          ],
          [
           0.3229613000492165,
           "pdp",
           "fare"
          ],
          [
           0.3229613000492165,
           "pdp",
           "fare"
          ],
          [
           0.3229613000492165,
           "pdp",
           "fare"
          ],
          [
           0.3229613000492165,
           "pdp",
           "fare"
          ],
          [
           0.3229613000492165,
           "pdp",
           "fare"
          ],
          [
           0.3229613000492165,
           "pdp",
           "fare"
          ],
          [
           0.3229613000492165,
           "pdp",
           "fare"
          ],
          [
           0.3229613000492165,
           "pdp",
           "fare"
          ],
          [
           0.3229613000492165,
           "pdp",
           "fare"
          ],
          [
           0.3229613000492165,
           "pdp",
           "fare"
          ],
          [
           0.3229613000492165,
           "pdp",
           "fare"
          ]
         ],
         "hovertemplate": "<b>%{hovertext}</b><br><br>prediction=%{y:.3f}<br>mean_prediction=%{customdata[0]:.3f}<extra></extra>",
         "hovertext": [
          "pdp",
          "pdp",
          "pdp",
          "pdp",
          "pdp",
          "pdp",
          "pdp",
          "pdp",
          "pdp",
          "pdp",
          "pdp",
          "pdp",
          "pdp",
          "pdp",
          "pdp",
          "pdp",
          "pdp",
          "pdp",
          "pdp",
          "pdp",
          "pdp",
          "pdp",
          "pdp",
          "pdp",
          "pdp",
          "pdp",
          "pdp",
          "pdp",
          "pdp",
          "pdp",
          "pdp",
          "pdp",
          "pdp",
          "pdp",
          "pdp",
          "pdp",
          "pdp",
          "pdp",
          "pdp",
          "pdp",
          "pdp",
          "pdp",
          "pdp",
          "pdp",
          "pdp",
          "pdp",
          "pdp",
          "pdp",
          "pdp",
          "pdp",
          "pdp",
          "pdp",
          "pdp",
          "pdp",
          "pdp",
          "pdp",
          "pdp",
          "pdp",
          "pdp",
          "pdp",
          "pdp",
          "pdp",
          "pdp",
          "pdp",
          "pdp",
          "pdp",
          "pdp",
          "pdp",
          "pdp",
          "pdp",
          "pdp",
          "pdp",
          "pdp",
          "pdp",
          "pdp",
          "pdp",
          "pdp",
          "pdp",
          "pdp",
          "pdp",
          "pdp",
          "pdp",
          "pdp",
          "pdp",
          "pdp",
          "pdp",
          "pdp",
          "pdp",
          "pdp",
          "pdp",
          "pdp",
          "pdp",
          "pdp",
          "pdp",
          "pdp",
          "pdp",
          "pdp",
          "pdp",
          "pdp",
          "pdp",
          "pdp"
         ],
         "legendgroup": "pdp",
         "line": {
          "color": "#8bdcbe",
          "dash": "solid",
          "width": 2
         },
         "marker": {
          "symbol": "circle"
         },
         "mode": "lines",
         "name": "pdp",
         "opacity": 1,
         "orientation": "v",
         "showlegend": false,
         "type": "scatter",
         "x": [
          0,
          5.120607,
          10.241214,
          15.361820999999999,
          20.482428,
          25.603035,
          30.723641999999998,
          35.844249,
          40.964856,
          46.085463,
          51.20607,
          56.326677,
          61.447283999999996,
          66.567891,
          71.688498,
          76.80910499999999,
          81.929712,
          87.050319,
          92.170926,
          97.29153299999999,
          102.41214,
          107.532747,
          112.653354,
          117.77396099999999,
          122.89456799999999,
          128.015175,
          133.135782,
          138.25638899999998,
          143.376996,
          148.497603,
          153.61820999999998,
          158.73881699999998,
          163.859424,
          168.980031,
          174.100638,
          179.22124499999998,
          184.341852,
          189.462459,
          194.58306599999997,
          199.70367299999998,
          204.82428,
          209.944887,
          215.065494,
          220.18610099999998,
          225.306708,
          230.427315,
          235.54792199999997,
          240.66852899999998,
          245.78913599999998,
          250.909743,
          256.03035,
          261.150957,
          266.271564,
          271.39217099999996,
          276.51277799999997,
          281.633385,
          286.753992,
          291.874599,
          296.995206,
          302.115813,
          307.23641999999995,
          312.35702699999996,
          317.47763399999997,
          322.598241,
          327.718848,
          332.839455,
          337.960062,
          343.080669,
          348.201276,
          353.32188299999996,
          358.44248999999996,
          363.56309699999997,
          368.683704,
          373.804311,
          378.924918,
          384.045525,
          389.16613199999995,
          394.28673899999995,
          399.40734599999996,
          404.52795299999997,
          409.64856,
          414.769167,
          419.889774,
          425.010381,
          430.130988,
          435.25159499999995,
          440.37220199999996,
          445.49280899999997,
          450.613416,
          455.734023,
          460.85463,
          465.975237,
          471.09584399999994,
          476.21645099999995,
          481.33705799999996,
          486.45766499999996,
          491.57827199999997,
          496.698879,
          501.819486,
          506.940093,
          512.0607
         ],
         "xaxis": "x4",
         "y": [
          0.33505111698437756,
          0.33654423620032586,
          0.33791152430798316,
          0.3395735026145671,
          0.34140493524886967,
          0.3430126932952346,
          0.34319425943578913,
          0.34129729645528306,
          0.3388701807055516,
          0.3358452366557381,
          0.3317894838910493,
          0.3274876130135245,
          0.3231654788427547,
          0.31876948577698927,
          0.3144520752924464,
          0.31031447148408003,
          0.30634206084070964,
          0.30261811484618295,
          0.2994240716325714,
          0.29638356750302053,
          0.2934251094193828,
          0.2906984207374624,
          0.28804245535435574,
          0.28549138433409565,
          0.2832869230906477,
          0.28132589657041573,
          0.27967523749330586,
          0.278070589416315,
          0.2770005443549122,
          0.27665018813212916,
          0.2768806194828129,
          0.277806701805074,
          0.27919660884647596,
          0.2810989859886903,
          0.2834839858196734,
          0.28648591858311,
          0.2902719663246399,
          0.2947041196827257,
          0.2997328163303818,
          0.3055224917811254,
          0.31202040507685563,
          0.3192639022608868,
          0.32744734465623776,
          0.33657193424519155,
          0.3468696573135935,
          0.35843207200079596,
          0.3715825654868807,
          0.3862803964938894,
          0.402099898359811,
          0.41922415723702033,
          0.4372292790722534,
          0.45624272311273645,
          0.4758426623273965,
          0.49581055119688683,
          0.5159553457298147,
          0.5359113712176984,
          0.555502828626861,
          0.5746598539545906,
          0.5935197839453817,
          0.6119057292007674,
          0.6299073692975454,
          0.6475029023852489,
          0.6645651078769587,
          0.6811649693912998,
          0.697197852244287,
          0.7126761435048689,
          0.7275847036981504,
          0.7419189642228716,
          0.7556257717935875,
          0.7686978469845452,
          0.7812172757859716,
          0.7931505992615401,
          0.8044030453931322,
          0.8150175900962747,
          0.8250637262381162,
          0.8345173073913231,
          0.8433861457251737,
          0.8517034164299278,
          0.8594925112090966,
          0.8667893280000891,
          0.8736082186787147,
          0.879955112107499,
          0.8858324411751424,
          0.8913043299159406,
          0.8964162373360399,
          0.9011731893305133,
          0.9056327414436702,
          0.9098047857335761,
          0.9137338020483541,
          0.9174516404152572,
          0.9209752512836985,
          0.924308103277746,
          0.9274539754790557,
          0.930439047386331,
          0.9332705524032568,
          0.9359614268318425,
          0.9385277812044424,
          0.9409728358343673,
          0.9432867059929034,
          0.9454875422845443,
          0.9475796501486745
         ],
         "yaxis": "y4"
        },
        {
         "customdata": [
          [
           0.3229613000492165,
           "pdp",
           "sibsp"
          ],
          [
           0.3229613000492165,
           "pdp",
           "sibsp"
          ],
          [
           0.3229613000492165,
           "pdp",
           "sibsp"
          ],
          [
           0.3229613000492165,
           "pdp",
           "sibsp"
          ],
          [
           0.3229613000492165,
           "pdp",
           "sibsp"
          ],
          [
           0.3229613000492165,
           "pdp",
           "sibsp"
          ],
          [
           0.3229613000492165,
           "pdp",
           "sibsp"
          ],
          [
           0.3229613000492165,
           "pdp",
           "sibsp"
          ],
          [
           0.3229613000492165,
           "pdp",
           "sibsp"
          ],
          [
           0.3229613000492165,
           "pdp",
           "sibsp"
          ],
          [
           0.3229613000492165,
           "pdp",
           "sibsp"
          ],
          [
           0.3229613000492165,
           "pdp",
           "sibsp"
          ],
          [
           0.3229613000492165,
           "pdp",
           "sibsp"
          ],
          [
           0.3229613000492165,
           "pdp",
           "sibsp"
          ],
          [
           0.3229613000492165,
           "pdp",
           "sibsp"
          ],
          [
           0.3229613000492165,
           "pdp",
           "sibsp"
          ],
          [
           0.3229613000492165,
           "pdp",
           "sibsp"
          ],
          [
           0.3229613000492165,
           "pdp",
           "sibsp"
          ],
          [
           0.3229613000492165,
           "pdp",
           "sibsp"
          ],
          [
           0.3229613000492165,
           "pdp",
           "sibsp"
          ],
          [
           0.3229613000492165,
           "pdp",
           "sibsp"
          ],
          [
           0.3229613000492165,
           "pdp",
           "sibsp"
          ],
          [
           0.3229613000492165,
           "pdp",
           "sibsp"
          ],
          [
           0.3229613000492165,
           "pdp",
           "sibsp"
          ],
          [
           0.3229613000492165,
           "pdp",
           "sibsp"
          ],
          [
           0.3229613000492165,
           "pdp",
           "sibsp"
          ],
          [
           0.3229613000492165,
           "pdp",
           "sibsp"
          ],
          [
           0.3229613000492165,
           "pdp",
           "sibsp"
          ],
          [
           0.3229613000492165,
           "pdp",
           "sibsp"
          ],
          [
           0.3229613000492165,
           "pdp",
           "sibsp"
          ],
          [
           0.3229613000492165,
           "pdp",
           "sibsp"
          ],
          [
           0.3229613000492165,
           "pdp",
           "sibsp"
          ],
          [
           0.3229613000492165,
           "pdp",
           "sibsp"
          ],
          [
           0.3229613000492165,
           "pdp",
           "sibsp"
          ],
          [
           0.3229613000492165,
           "pdp",
           "sibsp"
          ],
          [
           0.3229613000492165,
           "pdp",
           "sibsp"
          ],
          [
           0.3229613000492165,
           "pdp",
           "sibsp"
          ],
          [
           0.3229613000492165,
           "pdp",
           "sibsp"
          ],
          [
           0.3229613000492165,
           "pdp",
           "sibsp"
          ],
          [
           0.3229613000492165,
           "pdp",
           "sibsp"
          ],
          [
           0.3229613000492165,
           "pdp",
           "sibsp"
          ],
          [
           0.3229613000492165,
           "pdp",
           "sibsp"
          ],
          [
           0.3229613000492165,
           "pdp",
           "sibsp"
          ],
          [
           0.3229613000492165,
           "pdp",
           "sibsp"
          ],
          [
           0.3229613000492165,
           "pdp",
           "sibsp"
          ],
          [
           0.3229613000492165,
           "pdp",
           "sibsp"
          ],
          [
           0.3229613000492165,
           "pdp",
           "sibsp"
          ],
          [
           0.3229613000492165,
           "pdp",
           "sibsp"
          ],
          [
           0.3229613000492165,
           "pdp",
           "sibsp"
          ],
          [
           0.3229613000492165,
           "pdp",
           "sibsp"
          ],
          [
           0.3229613000492165,
           "pdp",
           "sibsp"
          ],
          [
           0.3229613000492165,
           "pdp",
           "sibsp"
          ],
          [
           0.3229613000492165,
           "pdp",
           "sibsp"
          ],
          [
           0.3229613000492165,
           "pdp",
           "sibsp"
          ],
          [
           0.3229613000492165,
           "pdp",
           "sibsp"
          ],
          [
           0.3229613000492165,
           "pdp",
           "sibsp"
          ],
          [
           0.3229613000492165,
           "pdp",
           "sibsp"
          ],
          [
           0.3229613000492165,
           "pdp",
           "sibsp"
          ],
          [
           0.3229613000492165,
           "pdp",
           "sibsp"
          ],
          [
           0.3229613000492165,
           "pdp",
           "sibsp"
          ],
          [
           0.3229613000492165,
           "pdp",
           "sibsp"
          ],
          [
           0.3229613000492165,
           "pdp",
           "sibsp"
          ],
          [
           0.3229613000492165,
           "pdp",
           "sibsp"
          ],
          [
           0.3229613000492165,
           "pdp",
           "sibsp"
          ],
          [
           0.3229613000492165,
           "pdp",
           "sibsp"
          ],
          [
           0.3229613000492165,
           "pdp",
           "sibsp"
          ],
          [
           0.3229613000492165,
           "pdp",
           "sibsp"
          ],
          [
           0.3229613000492165,
           "pdp",
           "sibsp"
          ],
          [
           0.3229613000492165,
           "pdp",
           "sibsp"
          ],
          [
           0.3229613000492165,
           "pdp",
           "sibsp"
          ],
          [
           0.3229613000492165,
           "pdp",
           "sibsp"
          ],
          [
           0.3229613000492165,
           "pdp",
           "sibsp"
          ],
          [
           0.3229613000492165,
           "pdp",
           "sibsp"
          ],
          [
           0.3229613000492165,
           "pdp",
           "sibsp"
          ],
          [
           0.3229613000492165,
           "pdp",
           "sibsp"
          ],
          [
           0.3229613000492165,
           "pdp",
           "sibsp"
          ],
          [
           0.3229613000492165,
           "pdp",
           "sibsp"
          ],
          [
           0.3229613000492165,
           "pdp",
           "sibsp"
          ],
          [
           0.3229613000492165,
           "pdp",
           "sibsp"
          ],
          [
           0.3229613000492165,
           "pdp",
           "sibsp"
          ],
          [
           0.3229613000492165,
           "pdp",
           "sibsp"
          ],
          [
           0.3229613000492165,
           "pdp",
           "sibsp"
          ],
          [
           0.3229613000492165,
           "pdp",
           "sibsp"
          ],
          [
           0.3229613000492165,
           "pdp",
           "sibsp"
          ],
          [
           0.3229613000492165,
           "pdp",
           "sibsp"
          ],
          [
           0.3229613000492165,
           "pdp",
           "sibsp"
          ],
          [
           0.3229613000492165,
           "pdp",
           "sibsp"
          ],
          [
           0.3229613000492165,
           "pdp",
           "sibsp"
          ],
          [
           0.3229613000492165,
           "pdp",
           "sibsp"
          ],
          [
           0.3229613000492165,
           "pdp",
           "sibsp"
          ],
          [
           0.3229613000492165,
           "pdp",
           "sibsp"
          ],
          [
           0.3229613000492165,
           "pdp",
           "sibsp"
          ],
          [
           0.3229613000492165,
           "pdp",
           "sibsp"
          ],
          [
           0.3229613000492165,
           "pdp",
           "sibsp"
          ],
          [
           0.3229613000492165,
           "pdp",
           "sibsp"
          ],
          [
           0.3229613000492165,
           "pdp",
           "sibsp"
          ],
          [
           0.3229613000492165,
           "pdp",
           "sibsp"
          ],
          [
           0.3229613000492165,
           "pdp",
           "sibsp"
          ],
          [
           0.3229613000492165,
           "pdp",
           "sibsp"
          ],
          [
           0.3229613000492165,
           "pdp",
           "sibsp"
          ],
          [
           0.3229613000492165,
           "pdp",
           "sibsp"
          ]
         ],
         "hovertemplate": "<b>%{hovertext}</b><br><br>prediction=%{y:.3f}<br>mean_prediction=%{customdata[0]:.3f}<extra></extra>",
         "hovertext": [
          "pdp",
          "pdp",
          "pdp",
          "pdp",
          "pdp",
          "pdp",
          "pdp",
          "pdp",
          "pdp",
          "pdp",
          "pdp",
          "pdp",
          "pdp",
          "pdp",
          "pdp",
          "pdp",
          "pdp",
          "pdp",
          "pdp",
          "pdp",
          "pdp",
          "pdp",
          "pdp",
          "pdp",
          "pdp",
          "pdp",
          "pdp",
          "pdp",
          "pdp",
          "pdp",
          "pdp",
          "pdp",
          "pdp",
          "pdp",
          "pdp",
          "pdp",
          "pdp",
          "pdp",
          "pdp",
          "pdp",
          "pdp",
          "pdp",
          "pdp",
          "pdp",
          "pdp",
          "pdp",
          "pdp",
          "pdp",
          "pdp",
          "pdp",
          "pdp",
          "pdp",
          "pdp",
          "pdp",
          "pdp",
          "pdp",
          "pdp",
          "pdp",
          "pdp",
          "pdp",
          "pdp",
          "pdp",
          "pdp",
          "pdp",
          "pdp",
          "pdp",
          "pdp",
          "pdp",
          "pdp",
          "pdp",
          "pdp",
          "pdp",
          "pdp",
          "pdp",
          "pdp",
          "pdp",
          "pdp",
          "pdp",
          "pdp",
          "pdp",
          "pdp",
          "pdp",
          "pdp",
          "pdp",
          "pdp",
          "pdp",
          "pdp",
          "pdp",
          "pdp",
          "pdp",
          "pdp",
          "pdp",
          "pdp",
          "pdp",
          "pdp",
          "pdp",
          "pdp",
          "pdp",
          "pdp",
          "pdp",
          "pdp"
         ],
         "legendgroup": "pdp",
         "line": {
          "color": "#8bdcbe",
          "dash": "solid",
          "width": 2
         },
         "marker": {
          "symbol": "circle"
         },
         "mode": "lines",
         "name": "pdp",
         "opacity": 1,
         "orientation": "v",
         "showlegend": false,
         "type": "scatter",
         "x": [
          0,
          0.08,
          0.16,
          0.24,
          0.32,
          0.4,
          0.48,
          0.56,
          0.64,
          0.72,
          0.8,
          0.88,
          0.96,
          1.04,
          1.12,
          1.2,
          1.28,
          1.36,
          1.44,
          1.52,
          1.6,
          1.68,
          1.76,
          1.84,
          1.92,
          2,
          2.08,
          2.16,
          2.24,
          2.32,
          2.4,
          2.48,
          2.56,
          2.64,
          2.72,
          2.8000000000000003,
          2.88,
          2.96,
          3.04,
          3.12,
          3.2,
          3.2800000000000002,
          3.36,
          3.44,
          3.52,
          3.6,
          3.68,
          3.7600000000000002,
          3.84,
          3.92,
          4,
          4.08,
          4.16,
          4.24,
          4.32,
          4.4,
          4.48,
          4.5600000000000005,
          4.64,
          4.72,
          4.8,
          4.88,
          4.96,
          5.04,
          5.12,
          5.2,
          5.28,
          5.36,
          5.44,
          5.5200000000000005,
          5.6000000000000005,
          5.68,
          5.76,
          5.84,
          5.92,
          6,
          6.08,
          6.16,
          6.24,
          6.32,
          6.4,
          6.48,
          6.5600000000000005,
          6.640000000000001,
          6.72,
          6.8,
          6.88,
          6.96,
          7.04,
          7.12,
          7.2,
          7.28,
          7.36,
          7.44,
          7.5200000000000005,
          7.6000000000000005,
          7.68,
          7.76,
          7.84,
          7.92,
          8
         ],
         "xaxis": "x",
         "y": [
          0.3372050741880985,
          0.33371956953445037,
          0.3302569282392683,
          0.32713912508984017,
          0.3240803249430401,
          0.32117798148082155,
          0.31847889432545806,
          0.3159948068661365,
          0.3139213693362319,
          0.3124844830439824,
          0.31155447102146494,
          0.3113322373853117,
          0.3114715650953969,
          0.31210768338447625,
          0.3132665307990839,
          0.3148683208999673,
          0.31773504638246197,
          0.3218380070552086,
          0.3272713283899204,
          0.3333070175327923,
          0.33992192835543616,
          0.34689852580482644,
          0.3542398099100996,
          0.3615311630060185,
          0.36890424784988635,
          0.37636238229298197,
          0.3840518795566562,
          0.39114105193409104,
          0.3981198170455152,
          0.4047890767850354,
          0.41089429193696225,
          0.41621451366839995,
          0.421096724989611,
          0.4252022718910056,
          0.42887001740169334,
          0.431753873978061,
          0.4338038923144552,
          0.4350957227898679,
          0.435685640112224,
          0.4359246738882761,
          0.43545828540948217,
          0.43453436478494134,
          0.4332931768227499,
          0.4315181066886332,
          0.42926553374966014,
          0.42670799962526806,
          0.42383827181715683,
          0.4205299945203406,
          0.4169645554949242,
          0.41312691562000337,
          0.4089241555390285,
          0.40441255427416345,
          0.3996825774592143,
          0.39482357103358867,
          0.3899195210070977,
          0.38496687505488897,
          0.3800000744941231,
          0.37506291595818686,
          0.37013559126556267,
          0.3651848261655823,
          0.3600523549799099,
          0.3548311503811072,
          0.34953357754621756,
          0.34416232401365576,
          0.33872593927741346,
          0.33329057097031756,
          0.3278074261202137,
          0.3223612022554638,
          0.3170077763831344,
          0.3118010240508153,
          0.30669247444240566,
          0.3017170689673001,
          0.2968474083771436,
          0.29214629164247014,
          0.2875646156400029,
          0.28314090753754023,
          0.27888805054810906,
          0.274807864384685,
          0.270904060284808,
          0.2672018978809168,
          0.2636829624406113,
          0.26031761109123336,
          0.2570818586293478,
          0.2540005646886857,
          0.25102086965799203,
          0.24812695924525055,
          0.24537157636405196,
          0.24271022694302602,
          0.24012995098273615,
          0.23763255157340585,
          0.23523223952179725,
          0.2329178521824927,
          0.23066030631997406,
          0.2284576329483618,
          0.22629347741367842,
          0.2241705621959646,
          0.22208019102183835,
          0.22002453060495733,
          0.2179965616863921,
          0.21599881677973315,
          0.2140212786192076
         ],
         "yaxis": "y"
        },
        {
         "customdata": [
          [
           0.3229613000492165,
           "pdp",
           "parch"
          ],
          [
           0.3229613000492165,
           "pdp",
           "parch"
          ],
          [
           0.3229613000492165,
           "pdp",
           "parch"
          ],
          [
           0.3229613000492165,
           "pdp",
           "parch"
          ],
          [
           0.3229613000492165,
           "pdp",
           "parch"
          ],
          [
           0.3229613000492165,
           "pdp",
           "parch"
          ],
          [
           0.3229613000492165,
           "pdp",
           "parch"
          ],
          [
           0.3229613000492165,
           "pdp",
           "parch"
          ],
          [
           0.3229613000492165,
           "pdp",
           "parch"
          ],
          [
           0.3229613000492165,
           "pdp",
           "parch"
          ],
          [
           0.3229613000492165,
           "pdp",
           "parch"
          ],
          [
           0.3229613000492165,
           "pdp",
           "parch"
          ],
          [
           0.3229613000492165,
           "pdp",
           "parch"
          ],
          [
           0.3229613000492165,
           "pdp",
           "parch"
          ],
          [
           0.3229613000492165,
           "pdp",
           "parch"
          ],
          [
           0.3229613000492165,
           "pdp",
           "parch"
          ],
          [
           0.3229613000492165,
           "pdp",
           "parch"
          ],
          [
           0.3229613000492165,
           "pdp",
           "parch"
          ],
          [
           0.3229613000492165,
           "pdp",
           "parch"
          ],
          [
           0.3229613000492165,
           "pdp",
           "parch"
          ],
          [
           0.3229613000492165,
           "pdp",
           "parch"
          ],
          [
           0.3229613000492165,
           "pdp",
           "parch"
          ],
          [
           0.3229613000492165,
           "pdp",
           "parch"
          ],
          [
           0.3229613000492165,
           "pdp",
           "parch"
          ],
          [
           0.3229613000492165,
           "pdp",
           "parch"
          ],
          [
           0.3229613000492165,
           "pdp",
           "parch"
          ],
          [
           0.3229613000492165,
           "pdp",
           "parch"
          ],
          [
           0.3229613000492165,
           "pdp",
           "parch"
          ],
          [
           0.3229613000492165,
           "pdp",
           "parch"
          ],
          [
           0.3229613000492165,
           "pdp",
           "parch"
          ],
          [
           0.3229613000492165,
           "pdp",
           "parch"
          ],
          [
           0.3229613000492165,
           "pdp",
           "parch"
          ],
          [
           0.3229613000492165,
           "pdp",
           "parch"
          ],
          [
           0.3229613000492165,
           "pdp",
           "parch"
          ],
          [
           0.3229613000492165,
           "pdp",
           "parch"
          ],
          [
           0.3229613000492165,
           "pdp",
           "parch"
          ],
          [
           0.3229613000492165,
           "pdp",
           "parch"
          ],
          [
           0.3229613000492165,
           "pdp",
           "parch"
          ],
          [
           0.3229613000492165,
           "pdp",
           "parch"
          ],
          [
           0.3229613000492165,
           "pdp",
           "parch"
          ],
          [
           0.3229613000492165,
           "pdp",
           "parch"
          ],
          [
           0.3229613000492165,
           "pdp",
           "parch"
          ],
          [
           0.3229613000492165,
           "pdp",
           "parch"
          ],
          [
           0.3229613000492165,
           "pdp",
           "parch"
          ],
          [
           0.3229613000492165,
           "pdp",
           "parch"
          ],
          [
           0.3229613000492165,
           "pdp",
           "parch"
          ],
          [
           0.3229613000492165,
           "pdp",
           "parch"
          ],
          [
           0.3229613000492165,
           "pdp",
           "parch"
          ],
          [
           0.3229613000492165,
           "pdp",
           "parch"
          ],
          [
           0.3229613000492165,
           "pdp",
           "parch"
          ],
          [
           0.3229613000492165,
           "pdp",
           "parch"
          ],
          [
           0.3229613000492165,
           "pdp",
           "parch"
          ],
          [
           0.3229613000492165,
           "pdp",
           "parch"
          ],
          [
           0.3229613000492165,
           "pdp",
           "parch"
          ],
          [
           0.3229613000492165,
           "pdp",
           "parch"
          ],
          [
           0.3229613000492165,
           "pdp",
           "parch"
          ],
          [
           0.3229613000492165,
           "pdp",
           "parch"
          ],
          [
           0.3229613000492165,
           "pdp",
           "parch"
          ],
          [
           0.3229613000492165,
           "pdp",
           "parch"
          ],
          [
           0.3229613000492165,
           "pdp",
           "parch"
          ],
          [
           0.3229613000492165,
           "pdp",
           "parch"
          ],
          [
           0.3229613000492165,
           "pdp",
           "parch"
          ],
          [
           0.3229613000492165,
           "pdp",
           "parch"
          ],
          [
           0.3229613000492165,
           "pdp",
           "parch"
          ],
          [
           0.3229613000492165,
           "pdp",
           "parch"
          ],
          [
           0.3229613000492165,
           "pdp",
           "parch"
          ],
          [
           0.3229613000492165,
           "pdp",
           "parch"
          ],
          [
           0.3229613000492165,
           "pdp",
           "parch"
          ],
          [
           0.3229613000492165,
           "pdp",
           "parch"
          ],
          [
           0.3229613000492165,
           "pdp",
           "parch"
          ],
          [
           0.3229613000492165,
           "pdp",
           "parch"
          ],
          [
           0.3229613000492165,
           "pdp",
           "parch"
          ],
          [
           0.3229613000492165,
           "pdp",
           "parch"
          ],
          [
           0.3229613000492165,
           "pdp",
           "parch"
          ],
          [
           0.3229613000492165,
           "pdp",
           "parch"
          ],
          [
           0.3229613000492165,
           "pdp",
           "parch"
          ],
          [
           0.3229613000492165,
           "pdp",
           "parch"
          ],
          [
           0.3229613000492165,
           "pdp",
           "parch"
          ],
          [
           0.3229613000492165,
           "pdp",
           "parch"
          ],
          [
           0.3229613000492165,
           "pdp",
           "parch"
          ],
          [
           0.3229613000492165,
           "pdp",
           "parch"
          ],
          [
           0.3229613000492165,
           "pdp",
           "parch"
          ],
          [
           0.3229613000492165,
           "pdp",
           "parch"
          ],
          [
           0.3229613000492165,
           "pdp",
           "parch"
          ],
          [
           0.3229613000492165,
           "pdp",
           "parch"
          ],
          [
           0.3229613000492165,
           "pdp",
           "parch"
          ],
          [
           0.3229613000492165,
           "pdp",
           "parch"
          ],
          [
           0.3229613000492165,
           "pdp",
           "parch"
          ],
          [
           0.3229613000492165,
           "pdp",
           "parch"
          ],
          [
           0.3229613000492165,
           "pdp",
           "parch"
          ],
          [
           0.3229613000492165,
           "pdp",
           "parch"
          ],
          [
           0.3229613000492165,
           "pdp",
           "parch"
          ],
          [
           0.3229613000492165,
           "pdp",
           "parch"
          ],
          [
           0.3229613000492165,
           "pdp",
           "parch"
          ],
          [
           0.3229613000492165,
           "pdp",
           "parch"
          ],
          [
           0.3229613000492165,
           "pdp",
           "parch"
          ],
          [
           0.3229613000492165,
           "pdp",
           "parch"
          ],
          [
           0.3229613000492165,
           "pdp",
           "parch"
          ],
          [
           0.3229613000492165,
           "pdp",
           "parch"
          ],
          [
           0.3229613000492165,
           "pdp",
           "parch"
          ],
          [
           0.3229613000492165,
           "pdp",
           "parch"
          ]
         ],
         "hovertemplate": "<b>%{hovertext}</b><br><br>prediction=%{y:.3f}<br>mean_prediction=%{customdata[0]:.3f}<extra></extra>",
         "hovertext": [
          "pdp",
          "pdp",
          "pdp",
          "pdp",
          "pdp",
          "pdp",
          "pdp",
          "pdp",
          "pdp",
          "pdp",
          "pdp",
          "pdp",
          "pdp",
          "pdp",
          "pdp",
          "pdp",
          "pdp",
          "pdp",
          "pdp",
          "pdp",
          "pdp",
          "pdp",
          "pdp",
          "pdp",
          "pdp",
          "pdp",
          "pdp",
          "pdp",
          "pdp",
          "pdp",
          "pdp",
          "pdp",
          "pdp",
          "pdp",
          "pdp",
          "pdp",
          "pdp",
          "pdp",
          "pdp",
          "pdp",
          "pdp",
          "pdp",
          "pdp",
          "pdp",
          "pdp",
          "pdp",
          "pdp",
          "pdp",
          "pdp",
          "pdp",
          "pdp",
          "pdp",
          "pdp",
          "pdp",
          "pdp",
          "pdp",
          "pdp",
          "pdp",
          "pdp",
          "pdp",
          "pdp",
          "pdp",
          "pdp",
          "pdp",
          "pdp",
          "pdp",
          "pdp",
          "pdp",
          "pdp",
          "pdp",
          "pdp",
          "pdp",
          "pdp",
          "pdp",
          "pdp",
          "pdp",
          "pdp",
          "pdp",
          "pdp",
          "pdp",
          "pdp",
          "pdp",
          "pdp",
          "pdp",
          "pdp",
          "pdp",
          "pdp",
          "pdp",
          "pdp",
          "pdp",
          "pdp",
          "pdp",
          "pdp",
          "pdp",
          "pdp",
          "pdp",
          "pdp",
          "pdp",
          "pdp",
          "pdp",
          "pdp"
         ],
         "legendgroup": "pdp",
         "line": {
          "color": "#8bdcbe",
          "dash": "solid",
          "width": 2
         },
         "marker": {
          "symbol": "circle"
         },
         "mode": "lines",
         "name": "pdp",
         "opacity": 1,
         "orientation": "v",
         "showlegend": false,
         "type": "scatter",
         "x": [
          0,
          0.09,
          0.18,
          0.27,
          0.36,
          0.44999999999999996,
          0.54,
          0.63,
          0.72,
          0.8099999999999999,
          0.8999999999999999,
          0.99,
          1.08,
          1.17,
          1.26,
          1.3499999999999999,
          1.44,
          1.53,
          1.6199999999999999,
          1.71,
          1.7999999999999998,
          1.89,
          1.98,
          2.07,
          2.16,
          2.25,
          2.34,
          2.4299999999999997,
          2.52,
          2.61,
          2.6999999999999997,
          2.79,
          2.88,
          2.9699999999999998,
          3.06,
          3.15,
          3.2399999999999998,
          3.33,
          3.42,
          3.51,
          3.5999999999999996,
          3.69,
          3.78,
          3.8699999999999997,
          3.96,
          4.05,
          4.14,
          4.2299999999999995,
          4.32,
          4.41,
          4.5,
          4.59,
          4.68,
          4.77,
          4.859999999999999,
          4.95,
          5.04,
          5.13,
          5.22,
          5.31,
          5.3999999999999995,
          5.49,
          5.58,
          5.67,
          5.76,
          5.85,
          5.9399999999999995,
          6.029999999999999,
          6.12,
          6.21,
          6.3,
          6.39,
          6.4799999999999995,
          6.569999999999999,
          6.66,
          6.75,
          6.84,
          6.93,
          7.02,
          7.109999999999999,
          7.199999999999999,
          7.29,
          7.38,
          7.47,
          7.56,
          7.6499999999999995,
          7.739999999999999,
          7.83,
          7.92,
          8.01,
          8.1,
          8.19,
          8.28,
          8.37,
          8.459999999999999,
          8.549999999999999,
          8.64,
          8.73,
          8.82,
          8.91,
          9
         ],
         "xaxis": "x2",
         "y": [
          0.32333901346295807,
          0.3275724030009812,
          0.33178213695701847,
          0.33552521850009953,
          0.3381712761601145,
          0.340186063888858,
          0.3415266521649347,
          0.34313203430761985,
          0.344640998902802,
          0.34561258724620547,
          0.34618054847002283,
          0.34696281646095534,
          0.34769430768023246,
          0.3480594766595356,
          0.3479845864098309,
          0.3471429894102777,
          0.3456619829239182,
          0.3434625474925459,
          0.34114919778878977,
          0.33858974602154474,
          0.3355675892512811,
          0.33213602685859056,
          0.32878205154050766,
          0.3254737573206409,
          0.3225026930267122,
          0.31982615239514584,
          0.3169083062988805,
          0.31439739771740155,
          0.31228809184693357,
          0.3104316093052922,
          0.3085320066150693,
          0.30658557524740604,
          0.30467410825145586,
          0.30274332115975017,
          0.30086512425872525,
          0.2990616252521308,
          0.297411654539335,
          0.2958880516802737,
          0.29444215459013645,
          0.2930675787518239,
          0.2917272566384782,
          0.29053791861826905,
          0.28933202030624927,
          0.28806197231790415,
          0.2868086761813798,
          0.285534788257381,
          0.2842317561580493,
          0.28290348579717417,
          0.28157169039313873,
          0.280206628024348,
          0.27884826582916705,
          0.2774862489823981,
          0.2760894949790041,
          0.2746769782486537,
          0.27323650538992816,
          0.2717592723852021,
          0.2701934544816032,
          0.2685975184051048,
          0.2670140013951463,
          0.26544887671802847,
          0.2638566475718667,
          0.2622746909423458,
          0.2606896714975596,
          0.25907742433876585,
          0.2574690892244229,
          0.2558590777168469,
          0.25427012460230664,
          0.2526889152031877,
          0.25110285172147534,
          0.2494910304130715,
          0.24785150700488492,
          0.24621248981860352,
          0.24458388117153854,
          0.2429552224257821,
          0.2413282141133591,
          0.23968683729561183,
          0.23804955866940597,
          0.23641440590806687,
          0.23477468423180806,
          0.23314170754128913,
          0.23154169700785066,
          0.22995844189130155,
          0.2283911928307472,
          0.22684184984692896,
          0.22531491346197904,
          0.2238093046922522,
          0.2223237745876389,
          0.22086951735086227,
          0.21944587251009576,
          0.2180307157632357,
          0.21663612826473577,
          0.21526122841350329,
          0.21391131508434125,
          0.21258121335191754,
          0.21126949560505168,
          0.2099768277950306,
          0.20869361836869538,
          0.20742355448072777,
          0.2061737324229687,
          0.2049465394130728,
          0.20373543187553295
         ],
         "yaxis": "y2"
        },
        {
         "customdata": [
          [
           0.31038675921422926,
           "ale",
           "age"
          ],
          [
           0.31038675921422926,
           "ale",
           "age"
          ],
          [
           0.31038675921422926,
           "ale",
           "age"
          ],
          [
           0.31038675921422926,
           "ale",
           "age"
          ],
          [
           0.31038675921422926,
           "ale",
           "age"
          ],
          [
           0.31038675921422926,
           "ale",
           "age"
          ],
          [
           0.31038675921422926,
           "ale",
           "age"
          ],
          [
           0.31038675921422926,
           "ale",
           "age"
          ],
          [
           0.31038675921422926,
           "ale",
           "age"
          ],
          [
           0.31038675921422926,
           "ale",
           "age"
          ],
          [
           0.31038675921422926,
           "ale",
           "age"
          ],
          [
           0.31038675921422926,
           "ale",
           "age"
          ],
          [
           0.31038675921422926,
           "ale",
           "age"
          ],
          [
           0.31038675921422926,
           "ale",
           "age"
          ],
          [
           0.31038675921422926,
           "ale",
           "age"
          ],
          [
           0.31038675921422926,
           "ale",
           "age"
          ],
          [
           0.31038675921422926,
           "ale",
           "age"
          ],
          [
           0.31038675921422926,
           "ale",
           "age"
          ],
          [
           0.31038675921422926,
           "ale",
           "age"
          ],
          [
           0.31038675921422926,
           "ale",
           "age"
          ],
          [
           0.31038675921422926,
           "ale",
           "age"
          ],
          [
           0.31038675921422926,
           "ale",
           "age"
          ],
          [
           0.31038675921422926,
           "ale",
           "age"
          ],
          [
           0.31038675921422926,
           "ale",
           "age"
          ],
          [
           0.31038675921422926,
           "ale",
           "age"
          ],
          [
           0.31038675921422926,
           "ale",
           "age"
          ],
          [
           0.31038675921422926,
           "ale",
           "age"
          ],
          [
           0.31038675921422926,
           "ale",
           "age"
          ],
          [
           0.31038675921422926,
           "ale",
           "age"
          ],
          [
           0.31038675921422926,
           "ale",
           "age"
          ],
          [
           0.31038675921422926,
           "ale",
           "age"
          ],
          [
           0.31038675921422926,
           "ale",
           "age"
          ],
          [
           0.31038675921422926,
           "ale",
           "age"
          ],
          [
           0.31038675921422926,
           "ale",
           "age"
          ],
          [
           0.31038675921422926,
           "ale",
           "age"
          ],
          [
           0.31038675921422926,
           "ale",
           "age"
          ],
          [
           0.31038675921422926,
           "ale",
           "age"
          ],
          [
           0.31038675921422926,
           "ale",
           "age"
          ],
          [
           0.31038675921422926,
           "ale",
           "age"
          ],
          [
           0.31038675921422926,
           "ale",
           "age"
          ],
          [
           0.31038675921422926,
           "ale",
           "age"
          ],
          [
           0.31038675921422926,
           "ale",
           "age"
          ],
          [
           0.31038675921422926,
           "ale",
           "age"
          ],
          [
           0.31038675921422926,
           "ale",
           "age"
          ],
          [
           0.31038675921422926,
           "ale",
           "age"
          ],
          [
           0.31038675921422926,
           "ale",
           "age"
          ],
          [
           0.31038675921422926,
           "ale",
           "age"
          ],
          [
           0.31038675921422926,
           "ale",
           "age"
          ],
          [
           0.31038675921422926,
           "ale",
           "age"
          ],
          [
           0.31038675921422926,
           "ale",
           "age"
          ],
          [
           0.31038675921422926,
           "ale",
           "age"
          ],
          [
           0.31038675921422926,
           "ale",
           "age"
          ],
          [
           0.31038675921422926,
           "ale",
           "age"
          ],
          [
           0.31038675921422926,
           "ale",
           "age"
          ],
          [
           0.31038675921422926,
           "ale",
           "age"
          ],
          [
           0.31038675921422926,
           "ale",
           "age"
          ],
          [
           0.31038675921422926,
           "ale",
           "age"
          ],
          [
           0.31038675921422926,
           "ale",
           "age"
          ],
          [
           0.31038675921422926,
           "ale",
           "age"
          ],
          [
           0.31038675921422926,
           "ale",
           "age"
          ],
          [
           0.31038675921422926,
           "ale",
           "age"
          ],
          [
           0.31038675921422926,
           "ale",
           "age"
          ],
          [
           0.31038675921422926,
           "ale",
           "age"
          ],
          [
           0.31038675921422926,
           "ale",
           "age"
          ],
          [
           0.31038675921422926,
           "ale",
           "age"
          ],
          [
           0.31038675921422926,
           "ale",
           "age"
          ],
          [
           0.31038675921422926,
           "ale",
           "age"
          ],
          [
           0.31038675921422926,
           "ale",
           "age"
          ],
          [
           0.31038675921422926,
           "ale",
           "age"
          ],
          [
           0.31038675921422926,
           "ale",
           "age"
          ],
          [
           0.31038675921422926,
           "ale",
           "age"
          ],
          [
           0.31038675921422926,
           "ale",
           "age"
          ],
          [
           0.31038675921422926,
           "ale",
           "age"
          ],
          [
           0.31038675921422926,
           "ale",
           "age"
          ],
          [
           0.31038675921422926,
           "ale",
           "age"
          ],
          [
           0.31038675921422926,
           "ale",
           "age"
          ],
          [
           0.31038675921422926,
           "ale",
           "age"
          ],
          [
           0.31038675921422926,
           "ale",
           "age"
          ],
          [
           0.31038675921422926,
           "ale",
           "age"
          ],
          [
           0.31038675921422926,
           "ale",
           "age"
          ],
          [
           0.31038675921422926,
           "ale",
           "age"
          ],
          [
           0.31038675921422926,
           "ale",
           "age"
          ],
          [
           0.31038675921422926,
           "ale",
           "age"
          ],
          [
           0.31038675921422926,
           "ale",
           "age"
          ],
          [
           0.31038675921422926,
           "ale",
           "age"
          ],
          [
           0.31038675921422926,
           "ale",
           "age"
          ],
          [
           0.31038675921422926,
           "ale",
           "age"
          ],
          [
           0.31038675921422926,
           "ale",
           "age"
          ],
          [
           0.31038675921422926,
           "ale",
           "age"
          ],
          [
           0.31038675921422926,
           "ale",
           "age"
          ],
          [
           0.31038675921422926,
           "ale",
           "age"
          ],
          [
           0.31038675921422926,
           "ale",
           "age"
          ],
          [
           0.31038675921422926,
           "ale",
           "age"
          ],
          [
           0.31038675921422926,
           "ale",
           "age"
          ],
          [
           0.31038675921422926,
           "ale",
           "age"
          ],
          [
           0.31038675921422926,
           "ale",
           "age"
          ],
          [
           0.31038675921422926,
           "ale",
           "age"
          ],
          [
           0.31038675921422926,
           "ale",
           "age"
          ],
          [
           0.31038675921422926,
           "ale",
           "age"
          ],
          [
           0.31038675921422926,
           "ale",
           "age"
          ],
          [
           0.31038675921422926,
           "ale",
           "age"
          ]
         ],
         "hovertemplate": "<b>%{hovertext}</b><br><br>prediction=%{y:.3f}<br>mean_prediction=%{customdata[0]:.3f}<extra></extra>",
         "hovertext": [
          "ale",
          "ale",
          "ale",
          "ale",
          "ale",
          "ale",
          "ale",
          "ale",
          "ale",
          "ale",
          "ale",
          "ale",
          "ale",
          "ale",
          "ale",
          "ale",
          "ale",
          "ale",
          "ale",
          "ale",
          "ale",
          "ale",
          "ale",
          "ale",
          "ale",
          "ale",
          "ale",
          "ale",
          "ale",
          "ale",
          "ale",
          "ale",
          "ale",
          "ale",
          "ale",
          "ale",
          "ale",
          "ale",
          "ale",
          "ale",
          "ale",
          "ale",
          "ale",
          "ale",
          "ale",
          "ale",
          "ale",
          "ale",
          "ale",
          "ale",
          "ale",
          "ale",
          "ale",
          "ale",
          "ale",
          "ale",
          "ale",
          "ale",
          "ale",
          "ale",
          "ale",
          "ale",
          "ale",
          "ale",
          "ale",
          "ale",
          "ale",
          "ale",
          "ale",
          "ale",
          "ale",
          "ale",
          "ale",
          "ale",
          "ale",
          "ale",
          "ale",
          "ale",
          "ale",
          "ale",
          "ale",
          "ale",
          "ale",
          "ale",
          "ale",
          "ale",
          "ale",
          "ale",
          "ale",
          "ale",
          "ale",
          "ale",
          "ale",
          "ale",
          "ale",
          "ale",
          "ale",
          "ale",
          "ale",
          "ale",
          "ale"
         ],
         "legendgroup": "ale",
         "line": {
          "color": "#4378bf",
          "dash": "solid",
          "width": 2
         },
         "marker": {
          "symbol": "circle"
         },
         "mode": "lines",
         "name": "ale",
         "opacity": 1,
         "orientation": "v",
         "showlegend": true,
         "type": "scatter",
         "x": [
          0.1666666667,
          0.905000000033,
          1.643333333366,
          2.3816666666989996,
          3.120000000032,
          3.858333333365,
          4.596666666698,
          5.335000000031,
          6.073333333364,
          6.8116666666970005,
          7.550000000030001,
          8.288333333363,
          9.026666666695998,
          9.765000000029,
          10.503333333361999,
          11.241666666695,
          11.980000000028,
          12.718333333360999,
          13.456666666694,
          14.195000000027,
          14.93333333336,
          15.671666666693,
          16.410000000026,
          17.148333333359,
          17.886666666691998,
          18.625000000025,
          19.363333333358,
          20.101666666691,
          20.840000000024,
          21.578333333356998,
          22.31666666669,
          23.055000000023,
          23.793333333356,
          24.531666666689,
          25.270000000021998,
          26.008333333355,
          26.746666666688,
          27.485000000021,
          28.223333333354,
          28.961666666686998,
          29.70000000002,
          30.438333333353,
          31.176666666686,
          31.915000000019,
          32.653333333352,
          33.391666666685005,
          34.130000000018,
          34.868333333351,
          35.606666666684,
          36.345000000017,
          37.083333333350005,
          37.821666666683,
          38.560000000016004,
          39.298333333349,
          40.036666666682,
          40.775000000015005,
          41.513333333348,
          42.251666666681004,
          42.990000000014,
          43.728333333347,
          44.466666666680005,
          45.205000000013,
          45.943333333346004,
          46.681666666679,
          47.420000000012,
          48.158333333345006,
          48.896666666678,
          49.635000000011004,
          50.373333333344,
          51.111666666677,
          51.850000000010006,
          52.588333333343,
          53.326666666676005,
          54.065000000009,
          54.803333333342,
          55.541666666675006,
          56.280000000008,
          57.018333333341005,
          57.756666666674,
          58.495000000007,
          59.233333333340006,
          59.971666666673,
          60.710000000006005,
          61.448333333339,
          62.186666666672004,
          62.925000000005,
          63.663333333338,
          64.40166666667099,
          65.140000000004,
          65.878333333337,
          66.61666666667,
          67.355000000003,
          68.09333333333599,
          68.831666666669,
          69.570000000002,
          70.308333333335,
          71.04666666666799,
          71.78500000000099,
          72.523333333334,
          73.261666666667,
          74
         ],
         "xaxis": "x3",
         "y": [
          0.387127983613731,
          0.3664568247093906,
          0.34469325460526934,
          0.3218336973994438,
          0.2988348877100936,
          0.2754430569189078,
          0.25179004067664296,
          0.22805190585635488,
          0.20400165740578963,
          0.18083042071303124,
          0.15774642936004557,
          0.13467436097343832,
          0.11406905853284732,
          0.09869219748238911,
          0.08371505272235591,
          0.06861935306793421,
          0.05379147805046641,
          0.03856590274889232,
          0.024630648575580283,
          0.013998623497634977,
          0.004883693362187025,
          -0.0037312524422850046,
          -0.012068983081133466,
          -0.020035638305978154,
          -0.025654628913190092,
          -0.02966572089610442,
          -0.0322510522076242,
          -0.03402209827449054,
          -0.03608427983541651,
          -0.03785049822366571,
          -0.039437896264597316,
          -0.04074341036223339,
          -0.041600677934514774,
          -0.04209096070825585,
          -0.04249767284082606,
          -0.043071981033572904,
          -0.04329088174651702,
          -0.04367926429858282,
          -0.044006174886938254,
          -0.04515257958719521,
          -0.0486064634438414,
          -0.0535526809152444,
          -0.059374375294321935,
          -0.0654740237915023,
          -0.0717680759133042,
          -0.07825800343742051,
          -0.08443365376576306,
          -0.09053865937694827,
          -0.09635302665779116,
          -0.10167656890976717,
          -0.10607463420800411,
          -0.11013328547539492,
          -0.11384982029509016,
          -0.11746542305328811,
          -0.1210666788469098,
          -0.12441145673444165,
          -0.12766422622855922,
          -0.13061950582643322,
          -0.13306799676034786,
          -0.13536102296448216,
          -0.13741905503098895,
          -0.13942040946165923,
          -0.14141957937245542,
          -0.1430782595448069,
          -0.14430513124484934,
          -0.14521015122793068,
          -0.14615941362918783,
          -0.14668471141938044,
          -0.14725283154545166,
          -0.14787661830382448,
          -0.14860461941793002,
          -0.14997917530792448,
          -0.15257372954768078,
          -0.1565519481213169,
          -0.16197692689859666,
          -0.1675867500484849,
          -0.173365424952721,
          -0.17888373238800648,
          -0.18428094409231544,
          -0.18930583932803713,
          -0.19413507410290637,
          -0.19908833688838518,
          -0.20382819996154317,
          -0.20879803072222286,
          -0.21373753449978045,
          -0.21890872530666766,
          -0.22436715284799907,
          -0.22994350213473608,
          -0.23553118842105664,
          -0.24101707880283713,
          -0.24691835915388544,
          -0.25290630872982617,
          -0.258655194440682,
          -0.26412111322337867,
          -0.2692676447498595,
          -0.27427823095963483,
          -0.27905857599092737,
          -0.2836493397638807,
          -0.28818248748700764,
          -0.2925338277050707,
          -0.2967542404537407
         ],
         "yaxis": "y3"
        },
        {
         "customdata": [
          [
           0.31038675921422926,
           "ale",
           "fare"
          ],
          [
           0.31038675921422926,
           "ale",
           "fare"
          ],
          [
           0.31038675921422926,
           "ale",
           "fare"
          ],
          [
           0.31038675921422926,
           "ale",
           "fare"
          ],
          [
           0.31038675921422926,
           "ale",
           "fare"
          ],
          [
           0.31038675921422926,
           "ale",
           "fare"
          ],
          [
           0.31038675921422926,
           "ale",
           "fare"
          ],
          [
           0.31038675921422926,
           "ale",
           "fare"
          ],
          [
           0.31038675921422926,
           "ale",
           "fare"
          ],
          [
           0.31038675921422926,
           "ale",
           "fare"
          ],
          [
           0.31038675921422926,
           "ale",
           "fare"
          ],
          [
           0.31038675921422926,
           "ale",
           "fare"
          ],
          [
           0.31038675921422926,
           "ale",
           "fare"
          ],
          [
           0.31038675921422926,
           "ale",
           "fare"
          ],
          [
           0.31038675921422926,
           "ale",
           "fare"
          ],
          [
           0.31038675921422926,
           "ale",
           "fare"
          ],
          [
           0.31038675921422926,
           "ale",
           "fare"
          ],
          [
           0.31038675921422926,
           "ale",
           "fare"
          ],
          [
           0.31038675921422926,
           "ale",
           "fare"
          ],
          [
           0.31038675921422926,
           "ale",
           "fare"
          ],
          [
           0.31038675921422926,
           "ale",
           "fare"
          ],
          [
           0.31038675921422926,
           "ale",
           "fare"
          ],
          [
           0.31038675921422926,
           "ale",
           "fare"
          ],
          [
           0.31038675921422926,
           "ale",
           "fare"
          ],
          [
           0.31038675921422926,
           "ale",
           "fare"
          ],
          [
           0.31038675921422926,
           "ale",
           "fare"
          ],
          [
           0.31038675921422926,
           "ale",
           "fare"
          ],
          [
           0.31038675921422926,
           "ale",
           "fare"
          ],
          [
           0.31038675921422926,
           "ale",
           "fare"
          ],
          [
           0.31038675921422926,
           "ale",
           "fare"
          ],
          [
           0.31038675921422926,
           "ale",
           "fare"
          ],
          [
           0.31038675921422926,
           "ale",
           "fare"
          ],
          [
           0.31038675921422926,
           "ale",
           "fare"
          ],
          [
           0.31038675921422926,
           "ale",
           "fare"
          ],
          [
           0.31038675921422926,
           "ale",
           "fare"
          ],
          [
           0.31038675921422926,
           "ale",
           "fare"
          ],
          [
           0.31038675921422926,
           "ale",
           "fare"
          ],
          [
           0.31038675921422926,
           "ale",
           "fare"
          ],
          [
           0.31038675921422926,
           "ale",
           "fare"
          ],
          [
           0.31038675921422926,
           "ale",
           "fare"
          ],
          [
           0.31038675921422926,
           "ale",
           "fare"
          ],
          [
           0.31038675921422926,
           "ale",
           "fare"
          ],
          [
           0.31038675921422926,
           "ale",
           "fare"
          ],
          [
           0.31038675921422926,
           "ale",
           "fare"
          ],
          [
           0.31038675921422926,
           "ale",
           "fare"
          ],
          [
           0.31038675921422926,
           "ale",
           "fare"
          ],
          [
           0.31038675921422926,
           "ale",
           "fare"
          ],
          [
           0.31038675921422926,
           "ale",
           "fare"
          ],
          [
           0.31038675921422926,
           "ale",
           "fare"
          ],
          [
           0.31038675921422926,
           "ale",
           "fare"
          ],
          [
           0.31038675921422926,
           "ale",
           "fare"
          ],
          [
           0.31038675921422926,
           "ale",
           "fare"
          ],
          [
           0.31038675921422926,
           "ale",
           "fare"
          ],
          [
           0.31038675921422926,
           "ale",
           "fare"
          ],
          [
           0.31038675921422926,
           "ale",
           "fare"
          ],
          [
           0.31038675921422926,
           "ale",
           "fare"
          ],
          [
           0.31038675921422926,
           "ale",
           "fare"
          ],
          [
           0.31038675921422926,
           "ale",
           "fare"
          ],
          [
           0.31038675921422926,
           "ale",
           "fare"
          ],
          [
           0.31038675921422926,
           "ale",
           "fare"
          ],
          [
           0.31038675921422926,
           "ale",
           "fare"
          ],
          [
           0.31038675921422926,
           "ale",
           "fare"
          ],
          [
           0.31038675921422926,
           "ale",
           "fare"
          ],
          [
           0.31038675921422926,
           "ale",
           "fare"
          ],
          [
           0.31038675921422926,
           "ale",
           "fare"
          ],
          [
           0.31038675921422926,
           "ale",
           "fare"
          ],
          [
           0.31038675921422926,
           "ale",
           "fare"
          ],
          [
           0.31038675921422926,
           "ale",
           "fare"
          ],
          [
           0.31038675921422926,
           "ale",
           "fare"
          ],
          [
           0.31038675921422926,
           "ale",
           "fare"
          ],
          [
           0.31038675921422926,
           "ale",
           "fare"
          ],
          [
           0.31038675921422926,
           "ale",
           "fare"
          ],
          [
           0.31038675921422926,
           "ale",
           "fare"
          ],
          [
           0.31038675921422926,
           "ale",
           "fare"
          ],
          [
           0.31038675921422926,
           "ale",
           "fare"
          ],
          [
           0.31038675921422926,
           "ale",
           "fare"
          ],
          [
           0.31038675921422926,
           "ale",
           "fare"
          ],
          [
           0.31038675921422926,
           "ale",
           "fare"
          ],
          [
           0.31038675921422926,
           "ale",
           "fare"
          ],
          [
           0.31038675921422926,
           "ale",
           "fare"
          ],
          [
           0.31038675921422926,
           "ale",
           "fare"
          ],
          [
           0.31038675921422926,
           "ale",
           "fare"
          ],
          [
           0.31038675921422926,
           "ale",
           "fare"
          ],
          [
           0.31038675921422926,
           "ale",
           "fare"
          ],
          [
           0.31038675921422926,
           "ale",
           "fare"
          ],
          [
           0.31038675921422926,
           "ale",
           "fare"
          ],
          [
           0.31038675921422926,
           "ale",
           "fare"
          ],
          [
           0.31038675921422926,
           "ale",
           "fare"
          ],
          [
           0.31038675921422926,
           "ale",
           "fare"
          ],
          [
           0.31038675921422926,
           "ale",
           "fare"
          ],
          [
           0.31038675921422926,
           "ale",
           "fare"
          ],
          [
           0.31038675921422926,
           "ale",
           "fare"
          ],
          [
           0.31038675921422926,
           "ale",
           "fare"
          ],
          [
           0.31038675921422926,
           "ale",
           "fare"
          ],
          [
           0.31038675921422926,
           "ale",
           "fare"
          ],
          [
           0.31038675921422926,
           "ale",
           "fare"
          ],
          [
           0.31038675921422926,
           "ale",
           "fare"
          ],
          [
           0.31038675921422926,
           "ale",
           "fare"
          ],
          [
           0.31038675921422926,
           "ale",
           "fare"
          ],
          [
           0.31038675921422926,
           "ale",
           "fare"
          ],
          [
           0.31038675921422926,
           "ale",
           "fare"
          ]
         ],
         "hovertemplate": "<b>%{hovertext}</b><br><br>prediction=%{y:.3f}<br>mean_prediction=%{customdata[0]:.3f}<extra></extra>",
         "hovertext": [
          "ale",
          "ale",
          "ale",
          "ale",
          "ale",
          "ale",
          "ale",
          "ale",
          "ale",
          "ale",
          "ale",
          "ale",
          "ale",
          "ale",
          "ale",
          "ale",
          "ale",
          "ale",
          "ale",
          "ale",
          "ale",
          "ale",
          "ale",
          "ale",
          "ale",
          "ale",
          "ale",
          "ale",
          "ale",
          "ale",
          "ale",
          "ale",
          "ale",
          "ale",
          "ale",
          "ale",
          "ale",
          "ale",
          "ale",
          "ale",
          "ale",
          "ale",
          "ale",
          "ale",
          "ale",
          "ale",
          "ale",
          "ale",
          "ale",
          "ale",
          "ale",
          "ale",
          "ale",
          "ale",
          "ale",
          "ale",
          "ale",
          "ale",
          "ale",
          "ale",
          "ale",
          "ale",
          "ale",
          "ale",
          "ale",
          "ale",
          "ale",
          "ale",
          "ale",
          "ale",
          "ale",
          "ale",
          "ale",
          "ale",
          "ale",
          "ale",
          "ale",
          "ale",
          "ale",
          "ale",
          "ale",
          "ale",
          "ale",
          "ale",
          "ale",
          "ale",
          "ale",
          "ale",
          "ale",
          "ale",
          "ale",
          "ale",
          "ale",
          "ale",
          "ale",
          "ale",
          "ale",
          "ale",
          "ale",
          "ale",
          "ale"
         ],
         "legendgroup": "ale",
         "line": {
          "color": "#4378bf",
          "dash": "solid",
          "width": 2
         },
         "marker": {
          "symbol": "circle"
         },
         "mode": "lines",
         "name": "ale",
         "opacity": 1,
         "orientation": "v",
         "showlegend": false,
         "type": "scatter",
         "x": [
          0,
          5.120607,
          10.241214,
          15.361820999999999,
          20.482428,
          25.603035,
          30.723641999999998,
          35.844249,
          40.964856,
          46.085463,
          51.20607,
          56.326677,
          61.447283999999996,
          66.567891,
          71.688498,
          76.80910499999999,
          81.929712,
          87.050319,
          92.170926,
          97.29153299999999,
          102.41214,
          107.532747,
          112.653354,
          117.77396099999999,
          122.89456799999999,
          128.015175,
          133.135782,
          138.25638899999998,
          143.376996,
          148.497603,
          153.61820999999998,
          158.73881699999998,
          163.859424,
          168.980031,
          174.100638,
          179.22124499999998,
          184.341852,
          189.462459,
          194.58306599999997,
          199.70367299999998,
          204.82428,
          209.944887,
          215.065494,
          220.18610099999998,
          225.306708,
          230.427315,
          235.54792199999997,
          240.66852899999998,
          245.78913599999998,
          250.909743,
          256.03035,
          261.150957,
          266.271564,
          271.39217099999996,
          276.51277799999997,
          281.633385,
          286.753992,
          291.874599,
          296.995206,
          302.115813,
          307.23641999999995,
          312.35702699999996,
          317.47763399999997,
          322.598241,
          327.718848,
          332.839455,
          337.960062,
          343.080669,
          348.201276,
          353.32188299999996,
          358.44248999999996,
          363.56309699999997,
          368.683704,
          373.804311,
          378.924918,
          384.045525,
          389.16613199999995,
          394.28673899999995,
          399.40734599999996,
          404.52795299999997,
          409.64856,
          414.769167,
          419.889774,
          425.010381,
          430.130988,
          435.25159499999995,
          440.37220199999996,
          445.49280899999997,
          450.613416,
          455.734023,
          460.85463,
          465.975237,
          471.09584399999994,
          476.21645099999995,
          481.33705799999996,
          486.45766499999996,
          491.57827199999997,
          496.698879,
          501.819486,
          506.940093,
          512.0607
         ],
         "xaxis": "x4",
         "y": [
          0.387127983613731,
          0.389386341503959,
          0.39163364521520855,
          0.39460624167350533,
          0.3981381818832432,
          0.40194426696330277,
          0.404229720198535,
          0.4045986188554644,
          0.4046400045450519,
          0.4044162443143445,
          0.403082624477321,
          0.40066065364915177,
          0.3980755289269577,
          0.39531134185134176,
          0.3922086891418932,
          0.3886968723548478,
          0.3849902273055708,
          0.3810255638954866,
          0.3770407410066735,
          0.3729671810851352,
          0.3688423095329371,
          0.3648582941577809,
          0.36090639145940007,
          0.35692890072332517,
          0.3531341772334572,
          0.3495425333156823,
          0.34615076514113374,
          0.34284357149588485,
          0.34022977607394783,
          0.3382518919998757,
          0.3370529429242109,
          0.33659324838875143,
          0.3366305515736494,
          0.33746654399149706,
          0.33914530160553696,
          0.3416904177802757,
          0.3451968235273709,
          0.34930129219297107,
          0.35410419212258293,
          0.3598083519985829,
          0.3663466859035627,
          0.3735060106161237,
          0.38138605796194774,
          0.39006929158118947,
          0.39986408869730605,
          0.41069619879461117,
          0.42265888420318987,
          0.4360810079104085,
          0.4502842123539465,
          0.46541527890371825,
          0.48130157040505567,
          0.4975195679605897,
          0.5138567722896304,
          0.5303353096960811,
          0.5471160865211422,
          0.563855059015278,
          0.5803552180626654,
          0.5967174947494226,
          0.613012254345231,
          0.62929265177477,
          0.6456254613242913,
          0.6616277343662607,
          0.6773026929241913,
          0.6927409979962755,
          0.7080413964343356,
          0.7232329772227148,
          0.7382295681016986,
          0.7529990022676127,
          0.7676456245068151,
          0.7821478554337674,
          0.796482969354676,
          0.8104355988893468,
          0.8238978183825325,
          0.8369137206413375,
          0.8496089329613143,
          0.8616180083455207,
          0.8729931451966961,
          0.8836825759887084,
          0.893383962245103,
          0.9023070489395342,
          0.9106222666500914,
          0.9181886152193581,
          0.9252849877185509,
          0.9318355099295041,
          0.9378444137183837,
          0.9433087392539321,
          0.9481756445890084,
          0.9525705160009903,
          0.9565580737389998,
          0.9601727446098798,
          0.963455812433333,
          0.9664294651314653,
          0.9691209290543568,
          0.971546645390952,
          0.9737149550355404,
          0.9756737855276043,
          0.977446310922955,
          0.9790817227145623,
          0.980658242405581,
          0.9820814847344776,
          0.9833534594051587
         ],
         "yaxis": "y4"
        },
        {
         "customdata": [
          [
           0.31038675921422926,
           "ale",
           "sibsp"
          ],
          [
           0.31038675921422926,
           "ale",
           "sibsp"
          ],
          [
           0.31038675921422926,
           "ale",
           "sibsp"
          ],
          [
           0.31038675921422926,
           "ale",
           "sibsp"
          ],
          [
           0.31038675921422926,
           "ale",
           "sibsp"
          ],
          [
           0.31038675921422926,
           "ale",
           "sibsp"
          ],
          [
           0.31038675921422926,
           "ale",
           "sibsp"
          ],
          [
           0.31038675921422926,
           "ale",
           "sibsp"
          ],
          [
           0.31038675921422926,
           "ale",
           "sibsp"
          ],
          [
           0.31038675921422926,
           "ale",
           "sibsp"
          ],
          [
           0.31038675921422926,
           "ale",
           "sibsp"
          ],
          [
           0.31038675921422926,
           "ale",
           "sibsp"
          ],
          [
           0.31038675921422926,
           "ale",
           "sibsp"
          ],
          [
           0.31038675921422926,
           "ale",
           "sibsp"
          ],
          [
           0.31038675921422926,
           "ale",
           "sibsp"
          ],
          [
           0.31038675921422926,
           "ale",
           "sibsp"
          ],
          [
           0.31038675921422926,
           "ale",
           "sibsp"
          ],
          [
           0.31038675921422926,
           "ale",
           "sibsp"
          ],
          [
           0.31038675921422926,
           "ale",
           "sibsp"
          ],
          [
           0.31038675921422926,
           "ale",
           "sibsp"
          ],
          [
           0.31038675921422926,
           "ale",
           "sibsp"
          ],
          [
           0.31038675921422926,
           "ale",
           "sibsp"
          ],
          [
           0.31038675921422926,
           "ale",
           "sibsp"
          ],
          [
           0.31038675921422926,
           "ale",
           "sibsp"
          ],
          [
           0.31038675921422926,
           "ale",
           "sibsp"
          ],
          [
           0.31038675921422926,
           "ale",
           "sibsp"
          ],
          [
           0.31038675921422926,
           "ale",
           "sibsp"
          ],
          [
           0.31038675921422926,
           "ale",
           "sibsp"
          ],
          [
           0.31038675921422926,
           "ale",
           "sibsp"
          ],
          [
           0.31038675921422926,
           "ale",
           "sibsp"
          ],
          [
           0.31038675921422926,
           "ale",
           "sibsp"
          ],
          [
           0.31038675921422926,
           "ale",
           "sibsp"
          ],
          [
           0.31038675921422926,
           "ale",
           "sibsp"
          ],
          [
           0.31038675921422926,
           "ale",
           "sibsp"
          ],
          [
           0.31038675921422926,
           "ale",
           "sibsp"
          ],
          [
           0.31038675921422926,
           "ale",
           "sibsp"
          ],
          [
           0.31038675921422926,
           "ale",
           "sibsp"
          ],
          [
           0.31038675921422926,
           "ale",
           "sibsp"
          ],
          [
           0.31038675921422926,
           "ale",
           "sibsp"
          ],
          [
           0.31038675921422926,
           "ale",
           "sibsp"
          ],
          [
           0.31038675921422926,
           "ale",
           "sibsp"
          ],
          [
           0.31038675921422926,
           "ale",
           "sibsp"
          ],
          [
           0.31038675921422926,
           "ale",
           "sibsp"
          ],
          [
           0.31038675921422926,
           "ale",
           "sibsp"
          ],
          [
           0.31038675921422926,
           "ale",
           "sibsp"
          ],
          [
           0.31038675921422926,
           "ale",
           "sibsp"
          ],
          [
           0.31038675921422926,
           "ale",
           "sibsp"
          ],
          [
           0.31038675921422926,
           "ale",
           "sibsp"
          ],
          [
           0.31038675921422926,
           "ale",
           "sibsp"
          ],
          [
           0.31038675921422926,
           "ale",
           "sibsp"
          ],
          [
           0.31038675921422926,
           "ale",
           "sibsp"
          ],
          [
           0.31038675921422926,
           "ale",
           "sibsp"
          ],
          [
           0.31038675921422926,
           "ale",
           "sibsp"
          ],
          [
           0.31038675921422926,
           "ale",
           "sibsp"
          ],
          [
           0.31038675921422926,
           "ale",
           "sibsp"
          ],
          [
           0.31038675921422926,
           "ale",
           "sibsp"
          ],
          [
           0.31038675921422926,
           "ale",
           "sibsp"
          ],
          [
           0.31038675921422926,
           "ale",
           "sibsp"
          ],
          [
           0.31038675921422926,
           "ale",
           "sibsp"
          ],
          [
           0.31038675921422926,
           "ale",
           "sibsp"
          ],
          [
           0.31038675921422926,
           "ale",
           "sibsp"
          ],
          [
           0.31038675921422926,
           "ale",
           "sibsp"
          ],
          [
           0.31038675921422926,
           "ale",
           "sibsp"
          ],
          [
           0.31038675921422926,
           "ale",
           "sibsp"
          ],
          [
           0.31038675921422926,
           "ale",
           "sibsp"
          ],
          [
           0.31038675921422926,
           "ale",
           "sibsp"
          ],
          [
           0.31038675921422926,
           "ale",
           "sibsp"
          ],
          [
           0.31038675921422926,
           "ale",
           "sibsp"
          ],
          [
           0.31038675921422926,
           "ale",
           "sibsp"
          ],
          [
           0.31038675921422926,
           "ale",
           "sibsp"
          ],
          [
           0.31038675921422926,
           "ale",
           "sibsp"
          ],
          [
           0.31038675921422926,
           "ale",
           "sibsp"
          ],
          [
           0.31038675921422926,
           "ale",
           "sibsp"
          ],
          [
           0.31038675921422926,
           "ale",
           "sibsp"
          ],
          [
           0.31038675921422926,
           "ale",
           "sibsp"
          ],
          [
           0.31038675921422926,
           "ale",
           "sibsp"
          ],
          [
           0.31038675921422926,
           "ale",
           "sibsp"
          ],
          [
           0.31038675921422926,
           "ale",
           "sibsp"
          ],
          [
           0.31038675921422926,
           "ale",
           "sibsp"
          ],
          [
           0.31038675921422926,
           "ale",
           "sibsp"
          ],
          [
           0.31038675921422926,
           "ale",
           "sibsp"
          ],
          [
           0.31038675921422926,
           "ale",
           "sibsp"
          ],
          [
           0.31038675921422926,
           "ale",
           "sibsp"
          ],
          [
           0.31038675921422926,
           "ale",
           "sibsp"
          ],
          [
           0.31038675921422926,
           "ale",
           "sibsp"
          ],
          [
           0.31038675921422926,
           "ale",
           "sibsp"
          ],
          [
           0.31038675921422926,
           "ale",
           "sibsp"
          ],
          [
           0.31038675921422926,
           "ale",
           "sibsp"
          ],
          [
           0.31038675921422926,
           "ale",
           "sibsp"
          ],
          [
           0.31038675921422926,
           "ale",
           "sibsp"
          ],
          [
           0.31038675921422926,
           "ale",
           "sibsp"
          ],
          [
           0.31038675921422926,
           "ale",
           "sibsp"
          ],
          [
           0.31038675921422926,
           "ale",
           "sibsp"
          ],
          [
           0.31038675921422926,
           "ale",
           "sibsp"
          ],
          [
           0.31038675921422926,
           "ale",
           "sibsp"
          ],
          [
           0.31038675921422926,
           "ale",
           "sibsp"
          ],
          [
           0.31038675921422926,
           "ale",
           "sibsp"
          ],
          [
           0.31038675921422926,
           "ale",
           "sibsp"
          ],
          [
           0.31038675921422926,
           "ale",
           "sibsp"
          ],
          [
           0.31038675921422926,
           "ale",
           "sibsp"
          ],
          [
           0.31038675921422926,
           "ale",
           "sibsp"
          ]
         ],
         "hovertemplate": "<b>%{hovertext}</b><br><br>prediction=%{y:.3f}<br>mean_prediction=%{customdata[0]:.3f}<extra></extra>",
         "hovertext": [
          "ale",
          "ale",
          "ale",
          "ale",
          "ale",
          "ale",
          "ale",
          "ale",
          "ale",
          "ale",
          "ale",
          "ale",
          "ale",
          "ale",
          "ale",
          "ale",
          "ale",
          "ale",
          "ale",
          "ale",
          "ale",
          "ale",
          "ale",
          "ale",
          "ale",
          "ale",
          "ale",
          "ale",
          "ale",
          "ale",
          "ale",
          "ale",
          "ale",
          "ale",
          "ale",
          "ale",
          "ale",
          "ale",
          "ale",
          "ale",
          "ale",
          "ale",
          "ale",
          "ale",
          "ale",
          "ale",
          "ale",
          "ale",
          "ale",
          "ale",
          "ale",
          "ale",
          "ale",
          "ale",
          "ale",
          "ale",
          "ale",
          "ale",
          "ale",
          "ale",
          "ale",
          "ale",
          "ale",
          "ale",
          "ale",
          "ale",
          "ale",
          "ale",
          "ale",
          "ale",
          "ale",
          "ale",
          "ale",
          "ale",
          "ale",
          "ale",
          "ale",
          "ale",
          "ale",
          "ale",
          "ale",
          "ale",
          "ale",
          "ale",
          "ale",
          "ale",
          "ale",
          "ale",
          "ale",
          "ale",
          "ale",
          "ale",
          "ale",
          "ale",
          "ale",
          "ale",
          "ale",
          "ale",
          "ale",
          "ale",
          "ale"
         ],
         "legendgroup": "ale",
         "line": {
          "color": "#4378bf",
          "dash": "solid",
          "width": 2
         },
         "marker": {
          "symbol": "circle"
         },
         "mode": "lines",
         "name": "ale",
         "opacity": 1,
         "orientation": "v",
         "showlegend": false,
         "type": "scatter",
         "x": [
          0,
          0.08,
          0.16,
          0.24,
          0.32,
          0.4,
          0.48,
          0.56,
          0.64,
          0.72,
          0.8,
          0.88,
          0.96,
          1.04,
          1.12,
          1.2,
          1.28,
          1.36,
          1.44,
          1.52,
          1.6,
          1.68,
          1.76,
          1.84,
          1.92,
          2,
          2.08,
          2.16,
          2.24,
          2.32,
          2.4,
          2.48,
          2.56,
          2.64,
          2.72,
          2.8000000000000003,
          2.88,
          2.96,
          3.04,
          3.12,
          3.2,
          3.2800000000000002,
          3.36,
          3.44,
          3.52,
          3.6,
          3.68,
          3.7600000000000002,
          3.84,
          3.92,
          4,
          4.08,
          4.16,
          4.24,
          4.32,
          4.4,
          4.48,
          4.5600000000000005,
          4.64,
          4.72,
          4.8,
          4.88,
          4.96,
          5.04,
          5.12,
          5.2,
          5.28,
          5.36,
          5.44,
          5.5200000000000005,
          5.6000000000000005,
          5.68,
          5.76,
          5.84,
          5.92,
          6,
          6.08,
          6.16,
          6.24,
          6.32,
          6.4,
          6.48,
          6.5600000000000005,
          6.640000000000001,
          6.72,
          6.8,
          6.88,
          6.96,
          7.04,
          7.12,
          7.2,
          7.28,
          7.36,
          7.44,
          7.5200000000000005,
          7.6000000000000005,
          7.68,
          7.76,
          7.84,
          7.92,
          8
         ],
         "xaxis": "x",
         "y": [
          0.387127983613731,
          0.3840818905496227,
          0.38088205930920754,
          0.37775782668163777,
          0.37458087810210305,
          0.3712969853087569,
          0.36808097246219307,
          0.36513236027390694,
          0.3625957987618308,
          0.36044384785748446,
          0.3584337092958298,
          0.35704478895424085,
          0.3562970918625215,
          0.35591969306661597,
          0.35586303042643486,
          0.3564553518592833,
          0.35794047268374923,
          0.36039675150943556,
          0.36394163166854626,
          0.36817310786077595,
          0.37260250131817196,
          0.37715535034768244,
          0.3817642829752077,
          0.38645959999382556,
          0.3913154370456242,
          0.39648337676639855,
          0.4017343934947119,
          0.406534884276716,
          0.41124096019780587,
          0.4156218673429836,
          0.4193588244946288,
          0.4226911026928152,
          0.42581675971108146,
          0.42855208073217005,
          0.4308406434137766,
          0.4325405846204713,
          0.4335517060006828,
          0.4342019462060596,
          0.4343806091320159,
          0.43417900097049356,
          0.4334342956667112,
          0.4325174844497822,
          0.4312007562508,
          0.4293665266531652,
          0.42698511174909354,
          0.42437556668050735,
          0.4214669194712225,
          0.4181639217666435,
          0.41465425937713674,
          0.4109943875996424,
          0.40715032348460106,
          0.4028478438183805,
          0.3984016754409022,
          0.39388755033942413,
          0.3894041357825287,
          0.384824869077013,
          0.38034607744349763,
          0.37575221181866625,
          0.3711789761112204,
          0.36649100340413676,
          0.36162975005325054,
          0.356930539111321,
          0.35246834559785717,
          0.3481919046858494,
          0.34405198446660135,
          0.34010496135884116,
          0.3364649105136754,
          0.3330553475408028,
          0.3299200349820878,
          0.3270646419820401,
          0.32439239196911723,
          0.3218760035124931,
          0.31951505512250233,
          0.3173500216714556,
          0.3153515471602623,
          0.3135214501267675,
          0.31186427185152044,
          0.31035797790514724,
          0.30902101278218286,
          0.3078368169770032,
          0.30677668828374094,
          0.3058114793796315,
          0.3049387068153088,
          0.30415760012269794,
          0.30343643024104,
          0.30277981790134645,
          0.3021836330504858,
          0.30163785031350265,
          0.3011340730706069,
          0.30067292228913517,
          0.30025388367035694,
          0.29987693223525735,
          0.2995406871454454,
          0.2992437407364047,
          0.298981688507011,
          0.29874934408947257,
          0.2985452506539301,
          0.2983753489056407,
          0.29823161198532716,
          0.2981064915033495,
          0.29799763130584
         ],
         "yaxis": "y"
        },
        {
         "customdata": [
          [
           0.31038675921422926,
           "ale",
           "parch"
          ],
          [
           0.31038675921422926,
           "ale",
           "parch"
          ],
          [
           0.31038675921422926,
           "ale",
           "parch"
          ],
          [
           0.31038675921422926,
           "ale",
           "parch"
          ],
          [
           0.31038675921422926,
           "ale",
           "parch"
          ],
          [
           0.31038675921422926,
           "ale",
           "parch"
          ],
          [
           0.31038675921422926,
           "ale",
           "parch"
          ],
          [
           0.31038675921422926,
           "ale",
           "parch"
          ],
          [
           0.31038675921422926,
           "ale",
           "parch"
          ],
          [
           0.31038675921422926,
           "ale",
           "parch"
          ],
          [
           0.31038675921422926,
           "ale",
           "parch"
          ],
          [
           0.31038675921422926,
           "ale",
           "parch"
          ],
          [
           0.31038675921422926,
           "ale",
           "parch"
          ],
          [
           0.31038675921422926,
           "ale",
           "parch"
          ],
          [
           0.31038675921422926,
           "ale",
           "parch"
          ],
          [
           0.31038675921422926,
           "ale",
           "parch"
          ],
          [
           0.31038675921422926,
           "ale",
           "parch"
          ],
          [
           0.31038675921422926,
           "ale",
           "parch"
          ],
          [
           0.31038675921422926,
           "ale",
           "parch"
          ],
          [
           0.31038675921422926,
           "ale",
           "parch"
          ],
          [
           0.31038675921422926,
           "ale",
           "parch"
          ],
          [
           0.31038675921422926,
           "ale",
           "parch"
          ],
          [
           0.31038675921422926,
           "ale",
           "parch"
          ],
          [
           0.31038675921422926,
           "ale",
           "parch"
          ],
          [
           0.31038675921422926,
           "ale",
           "parch"
          ],
          [
           0.31038675921422926,
           "ale",
           "parch"
          ],
          [
           0.31038675921422926,
           "ale",
           "parch"
          ],
          [
           0.31038675921422926,
           "ale",
           "parch"
          ],
          [
           0.31038675921422926,
           "ale",
           "parch"
          ],
          [
           0.31038675921422926,
           "ale",
           "parch"
          ],
          [
           0.31038675921422926,
           "ale",
           "parch"
          ],
          [
           0.31038675921422926,
           "ale",
           "parch"
          ],
          [
           0.31038675921422926,
           "ale",
           "parch"
          ],
          [
           0.31038675921422926,
           "ale",
           "parch"
          ],
          [
           0.31038675921422926,
           "ale",
           "parch"
          ],
          [
           0.31038675921422926,
           "ale",
           "parch"
          ],
          [
           0.31038675921422926,
           "ale",
           "parch"
          ],
          [
           0.31038675921422926,
           "ale",
           "parch"
          ],
          [
           0.31038675921422926,
           "ale",
           "parch"
          ],
          [
           0.31038675921422926,
           "ale",
           "parch"
          ],
          [
           0.31038675921422926,
           "ale",
           "parch"
          ],
          [
           0.31038675921422926,
           "ale",
           "parch"
          ],
          [
           0.31038675921422926,
           "ale",
           "parch"
          ],
          [
           0.31038675921422926,
           "ale",
           "parch"
          ],
          [
           0.31038675921422926,
           "ale",
           "parch"
          ],
          [
           0.31038675921422926,
           "ale",
           "parch"
          ],
          [
           0.31038675921422926,
           "ale",
           "parch"
          ],
          [
           0.31038675921422926,
           "ale",
           "parch"
          ],
          [
           0.31038675921422926,
           "ale",
           "parch"
          ],
          [
           0.31038675921422926,
           "ale",
           "parch"
          ],
          [
           0.31038675921422926,
           "ale",
           "parch"
          ],
          [
           0.31038675921422926,
           "ale",
           "parch"
          ],
          [
           0.31038675921422926,
           "ale",
           "parch"
          ],
          [
           0.31038675921422926,
           "ale",
           "parch"
          ],
          [
           0.31038675921422926,
           "ale",
           "parch"
          ],
          [
           0.31038675921422926,
           "ale",
           "parch"
          ],
          [
           0.31038675921422926,
           "ale",
           "parch"
          ],
          [
           0.31038675921422926,
           "ale",
           "parch"
          ],
          [
           0.31038675921422926,
           "ale",
           "parch"
          ],
          [
           0.31038675921422926,
           "ale",
           "parch"
          ],
          [
           0.31038675921422926,
           "ale",
           "parch"
          ],
          [
           0.31038675921422926,
           "ale",
           "parch"
          ],
          [
           0.31038675921422926,
           "ale",
           "parch"
          ],
          [
           0.31038675921422926,
           "ale",
           "parch"
          ],
          [
           0.31038675921422926,
           "ale",
           "parch"
          ],
          [
           0.31038675921422926,
           "ale",
           "parch"
          ],
          [
           0.31038675921422926,
           "ale",
           "parch"
          ],
          [
           0.31038675921422926,
           "ale",
           "parch"
          ],
          [
           0.31038675921422926,
           "ale",
           "parch"
          ],
          [
           0.31038675921422926,
           "ale",
           "parch"
          ],
          [
           0.31038675921422926,
           "ale",
           "parch"
          ],
          [
           0.31038675921422926,
           "ale",
           "parch"
          ],
          [
           0.31038675921422926,
           "ale",
           "parch"
          ],
          [
           0.31038675921422926,
           "ale",
           "parch"
          ],
          [
           0.31038675921422926,
           "ale",
           "parch"
          ],
          [
           0.31038675921422926,
           "ale",
           "parch"
          ],
          [
           0.31038675921422926,
           "ale",
           "parch"
          ],
          [
           0.31038675921422926,
           "ale",
           "parch"
          ],
          [
           0.31038675921422926,
           "ale",
           "parch"
          ],
          [
           0.31038675921422926,
           "ale",
           "parch"
          ],
          [
           0.31038675921422926,
           "ale",
           "parch"
          ],
          [
           0.31038675921422926,
           "ale",
           "parch"
          ],
          [
           0.31038675921422926,
           "ale",
           "parch"
          ],
          [
           0.31038675921422926,
           "ale",
           "parch"
          ],
          [
           0.31038675921422926,
           "ale",
           "parch"
          ],
          [
           0.31038675921422926,
           "ale",
           "parch"
          ],
          [
           0.31038675921422926,
           "ale",
           "parch"
          ],
          [
           0.31038675921422926,
           "ale",
           "parch"
          ],
          [
           0.31038675921422926,
           "ale",
           "parch"
          ],
          [
           0.31038675921422926,
           "ale",
           "parch"
          ],
          [
           0.31038675921422926,
           "ale",
           "parch"
          ],
          [
           0.31038675921422926,
           "ale",
           "parch"
          ],
          [
           0.31038675921422926,
           "ale",
           "parch"
          ],
          [
           0.31038675921422926,
           "ale",
           "parch"
          ],
          [
           0.31038675921422926,
           "ale",
           "parch"
          ],
          [
           0.31038675921422926,
           "ale",
           "parch"
          ],
          [
           0.31038675921422926,
           "ale",
           "parch"
          ],
          [
           0.31038675921422926,
           "ale",
           "parch"
          ],
          [
           0.31038675921422926,
           "ale",
           "parch"
          ],
          [
           0.31038675921422926,
           "ale",
           "parch"
          ],
          [
           0.31038675921422926,
           "ale",
           "parch"
          ]
         ],
         "hovertemplate": "<b>%{hovertext}</b><br><br>prediction=%{y:.3f}<br>mean_prediction=%{customdata[0]:.3f}<extra></extra>",
         "hovertext": [
          "ale",
          "ale",
          "ale",
          "ale",
          "ale",
          "ale",
          "ale",
          "ale",
          "ale",
          "ale",
          "ale",
          "ale",
          "ale",
          "ale",
          "ale",
          "ale",
          "ale",
          "ale",
          "ale",
          "ale",
          "ale",
          "ale",
          "ale",
          "ale",
          "ale",
          "ale",
          "ale",
          "ale",
          "ale",
          "ale",
          "ale",
          "ale",
          "ale",
          "ale",
          "ale",
          "ale",
          "ale",
          "ale",
          "ale",
          "ale",
          "ale",
          "ale",
          "ale",
          "ale",
          "ale",
          "ale",
          "ale",
          "ale",
          "ale",
          "ale",
          "ale",
          "ale",
          "ale",
          "ale",
          "ale",
          "ale",
          "ale",
          "ale",
          "ale",
          "ale",
          "ale",
          "ale",
          "ale",
          "ale",
          "ale",
          "ale",
          "ale",
          "ale",
          "ale",
          "ale",
          "ale",
          "ale",
          "ale",
          "ale",
          "ale",
          "ale",
          "ale",
          "ale",
          "ale",
          "ale",
          "ale",
          "ale",
          "ale",
          "ale",
          "ale",
          "ale",
          "ale",
          "ale",
          "ale",
          "ale",
          "ale",
          "ale",
          "ale",
          "ale",
          "ale",
          "ale",
          "ale",
          "ale",
          "ale",
          "ale",
          "ale"
         ],
         "legendgroup": "ale",
         "line": {
          "color": "#4378bf",
          "dash": "solid",
          "width": 2
         },
         "marker": {
          "symbol": "circle"
         },
         "mode": "lines",
         "name": "ale",
         "opacity": 1,
         "orientation": "v",
         "showlegend": false,
         "type": "scatter",
         "x": [
          0,
          0.09,
          0.18,
          0.27,
          0.36,
          0.44999999999999996,
          0.54,
          0.63,
          0.72,
          0.8099999999999999,
          0.8999999999999999,
          0.99,
          1.08,
          1.17,
          1.26,
          1.3499999999999999,
          1.44,
          1.53,
          1.6199999999999999,
          1.71,
          1.7999999999999998,
          1.89,
          1.98,
          2.07,
          2.16,
          2.25,
          2.34,
          2.4299999999999997,
          2.52,
          2.61,
          2.6999999999999997,
          2.79,
          2.88,
          2.9699999999999998,
          3.06,
          3.15,
          3.2399999999999998,
          3.33,
          3.42,
          3.51,
          3.5999999999999996,
          3.69,
          3.78,
          3.8699999999999997,
          3.96,
          4.05,
          4.14,
          4.2299999999999995,
          4.32,
          4.41,
          4.5,
          4.59,
          4.68,
          4.77,
          4.859999999999999,
          4.95,
          5.04,
          5.13,
          5.22,
          5.31,
          5.3999999999999995,
          5.49,
          5.58,
          5.67,
          5.76,
          5.85,
          5.9399999999999995,
          6.029999999999999,
          6.12,
          6.21,
          6.3,
          6.39,
          6.4799999999999995,
          6.569999999999999,
          6.66,
          6.75,
          6.84,
          6.93,
          7.02,
          7.109999999999999,
          7.199999999999999,
          7.29,
          7.38,
          7.47,
          7.56,
          7.6499999999999995,
          7.739999999999999,
          7.83,
          7.92,
          8.01,
          8.1,
          8.19,
          8.28,
          8.37,
          8.459999999999999,
          8.549999999999999,
          8.64,
          8.73,
          8.82,
          8.91,
          9
         ],
         "xaxis": "x2",
         "y": [
          0.387127983613731,
          0.39112120360349445,
          0.39480189371101776,
          0.397856887298768,
          0.4000260806829683,
          0.40188018940367787,
          0.4032265012261819,
          0.40419222774276353,
          0.4051391697825676,
          0.4053932017626126,
          0.4057523773606785,
          0.40660995181418813,
          0.4073434883454772,
          0.4076579401063744,
          0.4078184943275898,
          0.4071914185001845,
          0.4061212239251213,
          0.404437717841875,
          0.40266046435197395,
          0.40058025760528554,
          0.39826759969893355,
          0.3955125604266244,
          0.39274481523414734,
          0.38993216064186276,
          0.3872073313401806,
          0.38473350147930385,
          0.38193309836674105,
          0.3795313732747385,
          0.3776857620999629,
          0.3759299159961834,
          0.3741667988651314,
          0.37244847737553655,
          0.37072258037349276,
          0.3689626805389024,
          0.3671860717703707,
          0.36561187170710774,
          0.36415351308146215,
          0.3626353336553898,
          0.361227110654588,
          0.3597315264383099,
          0.35822871674002393,
          0.3568340017503432,
          0.3554169592237699,
          0.3541226038601686,
          0.35286528332909195,
          0.35162311810940117,
          0.3504600833170104,
          0.3492848773818259,
          0.34823444588582997,
          0.3472859727831844,
          0.3463888748925862,
          0.3454781623209832,
          0.3446580456555935,
          0.34396105439946756,
          0.34320659572798295,
          0.34251138994372143,
          0.34193566278192533,
          0.34128830828305706,
          0.3406187757213085,
          0.3399749374273372,
          0.3393060210243755,
          0.33869156761966585,
          0.3380161540443399,
          0.33727748309447514,
          0.33650034466371703,
          0.3357205636073884,
          0.33492280397687657,
          0.33418979653536635,
          0.33348769021734287,
          0.33275253752802103,
          0.33201751787350403,
          0.3312746359861487,
          0.33052666758975763,
          0.3297270279627298,
          0.3289302839168916,
          0.32811440822583127,
          0.3272760355729629,
          0.32645047914142256,
          0.325624000495478,
          0.3247823168121203,
          0.3239429074639137,
          0.32311402839883996,
          0.32229648510787456,
          0.32148738078901573,
          0.320678542956124,
          0.3198727025626434,
          0.3190489388948827,
          0.31818664197935453,
          0.3173118705099051,
          0.31641255268149326,
          0.31551961675479245,
          0.31463529729159534,
          0.3137554094063675,
          0.31287736694362095,
          0.31199791099308294,
          0.3110932281941805,
          0.3101922377461036,
          0.3092994645255861,
          0.30841837902801467,
          0.3075516048532173,
          0.30669240805312403
         ],
         "yaxis": "y2"
        }
       ],
       "layout": {
        "annotations": [
         {
          "font": {
           "size": 13
          },
          "showarrow": false,
          "text": "sibsp",
          "x": 0.2375,
          "xanchor": "center",
          "xref": "paper",
          "y": 0.425,
          "yanchor": "bottom",
          "yref": "paper"
         },
         {
          "font": {
           "size": 13
          },
          "showarrow": false,
          "text": "parch",
          "x": 0.7625,
          "xanchor": "center",
          "xref": "paper",
          "y": 0.425,
          "yanchor": "bottom",
          "yref": "paper"
         },
         {
          "font": {
           "size": 13
          },
          "showarrow": false,
          "text": "age",
          "x": 0.2375,
          "xanchor": "center",
          "xref": "paper",
          "y": 1,
          "yanchor": "bottom",
          "yref": "paper"
         },
         {
          "font": {
           "size": 13
          },
          "showarrow": false,
          "text": "fare",
          "x": 0.7625,
          "xanchor": "center",
          "xref": "paper",
          "y": 1,
          "yanchor": "bottom",
          "yref": "paper"
         },
         {
          "font": {
           "size": 13
          },
          "showarrow": false,
          "text": "prediction",
          "textangle": -90,
          "x": -0.07,
          "xref": "paper",
          "y": 0.5,
          "yref": "paper"
         }
        ],
        "font": {
         "color": "#371ea3"
        },
        "height": 829,
        "hovermode": "x unified",
        "legend": {
         "font": {
          "size": 11
         },
         "itemsizing": "constant",
         "orientation": "h",
         "title": {
          "font": {
           "size": 12
          },
          "text": "label"
         },
         "tracegroupgap": 0,
         "x": 1,
         "xanchor": "right",
         "y": 1.0361881785283473,
         "yanchor": "bottom"
        },
        "margin": {
         "b": 71,
         "r": 30,
         "t": 78
        },
        "template": {
         "data": {
          "scatter": [
           {
            "type": "scatter"
           }
          ]
         }
        },
        "title": {
         "font": {
          "size": 16
         },
         "text": "Aggregated Profiles",
         "x": 0.15
        },
        "xaxis": {
         "anchor": "y",
         "automargin": true,
         "domain": [
          0,
          0.475
         ],
         "fixedrange": true,
         "gridwidth": 2,
         "showticklabels": true,
         "tickcolor": "white",
         "ticklen": 3,
         "ticks": "outside",
         "title": {
          "text": ""
         },
         "type": "linear",
         "zeroline": false
        },
        "xaxis2": {
         "anchor": "y2",
         "automargin": true,
         "domain": [
          0.525,
          1
         ],
         "fixedrange": true,
         "gridwidth": 2,
         "showticklabels": true,
         "tickcolor": "white",
         "ticklen": 3,
         "ticks": "outside",
         "title": {
          "text": ""
         },
         "type": "linear",
         "zeroline": false
        },
        "xaxis3": {
         "anchor": "y3",
         "automargin": true,
         "domain": [
          0,
          0.475
         ],
         "fixedrange": true,
         "gridwidth": 2,
         "showticklabels": true,
         "tickcolor": "white",
         "ticklen": 3,
         "ticks": "outside",
         "title": {
          "text": ""
         },
         "type": "linear",
         "zeroline": false
        },
        "xaxis4": {
         "anchor": "y4",
         "automargin": true,
         "domain": [
          0.525,
          1
         ],
         "fixedrange": true,
         "gridwidth": 2,
         "showticklabels": true,
         "tickcolor": "white",
         "ticklen": 3,
         "ticks": "outside",
         "title": {
          "text": ""
         },
         "type": "linear",
         "zeroline": false
        },
        "yaxis": {
         "anchor": "x",
         "automargin": true,
         "domain": [
          0,
          0.425
         ],
         "fixedrange": true,
         "gridwidth": 2,
         "range": [
          -0.42476501043963066,
          1.1113642293910486
         ],
         "tickcolor": "white",
         "ticklen": 3,
         "ticks": "outside",
         "title": {
          "text": ""
         },
         "type": "linear",
         "zeroline": false
        },
        "yaxis2": {
         "anchor": "x2",
         "automargin": true,
         "domain": [
          0,
          0.425
         ],
         "fixedrange": true,
         "gridwidth": 2,
         "matches": "y",
         "showticklabels": false,
         "tickcolor": "white",
         "ticklen": 3,
         "ticks": "outside",
         "title": {
          "text": ""
         },
         "type": "linear",
         "zeroline": false
        },
        "yaxis3": {
         "anchor": "x3",
         "automargin": true,
         "domain": [
          0.575,
          1
         ],
         "fixedrange": true,
         "gridwidth": 2,
         "matches": "y",
         "range": [
          -0.42476501043963066,
          1.1113642293910486
         ],
         "tickcolor": "white",
         "ticklen": 3,
         "ticks": "outside",
         "title": {
          "text": ""
         },
         "type": "linear",
         "zeroline": false
        },
        "yaxis4": {
         "anchor": "x4",
         "automargin": true,
         "domain": [
          0.575,
          1
         ],
         "fixedrange": true,
         "gridwidth": 2,
         "matches": "y",
         "showticklabels": false,
         "tickcolor": "white",
         "ticklen": 3,
         "ticks": "outside",
         "title": {
          "text": ""
         },
         "type": "linear",
         "zeroline": false
        }
       }
      }
     },
     "metadata": {},
     "output_type": "display_data"
    }
   ],
   "source": [
    "pdp_num = exp.model_profile(type = 'partial', label=\"pdp\")\n",
    "ale_num = exp.model_profile(type = 'accumulated', label=\"ale\")\n",
    "pdp_num.plot(ale_num)"
   ]
  },
  {
   "cell_type": "code",
   "execution_count": null,
   "metadata": {},
   "outputs": [
    {
     "name": "stderr",
     "output_type": "stream",
     "text": [
      "Calculating ceteris paribus: 100%|██████████| 2/2 [00:00<00:00, 105.27it/s]\n",
      "Calculating ceteris paribus: 100%|██████████| 2/2 [00:00<00:00, 117.67it/s]\n",
      "Calculating accumulated dependency: 100%|██████████| 2/2 [00:00<00:00, 33.04it/s]\n"
     ]
    },
    {
     "data": {
      "application/vnd.plotly.v1+json": {
       "config": {
        "displaylogo": false,
        "modeBarButtonsToRemove": [
         "sendDataToCloud",
         "lasso2d",
         "autoScale2d",
         "select2d",
         "zoom2d",
         "pan2d",
         "zoomIn2d",
         "zoomOut2d",
         "resetScale2d",
         "toggleSpikelines",
         "hoverCompareCartesian",
         "hoverClosestCartesian"
        ],
        "plotlyServerURL": "https://plot.ly",
        "staticPlot": false,
        "toImageButtonOptions": {
         "height": null,
         "width": null
        }
       },
       "data": [
        {
         "alignmentgroup": "True",
         "base": [
          0.36799091193112027,
          0.36799091193112027,
          0.36799091193112027,
          0.36799091193112027,
          0.36799091193112027,
          0.36799091193112027,
          0.36799091193112027
         ],
         "customdata": [
          [
           0.2613435181062279,
           "ale",
           "class"
          ],
          [
           0.3583319138110259,
           "ale",
           "class"
          ],
          [
           0.48239018196622657,
           "ale",
           "class"
          ],
          [
           0.2163104218615114,
           "ale",
           "class"
          ],
          [
           0.1831933018704274,
           "ale",
           "class"
          ],
          [
           0.03383215446048049,
           "ale",
           "class"
          ],
          [
           0.7014571248990293,
           "ale",
           "class"
          ]
         ],
         "hovertemplate": "<b>%{hovertext}</b><br><br>mean_prediction=%{base:.3f}<br>prediction=%{customdata[0]:.3f}<extra></extra>",
         "hovertext": [
          "ale",
          "ale",
          "ale",
          "ale",
          "ale",
          "ale",
          "ale"
         ],
         "legendgroup": "ale",
         "marker": {
          "color": "#8bdcbe",
          "pattern": {
           "shape": ""
          }
         },
         "name": "ale",
         "offsetgroup": "ale",
         "orientation": "v",
         "showlegend": true,
         "textposition": "auto",
         "type": "bar",
         "x": [
          "3rd",
          "2nd",
          "1st",
          "engineering crew",
          "victualling crew",
          "restaurant staff",
          "deck crew"
         ],
         "xaxis": "x",
         "y": [
          -0.10664739382489236,
          -0.009658998120094353,
          0.1143992700351063,
          -0.15168049006960888,
          -0.18479761006069287,
          -0.3341587574706398,
          0.33346621296790907
         ],
         "yaxis": "y"
        },
        {
         "alignmentgroup": "True",
         "base": [
          0.36799091193112027,
          0.36799091193112027
         ],
         "customdata": [
          [
           0.2613435181062279,
           "ale",
           "gender"
          ],
          [
           0.8137160722989253,
           "ale",
           "gender"
          ]
         ],
         "hovertemplate": "<b>%{hovertext}</b><br><br>mean_prediction=%{base:.3f}<br>prediction=%{customdata[0]:.3f}<extra></extra>",
         "hovertext": [
          "ale",
          "ale"
         ],
         "legendgroup": "ale",
         "marker": {
          "color": "#8bdcbe",
          "pattern": {
           "shape": ""
          }
         },
         "name": "ale",
         "offsetgroup": "ale",
         "orientation": "v",
         "showlegend": false,
         "textposition": "auto",
         "type": "bar",
         "x": [
          "male",
          "female"
         ],
         "xaxis": "x2",
         "y": [
          -0.10664739382489236,
          0.445725160367805
         ],
         "yaxis": "y2"
        },
        {
         "alignmentgroup": "True",
         "base": [
          0.30949101290829284,
          0.30949101290829284,
          0.30949101290829284,
          0.30949101290829284,
          0.30949101290829284,
          0.30949101290829284,
          0.30949101290829284
         ],
         "customdata": [
          [
           0.22355968138459484,
           "pdp",
           "class"
          ],
          [
           0.26996442583560304,
           "pdp",
           "class"
          ],
          [
           0.5723461338879198,
           "pdp",
           "class"
          ],
          [
           0.3821605521635052,
           "pdp",
           "class"
          ],
          [
           0.33603375969723487,
           "pdp",
           "class"
          ],
          [
           0.1850965331973119,
           "pdp",
           "class"
          ],
          [
           0.7041559580072123,
           "pdp",
           "class"
          ]
         ],
         "hovertemplate": "<b>%{hovertext}</b><br><br>mean_prediction=%{base:.3f}<br>prediction=%{customdata[0]:.3f}<extra></extra>",
         "hovertext": [
          "pdp",
          "pdp",
          "pdp",
          "pdp",
          "pdp",
          "pdp",
          "pdp"
         ],
         "legendgroup": "pdp",
         "marker": {
          "color": "#4378bf",
          "pattern": {
           "shape": ""
          }
         },
         "name": "pdp",
         "offsetgroup": "pdp",
         "orientation": "v",
         "showlegend": true,
         "textposition": "auto",
         "type": "bar",
         "x": [
          "3rd",
          "2nd",
          "1st",
          "engineering crew",
          "victualling crew",
          "restaurant staff",
          "deck crew"
         ],
         "xaxis": "x",
         "y": [
          -0.085931331523698,
          -0.0395265870726898,
          0.26285512097962693,
          0.07266953925521236,
          0.02654274678894203,
          -0.12439447971098094,
          0.3946649450989195
         ],
         "yaxis": "y"
        },
        {
         "alignmentgroup": "True",
         "base": [
          0.30949101290829284,
          0.30949101290829284
         ],
         "customdata": [
          [
           0.20804122084407892,
           "pdp",
           "gender"
          ],
          [
           0.8010752113632225,
           "pdp",
           "gender"
          ]
         ],
         "hovertemplate": "<b>%{hovertext}</b><br><br>mean_prediction=%{base:.3f}<br>prediction=%{customdata[0]:.3f}<extra></extra>",
         "hovertext": [
          "pdp",
          "pdp"
         ],
         "legendgroup": "pdp",
         "marker": {
          "color": "#4378bf",
          "pattern": {
           "shape": ""
          }
         },
         "name": "pdp",
         "offsetgroup": "pdp",
         "orientation": "v",
         "showlegend": false,
         "textposition": "auto",
         "type": "bar",
         "x": [
          "male",
          "female"
         ],
         "xaxis": "x2",
         "y": [
          -0.10144979206421392,
          0.4915841984549296
         ],
         "yaxis": "y2"
        }
       ],
       "layout": {
        "annotations": [
         {
          "font": {
           "size": 13
          },
          "showarrow": false,
          "text": "class",
          "x": 0.2375,
          "xanchor": "center",
          "xref": "paper",
          "y": 1,
          "yanchor": "bottom",
          "yref": "paper"
         },
         {
          "font": {
           "size": 13
          },
          "showarrow": false,
          "text": "gender",
          "x": 0.7625,
          "xanchor": "center",
          "xref": "paper",
          "y": 1,
          "yanchor": "bottom",
          "yref": "paper"
         },
         {
          "font": {
           "size": 13
          },
          "showarrow": false,
          "text": "prediction",
          "textangle": -90,
          "x": -0.07,
          "xref": "paper",
          "y": 0.5,
          "yref": "paper"
         }
        ],
        "barmode": "group",
        "font": {
         "color": "#371ea3"
        },
        "height": 489,
        "hovermode": "x unified",
        "legend": {
         "font": {
          "size": 11
         },
         "itemsizing": "constant",
         "orientation": "h",
         "title": {
          "font": {
           "size": 12
          },
          "text": "label"
         },
         "tracegroupgap": 0,
         "x": 1,
         "xanchor": "right",
         "y": 1.0613496932515338,
         "yanchor": "bottom"
        },
        "margin": {
         "b": 71,
         "r": 30,
         "t": 78
        },
        "shapes": [
         {
          "layer": "below",
          "line": {
           "color": "#371ea3",
           "dash": "dot",
           "width": 1.5
          },
          "type": "line",
          "x0": 0,
          "x1": 1,
          "xref": "x domain",
          "y0": 0.36799091193112027,
          "y1": 0.36799091193112027,
          "yref": "y"
         },
         {
          "layer": "below",
          "line": {
           "color": "#371ea3",
           "dash": "dot",
           "width": 1.5
          },
          "type": "line",
          "x0": 0,
          "x1": 1,
          "xref": "x2 domain",
          "y0": 0.36799091193112027,
          "y1": 0.36799091193112027,
          "yref": "y2"
         },
         {
          "layer": "below",
          "line": {
           "color": "#371ea3",
           "dash": "dot",
           "width": 1.5
          },
          "type": "line",
          "x0": 0,
          "x1": 1,
          "xref": "x domain",
          "y0": 0.36799091193112027,
          "y1": 0.36799091193112027,
          "yref": "y"
         },
         {
          "layer": "below",
          "line": {
           "color": "#371ea3",
           "dash": "dot",
           "width": 1.5
          },
          "type": "line",
          "x0": 0,
          "x1": 1,
          "xref": "x2 domain",
          "y0": 0.36799091193112027,
          "y1": 0.36799091193112027,
          "yref": "y2"
         },
         {
          "layer": "below",
          "line": {
           "color": "#371ea3",
           "dash": "dot",
           "width": 1.5
          },
          "type": "line",
          "x0": 0,
          "x1": 1,
          "xref": "x domain",
          "y0": 0.30949101290829284,
          "y1": 0.30949101290829284,
          "yref": "y"
         },
         {
          "layer": "below",
          "line": {
           "color": "#371ea3",
           "dash": "dot",
           "width": 1.5
          },
          "type": "line",
          "x0": 0,
          "x1": 1,
          "xref": "x2 domain",
          "y0": 0.30949101290829284,
          "y1": 0.30949101290829284,
          "yref": "y2"
         },
         {
          "layer": "below",
          "line": {
           "color": "#371ea3",
           "dash": "dot",
           "width": 1.5
          },
          "type": "line",
          "x0": 0,
          "x1": 1,
          "xref": "x domain",
          "y0": 0.30949101290829284,
          "y1": 0.30949101290829284,
          "yref": "y"
         },
         {
          "layer": "below",
          "line": {
           "color": "#371ea3",
           "dash": "dot",
           "width": 1.5
          },
          "type": "line",
          "x0": 0,
          "x1": 1,
          "xref": "x2 domain",
          "y0": 0.30949101290829284,
          "y1": 0.30949101290829284,
          "yref": "y2"
         }
        ],
        "template": {
         "data": {
          "scatter": [
           {
            "type": "scatter"
           }
          ]
         }
        },
        "title": {
         "font": {
          "size": 16
         },
         "text": "Aggregated Profiles",
         "x": 0.15
        },
        "xaxis": {
         "anchor": "y",
         "automargin": true,
         "domain": [
          0,
          0.475
         ],
         "fixedrange": true,
         "gridwidth": 2,
         "showticklabels": true,
         "tickcolor": "white",
         "ticklen": 10,
         "ticks": "outside",
         "title": {
          "text": ""
         },
         "type": "category"
        },
        "xaxis2": {
         "anchor": "y2",
         "automargin": true,
         "domain": [
          0.525,
          1
         ],
         "fixedrange": true,
         "gridwidth": 2,
         "showticklabels": true,
         "tickcolor": "white",
         "ticklen": 10,
         "ticks": "outside",
         "title": {
          "text": ""
         },
         "type": "category"
        },
        "yaxis": {
         "anchor": "x",
         "automargin": true,
         "domain": [
          0,
          1
         ],
         "fixedrange": true,
         "gridwidth": 2,
         "range": [
          -0.04415623732336399,
          0.8917044640827698
         ],
         "tickcolor": "white",
         "ticklen": 3,
         "ticks": "outside",
         "title": {
          "text": ""
         },
         "type": "linear",
         "zeroline": false
        },
        "yaxis2": {
         "anchor": "x2",
         "automargin": true,
         "domain": [
          0,
          1
         ],
         "fixedrange": true,
         "gridwidth": 2,
         "matches": "y",
         "showticklabels": false,
         "tickcolor": "white",
         "ticklen": 3,
         "ticks": "outside",
         "title": {
          "text": ""
         },
         "type": "linear",
         "zeroline": false
        }
       }
      }
     },
     "metadata": {},
     "output_type": "display_data"
    }
   ],
   "source": [
    "pdp_cat = exp.model_profile(type = 'partial', variable_type='categorical',\n",
    "                            variables = [\"gender\",\"class\"], label=\"pdp\")\n",
    "ale_cat = exp.model_profile(type = 'accumulated', variable_type='categorical',\n",
    "                            variables = [\"gender\",\"class\"], label=\"ale\")\n",
    "ale_cat.plot(pdp_cat)"
   ]
  },
  {
   "attachments": {},
   "cell_type": "markdown",
   "metadata": {},
   "source": [
    "#### (Neptune) Upload model profile plots to Neptune"
   ]
  },
  {
   "cell_type": "code",
   "execution_count": null,
   "metadata": {},
   "outputs": [],
   "source": [
    "run[\"model/profile/num\"].upload(pdp_num.plot(ale_num, show=False))\n",
    "run[\"model/profile/cat\"].upload(ale_cat.plot(pdp_cat, show=False))"
   ]
  },
  {
   "attachments": {},
   "cell_type": "markdown",
   "metadata": {},
   "source": [
    "## Prediction-level explanations"
   ]
  },
  {
   "attachments": {},
   "cell_type": "markdown",
   "metadata": {},
   "source": [
    "Let's create two example persons for this tutorial."
   ]
  },
  {
   "cell_type": "code",
   "execution_count": 82,
   "metadata": {},
   "outputs": [],
   "source": [
    "john = pd.DataFrame({'gender': ['male'],\n",
    "                       'age': [25],\n",
    "                       'class': ['1st'],\n",
    "                       'embarked': ['Southampton'],\n",
    "                       'fare': [72],\n",
    "                       'sibsp': [0],\n",
    "                       'parch': 0},\n",
    "                      index = ['John'])\n",
    "\n",
    "mary = pd.DataFrame({'gender': ['female'],\n",
    "                     'age': [35],\n",
    "                     'class': ['3rd'],\n",
    "                     'embarked': ['Cherbourg'],\n",
    "                     'fare': [25],\n",
    "                     'sibsp': [0],\n",
    "                     'parch': [0]},\n",
    "                     index = ['Mary'])"
   ]
  },
  {
   "attachments": {},
   "cell_type": "markdown",
   "metadata": {},
   "source": [
    "### predict_parts\n",
    "This function calculates Variable Attributions as Break Down, iBreakDown or Shapley Values explanations.  \n",
    "Model prediction is decomposed into parts that are attributed for particular variables."
   ]
  },
  {
   "attachments": {},
   "cell_type": "markdown",
   "metadata": {},
   "source": [
    "Breakdown values for John's predictions"
   ]
  },
  {
   "cell_type": "code",
   "execution_count": 83,
   "metadata": {},
   "outputs": [
    {
     "data": {
      "application/vnd.plotly.v1+json": {
       "config": {
        "displaylogo": false,
        "modeBarButtonsToRemove": [
         "sendDataToCloud",
         "lasso2d",
         "autoScale2d",
         "select2d",
         "zoom2d",
         "pan2d",
         "zoomIn2d",
         "zoomOut2d",
         "resetScale2d",
         "toggleSpikelines",
         "hoverCompareCartesian",
         "hoverClosestCartesian"
        ],
        "plotlyServerURL": "https://plot.ly",
        "staticPlot": false,
        "toImageButtonOptions": {
         "height": null,
         "width": null
        }
       },
       "data": [
        {
         "base": 0.3367353380775521,
         "connector": {
          "line": {
           "color": "#371ea3",
           "dash": "solid",
           "width": 1
          },
          "mode": "spanning"
         },
         "decreasing": {
          "marker": {
           "color": "#f05a71"
          }
         },
         "hoverinfo": "text+delta",
         "hoverlabel": {
          "bgcolor": "rgba(0,0,0,0.8)"
         },
         "hovertext": [
          "Average response: 0.337<br>Prediction: 0.081",
          "class = 1st<br>increases average response by",
          "age = 25.0<br>increases average response by",
          "sibsp = 0.0<br>decreases average response by",
          "fare = 72.0<br>decreases average response by",
          "parch = 0.0<br>decreases average response by",
          "embarked = Southampton<br>decreases average response by",
          "gender = male<br>decreases average response by",
          "Average response: 0.337<br>Prediction: 0.081"
         ],
         "increasing": {
          "marker": {
           "color": "#8bdcbe"
          }
         },
         "measure": [
          "relative",
          "relative",
          "relative",
          "relative",
          "relative",
          "relative",
          "relative",
          "relative",
          "total"
         ],
         "orientation": "h",
         "showlegend": false,
         "text": [
          "0.337",
          "+0.246",
          "+0.012",
          "-0.01",
          "-0.267",
          "-0.018",
          "-0.017",
          "-0.203",
          "0.081"
         ],
         "textposition": "outside",
         "totals": {
          "marker": {
           "color": "#371ea3"
          }
         },
         "type": "waterfall",
         "x": [
          0,
          0.246,
          0.012,
          -0.01,
          -0.267,
          -0.018,
          -0.017,
          -0.203,
          -0.255
         ],
         "xaxis": "x",
         "y": [
          "intercept",
          "class = 1st",
          "age = 25.0",
          "sibsp = 0.0",
          "fare = 72.0",
          "parch = 0.0",
          "embarked = Southampton",
          "gender = male",
          "prediction"
         ],
         "yaxis": "y"
        },
        {
         "base": 0.3367353380775521,
         "connector": {
          "line": {
           "color": "#371ea3",
           "dash": "solid",
           "width": 1
          },
          "mode": "spanning"
         },
         "decreasing": {
          "marker": {
           "color": "#f05a71"
          }
         },
         "hoverinfo": "text+delta",
         "hoverlabel": {
          "bgcolor": "rgba(0,0,0,0.8)"
         },
         "hovertext": [
          "Average response: 0.337<br>Prediction: 0.081",
          "fare:class = 72.0:1st<br>decreases average response by",
          "gender = male<br>decreases average response by",
          "age = 25.0<br>increases average response by",
          "sibsp = 0.0<br>decreases average response by",
          "embarked = Southampton<br>decreases average response by",
          "parch = 0.0<br>decreases average response by",
          "Average response: 0.337<br>Prediction: 0.081"
         ],
         "increasing": {
          "marker": {
           "color": "#8bdcbe"
          }
         },
         "measure": [
          "relative",
          "relative",
          "relative",
          "relative",
          "relative",
          "relative",
          "relative",
          "total"
         ],
         "orientation": "h",
         "showlegend": false,
         "text": [
          "0.337",
          "-0.001",
          "-0.137",
          "+0.023",
          "-0.058",
          "-0.036",
          "-0.046",
          "0.081"
         ],
         "textposition": "outside",
         "totals": {
          "marker": {
           "color": "#371ea3"
          }
         },
         "type": "waterfall",
         "x": [
          0,
          -0.001,
          -0.137,
          0.023,
          -0.058,
          -0.036,
          -0.046,
          -0.255
         ],
         "xaxis": "x2",
         "y": [
          "intercept",
          "fare:class = 72.0:1st",
          "gender = male",
          "age = 25.0",
          "sibsp = 0.0",
          "embarked = Southampton",
          "parch = 0.0",
          "prediction"
         ],
         "yaxis": "y2"
        }
       ],
       "layout": {
        "annotations": [
         {
          "font": {
           "size": 16
          },
          "showarrow": false,
          "text": "John",
          "x": 0.5,
          "xanchor": "center",
          "xref": "paper",
          "y": 1,
          "yanchor": "bottom",
          "yref": "paper"
         },
         {
          "font": {
           "size": 16
          },
          "showarrow": false,
          "text": "John+",
          "x": 0.5,
          "xanchor": "center",
          "xref": "paper",
          "y": 0.45,
          "yanchor": "bottom",
          "yref": "paper"
         },
         {
          "font": {
           "size": 16
          },
          "showarrow": false,
          "text": "contribution",
          "x": 0.5,
          "xanchor": "center",
          "xref": "paper",
          "y": 0,
          "yanchor": "top",
          "yref": "paper",
          "yshift": -30
         }
        ],
        "font": {
         "color": "#371ea3"
        },
        "height": 567,
        "margin": {
         "b": 71,
         "r": 30,
         "t": 78
        },
        "shapes": [
         {
          "line": {
           "color": "#371ea3",
           "dash": "dot",
           "width": 1.5
          },
          "type": "line",
          "x0": 0.3367353380775521,
          "x1": 0.3367353380775521,
          "xref": "x",
          "y0": -1,
          "y1": 9,
          "yref": "y"
         },
         {
          "line": {
           "color": "#371ea3",
           "dash": "dot",
           "width": 1.5
          },
          "type": "line",
          "x0": 0.3367353380775521,
          "x1": 0.3367353380775521,
          "xref": "x2",
          "y0": -1,
          "y1": 8,
          "yref": "y2"
         }
        ],
        "template": {
         "data": {
          "scatter": [
           {
            "type": "scatter"
           }
          ]
         }
        },
        "title": {
         "text": "Break Down",
         "x": 0.15
        },
        "xaxis": {
         "anchor": "y",
         "automargin": true,
         "domain": [
          0,
          1
         ],
         "fixedrange": true,
         "gridwidth": 2,
         "matches": "x2",
         "range": [
          0.0039000000000000007,
          0.6720999999999999
         ],
         "showticklabels": false,
         "tickcolor": "white",
         "ticklen": 3,
         "ticks": "outside",
         "type": "linear",
         "zeroline": false
        },
        "xaxis2": {
         "anchor": "y2",
         "automargin": true,
         "domain": [
          0,
          1
         ],
         "fixedrange": true,
         "gridwidth": 2,
         "range": [
          0.0039000000000000007,
          0.6720999999999999
         ],
         "tickcolor": "white",
         "ticklen": 3,
         "ticks": "outside",
         "type": "linear",
         "zeroline": false
        },
        "yaxis": {
         "anchor": "x",
         "automargin": true,
         "autorange": "reversed",
         "domain": [
          0.55,
          1
         ],
         "fixedrange": true,
         "gridwidth": 2,
         "tickcolor": "white",
         "ticklen": 10,
         "ticks": "outside",
         "type": "category"
        },
        "yaxis2": {
         "anchor": "x2",
         "automargin": true,
         "autorange": "reversed",
         "domain": [
          0,
          0.45
         ],
         "fixedrange": true,
         "gridwidth": 2,
         "tickcolor": "white",
         "ticklen": 10,
         "ticks": "outside",
         "type": "category"
        }
       }
      }
     },
     "metadata": {},
     "output_type": "display_data"
    }
   ],
   "source": [
    "bd_john = exp.predict_parts(john, type='break_down', label=john.index[0])\n",
    "bd_interactions_john = exp.predict_parts(john, type='break_down_interactions', label=\"John+\")\n",
    "bd_john.plot(bd_interactions_john)"
   ]
  },
  {
   "attachments": {},
   "cell_type": "markdown",
   "metadata": {},
   "source": [
    "Shapely values for Mary's predictions"
   ]
  },
  {
   "cell_type": "code",
   "execution_count": 84,
   "metadata": {},
   "outputs": [
    {
     "data": {
      "application/vnd.plotly.v1+json": {
       "config": {
        "displaylogo": false,
        "modeBarButtonsToRemove": [
         "sendDataToCloud",
         "lasso2d",
         "autoScale2d",
         "select2d",
         "zoom2d",
         "pan2d",
         "zoomIn2d",
         "zoomOut2d",
         "resetScale2d",
         "toggleSpikelines",
         "hoverCompareCartesian",
         "hoverClosestCartesian"
        ],
        "plotlyServerURL": "https://plot.ly",
        "staticPlot": false,
        "toImageButtonOptions": {
         "height": null,
         "width": null
        }
       },
       "data": [
        {
         "base": 0.3367353380775521,
         "hoverinfo": "text",
         "hoverlabel": {
          "bgcolor": "rgba(0,0,0,0.8)"
         },
         "hovertext": [
          "Average response: 0.337<br>Prediction: 0.893<br>gender = female<br>increases average response <br>by 0.487",
          "Average response: 0.337<br>Prediction: 0.893<br>embarked = Cherbourg<br>increases average response <br>by 0.184",
          "Average response: 0.337<br>Prediction: 0.893<br>class = 3rd<br>decreases average response <br>by 0.138",
          "Average response: 0.337<br>Prediction: 0.893<br>parch = 0.0<br>increases average response <br>by 0.011",
          "Average response: 0.337<br>Prediction: 0.893<br>sibsp = 0.0<br>increases average response <br>by 0.007",
          "Average response: 0.337<br>Prediction: 0.893<br>fare = 25.0<br>increases average response <br>by 0.005",
          "Average response: 0.337<br>Prediction: 0.893<br>age = 35.0<br>increases average response <br>by 0.001"
         ],
         "marker": {
          "color": [
           "#8bdcbe",
           "#8bdcbe",
           "#f05a71",
           "#8bdcbe",
           "#8bdcbe",
           "#8bdcbe",
           "#8bdcbe"
          ]
         },
         "orientation": "h",
         "showlegend": false,
         "text": [
          "+0.487",
          "+0.184",
          "-0.138",
          "+0.011",
          "+0.007",
          "+0.005",
          "+0.001"
         ],
         "textposition": "outside",
         "type": "bar",
         "x": [
          0.487,
          0.184,
          -0.138,
          0.011,
          0.007,
          0.005,
          0.001
         ],
         "xaxis": "x",
         "y": [
          "gender = female",
          "embarked = Cherbourg",
          "class = 3rd",
          "parch = 0.0",
          "sibsp = 0.0",
          "fare = 25.0",
          "age = 35.0"
         ],
         "yaxis": "y"
        }
       ],
       "layout": {
        "annotations": [
         {
          "font": {
           "size": 16
          },
          "showarrow": false,
          "text": "Mary",
          "x": 0.5,
          "xanchor": "center",
          "xref": "paper",
          "y": 1,
          "yanchor": "bottom",
          "yref": "paper"
         },
         {
          "font": {
           "size": 16
          },
          "showarrow": false,
          "text": "contribution",
          "x": 0.5,
          "xanchor": "center",
          "xref": "paper",
          "y": 0,
          "yanchor": "top",
          "yref": "paper",
          "yshift": -30
         }
        ],
        "font": {
         "color": "#371ea3"
        },
        "height": 293,
        "margin": {
         "b": 71,
         "r": 30,
         "t": 78
        },
        "shapes": [
         {
          "line": {
           "color": "#371ea3",
           "dash": "dot",
           "width": 1.5
          },
          "type": "line",
          "x0": 0.3367353380775521,
          "x1": 0.3367353380775521,
          "xref": "x",
          "y0": -1,
          "y1": 7,
          "yref": "y"
         }
        ],
        "template": {
         "data": {
          "scatter": [
           {
            "type": "scatter"
           }
          ]
         }
        },
        "title": {
         "text": "Shapley Values",
         "x": 0.15
        },
        "xaxis": {
         "anchor": "y",
         "automargin": true,
         "domain": [
          0,
          1
         ],
         "fixedrange": true,
         "gridwidth": 2,
         "range": [
          0.10498533807755211,
          0.9174853380775521
         ],
         "tickcolor": "white",
         "ticklen": 3,
         "ticks": "outside",
         "type": "linear",
         "zeroline": false
        },
        "yaxis": {
         "anchor": "x",
         "automargin": true,
         "autorange": "reversed",
         "domain": [
          0,
          1
         ],
         "fixedrange": true,
         "gridwidth": 2,
         "tickcolor": "white",
         "ticklen": 10,
         "ticks": "outside",
         "type": "category"
        }
       }
      }
     },
     "metadata": {},
     "output_type": "display_data"
    }
   ],
   "source": [
    "sh_mary = exp.predict_parts(mary, type='shap', B = 10, label=mary.index[0])\n",
    "sh_mary.plot()"
   ]
  },
  {
   "attachments": {},
   "cell_type": "markdown",
   "metadata": {},
   "source": [
    "#### (Neptune) Upload plots to Neptune"
   ]
  },
  {
   "cell_type": "code",
   "execution_count": 85,
   "metadata": {},
   "outputs": [],
   "source": [
    "run[\"prediction/breakdown/john\"].upload(bd_john.plot(bd_interactions_john, show=False))\n",
    "run[\"prediction/shapely/mary\"].upload(sh_mary.plot(show=False))"
   ]
  },
  {
   "attachments": {},
   "cell_type": "markdown",
   "metadata": {},
   "source": [
    "### predict_profile\n",
    "\n",
    "This function computes individual profiles aka Ceteris Paribus Profiles."
   ]
  },
  {
   "cell_type": "code",
   "execution_count": 86,
   "metadata": {},
   "outputs": [
    {
     "name": "stderr",
     "output_type": "stream",
     "text": [
      "Calculating ceteris paribus: 100%|██████████| 7/7 [00:00<00:00, 212.49it/s]\n",
      "Calculating ceteris paribus: 100%|██████████| 7/7 [00:00<00:00, 154.67it/s]\n"
     ]
    }
   ],
   "source": [
    "cp_mary = exp.predict_profile(mary, label=mary.index[0])\n",
    "cp_john = exp.predict_profile(john, label=john.index[0])"
   ]
  },
  {
   "cell_type": "code",
   "execution_count": 87,
   "metadata": {},
   "outputs": [
    {
     "data": {
      "application/vnd.plotly.v1+json": {
       "config": {
        "displaylogo": false,
        "modeBarButtonsToRemove": [
         "sendDataToCloud",
         "lasso2d",
         "autoScale2d",
         "select2d",
         "zoom2d",
         "pan2d",
         "zoomIn2d",
         "zoomOut2d",
         "resetScale2d",
         "toggleSpikelines",
         "hoverCompareCartesian",
         "hoverClosestCartesian"
        ],
        "plotlyServerURL": "https://plot.ly",
        "staticPlot": false,
        "toImageButtonOptions": {
         "height": null,
         "width": null
        }
       },
       "data": [
        {
         "customdata": [
          [
           "</br>id: Mary</br>prediction: 0.993</br>age: 0.1666666667</br></br>gender: female</br>class: 3rd</br>embarked: Cherbourg</br>fare: 25.0</br>sibsp: 0.0</br>parch: 0.0</br>_original_yhat_: 0.8929143977399959</br>"
          ],
          [
           "</br>id: Mary</br>prediction: 0.991</br>age: 0.905000000033</br></br>gender: female</br>class: 3rd</br>embarked: Cherbourg</br>fare: 25.0</br>sibsp: 0.0</br>parch: 0.0</br>_original_yhat_: 0.8929143977399959</br>"
          ],
          [
           "</br>id: Mary</br>prediction: 0.99</br>age: 1.643333333366</br></br>gender: female</br>class: 3rd</br>embarked: Cherbourg</br>fare: 25.0</br>sibsp: 0.0</br>parch: 0.0</br>_original_yhat_: 0.8929143977399959</br>"
          ],
          [
           "</br>id: Mary</br>prediction: 0.988</br>age: 2.3816666666989996</br></br>gender: female</br>class: 3rd</br>embarked: Cherbourg</br>fare: 25.0</br>sibsp: 0.0</br>parch: 0.0</br>_original_yhat_: 0.8929143977399959</br>"
          ],
          [
           "</br>id: Mary</br>prediction: 0.986</br>age: 3.120000000032</br></br>gender: female</br>class: 3rd</br>embarked: Cherbourg</br>fare: 25.0</br>sibsp: 0.0</br>parch: 0.0</br>_original_yhat_: 0.8929143977399959</br>"
          ],
          [
           "</br>id: Mary</br>prediction: 0.984</br>age: 3.858333333365</br></br>gender: female</br>class: 3rd</br>embarked: Cherbourg</br>fare: 25.0</br>sibsp: 0.0</br>parch: 0.0</br>_original_yhat_: 0.8929143977399959</br>"
          ],
          [
           "</br>id: Mary</br>prediction: 0.981</br>age: 4.596666666698</br></br>gender: female</br>class: 3rd</br>embarked: Cherbourg</br>fare: 25.0</br>sibsp: 0.0</br>parch: 0.0</br>_original_yhat_: 0.8929143977399959</br>"
          ],
          [
           "</br>id: Mary</br>prediction: 0.977</br>age: 5.335000000031</br></br>gender: female</br>class: 3rd</br>embarked: Cherbourg</br>fare: 25.0</br>sibsp: 0.0</br>parch: 0.0</br>_original_yhat_: 0.8929143977399959</br>"
          ],
          [
           "</br>id: Mary</br>prediction: 0.973</br>age: 6.073333333364</br></br>gender: female</br>class: 3rd</br>embarked: Cherbourg</br>fare: 25.0</br>sibsp: 0.0</br>parch: 0.0</br>_original_yhat_: 0.8929143977399959</br>"
          ],
          [
           "</br>id: Mary</br>prediction: 0.969</br>age: 6.8116666666970005</br></br>gender: female</br>class: 3rd</br>embarked: Cherbourg</br>fare: 25.0</br>sibsp: 0.0</br>parch: 0.0</br>_original_yhat_: 0.8929143977399959</br>"
          ],
          [
           "</br>id: Mary</br>prediction: 0.963</br>age: 7.550000000030001</br></br>gender: female</br>class: 3rd</br>embarked: Cherbourg</br>fare: 25.0</br>sibsp: 0.0</br>parch: 0.0</br>_original_yhat_: 0.8929143977399959</br>"
          ],
          [
           "</br>id: Mary</br>prediction: 0.956</br>age: 8.288333333363</br></br>gender: female</br>class: 3rd</br>embarked: Cherbourg</br>fare: 25.0</br>sibsp: 0.0</br>parch: 0.0</br>_original_yhat_: 0.8929143977399959</br>"
          ],
          [
           "</br>id: Mary</br>prediction: 0.949</br>age: 9.026666666695998</br></br>gender: female</br>class: 3rd</br>embarked: Cherbourg</br>fare: 25.0</br>sibsp: 0.0</br>parch: 0.0</br>_original_yhat_: 0.8929143977399959</br>"
          ],
          [
           "</br>id: Mary</br>prediction: 0.94</br>age: 9.765000000029</br></br>gender: female</br>class: 3rd</br>embarked: Cherbourg</br>fare: 25.0</br>sibsp: 0.0</br>parch: 0.0</br>_original_yhat_: 0.8929143977399959</br>"
          ],
          [
           "</br>id: Mary</br>prediction: 0.929</br>age: 10.503333333361999</br></br>gender: female</br>class: 3rd</br>embarked: Cherbourg</br>fare: 25.0</br>sibsp: 0.0</br>parch: 0.0</br>_original_yhat_: 0.8929143977399959</br>"
          ],
          [
           "</br>id: Mary</br>prediction: 0.917</br>age: 11.241666666695</br></br>gender: female</br>class: 3rd</br>embarked: Cherbourg</br>fare: 25.0</br>sibsp: 0.0</br>parch: 0.0</br>_original_yhat_: 0.8929143977399959</br>"
          ],
          [
           "</br>id: Mary</br>prediction: 0.903</br>age: 11.980000000028</br></br>gender: female</br>class: 3rd</br>embarked: Cherbourg</br>fare: 25.0</br>sibsp: 0.0</br>parch: 0.0</br>_original_yhat_: 0.8929143977399959</br>"
          ],
          [
           "</br>id: Mary</br>prediction: 0.888</br>age: 12.718333333360999</br></br>gender: female</br>class: 3rd</br>embarked: Cherbourg</br>fare: 25.0</br>sibsp: 0.0</br>parch: 0.0</br>_original_yhat_: 0.8929143977399959</br>"
          ],
          [
           "</br>id: Mary</br>prediction: 0.869</br>age: 13.456666666694</br></br>gender: female</br>class: 3rd</br>embarked: Cherbourg</br>fare: 25.0</br>sibsp: 0.0</br>parch: 0.0</br>_original_yhat_: 0.8929143977399959</br>"
          ],
          [
           "</br>id: Mary</br>prediction: 0.849</br>age: 14.195000000027</br></br>gender: female</br>class: 3rd</br>embarked: Cherbourg</br>fare: 25.0</br>sibsp: 0.0</br>parch: 0.0</br>_original_yhat_: 0.8929143977399959</br>"
          ],
          [
           "</br>id: Mary</br>prediction: 0.827</br>age: 14.93333333336</br></br>gender: female</br>class: 3rd</br>embarked: Cherbourg</br>fare: 25.0</br>sibsp: 0.0</br>parch: 0.0</br>_original_yhat_: 0.8929143977399959</br>"
          ],
          [
           "</br>id: Mary</br>prediction: 0.805</br>age: 15.671666666693</br></br>gender: female</br>class: 3rd</br>embarked: Cherbourg</br>fare: 25.0</br>sibsp: 0.0</br>parch: 0.0</br>_original_yhat_: 0.8929143977399959</br>"
          ],
          [
           "</br>id: Mary</br>prediction: 0.78</br>age: 16.410000000026</br></br>gender: female</br>class: 3rd</br>embarked: Cherbourg</br>fare: 25.0</br>sibsp: 0.0</br>parch: 0.0</br>_original_yhat_: 0.8929143977399959</br>"
          ],
          [
           "</br>id: Mary</br>prediction: 0.754</br>age: 17.148333333359</br></br>gender: female</br>class: 3rd</br>embarked: Cherbourg</br>fare: 25.0</br>sibsp: 0.0</br>parch: 0.0</br>_original_yhat_: 0.8929143977399959</br>"
          ],
          [
           "</br>id: Mary</br>prediction: 0.724</br>age: 17.886666666691998</br></br>gender: female</br>class: 3rd</br>embarked: Cherbourg</br>fare: 25.0</br>sibsp: 0.0</br>parch: 0.0</br>_original_yhat_: 0.8929143977399959</br>"
          ],
          [
           "</br>id: Mary</br>prediction: 0.695</br>age: 18.625000000025</br></br>gender: female</br>class: 3rd</br>embarked: Cherbourg</br>fare: 25.0</br>sibsp: 0.0</br>parch: 0.0</br>_original_yhat_: 0.8929143977399959</br>"
          ],
          [
           "</br>id: Mary</br>prediction: 0.675</br>age: 19.363333333358</br></br>gender: female</br>class: 3rd</br>embarked: Cherbourg</br>fare: 25.0</br>sibsp: 0.0</br>parch: 0.0</br>_original_yhat_: 0.8929143977399959</br>"
          ],
          [
           "</br>id: Mary</br>prediction: 0.664</br>age: 20.101666666691</br></br>gender: female</br>class: 3rd</br>embarked: Cherbourg</br>fare: 25.0</br>sibsp: 0.0</br>parch: 0.0</br>_original_yhat_: 0.8929143977399959</br>"
          ],
          [
           "</br>id: Mary</br>prediction: 0.661</br>age: 20.840000000024</br></br>gender: female</br>class: 3rd</br>embarked: Cherbourg</br>fare: 25.0</br>sibsp: 0.0</br>parch: 0.0</br>_original_yhat_: 0.8929143977399959</br>"
          ],
          [
           "</br>id: Mary</br>prediction: 0.662</br>age: 21.578333333356998</br></br>gender: female</br>class: 3rd</br>embarked: Cherbourg</br>fare: 25.0</br>sibsp: 0.0</br>parch: 0.0</br>_original_yhat_: 0.8929143977399959</br>"
          ],
          [
           "</br>id: Mary</br>prediction: 0.671</br>age: 22.31666666669</br></br>gender: female</br>class: 3rd</br>embarked: Cherbourg</br>fare: 25.0</br>sibsp: 0.0</br>parch: 0.0</br>_original_yhat_: 0.8929143977399959</br>"
          ],
          [
           "</br>id: Mary</br>prediction: 0.684</br>age: 23.055000000023</br></br>gender: female</br>class: 3rd</br>embarked: Cherbourg</br>fare: 25.0</br>sibsp: 0.0</br>parch: 0.0</br>_original_yhat_: 0.8929143977399959</br>"
          ],
          [
           "</br>id: Mary</br>prediction: 0.7</br>age: 23.793333333356</br></br>gender: female</br>class: 3rd</br>embarked: Cherbourg</br>fare: 25.0</br>sibsp: 0.0</br>parch: 0.0</br>_original_yhat_: 0.8929143977399959</br>"
          ],
          [
           "</br>id: Mary</br>prediction: 0.719</br>age: 24.531666666689</br></br>gender: female</br>class: 3rd</br>embarked: Cherbourg</br>fare: 25.0</br>sibsp: 0.0</br>parch: 0.0</br>_original_yhat_: 0.8929143977399959</br>"
          ],
          [
           "</br>id: Mary</br>prediction: 0.738</br>age: 25.270000000021998</br></br>gender: female</br>class: 3rd</br>embarked: Cherbourg</br>fare: 25.0</br>sibsp: 0.0</br>parch: 0.0</br>_original_yhat_: 0.8929143977399959</br>"
          ],
          [
           "</br>id: Mary</br>prediction: 0.758</br>age: 26.008333333355</br></br>gender: female</br>class: 3rd</br>embarked: Cherbourg</br>fare: 25.0</br>sibsp: 0.0</br>parch: 0.0</br>_original_yhat_: 0.8929143977399959</br>"
          ],
          [
           "</br>id: Mary</br>prediction: 0.778</br>age: 26.746666666688</br></br>gender: female</br>class: 3rd</br>embarked: Cherbourg</br>fare: 25.0</br>sibsp: 0.0</br>parch: 0.0</br>_original_yhat_: 0.8929143977399959</br>"
          ],
          [
           "</br>id: Mary</br>prediction: 0.796</br>age: 27.485000000021</br></br>gender: female</br>class: 3rd</br>embarked: Cherbourg</br>fare: 25.0</br>sibsp: 0.0</br>parch: 0.0</br>_original_yhat_: 0.8929143977399959</br>"
          ],
          [
           "</br>id: Mary</br>prediction: 0.813</br>age: 28.223333333354</br></br>gender: female</br>class: 3rd</br>embarked: Cherbourg</br>fare: 25.0</br>sibsp: 0.0</br>parch: 0.0</br>_original_yhat_: 0.8929143977399959</br>"
          ],
          [
           "</br>id: Mary</br>prediction: 0.823</br>age: 28.961666666686998</br></br>gender: female</br>class: 3rd</br>embarked: Cherbourg</br>fare: 25.0</br>sibsp: 0.0</br>parch: 0.0</br>_original_yhat_: 0.8929143977399959</br>"
          ],
          [
           "</br>id: Mary</br>prediction: 0.831</br>age: 29.70000000002</br></br>gender: female</br>class: 3rd</br>embarked: Cherbourg</br>fare: 25.0</br>sibsp: 0.0</br>parch: 0.0</br>_original_yhat_: 0.8929143977399959</br>"
          ],
          [
           "</br>id: Mary</br>prediction: 0.841</br>age: 30.438333333353</br></br>gender: female</br>class: 3rd</br>embarked: Cherbourg</br>fare: 25.0</br>sibsp: 0.0</br>parch: 0.0</br>_original_yhat_: 0.8929143977399959</br>"
          ],
          [
           "</br>id: Mary</br>prediction: 0.85</br>age: 31.176666666686</br></br>gender: female</br>class: 3rd</br>embarked: Cherbourg</br>fare: 25.0</br>sibsp: 0.0</br>parch: 0.0</br>_original_yhat_: 0.8929143977399959</br>"
          ],
          [
           "</br>id: Mary</br>prediction: 0.86</br>age: 31.915000000019</br></br>gender: female</br>class: 3rd</br>embarked: Cherbourg</br>fare: 25.0</br>sibsp: 0.0</br>parch: 0.0</br>_original_yhat_: 0.8929143977399959</br>"
          ],
          [
           "</br>id: Mary</br>prediction: 0.869</br>age: 32.653333333352</br></br>gender: female</br>class: 3rd</br>embarked: Cherbourg</br>fare: 25.0</br>sibsp: 0.0</br>parch: 0.0</br>_original_yhat_: 0.8929143977399959</br>"
          ],
          [
           "</br>id: Mary</br>prediction: 0.878</br>age: 33.391666666685005</br></br>gender: female</br>class: 3rd</br>embarked: Cherbourg</br>fare: 25.0</br>sibsp: 0.0</br>parch: 0.0</br>_original_yhat_: 0.8929143977399959</br>"
          ],
          [
           "</br>id: Mary</br>prediction: 0.885</br>age: 34.130000000018</br></br>gender: female</br>class: 3rd</br>embarked: Cherbourg</br>fare: 25.0</br>sibsp: 0.0</br>parch: 0.0</br>_original_yhat_: 0.8929143977399959</br>"
          ],
          [
           "</br>id: Mary</br>prediction: 0.892</br>age: 34.868333333351</br></br>gender: female</br>class: 3rd</br>embarked: Cherbourg</br>fare: 25.0</br>sibsp: 0.0</br>parch: 0.0</br>_original_yhat_: 0.8929143977399959</br>"
          ],
          [
           "</br>id: Mary</br>prediction: 0.893</br>age: 35.0</br></br>gender: female</br>class: 3rd</br>embarked: Cherbourg</br>fare: 25.0</br>sibsp: 0.0</br>parch: 0.0</br>_original_yhat_: 0.8929143977399959</br>"
          ],
          [
           "</br>id: Mary</br>prediction: 0.897</br>age: 35.606666666684</br></br>gender: female</br>class: 3rd</br>embarked: Cherbourg</br>fare: 25.0</br>sibsp: 0.0</br>parch: 0.0</br>_original_yhat_: 0.8929143977399959</br>"
          ],
          [
           "</br>id: Mary</br>prediction: 0.902</br>age: 36.345000000017</br></br>gender: female</br>class: 3rd</br>embarked: Cherbourg</br>fare: 25.0</br>sibsp: 0.0</br>parch: 0.0</br>_original_yhat_: 0.8929143977399959</br>"
          ],
          [
           "</br>id: Mary</br>prediction: 0.905</br>age: 37.083333333350005</br></br>gender: female</br>class: 3rd</br>embarked: Cherbourg</br>fare: 25.0</br>sibsp: 0.0</br>parch: 0.0</br>_original_yhat_: 0.8929143977399959</br>"
          ],
          [
           "</br>id: Mary</br>prediction: 0.908</br>age: 37.821666666683</br></br>gender: female</br>class: 3rd</br>embarked: Cherbourg</br>fare: 25.0</br>sibsp: 0.0</br>parch: 0.0</br>_original_yhat_: 0.8929143977399959</br>"
          ],
          [
           "</br>id: Mary</br>prediction: 0.91</br>age: 38.560000000016004</br></br>gender: female</br>class: 3rd</br>embarked: Cherbourg</br>fare: 25.0</br>sibsp: 0.0</br>parch: 0.0</br>_original_yhat_: 0.8929143977399959</br>"
          ],
          [
           "</br>id: Mary</br>prediction: 0.913</br>age: 39.298333333349</br></br>gender: female</br>class: 3rd</br>embarked: Cherbourg</br>fare: 25.0</br>sibsp: 0.0</br>parch: 0.0</br>_original_yhat_: 0.8929143977399959</br>"
          ],
          [
           "</br>id: Mary</br>prediction: 0.916</br>age: 40.036666666682</br></br>gender: female</br>class: 3rd</br>embarked: Cherbourg</br>fare: 25.0</br>sibsp: 0.0</br>parch: 0.0</br>_original_yhat_: 0.8929143977399959</br>"
          ],
          [
           "</br>id: Mary</br>prediction: 0.919</br>age: 40.775000000015005</br></br>gender: female</br>class: 3rd</br>embarked: Cherbourg</br>fare: 25.0</br>sibsp: 0.0</br>parch: 0.0</br>_original_yhat_: 0.8929143977399959</br>"
          ],
          [
           "</br>id: Mary</br>prediction: 0.921</br>age: 41.513333333348</br></br>gender: female</br>class: 3rd</br>embarked: Cherbourg</br>fare: 25.0</br>sibsp: 0.0</br>parch: 0.0</br>_original_yhat_: 0.8929143977399959</br>"
          ],
          [
           "</br>id: Mary</br>prediction: 0.922</br>age: 42.251666666681004</br></br>gender: female</br>class: 3rd</br>embarked: Cherbourg</br>fare: 25.0</br>sibsp: 0.0</br>parch: 0.0</br>_original_yhat_: 0.8929143977399959</br>"
          ],
          [
           "</br>id: Mary</br>prediction: 0.924</br>age: 42.990000000014</br></br>gender: female</br>class: 3rd</br>embarked: Cherbourg</br>fare: 25.0</br>sibsp: 0.0</br>parch: 0.0</br>_original_yhat_: 0.8929143977399959</br>"
          ],
          [
           "</br>id: Mary</br>prediction: 0.926</br>age: 43.728333333347</br></br>gender: female</br>class: 3rd</br>embarked: Cherbourg</br>fare: 25.0</br>sibsp: 0.0</br>parch: 0.0</br>_original_yhat_: 0.8929143977399959</br>"
          ],
          [
           "</br>id: Mary</br>prediction: 0.927</br>age: 44.466666666680005</br></br>gender: female</br>class: 3rd</br>embarked: Cherbourg</br>fare: 25.0</br>sibsp: 0.0</br>parch: 0.0</br>_original_yhat_: 0.8929143977399959</br>"
          ],
          [
           "</br>id: Mary</br>prediction: 0.929</br>age: 45.205000000013</br></br>gender: female</br>class: 3rd</br>embarked: Cherbourg</br>fare: 25.0</br>sibsp: 0.0</br>parch: 0.0</br>_original_yhat_: 0.8929143977399959</br>"
          ],
          [
           "</br>id: Mary</br>prediction: 0.93</br>age: 45.943333333346004</br></br>gender: female</br>class: 3rd</br>embarked: Cherbourg</br>fare: 25.0</br>sibsp: 0.0</br>parch: 0.0</br>_original_yhat_: 0.8929143977399959</br>"
          ],
          [
           "</br>id: Mary</br>prediction: 0.929</br>age: 46.681666666679</br></br>gender: female</br>class: 3rd</br>embarked: Cherbourg</br>fare: 25.0</br>sibsp: 0.0</br>parch: 0.0</br>_original_yhat_: 0.8929143977399959</br>"
          ],
          [
           "</br>id: Mary</br>prediction: 0.928</br>age: 47.420000000012</br></br>gender: female</br>class: 3rd</br>embarked: Cherbourg</br>fare: 25.0</br>sibsp: 0.0</br>parch: 0.0</br>_original_yhat_: 0.8929143977399959</br>"
          ],
          [
           "</br>id: Mary</br>prediction: 0.927</br>age: 48.158333333345006</br></br>gender: female</br>class: 3rd</br>embarked: Cherbourg</br>fare: 25.0</br>sibsp: 0.0</br>parch: 0.0</br>_original_yhat_: 0.8929143977399959</br>"
          ],
          [
           "</br>id: Mary</br>prediction: 0.925</br>age: 48.896666666678</br></br>gender: female</br>class: 3rd</br>embarked: Cherbourg</br>fare: 25.0</br>sibsp: 0.0</br>parch: 0.0</br>_original_yhat_: 0.8929143977399959</br>"
          ],
          [
           "</br>id: Mary</br>prediction: 0.923</br>age: 49.635000000011004</br></br>gender: female</br>class: 3rd</br>embarked: Cherbourg</br>fare: 25.0</br>sibsp: 0.0</br>parch: 0.0</br>_original_yhat_: 0.8929143977399959</br>"
          ],
          [
           "</br>id: Mary</br>prediction: 0.92</br>age: 50.373333333344</br></br>gender: female</br>class: 3rd</br>embarked: Cherbourg</br>fare: 25.0</br>sibsp: 0.0</br>parch: 0.0</br>_original_yhat_: 0.8929143977399959</br>"
          ],
          [
           "</br>id: Mary</br>prediction: 0.915</br>age: 51.111666666677</br></br>gender: female</br>class: 3rd</br>embarked: Cherbourg</br>fare: 25.0</br>sibsp: 0.0</br>parch: 0.0</br>_original_yhat_: 0.8929143977399959</br>"
          ],
          [
           "</br>id: Mary</br>prediction: 0.91</br>age: 51.850000000010006</br></br>gender: female</br>class: 3rd</br>embarked: Cherbourg</br>fare: 25.0</br>sibsp: 0.0</br>parch: 0.0</br>_original_yhat_: 0.8929143977399959</br>"
          ],
          [
           "</br>id: Mary</br>prediction: 0.902</br>age: 52.588333333343</br></br>gender: female</br>class: 3rd</br>embarked: Cherbourg</br>fare: 25.0</br>sibsp: 0.0</br>parch: 0.0</br>_original_yhat_: 0.8929143977399959</br>"
          ],
          [
           "</br>id: Mary</br>prediction: 0.894</br>age: 53.326666666676005</br></br>gender: female</br>class: 3rd</br>embarked: Cherbourg</br>fare: 25.0</br>sibsp: 0.0</br>parch: 0.0</br>_original_yhat_: 0.8929143977399959</br>"
          ],
          [
           "</br>id: Mary</br>prediction: 0.885</br>age: 54.065000000009</br></br>gender: female</br>class: 3rd</br>embarked: Cherbourg</br>fare: 25.0</br>sibsp: 0.0</br>parch: 0.0</br>_original_yhat_: 0.8929143977399959</br>"
          ],
          [
           "</br>id: Mary</br>prediction: 0.875</br>age: 54.803333333342</br></br>gender: female</br>class: 3rd</br>embarked: Cherbourg</br>fare: 25.0</br>sibsp: 0.0</br>parch: 0.0</br>_original_yhat_: 0.8929143977399959</br>"
          ],
          [
           "</br>id: Mary</br>prediction: 0.863</br>age: 55.541666666675006</br></br>gender: female</br>class: 3rd</br>embarked: Cherbourg</br>fare: 25.0</br>sibsp: 0.0</br>parch: 0.0</br>_original_yhat_: 0.8929143977399959</br>"
          ],
          [
           "</br>id: Mary</br>prediction: 0.85</br>age: 56.280000000008</br></br>gender: female</br>class: 3rd</br>embarked: Cherbourg</br>fare: 25.0</br>sibsp: 0.0</br>parch: 0.0</br>_original_yhat_: 0.8929143977399959</br>"
          ],
          [
           "</br>id: Mary</br>prediction: 0.837</br>age: 57.018333333341005</br></br>gender: female</br>class: 3rd</br>embarked: Cherbourg</br>fare: 25.0</br>sibsp: 0.0</br>parch: 0.0</br>_original_yhat_: 0.8929143977399959</br>"
          ],
          [
           "</br>id: Mary</br>prediction: 0.822</br>age: 57.756666666674</br></br>gender: female</br>class: 3rd</br>embarked: Cherbourg</br>fare: 25.0</br>sibsp: 0.0</br>parch: 0.0</br>_original_yhat_: 0.8929143977399959</br>"
          ],
          [
           "</br>id: Mary</br>prediction: 0.806</br>age: 58.495000000007</br></br>gender: female</br>class: 3rd</br>embarked: Cherbourg</br>fare: 25.0</br>sibsp: 0.0</br>parch: 0.0</br>_original_yhat_: 0.8929143977399959</br>"
          ],
          [
           "</br>id: Mary</br>prediction: 0.789</br>age: 59.233333333340006</br></br>gender: female</br>class: 3rd</br>embarked: Cherbourg</br>fare: 25.0</br>sibsp: 0.0</br>parch: 0.0</br>_original_yhat_: 0.8929143977399959</br>"
          ],
          [
           "</br>id: Mary</br>prediction: 0.771</br>age: 59.971666666673</br></br>gender: female</br>class: 3rd</br>embarked: Cherbourg</br>fare: 25.0</br>sibsp: 0.0</br>parch: 0.0</br>_original_yhat_: 0.8929143977399959</br>"
          ],
          [
           "</br>id: Mary</br>prediction: 0.751</br>age: 60.710000000006005</br></br>gender: female</br>class: 3rd</br>embarked: Cherbourg</br>fare: 25.0</br>sibsp: 0.0</br>parch: 0.0</br>_original_yhat_: 0.8929143977399959</br>"
          ],
          [
           "</br>id: Mary</br>prediction: 0.73</br>age: 61.448333333339</br></br>gender: female</br>class: 3rd</br>embarked: Cherbourg</br>fare: 25.0</br>sibsp: 0.0</br>parch: 0.0</br>_original_yhat_: 0.8929143977399959</br>"
          ],
          [
           "</br>id: Mary</br>prediction: 0.704</br>age: 62.186666666672004</br></br>gender: female</br>class: 3rd</br>embarked: Cherbourg</br>fare: 25.0</br>sibsp: 0.0</br>parch: 0.0</br>_original_yhat_: 0.8929143977399959</br>"
          ],
          [
           "</br>id: Mary</br>prediction: 0.673</br>age: 62.925000000005</br></br>gender: female</br>class: 3rd</br>embarked: Cherbourg</br>fare: 25.0</br>sibsp: 0.0</br>parch: 0.0</br>_original_yhat_: 0.8929143977399959</br>"
          ],
          [
           "</br>id: Mary</br>prediction: 0.642</br>age: 63.663333333338</br></br>gender: female</br>class: 3rd</br>embarked: Cherbourg</br>fare: 25.0</br>sibsp: 0.0</br>parch: 0.0</br>_original_yhat_: 0.8929143977399959</br>"
          ],
          [
           "</br>id: Mary</br>prediction: 0.61</br>age: 64.40166666667099</br></br>gender: female</br>class: 3rd</br>embarked: Cherbourg</br>fare: 25.0</br>sibsp: 0.0</br>parch: 0.0</br>_original_yhat_: 0.8929143977399959</br>"
          ],
          [
           "</br>id: Mary</br>prediction: 0.574</br>age: 65.140000000004</br></br>gender: female</br>class: 3rd</br>embarked: Cherbourg</br>fare: 25.0</br>sibsp: 0.0</br>parch: 0.0</br>_original_yhat_: 0.8929143977399959</br>"
          ],
          [
           "</br>id: Mary</br>prediction: 0.538</br>age: 65.878333333337</br></br>gender: female</br>class: 3rd</br>embarked: Cherbourg</br>fare: 25.0</br>sibsp: 0.0</br>parch: 0.0</br>_original_yhat_: 0.8929143977399959</br>"
          ],
          [
           "</br>id: Mary</br>prediction: 0.501</br>age: 66.61666666667</br></br>gender: female</br>class: 3rd</br>embarked: Cherbourg</br>fare: 25.0</br>sibsp: 0.0</br>parch: 0.0</br>_original_yhat_: 0.8929143977399959</br>"
          ],
          [
           "</br>id: Mary</br>prediction: 0.465</br>age: 67.355000000003</br></br>gender: female</br>class: 3rd</br>embarked: Cherbourg</br>fare: 25.0</br>sibsp: 0.0</br>parch: 0.0</br>_original_yhat_: 0.8929143977399959</br>"
          ],
          [
           "</br>id: Mary</br>prediction: 0.429</br>age: 68.09333333333599</br></br>gender: female</br>class: 3rd</br>embarked: Cherbourg</br>fare: 25.0</br>sibsp: 0.0</br>parch: 0.0</br>_original_yhat_: 0.8929143977399959</br>"
          ],
          [
           "</br>id: Mary</br>prediction: 0.396</br>age: 68.831666666669</br></br>gender: female</br>class: 3rd</br>embarked: Cherbourg</br>fare: 25.0</br>sibsp: 0.0</br>parch: 0.0</br>_original_yhat_: 0.8929143977399959</br>"
          ],
          [
           "</br>id: Mary</br>prediction: 0.363</br>age: 69.570000000002</br></br>gender: female</br>class: 3rd</br>embarked: Cherbourg</br>fare: 25.0</br>sibsp: 0.0</br>parch: 0.0</br>_original_yhat_: 0.8929143977399959</br>"
          ],
          [
           "</br>id: Mary</br>prediction: 0.339</br>age: 70.308333333335</br></br>gender: female</br>class: 3rd</br>embarked: Cherbourg</br>fare: 25.0</br>sibsp: 0.0</br>parch: 0.0</br>_original_yhat_: 0.8929143977399959</br>"
          ],
          [
           "</br>id: Mary</br>prediction: 0.319</br>age: 71.04666666666799</br></br>gender: female</br>class: 3rd</br>embarked: Cherbourg</br>fare: 25.0</br>sibsp: 0.0</br>parch: 0.0</br>_original_yhat_: 0.8929143977399959</br>"
          ],
          [
           "</br>id: Mary</br>prediction: 0.298</br>age: 71.78500000000099</br></br>gender: female</br>class: 3rd</br>embarked: Cherbourg</br>fare: 25.0</br>sibsp: 0.0</br>parch: 0.0</br>_original_yhat_: 0.8929143977399959</br>"
          ],
          [
           "</br>id: Mary</br>prediction: 0.277</br>age: 72.523333333334</br></br>gender: female</br>class: 3rd</br>embarked: Cherbourg</br>fare: 25.0</br>sibsp: 0.0</br>parch: 0.0</br>_original_yhat_: 0.8929143977399959</br>"
          ],
          [
           "</br>id: Mary</br>prediction: 0.245</br>age: 73.261666666667</br></br>gender: female</br>class: 3rd</br>embarked: Cherbourg</br>fare: 25.0</br>sibsp: 0.0</br>parch: 0.0</br>_original_yhat_: 0.8929143977399959</br>"
          ],
          [
           "</br>id: Mary</br>prediction: 0.216</br>age: 74.0</br></br>gender: female</br>class: 3rd</br>embarked: Cherbourg</br>fare: 25.0</br>sibsp: 0.0</br>parch: 0.0</br>_original_yhat_: 0.8929143977399959</br>"
          ]
         ],
         "hovertemplate": "%{customdata[0]}<extra></extra>",
         "legendgroup": "Mary",
         "line": {
          "color": "#8bdcbe",
          "dash": "solid",
          "width": 2
         },
         "marker": {
          "symbol": "circle"
         },
         "mode": "lines",
         "name": "Mary",
         "opacity": 1,
         "orientation": "v",
         "showlegend": true,
         "type": "scatter",
         "x": [
          0.1666666667,
          0.905000000033,
          1.643333333366,
          2.3816666666989996,
          3.120000000032,
          3.858333333365,
          4.596666666698,
          5.335000000031,
          6.073333333364,
          6.8116666666970005,
          7.550000000030001,
          8.288333333363,
          9.026666666695998,
          9.765000000029,
          10.503333333361999,
          11.241666666695,
          11.980000000028,
          12.718333333360999,
          13.456666666694,
          14.195000000027,
          14.93333333336,
          15.671666666693,
          16.410000000026,
          17.148333333359,
          17.886666666691998,
          18.625000000025,
          19.363333333358,
          20.101666666691,
          20.840000000024,
          21.578333333356998,
          22.31666666669,
          23.055000000023,
          23.793333333356,
          24.531666666689,
          25.270000000021998,
          26.008333333355,
          26.746666666688,
          27.485000000021,
          28.223333333354,
          28.961666666686998,
          29.70000000002,
          30.438333333353,
          31.176666666686,
          31.915000000019,
          32.653333333352,
          33.391666666685005,
          34.130000000018,
          34.868333333351,
          35,
          35.606666666684,
          36.345000000017,
          37.083333333350005,
          37.821666666683,
          38.560000000016004,
          39.298333333349,
          40.036666666682,
          40.775000000015005,
          41.513333333348,
          42.251666666681004,
          42.990000000014,
          43.728333333347,
          44.466666666680005,
          45.205000000013,
          45.943333333346004,
          46.681666666679,
          47.420000000012,
          48.158333333345006,
          48.896666666678,
          49.635000000011004,
          50.373333333344,
          51.111666666677,
          51.850000000010006,
          52.588333333343,
          53.326666666676005,
          54.065000000009,
          54.803333333342,
          55.541666666675006,
          56.280000000008,
          57.018333333341005,
          57.756666666674,
          58.495000000007,
          59.233333333340006,
          59.971666666673,
          60.710000000006005,
          61.448333333339,
          62.186666666672004,
          62.925000000005,
          63.663333333338,
          64.40166666667099,
          65.140000000004,
          65.878333333337,
          66.61666666667,
          67.355000000003,
          68.09333333333599,
          68.831666666669,
          69.570000000002,
          70.308333333335,
          71.04666666666799,
          71.78500000000099,
          72.523333333334,
          73.261666666667,
          74
         ],
         "xaxis": "x3",
         "y": [
          0.9927329153284156,
          0.9914840653167685,
          0.9900227571129829,
          0.9882905911022932,
          0.9862198821880773,
          0.9837438826738183,
          0.9808316446096759,
          0.9773963658472621,
          0.9733345441694604,
          0.9685755988060327,
          0.9630136047027436,
          0.9564318652591847,
          0.9488135432143951,
          0.9397853912939588,
          0.9292835555505119,
          0.917282021587847,
          0.9033257830100732,
          0.8876177023763138,
          0.8689081219397429,
          0.8486203759907026,
          0.8270858254647824,
          0.8046482643016837,
          0.7804767813473824,
          0.7535548933544545,
          0.724496818446929,
          0.6954683438671945,
          0.6746874640617192,
          0.6644047835330336,
          0.6608687506334477,
          0.6615508204889238,
          0.67083596984336,
          0.6844365199900817,
          0.6995361557917505,
          0.7192223365994445,
          0.7382847904371173,
          0.7582536993290143,
          0.7778502866005819,
          0.7963510789137633,
          0.8128233904125228,
          0.8233765351867798,
          0.8312232268611057,
          0.8409917131169912,
          0.8502866072476243,
          0.8602252799776238,
          0.8694983614573141,
          0.8783957611754621,
          0.8850537763230457,
          0.8917559027822209,
          0.8929143977399959,
          0.8972416584230751,
          0.9015748985304006,
          0.9051806485888443,
          0.9076534560428652,
          0.9102220100346783,
          0.9126783426818909,
          0.9157838901415514,
          0.9186857535613557,
          0.9210465474062984,
          0.922328252144136,
          0.923987600711996,
          0.9257957099084765,
          0.9274468052535019,
          0.9293773444237172,
          0.9299979424516134,
          0.9292993051259388,
          0.9283419087703362,
          0.9269029477793645,
          0.9253402970189757,
          0.9230746046671171,
          0.9201124471524471,
          0.9154800706556743,
          0.9098099264524534,
          0.9022690760301478,
          0.8935721457103457,
          0.8846025646910163,
          0.8746285293109353,
          0.8633091607881369,
          0.8504000453759356,
          0.8366208039992665,
          0.8218127457424866,
          0.8059738080078551,
          0.7890882878067829,
          0.7705418007099859,
          0.7508631754026417,
          0.7300886656287877,
          0.7037421992253203,
          0.6734193106842897,
          0.6423328731141538,
          0.6095703680181099,
          0.5741927863235424,
          0.5375833509085018,
          0.5011298145644302,
          0.46498746235902416,
          0.42920909666873414,
          0.39561350789386,
          0.3631547632375077,
          0.33936905658916133,
          0.3185138508513764,
          0.29804925945765426,
          0.27650144427752277,
          0.24487374400761772,
          0.21648014592885828
         ],
         "yaxis": "y3"
        },
        {
         "customdata": [
          [
           "</br>id: Mary</br>prediction: 0.913</br>fare: 0.0</br></br>gender: female</br>age: 35.0</br>class: 3rd</br>embarked: Cherbourg</br>sibsp: 0.0</br>parch: 0.0</br>_original_yhat_: 0.8929143977399959</br>"
          ],
          [
           "</br>id: Mary</br>prediction: 0.909</br>fare: 5.120607</br></br>gender: female</br>age: 35.0</br>class: 3rd</br>embarked: Cherbourg</br>sibsp: 0.0</br>parch: 0.0</br>_original_yhat_: 0.8929143977399959</br>"
          ],
          [
           "</br>id: Mary</br>prediction: 0.904</br>fare: 10.241214</br></br>gender: female</br>age: 35.0</br>class: 3rd</br>embarked: Cherbourg</br>sibsp: 0.0</br>parch: 0.0</br>_original_yhat_: 0.8929143977399959</br>"
          ],
          [
           "</br>id: Mary</br>prediction: 0.9</br>fare: 15.361820999999999</br></br>gender: female</br>age: 35.0</br>class: 3rd</br>embarked: Cherbourg</br>sibsp: 0.0</br>parch: 0.0</br>_original_yhat_: 0.8929143977399959</br>"
          ],
          [
           "</br>id: Mary</br>prediction: 0.897</br>fare: 20.482428</br></br>gender: female</br>age: 35.0</br>class: 3rd</br>embarked: Cherbourg</br>sibsp: 0.0</br>parch: 0.0</br>_original_yhat_: 0.8929143977399959</br>"
          ],
          [
           "</br>id: Mary</br>prediction: 0.893</br>fare: 25.0</br></br>gender: female</br>age: 35.0</br>class: 3rd</br>embarked: Cherbourg</br>sibsp: 0.0</br>parch: 0.0</br>_original_yhat_: 0.8929143977399959</br>"
          ],
          [
           "</br>id: Mary</br>prediction: 0.892</br>fare: 25.603035</br></br>gender: female</br>age: 35.0</br>class: 3rd</br>embarked: Cherbourg</br>sibsp: 0.0</br>parch: 0.0</br>_original_yhat_: 0.8929143977399959</br>"
          ],
          [
           "</br>id: Mary</br>prediction: 0.887</br>fare: 30.723641999999998</br></br>gender: female</br>age: 35.0</br>class: 3rd</br>embarked: Cherbourg</br>sibsp: 0.0</br>parch: 0.0</br>_original_yhat_: 0.8929143977399959</br>"
          ],
          [
           "</br>id: Mary</br>prediction: 0.883</br>fare: 35.844249</br></br>gender: female</br>age: 35.0</br>class: 3rd</br>embarked: Cherbourg</br>sibsp: 0.0</br>parch: 0.0</br>_original_yhat_: 0.8929143977399959</br>"
          ],
          [
           "</br>id: Mary</br>prediction: 0.881</br>fare: 40.964856</br></br>gender: female</br>age: 35.0</br>class: 3rd</br>embarked: Cherbourg</br>sibsp: 0.0</br>parch: 0.0</br>_original_yhat_: 0.8929143977399959</br>"
          ],
          [
           "</br>id: Mary</br>prediction: 0.89</br>fare: 46.085463</br></br>gender: female</br>age: 35.0</br>class: 3rd</br>embarked: Cherbourg</br>sibsp: 0.0</br>parch: 0.0</br>_original_yhat_: 0.8929143977399959</br>"
          ],
          [
           "</br>id: Mary</br>prediction: 0.902</br>fare: 51.20607</br></br>gender: female</br>age: 35.0</br>class: 3rd</br>embarked: Cherbourg</br>sibsp: 0.0</br>parch: 0.0</br>_original_yhat_: 0.8929143977399959</br>"
          ],
          [
           "</br>id: Mary</br>prediction: 0.91</br>fare: 56.326677</br></br>gender: female</br>age: 35.0</br>class: 3rd</br>embarked: Cherbourg</br>sibsp: 0.0</br>parch: 0.0</br>_original_yhat_: 0.8929143977399959</br>"
          ],
          [
           "</br>id: Mary</br>prediction: 0.925</br>fare: 61.447283999999996</br></br>gender: female</br>age: 35.0</br>class: 3rd</br>embarked: Cherbourg</br>sibsp: 0.0</br>parch: 0.0</br>_original_yhat_: 0.8929143977399959</br>"
          ],
          [
           "</br>id: Mary</br>prediction: 0.937</br>fare: 66.567891</br></br>gender: female</br>age: 35.0</br>class: 3rd</br>embarked: Cherbourg</br>sibsp: 0.0</br>parch: 0.0</br>_original_yhat_: 0.8929143977399959</br>"
          ],
          [
           "</br>id: Mary</br>prediction: 0.949</br>fare: 71.688498</br></br>gender: female</br>age: 35.0</br>class: 3rd</br>embarked: Cherbourg</br>sibsp: 0.0</br>parch: 0.0</br>_original_yhat_: 0.8929143977399959</br>"
          ],
          [
           "</br>id: Mary</br>prediction: 0.96</br>fare: 76.80910499999999</br></br>gender: female</br>age: 35.0</br>class: 3rd</br>embarked: Cherbourg</br>sibsp: 0.0</br>parch: 0.0</br>_original_yhat_: 0.8929143977399959</br>"
          ],
          [
           "</br>id: Mary</br>prediction: 0.969</br>fare: 81.929712</br></br>gender: female</br>age: 35.0</br>class: 3rd</br>embarked: Cherbourg</br>sibsp: 0.0</br>parch: 0.0</br>_original_yhat_: 0.8929143977399959</br>"
          ],
          [
           "</br>id: Mary</br>prediction: 0.976</br>fare: 87.050319</br></br>gender: female</br>age: 35.0</br>class: 3rd</br>embarked: Cherbourg</br>sibsp: 0.0</br>parch: 0.0</br>_original_yhat_: 0.8929143977399959</br>"
          ],
          [
           "</br>id: Mary</br>prediction: 0.981</br>fare: 92.170926</br></br>gender: female</br>age: 35.0</br>class: 3rd</br>embarked: Cherbourg</br>sibsp: 0.0</br>parch: 0.0</br>_original_yhat_: 0.8929143977399959</br>"
          ],
          [
           "</br>id: Mary</br>prediction: 0.985</br>fare: 97.29153299999999</br></br>gender: female</br>age: 35.0</br>class: 3rd</br>embarked: Cherbourg</br>sibsp: 0.0</br>parch: 0.0</br>_original_yhat_: 0.8929143977399959</br>"
          ],
          [
           "</br>id: Mary</br>prediction: 0.989</br>fare: 102.41214</br></br>gender: female</br>age: 35.0</br>class: 3rd</br>embarked: Cherbourg</br>sibsp: 0.0</br>parch: 0.0</br>_original_yhat_: 0.8929143977399959</br>"
          ],
          [
           "</br>id: Mary</br>prediction: 0.991</br>fare: 107.532747</br></br>gender: female</br>age: 35.0</br>class: 3rd</br>embarked: Cherbourg</br>sibsp: 0.0</br>parch: 0.0</br>_original_yhat_: 0.8929143977399959</br>"
          ],
          [
           "</br>id: Mary</br>prediction: 0.993</br>fare: 112.653354</br></br>gender: female</br>age: 35.0</br>class: 3rd</br>embarked: Cherbourg</br>sibsp: 0.0</br>parch: 0.0</br>_original_yhat_: 0.8929143977399959</br>"
          ],
          [
           "</br>id: Mary</br>prediction: 0.995</br>fare: 117.77396099999999</br></br>gender: female</br>age: 35.0</br>class: 3rd</br>embarked: Cherbourg</br>sibsp: 0.0</br>parch: 0.0</br>_original_yhat_: 0.8929143977399959</br>"
          ],
          [
           "</br>id: Mary</br>prediction: 0.996</br>fare: 122.89456799999999</br></br>gender: female</br>age: 35.0</br>class: 3rd</br>embarked: Cherbourg</br>sibsp: 0.0</br>parch: 0.0</br>_original_yhat_: 0.8929143977399959</br>"
          ],
          [
           "</br>id: Mary</br>prediction: 0.997</br>fare: 128.015175</br></br>gender: female</br>age: 35.0</br>class: 3rd</br>embarked: Cherbourg</br>sibsp: 0.0</br>parch: 0.0</br>_original_yhat_: 0.8929143977399959</br>"
          ],
          [
           "</br>id: Mary</br>prediction: 0.997</br>fare: 133.135782</br></br>gender: female</br>age: 35.0</br>class: 3rd</br>embarked: Cherbourg</br>sibsp: 0.0</br>parch: 0.0</br>_original_yhat_: 0.8929143977399959</br>"
          ],
          [
           "</br>id: Mary</br>prediction: 0.998</br>fare: 138.25638899999998</br></br>gender: female</br>age: 35.0</br>class: 3rd</br>embarked: Cherbourg</br>sibsp: 0.0</br>parch: 0.0</br>_original_yhat_: 0.8929143977399959</br>"
          ],
          [
           "</br>id: Mary</br>prediction: 0.999</br>fare: 143.376996</br></br>gender: female</br>age: 35.0</br>class: 3rd</br>embarked: Cherbourg</br>sibsp: 0.0</br>parch: 0.0</br>_original_yhat_: 0.8929143977399959</br>"
          ],
          [
           "</br>id: Mary</br>prediction: 0.999</br>fare: 148.497603</br></br>gender: female</br>age: 35.0</br>class: 3rd</br>embarked: Cherbourg</br>sibsp: 0.0</br>parch: 0.0</br>_original_yhat_: 0.8929143977399959</br>"
          ],
          [
           "</br>id: Mary</br>prediction: 0.999</br>fare: 153.61820999999998</br></br>gender: female</br>age: 35.0</br>class: 3rd</br>embarked: Cherbourg</br>sibsp: 0.0</br>parch: 0.0</br>_original_yhat_: 0.8929143977399959</br>"
          ],
          [
           "</br>id: Mary</br>prediction: 0.999</br>fare: 158.73881699999998</br></br>gender: female</br>age: 35.0</br>class: 3rd</br>embarked: Cherbourg</br>sibsp: 0.0</br>parch: 0.0</br>_original_yhat_: 0.8929143977399959</br>"
          ],
          [
           "</br>id: Mary</br>prediction: 1.0</br>fare: 163.859424</br></br>gender: female</br>age: 35.0</br>class: 3rd</br>embarked: Cherbourg</br>sibsp: 0.0</br>parch: 0.0</br>_original_yhat_: 0.8929143977399959</br>"
          ],
          [
           "</br>id: Mary</br>prediction: 1.0</br>fare: 168.980031</br></br>gender: female</br>age: 35.0</br>class: 3rd</br>embarked: Cherbourg</br>sibsp: 0.0</br>parch: 0.0</br>_original_yhat_: 0.8929143977399959</br>"
          ],
          [
           "</br>id: Mary</br>prediction: 1.0</br>fare: 174.100638</br></br>gender: female</br>age: 35.0</br>class: 3rd</br>embarked: Cherbourg</br>sibsp: 0.0</br>parch: 0.0</br>_original_yhat_: 0.8929143977399959</br>"
          ],
          [
           "</br>id: Mary</br>prediction: 1.0</br>fare: 179.22124499999998</br></br>gender: female</br>age: 35.0</br>class: 3rd</br>embarked: Cherbourg</br>sibsp: 0.0</br>parch: 0.0</br>_original_yhat_: 0.8929143977399959</br>"
          ],
          [
           "</br>id: Mary</br>prediction: 1.0</br>fare: 184.341852</br></br>gender: female</br>age: 35.0</br>class: 3rd</br>embarked: Cherbourg</br>sibsp: 0.0</br>parch: 0.0</br>_original_yhat_: 0.8929143977399959</br>"
          ],
          [
           "</br>id: Mary</br>prediction: 1.0</br>fare: 189.462459</br></br>gender: female</br>age: 35.0</br>class: 3rd</br>embarked: Cherbourg</br>sibsp: 0.0</br>parch: 0.0</br>_original_yhat_: 0.8929143977399959</br>"
          ],
          [
           "</br>id: Mary</br>prediction: 1.0</br>fare: 194.58306599999997</br></br>gender: female</br>age: 35.0</br>class: 3rd</br>embarked: Cherbourg</br>sibsp: 0.0</br>parch: 0.0</br>_original_yhat_: 0.8929143977399959</br>"
          ],
          [
           "</br>id: Mary</br>prediction: 1.0</br>fare: 199.70367299999998</br></br>gender: female</br>age: 35.0</br>class: 3rd</br>embarked: Cherbourg</br>sibsp: 0.0</br>parch: 0.0</br>_original_yhat_: 0.8929143977399959</br>"
          ],
          [
           "</br>id: Mary</br>prediction: 1.0</br>fare: 204.82428</br></br>gender: female</br>age: 35.0</br>class: 3rd</br>embarked: Cherbourg</br>sibsp: 0.0</br>parch: 0.0</br>_original_yhat_: 0.8929143977399959</br>"
          ],
          [
           "</br>id: Mary</br>prediction: 1.0</br>fare: 209.944887</br></br>gender: female</br>age: 35.0</br>class: 3rd</br>embarked: Cherbourg</br>sibsp: 0.0</br>parch: 0.0</br>_original_yhat_: 0.8929143977399959</br>"
          ],
          [
           "</br>id: Mary</br>prediction: 1.0</br>fare: 215.065494</br></br>gender: female</br>age: 35.0</br>class: 3rd</br>embarked: Cherbourg</br>sibsp: 0.0</br>parch: 0.0</br>_original_yhat_: 0.8929143977399959</br>"
          ],
          [
           "</br>id: Mary</br>prediction: 1.0</br>fare: 220.18610099999998</br></br>gender: female</br>age: 35.0</br>class: 3rd</br>embarked: Cherbourg</br>sibsp: 0.0</br>parch: 0.0</br>_original_yhat_: 0.8929143977399959</br>"
          ],
          [
           "</br>id: Mary</br>prediction: 1.0</br>fare: 225.306708</br></br>gender: female</br>age: 35.0</br>class: 3rd</br>embarked: Cherbourg</br>sibsp: 0.0</br>parch: 0.0</br>_original_yhat_: 0.8929143977399959</br>"
          ],
          [
           "</br>id: Mary</br>prediction: 1.0</br>fare: 230.427315</br></br>gender: female</br>age: 35.0</br>class: 3rd</br>embarked: Cherbourg</br>sibsp: 0.0</br>parch: 0.0</br>_original_yhat_: 0.8929143977399959</br>"
          ],
          [
           "</br>id: Mary</br>prediction: 1.0</br>fare: 235.54792199999997</br></br>gender: female</br>age: 35.0</br>class: 3rd</br>embarked: Cherbourg</br>sibsp: 0.0</br>parch: 0.0</br>_original_yhat_: 0.8929143977399959</br>"
          ],
          [
           "</br>id: Mary</br>prediction: 1.0</br>fare: 240.66852899999998</br></br>gender: female</br>age: 35.0</br>class: 3rd</br>embarked: Cherbourg</br>sibsp: 0.0</br>parch: 0.0</br>_original_yhat_: 0.8929143977399959</br>"
          ],
          [
           "</br>id: Mary</br>prediction: 1.0</br>fare: 245.78913599999998</br></br>gender: female</br>age: 35.0</br>class: 3rd</br>embarked: Cherbourg</br>sibsp: 0.0</br>parch: 0.0</br>_original_yhat_: 0.8929143977399959</br>"
          ],
          [
           "</br>id: Mary</br>prediction: 1.0</br>fare: 250.909743</br></br>gender: female</br>age: 35.0</br>class: 3rd</br>embarked: Cherbourg</br>sibsp: 0.0</br>parch: 0.0</br>_original_yhat_: 0.8929143977399959</br>"
          ],
          [
           "</br>id: Mary</br>prediction: 1.0</br>fare: 256.03035</br></br>gender: female</br>age: 35.0</br>class: 3rd</br>embarked: Cherbourg</br>sibsp: 0.0</br>parch: 0.0</br>_original_yhat_: 0.8929143977399959</br>"
          ],
          [
           "</br>id: Mary</br>prediction: 1.0</br>fare: 261.150957</br></br>gender: female</br>age: 35.0</br>class: 3rd</br>embarked: Cherbourg</br>sibsp: 0.0</br>parch: 0.0</br>_original_yhat_: 0.8929143977399959</br>"
          ],
          [
           "</br>id: Mary</br>prediction: 1.0</br>fare: 266.271564</br></br>gender: female</br>age: 35.0</br>class: 3rd</br>embarked: Cherbourg</br>sibsp: 0.0</br>parch: 0.0</br>_original_yhat_: 0.8929143977399959</br>"
          ],
          [
           "</br>id: Mary</br>prediction: 1.0</br>fare: 271.39217099999996</br></br>gender: female</br>age: 35.0</br>class: 3rd</br>embarked: Cherbourg</br>sibsp: 0.0</br>parch: 0.0</br>_original_yhat_: 0.8929143977399959</br>"
          ],
          [
           "</br>id: Mary</br>prediction: 1.0</br>fare: 276.51277799999997</br></br>gender: female</br>age: 35.0</br>class: 3rd</br>embarked: Cherbourg</br>sibsp: 0.0</br>parch: 0.0</br>_original_yhat_: 0.8929143977399959</br>"
          ],
          [
           "</br>id: Mary</br>prediction: 1.0</br>fare: 281.633385</br></br>gender: female</br>age: 35.0</br>class: 3rd</br>embarked: Cherbourg</br>sibsp: 0.0</br>parch: 0.0</br>_original_yhat_: 0.8929143977399959</br>"
          ],
          [
           "</br>id: Mary</br>prediction: 1.0</br>fare: 286.753992</br></br>gender: female</br>age: 35.0</br>class: 3rd</br>embarked: Cherbourg</br>sibsp: 0.0</br>parch: 0.0</br>_original_yhat_: 0.8929143977399959</br>"
          ],
          [
           "</br>id: Mary</br>prediction: 1.0</br>fare: 291.874599</br></br>gender: female</br>age: 35.0</br>class: 3rd</br>embarked: Cherbourg</br>sibsp: 0.0</br>parch: 0.0</br>_original_yhat_: 0.8929143977399959</br>"
          ],
          [
           "</br>id: Mary</br>prediction: 1.0</br>fare: 296.995206</br></br>gender: female</br>age: 35.0</br>class: 3rd</br>embarked: Cherbourg</br>sibsp: 0.0</br>parch: 0.0</br>_original_yhat_: 0.8929143977399959</br>"
          ],
          [
           "</br>id: Mary</br>prediction: 1.0</br>fare: 302.115813</br></br>gender: female</br>age: 35.0</br>class: 3rd</br>embarked: Cherbourg</br>sibsp: 0.0</br>parch: 0.0</br>_original_yhat_: 0.8929143977399959</br>"
          ],
          [
           "</br>id: Mary</br>prediction: 1.0</br>fare: 307.23641999999995</br></br>gender: female</br>age: 35.0</br>class: 3rd</br>embarked: Cherbourg</br>sibsp: 0.0</br>parch: 0.0</br>_original_yhat_: 0.8929143977399959</br>"
          ],
          [
           "</br>id: Mary</br>prediction: 1.0</br>fare: 312.35702699999996</br></br>gender: female</br>age: 35.0</br>class: 3rd</br>embarked: Cherbourg</br>sibsp: 0.0</br>parch: 0.0</br>_original_yhat_: 0.8929143977399959</br>"
          ],
          [
           "</br>id: Mary</br>prediction: 1.0</br>fare: 317.47763399999997</br></br>gender: female</br>age: 35.0</br>class: 3rd</br>embarked: Cherbourg</br>sibsp: 0.0</br>parch: 0.0</br>_original_yhat_: 0.8929143977399959</br>"
          ],
          [
           "</br>id: Mary</br>prediction: 1.0</br>fare: 322.598241</br></br>gender: female</br>age: 35.0</br>class: 3rd</br>embarked: Cherbourg</br>sibsp: 0.0</br>parch: 0.0</br>_original_yhat_: 0.8929143977399959</br>"
          ],
          [
           "</br>id: Mary</br>prediction: 1.0</br>fare: 327.718848</br></br>gender: female</br>age: 35.0</br>class: 3rd</br>embarked: Cherbourg</br>sibsp: 0.0</br>parch: 0.0</br>_original_yhat_: 0.8929143977399959</br>"
          ],
          [
           "</br>id: Mary</br>prediction: 1.0</br>fare: 332.839455</br></br>gender: female</br>age: 35.0</br>class: 3rd</br>embarked: Cherbourg</br>sibsp: 0.0</br>parch: 0.0</br>_original_yhat_: 0.8929143977399959</br>"
          ],
          [
           "</br>id: Mary</br>prediction: 1.0</br>fare: 337.960062</br></br>gender: female</br>age: 35.0</br>class: 3rd</br>embarked: Cherbourg</br>sibsp: 0.0</br>parch: 0.0</br>_original_yhat_: 0.8929143977399959</br>"
          ],
          [
           "</br>id: Mary</br>prediction: 1.0</br>fare: 343.080669</br></br>gender: female</br>age: 35.0</br>class: 3rd</br>embarked: Cherbourg</br>sibsp: 0.0</br>parch: 0.0</br>_original_yhat_: 0.8929143977399959</br>"
          ],
          [
           "</br>id: Mary</br>prediction: 1.0</br>fare: 348.201276</br></br>gender: female</br>age: 35.0</br>class: 3rd</br>embarked: Cherbourg</br>sibsp: 0.0</br>parch: 0.0</br>_original_yhat_: 0.8929143977399959</br>"
          ],
          [
           "</br>id: Mary</br>prediction: 1.0</br>fare: 353.32188299999996</br></br>gender: female</br>age: 35.0</br>class: 3rd</br>embarked: Cherbourg</br>sibsp: 0.0</br>parch: 0.0</br>_original_yhat_: 0.8929143977399959</br>"
          ],
          [
           "</br>id: Mary</br>prediction: 1.0</br>fare: 358.44248999999996</br></br>gender: female</br>age: 35.0</br>class: 3rd</br>embarked: Cherbourg</br>sibsp: 0.0</br>parch: 0.0</br>_original_yhat_: 0.8929143977399959</br>"
          ],
          [
           "</br>id: Mary</br>prediction: 1.0</br>fare: 363.56309699999997</br></br>gender: female</br>age: 35.0</br>class: 3rd</br>embarked: Cherbourg</br>sibsp: 0.0</br>parch: 0.0</br>_original_yhat_: 0.8929143977399959</br>"
          ],
          [
           "</br>id: Mary</br>prediction: 1.0</br>fare: 368.683704</br></br>gender: female</br>age: 35.0</br>class: 3rd</br>embarked: Cherbourg</br>sibsp: 0.0</br>parch: 0.0</br>_original_yhat_: 0.8929143977399959</br>"
          ],
          [
           "</br>id: Mary</br>prediction: 1.0</br>fare: 373.804311</br></br>gender: female</br>age: 35.0</br>class: 3rd</br>embarked: Cherbourg</br>sibsp: 0.0</br>parch: 0.0</br>_original_yhat_: 0.8929143977399959</br>"
          ],
          [
           "</br>id: Mary</br>prediction: 1.0</br>fare: 378.924918</br></br>gender: female</br>age: 35.0</br>class: 3rd</br>embarked: Cherbourg</br>sibsp: 0.0</br>parch: 0.0</br>_original_yhat_: 0.8929143977399959</br>"
          ],
          [
           "</br>id: Mary</br>prediction: 1.0</br>fare: 384.045525</br></br>gender: female</br>age: 35.0</br>class: 3rd</br>embarked: Cherbourg</br>sibsp: 0.0</br>parch: 0.0</br>_original_yhat_: 0.8929143977399959</br>"
          ],
          [
           "</br>id: Mary</br>prediction: 1.0</br>fare: 389.16613199999995</br></br>gender: female</br>age: 35.0</br>class: 3rd</br>embarked: Cherbourg</br>sibsp: 0.0</br>parch: 0.0</br>_original_yhat_: 0.8929143977399959</br>"
          ],
          [
           "</br>id: Mary</br>prediction: 1.0</br>fare: 394.28673899999995</br></br>gender: female</br>age: 35.0</br>class: 3rd</br>embarked: Cherbourg</br>sibsp: 0.0</br>parch: 0.0</br>_original_yhat_: 0.8929143977399959</br>"
          ],
          [
           "</br>id: Mary</br>prediction: 1.0</br>fare: 399.40734599999996</br></br>gender: female</br>age: 35.0</br>class: 3rd</br>embarked: Cherbourg</br>sibsp: 0.0</br>parch: 0.0</br>_original_yhat_: 0.8929143977399959</br>"
          ],
          [
           "</br>id: Mary</br>prediction: 1.0</br>fare: 404.52795299999997</br></br>gender: female</br>age: 35.0</br>class: 3rd</br>embarked: Cherbourg</br>sibsp: 0.0</br>parch: 0.0</br>_original_yhat_: 0.8929143977399959</br>"
          ],
          [
           "</br>id: Mary</br>prediction: 1.0</br>fare: 409.64856</br></br>gender: female</br>age: 35.0</br>class: 3rd</br>embarked: Cherbourg</br>sibsp: 0.0</br>parch: 0.0</br>_original_yhat_: 0.8929143977399959</br>"
          ],
          [
           "</br>id: Mary</br>prediction: 1.0</br>fare: 414.769167</br></br>gender: female</br>age: 35.0</br>class: 3rd</br>embarked: Cherbourg</br>sibsp: 0.0</br>parch: 0.0</br>_original_yhat_: 0.8929143977399959</br>"
          ],
          [
           "</br>id: Mary</br>prediction: 1.0</br>fare: 419.889774</br></br>gender: female</br>age: 35.0</br>class: 3rd</br>embarked: Cherbourg</br>sibsp: 0.0</br>parch: 0.0</br>_original_yhat_: 0.8929143977399959</br>"
          ],
          [
           "</br>id: Mary</br>prediction: 1.0</br>fare: 425.010381</br></br>gender: female</br>age: 35.0</br>class: 3rd</br>embarked: Cherbourg</br>sibsp: 0.0</br>parch: 0.0</br>_original_yhat_: 0.8929143977399959</br>"
          ],
          [
           "</br>id: Mary</br>prediction: 1.0</br>fare: 430.130988</br></br>gender: female</br>age: 35.0</br>class: 3rd</br>embarked: Cherbourg</br>sibsp: 0.0</br>parch: 0.0</br>_original_yhat_: 0.8929143977399959</br>"
          ],
          [
           "</br>id: Mary</br>prediction: 1.0</br>fare: 435.25159499999995</br></br>gender: female</br>age: 35.0</br>class: 3rd</br>embarked: Cherbourg</br>sibsp: 0.0</br>parch: 0.0</br>_original_yhat_: 0.8929143977399959</br>"
          ],
          [
           "</br>id: Mary</br>prediction: 1.0</br>fare: 440.37220199999996</br></br>gender: female</br>age: 35.0</br>class: 3rd</br>embarked: Cherbourg</br>sibsp: 0.0</br>parch: 0.0</br>_original_yhat_: 0.8929143977399959</br>"
          ],
          [
           "</br>id: Mary</br>prediction: 1.0</br>fare: 445.49280899999997</br></br>gender: female</br>age: 35.0</br>class: 3rd</br>embarked: Cherbourg</br>sibsp: 0.0</br>parch: 0.0</br>_original_yhat_: 0.8929143977399959</br>"
          ],
          [
           "</br>id: Mary</br>prediction: 1.0</br>fare: 450.613416</br></br>gender: female</br>age: 35.0</br>class: 3rd</br>embarked: Cherbourg</br>sibsp: 0.0</br>parch: 0.0</br>_original_yhat_: 0.8929143977399959</br>"
          ],
          [
           "</br>id: Mary</br>prediction: 1.0</br>fare: 455.734023</br></br>gender: female</br>age: 35.0</br>class: 3rd</br>embarked: Cherbourg</br>sibsp: 0.0</br>parch: 0.0</br>_original_yhat_: 0.8929143977399959</br>"
          ],
          [
           "</br>id: Mary</br>prediction: 1.0</br>fare: 460.85463</br></br>gender: female</br>age: 35.0</br>class: 3rd</br>embarked: Cherbourg</br>sibsp: 0.0</br>parch: 0.0</br>_original_yhat_: 0.8929143977399959</br>"
          ],
          [
           "</br>id: Mary</br>prediction: 1.0</br>fare: 465.975237</br></br>gender: female</br>age: 35.0</br>class: 3rd</br>embarked: Cherbourg</br>sibsp: 0.0</br>parch: 0.0</br>_original_yhat_: 0.8929143977399959</br>"
          ],
          [
           "</br>id: Mary</br>prediction: 1.0</br>fare: 471.09584399999994</br></br>gender: female</br>age: 35.0</br>class: 3rd</br>embarked: Cherbourg</br>sibsp: 0.0</br>parch: 0.0</br>_original_yhat_: 0.8929143977399959</br>"
          ],
          [
           "</br>id: Mary</br>prediction: 1.0</br>fare: 476.21645099999995</br></br>gender: female</br>age: 35.0</br>class: 3rd</br>embarked: Cherbourg</br>sibsp: 0.0</br>parch: 0.0</br>_original_yhat_: 0.8929143977399959</br>"
          ],
          [
           "</br>id: Mary</br>prediction: 1.0</br>fare: 481.33705799999996</br></br>gender: female</br>age: 35.0</br>class: 3rd</br>embarked: Cherbourg</br>sibsp: 0.0</br>parch: 0.0</br>_original_yhat_: 0.8929143977399959</br>"
          ],
          [
           "</br>id: Mary</br>prediction: 1.0</br>fare: 486.45766499999996</br></br>gender: female</br>age: 35.0</br>class: 3rd</br>embarked: Cherbourg</br>sibsp: 0.0</br>parch: 0.0</br>_original_yhat_: 0.8929143977399959</br>"
          ],
          [
           "</br>id: Mary</br>prediction: 1.0</br>fare: 491.57827199999997</br></br>gender: female</br>age: 35.0</br>class: 3rd</br>embarked: Cherbourg</br>sibsp: 0.0</br>parch: 0.0</br>_original_yhat_: 0.8929143977399959</br>"
          ],
          [
           "</br>id: Mary</br>prediction: 1.0</br>fare: 496.698879</br></br>gender: female</br>age: 35.0</br>class: 3rd</br>embarked: Cherbourg</br>sibsp: 0.0</br>parch: 0.0</br>_original_yhat_: 0.8929143977399959</br>"
          ],
          [
           "</br>id: Mary</br>prediction: 1.0</br>fare: 501.819486</br></br>gender: female</br>age: 35.0</br>class: 3rd</br>embarked: Cherbourg</br>sibsp: 0.0</br>parch: 0.0</br>_original_yhat_: 0.8929143977399959</br>"
          ],
          [
           "</br>id: Mary</br>prediction: 1.0</br>fare: 506.940093</br></br>gender: female</br>age: 35.0</br>class: 3rd</br>embarked: Cherbourg</br>sibsp: 0.0</br>parch: 0.0</br>_original_yhat_: 0.8929143977399959</br>"
          ],
          [
           "</br>id: Mary</br>prediction: 1.0</br>fare: 512.0607</br></br>gender: female</br>age: 35.0</br>class: 3rd</br>embarked: Cherbourg</br>sibsp: 0.0</br>parch: 0.0</br>_original_yhat_: 0.8929143977399959</br>"
          ]
         ],
         "hovertemplate": "%{customdata[0]}<extra></extra>",
         "legendgroup": "Mary",
         "line": {
          "color": "#8bdcbe",
          "dash": "solid",
          "width": 2
         },
         "marker": {
          "symbol": "circle"
         },
         "mode": "lines",
         "name": "Mary",
         "opacity": 1,
         "orientation": "v",
         "showlegend": false,
         "type": "scatter",
         "x": [
          0,
          5.120607,
          10.241214,
          15.361820999999999,
          20.482428,
          25,
          25.603035,
          30.723641999999998,
          35.844249,
          40.964856,
          46.085463,
          51.20607,
          56.326677,
          61.447283999999996,
          66.567891,
          71.688498,
          76.80910499999999,
          81.929712,
          87.050319,
          92.170926,
          97.29153299999999,
          102.41214,
          107.532747,
          112.653354,
          117.77396099999999,
          122.89456799999999,
          128.015175,
          133.135782,
          138.25638899999998,
          143.376996,
          148.497603,
          153.61820999999998,
          158.73881699999998,
          163.859424,
          168.980031,
          174.100638,
          179.22124499999998,
          184.341852,
          189.462459,
          194.58306599999997,
          199.70367299999998,
          204.82428,
          209.944887,
          215.065494,
          220.18610099999998,
          225.306708,
          230.427315,
          235.54792199999997,
          240.66852899999998,
          245.78913599999998,
          250.909743,
          256.03035,
          261.150957,
          266.271564,
          271.39217099999996,
          276.51277799999997,
          281.633385,
          286.753992,
          291.874599,
          296.995206,
          302.115813,
          307.23641999999995,
          312.35702699999996,
          317.47763399999997,
          322.598241,
          327.718848,
          332.839455,
          337.960062,
          343.080669,
          348.201276,
          353.32188299999996,
          358.44248999999996,
          363.56309699999997,
          368.683704,
          373.804311,
          378.924918,
          384.045525,
          389.16613199999995,
          394.28673899999995,
          399.40734599999996,
          404.52795299999997,
          409.64856,
          414.769167,
          419.889774,
          425.010381,
          430.130988,
          435.25159499999995,
          440.37220199999996,
          445.49280899999997,
          450.613416,
          455.734023,
          460.85463,
          465.975237,
          471.09584399999994,
          476.21645099999995,
          481.33705799999996,
          486.45766499999996,
          491.57827199999997,
          496.698879,
          501.819486,
          506.940093,
          512.0607
         ],
         "xaxis": "x4",
         "y": [
          0.9126093489489516,
          0.9086192896627041,
          0.9039739058233814,
          0.9000850249991872,
          0.8965278988009058,
          0.8929143977399959,
          0.8922183138167353,
          0.8868761519458124,
          0.8830801828056233,
          0.8809492373203704,
          0.8899829097068821,
          0.901560338728373,
          0.910462217027365,
          0.9250501112334092,
          0.937076991240281,
          0.9490312977998435,
          0.9600664166468909,
          0.9690500463261718,
          0.975808828197377,
          0.981199486970504,
          0.9854574154157604,
          0.9886387586933282,
          0.9911300082670057,
          0.9931087758907484,
          0.9946507555260884,
          0.9958375438822546,
          0.9967735510919262,
          0.9974733617158931,
          0.9980442022194225,
          0.9985230844723562,
          0.9989027606286033,
          0.9991841743087007,
          0.9993934564428087,
          0.9995490760777141,
          0.9996607588311233,
          0.9997424603247962,
          0.9998037258715639,
          0.9998453121934356,
          0.9998773898142418,
          0.9999017404572541,
          0.999920790584254,
          0.999935957227066,
          0.9999480526158767,
          0.999957845322483,
          0.9999657097337634,
          0.9999721069949385,
          0.9999773107972564,
          0.9999815437805927,
          0.9999850012899878,
          0.9999877596459821,
          0.9999900083948797,
          0.9999918440159912,
          0.9999933424057577,
          0.9999945750432057,
          0.9999955824140713,
          0.9999964013038366,
          0.999997068396106,
          0.9999976088097552,
          0.9999980472096162,
          0.9999984019803662,
          0.9999986922986684,
          0.9999989291332975,
          0.9999991224248669,
          0.9999992820015159,
          0.9999994119248742,
          0.999999518338335,
          0.9999996054960583,
          0.9999996768824075,
          0.9999997353512445,
          0.9999997832400197,
          0.999999822463217,
          0.9999998545888908,
          0.9999998809013539,
          0.9999999024379707,
          0.9999999199119001,
          0.9999999346425907,
          0.9999999467059144,
          0.9999999565426535,
          0.9999999645637799,
          0.9999999711058796,
          0.9999999764436897,
          0.9999999807954095,
          0.9999999843432059,
          0.999999987146894,
          0.9999999894389234,
          0.9999999913222267,
          0.9999999928671888,
          0.9999999941344042,
          0.9999999951764862,
          0.9999999960279549,
          0.9999999967178512,
          0.9999999972879212,
          0.9999999977589766,
          0.9999999981482155,
          0.9999999984694654,
          0.9999999987325636,
          0.9999999989504353,
          0.9999999991308552,
          0.9999999992802608,
          0.9999999994035307,
          0.9999999995048541,
          0.9999999995889655
         ],
         "yaxis": "y4"
        },
        {
         "customdata": [
          [
           "</br>id: Mary</br>prediction: 0.893</br>sibsp: 0.0</br></br>gender: female</br>age: 35.0</br>class: 3rd</br>embarked: Cherbourg</br>fare: 25.0</br>parch: 0.0</br>_original_yhat_: 0.8929143977399959</br>"
          ],
          [
           "</br>id: Mary</br>prediction: 0.885</br>sibsp: 0.08</br></br>gender: female</br>age: 35.0</br>class: 3rd</br>embarked: Cherbourg</br>fare: 25.0</br>parch: 0.0</br>_original_yhat_: 0.8929143977399959</br>"
          ],
          [
           "</br>id: Mary</br>prediction: 0.873</br>sibsp: 0.16</br></br>gender: female</br>age: 35.0</br>class: 3rd</br>embarked: Cherbourg</br>fare: 25.0</br>parch: 0.0</br>_original_yhat_: 0.8929143977399959</br>"
          ],
          [
           "</br>id: Mary</br>prediction: 0.861</br>sibsp: 0.24</br></br>gender: female</br>age: 35.0</br>class: 3rd</br>embarked: Cherbourg</br>fare: 25.0</br>parch: 0.0</br>_original_yhat_: 0.8929143977399959</br>"
          ],
          [
           "</br>id: Mary</br>prediction: 0.849</br>sibsp: 0.32</br></br>gender: female</br>age: 35.0</br>class: 3rd</br>embarked: Cherbourg</br>fare: 25.0</br>parch: 0.0</br>_original_yhat_: 0.8929143977399959</br>"
          ],
          [
           "</br>id: Mary</br>prediction: 0.835</br>sibsp: 0.4</br></br>gender: female</br>age: 35.0</br>class: 3rd</br>embarked: Cherbourg</br>fare: 25.0</br>parch: 0.0</br>_original_yhat_: 0.8929143977399959</br>"
          ],
          [
           "</br>id: Mary</br>prediction: 0.818</br>sibsp: 0.48</br></br>gender: female</br>age: 35.0</br>class: 3rd</br>embarked: Cherbourg</br>fare: 25.0</br>parch: 0.0</br>_original_yhat_: 0.8929143977399959</br>"
          ],
          [
           "</br>id: Mary</br>prediction: 0.797</br>sibsp: 0.56</br></br>gender: female</br>age: 35.0</br>class: 3rd</br>embarked: Cherbourg</br>fare: 25.0</br>parch: 0.0</br>_original_yhat_: 0.8929143977399959</br>"
          ],
          [
           "</br>id: Mary</br>prediction: 0.774</br>sibsp: 0.64</br></br>gender: female</br>age: 35.0</br>class: 3rd</br>embarked: Cherbourg</br>fare: 25.0</br>parch: 0.0</br>_original_yhat_: 0.8929143977399959</br>"
          ],
          [
           "</br>id: Mary</br>prediction: 0.757</br>sibsp: 0.72</br></br>gender: female</br>age: 35.0</br>class: 3rd</br>embarked: Cherbourg</br>fare: 25.0</br>parch: 0.0</br>_original_yhat_: 0.8929143977399959</br>"
          ],
          [
           "</br>id: Mary</br>prediction: 0.753</br>sibsp: 0.8</br></br>gender: female</br>age: 35.0</br>class: 3rd</br>embarked: Cherbourg</br>fare: 25.0</br>parch: 0.0</br>_original_yhat_: 0.8929143977399959</br>"
          ],
          [
           "</br>id: Mary</br>prediction: 0.758</br>sibsp: 0.88</br></br>gender: female</br>age: 35.0</br>class: 3rd</br>embarked: Cherbourg</br>fare: 25.0</br>parch: 0.0</br>_original_yhat_: 0.8929143977399959</br>"
          ],
          [
           "</br>id: Mary</br>prediction: 0.772</br>sibsp: 0.96</br></br>gender: female</br>age: 35.0</br>class: 3rd</br>embarked: Cherbourg</br>fare: 25.0</br>parch: 0.0</br>_original_yhat_: 0.8929143977399959</br>"
          ],
          [
           "</br>id: Mary</br>prediction: 0.789</br>sibsp: 1.04</br></br>gender: female</br>age: 35.0</br>class: 3rd</br>embarked: Cherbourg</br>fare: 25.0</br>parch: 0.0</br>_original_yhat_: 0.8929143977399959</br>"
          ],
          [
           "</br>id: Mary</br>prediction: 0.812</br>sibsp: 1.12</br></br>gender: female</br>age: 35.0</br>class: 3rd</br>embarked: Cherbourg</br>fare: 25.0</br>parch: 0.0</br>_original_yhat_: 0.8929143977399959</br>"
          ],
          [
           "</br>id: Mary</br>prediction: 0.832</br>sibsp: 1.2</br></br>gender: female</br>age: 35.0</br>class: 3rd</br>embarked: Cherbourg</br>fare: 25.0</br>parch: 0.0</br>_original_yhat_: 0.8929143977399959</br>"
          ],
          [
           "</br>id: Mary</br>prediction: 0.854</br>sibsp: 1.28</br></br>gender: female</br>age: 35.0</br>class: 3rd</br>embarked: Cherbourg</br>fare: 25.0</br>parch: 0.0</br>_original_yhat_: 0.8929143977399959</br>"
          ],
          [
           "</br>id: Mary</br>prediction: 0.879</br>sibsp: 1.36</br></br>gender: female</br>age: 35.0</br>class: 3rd</br>embarked: Cherbourg</br>fare: 25.0</br>parch: 0.0</br>_original_yhat_: 0.8929143977399959</br>"
          ],
          [
           "</br>id: Mary</br>prediction: 0.899</br>sibsp: 1.44</br></br>gender: female</br>age: 35.0</br>class: 3rd</br>embarked: Cherbourg</br>fare: 25.0</br>parch: 0.0</br>_original_yhat_: 0.8929143977399959</br>"
          ],
          [
           "</br>id: Mary</br>prediction: 0.919</br>sibsp: 1.52</br></br>gender: female</br>age: 35.0</br>class: 3rd</br>embarked: Cherbourg</br>fare: 25.0</br>parch: 0.0</br>_original_yhat_: 0.8929143977399959</br>"
          ],
          [
           "</br>id: Mary</br>prediction: 0.935</br>sibsp: 1.6</br></br>gender: female</br>age: 35.0</br>class: 3rd</br>embarked: Cherbourg</br>fare: 25.0</br>parch: 0.0</br>_original_yhat_: 0.8929143977399959</br>"
          ],
          [
           "</br>id: Mary</br>prediction: 0.949</br>sibsp: 1.68</br></br>gender: female</br>age: 35.0</br>class: 3rd</br>embarked: Cherbourg</br>fare: 25.0</br>parch: 0.0</br>_original_yhat_: 0.8929143977399959</br>"
          ],
          [
           "</br>id: Mary</br>prediction: 0.96</br>sibsp: 1.76</br></br>gender: female</br>age: 35.0</br>class: 3rd</br>embarked: Cherbourg</br>fare: 25.0</br>parch: 0.0</br>_original_yhat_: 0.8929143977399959</br>"
          ],
          [
           "</br>id: Mary</br>prediction: 0.969</br>sibsp: 1.84</br></br>gender: female</br>age: 35.0</br>class: 3rd</br>embarked: Cherbourg</br>fare: 25.0</br>parch: 0.0</br>_original_yhat_: 0.8929143977399959</br>"
          ],
          [
           "</br>id: Mary</br>prediction: 0.976</br>sibsp: 1.92</br></br>gender: female</br>age: 35.0</br>class: 3rd</br>embarked: Cherbourg</br>fare: 25.0</br>parch: 0.0</br>_original_yhat_: 0.8929143977399959</br>"
          ],
          [
           "</br>id: Mary</br>prediction: 0.981</br>sibsp: 2.0</br></br>gender: female</br>age: 35.0</br>class: 3rd</br>embarked: Cherbourg</br>fare: 25.0</br>parch: 0.0</br>_original_yhat_: 0.8929143977399959</br>"
          ],
          [
           "</br>id: Mary</br>prediction: 0.986</br>sibsp: 2.08</br></br>gender: female</br>age: 35.0</br>class: 3rd</br>embarked: Cherbourg</br>fare: 25.0</br>parch: 0.0</br>_original_yhat_: 0.8929143977399959</br>"
          ],
          [
           "</br>id: Mary</br>prediction: 0.989</br>sibsp: 2.16</br></br>gender: female</br>age: 35.0</br>class: 3rd</br>embarked: Cherbourg</br>fare: 25.0</br>parch: 0.0</br>_original_yhat_: 0.8929143977399959</br>"
          ],
          [
           "</br>id: Mary</br>prediction: 0.992</br>sibsp: 2.24</br></br>gender: female</br>age: 35.0</br>class: 3rd</br>embarked: Cherbourg</br>fare: 25.0</br>parch: 0.0</br>_original_yhat_: 0.8929143977399959</br>"
          ],
          [
           "</br>id: Mary</br>prediction: 0.994</br>sibsp: 2.32</br></br>gender: female</br>age: 35.0</br>class: 3rd</br>embarked: Cherbourg</br>fare: 25.0</br>parch: 0.0</br>_original_yhat_: 0.8929143977399959</br>"
          ],
          [
           "</br>id: Mary</br>prediction: 0.995</br>sibsp: 2.4</br></br>gender: female</br>age: 35.0</br>class: 3rd</br>embarked: Cherbourg</br>fare: 25.0</br>parch: 0.0</br>_original_yhat_: 0.8929143977399959</br>"
          ],
          [
           "</br>id: Mary</br>prediction: 0.996</br>sibsp: 2.48</br></br>gender: female</br>age: 35.0</br>class: 3rd</br>embarked: Cherbourg</br>fare: 25.0</br>parch: 0.0</br>_original_yhat_: 0.8929143977399959</br>"
          ],
          [
           "</br>id: Mary</br>prediction: 0.997</br>sibsp: 2.56</br></br>gender: female</br>age: 35.0</br>class: 3rd</br>embarked: Cherbourg</br>fare: 25.0</br>parch: 0.0</br>_original_yhat_: 0.8929143977399959</br>"
          ],
          [
           "</br>id: Mary</br>prediction: 0.998</br>sibsp: 2.64</br></br>gender: female</br>age: 35.0</br>class: 3rd</br>embarked: Cherbourg</br>fare: 25.0</br>parch: 0.0</br>_original_yhat_: 0.8929143977399959</br>"
          ],
          [
           "</br>id: Mary</br>prediction: 0.998</br>sibsp: 2.72</br></br>gender: female</br>age: 35.0</br>class: 3rd</br>embarked: Cherbourg</br>fare: 25.0</br>parch: 0.0</br>_original_yhat_: 0.8929143977399959</br>"
          ],
          [
           "</br>id: Mary</br>prediction: 0.998</br>sibsp: 2.8000000000000003</br></br>gender: female</br>age: 35.0</br>class: 3rd</br>embarked: Cherbourg</br>fare: 25.0</br>parch: 0.0</br>_original_yhat_: 0.8929143977399959</br>"
          ],
          [
           "</br>id: Mary</br>prediction: 0.999</br>sibsp: 2.88</br></br>gender: female</br>age: 35.0</br>class: 3rd</br>embarked: Cherbourg</br>fare: 25.0</br>parch: 0.0</br>_original_yhat_: 0.8929143977399959</br>"
          ],
          [
           "</br>id: Mary</br>prediction: 0.999</br>sibsp: 2.96</br></br>gender: female</br>age: 35.0</br>class: 3rd</br>embarked: Cherbourg</br>fare: 25.0</br>parch: 0.0</br>_original_yhat_: 0.8929143977399959</br>"
          ],
          [
           "</br>id: Mary</br>prediction: 0.999</br>sibsp: 3.04</br></br>gender: female</br>age: 35.0</br>class: 3rd</br>embarked: Cherbourg</br>fare: 25.0</br>parch: 0.0</br>_original_yhat_: 0.8929143977399959</br>"
          ],
          [
           "</br>id: Mary</br>prediction: 0.999</br>sibsp: 3.12</br></br>gender: female</br>age: 35.0</br>class: 3rd</br>embarked: Cherbourg</br>fare: 25.0</br>parch: 0.0</br>_original_yhat_: 0.8929143977399959</br>"
          ],
          [
           "</br>id: Mary</br>prediction: 0.999</br>sibsp: 3.2</br></br>gender: female</br>age: 35.0</br>class: 3rd</br>embarked: Cherbourg</br>fare: 25.0</br>parch: 0.0</br>_original_yhat_: 0.8929143977399959</br>"
          ],
          [
           "</br>id: Mary</br>prediction: 0.999</br>sibsp: 3.2800000000000002</br></br>gender: female</br>age: 35.0</br>class: 3rd</br>embarked: Cherbourg</br>fare: 25.0</br>parch: 0.0</br>_original_yhat_: 0.8929143977399959</br>"
          ],
          [
           "</br>id: Mary</br>prediction: 0.999</br>sibsp: 3.36</br></br>gender: female</br>age: 35.0</br>class: 3rd</br>embarked: Cherbourg</br>fare: 25.0</br>parch: 0.0</br>_original_yhat_: 0.8929143977399959</br>"
          ],
          [
           "</br>id: Mary</br>prediction: 0.999</br>sibsp: 3.44</br></br>gender: female</br>age: 35.0</br>class: 3rd</br>embarked: Cherbourg</br>fare: 25.0</br>parch: 0.0</br>_original_yhat_: 0.8929143977399959</br>"
          ],
          [
           "</br>id: Mary</br>prediction: 0.999</br>sibsp: 3.52</br></br>gender: female</br>age: 35.0</br>class: 3rd</br>embarked: Cherbourg</br>fare: 25.0</br>parch: 0.0</br>_original_yhat_: 0.8929143977399959</br>"
          ],
          [
           "</br>id: Mary</br>prediction: 1.0</br>sibsp: 3.6</br></br>gender: female</br>age: 35.0</br>class: 3rd</br>embarked: Cherbourg</br>fare: 25.0</br>parch: 0.0</br>_original_yhat_: 0.8929143977399959</br>"
          ],
          [
           "</br>id: Mary</br>prediction: 1.0</br>sibsp: 3.68</br></br>gender: female</br>age: 35.0</br>class: 3rd</br>embarked: Cherbourg</br>fare: 25.0</br>parch: 0.0</br>_original_yhat_: 0.8929143977399959</br>"
          ],
          [
           "</br>id: Mary</br>prediction: 1.0</br>sibsp: 3.7600000000000002</br></br>gender: female</br>age: 35.0</br>class: 3rd</br>embarked: Cherbourg</br>fare: 25.0</br>parch: 0.0</br>_original_yhat_: 0.8929143977399959</br>"
          ],
          [
           "</br>id: Mary</br>prediction: 1.0</br>sibsp: 3.84</br></br>gender: female</br>age: 35.0</br>class: 3rd</br>embarked: Cherbourg</br>fare: 25.0</br>parch: 0.0</br>_original_yhat_: 0.8929143977399959</br>"
          ],
          [
           "</br>id: Mary</br>prediction: 1.0</br>sibsp: 3.92</br></br>gender: female</br>age: 35.0</br>class: 3rd</br>embarked: Cherbourg</br>fare: 25.0</br>parch: 0.0</br>_original_yhat_: 0.8929143977399959</br>"
          ],
          [
           "</br>id: Mary</br>prediction: 1.0</br>sibsp: 4.0</br></br>gender: female</br>age: 35.0</br>class: 3rd</br>embarked: Cherbourg</br>fare: 25.0</br>parch: 0.0</br>_original_yhat_: 0.8929143977399959</br>"
          ],
          [
           "</br>id: Mary</br>prediction: 1.0</br>sibsp: 4.08</br></br>gender: female</br>age: 35.0</br>class: 3rd</br>embarked: Cherbourg</br>fare: 25.0</br>parch: 0.0</br>_original_yhat_: 0.8929143977399959</br>"
          ],
          [
           "</br>id: Mary</br>prediction: 1.0</br>sibsp: 4.16</br></br>gender: female</br>age: 35.0</br>class: 3rd</br>embarked: Cherbourg</br>fare: 25.0</br>parch: 0.0</br>_original_yhat_: 0.8929143977399959</br>"
          ],
          [
           "</br>id: Mary</br>prediction: 1.0</br>sibsp: 4.24</br></br>gender: female</br>age: 35.0</br>class: 3rd</br>embarked: Cherbourg</br>fare: 25.0</br>parch: 0.0</br>_original_yhat_: 0.8929143977399959</br>"
          ],
          [
           "</br>id: Mary</br>prediction: 1.0</br>sibsp: 4.32</br></br>gender: female</br>age: 35.0</br>class: 3rd</br>embarked: Cherbourg</br>fare: 25.0</br>parch: 0.0</br>_original_yhat_: 0.8929143977399959</br>"
          ],
          [
           "</br>id: Mary</br>prediction: 1.0</br>sibsp: 4.4</br></br>gender: female</br>age: 35.0</br>class: 3rd</br>embarked: Cherbourg</br>fare: 25.0</br>parch: 0.0</br>_original_yhat_: 0.8929143977399959</br>"
          ],
          [
           "</br>id: Mary</br>prediction: 1.0</br>sibsp: 4.48</br></br>gender: female</br>age: 35.0</br>class: 3rd</br>embarked: Cherbourg</br>fare: 25.0</br>parch: 0.0</br>_original_yhat_: 0.8929143977399959</br>"
          ],
          [
           "</br>id: Mary</br>prediction: 1.0</br>sibsp: 4.5600000000000005</br></br>gender: female</br>age: 35.0</br>class: 3rd</br>embarked: Cherbourg</br>fare: 25.0</br>parch: 0.0</br>_original_yhat_: 0.8929143977399959</br>"
          ],
          [
           "</br>id: Mary</br>prediction: 1.0</br>sibsp: 4.64</br></br>gender: female</br>age: 35.0</br>class: 3rd</br>embarked: Cherbourg</br>fare: 25.0</br>parch: 0.0</br>_original_yhat_: 0.8929143977399959</br>"
          ],
          [
           "</br>id: Mary</br>prediction: 1.0</br>sibsp: 4.72</br></br>gender: female</br>age: 35.0</br>class: 3rd</br>embarked: Cherbourg</br>fare: 25.0</br>parch: 0.0</br>_original_yhat_: 0.8929143977399959</br>"
          ],
          [
           "</br>id: Mary</br>prediction: 1.0</br>sibsp: 4.8</br></br>gender: female</br>age: 35.0</br>class: 3rd</br>embarked: Cherbourg</br>fare: 25.0</br>parch: 0.0</br>_original_yhat_: 0.8929143977399959</br>"
          ],
          [
           "</br>id: Mary</br>prediction: 1.0</br>sibsp: 4.88</br></br>gender: female</br>age: 35.0</br>class: 3rd</br>embarked: Cherbourg</br>fare: 25.0</br>parch: 0.0</br>_original_yhat_: 0.8929143977399959</br>"
          ],
          [
           "</br>id: Mary</br>prediction: 1.0</br>sibsp: 4.96</br></br>gender: female</br>age: 35.0</br>class: 3rd</br>embarked: Cherbourg</br>fare: 25.0</br>parch: 0.0</br>_original_yhat_: 0.8929143977399959</br>"
          ],
          [
           "</br>id: Mary</br>prediction: 1.0</br>sibsp: 5.04</br></br>gender: female</br>age: 35.0</br>class: 3rd</br>embarked: Cherbourg</br>fare: 25.0</br>parch: 0.0</br>_original_yhat_: 0.8929143977399959</br>"
          ],
          [
           "</br>id: Mary</br>prediction: 1.0</br>sibsp: 5.12</br></br>gender: female</br>age: 35.0</br>class: 3rd</br>embarked: Cherbourg</br>fare: 25.0</br>parch: 0.0</br>_original_yhat_: 0.8929143977399959</br>"
          ],
          [
           "</br>id: Mary</br>prediction: 1.0</br>sibsp: 5.2</br></br>gender: female</br>age: 35.0</br>class: 3rd</br>embarked: Cherbourg</br>fare: 25.0</br>parch: 0.0</br>_original_yhat_: 0.8929143977399959</br>"
          ],
          [
           "</br>id: Mary</br>prediction: 1.0</br>sibsp: 5.28</br></br>gender: female</br>age: 35.0</br>class: 3rd</br>embarked: Cherbourg</br>fare: 25.0</br>parch: 0.0</br>_original_yhat_: 0.8929143977399959</br>"
          ],
          [
           "</br>id: Mary</br>prediction: 1.0</br>sibsp: 5.36</br></br>gender: female</br>age: 35.0</br>class: 3rd</br>embarked: Cherbourg</br>fare: 25.0</br>parch: 0.0</br>_original_yhat_: 0.8929143977399959</br>"
          ],
          [
           "</br>id: Mary</br>prediction: 1.0</br>sibsp: 5.44</br></br>gender: female</br>age: 35.0</br>class: 3rd</br>embarked: Cherbourg</br>fare: 25.0</br>parch: 0.0</br>_original_yhat_: 0.8929143977399959</br>"
          ],
          [
           "</br>id: Mary</br>prediction: 1.0</br>sibsp: 5.5200000000000005</br></br>gender: female</br>age: 35.0</br>class: 3rd</br>embarked: Cherbourg</br>fare: 25.0</br>parch: 0.0</br>_original_yhat_: 0.8929143977399959</br>"
          ],
          [
           "</br>id: Mary</br>prediction: 1.0</br>sibsp: 5.6000000000000005</br></br>gender: female</br>age: 35.0</br>class: 3rd</br>embarked: Cherbourg</br>fare: 25.0</br>parch: 0.0</br>_original_yhat_: 0.8929143977399959</br>"
          ],
          [
           "</br>id: Mary</br>prediction: 1.0</br>sibsp: 5.68</br></br>gender: female</br>age: 35.0</br>class: 3rd</br>embarked: Cherbourg</br>fare: 25.0</br>parch: 0.0</br>_original_yhat_: 0.8929143977399959</br>"
          ],
          [
           "</br>id: Mary</br>prediction: 1.0</br>sibsp: 5.76</br></br>gender: female</br>age: 35.0</br>class: 3rd</br>embarked: Cherbourg</br>fare: 25.0</br>parch: 0.0</br>_original_yhat_: 0.8929143977399959</br>"
          ],
          [
           "</br>id: Mary</br>prediction: 0.999</br>sibsp: 5.84</br></br>gender: female</br>age: 35.0</br>class: 3rd</br>embarked: Cherbourg</br>fare: 25.0</br>parch: 0.0</br>_original_yhat_: 0.8929143977399959</br>"
          ],
          [
           "</br>id: Mary</br>prediction: 0.999</br>sibsp: 5.92</br></br>gender: female</br>age: 35.0</br>class: 3rd</br>embarked: Cherbourg</br>fare: 25.0</br>parch: 0.0</br>_original_yhat_: 0.8929143977399959</br>"
          ],
          [
           "</br>id: Mary</br>prediction: 0.999</br>sibsp: 6.0</br></br>gender: female</br>age: 35.0</br>class: 3rd</br>embarked: Cherbourg</br>fare: 25.0</br>parch: 0.0</br>_original_yhat_: 0.8929143977399959</br>"
          ],
          [
           "</br>id: Mary</br>prediction: 0.999</br>sibsp: 6.08</br></br>gender: female</br>age: 35.0</br>class: 3rd</br>embarked: Cherbourg</br>fare: 25.0</br>parch: 0.0</br>_original_yhat_: 0.8929143977399959</br>"
          ],
          [
           "</br>id: Mary</br>prediction: 0.999</br>sibsp: 6.16</br></br>gender: female</br>age: 35.0</br>class: 3rd</br>embarked: Cherbourg</br>fare: 25.0</br>parch: 0.0</br>_original_yhat_: 0.8929143977399959</br>"
          ],
          [
           "</br>id: Mary</br>prediction: 0.999</br>sibsp: 6.24</br></br>gender: female</br>age: 35.0</br>class: 3rd</br>embarked: Cherbourg</br>fare: 25.0</br>parch: 0.0</br>_original_yhat_: 0.8929143977399959</br>"
          ],
          [
           "</br>id: Mary</br>prediction: 0.999</br>sibsp: 6.32</br></br>gender: female</br>age: 35.0</br>class: 3rd</br>embarked: Cherbourg</br>fare: 25.0</br>parch: 0.0</br>_original_yhat_: 0.8929143977399959</br>"
          ],
          [
           "</br>id: Mary</br>prediction: 0.999</br>sibsp: 6.4</br></br>gender: female</br>age: 35.0</br>class: 3rd</br>embarked: Cherbourg</br>fare: 25.0</br>parch: 0.0</br>_original_yhat_: 0.8929143977399959</br>"
          ],
          [
           "</br>id: Mary</br>prediction: 0.999</br>sibsp: 6.48</br></br>gender: female</br>age: 35.0</br>class: 3rd</br>embarked: Cherbourg</br>fare: 25.0</br>parch: 0.0</br>_original_yhat_: 0.8929143977399959</br>"
          ],
          [
           "</br>id: Mary</br>prediction: 0.999</br>sibsp: 6.5600000000000005</br></br>gender: female</br>age: 35.0</br>class: 3rd</br>embarked: Cherbourg</br>fare: 25.0</br>parch: 0.0</br>_original_yhat_: 0.8929143977399959</br>"
          ],
          [
           "</br>id: Mary</br>prediction: 0.999</br>sibsp: 6.640000000000001</br></br>gender: female</br>age: 35.0</br>class: 3rd</br>embarked: Cherbourg</br>fare: 25.0</br>parch: 0.0</br>_original_yhat_: 0.8929143977399959</br>"
          ],
          [
           "</br>id: Mary</br>prediction: 0.999</br>sibsp: 6.72</br></br>gender: female</br>age: 35.0</br>class: 3rd</br>embarked: Cherbourg</br>fare: 25.0</br>parch: 0.0</br>_original_yhat_: 0.8929143977399959</br>"
          ],
          [
           "</br>id: Mary</br>prediction: 0.999</br>sibsp: 6.8</br></br>gender: female</br>age: 35.0</br>class: 3rd</br>embarked: Cherbourg</br>fare: 25.0</br>parch: 0.0</br>_original_yhat_: 0.8929143977399959</br>"
          ],
          [
           "</br>id: Mary</br>prediction: 0.999</br>sibsp: 6.88</br></br>gender: female</br>age: 35.0</br>class: 3rd</br>embarked: Cherbourg</br>fare: 25.0</br>parch: 0.0</br>_original_yhat_: 0.8929143977399959</br>"
          ],
          [
           "</br>id: Mary</br>prediction: 0.999</br>sibsp: 6.96</br></br>gender: female</br>age: 35.0</br>class: 3rd</br>embarked: Cherbourg</br>fare: 25.0</br>parch: 0.0</br>_original_yhat_: 0.8929143977399959</br>"
          ],
          [
           "</br>id: Mary</br>prediction: 0.999</br>sibsp: 7.04</br></br>gender: female</br>age: 35.0</br>class: 3rd</br>embarked: Cherbourg</br>fare: 25.0</br>parch: 0.0</br>_original_yhat_: 0.8929143977399959</br>"
          ],
          [
           "</br>id: Mary</br>prediction: 0.999</br>sibsp: 7.12</br></br>gender: female</br>age: 35.0</br>class: 3rd</br>embarked: Cherbourg</br>fare: 25.0</br>parch: 0.0</br>_original_yhat_: 0.8929143977399959</br>"
          ],
          [
           "</br>id: Mary</br>prediction: 0.999</br>sibsp: 7.2</br></br>gender: female</br>age: 35.0</br>class: 3rd</br>embarked: Cherbourg</br>fare: 25.0</br>parch: 0.0</br>_original_yhat_: 0.8929143977399959</br>"
          ],
          [
           "</br>id: Mary</br>prediction: 0.999</br>sibsp: 7.28</br></br>gender: female</br>age: 35.0</br>class: 3rd</br>embarked: Cherbourg</br>fare: 25.0</br>parch: 0.0</br>_original_yhat_: 0.8929143977399959</br>"
          ],
          [
           "</br>id: Mary</br>prediction: 0.999</br>sibsp: 7.36</br></br>gender: female</br>age: 35.0</br>class: 3rd</br>embarked: Cherbourg</br>fare: 25.0</br>parch: 0.0</br>_original_yhat_: 0.8929143977399959</br>"
          ],
          [
           "</br>id: Mary</br>prediction: 0.999</br>sibsp: 7.44</br></br>gender: female</br>age: 35.0</br>class: 3rd</br>embarked: Cherbourg</br>fare: 25.0</br>parch: 0.0</br>_original_yhat_: 0.8929143977399959</br>"
          ],
          [
           "</br>id: Mary</br>prediction: 0.999</br>sibsp: 7.5200000000000005</br></br>gender: female</br>age: 35.0</br>class: 3rd</br>embarked: Cherbourg</br>fare: 25.0</br>parch: 0.0</br>_original_yhat_: 0.8929143977399959</br>"
          ],
          [
           "</br>id: Mary</br>prediction: 0.999</br>sibsp: 7.6000000000000005</br></br>gender: female</br>age: 35.0</br>class: 3rd</br>embarked: Cherbourg</br>fare: 25.0</br>parch: 0.0</br>_original_yhat_: 0.8929143977399959</br>"
          ],
          [
           "</br>id: Mary</br>prediction: 0.999</br>sibsp: 7.68</br></br>gender: female</br>age: 35.0</br>class: 3rd</br>embarked: Cherbourg</br>fare: 25.0</br>parch: 0.0</br>_original_yhat_: 0.8929143977399959</br>"
          ],
          [
           "</br>id: Mary</br>prediction: 0.999</br>sibsp: 7.76</br></br>gender: female</br>age: 35.0</br>class: 3rd</br>embarked: Cherbourg</br>fare: 25.0</br>parch: 0.0</br>_original_yhat_: 0.8929143977399959</br>"
          ],
          [
           "</br>id: Mary</br>prediction: 0.999</br>sibsp: 7.84</br></br>gender: female</br>age: 35.0</br>class: 3rd</br>embarked: Cherbourg</br>fare: 25.0</br>parch: 0.0</br>_original_yhat_: 0.8929143977399959</br>"
          ],
          [
           "</br>id: Mary</br>prediction: 0.999</br>sibsp: 7.92</br></br>gender: female</br>age: 35.0</br>class: 3rd</br>embarked: Cherbourg</br>fare: 25.0</br>parch: 0.0</br>_original_yhat_: 0.8929143977399959</br>"
          ],
          [
           "</br>id: Mary</br>prediction: 0.999</br>sibsp: 8.0</br></br>gender: female</br>age: 35.0</br>class: 3rd</br>embarked: Cherbourg</br>fare: 25.0</br>parch: 0.0</br>_original_yhat_: 0.8929143977399959</br>"
          ]
         ],
         "hovertemplate": "%{customdata[0]}<extra></extra>",
         "legendgroup": "Mary",
         "line": {
          "color": "#8bdcbe",
          "dash": "solid",
          "width": 2
         },
         "marker": {
          "symbol": "circle"
         },
         "mode": "lines",
         "name": "Mary",
         "opacity": 1,
         "orientation": "v",
         "showlegend": false,
         "type": "scatter",
         "x": [
          0,
          0.08,
          0.16,
          0.24,
          0.32,
          0.4,
          0.48,
          0.56,
          0.64,
          0.72,
          0.8,
          0.88,
          0.96,
          1.04,
          1.12,
          1.2,
          1.28,
          1.36,
          1.44,
          1.52,
          1.6,
          1.68,
          1.76,
          1.84,
          1.92,
          2,
          2.08,
          2.16,
          2.24,
          2.32,
          2.4,
          2.48,
          2.56,
          2.64,
          2.72,
          2.8000000000000003,
          2.88,
          2.96,
          3.04,
          3.12,
          3.2,
          3.2800000000000002,
          3.36,
          3.44,
          3.52,
          3.6,
          3.68,
          3.7600000000000002,
          3.84,
          3.92,
          4,
          4.08,
          4.16,
          4.24,
          4.32,
          4.4,
          4.48,
          4.5600000000000005,
          4.64,
          4.72,
          4.8,
          4.88,
          4.96,
          5.04,
          5.12,
          5.2,
          5.28,
          5.36,
          5.44,
          5.5200000000000005,
          5.6000000000000005,
          5.68,
          5.76,
          5.84,
          5.92,
          6,
          6.08,
          6.16,
          6.24,
          6.32,
          6.4,
          6.48,
          6.5600000000000005,
          6.640000000000001,
          6.72,
          6.8,
          6.88,
          6.96,
          7.04,
          7.12,
          7.2,
          7.28,
          7.36,
          7.44,
          7.5200000000000005,
          7.6000000000000005,
          7.68,
          7.76,
          7.84,
          7.92,
          8
         ],
         "xaxis": "x",
         "y": [
          0.8929143977399959,
          0.8845438483902479,
          0.8730185008049145,
          0.8610123539310052,
          0.8490723352700797,
          0.8348320112346187,
          0.8175198034996397,
          0.79676157859033,
          0.7738680617745596,
          0.7574906854907846,
          0.7526179281594617,
          0.7583138593580055,
          0.7718296952025872,
          0.7892391625986699,
          0.811609957315718,
          0.8315761002785956,
          0.8541393109027543,
          0.8790267015236611,
          0.8993791560641534,
          0.9185607518538361,
          0.9353466265243268,
          0.9488652783102173,
          0.9595375130359852,
          0.9685192656528095,
          0.975654256173474,
          0.9812042797826772,
          0.9856404661939027,
          0.9890037572859932,
          0.9915471403731685,
          0.9935044958483253,
          0.9950044921471357,
          0.9961190570915304,
          0.9969814284367865,
          0.9976020390380669,
          0.998064229371066,
          0.998418722022964,
          0.9986988314218858,
          0.9989157324422956,
          0.9990732499802755,
          0.9992038676810895,
          0.9992782304679503,
          0.9993449168304351,
          0.9993977670241991,
          0.9994430457149213,
          0.9994847615644948,
          0.9995222461987455,
          0.9995567311701156,
          0.9995841656825314,
          0.9996099028982212,
          0.9996342243447424,
          0.9996565725263665,
          0.9996769356532478,
          0.9996936652128988,
          0.9996970818823294,
          0.9996978229909383,
          0.999691008950408,
          0.9996837129553207,
          0.9996750001117152,
          0.9996651043525203,
          0.9996549073863128,
          0.999648228923351,
          0.999641537536426,
          0.9996331324669622,
          0.9996242831080495,
          0.9996138578051824,
          0.9996021835155476,
          0.9995901564202327,
          0.9995777658660705,
          0.9995642539673045,
          0.9995500803854308,
          0.9995350403338987,
          0.9995194436372288,
          0.9995033240219307,
          0.9994866639735693,
          0.999469445392299,
          0.9994516495733762,
          0.9994332571870335,
          0.9994141440339075,
          0.9993892921347427,
          0.9993633162342611,
          0.9993362362064253,
          0.999308020842688,
          0.9992802309143137,
          0.999251325776725,
          0.9992212607451022,
          0.9991899893497819,
          0.9991574632654239,
          0.9991236322374063,
          0.9990881563828087,
          0.9990507268209676,
          0.9990117623617868,
          0.9989712001900876,
          0.9989289749306657,
          0.9988850185448502,
          0.9988392602229595,
          0.9987893706890802,
          0.9987368708286364,
          0.9986820972759328,
          0.9986249518268416,
          0.998565332059233,
          0.9985031311538961
         ],
         "yaxis": "y"
        },
        {
         "customdata": [
          [
           "</br>id: Mary</br>prediction: 0.893</br>parch: 0.0</br></br>gender: female</br>age: 35.0</br>class: 3rd</br>embarked: Cherbourg</br>fare: 25.0</br>sibsp: 0.0</br>_original_yhat_: 0.8929143977399959</br>"
          ],
          [
           "</br>id: Mary</br>prediction: 0.874</br>parch: 0.09</br></br>gender: female</br>age: 35.0</br>class: 3rd</br>embarked: Cherbourg</br>fare: 25.0</br>sibsp: 0.0</br>_original_yhat_: 0.8929143977399959</br>"
          ],
          [
           "</br>id: Mary</br>prediction: 0.849</br>parch: 0.18</br></br>gender: female</br>age: 35.0</br>class: 3rd</br>embarked: Cherbourg</br>fare: 25.0</br>sibsp: 0.0</br>_original_yhat_: 0.8929143977399959</br>"
          ],
          [
           "</br>id: Mary</br>prediction: 0.821</br>parch: 0.27</br></br>gender: female</br>age: 35.0</br>class: 3rd</br>embarked: Cherbourg</br>fare: 25.0</br>sibsp: 0.0</br>_original_yhat_: 0.8929143977399959</br>"
          ],
          [
           "</br>id: Mary</br>prediction: 0.796</br>parch: 0.36</br></br>gender: female</br>age: 35.0</br>class: 3rd</br>embarked: Cherbourg</br>fare: 25.0</br>sibsp: 0.0</br>_original_yhat_: 0.8929143977399959</br>"
          ],
          [
           "</br>id: Mary</br>prediction: 0.772</br>parch: 0.44999999999999996</br></br>gender: female</br>age: 35.0</br>class: 3rd</br>embarked: Cherbourg</br>fare: 25.0</br>sibsp: 0.0</br>_original_yhat_: 0.8929143977399959</br>"
          ],
          [
           "</br>id: Mary</br>prediction: 0.748</br>parch: 0.54</br></br>gender: female</br>age: 35.0</br>class: 3rd</br>embarked: Cherbourg</br>fare: 25.0</br>sibsp: 0.0</br>_original_yhat_: 0.8929143977399959</br>"
          ],
          [
           "</br>id: Mary</br>prediction: 0.72</br>parch: 0.63</br></br>gender: female</br>age: 35.0</br>class: 3rd</br>embarked: Cherbourg</br>fare: 25.0</br>sibsp: 0.0</br>_original_yhat_: 0.8929143977399959</br>"
          ],
          [
           "</br>id: Mary</br>prediction: 0.693</br>parch: 0.72</br></br>gender: female</br>age: 35.0</br>class: 3rd</br>embarked: Cherbourg</br>fare: 25.0</br>sibsp: 0.0</br>_original_yhat_: 0.8929143977399959</br>"
          ],
          [
           "</br>id: Mary</br>prediction: 0.676</br>parch: 0.8099999999999999</br></br>gender: female</br>age: 35.0</br>class: 3rd</br>embarked: Cherbourg</br>fare: 25.0</br>sibsp: 0.0</br>_original_yhat_: 0.8929143977399959</br>"
          ],
          [
           "</br>id: Mary</br>prediction: 0.661</br>parch: 0.8999999999999999</br></br>gender: female</br>age: 35.0</br>class: 3rd</br>embarked: Cherbourg</br>fare: 25.0</br>sibsp: 0.0</br>_original_yhat_: 0.8929143977399959</br>"
          ],
          [
           "</br>id: Mary</br>prediction: 0.669</br>parch: 0.99</br></br>gender: female</br>age: 35.0</br>class: 3rd</br>embarked: Cherbourg</br>fare: 25.0</br>sibsp: 0.0</br>_original_yhat_: 0.8929143977399959</br>"
          ],
          [
           "</br>id: Mary</br>prediction: 0.673</br>parch: 1.08</br></br>gender: female</br>age: 35.0</br>class: 3rd</br>embarked: Cherbourg</br>fare: 25.0</br>sibsp: 0.0</br>_original_yhat_: 0.8929143977399959</br>"
          ],
          [
           "</br>id: Mary</br>prediction: 0.673</br>parch: 1.17</br></br>gender: female</br>age: 35.0</br>class: 3rd</br>embarked: Cherbourg</br>fare: 25.0</br>sibsp: 0.0</br>_original_yhat_: 0.8929143977399959</br>"
          ],
          [
           "</br>id: Mary</br>prediction: 0.676</br>parch: 1.26</br></br>gender: female</br>age: 35.0</br>class: 3rd</br>embarked: Cherbourg</br>fare: 25.0</br>sibsp: 0.0</br>_original_yhat_: 0.8929143977399959</br>"
          ],
          [
           "</br>id: Mary</br>prediction: 0.684</br>parch: 1.3499999999999999</br></br>gender: female</br>age: 35.0</br>class: 3rd</br>embarked: Cherbourg</br>fare: 25.0</br>sibsp: 0.0</br>_original_yhat_: 0.8929143977399959</br>"
          ],
          [
           "</br>id: Mary</br>prediction: 0.685</br>parch: 1.44</br></br>gender: female</br>age: 35.0</br>class: 3rd</br>embarked: Cherbourg</br>fare: 25.0</br>sibsp: 0.0</br>_original_yhat_: 0.8929143977399959</br>"
          ],
          [
           "</br>id: Mary</br>prediction: 0.679</br>parch: 1.53</br></br>gender: female</br>age: 35.0</br>class: 3rd</br>embarked: Cherbourg</br>fare: 25.0</br>sibsp: 0.0</br>_original_yhat_: 0.8929143977399959</br>"
          ],
          [
           "</br>id: Mary</br>prediction: 0.676</br>parch: 1.6199999999999999</br></br>gender: female</br>age: 35.0</br>class: 3rd</br>embarked: Cherbourg</br>fare: 25.0</br>sibsp: 0.0</br>_original_yhat_: 0.8929143977399959</br>"
          ],
          [
           "</br>id: Mary</br>prediction: 0.672</br>parch: 1.71</br></br>gender: female</br>age: 35.0</br>class: 3rd</br>embarked: Cherbourg</br>fare: 25.0</br>sibsp: 0.0</br>_original_yhat_: 0.8929143977399959</br>"
          ],
          [
           "</br>id: Mary</br>prediction: 0.668</br>parch: 1.7999999999999998</br></br>gender: female</br>age: 35.0</br>class: 3rd</br>embarked: Cherbourg</br>fare: 25.0</br>sibsp: 0.0</br>_original_yhat_: 0.8929143977399959</br>"
          ],
          [
           "</br>id: Mary</br>prediction: 0.652</br>parch: 1.89</br></br>gender: female</br>age: 35.0</br>class: 3rd</br>embarked: Cherbourg</br>fare: 25.0</br>sibsp: 0.0</br>_original_yhat_: 0.8929143977399959</br>"
          ],
          [
           "</br>id: Mary</br>prediction: 0.64</br>parch: 1.98</br></br>gender: female</br>age: 35.0</br>class: 3rd</br>embarked: Cherbourg</br>fare: 25.0</br>sibsp: 0.0</br>_original_yhat_: 0.8929143977399959</br>"
          ],
          [
           "</br>id: Mary</br>prediction: 0.635</br>parch: 2.07</br></br>gender: female</br>age: 35.0</br>class: 3rd</br>embarked: Cherbourg</br>fare: 25.0</br>sibsp: 0.0</br>_original_yhat_: 0.8929143977399959</br>"
          ],
          [
           "</br>id: Mary</br>prediction: 0.632</br>parch: 2.16</br></br>gender: female</br>age: 35.0</br>class: 3rd</br>embarked: Cherbourg</br>fare: 25.0</br>sibsp: 0.0</br>_original_yhat_: 0.8929143977399959</br>"
          ],
          [
           "</br>id: Mary</br>prediction: 0.629</br>parch: 2.25</br></br>gender: female</br>age: 35.0</br>class: 3rd</br>embarked: Cherbourg</br>fare: 25.0</br>sibsp: 0.0</br>_original_yhat_: 0.8929143977399959</br>"
          ],
          [
           "</br>id: Mary</br>prediction: 0.632</br>parch: 2.34</br></br>gender: female</br>age: 35.0</br>class: 3rd</br>embarked: Cherbourg</br>fare: 25.0</br>sibsp: 0.0</br>_original_yhat_: 0.8929143977399959</br>"
          ],
          [
           "</br>id: Mary</br>prediction: 0.636</br>parch: 2.4299999999999997</br></br>gender: female</br>age: 35.0</br>class: 3rd</br>embarked: Cherbourg</br>fare: 25.0</br>sibsp: 0.0</br>_original_yhat_: 0.8929143977399959</br>"
          ],
          [
           "</br>id: Mary</br>prediction: 0.636</br>parch: 2.52</br></br>gender: female</br>age: 35.0</br>class: 3rd</br>embarked: Cherbourg</br>fare: 25.0</br>sibsp: 0.0</br>_original_yhat_: 0.8929143977399959</br>"
          ],
          [
           "</br>id: Mary</br>prediction: 0.636</br>parch: 2.61</br></br>gender: female</br>age: 35.0</br>class: 3rd</br>embarked: Cherbourg</br>fare: 25.0</br>sibsp: 0.0</br>_original_yhat_: 0.8929143977399959</br>"
          ],
          [
           "</br>id: Mary</br>prediction: 0.636</br>parch: 2.6999999999999997</br></br>gender: female</br>age: 35.0</br>class: 3rd</br>embarked: Cherbourg</br>fare: 25.0</br>sibsp: 0.0</br>_original_yhat_: 0.8929143977399959</br>"
          ],
          [
           "</br>id: Mary</br>prediction: 0.636</br>parch: 2.79</br></br>gender: female</br>age: 35.0</br>class: 3rd</br>embarked: Cherbourg</br>fare: 25.0</br>sibsp: 0.0</br>_original_yhat_: 0.8929143977399959</br>"
          ],
          [
           "</br>id: Mary</br>prediction: 0.637</br>parch: 2.88</br></br>gender: female</br>age: 35.0</br>class: 3rd</br>embarked: Cherbourg</br>fare: 25.0</br>sibsp: 0.0</br>_original_yhat_: 0.8929143977399959</br>"
          ],
          [
           "</br>id: Mary</br>prediction: 0.638</br>parch: 2.9699999999999998</br></br>gender: female</br>age: 35.0</br>class: 3rd</br>embarked: Cherbourg</br>fare: 25.0</br>sibsp: 0.0</br>_original_yhat_: 0.8929143977399959</br>"
          ],
          [
           "</br>id: Mary</br>prediction: 0.638</br>parch: 3.06</br></br>gender: female</br>age: 35.0</br>class: 3rd</br>embarked: Cherbourg</br>fare: 25.0</br>sibsp: 0.0</br>_original_yhat_: 0.8929143977399959</br>"
          ],
          [
           "</br>id: Mary</br>prediction: 0.638</br>parch: 3.15</br></br>gender: female</br>age: 35.0</br>class: 3rd</br>embarked: Cherbourg</br>fare: 25.0</br>sibsp: 0.0</br>_original_yhat_: 0.8929143977399959</br>"
          ],
          [
           "</br>id: Mary</br>prediction: 0.638</br>parch: 3.2399999999999998</br></br>gender: female</br>age: 35.0</br>class: 3rd</br>embarked: Cherbourg</br>fare: 25.0</br>sibsp: 0.0</br>_original_yhat_: 0.8929143977399959</br>"
          ],
          [
           "</br>id: Mary</br>prediction: 0.637</br>parch: 3.33</br></br>gender: female</br>age: 35.0</br>class: 3rd</br>embarked: Cherbourg</br>fare: 25.0</br>sibsp: 0.0</br>_original_yhat_: 0.8929143977399959</br>"
          ],
          [
           "</br>id: Mary</br>prediction: 0.636</br>parch: 3.42</br></br>gender: female</br>age: 35.0</br>class: 3rd</br>embarked: Cherbourg</br>fare: 25.0</br>sibsp: 0.0</br>_original_yhat_: 0.8929143977399959</br>"
          ],
          [
           "</br>id: Mary</br>prediction: 0.634</br>parch: 3.51</br></br>gender: female</br>age: 35.0</br>class: 3rd</br>embarked: Cherbourg</br>fare: 25.0</br>sibsp: 0.0</br>_original_yhat_: 0.8929143977399959</br>"
          ],
          [
           "</br>id: Mary</br>prediction: 0.632</br>parch: 3.5999999999999996</br></br>gender: female</br>age: 35.0</br>class: 3rd</br>embarked: Cherbourg</br>fare: 25.0</br>sibsp: 0.0</br>_original_yhat_: 0.8929143977399959</br>"
          ],
          [
           "</br>id: Mary</br>prediction: 0.63</br>parch: 3.69</br></br>gender: female</br>age: 35.0</br>class: 3rd</br>embarked: Cherbourg</br>fare: 25.0</br>sibsp: 0.0</br>_original_yhat_: 0.8929143977399959</br>"
          ],
          [
           "</br>id: Mary</br>prediction: 0.621</br>parch: 3.78</br></br>gender: female</br>age: 35.0</br>class: 3rd</br>embarked: Cherbourg</br>fare: 25.0</br>sibsp: 0.0</br>_original_yhat_: 0.8929143977399959</br>"
          ],
          [
           "</br>id: Mary</br>prediction: 0.613</br>parch: 3.8699999999999997</br></br>gender: female</br>age: 35.0</br>class: 3rd</br>embarked: Cherbourg</br>fare: 25.0</br>sibsp: 0.0</br>_original_yhat_: 0.8929143977399959</br>"
          ],
          [
           "</br>id: Mary</br>prediction: 0.606</br>parch: 3.96</br></br>gender: female</br>age: 35.0</br>class: 3rd</br>embarked: Cherbourg</br>fare: 25.0</br>sibsp: 0.0</br>_original_yhat_: 0.8929143977399959</br>"
          ],
          [
           "</br>id: Mary</br>prediction: 0.599</br>parch: 4.05</br></br>gender: female</br>age: 35.0</br>class: 3rd</br>embarked: Cherbourg</br>fare: 25.0</br>sibsp: 0.0</br>_original_yhat_: 0.8929143977399959</br>"
          ],
          [
           "</br>id: Mary</br>prediction: 0.592</br>parch: 4.14</br></br>gender: female</br>age: 35.0</br>class: 3rd</br>embarked: Cherbourg</br>fare: 25.0</br>sibsp: 0.0</br>_original_yhat_: 0.8929143977399959</br>"
          ],
          [
           "</br>id: Mary</br>prediction: 0.585</br>parch: 4.2299999999999995</br></br>gender: female</br>age: 35.0</br>class: 3rd</br>embarked: Cherbourg</br>fare: 25.0</br>sibsp: 0.0</br>_original_yhat_: 0.8929143977399959</br>"
          ],
          [
           "</br>id: Mary</br>prediction: 0.577</br>parch: 4.32</br></br>gender: female</br>age: 35.0</br>class: 3rd</br>embarked: Cherbourg</br>fare: 25.0</br>sibsp: 0.0</br>_original_yhat_: 0.8929143977399959</br>"
          ],
          [
           "</br>id: Mary</br>prediction: 0.57</br>parch: 4.41</br></br>gender: female</br>age: 35.0</br>class: 3rd</br>embarked: Cherbourg</br>fare: 25.0</br>sibsp: 0.0</br>_original_yhat_: 0.8929143977399959</br>"
          ],
          [
           "</br>id: Mary</br>prediction: 0.562</br>parch: 4.5</br></br>gender: female</br>age: 35.0</br>class: 3rd</br>embarked: Cherbourg</br>fare: 25.0</br>sibsp: 0.0</br>_original_yhat_: 0.8929143977399959</br>"
          ],
          [
           "</br>id: Mary</br>prediction: 0.555</br>parch: 4.59</br></br>gender: female</br>age: 35.0</br>class: 3rd</br>embarked: Cherbourg</br>fare: 25.0</br>sibsp: 0.0</br>_original_yhat_: 0.8929143977399959</br>"
          ],
          [
           "</br>id: Mary</br>prediction: 0.547</br>parch: 4.68</br></br>gender: female</br>age: 35.0</br>class: 3rd</br>embarked: Cherbourg</br>fare: 25.0</br>sibsp: 0.0</br>_original_yhat_: 0.8929143977399959</br>"
          ],
          [
           "</br>id: Mary</br>prediction: 0.54</br>parch: 4.77</br></br>gender: female</br>age: 35.0</br>class: 3rd</br>embarked: Cherbourg</br>fare: 25.0</br>sibsp: 0.0</br>_original_yhat_: 0.8929143977399959</br>"
          ],
          [
           "</br>id: Mary</br>prediction: 0.533</br>parch: 4.859999999999999</br></br>gender: female</br>age: 35.0</br>class: 3rd</br>embarked: Cherbourg</br>fare: 25.0</br>sibsp: 0.0</br>_original_yhat_: 0.8929143977399959</br>"
          ],
          [
           "</br>id: Mary</br>prediction: 0.526</br>parch: 4.95</br></br>gender: female</br>age: 35.0</br>class: 3rd</br>embarked: Cherbourg</br>fare: 25.0</br>sibsp: 0.0</br>_original_yhat_: 0.8929143977399959</br>"
          ],
          [
           "</br>id: Mary</br>prediction: 0.519</br>parch: 5.04</br></br>gender: female</br>age: 35.0</br>class: 3rd</br>embarked: Cherbourg</br>fare: 25.0</br>sibsp: 0.0</br>_original_yhat_: 0.8929143977399959</br>"
          ],
          [
           "</br>id: Mary</br>prediction: 0.512</br>parch: 5.13</br></br>gender: female</br>age: 35.0</br>class: 3rd</br>embarked: Cherbourg</br>fare: 25.0</br>sibsp: 0.0</br>_original_yhat_: 0.8929143977399959</br>"
          ],
          [
           "</br>id: Mary</br>prediction: 0.504</br>parch: 5.22</br></br>gender: female</br>age: 35.0</br>class: 3rd</br>embarked: Cherbourg</br>fare: 25.0</br>sibsp: 0.0</br>_original_yhat_: 0.8929143977399959</br>"
          ],
          [
           "</br>id: Mary</br>prediction: 0.497</br>parch: 5.31</br></br>gender: female</br>age: 35.0</br>class: 3rd</br>embarked: Cherbourg</br>fare: 25.0</br>sibsp: 0.0</br>_original_yhat_: 0.8929143977399959</br>"
          ],
          [
           "</br>id: Mary</br>prediction: 0.49</br>parch: 5.3999999999999995</br></br>gender: female</br>age: 35.0</br>class: 3rd</br>embarked: Cherbourg</br>fare: 25.0</br>sibsp: 0.0</br>_original_yhat_: 0.8929143977399959</br>"
          ],
          [
           "</br>id: Mary</br>prediction: 0.483</br>parch: 5.49</br></br>gender: female</br>age: 35.0</br>class: 3rd</br>embarked: Cherbourg</br>fare: 25.0</br>sibsp: 0.0</br>_original_yhat_: 0.8929143977399959</br>"
          ],
          [
           "</br>id: Mary</br>prediction: 0.476</br>parch: 5.58</br></br>gender: female</br>age: 35.0</br>class: 3rd</br>embarked: Cherbourg</br>fare: 25.0</br>sibsp: 0.0</br>_original_yhat_: 0.8929143977399959</br>"
          ],
          [
           "</br>id: Mary</br>prediction: 0.469</br>parch: 5.67</br></br>gender: female</br>age: 35.0</br>class: 3rd</br>embarked: Cherbourg</br>fare: 25.0</br>sibsp: 0.0</br>_original_yhat_: 0.8929143977399959</br>"
          ],
          [
           "</br>id: Mary</br>prediction: 0.463</br>parch: 5.76</br></br>gender: female</br>age: 35.0</br>class: 3rd</br>embarked: Cherbourg</br>fare: 25.0</br>sibsp: 0.0</br>_original_yhat_: 0.8929143977399959</br>"
          ],
          [
           "</br>id: Mary</br>prediction: 0.455</br>parch: 5.85</br></br>gender: female</br>age: 35.0</br>class: 3rd</br>embarked: Cherbourg</br>fare: 25.0</br>sibsp: 0.0</br>_original_yhat_: 0.8929143977399959</br>"
          ],
          [
           "</br>id: Mary</br>prediction: 0.448</br>parch: 5.9399999999999995</br></br>gender: female</br>age: 35.0</br>class: 3rd</br>embarked: Cherbourg</br>fare: 25.0</br>sibsp: 0.0</br>_original_yhat_: 0.8929143977399959</br>"
          ],
          [
           "</br>id: Mary</br>prediction: 0.441</br>parch: 6.029999999999999</br></br>gender: female</br>age: 35.0</br>class: 3rd</br>embarked: Cherbourg</br>fare: 25.0</br>sibsp: 0.0</br>_original_yhat_: 0.8929143977399959</br>"
          ],
          [
           "</br>id: Mary</br>prediction: 0.434</br>parch: 6.12</br></br>gender: female</br>age: 35.0</br>class: 3rd</br>embarked: Cherbourg</br>fare: 25.0</br>sibsp: 0.0</br>_original_yhat_: 0.8929143977399959</br>"
          ],
          [
           "</br>id: Mary</br>prediction: 0.427</br>parch: 6.21</br></br>gender: female</br>age: 35.0</br>class: 3rd</br>embarked: Cherbourg</br>fare: 25.0</br>sibsp: 0.0</br>_original_yhat_: 0.8929143977399959</br>"
          ],
          [
           "</br>id: Mary</br>prediction: 0.42</br>parch: 6.3</br></br>gender: female</br>age: 35.0</br>class: 3rd</br>embarked: Cherbourg</br>fare: 25.0</br>sibsp: 0.0</br>_original_yhat_: 0.8929143977399959</br>"
          ],
          [
           "</br>id: Mary</br>prediction: 0.413</br>parch: 6.39</br></br>gender: female</br>age: 35.0</br>class: 3rd</br>embarked: Cherbourg</br>fare: 25.0</br>sibsp: 0.0</br>_original_yhat_: 0.8929143977399959</br>"
          ],
          [
           "</br>id: Mary</br>prediction: 0.406</br>parch: 6.4799999999999995</br></br>gender: female</br>age: 35.0</br>class: 3rd</br>embarked: Cherbourg</br>fare: 25.0</br>sibsp: 0.0</br>_original_yhat_: 0.8929143977399959</br>"
          ],
          [
           "</br>id: Mary</br>prediction: 0.4</br>parch: 6.569999999999999</br></br>gender: female</br>age: 35.0</br>class: 3rd</br>embarked: Cherbourg</br>fare: 25.0</br>sibsp: 0.0</br>_original_yhat_: 0.8929143977399959</br>"
          ],
          [
           "</br>id: Mary</br>prediction: 0.395</br>parch: 6.66</br></br>gender: female</br>age: 35.0</br>class: 3rd</br>embarked: Cherbourg</br>fare: 25.0</br>sibsp: 0.0</br>_original_yhat_: 0.8929143977399959</br>"
          ],
          [
           "</br>id: Mary</br>prediction: 0.39</br>parch: 6.75</br></br>gender: female</br>age: 35.0</br>class: 3rd</br>embarked: Cherbourg</br>fare: 25.0</br>sibsp: 0.0</br>_original_yhat_: 0.8929143977399959</br>"
          ],
          [
           "</br>id: Mary</br>prediction: 0.386</br>parch: 6.84</br></br>gender: female</br>age: 35.0</br>class: 3rd</br>embarked: Cherbourg</br>fare: 25.0</br>sibsp: 0.0</br>_original_yhat_: 0.8929143977399959</br>"
          ],
          [
           "</br>id: Mary</br>prediction: 0.382</br>parch: 6.93</br></br>gender: female</br>age: 35.0</br>class: 3rd</br>embarked: Cherbourg</br>fare: 25.0</br>sibsp: 0.0</br>_original_yhat_: 0.8929143977399959</br>"
          ],
          [
           "</br>id: Mary</br>prediction: 0.379</br>parch: 7.02</br></br>gender: female</br>age: 35.0</br>class: 3rd</br>embarked: Cherbourg</br>fare: 25.0</br>sibsp: 0.0</br>_original_yhat_: 0.8929143977399959</br>"
          ],
          [
           "</br>id: Mary</br>prediction: 0.375</br>parch: 7.109999999999999</br></br>gender: female</br>age: 35.0</br>class: 3rd</br>embarked: Cherbourg</br>fare: 25.0</br>sibsp: 0.0</br>_original_yhat_: 0.8929143977399959</br>"
          ],
          [
           "</br>id: Mary</br>prediction: 0.37</br>parch: 7.199999999999999</br></br>gender: female</br>age: 35.0</br>class: 3rd</br>embarked: Cherbourg</br>fare: 25.0</br>sibsp: 0.0</br>_original_yhat_: 0.8929143977399959</br>"
          ],
          [
           "</br>id: Mary</br>prediction: 0.364</br>parch: 7.29</br></br>gender: female</br>age: 35.0</br>class: 3rd</br>embarked: Cherbourg</br>fare: 25.0</br>sibsp: 0.0</br>_original_yhat_: 0.8929143977399959</br>"
          ],
          [
           "</br>id: Mary</br>prediction: 0.359</br>parch: 7.38</br></br>gender: female</br>age: 35.0</br>class: 3rd</br>embarked: Cherbourg</br>fare: 25.0</br>sibsp: 0.0</br>_original_yhat_: 0.8929143977399959</br>"
          ],
          [
           "</br>id: Mary</br>prediction: 0.354</br>parch: 7.47</br></br>gender: female</br>age: 35.0</br>class: 3rd</br>embarked: Cherbourg</br>fare: 25.0</br>sibsp: 0.0</br>_original_yhat_: 0.8929143977399959</br>"
          ],
          [
           "</br>id: Mary</br>prediction: 0.349</br>parch: 7.56</br></br>gender: female</br>age: 35.0</br>class: 3rd</br>embarked: Cherbourg</br>fare: 25.0</br>sibsp: 0.0</br>_original_yhat_: 0.8929143977399959</br>"
          ],
          [
           "</br>id: Mary</br>prediction: 0.344</br>parch: 7.6499999999999995</br></br>gender: female</br>age: 35.0</br>class: 3rd</br>embarked: Cherbourg</br>fare: 25.0</br>sibsp: 0.0</br>_original_yhat_: 0.8929143977399959</br>"
          ],
          [
           "</br>id: Mary</br>prediction: 0.339</br>parch: 7.739999999999999</br></br>gender: female</br>age: 35.0</br>class: 3rd</br>embarked: Cherbourg</br>fare: 25.0</br>sibsp: 0.0</br>_original_yhat_: 0.8929143977399959</br>"
          ],
          [
           "</br>id: Mary</br>prediction: 0.334</br>parch: 7.83</br></br>gender: female</br>age: 35.0</br>class: 3rd</br>embarked: Cherbourg</br>fare: 25.0</br>sibsp: 0.0</br>_original_yhat_: 0.8929143977399959</br>"
          ],
          [
           "</br>id: Mary</br>prediction: 0.329</br>parch: 7.92</br></br>gender: female</br>age: 35.0</br>class: 3rd</br>embarked: Cherbourg</br>fare: 25.0</br>sibsp: 0.0</br>_original_yhat_: 0.8929143977399959</br>"
          ],
          [
           "</br>id: Mary</br>prediction: 0.324</br>parch: 8.01</br></br>gender: female</br>age: 35.0</br>class: 3rd</br>embarked: Cherbourg</br>fare: 25.0</br>sibsp: 0.0</br>_original_yhat_: 0.8929143977399959</br>"
          ],
          [
           "</br>id: Mary</br>prediction: 0.318</br>parch: 8.1</br></br>gender: female</br>age: 35.0</br>class: 3rd</br>embarked: Cherbourg</br>fare: 25.0</br>sibsp: 0.0</br>_original_yhat_: 0.8929143977399959</br>"
          ],
          [
           "</br>id: Mary</br>prediction: 0.313</br>parch: 8.19</br></br>gender: female</br>age: 35.0</br>class: 3rd</br>embarked: Cherbourg</br>fare: 25.0</br>sibsp: 0.0</br>_original_yhat_: 0.8929143977399959</br>"
          ],
          [
           "</br>id: Mary</br>prediction: 0.308</br>parch: 8.28</br></br>gender: female</br>age: 35.0</br>class: 3rd</br>embarked: Cherbourg</br>fare: 25.0</br>sibsp: 0.0</br>_original_yhat_: 0.8929143977399959</br>"
          ],
          [
           "</br>id: Mary</br>prediction: 0.303</br>parch: 8.37</br></br>gender: female</br>age: 35.0</br>class: 3rd</br>embarked: Cherbourg</br>fare: 25.0</br>sibsp: 0.0</br>_original_yhat_: 0.8929143977399959</br>"
          ],
          [
           "</br>id: Mary</br>prediction: 0.298</br>parch: 8.459999999999999</br></br>gender: female</br>age: 35.0</br>class: 3rd</br>embarked: Cherbourg</br>fare: 25.0</br>sibsp: 0.0</br>_original_yhat_: 0.8929143977399959</br>"
          ],
          [
           "</br>id: Mary</br>prediction: 0.293</br>parch: 8.549999999999999</br></br>gender: female</br>age: 35.0</br>class: 3rd</br>embarked: Cherbourg</br>fare: 25.0</br>sibsp: 0.0</br>_original_yhat_: 0.8929143977399959</br>"
          ],
          [
           "</br>id: Mary</br>prediction: 0.288</br>parch: 8.64</br></br>gender: female</br>age: 35.0</br>class: 3rd</br>embarked: Cherbourg</br>fare: 25.0</br>sibsp: 0.0</br>_original_yhat_: 0.8929143977399959</br>"
          ],
          [
           "</br>id: Mary</br>prediction: 0.283</br>parch: 8.73</br></br>gender: female</br>age: 35.0</br>class: 3rd</br>embarked: Cherbourg</br>fare: 25.0</br>sibsp: 0.0</br>_original_yhat_: 0.8929143977399959</br>"
          ],
          [
           "</br>id: Mary</br>prediction: 0.279</br>parch: 8.82</br></br>gender: female</br>age: 35.0</br>class: 3rd</br>embarked: Cherbourg</br>fare: 25.0</br>sibsp: 0.0</br>_original_yhat_: 0.8929143977399959</br>"
          ],
          [
           "</br>id: Mary</br>prediction: 0.274</br>parch: 8.91</br></br>gender: female</br>age: 35.0</br>class: 3rd</br>embarked: Cherbourg</br>fare: 25.0</br>sibsp: 0.0</br>_original_yhat_: 0.8929143977399959</br>"
          ],
          [
           "</br>id: Mary</br>prediction: 0.269</br>parch: 9.0</br></br>gender: female</br>age: 35.0</br>class: 3rd</br>embarked: Cherbourg</br>fare: 25.0</br>sibsp: 0.0</br>_original_yhat_: 0.8929143977399959</br>"
          ]
         ],
         "hovertemplate": "%{customdata[0]}<extra></extra>",
         "legendgroup": "Mary",
         "line": {
          "color": "#8bdcbe",
          "dash": "solid",
          "width": 2
         },
         "marker": {
          "symbol": "circle"
         },
         "mode": "lines",
         "name": "Mary",
         "opacity": 1,
         "orientation": "v",
         "showlegend": false,
         "type": "scatter",
         "x": [
          0,
          0.09,
          0.18,
          0.27,
          0.36,
          0.44999999999999996,
          0.54,
          0.63,
          0.72,
          0.8099999999999999,
          0.8999999999999999,
          0.99,
          1.08,
          1.17,
          1.26,
          1.3499999999999999,
          1.44,
          1.53,
          1.6199999999999999,
          1.71,
          1.7999999999999998,
          1.89,
          1.98,
          2.07,
          2.16,
          2.25,
          2.34,
          2.4299999999999997,
          2.52,
          2.61,
          2.6999999999999997,
          2.79,
          2.88,
          2.9699999999999998,
          3.06,
          3.15,
          3.2399999999999998,
          3.33,
          3.42,
          3.51,
          3.5999999999999996,
          3.69,
          3.78,
          3.8699999999999997,
          3.96,
          4.05,
          4.14,
          4.2299999999999995,
          4.32,
          4.41,
          4.5,
          4.59,
          4.68,
          4.77,
          4.859999999999999,
          4.95,
          5.04,
          5.13,
          5.22,
          5.31,
          5.3999999999999995,
          5.49,
          5.58,
          5.67,
          5.76,
          5.85,
          5.9399999999999995,
          6.029999999999999,
          6.12,
          6.21,
          6.3,
          6.39,
          6.4799999999999995,
          6.569999999999999,
          6.66,
          6.75,
          6.84,
          6.93,
          7.02,
          7.109999999999999,
          7.199999999999999,
          7.29,
          7.38,
          7.47,
          7.56,
          7.6499999999999995,
          7.739999999999999,
          7.83,
          7.92,
          8.01,
          8.1,
          8.19,
          8.28,
          8.37,
          8.459999999999999,
          8.549999999999999,
          8.64,
          8.73,
          8.82,
          8.91,
          9
         ],
         "xaxis": "x2",
         "y": [
          0.8929143977399959,
          0.8743901872655251,
          0.8488281156712423,
          0.8209375973419876,
          0.7955310305837798,
          0.7722770644432387,
          0.7475618226313772,
          0.720314362790665,
          0.6933553649648335,
          0.6764563145060084,
          0.6606452100587643,
          0.6685975314385647,
          0.6730885503168301,
          0.6731066940873686,
          0.6761980172735079,
          0.6844031699657066,
          0.6850255551752118,
          0.678788821643419,
          0.6757508652763697,
          0.6716534775143324,
          0.667781643438087,
          0.6515228647297377,
          0.6395009335974883,
          0.6345030950175443,
          0.6317907405836956,
          0.6293549943521756,
          0.6316965127486427,
          0.6356787149888293,
          0.6360618349065308,
          0.6359998514928843,
          0.635937863564917,
          0.6359079234042985,
          0.6369894369903472,
          0.6378376937664431,
          0.6377466522801757,
          0.6376556009089172,
          0.6375645396581295,
          0.6374734685332766,
          0.6358282870908029,
          0.6338177819427722,
          0.631893489095221,
          0.629548443740418,
          0.6213477629597723,
          0.6132319378123725,
          0.6058462269113724,
          0.5988658960754022,
          0.591853687985666,
          0.5848038850654493,
          0.5774184979938108,
          0.5698720143072685,
          0.5622929229325194,
          0.5546846420885785,
          0.5470506442554279,
          0.539730505980291,
          0.5327018556603241,
          0.525660201526197,
          0.5186083268325168,
          0.5115490310911083,
          0.504485125640187,
          0.49706976937521263,
          0.49006149950961453,
          0.483188086684308,
          0.4763210292388552,
          0.46946291315048855,
          0.4626219406545185,
          0.4554905474634896,
          0.4483221123725732,
          0.4411750868888802,
          0.4340523541467855,
          0.42695675744596934,
          0.41989109583117695,
          0.4128581198238149,
          0.4057307671151937,
          0.4001554705311764,
          0.3949701795839175,
          0.39007801303544687,
          0.38618884813032084,
          0.3823692301468245,
          0.37859568025311685,
          0.37479119092158375,
          0.3695512868034515,
          0.36434194956637567,
          0.3591642107552973,
          0.3540190736486702,
          0.3489075126424819,
          0.34383047268585026,
          0.3387888687684662,
          0.3337835854599212,
          0.3288154765008772,
          0.3236903104487798,
          0.31848773450316137,
          0.31333003762543205,
          0.3082180913118314,
          0.3031527258445326,
          0.2981347301592891,
          0.29316485178217133,
          0.28824379683373996,
          0.28337223009889495,
          0.2785507751604459,
          0.27378001459437,
          0.2690604902245779
         ],
         "yaxis": "y2"
        },
        {
         "customdata": [
          [
           "</br>id: John</br>prediction: 0.777</br>age: 0.1666666667</br></br>gender: male</br>class: 1st</br>embarked: Southampton</br>fare: 72.0</br>sibsp: 0.0</br>parch: 0.0</br>_original_yhat_: 0.08127726929343082</br>"
          ],
          [
           "</br>id: John</br>prediction: 0.732</br>age: 0.905000000033</br></br>gender: male</br>class: 1st</br>embarked: Southampton</br>fare: 72.0</br>sibsp: 0.0</br>parch: 0.0</br>_original_yhat_: 0.08127726929343082</br>"
          ],
          [
           "</br>id: John</br>prediction: 0.683</br>age: 1.643333333366</br></br>gender: male</br>class: 1st</br>embarked: Southampton</br>fare: 72.0</br>sibsp: 0.0</br>parch: 0.0</br>_original_yhat_: 0.08127726929343082</br>"
          ],
          [
           "</br>id: John</br>prediction: 0.63</br>age: 2.3816666666989996</br></br>gender: male</br>class: 1st</br>embarked: Southampton</br>fare: 72.0</br>sibsp: 0.0</br>parch: 0.0</br>_original_yhat_: 0.08127726929343082</br>"
          ],
          [
           "</br>id: John</br>prediction: 0.574</br>age: 3.120000000032</br></br>gender: male</br>class: 1st</br>embarked: Southampton</br>fare: 72.0</br>sibsp: 0.0</br>parch: 0.0</br>_original_yhat_: 0.08127726929343082</br>"
          ],
          [
           "</br>id: John</br>prediction: 0.516</br>age: 3.858333333365</br></br>gender: male</br>class: 1st</br>embarked: Southampton</br>fare: 72.0</br>sibsp: 0.0</br>parch: 0.0</br>_original_yhat_: 0.08127726929343082</br>"
          ],
          [
           "</br>id: John</br>prediction: 0.461</br>age: 4.596666666698</br></br>gender: male</br>class: 1st</br>embarked: Southampton</br>fare: 72.0</br>sibsp: 0.0</br>parch: 0.0</br>_original_yhat_: 0.08127726929343082</br>"
          ],
          [
           "</br>id: John</br>prediction: 0.408</br>age: 5.335000000031</br></br>gender: male</br>class: 1st</br>embarked: Southampton</br>fare: 72.0</br>sibsp: 0.0</br>parch: 0.0</br>_original_yhat_: 0.08127726929343082</br>"
          ],
          [
           "</br>id: John</br>prediction: 0.36</br>age: 6.073333333364</br></br>gender: male</br>class: 1st</br>embarked: Southampton</br>fare: 72.0</br>sibsp: 0.0</br>parch: 0.0</br>_original_yhat_: 0.08127726929343082</br>"
          ],
          [
           "</br>id: John</br>prediction: 0.313</br>age: 6.8116666666970005</br></br>gender: male</br>class: 1st</br>embarked: Southampton</br>fare: 72.0</br>sibsp: 0.0</br>parch: 0.0</br>_original_yhat_: 0.08127726929343082</br>"
          ],
          [
           "</br>id: John</br>prediction: 0.27</br>age: 7.550000000030001</br></br>gender: male</br>class: 1st</br>embarked: Southampton</br>fare: 72.0</br>sibsp: 0.0</br>parch: 0.0</br>_original_yhat_: 0.08127726929343082</br>"
          ],
          [
           "</br>id: John</br>prediction: 0.231</br>age: 8.288333333363</br></br>gender: male</br>class: 1st</br>embarked: Southampton</br>fare: 72.0</br>sibsp: 0.0</br>parch: 0.0</br>_original_yhat_: 0.08127726929343082</br>"
          ],
          [
           "</br>id: John</br>prediction: 0.196</br>age: 9.026666666695998</br></br>gender: male</br>class: 1st</br>embarked: Southampton</br>fare: 72.0</br>sibsp: 0.0</br>parch: 0.0</br>_original_yhat_: 0.08127726929343082</br>"
          ],
          [
           "</br>id: John</br>prediction: 0.166</br>age: 9.765000000029</br></br>gender: male</br>class: 1st</br>embarked: Southampton</br>fare: 72.0</br>sibsp: 0.0</br>parch: 0.0</br>_original_yhat_: 0.08127726929343082</br>"
          ],
          [
           "</br>id: John</br>prediction: 0.138</br>age: 10.503333333361999</br></br>gender: male</br>class: 1st</br>embarked: Southampton</br>fare: 72.0</br>sibsp: 0.0</br>parch: 0.0</br>_original_yhat_: 0.08127726929343082</br>"
          ],
          [
           "</br>id: John</br>prediction: 0.113</br>age: 11.241666666695</br></br>gender: male</br>class: 1st</br>embarked: Southampton</br>fare: 72.0</br>sibsp: 0.0</br>parch: 0.0</br>_original_yhat_: 0.08127726929343082</br>"
          ],
          [
           "</br>id: John</br>prediction: 0.092</br>age: 11.980000000028</br></br>gender: male</br>class: 1st</br>embarked: Southampton</br>fare: 72.0</br>sibsp: 0.0</br>parch: 0.0</br>_original_yhat_: 0.08127726929343082</br>"
          ],
          [
           "</br>id: John</br>prediction: 0.076</br>age: 12.718333333360999</br></br>gender: male</br>class: 1st</br>embarked: Southampton</br>fare: 72.0</br>sibsp: 0.0</br>parch: 0.0</br>_original_yhat_: 0.08127726929343082</br>"
          ],
          [
           "</br>id: John</br>prediction: 0.066</br>age: 13.456666666694</br></br>gender: male</br>class: 1st</br>embarked: Southampton</br>fare: 72.0</br>sibsp: 0.0</br>parch: 0.0</br>_original_yhat_: 0.08127726929343082</br>"
          ],
          [
           "</br>id: John</br>prediction: 0.064</br>age: 14.195000000027</br></br>gender: male</br>class: 1st</br>embarked: Southampton</br>fare: 72.0</br>sibsp: 0.0</br>parch: 0.0</br>_original_yhat_: 0.08127726929343082</br>"
          ],
          [
           "</br>id: John</br>prediction: 0.063</br>age: 14.93333333336</br></br>gender: male</br>class: 1st</br>embarked: Southampton</br>fare: 72.0</br>sibsp: 0.0</br>parch: 0.0</br>_original_yhat_: 0.08127726929343082</br>"
          ],
          [
           "</br>id: John</br>prediction: 0.062</br>age: 15.671666666693</br></br>gender: male</br>class: 1st</br>embarked: Southampton</br>fare: 72.0</br>sibsp: 0.0</br>parch: 0.0</br>_original_yhat_: 0.08127726929343082</br>"
          ],
          [
           "</br>id: John</br>prediction: 0.063</br>age: 16.410000000026</br></br>gender: male</br>class: 1st</br>embarked: Southampton</br>fare: 72.0</br>sibsp: 0.0</br>parch: 0.0</br>_original_yhat_: 0.08127726929343082</br>"
          ],
          [
           "</br>id: John</br>prediction: 0.064</br>age: 17.148333333359</br></br>gender: male</br>class: 1st</br>embarked: Southampton</br>fare: 72.0</br>sibsp: 0.0</br>parch: 0.0</br>_original_yhat_: 0.08127726929343082</br>"
          ],
          [
           "</br>id: John</br>prediction: 0.067</br>age: 17.886666666691998</br></br>gender: male</br>class: 1st</br>embarked: Southampton</br>fare: 72.0</br>sibsp: 0.0</br>parch: 0.0</br>_original_yhat_: 0.08127726929343082</br>"
          ],
          [
           "</br>id: John</br>prediction: 0.068</br>age: 18.625000000025</br></br>gender: male</br>class: 1st</br>embarked: Southampton</br>fare: 72.0</br>sibsp: 0.0</br>parch: 0.0</br>_original_yhat_: 0.08127726929343082</br>"
          ],
          [
           "</br>id: John</br>prediction: 0.069</br>age: 19.363333333358</br></br>gender: male</br>class: 1st</br>embarked: Southampton</br>fare: 72.0</br>sibsp: 0.0</br>parch: 0.0</br>_original_yhat_: 0.08127726929343082</br>"
          ],
          [
           "</br>id: John</br>prediction: 0.071</br>age: 20.101666666691</br></br>gender: male</br>class: 1st</br>embarked: Southampton</br>fare: 72.0</br>sibsp: 0.0</br>parch: 0.0</br>_original_yhat_: 0.08127726929343082</br>"
          ],
          [
           "</br>id: John</br>prediction: 0.072</br>age: 20.840000000024</br></br>gender: male</br>class: 1st</br>embarked: Southampton</br>fare: 72.0</br>sibsp: 0.0</br>parch: 0.0</br>_original_yhat_: 0.08127726929343082</br>"
          ],
          [
           "</br>id: John</br>prediction: 0.074</br>age: 21.578333333356998</br></br>gender: male</br>class: 1st</br>embarked: Southampton</br>fare: 72.0</br>sibsp: 0.0</br>parch: 0.0</br>_original_yhat_: 0.08127726929343082</br>"
          ],
          [
           "</br>id: John</br>prediction: 0.076</br>age: 22.31666666669</br></br>gender: male</br>class: 1st</br>embarked: Southampton</br>fare: 72.0</br>sibsp: 0.0</br>parch: 0.0</br>_original_yhat_: 0.08127726929343082</br>"
          ],
          [
           "</br>id: John</br>prediction: 0.079</br>age: 23.055000000023</br></br>gender: male</br>class: 1st</br>embarked: Southampton</br>fare: 72.0</br>sibsp: 0.0</br>parch: 0.0</br>_original_yhat_: 0.08127726929343082</br>"
          ],
          [
           "</br>id: John</br>prediction: 0.081</br>age: 23.793333333356</br></br>gender: male</br>class: 1st</br>embarked: Southampton</br>fare: 72.0</br>sibsp: 0.0</br>parch: 0.0</br>_original_yhat_: 0.08127726929343082</br>"
          ],
          [
           "</br>id: John</br>prediction: 0.081</br>age: 24.531666666689</br></br>gender: male</br>class: 1st</br>embarked: Southampton</br>fare: 72.0</br>sibsp: 0.0</br>parch: 0.0</br>_original_yhat_: 0.08127726929343082</br>"
          ],
          [
           "</br>id: John</br>prediction: 0.081</br>age: 25.0</br></br>gender: male</br>class: 1st</br>embarked: Southampton</br>fare: 72.0</br>sibsp: 0.0</br>parch: 0.0</br>_original_yhat_: 0.08127726929343082</br>"
          ],
          [
           "</br>id: John</br>prediction: 0.081</br>age: 25.270000000021998</br></br>gender: male</br>class: 1st</br>embarked: Southampton</br>fare: 72.0</br>sibsp: 0.0</br>parch: 0.0</br>_original_yhat_: 0.08127726929343082</br>"
          ],
          [
           "</br>id: John</br>prediction: 0.082</br>age: 26.008333333355</br></br>gender: male</br>class: 1st</br>embarked: Southampton</br>fare: 72.0</br>sibsp: 0.0</br>parch: 0.0</br>_original_yhat_: 0.08127726929343082</br>"
          ],
          [
           "</br>id: John</br>prediction: 0.081</br>age: 26.746666666688</br></br>gender: male</br>class: 1st</br>embarked: Southampton</br>fare: 72.0</br>sibsp: 0.0</br>parch: 0.0</br>_original_yhat_: 0.08127726929343082</br>"
          ],
          [
           "</br>id: John</br>prediction: 0.08</br>age: 27.485000000021</br></br>gender: male</br>class: 1st</br>embarked: Southampton</br>fare: 72.0</br>sibsp: 0.0</br>parch: 0.0</br>_original_yhat_: 0.08127726929343082</br>"
          ],
          [
           "</br>id: John</br>prediction: 0.08</br>age: 28.223333333354</br></br>gender: male</br>class: 1st</br>embarked: Southampton</br>fare: 72.0</br>sibsp: 0.0</br>parch: 0.0</br>_original_yhat_: 0.08127726929343082</br>"
          ],
          [
           "</br>id: John</br>prediction: 0.08</br>age: 28.961666666686998</br></br>gender: male</br>class: 1st</br>embarked: Southampton</br>fare: 72.0</br>sibsp: 0.0</br>parch: 0.0</br>_original_yhat_: 0.08127726929343082</br>"
          ],
          [
           "</br>id: John</br>prediction: 0.083</br>age: 29.70000000002</br></br>gender: male</br>class: 1st</br>embarked: Southampton</br>fare: 72.0</br>sibsp: 0.0</br>parch: 0.0</br>_original_yhat_: 0.08127726929343082</br>"
          ],
          [
           "</br>id: John</br>prediction: 0.086</br>age: 30.438333333353</br></br>gender: male</br>class: 1st</br>embarked: Southampton</br>fare: 72.0</br>sibsp: 0.0</br>parch: 0.0</br>_original_yhat_: 0.08127726929343082</br>"
          ],
          [
           "</br>id: John</br>prediction: 0.087</br>age: 31.176666666686</br></br>gender: male</br>class: 1st</br>embarked: Southampton</br>fare: 72.0</br>sibsp: 0.0</br>parch: 0.0</br>_original_yhat_: 0.08127726929343082</br>"
          ],
          [
           "</br>id: John</br>prediction: 0.085</br>age: 31.915000000019</br></br>gender: male</br>class: 1st</br>embarked: Southampton</br>fare: 72.0</br>sibsp: 0.0</br>parch: 0.0</br>_original_yhat_: 0.08127726929343082</br>"
          ],
          [
           "</br>id: John</br>prediction: 0.082</br>age: 32.653333333352</br></br>gender: male</br>class: 1st</br>embarked: Southampton</br>fare: 72.0</br>sibsp: 0.0</br>parch: 0.0</br>_original_yhat_: 0.08127726929343082</br>"
          ],
          [
           "</br>id: John</br>prediction: 0.08</br>age: 33.391666666685005</br></br>gender: male</br>class: 1st</br>embarked: Southampton</br>fare: 72.0</br>sibsp: 0.0</br>parch: 0.0</br>_original_yhat_: 0.08127726929343082</br>"
          ],
          [
           "</br>id: John</br>prediction: 0.078</br>age: 34.130000000018</br></br>gender: male</br>class: 1st</br>embarked: Southampton</br>fare: 72.0</br>sibsp: 0.0</br>parch: 0.0</br>_original_yhat_: 0.08127726929343082</br>"
          ],
          [
           "</br>id: John</br>prediction: 0.077</br>age: 34.868333333351</br></br>gender: male</br>class: 1st</br>embarked: Southampton</br>fare: 72.0</br>sibsp: 0.0</br>parch: 0.0</br>_original_yhat_: 0.08127726929343082</br>"
          ],
          [
           "</br>id: John</br>prediction: 0.076</br>age: 35.606666666684</br></br>gender: male</br>class: 1st</br>embarked: Southampton</br>fare: 72.0</br>sibsp: 0.0</br>parch: 0.0</br>_original_yhat_: 0.08127726929343082</br>"
          ],
          [
           "</br>id: John</br>prediction: 0.075</br>age: 36.345000000017</br></br>gender: male</br>class: 1st</br>embarked: Southampton</br>fare: 72.0</br>sibsp: 0.0</br>parch: 0.0</br>_original_yhat_: 0.08127726929343082</br>"
          ],
          [
           "</br>id: John</br>prediction: 0.075</br>age: 37.083333333350005</br></br>gender: male</br>class: 1st</br>embarked: Southampton</br>fare: 72.0</br>sibsp: 0.0</br>parch: 0.0</br>_original_yhat_: 0.08127726929343082</br>"
          ],
          [
           "</br>id: John</br>prediction: 0.074</br>age: 37.821666666683</br></br>gender: male</br>class: 1st</br>embarked: Southampton</br>fare: 72.0</br>sibsp: 0.0</br>parch: 0.0</br>_original_yhat_: 0.08127726929343082</br>"
          ],
          [
           "</br>id: John</br>prediction: 0.075</br>age: 38.560000000016004</br></br>gender: male</br>class: 1st</br>embarked: Southampton</br>fare: 72.0</br>sibsp: 0.0</br>parch: 0.0</br>_original_yhat_: 0.08127726929343082</br>"
          ],
          [
           "</br>id: John</br>prediction: 0.076</br>age: 39.298333333349</br></br>gender: male</br>class: 1st</br>embarked: Southampton</br>fare: 72.0</br>sibsp: 0.0</br>parch: 0.0</br>_original_yhat_: 0.08127726929343082</br>"
          ],
          [
           "</br>id: John</br>prediction: 0.077</br>age: 40.036666666682</br></br>gender: male</br>class: 1st</br>embarked: Southampton</br>fare: 72.0</br>sibsp: 0.0</br>parch: 0.0</br>_original_yhat_: 0.08127726929343082</br>"
          ],
          [
           "</br>id: John</br>prediction: 0.079</br>age: 40.775000000015005</br></br>gender: male</br>class: 1st</br>embarked: Southampton</br>fare: 72.0</br>sibsp: 0.0</br>parch: 0.0</br>_original_yhat_: 0.08127726929343082</br>"
          ],
          [
           "</br>id: John</br>prediction: 0.081</br>age: 41.513333333348</br></br>gender: male</br>class: 1st</br>embarked: Southampton</br>fare: 72.0</br>sibsp: 0.0</br>parch: 0.0</br>_original_yhat_: 0.08127726929343082</br>"
          ],
          [
           "</br>id: John</br>prediction: 0.083</br>age: 42.251666666681004</br></br>gender: male</br>class: 1st</br>embarked: Southampton</br>fare: 72.0</br>sibsp: 0.0</br>parch: 0.0</br>_original_yhat_: 0.08127726929343082</br>"
          ],
          [
           "</br>id: John</br>prediction: 0.084</br>age: 42.990000000014</br></br>gender: male</br>class: 1st</br>embarked: Southampton</br>fare: 72.0</br>sibsp: 0.0</br>parch: 0.0</br>_original_yhat_: 0.08127726929343082</br>"
          ],
          [
           "</br>id: John</br>prediction: 0.085</br>age: 43.728333333347</br></br>gender: male</br>class: 1st</br>embarked: Southampton</br>fare: 72.0</br>sibsp: 0.0</br>parch: 0.0</br>_original_yhat_: 0.08127726929343082</br>"
          ],
          [
           "</br>id: John</br>prediction: 0.085</br>age: 44.466666666680005</br></br>gender: male</br>class: 1st</br>embarked: Southampton</br>fare: 72.0</br>sibsp: 0.0</br>parch: 0.0</br>_original_yhat_: 0.08127726929343082</br>"
          ],
          [
           "</br>id: John</br>prediction: 0.085</br>age: 45.205000000013</br></br>gender: male</br>class: 1st</br>embarked: Southampton</br>fare: 72.0</br>sibsp: 0.0</br>parch: 0.0</br>_original_yhat_: 0.08127726929343082</br>"
          ],
          [
           "</br>id: John</br>prediction: 0.085</br>age: 45.943333333346004</br></br>gender: male</br>class: 1st</br>embarked: Southampton</br>fare: 72.0</br>sibsp: 0.0</br>parch: 0.0</br>_original_yhat_: 0.08127726929343082</br>"
          ],
          [
           "</br>id: John</br>prediction: 0.086</br>age: 46.681666666679</br></br>gender: male</br>class: 1st</br>embarked: Southampton</br>fare: 72.0</br>sibsp: 0.0</br>parch: 0.0</br>_original_yhat_: 0.08127726929343082</br>"
          ],
          [
           "</br>id: John</br>prediction: 0.087</br>age: 47.420000000012</br></br>gender: male</br>class: 1st</br>embarked: Southampton</br>fare: 72.0</br>sibsp: 0.0</br>parch: 0.0</br>_original_yhat_: 0.08127726929343082</br>"
          ],
          [
           "</br>id: John</br>prediction: 0.089</br>age: 48.158333333345006</br></br>gender: male</br>class: 1st</br>embarked: Southampton</br>fare: 72.0</br>sibsp: 0.0</br>parch: 0.0</br>_original_yhat_: 0.08127726929343082</br>"
          ],
          [
           "</br>id: John</br>prediction: 0.091</br>age: 48.896666666678</br></br>gender: male</br>class: 1st</br>embarked: Southampton</br>fare: 72.0</br>sibsp: 0.0</br>parch: 0.0</br>_original_yhat_: 0.08127726929343082</br>"
          ],
          [
           "</br>id: John</br>prediction: 0.092</br>age: 49.635000000011004</br></br>gender: male</br>class: 1st</br>embarked: Southampton</br>fare: 72.0</br>sibsp: 0.0</br>parch: 0.0</br>_original_yhat_: 0.08127726929343082</br>"
          ],
          [
           "</br>id: John</br>prediction: 0.092</br>age: 50.373333333344</br></br>gender: male</br>class: 1st</br>embarked: Southampton</br>fare: 72.0</br>sibsp: 0.0</br>parch: 0.0</br>_original_yhat_: 0.08127726929343082</br>"
          ],
          [
           "</br>id: John</br>prediction: 0.091</br>age: 51.111666666677</br></br>gender: male</br>class: 1st</br>embarked: Southampton</br>fare: 72.0</br>sibsp: 0.0</br>parch: 0.0</br>_original_yhat_: 0.08127726929343082</br>"
          ],
          [
           "</br>id: John</br>prediction: 0.087</br>age: 51.850000000010006</br></br>gender: male</br>class: 1st</br>embarked: Southampton</br>fare: 72.0</br>sibsp: 0.0</br>parch: 0.0</br>_original_yhat_: 0.08127726929343082</br>"
          ],
          [
           "</br>id: John</br>prediction: 0.082</br>age: 52.588333333343</br></br>gender: male</br>class: 1st</br>embarked: Southampton</br>fare: 72.0</br>sibsp: 0.0</br>parch: 0.0</br>_original_yhat_: 0.08127726929343082</br>"
          ],
          [
           "</br>id: John</br>prediction: 0.078</br>age: 53.326666666676005</br></br>gender: male</br>class: 1st</br>embarked: Southampton</br>fare: 72.0</br>sibsp: 0.0</br>parch: 0.0</br>_original_yhat_: 0.08127726929343082</br>"
          ],
          [
           "</br>id: John</br>prediction: 0.071</br>age: 54.065000000009</br></br>gender: male</br>class: 1st</br>embarked: Southampton</br>fare: 72.0</br>sibsp: 0.0</br>parch: 0.0</br>_original_yhat_: 0.08127726929343082</br>"
          ],
          [
           "</br>id: John</br>prediction: 0.063</br>age: 54.803333333342</br></br>gender: male</br>class: 1st</br>embarked: Southampton</br>fare: 72.0</br>sibsp: 0.0</br>parch: 0.0</br>_original_yhat_: 0.08127726929343082</br>"
          ],
          [
           "</br>id: John</br>prediction: 0.056</br>age: 55.541666666675006</br></br>gender: male</br>class: 1st</br>embarked: Southampton</br>fare: 72.0</br>sibsp: 0.0</br>parch: 0.0</br>_original_yhat_: 0.08127726929343082</br>"
          ],
          [
           "</br>id: John</br>prediction: 0.049</br>age: 56.280000000008</br></br>gender: male</br>class: 1st</br>embarked: Southampton</br>fare: 72.0</br>sibsp: 0.0</br>parch: 0.0</br>_original_yhat_: 0.08127726929343082</br>"
          ],
          [
           "</br>id: John</br>prediction: 0.042</br>age: 57.018333333341005</br></br>gender: male</br>class: 1st</br>embarked: Southampton</br>fare: 72.0</br>sibsp: 0.0</br>parch: 0.0</br>_original_yhat_: 0.08127726929343082</br>"
          ],
          [
           "</br>id: John</br>prediction: 0.038</br>age: 57.756666666674</br></br>gender: male</br>class: 1st</br>embarked: Southampton</br>fare: 72.0</br>sibsp: 0.0</br>parch: 0.0</br>_original_yhat_: 0.08127726929343082</br>"
          ],
          [
           "</br>id: John</br>prediction: 0.033</br>age: 58.495000000007</br></br>gender: male</br>class: 1st</br>embarked: Southampton</br>fare: 72.0</br>sibsp: 0.0</br>parch: 0.0</br>_original_yhat_: 0.08127726929343082</br>"
          ],
          [
           "</br>id: John</br>prediction: 0.028</br>age: 59.233333333340006</br></br>gender: male</br>class: 1st</br>embarked: Southampton</br>fare: 72.0</br>sibsp: 0.0</br>parch: 0.0</br>_original_yhat_: 0.08127726929343082</br>"
          ],
          [
           "</br>id: John</br>prediction: 0.025</br>age: 59.971666666673</br></br>gender: male</br>class: 1st</br>embarked: Southampton</br>fare: 72.0</br>sibsp: 0.0</br>parch: 0.0</br>_original_yhat_: 0.08127726929343082</br>"
          ],
          [
           "</br>id: John</br>prediction: 0.022</br>age: 60.710000000006005</br></br>gender: male</br>class: 1st</br>embarked: Southampton</br>fare: 72.0</br>sibsp: 0.0</br>parch: 0.0</br>_original_yhat_: 0.08127726929343082</br>"
          ],
          [
           "</br>id: John</br>prediction: 0.019</br>age: 61.448333333339</br></br>gender: male</br>class: 1st</br>embarked: Southampton</br>fare: 72.0</br>sibsp: 0.0</br>parch: 0.0</br>_original_yhat_: 0.08127726929343082</br>"
          ],
          [
           "</br>id: John</br>prediction: 0.017</br>age: 62.186666666672004</br></br>gender: male</br>class: 1st</br>embarked: Southampton</br>fare: 72.0</br>sibsp: 0.0</br>parch: 0.0</br>_original_yhat_: 0.08127726929343082</br>"
          ],
          [
           "</br>id: John</br>prediction: 0.015</br>age: 62.925000000005</br></br>gender: male</br>class: 1st</br>embarked: Southampton</br>fare: 72.0</br>sibsp: 0.0</br>parch: 0.0</br>_original_yhat_: 0.08127726929343082</br>"
          ],
          [
           "</br>id: John</br>prediction: 0.013</br>age: 63.663333333338</br></br>gender: male</br>class: 1st</br>embarked: Southampton</br>fare: 72.0</br>sibsp: 0.0</br>parch: 0.0</br>_original_yhat_: 0.08127726929343082</br>"
          ],
          [
           "</br>id: John</br>prediction: 0.012</br>age: 64.40166666667099</br></br>gender: male</br>class: 1st</br>embarked: Southampton</br>fare: 72.0</br>sibsp: 0.0</br>parch: 0.0</br>_original_yhat_: 0.08127726929343082</br>"
          ],
          [
           "</br>id: John</br>prediction: 0.01</br>age: 65.140000000004</br></br>gender: male</br>class: 1st</br>embarked: Southampton</br>fare: 72.0</br>sibsp: 0.0</br>parch: 0.0</br>_original_yhat_: 0.08127726929343082</br>"
          ],
          [
           "</br>id: John</br>prediction: 0.009</br>age: 65.878333333337</br></br>gender: male</br>class: 1st</br>embarked: Southampton</br>fare: 72.0</br>sibsp: 0.0</br>parch: 0.0</br>_original_yhat_: 0.08127726929343082</br>"
          ],
          [
           "</br>id: John</br>prediction: 0.008</br>age: 66.61666666667</br></br>gender: male</br>class: 1st</br>embarked: Southampton</br>fare: 72.0</br>sibsp: 0.0</br>parch: 0.0</br>_original_yhat_: 0.08127726929343082</br>"
          ],
          [
           "</br>id: John</br>prediction: 0.007</br>age: 67.355000000003</br></br>gender: male</br>class: 1st</br>embarked: Southampton</br>fare: 72.0</br>sibsp: 0.0</br>parch: 0.0</br>_original_yhat_: 0.08127726929343082</br>"
          ],
          [
           "</br>id: John</br>prediction: 0.006</br>age: 68.09333333333599</br></br>gender: male</br>class: 1st</br>embarked: Southampton</br>fare: 72.0</br>sibsp: 0.0</br>parch: 0.0</br>_original_yhat_: 0.08127726929343082</br>"
          ],
          [
           "</br>id: John</br>prediction: 0.005</br>age: 68.831666666669</br></br>gender: male</br>class: 1st</br>embarked: Southampton</br>fare: 72.0</br>sibsp: 0.0</br>parch: 0.0</br>_original_yhat_: 0.08127726929343082</br>"
          ],
          [
           "</br>id: John</br>prediction: 0.005</br>age: 69.570000000002</br></br>gender: male</br>class: 1st</br>embarked: Southampton</br>fare: 72.0</br>sibsp: 0.0</br>parch: 0.0</br>_original_yhat_: 0.08127726929343082</br>"
          ],
          [
           "</br>id: John</br>prediction: 0.004</br>age: 70.308333333335</br></br>gender: male</br>class: 1st</br>embarked: Southampton</br>fare: 72.0</br>sibsp: 0.0</br>parch: 0.0</br>_original_yhat_: 0.08127726929343082</br>"
          ],
          [
           "</br>id: John</br>prediction: 0.003</br>age: 71.04666666666799</br></br>gender: male</br>class: 1st</br>embarked: Southampton</br>fare: 72.0</br>sibsp: 0.0</br>parch: 0.0</br>_original_yhat_: 0.08127726929343082</br>"
          ],
          [
           "</br>id: John</br>prediction: 0.003</br>age: 71.78500000000099</br></br>gender: male</br>class: 1st</br>embarked: Southampton</br>fare: 72.0</br>sibsp: 0.0</br>parch: 0.0</br>_original_yhat_: 0.08127726929343082</br>"
          ],
          [
           "</br>id: John</br>prediction: 0.003</br>age: 72.523333333334</br></br>gender: male</br>class: 1st</br>embarked: Southampton</br>fare: 72.0</br>sibsp: 0.0</br>parch: 0.0</br>_original_yhat_: 0.08127726929343082</br>"
          ],
          [
           "</br>id: John</br>prediction: 0.002</br>age: 73.261666666667</br></br>gender: male</br>class: 1st</br>embarked: Southampton</br>fare: 72.0</br>sibsp: 0.0</br>parch: 0.0</br>_original_yhat_: 0.08127726929343082</br>"
          ],
          [
           "</br>id: John</br>prediction: 0.002</br>age: 74.0</br></br>gender: male</br>class: 1st</br>embarked: Southampton</br>fare: 72.0</br>sibsp: 0.0</br>parch: 0.0</br>_original_yhat_: 0.08127726929343082</br>"
          ]
         ],
         "hovertemplate": "%{customdata[0]}<extra></extra>",
         "legendgroup": "John",
         "line": {
          "color": "#4378bf",
          "dash": "solid",
          "width": 2
         },
         "marker": {
          "symbol": "circle"
         },
         "mode": "lines",
         "name": "John",
         "opacity": 1,
         "orientation": "v",
         "showlegend": true,
         "type": "scatter",
         "x": [
          0.1666666667,
          0.905000000033,
          1.643333333366,
          2.3816666666989996,
          3.120000000032,
          3.858333333365,
          4.596666666698,
          5.335000000031,
          6.073333333364,
          6.8116666666970005,
          7.550000000030001,
          8.288333333363,
          9.026666666695998,
          9.765000000029,
          10.503333333361999,
          11.241666666695,
          11.980000000028,
          12.718333333360999,
          13.456666666694,
          14.195000000027,
          14.93333333336,
          15.671666666693,
          16.410000000026,
          17.148333333359,
          17.886666666691998,
          18.625000000025,
          19.363333333358,
          20.101666666691,
          20.840000000024,
          21.578333333356998,
          22.31666666669,
          23.055000000023,
          23.793333333356,
          24.531666666689,
          25,
          25.270000000021998,
          26.008333333355,
          26.746666666688,
          27.485000000021,
          28.223333333354,
          28.961666666686998,
          29.70000000002,
          30.438333333353,
          31.176666666686,
          31.915000000019,
          32.653333333352,
          33.391666666685005,
          34.130000000018,
          34.868333333351,
          35.606666666684,
          36.345000000017,
          37.083333333350005,
          37.821666666683,
          38.560000000016004,
          39.298333333349,
          40.036666666682,
          40.775000000015005,
          41.513333333348,
          42.251666666681004,
          42.990000000014,
          43.728333333347,
          44.466666666680005,
          45.205000000013,
          45.943333333346004,
          46.681666666679,
          47.420000000012,
          48.158333333345006,
          48.896666666678,
          49.635000000011004,
          50.373333333344,
          51.111666666677,
          51.850000000010006,
          52.588333333343,
          53.326666666676005,
          54.065000000009,
          54.803333333342,
          55.541666666675006,
          56.280000000008,
          57.018333333341005,
          57.756666666674,
          58.495000000007,
          59.233333333340006,
          59.971666666673,
          60.710000000006005,
          61.448333333339,
          62.186666666672004,
          62.925000000005,
          63.663333333338,
          64.40166666667099,
          65.140000000004,
          65.878333333337,
          66.61666666667,
          67.355000000003,
          68.09333333333599,
          68.831666666669,
          69.570000000002,
          70.308333333335,
          71.04666666666799,
          71.78500000000099,
          72.523333333334,
          73.261666666667,
          74
         ],
         "xaxis": "x3",
         "y": [
          0.7765162744820985,
          0.7323699678190166,
          0.6830624432430124,
          0.6296479541409253,
          0.5738416695246518,
          0.5163571721809446,
          0.46063843258836434,
          0.4084525864301918,
          0.35972673917785053,
          0.31310173576287625,
          0.2697415759743456,
          0.23074583762394513,
          0.19604243173077704,
          0.16594111691382835,
          0.13788201709275003,
          0.11256915097285239,
          0.09175263386898473,
          0.07630030554408199,
          0.0659580402766877,
          0.06374142576856068,
          0.06340112153861531,
          0.06249024145736033,
          0.06296196899894005,
          0.06435983806304793,
          0.06654940040731111,
          0.06841391181437571,
          0.06948394036538423,
          0.07073356132189439,
          0.07234501072902799,
          0.07428472320787845,
          0.07618815279668262,
          0.07930517810323054,
          0.08102625426454803,
          0.08133310226242703,
          0.08127726929343082,
          0.08143008281647472,
          0.0815403404164874,
          0.08104568483560384,
          0.08035264004066862,
          0.07956938253945248,
          0.07999052178992189,
          0.08278648043459001,
          0.08562678186971868,
          0.08664280887202234,
          0.08473301469166071,
          0.08199808750723377,
          0.08021877762292119,
          0.07847417821749973,
          0.0767398831508636,
          0.07572985768577314,
          0.07513000980657848,
          0.07464526252669923,
          0.07416339209159427,
          0.07471430992504569,
          0.07562813564473257,
          0.07727654754238349,
          0.07899524994451447,
          0.08078604904006538,
          0.08256023672299903,
          0.08401692921523575,
          0.08452727289292548,
          0.08493966652617906,
          0.08530131581309112,
          0.08549831208884552,
          0.08576860975147266,
          0.08704875715510925,
          0.08869161328068913,
          0.09074196081699452,
          0.09198225733393062,
          0.09196027872148982,
          0.09056711422690408,
          0.08686771377763093,
          0.08208713965058247,
          0.07753287654764211,
          0.07082970613299612,
          0.06347048972943552,
          0.05551789369483262,
          0.04851011309826989,
          0.04244544243335615,
          0.03751033121094876,
          0.032669027723872715,
          0.028410270464246136,
          0.024836532776473016,
          0.021750376529245868,
          0.01910333662215689,
          0.016853065495855152,
          0.014878575365180408,
          0.013119956004095393,
          0.011594449136821767,
          0.010301614107147096,
          0.008972866017006064,
          0.007802009779725586,
          0.006828341446982882,
          0.0059826880546942005,
          0.005225439015329221,
          0.004564303811409201,
          0.003989590125555441,
          0.00348765940555472,
          0.003047816302908532,
          0.0026536161350216767,
          0.002308763698774319,
          0.002010019215816664
         ],
         "yaxis": "y3"
        },
        {
         "customdata": [
          [
           "</br>id: John</br>prediction: 0.49</br>fare: 0.0</br></br>gender: male</br>age: 25.0</br>class: 1st</br>embarked: Southampton</br>sibsp: 0.0</br>parch: 0.0</br>_original_yhat_: 0.08127726929343082</br>"
          ],
          [
           "</br>id: John</br>prediction: 0.489</br>fare: 5.120607</br></br>gender: male</br>age: 25.0</br>class: 1st</br>embarked: Southampton</br>sibsp: 0.0</br>parch: 0.0</br>_original_yhat_: 0.08127726929343082</br>"
          ],
          [
           "</br>id: John</br>prediction: 0.488</br>fare: 10.241214</br></br>gender: male</br>age: 25.0</br>class: 1st</br>embarked: Southampton</br>sibsp: 0.0</br>parch: 0.0</br>_original_yhat_: 0.08127726929343082</br>"
          ],
          [
           "</br>id: John</br>prediction: 0.484</br>fare: 15.361820999999999</br></br>gender: male</br>age: 25.0</br>class: 1st</br>embarked: Southampton</br>sibsp: 0.0</br>parch: 0.0</br>_original_yhat_: 0.08127726929343082</br>"
          ],
          [
           "</br>id: John</br>prediction: 0.478</br>fare: 20.482428</br></br>gender: male</br>age: 25.0</br>class: 1st</br>embarked: Southampton</br>sibsp: 0.0</br>parch: 0.0</br>_original_yhat_: 0.08127726929343082</br>"
          ],
          [
           "</br>id: John</br>prediction: 0.473</br>fare: 25.603035</br></br>gender: male</br>age: 25.0</br>class: 1st</br>embarked: Southampton</br>sibsp: 0.0</br>parch: 0.0</br>_original_yhat_: 0.08127726929343082</br>"
          ],
          [
           "</br>id: John</br>prediction: 0.44</br>fare: 30.723641999999998</br></br>gender: male</br>age: 25.0</br>class: 1st</br>embarked: Southampton</br>sibsp: 0.0</br>parch: 0.0</br>_original_yhat_: 0.08127726929343082</br>"
          ],
          [
           "</br>id: John</br>prediction: 0.393</br>fare: 35.844249</br></br>gender: male</br>age: 25.0</br>class: 1st</br>embarked: Southampton</br>sibsp: 0.0</br>parch: 0.0</br>_original_yhat_: 0.08127726929343082</br>"
          ],
          [
           "</br>id: John</br>prediction: 0.348</br>fare: 40.964856</br></br>gender: male</br>age: 25.0</br>class: 1st</br>embarked: Southampton</br>sibsp: 0.0</br>parch: 0.0</br>_original_yhat_: 0.08127726929343082</br>"
          ],
          [
           "</br>id: John</br>prediction: 0.29</br>fare: 46.085463</br></br>gender: male</br>age: 25.0</br>class: 1st</br>embarked: Southampton</br>sibsp: 0.0</br>parch: 0.0</br>_original_yhat_: 0.08127726929343082</br>"
          ],
          [
           "</br>id: John</br>prediction: 0.227</br>fare: 51.20607</br></br>gender: male</br>age: 25.0</br>class: 1st</br>embarked: Southampton</br>sibsp: 0.0</br>parch: 0.0</br>_original_yhat_: 0.08127726929343082</br>"
          ],
          [
           "</br>id: John</br>prediction: 0.173</br>fare: 56.326677</br></br>gender: male</br>age: 25.0</br>class: 1st</br>embarked: Southampton</br>sibsp: 0.0</br>parch: 0.0</br>_original_yhat_: 0.08127726929343082</br>"
          ],
          [
           "</br>id: John</br>prediction: 0.135</br>fare: 61.447283999999996</br></br>gender: male</br>age: 25.0</br>class: 1st</br>embarked: Southampton</br>sibsp: 0.0</br>parch: 0.0</br>_original_yhat_: 0.08127726929343082</br>"
          ],
          [
           "</br>id: John</br>prediction: 0.105</br>fare: 66.567891</br></br>gender: male</br>age: 25.0</br>class: 1st</br>embarked: Southampton</br>sibsp: 0.0</br>parch: 0.0</br>_original_yhat_: 0.08127726929343082</br>"
          ],
          [
           "</br>id: John</br>prediction: 0.082</br>fare: 71.688498</br></br>gender: male</br>age: 25.0</br>class: 1st</br>embarked: Southampton</br>sibsp: 0.0</br>parch: 0.0</br>_original_yhat_: 0.08127726929343082</br>"
          ],
          [
           "</br>id: John</br>prediction: 0.081</br>fare: 72.0</br></br>gender: male</br>age: 25.0</br>class: 1st</br>embarked: Southampton</br>sibsp: 0.0</br>parch: 0.0</br>_original_yhat_: 0.08127726929343082</br>"
          ],
          [
           "</br>id: John</br>prediction: 0.065</br>fare: 76.80910499999999</br></br>gender: male</br>age: 25.0</br>class: 1st</br>embarked: Southampton</br>sibsp: 0.0</br>parch: 0.0</br>_original_yhat_: 0.08127726929343082</br>"
          ],
          [
           "</br>id: John</br>prediction: 0.053</br>fare: 81.929712</br></br>gender: male</br>age: 25.0</br>class: 1st</br>embarked: Southampton</br>sibsp: 0.0</br>parch: 0.0</br>_original_yhat_: 0.08127726929343082</br>"
          ],
          [
           "</br>id: John</br>prediction: 0.045</br>fare: 87.050319</br></br>gender: male</br>age: 25.0</br>class: 1st</br>embarked: Southampton</br>sibsp: 0.0</br>parch: 0.0</br>_original_yhat_: 0.08127726929343082</br>"
          ],
          [
           "</br>id: John</br>prediction: 0.039</br>fare: 92.170926</br></br>gender: male</br>age: 25.0</br>class: 1st</br>embarked: Southampton</br>sibsp: 0.0</br>parch: 0.0</br>_original_yhat_: 0.08127726929343082</br>"
          ],
          [
           "</br>id: John</br>prediction: 0.035</br>fare: 97.29153299999999</br></br>gender: male</br>age: 25.0</br>class: 1st</br>embarked: Southampton</br>sibsp: 0.0</br>parch: 0.0</br>_original_yhat_: 0.08127726929343082</br>"
          ],
          [
           "</br>id: John</br>prediction: 0.03</br>fare: 102.41214</br></br>gender: male</br>age: 25.0</br>class: 1st</br>embarked: Southampton</br>sibsp: 0.0</br>parch: 0.0</br>_original_yhat_: 0.08127726929343082</br>"
          ],
          [
           "</br>id: John</br>prediction: 0.027</br>fare: 107.532747</br></br>gender: male</br>age: 25.0</br>class: 1st</br>embarked: Southampton</br>sibsp: 0.0</br>parch: 0.0</br>_original_yhat_: 0.08127726929343082</br>"
          ],
          [
           "</br>id: John</br>prediction: 0.025</br>fare: 112.653354</br></br>gender: male</br>age: 25.0</br>class: 1st</br>embarked: Southampton</br>sibsp: 0.0</br>parch: 0.0</br>_original_yhat_: 0.08127726929343082</br>"
          ],
          [
           "</br>id: John</br>prediction: 0.023</br>fare: 117.77396099999999</br></br>gender: male</br>age: 25.0</br>class: 1st</br>embarked: Southampton</br>sibsp: 0.0</br>parch: 0.0</br>_original_yhat_: 0.08127726929343082</br>"
          ],
          [
           "</br>id: John</br>prediction: 0.022</br>fare: 122.89456799999999</br></br>gender: male</br>age: 25.0</br>class: 1st</br>embarked: Southampton</br>sibsp: 0.0</br>parch: 0.0</br>_original_yhat_: 0.08127726929343082</br>"
          ],
          [
           "</br>id: John</br>prediction: 0.021</br>fare: 128.015175</br></br>gender: male</br>age: 25.0</br>class: 1st</br>embarked: Southampton</br>sibsp: 0.0</br>parch: 0.0</br>_original_yhat_: 0.08127726929343082</br>"
          ],
          [
           "</br>id: John</br>prediction: 0.02</br>fare: 133.135782</br></br>gender: male</br>age: 25.0</br>class: 1st</br>embarked: Southampton</br>sibsp: 0.0</br>parch: 0.0</br>_original_yhat_: 0.08127726929343082</br>"
          ],
          [
           "</br>id: John</br>prediction: 0.019</br>fare: 138.25638899999998</br></br>gender: male</br>age: 25.0</br>class: 1st</br>embarked: Southampton</br>sibsp: 0.0</br>parch: 0.0</br>_original_yhat_: 0.08127726929343082</br>"
          ],
          [
           "</br>id: John</br>prediction: 0.018</br>fare: 143.376996</br></br>gender: male</br>age: 25.0</br>class: 1st</br>embarked: Southampton</br>sibsp: 0.0</br>parch: 0.0</br>_original_yhat_: 0.08127726929343082</br>"
          ],
          [
           "</br>id: John</br>prediction: 0.017</br>fare: 148.497603</br></br>gender: male</br>age: 25.0</br>class: 1st</br>embarked: Southampton</br>sibsp: 0.0</br>parch: 0.0</br>_original_yhat_: 0.08127726929343082</br>"
          ],
          [
           "</br>id: John</br>prediction: 0.016</br>fare: 153.61820999999998</br></br>gender: male</br>age: 25.0</br>class: 1st</br>embarked: Southampton</br>sibsp: 0.0</br>parch: 0.0</br>_original_yhat_: 0.08127726929343082</br>"
          ],
          [
           "</br>id: John</br>prediction: 0.016</br>fare: 158.73881699999998</br></br>gender: male</br>age: 25.0</br>class: 1st</br>embarked: Southampton</br>sibsp: 0.0</br>parch: 0.0</br>_original_yhat_: 0.08127726929343082</br>"
          ],
          [
           "</br>id: John</br>prediction: 0.015</br>fare: 163.859424</br></br>gender: male</br>age: 25.0</br>class: 1st</br>embarked: Southampton</br>sibsp: 0.0</br>parch: 0.0</br>_original_yhat_: 0.08127726929343082</br>"
          ],
          [
           "</br>id: John</br>prediction: 0.015</br>fare: 168.980031</br></br>gender: male</br>age: 25.0</br>class: 1st</br>embarked: Southampton</br>sibsp: 0.0</br>parch: 0.0</br>_original_yhat_: 0.08127726929343082</br>"
          ],
          [
           "</br>id: John</br>prediction: 0.015</br>fare: 174.100638</br></br>gender: male</br>age: 25.0</br>class: 1st</br>embarked: Southampton</br>sibsp: 0.0</br>parch: 0.0</br>_original_yhat_: 0.08127726929343082</br>"
          ],
          [
           "</br>id: John</br>prediction: 0.015</br>fare: 179.22124499999998</br></br>gender: male</br>age: 25.0</br>class: 1st</br>embarked: Southampton</br>sibsp: 0.0</br>parch: 0.0</br>_original_yhat_: 0.08127726929343082</br>"
          ],
          [
           "</br>id: John</br>prediction: 0.015</br>fare: 184.341852</br></br>gender: male</br>age: 25.0</br>class: 1st</br>embarked: Southampton</br>sibsp: 0.0</br>parch: 0.0</br>_original_yhat_: 0.08127726929343082</br>"
          ],
          [
           "</br>id: John</br>prediction: 0.015</br>fare: 189.462459</br></br>gender: male</br>age: 25.0</br>class: 1st</br>embarked: Southampton</br>sibsp: 0.0</br>parch: 0.0</br>_original_yhat_: 0.08127726929343082</br>"
          ],
          [
           "</br>id: John</br>prediction: 0.015</br>fare: 194.58306599999997</br></br>gender: male</br>age: 25.0</br>class: 1st</br>embarked: Southampton</br>sibsp: 0.0</br>parch: 0.0</br>_original_yhat_: 0.08127726929343082</br>"
          ],
          [
           "</br>id: John</br>prediction: 0.016</br>fare: 199.70367299999998</br></br>gender: male</br>age: 25.0</br>class: 1st</br>embarked: Southampton</br>sibsp: 0.0</br>parch: 0.0</br>_original_yhat_: 0.08127726929343082</br>"
          ],
          [
           "</br>id: John</br>prediction: 0.016</br>fare: 204.82428</br></br>gender: male</br>age: 25.0</br>class: 1st</br>embarked: Southampton</br>sibsp: 0.0</br>parch: 0.0</br>_original_yhat_: 0.08127726929343082</br>"
          ],
          [
           "</br>id: John</br>prediction: 0.017</br>fare: 209.944887</br></br>gender: male</br>age: 25.0</br>class: 1st</br>embarked: Southampton</br>sibsp: 0.0</br>parch: 0.0</br>_original_yhat_: 0.08127726929343082</br>"
          ],
          [
           "</br>id: John</br>prediction: 0.018</br>fare: 215.065494</br></br>gender: male</br>age: 25.0</br>class: 1st</br>embarked: Southampton</br>sibsp: 0.0</br>parch: 0.0</br>_original_yhat_: 0.08127726929343082</br>"
          ],
          [
           "</br>id: John</br>prediction: 0.02</br>fare: 220.18610099999998</br></br>gender: male</br>age: 25.0</br>class: 1st</br>embarked: Southampton</br>sibsp: 0.0</br>parch: 0.0</br>_original_yhat_: 0.08127726929343082</br>"
          ],
          [
           "</br>id: John</br>prediction: 0.023</br>fare: 225.306708</br></br>gender: male</br>age: 25.0</br>class: 1st</br>embarked: Southampton</br>sibsp: 0.0</br>parch: 0.0</br>_original_yhat_: 0.08127726929343082</br>"
          ],
          [
           "</br>id: John</br>prediction: 0.026</br>fare: 230.427315</br></br>gender: male</br>age: 25.0</br>class: 1st</br>embarked: Southampton</br>sibsp: 0.0</br>parch: 0.0</br>_original_yhat_: 0.08127726929343082</br>"
          ],
          [
           "</br>id: John</br>prediction: 0.03</br>fare: 235.54792199999997</br></br>gender: male</br>age: 25.0</br>class: 1st</br>embarked: Southampton</br>sibsp: 0.0</br>parch: 0.0</br>_original_yhat_: 0.08127726929343082</br>"
          ],
          [
           "</br>id: John</br>prediction: 0.035</br>fare: 240.66852899999998</br></br>gender: male</br>age: 25.0</br>class: 1st</br>embarked: Southampton</br>sibsp: 0.0</br>parch: 0.0</br>_original_yhat_: 0.08127726929343082</br>"
          ],
          [
           "</br>id: John</br>prediction: 0.041</br>fare: 245.78913599999998</br></br>gender: male</br>age: 25.0</br>class: 1st</br>embarked: Southampton</br>sibsp: 0.0</br>parch: 0.0</br>_original_yhat_: 0.08127726929343082</br>"
          ],
          [
           "</br>id: John</br>prediction: 0.047</br>fare: 250.909743</br></br>gender: male</br>age: 25.0</br>class: 1st</br>embarked: Southampton</br>sibsp: 0.0</br>parch: 0.0</br>_original_yhat_: 0.08127726929343082</br>"
          ],
          [
           "</br>id: John</br>prediction: 0.055</br>fare: 256.03035</br></br>gender: male</br>age: 25.0</br>class: 1st</br>embarked: Southampton</br>sibsp: 0.0</br>parch: 0.0</br>_original_yhat_: 0.08127726929343082</br>"
          ],
          [
           "</br>id: John</br>prediction: 0.063</br>fare: 261.150957</br></br>gender: male</br>age: 25.0</br>class: 1st</br>embarked: Southampton</br>sibsp: 0.0</br>parch: 0.0</br>_original_yhat_: 0.08127726929343082</br>"
          ],
          [
           "</br>id: John</br>prediction: 0.074</br>fare: 266.271564</br></br>gender: male</br>age: 25.0</br>class: 1st</br>embarked: Southampton</br>sibsp: 0.0</br>parch: 0.0</br>_original_yhat_: 0.08127726929343082</br>"
          ],
          [
           "</br>id: John</br>prediction: 0.09</br>fare: 271.39217099999996</br></br>gender: male</br>age: 25.0</br>class: 1st</br>embarked: Southampton</br>sibsp: 0.0</br>parch: 0.0</br>_original_yhat_: 0.08127726929343082</br>"
          ],
          [
           "</br>id: John</br>prediction: 0.109</br>fare: 276.51277799999997</br></br>gender: male</br>age: 25.0</br>class: 1st</br>embarked: Southampton</br>sibsp: 0.0</br>parch: 0.0</br>_original_yhat_: 0.08127726929343082</br>"
          ],
          [
           "</br>id: John</br>prediction: 0.131</br>fare: 281.633385</br></br>gender: male</br>age: 25.0</br>class: 1st</br>embarked: Southampton</br>sibsp: 0.0</br>parch: 0.0</br>_original_yhat_: 0.08127726929343082</br>"
          ],
          [
           "</br>id: John</br>prediction: 0.158</br>fare: 286.753992</br></br>gender: male</br>age: 25.0</br>class: 1st</br>embarked: Southampton</br>sibsp: 0.0</br>parch: 0.0</br>_original_yhat_: 0.08127726929343082</br>"
          ],
          [
           "</br>id: John</br>prediction: 0.188</br>fare: 291.874599</br></br>gender: male</br>age: 25.0</br>class: 1st</br>embarked: Southampton</br>sibsp: 0.0</br>parch: 0.0</br>_original_yhat_: 0.08127726929343082</br>"
          ],
          [
           "</br>id: John</br>prediction: 0.223</br>fare: 296.995206</br></br>gender: male</br>age: 25.0</br>class: 1st</br>embarked: Southampton</br>sibsp: 0.0</br>parch: 0.0</br>_original_yhat_: 0.08127726929343082</br>"
          ],
          [
           "</br>id: John</br>prediction: 0.263</br>fare: 302.115813</br></br>gender: male</br>age: 25.0</br>class: 1st</br>embarked: Southampton</br>sibsp: 0.0</br>parch: 0.0</br>_original_yhat_: 0.08127726929343082</br>"
          ],
          [
           "</br>id: John</br>prediction: 0.306</br>fare: 307.23641999999995</br></br>gender: male</br>age: 25.0</br>class: 1st</br>embarked: Southampton</br>sibsp: 0.0</br>parch: 0.0</br>_original_yhat_: 0.08127726929343082</br>"
          ],
          [
           "</br>id: John</br>prediction: 0.358</br>fare: 312.35702699999996</br></br>gender: male</br>age: 25.0</br>class: 1st</br>embarked: Southampton</br>sibsp: 0.0</br>parch: 0.0</br>_original_yhat_: 0.08127726929343082</br>"
          ],
          [
           "</br>id: John</br>prediction: 0.414</br>fare: 317.47763399999997</br></br>gender: male</br>age: 25.0</br>class: 1st</br>embarked: Southampton</br>sibsp: 0.0</br>parch: 0.0</br>_original_yhat_: 0.08127726929343082</br>"
          ],
          [
           "</br>id: John</br>prediction: 0.473</br>fare: 322.598241</br></br>gender: male</br>age: 25.0</br>class: 1st</br>embarked: Southampton</br>sibsp: 0.0</br>parch: 0.0</br>_original_yhat_: 0.08127726929343082</br>"
          ],
          [
           "</br>id: John</br>prediction: 0.533</br>fare: 327.718848</br></br>gender: male</br>age: 25.0</br>class: 1st</br>embarked: Southampton</br>sibsp: 0.0</br>parch: 0.0</br>_original_yhat_: 0.08127726929343082</br>"
          ],
          [
           "</br>id: John</br>prediction: 0.592</br>fare: 332.839455</br></br>gender: male</br>age: 25.0</br>class: 1st</br>embarked: Southampton</br>sibsp: 0.0</br>parch: 0.0</br>_original_yhat_: 0.08127726929343082</br>"
          ],
          [
           "</br>id: John</br>prediction: 0.648</br>fare: 337.960062</br></br>gender: male</br>age: 25.0</br>class: 1st</br>embarked: Southampton</br>sibsp: 0.0</br>parch: 0.0</br>_original_yhat_: 0.08127726929343082</br>"
          ],
          [
           "</br>id: John</br>prediction: 0.7</br>fare: 343.080669</br></br>gender: male</br>age: 25.0</br>class: 1st</br>embarked: Southampton</br>sibsp: 0.0</br>parch: 0.0</br>_original_yhat_: 0.08127726929343082</br>"
          ],
          [
           "</br>id: John</br>prediction: 0.747</br>fare: 348.201276</br></br>gender: male</br>age: 25.0</br>class: 1st</br>embarked: Southampton</br>sibsp: 0.0</br>parch: 0.0</br>_original_yhat_: 0.08127726929343082</br>"
          ],
          [
           "</br>id: John</br>prediction: 0.789</br>fare: 353.32188299999996</br></br>gender: male</br>age: 25.0</br>class: 1st</br>embarked: Southampton</br>sibsp: 0.0</br>parch: 0.0</br>_original_yhat_: 0.08127726929343082</br>"
          ],
          [
           "</br>id: John</br>prediction: 0.823</br>fare: 358.44248999999996</br></br>gender: male</br>age: 25.0</br>class: 1st</br>embarked: Southampton</br>sibsp: 0.0</br>parch: 0.0</br>_original_yhat_: 0.08127726929343082</br>"
          ],
          [
           "</br>id: John</br>prediction: 0.852</br>fare: 363.56309699999997</br></br>gender: male</br>age: 25.0</br>class: 1st</br>embarked: Southampton</br>sibsp: 0.0</br>parch: 0.0</br>_original_yhat_: 0.08127726929343082</br>"
          ],
          [
           "</br>id: John</br>prediction: 0.878</br>fare: 368.683704</br></br>gender: male</br>age: 25.0</br>class: 1st</br>embarked: Southampton</br>sibsp: 0.0</br>parch: 0.0</br>_original_yhat_: 0.08127726929343082</br>"
          ],
          [
           "</br>id: John</br>prediction: 0.899</br>fare: 373.804311</br></br>gender: male</br>age: 25.0</br>class: 1st</br>embarked: Southampton</br>sibsp: 0.0</br>parch: 0.0</br>_original_yhat_: 0.08127726929343082</br>"
          ],
          [
           "</br>id: John</br>prediction: 0.916</br>fare: 378.924918</br></br>gender: male</br>age: 25.0</br>class: 1st</br>embarked: Southampton</br>sibsp: 0.0</br>parch: 0.0</br>_original_yhat_: 0.08127726929343082</br>"
          ],
          [
           "</br>id: John</br>prediction: 0.931</br>fare: 384.045525</br></br>gender: male</br>age: 25.0</br>class: 1st</br>embarked: Southampton</br>sibsp: 0.0</br>parch: 0.0</br>_original_yhat_: 0.08127726929343082</br>"
          ],
          [
           "</br>id: John</br>prediction: 0.944</br>fare: 389.16613199999995</br></br>gender: male</br>age: 25.0</br>class: 1st</br>embarked: Southampton</br>sibsp: 0.0</br>parch: 0.0</br>_original_yhat_: 0.08127726929343082</br>"
          ],
          [
           "</br>id: John</br>prediction: 0.954</br>fare: 394.28673899999995</br></br>gender: male</br>age: 25.0</br>class: 1st</br>embarked: Southampton</br>sibsp: 0.0</br>parch: 0.0</br>_original_yhat_: 0.08127726929343082</br>"
          ],
          [
           "</br>id: John</br>prediction: 0.962</br>fare: 399.40734599999996</br></br>gender: male</br>age: 25.0</br>class: 1st</br>embarked: Southampton</br>sibsp: 0.0</br>parch: 0.0</br>_original_yhat_: 0.08127726929343082</br>"
          ],
          [
           "</br>id: John</br>prediction: 0.969</br>fare: 404.52795299999997</br></br>gender: male</br>age: 25.0</br>class: 1st</br>embarked: Southampton</br>sibsp: 0.0</br>parch: 0.0</br>_original_yhat_: 0.08127726929343082</br>"
          ],
          [
           "</br>id: John</br>prediction: 0.975</br>fare: 409.64856</br></br>gender: male</br>age: 25.0</br>class: 1st</br>embarked: Southampton</br>sibsp: 0.0</br>parch: 0.0</br>_original_yhat_: 0.08127726929343082</br>"
          ],
          [
           "</br>id: John</br>prediction: 0.979</br>fare: 414.769167</br></br>gender: male</br>age: 25.0</br>class: 1st</br>embarked: Southampton</br>sibsp: 0.0</br>parch: 0.0</br>_original_yhat_: 0.08127726929343082</br>"
          ],
          [
           "</br>id: John</br>prediction: 0.983</br>fare: 419.889774</br></br>gender: male</br>age: 25.0</br>class: 1st</br>embarked: Southampton</br>sibsp: 0.0</br>parch: 0.0</br>_original_yhat_: 0.08127726929343082</br>"
          ],
          [
           "</br>id: John</br>prediction: 0.986</br>fare: 425.010381</br></br>gender: male</br>age: 25.0</br>class: 1st</br>embarked: Southampton</br>sibsp: 0.0</br>parch: 0.0</br>_original_yhat_: 0.08127726929343082</br>"
          ],
          [
           "</br>id: John</br>prediction: 0.989</br>fare: 430.130988</br></br>gender: male</br>age: 25.0</br>class: 1st</br>embarked: Southampton</br>sibsp: 0.0</br>parch: 0.0</br>_original_yhat_: 0.08127726929343082</br>"
          ],
          [
           "</br>id: John</br>prediction: 0.991</br>fare: 435.25159499999995</br></br>gender: male</br>age: 25.0</br>class: 1st</br>embarked: Southampton</br>sibsp: 0.0</br>parch: 0.0</br>_original_yhat_: 0.08127726929343082</br>"
          ],
          [
           "</br>id: John</br>prediction: 0.993</br>fare: 440.37220199999996</br></br>gender: male</br>age: 25.0</br>class: 1st</br>embarked: Southampton</br>sibsp: 0.0</br>parch: 0.0</br>_original_yhat_: 0.08127726929343082</br>"
          ],
          [
           "</br>id: John</br>prediction: 0.994</br>fare: 445.49280899999997</br></br>gender: male</br>age: 25.0</br>class: 1st</br>embarked: Southampton</br>sibsp: 0.0</br>parch: 0.0</br>_original_yhat_: 0.08127726929343082</br>"
          ],
          [
           "</br>id: John</br>prediction: 0.995</br>fare: 450.613416</br></br>gender: male</br>age: 25.0</br>class: 1st</br>embarked: Southampton</br>sibsp: 0.0</br>parch: 0.0</br>_original_yhat_: 0.08127726929343082</br>"
          ],
          [
           "</br>id: John</br>prediction: 0.996</br>fare: 455.734023</br></br>gender: male</br>age: 25.0</br>class: 1st</br>embarked: Southampton</br>sibsp: 0.0</br>parch: 0.0</br>_original_yhat_: 0.08127726929343082</br>"
          ],
          [
           "</br>id: John</br>prediction: 0.997</br>fare: 460.85463</br></br>gender: male</br>age: 25.0</br>class: 1st</br>embarked: Southampton</br>sibsp: 0.0</br>parch: 0.0</br>_original_yhat_: 0.08127726929343082</br>"
          ],
          [
           "</br>id: John</br>prediction: 0.997</br>fare: 465.975237</br></br>gender: male</br>age: 25.0</br>class: 1st</br>embarked: Southampton</br>sibsp: 0.0</br>parch: 0.0</br>_original_yhat_: 0.08127726929343082</br>"
          ],
          [
           "</br>id: John</br>prediction: 0.998</br>fare: 471.09584399999994</br></br>gender: male</br>age: 25.0</br>class: 1st</br>embarked: Southampton</br>sibsp: 0.0</br>parch: 0.0</br>_original_yhat_: 0.08127726929343082</br>"
          ],
          [
           "</br>id: John</br>prediction: 0.998</br>fare: 476.21645099999995</br></br>gender: male</br>age: 25.0</br>class: 1st</br>embarked: Southampton</br>sibsp: 0.0</br>parch: 0.0</br>_original_yhat_: 0.08127726929343082</br>"
          ],
          [
           "</br>id: John</br>prediction: 0.999</br>fare: 481.33705799999996</br></br>gender: male</br>age: 25.0</br>class: 1st</br>embarked: Southampton</br>sibsp: 0.0</br>parch: 0.0</br>_original_yhat_: 0.08127726929343082</br>"
          ],
          [
           "</br>id: John</br>prediction: 0.999</br>fare: 486.45766499999996</br></br>gender: male</br>age: 25.0</br>class: 1st</br>embarked: Southampton</br>sibsp: 0.0</br>parch: 0.0</br>_original_yhat_: 0.08127726929343082</br>"
          ],
          [
           "</br>id: John</br>prediction: 0.999</br>fare: 491.57827199999997</br></br>gender: male</br>age: 25.0</br>class: 1st</br>embarked: Southampton</br>sibsp: 0.0</br>parch: 0.0</br>_original_yhat_: 0.08127726929343082</br>"
          ],
          [
           "</br>id: John</br>prediction: 0.999</br>fare: 496.698879</br></br>gender: male</br>age: 25.0</br>class: 1st</br>embarked: Southampton</br>sibsp: 0.0</br>parch: 0.0</br>_original_yhat_: 0.08127726929343082</br>"
          ],
          [
           "</br>id: John</br>prediction: 0.999</br>fare: 501.819486</br></br>gender: male</br>age: 25.0</br>class: 1st</br>embarked: Southampton</br>sibsp: 0.0</br>parch: 0.0</br>_original_yhat_: 0.08127726929343082</br>"
          ],
          [
           "</br>id: John</br>prediction: 0.999</br>fare: 506.940093</br></br>gender: male</br>age: 25.0</br>class: 1st</br>embarked: Southampton</br>sibsp: 0.0</br>parch: 0.0</br>_original_yhat_: 0.08127726929343082</br>"
          ],
          [
           "</br>id: John</br>prediction: 1.0</br>fare: 512.0607</br></br>gender: male</br>age: 25.0</br>class: 1st</br>embarked: Southampton</br>sibsp: 0.0</br>parch: 0.0</br>_original_yhat_: 0.08127726929343082</br>"
          ]
         ],
         "hovertemplate": "%{customdata[0]}<extra></extra>",
         "legendgroup": "John",
         "line": {
          "color": "#4378bf",
          "dash": "solid",
          "width": 2
         },
         "marker": {
          "symbol": "circle"
         },
         "mode": "lines",
         "name": "John",
         "opacity": 1,
         "orientation": "v",
         "showlegend": false,
         "type": "scatter",
         "x": [
          0,
          5.120607,
          10.241214,
          15.361820999999999,
          20.482428,
          25.603035,
          30.723641999999998,
          35.844249,
          40.964856,
          46.085463,
          51.20607,
          56.326677,
          61.447283999999996,
          66.567891,
          71.688498,
          72,
          76.80910499999999,
          81.929712,
          87.050319,
          92.170926,
          97.29153299999999,
          102.41214,
          107.532747,
          112.653354,
          117.77396099999999,
          122.89456799999999,
          128.015175,
          133.135782,
          138.25638899999998,
          143.376996,
          148.497603,
          153.61820999999998,
          158.73881699999998,
          163.859424,
          168.980031,
          174.100638,
          179.22124499999998,
          184.341852,
          189.462459,
          194.58306599999997,
          199.70367299999998,
          204.82428,
          209.944887,
          215.065494,
          220.18610099999998,
          225.306708,
          230.427315,
          235.54792199999997,
          240.66852899999998,
          245.78913599999998,
          250.909743,
          256.03035,
          261.150957,
          266.271564,
          271.39217099999996,
          276.51277799999997,
          281.633385,
          286.753992,
          291.874599,
          296.995206,
          302.115813,
          307.23641999999995,
          312.35702699999996,
          317.47763399999997,
          322.598241,
          327.718848,
          332.839455,
          337.960062,
          343.080669,
          348.201276,
          353.32188299999996,
          358.44248999999996,
          363.56309699999997,
          368.683704,
          373.804311,
          378.924918,
          384.045525,
          389.16613199999995,
          394.28673899999995,
          399.40734599999996,
          404.52795299999997,
          409.64856,
          414.769167,
          419.889774,
          425.010381,
          430.130988,
          435.25159499999995,
          440.37220199999996,
          445.49280899999997,
          450.613416,
          455.734023,
          460.85463,
          465.975237,
          471.09584399999994,
          476.21645099999995,
          481.33705799999996,
          486.45766499999996,
          491.57827199999997,
          496.698879,
          501.819486,
          506.940093,
          512.0607
         ],
         "xaxis": "x4",
         "y": [
          0.4898423310701343,
          0.4887128302744037,
          0.4875380193106728,
          0.48360388969851337,
          0.47797364807208115,
          0.4731688944775493,
          0.4396665697999149,
          0.3932223004791265,
          0.3482504724719763,
          0.28997964291082207,
          0.22702839384542733,
          0.17296524436978294,
          0.13494350711313907,
          0.10531732595430543,
          0.08247941834540237,
          0.08127726929343085,
          0.0653725871878381,
          0.05342237088019678,
          0.04473071713343292,
          0.03948542184299361,
          0.03477216794787267,
          0.030161357322168174,
          0.02729755228895867,
          0.024875144270913703,
          0.023302420324272013,
          0.022035529677921353,
          0.020872872923430996,
          0.0198910492432075,
          0.01881799009904158,
          0.017858080563196658,
          0.016928024370932243,
          0.016095755032690364,
          0.015598529119708078,
          0.015369312559469942,
          0.015122570133266414,
          0.014860240294340979,
          0.014597719890735444,
          0.01458507875094427,
          0.014888259515645581,
          0.015209540027292238,
          0.015542625154669223,
          0.01600862404543852,
          0.01692373436581988,
          0.018098530659947782,
          0.02035430865814244,
          0.02301736736863108,
          0.026077286131209656,
          0.03003841430755371,
          0.03489111586502085,
          0.04052907245361241,
          0.047041098174481766,
          0.05455693165246205,
          0.0631939519127488,
          0.07360117039260013,
          0.08958012533181318,
          0.10867125357281082,
          0.1312445120161636,
          0.1576772233228274,
          0.188279755069853,
          0.2232475519889494,
          0.2627165088456095,
          0.30646073182788325,
          0.35775426458890486,
          0.4142487850641997,
          0.47335018208048096,
          0.5332079556551093,
          0.5921604592389952,
          0.6479789466695827,
          0.7000278774869414,
          0.7473812521545166,
          0.7894096252966135,
          0.8230727900388846,
          0.852361247964008,
          0.877522771917033,
          0.8985120840132496,
          0.9162364828990106,
          0.931102756343017,
          0.9435250573986287,
          0.9538675405208605,
          0.9623914596700555,
          0.9693251840234087,
          0.9749059469306592,
          0.979475625637657,
          0.9832276935401796,
          0.9863035173835438,
          0.9888216878260293,
          0.9908811598319796,
          0.9925640517851388,
          0.9939382641596114,
          0.9950597770408389,
          0.9959746334086306,
          0.9967206302238601,
          0.9973274785278889,
          0.9978210860208638,
          0.9982236879206621,
          0.9985513994206635,
          0.9988175342815584,
          0.9990347574205636,
          0.999212107377662,
          0.9993568927124044,
          0.9994750858692033,
          0.9995716199350473
         ],
         "yaxis": "y4"
        },
        {
         "customdata": [
          [
           "</br>id: John</br>prediction: 0.081</br>sibsp: 0.0</br></br>gender: male</br>age: 25.0</br>class: 1st</br>embarked: Southampton</br>fare: 72.0</br>parch: 0.0</br>_original_yhat_: 0.08127726929343082</br>"
          ],
          [
           "</br>id: John</br>prediction: 0.104</br>sibsp: 0.08</br></br>gender: male</br>age: 25.0</br>class: 1st</br>embarked: Southampton</br>fare: 72.0</br>parch: 0.0</br>_original_yhat_: 0.08127726929343082</br>"
          ],
          [
           "</br>id: John</br>prediction: 0.133</br>sibsp: 0.16</br></br>gender: male</br>age: 25.0</br>class: 1st</br>embarked: Southampton</br>fare: 72.0</br>parch: 0.0</br>_original_yhat_: 0.08127726929343082</br>"
          ],
          [
           "</br>id: John</br>prediction: 0.176</br>sibsp: 0.24</br></br>gender: male</br>age: 25.0</br>class: 1st</br>embarked: Southampton</br>fare: 72.0</br>parch: 0.0</br>_original_yhat_: 0.08127726929343082</br>"
          ],
          [
           "</br>id: John</br>prediction: 0.219</br>sibsp: 0.32</br></br>gender: male</br>age: 25.0</br>class: 1st</br>embarked: Southampton</br>fare: 72.0</br>parch: 0.0</br>_original_yhat_: 0.08127726929343082</br>"
          ],
          [
           "</br>id: John</br>prediction: 0.27</br>sibsp: 0.4</br></br>gender: male</br>age: 25.0</br>class: 1st</br>embarked: Southampton</br>fare: 72.0</br>parch: 0.0</br>_original_yhat_: 0.08127726929343082</br>"
          ],
          [
           "</br>id: John</br>prediction: 0.339</br>sibsp: 0.48</br></br>gender: male</br>age: 25.0</br>class: 1st</br>embarked: Southampton</br>fare: 72.0</br>parch: 0.0</br>_original_yhat_: 0.08127726929343082</br>"
          ],
          [
           "</br>id: John</br>prediction: 0.411</br>sibsp: 0.56</br></br>gender: male</br>age: 25.0</br>class: 1st</br>embarked: Southampton</br>fare: 72.0</br>parch: 0.0</br>_original_yhat_: 0.08127726929343082</br>"
          ],
          [
           "</br>id: John</br>prediction: 0.479</br>sibsp: 0.64</br></br>gender: male</br>age: 25.0</br>class: 1st</br>embarked: Southampton</br>fare: 72.0</br>parch: 0.0</br>_original_yhat_: 0.08127726929343082</br>"
          ],
          [
           "</br>id: John</br>prediction: 0.534</br>sibsp: 0.72</br></br>gender: male</br>age: 25.0</br>class: 1st</br>embarked: Southampton</br>fare: 72.0</br>parch: 0.0</br>_original_yhat_: 0.08127726929343082</br>"
          ],
          [
           "</br>id: John</br>prediction: 0.57</br>sibsp: 0.8</br></br>gender: male</br>age: 25.0</br>class: 1st</br>embarked: Southampton</br>fare: 72.0</br>parch: 0.0</br>_original_yhat_: 0.08127726929343082</br>"
          ],
          [
           "</br>id: John</br>prediction: 0.598</br>sibsp: 0.88</br></br>gender: male</br>age: 25.0</br>class: 1st</br>embarked: Southampton</br>fare: 72.0</br>parch: 0.0</br>_original_yhat_: 0.08127726929343082</br>"
          ],
          [
           "</br>id: John</br>prediction: 0.62</br>sibsp: 0.96</br></br>gender: male</br>age: 25.0</br>class: 1st</br>embarked: Southampton</br>fare: 72.0</br>parch: 0.0</br>_original_yhat_: 0.08127726929343082</br>"
          ],
          [
           "</br>id: John</br>prediction: 0.639</br>sibsp: 1.04</br></br>gender: male</br>age: 25.0</br>class: 1st</br>embarked: Southampton</br>fare: 72.0</br>parch: 0.0</br>_original_yhat_: 0.08127726929343082</br>"
          ],
          [
           "</br>id: John</br>prediction: 0.656</br>sibsp: 1.12</br></br>gender: male</br>age: 25.0</br>class: 1st</br>embarked: Southampton</br>fare: 72.0</br>parch: 0.0</br>_original_yhat_: 0.08127726929343082</br>"
          ],
          [
           "</br>id: John</br>prediction: 0.666</br>sibsp: 1.2</br></br>gender: male</br>age: 25.0</br>class: 1st</br>embarked: Southampton</br>fare: 72.0</br>parch: 0.0</br>_original_yhat_: 0.08127726929343082</br>"
          ],
          [
           "</br>id: John</br>prediction: 0.672</br>sibsp: 1.28</br></br>gender: male</br>age: 25.0</br>class: 1st</br>embarked: Southampton</br>fare: 72.0</br>parch: 0.0</br>_original_yhat_: 0.08127726929343082</br>"
          ],
          [
           "</br>id: John</br>prediction: 0.674</br>sibsp: 1.36</br></br>gender: male</br>age: 25.0</br>class: 1st</br>embarked: Southampton</br>fare: 72.0</br>parch: 0.0</br>_original_yhat_: 0.08127726929343082</br>"
          ],
          [
           "</br>id: John</br>prediction: 0.673</br>sibsp: 1.44</br></br>gender: male</br>age: 25.0</br>class: 1st</br>embarked: Southampton</br>fare: 72.0</br>parch: 0.0</br>_original_yhat_: 0.08127726929343082</br>"
          ],
          [
           "</br>id: John</br>prediction: 0.673</br>sibsp: 1.52</br></br>gender: male</br>age: 25.0</br>class: 1st</br>embarked: Southampton</br>fare: 72.0</br>parch: 0.0</br>_original_yhat_: 0.08127726929343082</br>"
          ],
          [
           "</br>id: John</br>prediction: 0.68</br>sibsp: 1.6</br></br>gender: male</br>age: 25.0</br>class: 1st</br>embarked: Southampton</br>fare: 72.0</br>parch: 0.0</br>_original_yhat_: 0.08127726929343082</br>"
          ],
          [
           "</br>id: John</br>prediction: 0.687</br>sibsp: 1.68</br></br>gender: male</br>age: 25.0</br>class: 1st</br>embarked: Southampton</br>fare: 72.0</br>parch: 0.0</br>_original_yhat_: 0.08127726929343082</br>"
          ],
          [
           "</br>id: John</br>prediction: 0.694</br>sibsp: 1.76</br></br>gender: male</br>age: 25.0</br>class: 1st</br>embarked: Southampton</br>fare: 72.0</br>parch: 0.0</br>_original_yhat_: 0.08127726929343082</br>"
          ],
          [
           "</br>id: John</br>prediction: 0.701</br>sibsp: 1.84</br></br>gender: male</br>age: 25.0</br>class: 1st</br>embarked: Southampton</br>fare: 72.0</br>parch: 0.0</br>_original_yhat_: 0.08127726929343082</br>"
          ],
          [
           "</br>id: John</br>prediction: 0.708</br>sibsp: 1.92</br></br>gender: male</br>age: 25.0</br>class: 1st</br>embarked: Southampton</br>fare: 72.0</br>parch: 0.0</br>_original_yhat_: 0.08127726929343082</br>"
          ],
          [
           "</br>id: John</br>prediction: 0.716</br>sibsp: 2.0</br></br>gender: male</br>age: 25.0</br>class: 1st</br>embarked: Southampton</br>fare: 72.0</br>parch: 0.0</br>_original_yhat_: 0.08127726929343082</br>"
          ],
          [
           "</br>id: John</br>prediction: 0.723</br>sibsp: 2.08</br></br>gender: male</br>age: 25.0</br>class: 1st</br>embarked: Southampton</br>fare: 72.0</br>parch: 0.0</br>_original_yhat_: 0.08127726929343082</br>"
          ],
          [
           "</br>id: John</br>prediction: 0.73</br>sibsp: 2.16</br></br>gender: male</br>age: 25.0</br>class: 1st</br>embarked: Southampton</br>fare: 72.0</br>parch: 0.0</br>_original_yhat_: 0.08127726929343082</br>"
          ],
          [
           "</br>id: John</br>prediction: 0.729</br>sibsp: 2.24</br></br>gender: male</br>age: 25.0</br>class: 1st</br>embarked: Southampton</br>fare: 72.0</br>parch: 0.0</br>_original_yhat_: 0.08127726929343082</br>"
          ],
          [
           "</br>id: John</br>prediction: 0.721</br>sibsp: 2.32</br></br>gender: male</br>age: 25.0</br>class: 1st</br>embarked: Southampton</br>fare: 72.0</br>parch: 0.0</br>_original_yhat_: 0.08127726929343082</br>"
          ],
          [
           "</br>id: John</br>prediction: 0.711</br>sibsp: 2.4</br></br>gender: male</br>age: 25.0</br>class: 1st</br>embarked: Southampton</br>fare: 72.0</br>parch: 0.0</br>_original_yhat_: 0.08127726929343082</br>"
          ],
          [
           "</br>id: John</br>prediction: 0.701</br>sibsp: 2.48</br></br>gender: male</br>age: 25.0</br>class: 1st</br>embarked: Southampton</br>fare: 72.0</br>parch: 0.0</br>_original_yhat_: 0.08127726929343082</br>"
          ],
          [
           "</br>id: John</br>prediction: 0.688</br>sibsp: 2.56</br></br>gender: male</br>age: 25.0</br>class: 1st</br>embarked: Southampton</br>fare: 72.0</br>parch: 0.0</br>_original_yhat_: 0.08127726929343082</br>"
          ],
          [
           "</br>id: John</br>prediction: 0.678</br>sibsp: 2.64</br></br>gender: male</br>age: 25.0</br>class: 1st</br>embarked: Southampton</br>fare: 72.0</br>parch: 0.0</br>_original_yhat_: 0.08127726929343082</br>"
          ],
          [
           "</br>id: John</br>prediction: 0.669</br>sibsp: 2.72</br></br>gender: male</br>age: 25.0</br>class: 1st</br>embarked: Southampton</br>fare: 72.0</br>parch: 0.0</br>_original_yhat_: 0.08127726929343082</br>"
          ],
          [
           "</br>id: John</br>prediction: 0.659</br>sibsp: 2.8000000000000003</br></br>gender: male</br>age: 25.0</br>class: 1st</br>embarked: Southampton</br>fare: 72.0</br>parch: 0.0</br>_original_yhat_: 0.08127726929343082</br>"
          ],
          [
           "</br>id: John</br>prediction: 0.644</br>sibsp: 2.88</br></br>gender: male</br>age: 25.0</br>class: 1st</br>embarked: Southampton</br>fare: 72.0</br>parch: 0.0</br>_original_yhat_: 0.08127726929343082</br>"
          ],
          [
           "</br>id: John</br>prediction: 0.629</br>sibsp: 2.96</br></br>gender: male</br>age: 25.0</br>class: 1st</br>embarked: Southampton</br>fare: 72.0</br>parch: 0.0</br>_original_yhat_: 0.08127726929343082</br>"
          ],
          [
           "</br>id: John</br>prediction: 0.613</br>sibsp: 3.04</br></br>gender: male</br>age: 25.0</br>class: 1st</br>embarked: Southampton</br>fare: 72.0</br>parch: 0.0</br>_original_yhat_: 0.08127726929343082</br>"
          ],
          [
           "</br>id: John</br>prediction: 0.596</br>sibsp: 3.12</br></br>gender: male</br>age: 25.0</br>class: 1st</br>embarked: Southampton</br>fare: 72.0</br>parch: 0.0</br>_original_yhat_: 0.08127726929343082</br>"
          ],
          [
           "</br>id: John</br>prediction: 0.58</br>sibsp: 3.2</br></br>gender: male</br>age: 25.0</br>class: 1st</br>embarked: Southampton</br>fare: 72.0</br>parch: 0.0</br>_original_yhat_: 0.08127726929343082</br>"
          ],
          [
           "</br>id: John</br>prediction: 0.567</br>sibsp: 3.2800000000000002</br></br>gender: male</br>age: 25.0</br>class: 1st</br>embarked: Southampton</br>fare: 72.0</br>parch: 0.0</br>_original_yhat_: 0.08127726929343082</br>"
          ],
          [
           "</br>id: John</br>prediction: 0.553</br>sibsp: 3.36</br></br>gender: male</br>age: 25.0</br>class: 1st</br>embarked: Southampton</br>fare: 72.0</br>parch: 0.0</br>_original_yhat_: 0.08127726929343082</br>"
          ],
          [
           "</br>id: John</br>prediction: 0.538</br>sibsp: 3.44</br></br>gender: male</br>age: 25.0</br>class: 1st</br>embarked: Southampton</br>fare: 72.0</br>parch: 0.0</br>_original_yhat_: 0.08127726929343082</br>"
          ],
          [
           "</br>id: John</br>prediction: 0.519</br>sibsp: 3.52</br></br>gender: male</br>age: 25.0</br>class: 1st</br>embarked: Southampton</br>fare: 72.0</br>parch: 0.0</br>_original_yhat_: 0.08127726929343082</br>"
          ],
          [
           "</br>id: John</br>prediction: 0.502</br>sibsp: 3.6</br></br>gender: male</br>age: 25.0</br>class: 1st</br>embarked: Southampton</br>fare: 72.0</br>parch: 0.0</br>_original_yhat_: 0.08127726929343082</br>"
          ],
          [
           "</br>id: John</br>prediction: 0.478</br>sibsp: 3.68</br></br>gender: male</br>age: 25.0</br>class: 1st</br>embarked: Southampton</br>fare: 72.0</br>parch: 0.0</br>_original_yhat_: 0.08127726929343082</br>"
          ],
          [
           "</br>id: John</br>prediction: 0.452</br>sibsp: 3.7600000000000002</br></br>gender: male</br>age: 25.0</br>class: 1st</br>embarked: Southampton</br>fare: 72.0</br>parch: 0.0</br>_original_yhat_: 0.08127726929343082</br>"
          ],
          [
           "</br>id: John</br>prediction: 0.428</br>sibsp: 3.84</br></br>gender: male</br>age: 25.0</br>class: 1st</br>embarked: Southampton</br>fare: 72.0</br>parch: 0.0</br>_original_yhat_: 0.08127726929343082</br>"
          ],
          [
           "</br>id: John</br>prediction: 0.403</br>sibsp: 3.92</br></br>gender: male</br>age: 25.0</br>class: 1st</br>embarked: Southampton</br>fare: 72.0</br>parch: 0.0</br>_original_yhat_: 0.08127726929343082</br>"
          ],
          [
           "</br>id: John</br>prediction: 0.379</br>sibsp: 4.0</br></br>gender: male</br>age: 25.0</br>class: 1st</br>embarked: Southampton</br>fare: 72.0</br>parch: 0.0</br>_original_yhat_: 0.08127726929343082</br>"
          ],
          [
           "</br>id: John</br>prediction: 0.358</br>sibsp: 4.08</br></br>gender: male</br>age: 25.0</br>class: 1st</br>embarked: Southampton</br>fare: 72.0</br>parch: 0.0</br>_original_yhat_: 0.08127726929343082</br>"
          ],
          [
           "</br>id: John</br>prediction: 0.341</br>sibsp: 4.16</br></br>gender: male</br>age: 25.0</br>class: 1st</br>embarked: Southampton</br>fare: 72.0</br>parch: 0.0</br>_original_yhat_: 0.08127726929343082</br>"
          ],
          [
           "</br>id: John</br>prediction: 0.324</br>sibsp: 4.24</br></br>gender: male</br>age: 25.0</br>class: 1st</br>embarked: Southampton</br>fare: 72.0</br>parch: 0.0</br>_original_yhat_: 0.08127726929343082</br>"
          ],
          [
           "</br>id: John</br>prediction: 0.307</br>sibsp: 4.32</br></br>gender: male</br>age: 25.0</br>class: 1st</br>embarked: Southampton</br>fare: 72.0</br>parch: 0.0</br>_original_yhat_: 0.08127726929343082</br>"
          ],
          [
           "</br>id: John</br>prediction: 0.29</br>sibsp: 4.4</br></br>gender: male</br>age: 25.0</br>class: 1st</br>embarked: Southampton</br>fare: 72.0</br>parch: 0.0</br>_original_yhat_: 0.08127726929343082</br>"
          ],
          [
           "</br>id: John</br>prediction: 0.274</br>sibsp: 4.48</br></br>gender: male</br>age: 25.0</br>class: 1st</br>embarked: Southampton</br>fare: 72.0</br>parch: 0.0</br>_original_yhat_: 0.08127726929343082</br>"
          ],
          [
           "</br>id: John</br>prediction: 0.259</br>sibsp: 4.5600000000000005</br></br>gender: male</br>age: 25.0</br>class: 1st</br>embarked: Southampton</br>fare: 72.0</br>parch: 0.0</br>_original_yhat_: 0.08127726929343082</br>"
          ],
          [
           "</br>id: John</br>prediction: 0.244</br>sibsp: 4.64</br></br>gender: male</br>age: 25.0</br>class: 1st</br>embarked: Southampton</br>fare: 72.0</br>parch: 0.0</br>_original_yhat_: 0.08127726929343082</br>"
          ],
          [
           "</br>id: John</br>prediction: 0.23</br>sibsp: 4.72</br></br>gender: male</br>age: 25.0</br>class: 1st</br>embarked: Southampton</br>fare: 72.0</br>parch: 0.0</br>_original_yhat_: 0.08127726929343082</br>"
          ],
          [
           "</br>id: John</br>prediction: 0.216</br>sibsp: 4.8</br></br>gender: male</br>age: 25.0</br>class: 1st</br>embarked: Southampton</br>fare: 72.0</br>parch: 0.0</br>_original_yhat_: 0.08127726929343082</br>"
          ],
          [
           "</br>id: John</br>prediction: 0.205</br>sibsp: 4.88</br></br>gender: male</br>age: 25.0</br>class: 1st</br>embarked: Southampton</br>fare: 72.0</br>parch: 0.0</br>_original_yhat_: 0.08127726929343082</br>"
          ],
          [
           "</br>id: John</br>prediction: 0.195</br>sibsp: 4.96</br></br>gender: male</br>age: 25.0</br>class: 1st</br>embarked: Southampton</br>fare: 72.0</br>parch: 0.0</br>_original_yhat_: 0.08127726929343082</br>"
          ],
          [
           "</br>id: John</br>prediction: 0.186</br>sibsp: 5.04</br></br>gender: male</br>age: 25.0</br>class: 1st</br>embarked: Southampton</br>fare: 72.0</br>parch: 0.0</br>_original_yhat_: 0.08127726929343082</br>"
          ],
          [
           "</br>id: John</br>prediction: 0.178</br>sibsp: 5.12</br></br>gender: male</br>age: 25.0</br>class: 1st</br>embarked: Southampton</br>fare: 72.0</br>parch: 0.0</br>_original_yhat_: 0.08127726929343082</br>"
          ],
          [
           "</br>id: John</br>prediction: 0.172</br>sibsp: 5.2</br></br>gender: male</br>age: 25.0</br>class: 1st</br>embarked: Southampton</br>fare: 72.0</br>parch: 0.0</br>_original_yhat_: 0.08127726929343082</br>"
          ],
          [
           "</br>id: John</br>prediction: 0.165</br>sibsp: 5.28</br></br>gender: male</br>age: 25.0</br>class: 1st</br>embarked: Southampton</br>fare: 72.0</br>parch: 0.0</br>_original_yhat_: 0.08127726929343082</br>"
          ],
          [
           "</br>id: John</br>prediction: 0.158</br>sibsp: 5.36</br></br>gender: male</br>age: 25.0</br>class: 1st</br>embarked: Southampton</br>fare: 72.0</br>parch: 0.0</br>_original_yhat_: 0.08127726929343082</br>"
          ],
          [
           "</br>id: John</br>prediction: 0.15</br>sibsp: 5.44</br></br>gender: male</br>age: 25.0</br>class: 1st</br>embarked: Southampton</br>fare: 72.0</br>parch: 0.0</br>_original_yhat_: 0.08127726929343082</br>"
          ],
          [
           "</br>id: John</br>prediction: 0.143</br>sibsp: 5.5200000000000005</br></br>gender: male</br>age: 25.0</br>class: 1st</br>embarked: Southampton</br>fare: 72.0</br>parch: 0.0</br>_original_yhat_: 0.08127726929343082</br>"
          ],
          [
           "</br>id: John</br>prediction: 0.135</br>sibsp: 5.6000000000000005</br></br>gender: male</br>age: 25.0</br>class: 1st</br>embarked: Southampton</br>fare: 72.0</br>parch: 0.0</br>_original_yhat_: 0.08127726929343082</br>"
          ],
          [
           "</br>id: John</br>prediction: 0.128</br>sibsp: 5.68</br></br>gender: male</br>age: 25.0</br>class: 1st</br>embarked: Southampton</br>fare: 72.0</br>parch: 0.0</br>_original_yhat_: 0.08127726929343082</br>"
          ],
          [
           "</br>id: John</br>prediction: 0.121</br>sibsp: 5.76</br></br>gender: male</br>age: 25.0</br>class: 1st</br>embarked: Southampton</br>fare: 72.0</br>parch: 0.0</br>_original_yhat_: 0.08127726929343082</br>"
          ],
          [
           "</br>id: John</br>prediction: 0.114</br>sibsp: 5.84</br></br>gender: male</br>age: 25.0</br>class: 1st</br>embarked: Southampton</br>fare: 72.0</br>parch: 0.0</br>_original_yhat_: 0.08127726929343082</br>"
          ],
          [
           "</br>id: John</br>prediction: 0.109</br>sibsp: 5.92</br></br>gender: male</br>age: 25.0</br>class: 1st</br>embarked: Southampton</br>fare: 72.0</br>parch: 0.0</br>_original_yhat_: 0.08127726929343082</br>"
          ],
          [
           "</br>id: John</br>prediction: 0.104</br>sibsp: 6.0</br></br>gender: male</br>age: 25.0</br>class: 1st</br>embarked: Southampton</br>fare: 72.0</br>parch: 0.0</br>_original_yhat_: 0.08127726929343082</br>"
          ],
          [
           "</br>id: John</br>prediction: 0.099</br>sibsp: 6.08</br></br>gender: male</br>age: 25.0</br>class: 1st</br>embarked: Southampton</br>fare: 72.0</br>parch: 0.0</br>_original_yhat_: 0.08127726929343082</br>"
          ],
          [
           "</br>id: John</br>prediction: 0.094</br>sibsp: 6.16</br></br>gender: male</br>age: 25.0</br>class: 1st</br>embarked: Southampton</br>fare: 72.0</br>parch: 0.0</br>_original_yhat_: 0.08127726929343082</br>"
          ],
          [
           "</br>id: John</br>prediction: 0.09</br>sibsp: 6.24</br></br>gender: male</br>age: 25.0</br>class: 1st</br>embarked: Southampton</br>fare: 72.0</br>parch: 0.0</br>_original_yhat_: 0.08127726929343082</br>"
          ],
          [
           "</br>id: John</br>prediction: 0.085</br>sibsp: 6.32</br></br>gender: male</br>age: 25.0</br>class: 1st</br>embarked: Southampton</br>fare: 72.0</br>parch: 0.0</br>_original_yhat_: 0.08127726929343082</br>"
          ],
          [
           "</br>id: John</br>prediction: 0.081</br>sibsp: 6.4</br></br>gender: male</br>age: 25.0</br>class: 1st</br>embarked: Southampton</br>fare: 72.0</br>parch: 0.0</br>_original_yhat_: 0.08127726929343082</br>"
          ],
          [
           "</br>id: John</br>prediction: 0.077</br>sibsp: 6.48</br></br>gender: male</br>age: 25.0</br>class: 1st</br>embarked: Southampton</br>fare: 72.0</br>parch: 0.0</br>_original_yhat_: 0.08127726929343082</br>"
          ],
          [
           "</br>id: John</br>prediction: 0.073</br>sibsp: 6.5600000000000005</br></br>gender: male</br>age: 25.0</br>class: 1st</br>embarked: Southampton</br>fare: 72.0</br>parch: 0.0</br>_original_yhat_: 0.08127726929343082</br>"
          ],
          [
           "</br>id: John</br>prediction: 0.069</br>sibsp: 6.640000000000001</br></br>gender: male</br>age: 25.0</br>class: 1st</br>embarked: Southampton</br>fare: 72.0</br>parch: 0.0</br>_original_yhat_: 0.08127726929343082</br>"
          ],
          [
           "</br>id: John</br>prediction: 0.066</br>sibsp: 6.72</br></br>gender: male</br>age: 25.0</br>class: 1st</br>embarked: Southampton</br>fare: 72.0</br>parch: 0.0</br>_original_yhat_: 0.08127726929343082</br>"
          ],
          [
           "</br>id: John</br>prediction: 0.062</br>sibsp: 6.8</br></br>gender: male</br>age: 25.0</br>class: 1st</br>embarked: Southampton</br>fare: 72.0</br>parch: 0.0</br>_original_yhat_: 0.08127726929343082</br>"
          ],
          [
           "</br>id: John</br>prediction: 0.059</br>sibsp: 6.88</br></br>gender: male</br>age: 25.0</br>class: 1st</br>embarked: Southampton</br>fare: 72.0</br>parch: 0.0</br>_original_yhat_: 0.08127726929343082</br>"
          ],
          [
           "</br>id: John</br>prediction: 0.056</br>sibsp: 6.96</br></br>gender: male</br>age: 25.0</br>class: 1st</br>embarked: Southampton</br>fare: 72.0</br>parch: 0.0</br>_original_yhat_: 0.08127726929343082</br>"
          ],
          [
           "</br>id: John</br>prediction: 0.053</br>sibsp: 7.04</br></br>gender: male</br>age: 25.0</br>class: 1st</br>embarked: Southampton</br>fare: 72.0</br>parch: 0.0</br>_original_yhat_: 0.08127726929343082</br>"
          ],
          [
           "</br>id: John</br>prediction: 0.051</br>sibsp: 7.12</br></br>gender: male</br>age: 25.0</br>class: 1st</br>embarked: Southampton</br>fare: 72.0</br>parch: 0.0</br>_original_yhat_: 0.08127726929343082</br>"
          ],
          [
           "</br>id: John</br>prediction: 0.048</br>sibsp: 7.2</br></br>gender: male</br>age: 25.0</br>class: 1st</br>embarked: Southampton</br>fare: 72.0</br>parch: 0.0</br>_original_yhat_: 0.08127726929343082</br>"
          ],
          [
           "</br>id: John</br>prediction: 0.045</br>sibsp: 7.28</br></br>gender: male</br>age: 25.0</br>class: 1st</br>embarked: Southampton</br>fare: 72.0</br>parch: 0.0</br>_original_yhat_: 0.08127726929343082</br>"
          ],
          [
           "</br>id: John</br>prediction: 0.043</br>sibsp: 7.36</br></br>gender: male</br>age: 25.0</br>class: 1st</br>embarked: Southampton</br>fare: 72.0</br>parch: 0.0</br>_original_yhat_: 0.08127726929343082</br>"
          ],
          [
           "</br>id: John</br>prediction: 0.04</br>sibsp: 7.44</br></br>gender: male</br>age: 25.0</br>class: 1st</br>embarked: Southampton</br>fare: 72.0</br>parch: 0.0</br>_original_yhat_: 0.08127726929343082</br>"
          ],
          [
           "</br>id: John</br>prediction: 0.038</br>sibsp: 7.5200000000000005</br></br>gender: male</br>age: 25.0</br>class: 1st</br>embarked: Southampton</br>fare: 72.0</br>parch: 0.0</br>_original_yhat_: 0.08127726929343082</br>"
          ],
          [
           "</br>id: John</br>prediction: 0.036</br>sibsp: 7.6000000000000005</br></br>gender: male</br>age: 25.0</br>class: 1st</br>embarked: Southampton</br>fare: 72.0</br>parch: 0.0</br>_original_yhat_: 0.08127726929343082</br>"
          ],
          [
           "</br>id: John</br>prediction: 0.034</br>sibsp: 7.68</br></br>gender: male</br>age: 25.0</br>class: 1st</br>embarked: Southampton</br>fare: 72.0</br>parch: 0.0</br>_original_yhat_: 0.08127726929343082</br>"
          ],
          [
           "</br>id: John</br>prediction: 0.032</br>sibsp: 7.76</br></br>gender: male</br>age: 25.0</br>class: 1st</br>embarked: Southampton</br>fare: 72.0</br>parch: 0.0</br>_original_yhat_: 0.08127726929343082</br>"
          ],
          [
           "</br>id: John</br>prediction: 0.03</br>sibsp: 7.84</br></br>gender: male</br>age: 25.0</br>class: 1st</br>embarked: Southampton</br>fare: 72.0</br>parch: 0.0</br>_original_yhat_: 0.08127726929343082</br>"
          ],
          [
           "</br>id: John</br>prediction: 0.028</br>sibsp: 7.92</br></br>gender: male</br>age: 25.0</br>class: 1st</br>embarked: Southampton</br>fare: 72.0</br>parch: 0.0</br>_original_yhat_: 0.08127726929343082</br>"
          ],
          [
           "</br>id: John</br>prediction: 0.026</br>sibsp: 8.0</br></br>gender: male</br>age: 25.0</br>class: 1st</br>embarked: Southampton</br>fare: 72.0</br>parch: 0.0</br>_original_yhat_: 0.08127726929343082</br>"
          ]
         ],
         "hovertemplate": "%{customdata[0]}<extra></extra>",
         "legendgroup": "John",
         "line": {
          "color": "#4378bf",
          "dash": "solid",
          "width": 2
         },
         "marker": {
          "symbol": "circle"
         },
         "mode": "lines",
         "name": "John",
         "opacity": 1,
         "orientation": "v",
         "showlegend": false,
         "type": "scatter",
         "x": [
          0,
          0.08,
          0.16,
          0.24,
          0.32,
          0.4,
          0.48,
          0.56,
          0.64,
          0.72,
          0.8,
          0.88,
          0.96,
          1.04,
          1.12,
          1.2,
          1.28,
          1.36,
          1.44,
          1.52,
          1.6,
          1.68,
          1.76,
          1.84,
          1.92,
          2,
          2.08,
          2.16,
          2.24,
          2.32,
          2.4,
          2.48,
          2.56,
          2.64,
          2.72,
          2.8000000000000003,
          2.88,
          2.96,
          3.04,
          3.12,
          3.2,
          3.2800000000000002,
          3.36,
          3.44,
          3.52,
          3.6,
          3.68,
          3.7600000000000002,
          3.84,
          3.92,
          4,
          4.08,
          4.16,
          4.24,
          4.32,
          4.4,
          4.48,
          4.5600000000000005,
          4.64,
          4.72,
          4.8,
          4.88,
          4.96,
          5.04,
          5.12,
          5.2,
          5.28,
          5.36,
          5.44,
          5.5200000000000005,
          5.6000000000000005,
          5.68,
          5.76,
          5.84,
          5.92,
          6,
          6.08,
          6.16,
          6.24,
          6.32,
          6.4,
          6.48,
          6.5600000000000005,
          6.640000000000001,
          6.72,
          6.8,
          6.88,
          6.96,
          7.04,
          7.12,
          7.2,
          7.28,
          7.36,
          7.44,
          7.5200000000000005,
          7.6000000000000005,
          7.68,
          7.76,
          7.84,
          7.92,
          8
         ],
         "xaxis": "x",
         "y": [
          0.08127726929343085,
          0.10427011426452716,
          0.1333924971738342,
          0.1761119269599836,
          0.21931644155217997,
          0.2702469506938833,
          0.3389759006705333,
          0.41076436735890487,
          0.4788717552465224,
          0.5342483879369405,
          0.5703675600078847,
          0.5984951244525408,
          0.6203941300849388,
          0.638911630623866,
          0.6560589428625061,
          0.6664318042681421,
          0.6720018447651827,
          0.674263237684005,
          0.6727871562575604,
          0.6725056434277967,
          0.6801696546896254,
          0.6870160340999819,
          0.6941868459107466,
          0.7012765877351711,
          0.708271039249622,
          0.7157834629429959,
          0.7232595861817345,
          0.7298985698391419,
          0.7285511090629521,
          0.7207835704566724,
          0.7113034577824662,
          0.7012134038308346,
          0.6882438491537441,
          0.6781348422447753,
          0.6690022182107795,
          0.6589327866820063,
          0.6444716220295315,
          0.6288432987123916,
          0.6127514376153991,
          0.5964096666971154,
          0.5804965519330457,
          0.5667001529318302,
          0.5528314642139573,
          0.5376990967811945,
          0.5194619295607706,
          0.5016639768964387,
          0.47766520828658504,
          0.452217216338199,
          0.42751941057971954,
          0.4031776826095106,
          0.37930362682213503,
          0.35754513936628546,
          0.3409011613272058,
          0.3238493130441739,
          0.3072527846041973,
          0.29039792026759187,
          0.27404916374155225,
          0.25877850404495356,
          0.2440795116881828,
          0.2298303880884442,
          0.21604744556440897,
          0.20479849791059115,
          0.19529669262844118,
          0.1861325435706367,
          0.17783116998753995,
          0.1715952243496664,
          0.16499640031716484,
          0.1578392400808976,
          0.15030224067624876,
          0.14267741629547329,
          0.1351218285532206,
          0.12790665860044467,
          0.12087437644898008,
          0.1140205569555359,
          0.10873219333398476,
          0.1036596740150913,
          0.09879713599975487,
          0.09413873735090555,
          0.08967813043914893,
          0.08533133985711747,
          0.0810591780231896,
          0.0769829025327606,
          0.07309530812754894,
          0.06938927633795837,
          0.06585779481032286,
          0.062493974109089884,
          0.05929106215839316,
          0.056242456489295656,
          0.053341714458486435,
          0.050582561601753194,
          0.047875366615519124,
          0.045260161284236156,
          0.042781393377976075,
          0.04039903589939862,
          0.03801334975430399,
          0.03576329512223641,
          0.033641766281863196,
          0.031641959603637804,
          0.029757369150585914,
          0.027973639086029456,
          0.02628514272316677
         ],
         "yaxis": "y"
        },
        {
         "customdata": [
          [
           "</br>id: John</br>prediction: 0.081</br>parch: 0.0</br></br>gender: male</br>age: 25.0</br>class: 1st</br>embarked: Southampton</br>fare: 72.0</br>sibsp: 0.0</br>_original_yhat_: 0.08127726929343082</br>"
          ],
          [
           "</br>id: John</br>prediction: 0.08</br>parch: 0.09</br></br>gender: male</br>age: 25.0</br>class: 1st</br>embarked: Southampton</br>fare: 72.0</br>sibsp: 0.0</br>_original_yhat_: 0.08127726929343082</br>"
          ],
          [
           "</br>id: John</br>prediction: 0.079</br>parch: 0.18</br></br>gender: male</br>age: 25.0</br>class: 1st</br>embarked: Southampton</br>fare: 72.0</br>sibsp: 0.0</br>_original_yhat_: 0.08127726929343082</br>"
          ],
          [
           "</br>id: John</br>prediction: 0.08</br>parch: 0.27</br></br>gender: male</br>age: 25.0</br>class: 1st</br>embarked: Southampton</br>fare: 72.0</br>sibsp: 0.0</br>_original_yhat_: 0.08127726929343082</br>"
          ],
          [
           "</br>id: John</br>prediction: 0.082</br>parch: 0.36</br></br>gender: male</br>age: 25.0</br>class: 1st</br>embarked: Southampton</br>fare: 72.0</br>sibsp: 0.0</br>_original_yhat_: 0.08127726929343082</br>"
          ],
          [
           "</br>id: John</br>prediction: 0.088</br>parch: 0.44999999999999996</br></br>gender: male</br>age: 25.0</br>class: 1st</br>embarked: Southampton</br>fare: 72.0</br>sibsp: 0.0</br>_original_yhat_: 0.08127726929343082</br>"
          ],
          [
           "</br>id: John</br>prediction: 0.089</br>parch: 0.54</br></br>gender: male</br>age: 25.0</br>class: 1st</br>embarked: Southampton</br>fare: 72.0</br>sibsp: 0.0</br>_original_yhat_: 0.08127726929343082</br>"
          ],
          [
           "</br>id: John</br>prediction: 0.091</br>parch: 0.63</br></br>gender: male</br>age: 25.0</br>class: 1st</br>embarked: Southampton</br>fare: 72.0</br>sibsp: 0.0</br>_original_yhat_: 0.08127726929343082</br>"
          ],
          [
           "</br>id: John</br>prediction: 0.096</br>parch: 0.72</br></br>gender: male</br>age: 25.0</br>class: 1st</br>embarked: Southampton</br>fare: 72.0</br>sibsp: 0.0</br>_original_yhat_: 0.08127726929343082</br>"
          ],
          [
           "</br>id: John</br>prediction: 0.115</br>parch: 0.8099999999999999</br></br>gender: male</br>age: 25.0</br>class: 1st</br>embarked: Southampton</br>fare: 72.0</br>sibsp: 0.0</br>_original_yhat_: 0.08127726929343082</br>"
          ],
          [
           "</br>id: John</br>prediction: 0.139</br>parch: 0.8999999999999999</br></br>gender: male</br>age: 25.0</br>class: 1st</br>embarked: Southampton</br>fare: 72.0</br>sibsp: 0.0</br>_original_yhat_: 0.08127726929343082</br>"
          ],
          [
           "</br>id: John</br>prediction: 0.18</br>parch: 0.99</br></br>gender: male</br>age: 25.0</br>class: 1st</br>embarked: Southampton</br>fare: 72.0</br>sibsp: 0.0</br>_original_yhat_: 0.08127726929343082</br>"
          ],
          [
           "</br>id: John</br>prediction: 0.235</br>parch: 1.08</br></br>gender: male</br>age: 25.0</br>class: 1st</br>embarked: Southampton</br>fare: 72.0</br>sibsp: 0.0</br>_original_yhat_: 0.08127726929343082</br>"
          ],
          [
           "</br>id: John</br>prediction: 0.298</br>parch: 1.17</br></br>gender: male</br>age: 25.0</br>class: 1st</br>embarked: Southampton</br>fare: 72.0</br>sibsp: 0.0</br>_original_yhat_: 0.08127726929343082</br>"
          ],
          [
           "</br>id: John</br>prediction: 0.369</br>parch: 1.26</br></br>gender: male</br>age: 25.0</br>class: 1st</br>embarked: Southampton</br>fare: 72.0</br>sibsp: 0.0</br>_original_yhat_: 0.08127726929343082</br>"
          ],
          [
           "</br>id: John</br>prediction: 0.465</br>parch: 1.3499999999999999</br></br>gender: male</br>age: 25.0</br>class: 1st</br>embarked: Southampton</br>fare: 72.0</br>sibsp: 0.0</br>_original_yhat_: 0.08127726929343082</br>"
          ],
          [
           "</br>id: John</br>prediction: 0.562</br>parch: 1.44</br></br>gender: male</br>age: 25.0</br>class: 1st</br>embarked: Southampton</br>fare: 72.0</br>sibsp: 0.0</br>_original_yhat_: 0.08127726929343082</br>"
          ],
          [
           "</br>id: John</br>prediction: 0.643</br>parch: 1.53</br></br>gender: male</br>age: 25.0</br>class: 1st</br>embarked: Southampton</br>fare: 72.0</br>sibsp: 0.0</br>_original_yhat_: 0.08127726929343082</br>"
          ],
          [
           "</br>id: John</br>prediction: 0.697</br>parch: 1.6199999999999999</br></br>gender: male</br>age: 25.0</br>class: 1st</br>embarked: Southampton</br>fare: 72.0</br>sibsp: 0.0</br>_original_yhat_: 0.08127726929343082</br>"
          ],
          [
           "</br>id: John</br>prediction: 0.737</br>parch: 1.71</br></br>gender: male</br>age: 25.0</br>class: 1st</br>embarked: Southampton</br>fare: 72.0</br>sibsp: 0.0</br>_original_yhat_: 0.08127726929343082</br>"
          ],
          [
           "</br>id: John</br>prediction: 0.754</br>parch: 1.7999999999999998</br></br>gender: male</br>age: 25.0</br>class: 1st</br>embarked: Southampton</br>fare: 72.0</br>sibsp: 0.0</br>_original_yhat_: 0.08127726929343082</br>"
          ],
          [
           "</br>id: John</br>prediction: 0.763</br>parch: 1.89</br></br>gender: male</br>age: 25.0</br>class: 1st</br>embarked: Southampton</br>fare: 72.0</br>sibsp: 0.0</br>_original_yhat_: 0.08127726929343082</br>"
          ],
          [
           "</br>id: John</br>prediction: 0.769</br>parch: 1.98</br></br>gender: male</br>age: 25.0</br>class: 1st</br>embarked: Southampton</br>fare: 72.0</br>sibsp: 0.0</br>_original_yhat_: 0.08127726929343082</br>"
          ],
          [
           "</br>id: John</br>prediction: 0.764</br>parch: 2.07</br></br>gender: male</br>age: 25.0</br>class: 1st</br>embarked: Southampton</br>fare: 72.0</br>sibsp: 0.0</br>_original_yhat_: 0.08127726929343082</br>"
          ],
          [
           "</br>id: John</br>prediction: 0.749</br>parch: 2.16</br></br>gender: male</br>age: 25.0</br>class: 1st</br>embarked: Southampton</br>fare: 72.0</br>sibsp: 0.0</br>_original_yhat_: 0.08127726929343082</br>"
          ],
          [
           "</br>id: John</br>prediction: 0.725</br>parch: 2.25</br></br>gender: male</br>age: 25.0</br>class: 1st</br>embarked: Southampton</br>fare: 72.0</br>sibsp: 0.0</br>_original_yhat_: 0.08127726929343082</br>"
          ],
          [
           "</br>id: John</br>prediction: 0.699</br>parch: 2.34</br></br>gender: male</br>age: 25.0</br>class: 1st</br>embarked: Southampton</br>fare: 72.0</br>sibsp: 0.0</br>_original_yhat_: 0.08127726929343082</br>"
          ],
          [
           "</br>id: John</br>prediction: 0.683</br>parch: 2.4299999999999997</br></br>gender: male</br>age: 25.0</br>class: 1st</br>embarked: Southampton</br>fare: 72.0</br>sibsp: 0.0</br>_original_yhat_: 0.08127726929343082</br>"
          ],
          [
           "</br>id: John</br>prediction: 0.672</br>parch: 2.52</br></br>gender: male</br>age: 25.0</br>class: 1st</br>embarked: Southampton</br>fare: 72.0</br>sibsp: 0.0</br>_original_yhat_: 0.08127726929343082</br>"
          ],
          [
           "</br>id: John</br>prediction: 0.661</br>parch: 2.61</br></br>gender: male</br>age: 25.0</br>class: 1st</br>embarked: Southampton</br>fare: 72.0</br>sibsp: 0.0</br>_original_yhat_: 0.08127726929343082</br>"
          ],
          [
           "</br>id: John</br>prediction: 0.649</br>parch: 2.6999999999999997</br></br>gender: male</br>age: 25.0</br>class: 1st</br>embarked: Southampton</br>fare: 72.0</br>sibsp: 0.0</br>_original_yhat_: 0.08127726929343082</br>"
          ],
          [
           "</br>id: John</br>prediction: 0.637</br>parch: 2.79</br></br>gender: male</br>age: 25.0</br>class: 1st</br>embarked: Southampton</br>fare: 72.0</br>sibsp: 0.0</br>_original_yhat_: 0.08127726929343082</br>"
          ],
          [
           "</br>id: John</br>prediction: 0.618</br>parch: 2.88</br></br>gender: male</br>age: 25.0</br>class: 1st</br>embarked: Southampton</br>fare: 72.0</br>sibsp: 0.0</br>_original_yhat_: 0.08127726929343082</br>"
          ],
          [
           "</br>id: John</br>prediction: 0.593</br>parch: 2.9699999999999998</br></br>gender: male</br>age: 25.0</br>class: 1st</br>embarked: Southampton</br>fare: 72.0</br>sibsp: 0.0</br>_original_yhat_: 0.08127726929343082</br>"
          ],
          [
           "</br>id: John</br>prediction: 0.571</br>parch: 3.06</br></br>gender: male</br>age: 25.0</br>class: 1st</br>embarked: Southampton</br>fare: 72.0</br>sibsp: 0.0</br>_original_yhat_: 0.08127726929343082</br>"
          ],
          [
           "</br>id: John</br>prediction: 0.547</br>parch: 3.15</br></br>gender: male</br>age: 25.0</br>class: 1st</br>embarked: Southampton</br>fare: 72.0</br>sibsp: 0.0</br>_original_yhat_: 0.08127726929343082</br>"
          ],
          [
           "</br>id: John</br>prediction: 0.519</br>parch: 3.2399999999999998</br></br>gender: male</br>age: 25.0</br>class: 1st</br>embarked: Southampton</br>fare: 72.0</br>sibsp: 0.0</br>_original_yhat_: 0.08127726929343082</br>"
          ],
          [
           "</br>id: John</br>prediction: 0.492</br>parch: 3.33</br></br>gender: male</br>age: 25.0</br>class: 1st</br>embarked: Southampton</br>fare: 72.0</br>sibsp: 0.0</br>_original_yhat_: 0.08127726929343082</br>"
          ],
          [
           "</br>id: John</br>prediction: 0.466</br>parch: 3.42</br></br>gender: male</br>age: 25.0</br>class: 1st</br>embarked: Southampton</br>fare: 72.0</br>sibsp: 0.0</br>_original_yhat_: 0.08127726929343082</br>"
          ],
          [
           "</br>id: John</br>prediction: 0.44</br>parch: 3.51</br></br>gender: male</br>age: 25.0</br>class: 1st</br>embarked: Southampton</br>fare: 72.0</br>sibsp: 0.0</br>_original_yhat_: 0.08127726929343082</br>"
          ],
          [
           "</br>id: John</br>prediction: 0.414</br>parch: 3.5999999999999996</br></br>gender: male</br>age: 25.0</br>class: 1st</br>embarked: Southampton</br>fare: 72.0</br>sibsp: 0.0</br>_original_yhat_: 0.08127726929343082</br>"
          ],
          [
           "</br>id: John</br>prediction: 0.397</br>parch: 3.69</br></br>gender: male</br>age: 25.0</br>class: 1st</br>embarked: Southampton</br>fare: 72.0</br>sibsp: 0.0</br>_original_yhat_: 0.08127726929343082</br>"
          ],
          [
           "</br>id: John</br>prediction: 0.382</br>parch: 3.78</br></br>gender: male</br>age: 25.0</br>class: 1st</br>embarked: Southampton</br>fare: 72.0</br>sibsp: 0.0</br>_original_yhat_: 0.08127726929343082</br>"
          ],
          [
           "</br>id: John</br>prediction: 0.367</br>parch: 3.8699999999999997</br></br>gender: male</br>age: 25.0</br>class: 1st</br>embarked: Southampton</br>fare: 72.0</br>sibsp: 0.0</br>_original_yhat_: 0.08127726929343082</br>"
          ],
          [
           "</br>id: John</br>prediction: 0.353</br>parch: 3.96</br></br>gender: male</br>age: 25.0</br>class: 1st</br>embarked: Southampton</br>fare: 72.0</br>sibsp: 0.0</br>_original_yhat_: 0.08127726929343082</br>"
          ],
          [
           "</br>id: John</br>prediction: 0.339</br>parch: 4.05</br></br>gender: male</br>age: 25.0</br>class: 1st</br>embarked: Southampton</br>fare: 72.0</br>sibsp: 0.0</br>_original_yhat_: 0.08127726929343082</br>"
          ],
          [
           "</br>id: John</br>prediction: 0.326</br>parch: 4.14</br></br>gender: male</br>age: 25.0</br>class: 1st</br>embarked: Southampton</br>fare: 72.0</br>sibsp: 0.0</br>_original_yhat_: 0.08127726929343082</br>"
          ],
          [
           "</br>id: John</br>prediction: 0.314</br>parch: 4.2299999999999995</br></br>gender: male</br>age: 25.0</br>class: 1st</br>embarked: Southampton</br>fare: 72.0</br>sibsp: 0.0</br>_original_yhat_: 0.08127726929343082</br>"
          ],
          [
           "</br>id: John</br>prediction: 0.301</br>parch: 4.32</br></br>gender: male</br>age: 25.0</br>class: 1st</br>embarked: Southampton</br>fare: 72.0</br>sibsp: 0.0</br>_original_yhat_: 0.08127726929343082</br>"
          ],
          [
           "</br>id: John</br>prediction: 0.29</br>parch: 4.41</br></br>gender: male</br>age: 25.0</br>class: 1st</br>embarked: Southampton</br>fare: 72.0</br>sibsp: 0.0</br>_original_yhat_: 0.08127726929343082</br>"
          ],
          [
           "</br>id: John</br>prediction: 0.281</br>parch: 4.5</br></br>gender: male</br>age: 25.0</br>class: 1st</br>embarked: Southampton</br>fare: 72.0</br>sibsp: 0.0</br>_original_yhat_: 0.08127726929343082</br>"
          ],
          [
           "</br>id: John</br>prediction: 0.273</br>parch: 4.59</br></br>gender: male</br>age: 25.0</br>class: 1st</br>embarked: Southampton</br>fare: 72.0</br>sibsp: 0.0</br>_original_yhat_: 0.08127726929343082</br>"
          ],
          [
           "</br>id: John</br>prediction: 0.261</br>parch: 4.68</br></br>gender: male</br>age: 25.0</br>class: 1st</br>embarked: Southampton</br>fare: 72.0</br>sibsp: 0.0</br>_original_yhat_: 0.08127726929343082</br>"
          ],
          [
           "</br>id: John</br>prediction: 0.252</br>parch: 4.77</br></br>gender: male</br>age: 25.0</br>class: 1st</br>embarked: Southampton</br>fare: 72.0</br>sibsp: 0.0</br>_original_yhat_: 0.08127726929343082</br>"
          ],
          [
           "</br>id: John</br>prediction: 0.244</br>parch: 4.859999999999999</br></br>gender: male</br>age: 25.0</br>class: 1st</br>embarked: Southampton</br>fare: 72.0</br>sibsp: 0.0</br>_original_yhat_: 0.08127726929343082</br>"
          ],
          [
           "</br>id: John</br>prediction: 0.237</br>parch: 4.95</br></br>gender: male</br>age: 25.0</br>class: 1st</br>embarked: Southampton</br>fare: 72.0</br>sibsp: 0.0</br>_original_yhat_: 0.08127726929343082</br>"
          ],
          [
           "</br>id: John</br>prediction: 0.23</br>parch: 5.04</br></br>gender: male</br>age: 25.0</br>class: 1st</br>embarked: Southampton</br>fare: 72.0</br>sibsp: 0.0</br>_original_yhat_: 0.08127726929343082</br>"
          ],
          [
           "</br>id: John</br>prediction: 0.225</br>parch: 5.13</br></br>gender: male</br>age: 25.0</br>class: 1st</br>embarked: Southampton</br>fare: 72.0</br>sibsp: 0.0</br>_original_yhat_: 0.08127726929343082</br>"
          ],
          [
           "</br>id: John</br>prediction: 0.221</br>parch: 5.22</br></br>gender: male</br>age: 25.0</br>class: 1st</br>embarked: Southampton</br>fare: 72.0</br>sibsp: 0.0</br>_original_yhat_: 0.08127726929343082</br>"
          ],
          [
           "</br>id: John</br>prediction: 0.217</br>parch: 5.31</br></br>gender: male</br>age: 25.0</br>class: 1st</br>embarked: Southampton</br>fare: 72.0</br>sibsp: 0.0</br>_original_yhat_: 0.08127726929343082</br>"
          ],
          [
           "</br>id: John</br>prediction: 0.212</br>parch: 5.3999999999999995</br></br>gender: male</br>age: 25.0</br>class: 1st</br>embarked: Southampton</br>fare: 72.0</br>sibsp: 0.0</br>_original_yhat_: 0.08127726929343082</br>"
          ],
          [
           "</br>id: John</br>prediction: 0.208</br>parch: 5.49</br></br>gender: male</br>age: 25.0</br>class: 1st</br>embarked: Southampton</br>fare: 72.0</br>sibsp: 0.0</br>_original_yhat_: 0.08127726929343082</br>"
          ],
          [
           "</br>id: John</br>prediction: 0.204</br>parch: 5.58</br></br>gender: male</br>age: 25.0</br>class: 1st</br>embarked: Southampton</br>fare: 72.0</br>sibsp: 0.0</br>_original_yhat_: 0.08127726929343082</br>"
          ],
          [
           "</br>id: John</br>prediction: 0.2</br>parch: 5.67</br></br>gender: male</br>age: 25.0</br>class: 1st</br>embarked: Southampton</br>fare: 72.0</br>sibsp: 0.0</br>_original_yhat_: 0.08127726929343082</br>"
          ],
          [
           "</br>id: John</br>prediction: 0.196</br>parch: 5.76</br></br>gender: male</br>age: 25.0</br>class: 1st</br>embarked: Southampton</br>fare: 72.0</br>sibsp: 0.0</br>_original_yhat_: 0.08127726929343082</br>"
          ],
          [
           "</br>id: John</br>prediction: 0.192</br>parch: 5.85</br></br>gender: male</br>age: 25.0</br>class: 1st</br>embarked: Southampton</br>fare: 72.0</br>sibsp: 0.0</br>_original_yhat_: 0.08127726929343082</br>"
          ],
          [
           "</br>id: John</br>prediction: 0.188</br>parch: 5.9399999999999995</br></br>gender: male</br>age: 25.0</br>class: 1st</br>embarked: Southampton</br>fare: 72.0</br>sibsp: 0.0</br>_original_yhat_: 0.08127726929343082</br>"
          ],
          [
           "</br>id: John</br>prediction: 0.184</br>parch: 6.029999999999999</br></br>gender: male</br>age: 25.0</br>class: 1st</br>embarked: Southampton</br>fare: 72.0</br>sibsp: 0.0</br>_original_yhat_: 0.08127726929343082</br>"
          ],
          [
           "</br>id: John</br>prediction: 0.18</br>parch: 6.12</br></br>gender: male</br>age: 25.0</br>class: 1st</br>embarked: Southampton</br>fare: 72.0</br>sibsp: 0.0</br>_original_yhat_: 0.08127726929343082</br>"
          ],
          [
           "</br>id: John</br>prediction: 0.176</br>parch: 6.21</br></br>gender: male</br>age: 25.0</br>class: 1st</br>embarked: Southampton</br>fare: 72.0</br>sibsp: 0.0</br>_original_yhat_: 0.08127726929343082</br>"
          ],
          [
           "</br>id: John</br>prediction: 0.173</br>parch: 6.3</br></br>gender: male</br>age: 25.0</br>class: 1st</br>embarked: Southampton</br>fare: 72.0</br>sibsp: 0.0</br>_original_yhat_: 0.08127726929343082</br>"
          ],
          [
           "</br>id: John</br>prediction: 0.169</br>parch: 6.39</br></br>gender: male</br>age: 25.0</br>class: 1st</br>embarked: Southampton</br>fare: 72.0</br>sibsp: 0.0</br>_original_yhat_: 0.08127726929343082</br>"
          ],
          [
           "</br>id: John</br>prediction: 0.166</br>parch: 6.4799999999999995</br></br>gender: male</br>age: 25.0</br>class: 1st</br>embarked: Southampton</br>fare: 72.0</br>sibsp: 0.0</br>_original_yhat_: 0.08127726929343082</br>"
          ],
          [
           "</br>id: John</br>prediction: 0.162</br>parch: 6.569999999999999</br></br>gender: male</br>age: 25.0</br>class: 1st</br>embarked: Southampton</br>fare: 72.0</br>sibsp: 0.0</br>_original_yhat_: 0.08127726929343082</br>"
          ],
          [
           "</br>id: John</br>prediction: 0.159</br>parch: 6.66</br></br>gender: male</br>age: 25.0</br>class: 1st</br>embarked: Southampton</br>fare: 72.0</br>sibsp: 0.0</br>_original_yhat_: 0.08127726929343082</br>"
          ],
          [
           "</br>id: John</br>prediction: 0.156</br>parch: 6.75</br></br>gender: male</br>age: 25.0</br>class: 1st</br>embarked: Southampton</br>fare: 72.0</br>sibsp: 0.0</br>_original_yhat_: 0.08127726929343082</br>"
          ],
          [
           "</br>id: John</br>prediction: 0.152</br>parch: 6.84</br></br>gender: male</br>age: 25.0</br>class: 1st</br>embarked: Southampton</br>fare: 72.0</br>sibsp: 0.0</br>_original_yhat_: 0.08127726929343082</br>"
          ],
          [
           "</br>id: John</br>prediction: 0.149</br>parch: 6.93</br></br>gender: male</br>age: 25.0</br>class: 1st</br>embarked: Southampton</br>fare: 72.0</br>sibsp: 0.0</br>_original_yhat_: 0.08127726929343082</br>"
          ],
          [
           "</br>id: John</br>prediction: 0.145</br>parch: 7.02</br></br>gender: male</br>age: 25.0</br>class: 1st</br>embarked: Southampton</br>fare: 72.0</br>sibsp: 0.0</br>_original_yhat_: 0.08127726929343082</br>"
          ],
          [
           "</br>id: John</br>prediction: 0.142</br>parch: 7.109999999999999</br></br>gender: male</br>age: 25.0</br>class: 1st</br>embarked: Southampton</br>fare: 72.0</br>sibsp: 0.0</br>_original_yhat_: 0.08127726929343082</br>"
          ],
          [
           "</br>id: John</br>prediction: 0.139</br>parch: 7.199999999999999</br></br>gender: male</br>age: 25.0</br>class: 1st</br>embarked: Southampton</br>fare: 72.0</br>sibsp: 0.0</br>_original_yhat_: 0.08127726929343082</br>"
          ],
          [
           "</br>id: John</br>prediction: 0.136</br>parch: 7.29</br></br>gender: male</br>age: 25.0</br>class: 1st</br>embarked: Southampton</br>fare: 72.0</br>sibsp: 0.0</br>_original_yhat_: 0.08127726929343082</br>"
          ],
          [
           "</br>id: John</br>prediction: 0.133</br>parch: 7.38</br></br>gender: male</br>age: 25.0</br>class: 1st</br>embarked: Southampton</br>fare: 72.0</br>sibsp: 0.0</br>_original_yhat_: 0.08127726929343082</br>"
          ],
          [
           "</br>id: John</br>prediction: 0.13</br>parch: 7.47</br></br>gender: male</br>age: 25.0</br>class: 1st</br>embarked: Southampton</br>fare: 72.0</br>sibsp: 0.0</br>_original_yhat_: 0.08127726929343082</br>"
          ],
          [
           "</br>id: John</br>prediction: 0.127</br>parch: 7.56</br></br>gender: male</br>age: 25.0</br>class: 1st</br>embarked: Southampton</br>fare: 72.0</br>sibsp: 0.0</br>_original_yhat_: 0.08127726929343082</br>"
          ],
          [
           "</br>id: John</br>prediction: 0.124</br>parch: 7.6499999999999995</br></br>gender: male</br>age: 25.0</br>class: 1st</br>embarked: Southampton</br>fare: 72.0</br>sibsp: 0.0</br>_original_yhat_: 0.08127726929343082</br>"
          ],
          [
           "</br>id: John</br>prediction: 0.121</br>parch: 7.739999999999999</br></br>gender: male</br>age: 25.0</br>class: 1st</br>embarked: Southampton</br>fare: 72.0</br>sibsp: 0.0</br>_original_yhat_: 0.08127726929343082</br>"
          ],
          [
           "</br>id: John</br>prediction: 0.118</br>parch: 7.83</br></br>gender: male</br>age: 25.0</br>class: 1st</br>embarked: Southampton</br>fare: 72.0</br>sibsp: 0.0</br>_original_yhat_: 0.08127726929343082</br>"
          ],
          [
           "</br>id: John</br>prediction: 0.115</br>parch: 7.92</br></br>gender: male</br>age: 25.0</br>class: 1st</br>embarked: Southampton</br>fare: 72.0</br>sibsp: 0.0</br>_original_yhat_: 0.08127726929343082</br>"
          ],
          [
           "</br>id: John</br>prediction: 0.112</br>parch: 8.01</br></br>gender: male</br>age: 25.0</br>class: 1st</br>embarked: Southampton</br>fare: 72.0</br>sibsp: 0.0</br>_original_yhat_: 0.08127726929343082</br>"
          ],
          [
           "</br>id: John</br>prediction: 0.109</br>parch: 8.1</br></br>gender: male</br>age: 25.0</br>class: 1st</br>embarked: Southampton</br>fare: 72.0</br>sibsp: 0.0</br>_original_yhat_: 0.08127726929343082</br>"
          ],
          [
           "</br>id: John</br>prediction: 0.106</br>parch: 8.19</br></br>gender: male</br>age: 25.0</br>class: 1st</br>embarked: Southampton</br>fare: 72.0</br>sibsp: 0.0</br>_original_yhat_: 0.08127726929343082</br>"
          ],
          [
           "</br>id: John</br>prediction: 0.104</br>parch: 8.28</br></br>gender: male</br>age: 25.0</br>class: 1st</br>embarked: Southampton</br>fare: 72.0</br>sibsp: 0.0</br>_original_yhat_: 0.08127726929343082</br>"
          ],
          [
           "</br>id: John</br>prediction: 0.101</br>parch: 8.37</br></br>gender: male</br>age: 25.0</br>class: 1st</br>embarked: Southampton</br>fare: 72.0</br>sibsp: 0.0</br>_original_yhat_: 0.08127726929343082</br>"
          ],
          [
           "</br>id: John</br>prediction: 0.099</br>parch: 8.459999999999999</br></br>gender: male</br>age: 25.0</br>class: 1st</br>embarked: Southampton</br>fare: 72.0</br>sibsp: 0.0</br>_original_yhat_: 0.08127726929343082</br>"
          ],
          [
           "</br>id: John</br>prediction: 0.096</br>parch: 8.549999999999999</br></br>gender: male</br>age: 25.0</br>class: 1st</br>embarked: Southampton</br>fare: 72.0</br>sibsp: 0.0</br>_original_yhat_: 0.08127726929343082</br>"
          ],
          [
           "</br>id: John</br>prediction: 0.094</br>parch: 8.64</br></br>gender: male</br>age: 25.0</br>class: 1st</br>embarked: Southampton</br>fare: 72.0</br>sibsp: 0.0</br>_original_yhat_: 0.08127726929343082</br>"
          ],
          [
           "</br>id: John</br>prediction: 0.091</br>parch: 8.73</br></br>gender: male</br>age: 25.0</br>class: 1st</br>embarked: Southampton</br>fare: 72.0</br>sibsp: 0.0</br>_original_yhat_: 0.08127726929343082</br>"
          ],
          [
           "</br>id: John</br>prediction: 0.089</br>parch: 8.82</br></br>gender: male</br>age: 25.0</br>class: 1st</br>embarked: Southampton</br>fare: 72.0</br>sibsp: 0.0</br>_original_yhat_: 0.08127726929343082</br>"
          ],
          [
           "</br>id: John</br>prediction: 0.087</br>parch: 8.91</br></br>gender: male</br>age: 25.0</br>class: 1st</br>embarked: Southampton</br>fare: 72.0</br>sibsp: 0.0</br>_original_yhat_: 0.08127726929343082</br>"
          ],
          [
           "</br>id: John</br>prediction: 0.085</br>parch: 9.0</br></br>gender: male</br>age: 25.0</br>class: 1st</br>embarked: Southampton</br>fare: 72.0</br>sibsp: 0.0</br>_original_yhat_: 0.08127726929343082</br>"
          ]
         ],
         "hovertemplate": "%{customdata[0]}<extra></extra>",
         "legendgroup": "John",
         "line": {
          "color": "#4378bf",
          "dash": "solid",
          "width": 2
         },
         "marker": {
          "symbol": "circle"
         },
         "mode": "lines",
         "name": "John",
         "opacity": 1,
         "orientation": "v",
         "showlegend": false,
         "type": "scatter",
         "x": [
          0,
          0.09,
          0.18,
          0.27,
          0.36,
          0.44999999999999996,
          0.54,
          0.63,
          0.72,
          0.8099999999999999,
          0.8999999999999999,
          0.99,
          1.08,
          1.17,
          1.26,
          1.3499999999999999,
          1.44,
          1.53,
          1.6199999999999999,
          1.71,
          1.7999999999999998,
          1.89,
          1.98,
          2.07,
          2.16,
          2.25,
          2.34,
          2.4299999999999997,
          2.52,
          2.61,
          2.6999999999999997,
          2.79,
          2.88,
          2.9699999999999998,
          3.06,
          3.15,
          3.2399999999999998,
          3.33,
          3.42,
          3.51,
          3.5999999999999996,
          3.69,
          3.78,
          3.8699999999999997,
          3.96,
          4.05,
          4.14,
          4.2299999999999995,
          4.32,
          4.41,
          4.5,
          4.59,
          4.68,
          4.77,
          4.859999999999999,
          4.95,
          5.04,
          5.13,
          5.22,
          5.31,
          5.3999999999999995,
          5.49,
          5.58,
          5.67,
          5.76,
          5.85,
          5.9399999999999995,
          6.029999999999999,
          6.12,
          6.21,
          6.3,
          6.39,
          6.4799999999999995,
          6.569999999999999,
          6.66,
          6.75,
          6.84,
          6.93,
          7.02,
          7.109999999999999,
          7.199999999999999,
          7.29,
          7.38,
          7.47,
          7.56,
          7.6499999999999995,
          7.739999999999999,
          7.83,
          7.92,
          8.01,
          8.1,
          8.19,
          8.28,
          8.37,
          8.459999999999999,
          8.549999999999999,
          8.64,
          8.73,
          8.82,
          8.91,
          9
         ],
         "xaxis": "x2",
         "y": [
          0.08127726929343085,
          0.07950155350556938,
          0.07921891999541493,
          0.07960631943319801,
          0.08204810876920371,
          0.08823733249491594,
          0.08850405915746298,
          0.09102503945100163,
          0.09607792132012796,
          0.11534829545924356,
          0.13898556264879935,
          0.1795882239955523,
          0.23539906062995966,
          0.29828824400876225,
          0.36928041723537475,
          0.46473067242692334,
          0.5624280181466292,
          0.6434604456234606,
          0.6965035814471098,
          0.7371592469312356,
          0.7539947614633865,
          0.763137781446808,
          0.7693997776337869,
          0.7638181525418708,
          0.7491012725771486,
          0.7253731620033969,
          0.699304356079844,
          0.6832071451493262,
          0.6718589727424757,
          0.6605108353419284,
          0.6489752885908128,
          0.6372741547927973,
          0.6181161011904542,
          0.5931896060373769,
          0.5714380578588073,
          0.5466724638678776,
          0.5185923398319512,
          0.49207708482407586,
          0.46560632840253324,
          0.4395230451934055,
          0.4144373103238803,
          0.39692194172447337,
          0.3820028892428969,
          0.3673030675694166,
          0.3528459429944635,
          0.33893775870474463,
          0.326338278056691,
          0.3140471140115474,
          0.3013442226221816,
          0.29001537828785795,
          0.28129287566116673,
          0.272627349822981,
          0.26148267095955574,
          0.2516612446981923,
          0.2440266310180262,
          0.23672673880254855,
          0.2299483083765109,
          0.2254513625744322,
          0.22101711927874385,
          0.21664569572221712,
          0.2123371653462865,
          0.2080915589625875,
          0.20390886594641794,
          0.1997890354580809,
          0.19573197768816797,
          0.1917375651229434,
          0.1878056338261094,
          0.18393598473336162,
          0.1801444797028043,
          0.17645072678447668,
          0.17281674723110915,
          0.16924222885658713,
          0.16572683243131842,
          0.16227019289686015,
          0.15887192057294974,
          0.15553160235474647,
          0.15224880289822412,
          0.1488102324717909,
          0.14542250713416635,
          0.14209902970705457,
          0.13883916685958264,
          0.13564226378764277,
          0.13250764572573567,
          0.1295827320948618,
          0.12659259304940826,
          0.12352810699283209,
          0.12052756729220407,
          0.11759013336435375,
          0.11471495115228579,
          0.11190115461878727,
          0.10914786718838307,
          0.10645420313718673,
          0.10381926893040082,
          0.10124216450737425,
          0.09872198451429348,
          0.09625781948474157,
          0.09384875696848316,
          0.09149388260897372,
          0.08919228117019565,
          0.08694303751353699,
          0.08474523752552178
         ],
         "yaxis": "y2"
        },
        {
         "customdata": [
          [
           "</br>id: Mary</br>prediction: 0.893</br>age: 35.0</br></br>gender: female</br>class: 3rd</br>embarked: Cherbourg</br>fare: 25.0</br>sibsp: 0.0</br>parch: 0.0</br>_original_yhat_: 0.8929143977399959</br>"
          ],
          [
           "</br>id: John</br>prediction: 0.081</br>age: 25.0</br></br>gender: male</br>class: 1st</br>embarked: Southampton</br>fare: 72.0</br>sibsp: 0.0</br>parch: 0.0</br>_original_yhat_: 0.08127726929343082</br>"
          ]
         ],
         "hovertemplate": "%{customdata[0]}<extra></extra>",
         "legendgroup": "",
         "marker": {
          "color": "#371ea3",
          "size": 10,
          "symbol": "circle"
         },
         "mode": "markers",
         "name": "",
         "opacity": 1,
         "orientation": "v",
         "showlegend": false,
         "type": "scatter",
         "x": [
          35,
          25
         ],
         "xaxis": "x3",
         "y": [
          0.8929143977399959,
          0.08127726929343082
         ],
         "yaxis": "y3"
        },
        {
         "customdata": [
          [
           "</br>id: Mary</br>prediction: 0.893</br>fare: 25.0</br></br>gender: female</br>age: 35.0</br>class: 3rd</br>embarked: Cherbourg</br>sibsp: 0.0</br>parch: 0.0</br>_original_yhat_: 0.8929143977399959</br>"
          ],
          [
           "</br>id: John</br>prediction: 0.081</br>fare: 72.0</br></br>gender: male</br>age: 25.0</br>class: 1st</br>embarked: Southampton</br>sibsp: 0.0</br>parch: 0.0</br>_original_yhat_: 0.08127726929343082</br>"
          ]
         ],
         "hovertemplate": "%{customdata[0]}<extra></extra>",
         "legendgroup": "",
         "marker": {
          "color": "#371ea3",
          "size": 10,
          "symbol": "circle"
         },
         "mode": "markers",
         "name": "",
         "opacity": 1,
         "orientation": "v",
         "showlegend": false,
         "type": "scatter",
         "x": [
          25,
          72
         ],
         "xaxis": "x4",
         "y": [
          0.8929143977399959,
          0.08127726929343085
         ],
         "yaxis": "y4"
        },
        {
         "customdata": [
          [
           "</br>id: Mary</br>prediction: 0.893</br>sibsp: 0.0</br></br>gender: female</br>age: 35.0</br>class: 3rd</br>embarked: Cherbourg</br>fare: 25.0</br>parch: 0.0</br>_original_yhat_: 0.8929143977399959</br>"
          ],
          [
           "</br>id: John</br>prediction: 0.081</br>sibsp: 0.0</br></br>gender: male</br>age: 25.0</br>class: 1st</br>embarked: Southampton</br>fare: 72.0</br>parch: 0.0</br>_original_yhat_: 0.08127726929343082</br>"
          ]
         ],
         "hovertemplate": "%{customdata[0]}<extra></extra>",
         "legendgroup": "",
         "marker": {
          "color": "#371ea3",
          "size": 10,
          "symbol": "circle"
         },
         "mode": "markers",
         "name": "",
         "opacity": 1,
         "orientation": "v",
         "showlegend": false,
         "type": "scatter",
         "x": [
          0,
          0
         ],
         "xaxis": "x",
         "y": [
          0.8929143977399959,
          0.08127726929343085
         ],
         "yaxis": "y"
        },
        {
         "customdata": [
          [
           "</br>id: Mary</br>prediction: 0.893</br>parch: 0.0</br></br>gender: female</br>age: 35.0</br>class: 3rd</br>embarked: Cherbourg</br>fare: 25.0</br>sibsp: 0.0</br>_original_yhat_: 0.8929143977399959</br>"
          ],
          [
           "</br>id: John</br>prediction: 0.081</br>parch: 0.0</br></br>gender: male</br>age: 25.0</br>class: 1st</br>embarked: Southampton</br>fare: 72.0</br>sibsp: 0.0</br>_original_yhat_: 0.08127726929343082</br>"
          ]
         ],
         "hovertemplate": "%{customdata[0]}<extra></extra>",
         "legendgroup": "",
         "marker": {
          "color": "#371ea3",
          "size": 10,
          "symbol": "circle"
         },
         "mode": "markers",
         "name": "",
         "opacity": 1,
         "orientation": "v",
         "showlegend": false,
         "type": "scatter",
         "x": [
          0,
          0
         ],
         "xaxis": "x2",
         "y": [
          0.8929143977399959,
          0.08127726929343085
         ],
         "yaxis": "y2"
        }
       ],
       "layout": {
        "annotations": [
         {
          "font": {
           "size": 13
          },
          "showarrow": false,
          "text": "sibsp",
          "x": 0.2375,
          "xanchor": "center",
          "xref": "paper",
          "y": 0.425,
          "yanchor": "bottom",
          "yref": "paper"
         },
         {
          "font": {
           "size": 13
          },
          "showarrow": false,
          "text": "parch",
          "x": 0.7625,
          "xanchor": "center",
          "xref": "paper",
          "y": 0.425,
          "yanchor": "bottom",
          "yref": "paper"
         },
         {
          "font": {
           "size": 13
          },
          "showarrow": false,
          "text": "age",
          "x": 0.2375,
          "xanchor": "center",
          "xref": "paper",
          "y": 1,
          "yanchor": "bottom",
          "yref": "paper"
         },
         {
          "font": {
           "size": 13
          },
          "showarrow": false,
          "text": "fare",
          "x": 0.7625,
          "xanchor": "center",
          "xref": "paper",
          "y": 1,
          "yanchor": "bottom",
          "yref": "paper"
         },
         {
          "font": {
           "size": 13
          },
          "showarrow": false,
          "text": "prediction",
          "textangle": -90,
          "x": -0.07,
          "xref": "paper",
          "y": 0.5,
          "yref": "paper"
         }
        ],
        "font": {
         "color": "#371ea3"
        },
        "height": 829,
        "hoverlabel": {
         "bgcolor": "rgba(0,0,0,0.8)"
        },
        "hovermode": "closest",
        "legend": {
         "font": {
          "size": 11
         },
         "itemsizing": "constant",
         "orientation": "h",
         "title": {
          "font": {
           "size": 12
          },
          "text": "label"
         },
         "tracegroupgap": 0,
         "x": 1,
         "xanchor": "right",
         "y": 1.0361881785283473,
         "yanchor": "bottom"
        },
        "margin": {
         "b": 71,
         "r": 30,
         "t": 78
        },
        "template": {
         "data": {
          "scatter": [
           {
            "type": "scatter"
           }
          ]
         }
        },
        "title": {
         "font": {
          "size": 16
         },
         "text": "Ceteris Paribus Profiles",
         "x": 0.15
        },
        "xaxis": {
         "anchor": "y",
         "automargin": true,
         "domain": [
          0,
          0.475
         ],
         "fixedrange": true,
         "gridwidth": 2,
         "showticklabels": true,
         "tickcolor": "white",
         "ticklen": 3,
         "ticks": "outside",
         "title": {
          "text": ""
         },
         "type": "linear",
         "zeroline": false
        },
        "xaxis2": {
         "anchor": "y2",
         "automargin": true,
         "domain": [
          0.525,
          1
         ],
         "fixedrange": true,
         "gridwidth": 2,
         "showticklabels": true,
         "tickcolor": "white",
         "ticklen": 3,
         "ticks": "outside",
         "title": {
          "text": ""
         },
         "type": "linear",
         "zeroline": false
        },
        "xaxis3": {
         "anchor": "y3",
         "automargin": true,
         "domain": [
          0,
          0.475
         ],
         "fixedrange": true,
         "gridwidth": 2,
         "showticklabels": true,
         "tickcolor": "white",
         "ticklen": 3,
         "ticks": "outside",
         "title": {
          "text": ""
         },
         "type": "linear",
         "zeroline": false
        },
        "xaxis4": {
         "anchor": "y4",
         "automargin": true,
         "domain": [
          0.525,
          1
         ],
         "fixedrange": true,
         "gridwidth": 2,
         "showticklabels": true,
         "tickcolor": "white",
         "ticklen": 3,
         "ticks": "outside",
         "title": {
          "text": ""
         },
         "type": "linear",
         "zeroline": false
        },
        "yaxis": {
         "anchor": "x",
         "automargin": true,
         "domain": [
          0,
          0.425
         ],
         "fixedrange": true,
         "gridwidth": 2,
         "range": [
          -0.09778897882149823,
          1.0997989976262803
         ],
         "tickcolor": "white",
         "ticklen": 3,
         "ticks": "outside",
         "title": {
          "text": ""
         },
         "type": "linear",
         "zeroline": false
        },
        "yaxis2": {
         "anchor": "x2",
         "automargin": true,
         "domain": [
          0,
          0.425
         ],
         "fixedrange": true,
         "gridwidth": 2,
         "matches": "y",
         "range": [
          -0.09778897882149823,
          1.0997989976262803
         ],
         "showticklabels": false,
         "tickcolor": "white",
         "ticklen": 3,
         "ticks": "outside",
         "title": {
          "text": ""
         },
         "type": "linear",
         "zeroline": false
        },
        "yaxis3": {
         "anchor": "x3",
         "automargin": true,
         "domain": [
          0.575,
          1
         ],
         "fixedrange": true,
         "gridwidth": 2,
         "matches": "y",
         "range": [
          -0.09778897882149823,
          1.0997989976262803
         ],
         "tickcolor": "white",
         "ticklen": 3,
         "ticks": "outside",
         "title": {
          "text": ""
         },
         "type": "linear",
         "zeroline": false
        },
        "yaxis4": {
         "anchor": "x4",
         "automargin": true,
         "domain": [
          0.575,
          1
         ],
         "fixedrange": true,
         "gridwidth": 2,
         "matches": "y",
         "range": [
          -0.09778897882149823,
          1.0997989976262803
         ],
         "showticklabels": false,
         "tickcolor": "white",
         "ticklen": 3,
         "ticks": "outside",
         "title": {
          "text": ""
         },
         "type": "linear",
         "zeroline": false
        }
       }
      }
     },
     "metadata": {},
     "output_type": "display_data"
    }
   ],
   "source": [
    "cp_mary.plot(cp_john)"
   ]
  },
  {
   "cell_type": "code",
   "execution_count": 88,
   "metadata": {},
   "outputs": [
    {
     "data": {
      "application/vnd.plotly.v1+json": {
       "config": {
        "displaylogo": false,
        "modeBarButtonsToRemove": [
         "sendDataToCloud",
         "lasso2d",
         "autoScale2d",
         "select2d",
         "zoom2d",
         "pan2d",
         "zoomIn2d",
         "zoomOut2d",
         "resetScale2d",
         "toggleSpikelines",
         "hoverCompareCartesian",
         "hoverClosestCartesian"
        ],
        "plotlyServerURL": "https://plot.ly",
        "staticPlot": false,
        "toImageButtonOptions": {
         "height": null,
         "width": null
        }
       },
       "data": [
        {
         "alignmentgroup": "True",
         "base": [
          0.08127726929343082,
          0.08127726929343082,
          0.08127726929343082,
          0.08127726929343082,
          0.08127726929343082,
          0.08127726929343082,
          0.08127726929343082
         ],
         "customdata": [
          [
           "</br>id: John</br>prediction: 0.419</br>class: 3rd</br></br>gender: male</br>age: 25.0</br>embarked: Southampton</br>fare: 72.0</br>sibsp: 0.0</br>parch: 0.0</br>_original_yhat_: 0.08127726929343082</br>"
          ],
          [
           "</br>id: John</br>prediction: 0.018</br>class: 2nd</br></br>gender: male</br>age: 25.0</br>embarked: Southampton</br>fare: 72.0</br>sibsp: 0.0</br>parch: 0.0</br>_original_yhat_: 0.08127726929343082</br>"
          ],
          [
           "</br>id: John</br>prediction: 0.081</br>class: 1st</br></br>gender: male</br>age: 25.0</br>embarked: Southampton</br>fare: 72.0</br>sibsp: 0.0</br>parch: 0.0</br>_original_yhat_: 0.08127726929343082</br>"
          ],
          [
           "</br>id: John</br>prediction: 0.142</br>class: engineering crew</br></br>gender: male</br>age: 25.0</br>embarked: Southampton</br>fare: 72.0</br>sibsp: 0.0</br>parch: 0.0</br>_original_yhat_: 0.08127726929343082</br>"
          ],
          [
           "</br>id: John</br>prediction: 0.16</br>class: victualling crew</br></br>gender: male</br>age: 25.0</br>embarked: Southampton</br>fare: 72.0</br>sibsp: 0.0</br>parch: 0.0</br>_original_yhat_: 0.08127726929343082</br>"
          ],
          [
           "</br>id: John</br>prediction: 0.005</br>class: restaurant staff</br></br>gender: male</br>age: 25.0</br>embarked: Southampton</br>fare: 72.0</br>sibsp: 0.0</br>parch: 0.0</br>_original_yhat_: 0.08127726929343082</br>"
          ],
          [
           "</br>id: John</br>prediction: 0.42</br>class: deck crew</br></br>gender: male</br>age: 25.0</br>embarked: Southampton</br>fare: 72.0</br>sibsp: 0.0</br>parch: 0.0</br>_original_yhat_: 0.08127726929343082</br>"
          ]
         ],
         "hovertemplate": "%{customdata[0]}<extra></extra>",
         "legendgroup": "John",
         "marker": {
          "color": "#8bdcbe",
          "pattern": {
           "shape": ""
          }
         },
         "name": "John",
         "offsetgroup": "John",
         "opacity": 1,
         "orientation": "h",
         "showlegend": true,
         "textposition": "auto",
         "type": "bar",
         "x": [
          0.3380765676071987,
          -0.06342602806781177,
          0,
          0.06072264367032795,
          0.07832948551835728,
          -0.07627436679928094,
          0.33892880401776787
         ],
         "xaxis": "x3",
         "y": [
          "3rd",
          "2nd",
          "1st",
          "engineering crew",
          "victualling crew",
          "restaurant staff",
          "deck crew"
         ],
         "yaxis": "y3"
        },
        {
         "alignmentgroup": "True",
         "base": [
          0.08127726929343082,
          0.08127726929343082,
          0.08127726929343082,
          0.08127726929343082
         ],
         "customdata": [
          [
           "</br>id: John</br>prediction: 0.081</br>embarked: Southampton</br></br>gender: male</br>age: 25.0</br>class: 1st</br>fare: 72.0</br>sibsp: 0.0</br>parch: 0.0</br>_original_yhat_: 0.08127726929343082</br>"
          ],
          [
           "</br>id: John</br>prediction: 0.439</br>embarked: Cherbourg</br></br>gender: male</br>age: 25.0</br>class: 1st</br>fare: 72.0</br>sibsp: 0.0</br>parch: 0.0</br>_original_yhat_: 0.08127726929343082</br>"
          ],
          [
           "</br>id: John</br>prediction: 0.014</br>embarked: Belfast</br></br>gender: male</br>age: 25.0</br>class: 1st</br>fare: 72.0</br>sibsp: 0.0</br>parch: 0.0</br>_original_yhat_: 0.08127726929343082</br>"
          ],
          [
           "</br>id: John</br>prediction: 0.012</br>embarked: Queenstown</br></br>gender: male</br>age: 25.0</br>class: 1st</br>fare: 72.0</br>sibsp: 0.0</br>parch: 0.0</br>_original_yhat_: 0.08127726929343082</br>"
          ]
         ],
         "hovertemplate": "%{customdata[0]}<extra></extra>",
         "legendgroup": "John",
         "marker": {
          "color": "#8bdcbe",
          "pattern": {
           "shape": ""
          }
         },
         "name": "John",
         "offsetgroup": "John",
         "opacity": 1,
         "orientation": "h",
         "showlegend": false,
         "textposition": "auto",
         "type": "bar",
         "x": [
          0,
          0.35727018617947376,
          -0.06735217305852058,
          -0.06939488019965792
         ],
         "xaxis": "x4",
         "y": [
          "Southampton",
          "Cherbourg",
          "Belfast",
          "Queenstown"
         ],
         "yaxis": "y4"
        },
        {
         "alignmentgroup": "True",
         "base": [
          0.08127726929343082,
          0.08127726929343082
         ],
         "customdata": [
          [
           "</br>id: John</br>prediction: 0.081</br>gender: male</br></br>age: 25.0</br>class: 1st</br>embarked: Southampton</br>fare: 72.0</br>sibsp: 0.0</br>parch: 0.0</br>_original_yhat_: 0.08127726929343082</br>"
          ],
          [
           "</br>id: John</br>prediction: 0.997</br>gender: female</br></br>age: 25.0</br>class: 1st</br>embarked: Southampton</br>fare: 72.0</br>sibsp: 0.0</br>parch: 0.0</br>_original_yhat_: 0.08127726929343082</br>"
          ]
         ],
         "hovertemplate": "%{customdata[0]}<extra></extra>",
         "legendgroup": "John",
         "marker": {
          "color": "#8bdcbe",
          "pattern": {
           "shape": ""
          }
         },
         "name": "John",
         "offsetgroup": "John",
         "opacity": 1,
         "orientation": "h",
         "showlegend": false,
         "textposition": "auto",
         "type": "bar",
         "x": [
          -4.163336342344337e-17,
          0.9158100718057577
         ],
         "xaxis": "x",
         "y": [
          "male",
          "female"
         ],
         "yaxis": "y"
        },
        {
         "alignmentgroup": "True",
         "base": [
          0.8929143977399959,
          0.8929143977399959,
          0.8929143977399959,
          0.8929143977399959,
          0.8929143977399959,
          0.8929143977399959,
          0.8929143977399959
         ],
         "customdata": [
          [
           "</br>id: Mary</br>prediction: 0.893</br>class: 3rd</br></br>gender: female</br>age: 35.0</br>embarked: Cherbourg</br>fare: 25.0</br>sibsp: 0.0</br>parch: 0.0</br>_original_yhat_: 0.8929143977399959</br>"
          ],
          [
           "</br>id: Mary</br>prediction: 0.992</br>class: 2nd</br></br>gender: female</br>age: 35.0</br>embarked: Cherbourg</br>fare: 25.0</br>sibsp: 0.0</br>parch: 0.0</br>_original_yhat_: 0.8929143977399959</br>"
          ],
          [
           "</br>id: Mary</br>prediction: 0.915</br>class: 1st</br></br>gender: female</br>age: 35.0</br>embarked: Cherbourg</br>fare: 25.0</br>sibsp: 0.0</br>parch: 0.0</br>_original_yhat_: 0.8929143977399959</br>"
          ],
          [
           "</br>id: Mary</br>prediction: 0.99</br>class: engineering crew</br></br>gender: female</br>age: 35.0</br>embarked: Cherbourg</br>fare: 25.0</br>sibsp: 0.0</br>parch: 0.0</br>_original_yhat_: 0.8929143977399959</br>"
          ],
          [
           "</br>id: Mary</br>prediction: 0.987</br>class: victualling crew</br></br>gender: female</br>age: 35.0</br>embarked: Cherbourg</br>fare: 25.0</br>sibsp: 0.0</br>parch: 0.0</br>_original_yhat_: 0.8929143977399959</br>"
          ],
          [
           "</br>id: Mary</br>prediction: 0.998</br>class: restaurant staff</br></br>gender: female</br>age: 35.0</br>embarked: Cherbourg</br>fare: 25.0</br>sibsp: 0.0</br>parch: 0.0</br>_original_yhat_: 0.8929143977399959</br>"
          ],
          [
           "</br>id: Mary</br>prediction: 0.993</br>class: deck crew</br></br>gender: female</br>age: 35.0</br>embarked: Cherbourg</br>fare: 25.0</br>sibsp: 0.0</br>parch: 0.0</br>_original_yhat_: 0.8929143977399959</br>"
          ]
         ],
         "hovertemplate": "%{customdata[0]}<extra></extra>",
         "legendgroup": "Mary",
         "marker": {
          "color": "#4378bf",
          "pattern": {
           "shape": ""
          }
         },
         "name": "Mary",
         "offsetgroup": "Mary",
         "opacity": 1,
         "orientation": "h",
         "showlegend": true,
         "textposition": "auto",
         "type": "bar",
         "x": [
          0,
          0.09888024623411928,
          0.022130231800900457,
          0.09704280247811203,
          0.0937426045198344,
          0.10529014413094862,
          0.09960648835152497
         ],
         "xaxis": "x3",
         "y": [
          "3rd",
          "2nd",
          "1st",
          "engineering crew",
          "victualling crew",
          "restaurant staff",
          "deck crew"
         ],
         "yaxis": "y3"
        },
        {
         "alignmentgroup": "True",
         "base": [
          0.8929143977399959,
          0.8929143977399959,
          0.8929143977399959,
          0.8929143977399959
         ],
         "customdata": [
          [
           "</br>id: Mary</br>prediction: 0.505</br>embarked: Southampton</br></br>gender: female</br>age: 35.0</br>class: 3rd</br>fare: 25.0</br>sibsp: 0.0</br>parch: 0.0</br>_original_yhat_: 0.8929143977399959</br>"
          ],
          [
           "</br>id: Mary</br>prediction: 0.893</br>embarked: Cherbourg</br></br>gender: female</br>age: 35.0</br>class: 3rd</br>fare: 25.0</br>sibsp: 0.0</br>parch: 0.0</br>_original_yhat_: 0.8929143977399959</br>"
          ],
          [
           "</br>id: Mary</br>prediction: 0.627</br>embarked: Belfast</br></br>gender: female</br>age: 35.0</br>class: 3rd</br>fare: 25.0</br>sibsp: 0.0</br>parch: 0.0</br>_original_yhat_: 0.8929143977399959</br>"
          ],
          [
           "</br>id: Mary</br>prediction: 0.579</br>embarked: Queenstown</br></br>gender: female</br>age: 35.0</br>class: 3rd</br>fare: 25.0</br>sibsp: 0.0</br>parch: 0.0</br>_original_yhat_: 0.8929143977399959</br>"
          ]
         ],
         "hovertemplate": "%{customdata[0]}<extra></extra>",
         "legendgroup": "Mary",
         "marker": {
          "color": "#4378bf",
          "pattern": {
           "shape": ""
          }
         },
         "name": "Mary",
         "offsetgroup": "Mary",
         "opacity": 1,
         "orientation": "h",
         "showlegend": false,
         "textposition": "auto",
         "type": "bar",
         "x": [
          -0.3880544060204876,
          0,
          -0.2654905995282837,
          -0.3142171545402397
         ],
         "xaxis": "x4",
         "y": [
          "Southampton",
          "Cherbourg",
          "Belfast",
          "Queenstown"
         ],
         "yaxis": "y4"
        },
        {
         "alignmentgroup": "True",
         "base": [
          0.8929143977399959,
          0.8929143977399959
         ],
         "customdata": [
          [
           "</br>id: Mary</br>prediction: 0.129</br>gender: male</br></br>age: 35.0</br>class: 3rd</br>embarked: Cherbourg</br>fare: 25.0</br>sibsp: 0.0</br>parch: 0.0</br>_original_yhat_: 0.8929143977399959</br>"
          ],
          [
           "</br>id: Mary</br>prediction: 0.893</br>gender: female</br></br>age: 35.0</br>class: 3rd</br>embarked: Cherbourg</br>fare: 25.0</br>sibsp: 0.0</br>parch: 0.0</br>_original_yhat_: 0.8929143977399959</br>"
          ]
         ],
         "hovertemplate": "%{customdata[0]}<extra></extra>",
         "legendgroup": "Mary",
         "marker": {
          "color": "#4378bf",
          "pattern": {
           "shape": ""
          }
         },
         "name": "Mary",
         "offsetgroup": "Mary",
         "opacity": 1,
         "orientation": "h",
         "showlegend": false,
         "textposition": "auto",
         "type": "bar",
         "x": [
          -0.763692431656467,
          0
         ],
         "xaxis": "x",
         "y": [
          "male",
          "female"
         ],
         "yaxis": "y"
        },
        {
         "customdata": [
          [
           "</br>id: John</br>prediction: 0.081</br>class: 1st</br></br>gender: male</br>age: 25.0</br>embarked: Southampton</br>fare: 72.0</br>sibsp: 0.0</br>parch: 0.0</br>_original_yhat_: 0.08127726929343082</br>"
          ],
          [
           "</br>id: Mary</br>prediction: 0.893</br>class: 3rd</br></br>gender: female</br>age: 35.0</br>embarked: Cherbourg</br>fare: 25.0</br>sibsp: 0.0</br>parch: 0.0</br>_original_yhat_: 0.8929143977399959</br>"
          ]
         ],
         "hovertemplate": "%{customdata[0]}<extra></extra>",
         "legendgroup": "",
         "marker": {
          "color": "#371ea3",
          "size": 10,
          "symbol": "circle"
         },
         "mode": "markers",
         "name": "",
         "opacity": 1,
         "orientation": "h",
         "showlegend": false,
         "type": "scatter",
         "x": [
          0.08127726929343082,
          0.8929143977399959
         ],
         "xaxis": "x3",
         "y": [
          "1st",
          "3rd"
         ],
         "yaxis": "y3"
        },
        {
         "customdata": [
          [
           "</br>id: John</br>prediction: 0.081</br>embarked: Southampton</br></br>gender: male</br>age: 25.0</br>class: 1st</br>fare: 72.0</br>sibsp: 0.0</br>parch: 0.0</br>_original_yhat_: 0.08127726929343082</br>"
          ],
          [
           "</br>id: Mary</br>prediction: 0.893</br>embarked: Cherbourg</br></br>gender: female</br>age: 35.0</br>class: 3rd</br>fare: 25.0</br>sibsp: 0.0</br>parch: 0.0</br>_original_yhat_: 0.8929143977399959</br>"
          ]
         ],
         "hovertemplate": "%{customdata[0]}<extra></extra>",
         "legendgroup": "",
         "marker": {
          "color": "#371ea3",
          "size": 10,
          "symbol": "circle"
         },
         "mode": "markers",
         "name": "",
         "opacity": 1,
         "orientation": "h",
         "showlegend": false,
         "type": "scatter",
         "x": [
          0.08127726929343082,
          0.8929143977399959
         ],
         "xaxis": "x4",
         "y": [
          "Southampton",
          "Cherbourg"
         ],
         "yaxis": "y4"
        },
        {
         "customdata": [
          [
           "</br>id: John</br>prediction: 0.081</br>gender: male</br></br>age: 25.0</br>class: 1st</br>embarked: Southampton</br>fare: 72.0</br>sibsp: 0.0</br>parch: 0.0</br>_original_yhat_: 0.08127726929343082</br>"
          ],
          [
           "</br>id: Mary</br>prediction: 0.893</br>gender: female</br></br>age: 35.0</br>class: 3rd</br>embarked: Cherbourg</br>fare: 25.0</br>sibsp: 0.0</br>parch: 0.0</br>_original_yhat_: 0.8929143977399959</br>"
          ]
         ],
         "hovertemplate": "%{customdata[0]}<extra></extra>",
         "legendgroup": "",
         "marker": {
          "color": "#371ea3",
          "size": 10,
          "symbol": "circle"
         },
         "mode": "markers",
         "name": "",
         "opacity": 1,
         "orientation": "h",
         "showlegend": false,
         "type": "scatter",
         "x": [
          0.08127726929343078,
          0.8929143977399959
         ],
         "xaxis": "x",
         "y": [
          "male",
          "female"
         ],
         "yaxis": "y"
        }
       ],
       "layout": {
        "annotations": [
         {
          "font": {
           "size": 13
          },
          "showarrow": false,
          "text": "gender",
          "x": 0.225,
          "xanchor": "center",
          "xref": "paper",
          "y": 0.475,
          "yanchor": "bottom",
          "yref": "paper"
         },
         {
          "font": {
           "size": 13
          },
          "showarrow": false,
          "text": "class",
          "x": 0.225,
          "xanchor": "center",
          "xref": "paper",
          "y": 1,
          "yanchor": "bottom",
          "yref": "paper"
         },
         {
          "font": {
           "size": 13
          },
          "showarrow": false,
          "text": "embarked",
          "x": 0.775,
          "xanchor": "center",
          "xref": "paper",
          "y": 1,
          "yanchor": "bottom",
          "yref": "paper"
         },
         {
          "font": {
           "size": 13
          },
          "showarrow": false,
          "text": "prediction",
          "textangle": 0,
          "x": 0.5,
          "xref": "paper",
          "y": -0.07237635705669482,
          "yref": "paper"
         }
        ],
        "barmode": "group",
        "font": {
         "color": "#371ea3"
        },
        "height": 829,
        "hoverlabel": {
         "bgcolor": "rgba(0,0,0,0.8)"
        },
        "hovermode": "closest",
        "legend": {
         "font": {
          "size": 11
         },
         "itemsizing": "constant",
         "orientation": "h",
         "title": {
          "font": {
           "size": 12
          },
          "text": "label"
         },
         "tracegroupgap": 0,
         "x": 1,
         "xanchor": "right",
         "y": 1.0361881785283473,
         "yanchor": "bottom"
        },
        "margin": {
         "b": 71,
         "r": 30,
         "t": 78
        },
        "shapes": [
         {
          "layer": "below",
          "line": {
           "color": "#371ea3",
           "dash": "dot",
           "width": 1.5
          },
          "type": "line",
          "x0": 0.08127726929343082,
          "x1": 0.08127726929343082,
          "xref": "x",
          "y0": 0,
          "y1": 1,
          "yref": "y domain"
         },
         {
          "layer": "below",
          "line": {
           "color": "#371ea3",
           "dash": "dot",
           "width": 1.5
          },
          "type": "line",
          "x0": 0.08127726929343082,
          "x1": 0.08127726929343082,
          "xref": "x3",
          "y0": 0,
          "y1": 1,
          "yref": "y3 domain"
         },
         {
          "layer": "below",
          "line": {
           "color": "#371ea3",
           "dash": "dot",
           "width": 1.5
          },
          "type": "line",
          "x0": 0.08127726929343082,
          "x1": 0.08127726929343082,
          "xref": "x4",
          "y0": 0,
          "y1": 1,
          "yref": "y4 domain"
         },
         {
          "layer": "below",
          "line": {
           "color": "#371ea3",
           "dash": "dot",
           "width": 1.5
          },
          "type": "line",
          "x0": 0.08127726929343082,
          "x1": 0.08127726929343082,
          "xref": "x",
          "y0": 0,
          "y1": 1,
          "yref": "y domain"
         },
         {
          "layer": "below",
          "line": {
           "color": "#371ea3",
           "dash": "dot",
           "width": 1.5
          },
          "type": "line",
          "x0": 0.08127726929343082,
          "x1": 0.08127726929343082,
          "xref": "x3",
          "y0": 0,
          "y1": 1,
          "yref": "y3 domain"
         },
         {
          "layer": "below",
          "line": {
           "color": "#371ea3",
           "dash": "dot",
           "width": 1.5
          },
          "type": "line",
          "x0": 0.08127726929343082,
          "x1": 0.08127726929343082,
          "xref": "x4",
          "y0": 0,
          "y1": 1,
          "yref": "y4 domain"
         },
         {
          "layer": "below",
          "line": {
           "color": "#371ea3",
           "dash": "dot",
           "width": 1.5
          },
          "type": "line",
          "x0": 0.08127726929343082,
          "x1": 0.08127726929343082,
          "xref": "x",
          "y0": 0,
          "y1": 1,
          "yref": "y domain"
         },
         {
          "layer": "below",
          "line": {
           "color": "#371ea3",
           "dash": "dot",
           "width": 1.5
          },
          "type": "line",
          "x0": 0.08127726929343082,
          "x1": 0.08127726929343082,
          "xref": "x3",
          "y0": 0,
          "y1": 1,
          "yref": "y3 domain"
         },
         {
          "layer": "below",
          "line": {
           "color": "#371ea3",
           "dash": "dot",
           "width": 1.5
          },
          "type": "line",
          "x0": 0.08127726929343082,
          "x1": 0.08127726929343082,
          "xref": "x4",
          "y0": 0,
          "y1": 1,
          "yref": "y4 domain"
         },
         {
          "layer": "below",
          "line": {
           "color": "#371ea3",
           "dash": "dot",
           "width": 1.5
          },
          "type": "line",
          "x0": 0.8929143977399959,
          "x1": 0.8929143977399959,
          "xref": "x",
          "y0": 0,
          "y1": 1,
          "yref": "y domain"
         },
         {
          "layer": "below",
          "line": {
           "color": "#371ea3",
           "dash": "dot",
           "width": 1.5
          },
          "type": "line",
          "x0": 0.8929143977399959,
          "x1": 0.8929143977399959,
          "xref": "x3",
          "y0": 0,
          "y1": 1,
          "yref": "y3 domain"
         },
         {
          "layer": "below",
          "line": {
           "color": "#371ea3",
           "dash": "dot",
           "width": 1.5
          },
          "type": "line",
          "x0": 0.8929143977399959,
          "x1": 0.8929143977399959,
          "xref": "x4",
          "y0": 0,
          "y1": 1,
          "yref": "y4 domain"
         },
         {
          "layer": "below",
          "line": {
           "color": "#371ea3",
           "dash": "dot",
           "width": 1.5
          },
          "type": "line",
          "x0": 0.8929143977399959,
          "x1": 0.8929143977399959,
          "xref": "x",
          "y0": 0,
          "y1": 1,
          "yref": "y domain"
         },
         {
          "layer": "below",
          "line": {
           "color": "#371ea3",
           "dash": "dot",
           "width": 1.5
          },
          "type": "line",
          "x0": 0.8929143977399959,
          "x1": 0.8929143977399959,
          "xref": "x3",
          "y0": 0,
          "y1": 1,
          "yref": "y3 domain"
         },
         {
          "layer": "below",
          "line": {
           "color": "#371ea3",
           "dash": "dot",
           "width": 1.5
          },
          "type": "line",
          "x0": 0.8929143977399959,
          "x1": 0.8929143977399959,
          "xref": "x4",
          "y0": 0,
          "y1": 1,
          "yref": "y4 domain"
         },
         {
          "layer": "below",
          "line": {
           "color": "#371ea3",
           "dash": "dot",
           "width": 1.5
          },
          "type": "line",
          "x0": 0.8929143977399959,
          "x1": 0.8929143977399959,
          "xref": "x",
          "y0": 0,
          "y1": 1,
          "yref": "y domain"
         },
         {
          "layer": "below",
          "line": {
           "color": "#371ea3",
           "dash": "dot",
           "width": 1.5
          },
          "type": "line",
          "x0": 0.8929143977399959,
          "x1": 0.8929143977399959,
          "xref": "x3",
          "y0": 0,
          "y1": 1,
          "yref": "y3 domain"
         },
         {
          "layer": "below",
          "line": {
           "color": "#371ea3",
           "dash": "dot",
           "width": 1.5
          },
          "type": "line",
          "x0": 0.8929143977399959,
          "x1": 0.8929143977399959,
          "xref": "x4",
          "y0": 0,
          "y1": 1,
          "yref": "y4 domain"
         }
        ],
        "template": {
         "data": {
          "scatter": [
           {
            "type": "scatter"
           }
          ]
         }
        },
        "title": {
         "font": {
          "size": 16
         },
         "text": "Ceteris Paribus Profiles",
         "x": 0.15
        },
        "xaxis": {
         "anchor": "y",
         "automargin": true,
         "domain": [
          0,
          0.45
         ],
         "fixedrange": true,
         "gridwidth": 2,
         "range": [
          -0.09431726144352959,
          1.097524705808624
         ],
         "tickcolor": "white",
         "ticklen": 3,
         "ticks": "outside",
         "title": {
          "text": ""
         },
         "type": "linear",
         "zeroline": false
        },
        "xaxis2": {
         "anchor": "y2",
         "automargin": true,
         "domain": [
          0.55,
          1
         ],
         "fixedrange": true,
         "gridwidth": 2,
         "matches": "x",
         "range": [
          -0.09431726144352959,
          1.097524705808624
         ],
         "tickcolor": "white",
         "ticklen": 3,
         "ticks": "outside",
         "title": {
          "text": ""
         },
         "type": "linear",
         "zeroline": false
        },
        "xaxis3": {
         "anchor": "y3",
         "automargin": true,
         "domain": [
          0,
          0.45
         ],
         "fixedrange": true,
         "gridwidth": 2,
         "matches": "x",
         "range": [
          -0.09431726144352959,
          1.097524705808624
         ],
         "showticklabels": false,
         "tickcolor": "white",
         "ticklen": 3,
         "ticks": "outside",
         "title": {
          "text": ""
         },
         "type": "linear",
         "zeroline": false
        },
        "xaxis4": {
         "anchor": "y4",
         "automargin": true,
         "domain": [
          0.55,
          1
         ],
         "fixedrange": true,
         "gridwidth": 2,
         "matches": "x",
         "range": [
          -0.09431726144352959,
          1.097524705808624
         ],
         "showticklabels": false,
         "tickcolor": "white",
         "ticklen": 3,
         "ticks": "outside",
         "title": {
          "text": ""
         },
         "type": "linear",
         "zeroline": false
        },
        "yaxis": {
         "anchor": "x",
         "automargin": true,
         "domain": [
          0,
          0.475
         ],
         "fixedrange": true,
         "gridwidth": 2,
         "showticklabels": true,
         "tickcolor": "white",
         "ticklen": 10,
         "ticks": "outside",
         "title": {
          "text": ""
         },
         "type": "category"
        },
        "yaxis2": {
         "anchor": "x2",
         "automargin": true,
         "domain": [
          0,
          0.475
         ],
         "fixedrange": true,
         "gridwidth": 2,
         "showticklabels": true,
         "tickcolor": "white",
         "ticklen": 10,
         "ticks": "outside",
         "title": {
          "text": ""
         },
         "type": "category"
        },
        "yaxis3": {
         "anchor": "x3",
         "automargin": true,
         "domain": [
          0.525,
          1
         ],
         "fixedrange": true,
         "gridwidth": 2,
         "showticklabels": true,
         "tickcolor": "white",
         "ticklen": 10,
         "ticks": "outside",
         "title": {
          "text": ""
         },
         "type": "category"
        },
        "yaxis4": {
         "anchor": "x4",
         "automargin": true,
         "domain": [
          0.525,
          1
         ],
         "fixedrange": true,
         "gridwidth": 2,
         "showticklabels": true,
         "tickcolor": "white",
         "ticklen": 10,
         "ticks": "outside",
         "title": {
          "text": ""
         },
         "type": "category"
        }
       }
      }
     },
     "metadata": {},
     "output_type": "display_data"
    }
   ],
   "source": [
    "cp_john.plot(cp_mary, variable_type = \"categorical\")"
   ]
  },
  {
   "attachments": {},
   "cell_type": "markdown",
   "metadata": {},
   "source": [
    "#### (Neptune) Upload CP plots to Neptune"
   ]
  },
  {
   "cell_type": "code",
   "execution_count": 89,
   "metadata": {},
   "outputs": [],
   "source": [
    "run[\"prediction/profile/numerical\"].upload(cp_mary.plot(cp_john, show=False))\n",
    "run[\"prediction/profile/categorical\"].upload(cp_mary.plot(cp_john, variable_type = \"categorical\", show=False))"
   ]
  },
  {
   "attachments": {},
   "cell_type": "markdown",
   "metadata": {},
   "source": [
    "### Stop logging\n",
    "\n",
    "Once you are done logging, stop tracking the run."
   ]
  },
  {
   "cell_type": "code",
   "execution_count": 102,
   "metadata": {},
   "outputs": [
    {
     "name": "stdout",
     "output_type": "stream",
     "text": [
      "Shutting down background jobs, please wait a moment...\n",
      "Done!\n",
      "All 0 operations synced, thanks for waiting!\n",
      "Explore the metadata in the Neptune app:\n",
      "https://app.neptune.ai/common/dalex-support/e/DLX-1/metadata\n"
     ]
    }
   ],
   "source": [
    "run.stop()"
   ]
  },
  {
   "attachments": {},
   "cell_type": "markdown",
   "metadata": {
    "id": "HIL4YStSelut",
    "tags": [
     "header"
    ]
   },
   "source": [
    "### Analyze reports in the Neptune app\n",
    "Go to the run link and explore the reports. \n",
    "You can also explore this [example run](https://app.neptune.ai/o/common/org/dalex-support/runs/details?viewId=standard-view&detailsTab=dashboard&dashboardId=993ea4c1-c528-4d6d-86ba-1a7a3bd65e7e&shortId=DLX-2&type=run)."
   ]
  }
 ],
 "metadata": {
  "accelerator": "GPU",
  "colab": {
   "private_outputs": true,
   "provenance": [],
   "toc_visible": true
  },
  "gpuClass": "standard",
  "kernelspec": {
   "display_name": "py38",
   "language": "python",
   "name": "python3"
  },
  "language_info": {
   "codemirror_mode": {
    "name": "ipython",
    "version": 3
   },
   "file_extension": ".py",
   "mimetype": "text/x-python",
   "name": "python",
   "nbconvert_exporter": "python",
   "pygments_lexer": "ipython3",
   "version": "3.8.15"
  },
  "vscode": {
   "interpreter": {
    "hash": "a9715cf0b0024f6e1c62cb31a4f1f43970eb41991212681878768b4bfe53050a"
   }
  }
 },
 "nbformat": 4,
 "nbformat_minor": 0
}
