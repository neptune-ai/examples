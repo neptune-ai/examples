{
 "cells": [
  {
   "cell_type": "markdown",
   "metadata": {
    "id": "GG3_2HyRVY4Y",
    "tags": [
     "header",
     "comment"
    ]
   },
   "source": [
    "# Introduction"
   ]
  },
  {
   "cell_type": "markdown",
   "metadata": {
    "id": "3wSDx9alU7Zx",
    "tags": [
     "comment"
    ]
   },
   "source": [
    "This guide will show you how to:\n",
    "\n",
    "* Install ```neptune-client```,\n",
    "* Connect Neptune to your Colab notebook and create the first run,\n",
    "* Log simple metrics to Neptune and explore them in the UI."
   ]
  },
  {
   "cell_type": "markdown",
   "metadata": {
    "id": "FUaDrmRu-h3k"
   },
   "source": [
    "# Before you start\n",
    "\n",
    "Make sure that:\n",
    "* you have an account with both [Google](https://support.google.com/accounts/answer/27441?hl=en) and [Neptune](https://neptune.ai/register)\n",
    "* you have [created a project](https://app.gitbook.com/@neptune-ai/s/docs-re-positioning/administration/workspace-project-and-user-management/projects#create-project) from the Neptune UI that you will use for tracking metadata.\n",
    "\n",
    "**Tip:**<br>\n",
    "Registering with Neptune and creating a project is optional in case you are just trying out the application as an 'ANONYMOUS' user."
   ]
  },
  {
   "cell_type": "markdown",
   "metadata": {
    "id": "0NQaVXuoWA-E",
    "tags": [
     "header",
     "installation"
    ]
   },
   "source": [
    "# Install ```neptune-client``` and import `neptune`"
   ]
  },
  {
   "cell_type": "code",
   "execution_count": null,
   "metadata": {
    "id": "wmpN4W8wQ7MI",
    "tags": [
     "installation"
    ]
   },
   "outputs": [],
   "source": [
    "! pip install neptune-client"
   ]
  },
  {
   "cell_type": "code",
   "execution_count": null,
   "metadata": {
    "id": "quJ_tJDk7R3e"
   },
   "outputs": [],
   "source": [
    "import neptune.new as neptune"
   ]
  },
  {
   "cell_type": "markdown",
   "metadata": {
    "id": "7LFLtV5R5JKT",
    "tags": [
     "header"
    ]
   },
   "source": [
    "# Initialize Neptune"
   ]
  },
  {
   "cell_type": "markdown",
   "metadata": {
    "id": "xoD3U3V_HUzy",
    "tags": [
     "comment"
    ]
   },
   "source": [
    "Connect your script to Neptune and create a new run."
   ]
  },
  {
   "cell_type": "markdown",
   "metadata": {
    "id": "xrjGGLs6HUzy",
    "tags": [
     "comment"
    ]
   },
   "source": [
    "Basically, you tell Neptune: \n",
    "\n",
    "* **who you are**: your Neptune `api_token` \n",
    "* **where you want to send your data**: your Neptune `project`.\n",
    "\n",
    "At this point, you will have a new run in Neptune. From now on you will use `run` to log metadata to it."
   ]
  },
  {
   "cell_type": "markdown",
   "metadata": {
    "id": "wEb6l4x8ZYlN",
    "tags": [
     "header",
     "exclude"
    ]
   },
   "source": [
    "## Get your personal ```api_token``` to initialize Neptune"
   ]
  },
  {
   "cell_type": "markdown",
   "metadata": {
    "id": "abBT8VERkz6d"
   },
   "source": [
    "**Note:**<br>\n",
    "There are a few special, public projects to show how Neptune works. For those projects, you can use the 'ANONYMOUS' api token and log as a public user `neptuner`.  \n",
    "\n",
    "For example:  \n",
    "```python\n",
    "run = neptune.init(api_token='ANONYMOUS',\n",
    "                   project='common/neptune-and-google-colab')\n",
    "```"
   ]
  },
  {
   "cell_type": "markdown",
   "metadata": {
    "id": "YXeWd99OHUz2",
    "tags": [
     "comment",
     "exclude"
    ]
   },
   "source": [
    "Get your [Neptune API token](https://docs.neptune.ai/getting-started/installation#authentication) and pass it to Neptune:\n",
    "![get_token.gif](https://gblobscdn.gitbook.com/assets%2F-MXTao65xpmg6bawJ5vk%2F-MYZt9HJXRALUZWcKCSo%2F-MY_02rjQ90_XiRgTJ6s%2Fget_token.gif?alt=media&token=3de485e3-5ee2-4b98-b991-33a5b70086b5)\n",
    "\n",
    "The preferred way of doing this is by using the ```getpass()``` method so that your token remains private even if you share the notebook."
   ]
  },
  {
   "cell_type": "code",
   "execution_count": null,
   "metadata": {
    "id": "FXPlKmjC10MG",
    "tags": [
     "code",
     "exclude"
    ]
   },
   "outputs": [],
   "source": [
    "from getpass import getpass\n",
    "\n",
    "api_token = getpass(\"Enter your private Neptune API token: \")"
   ]
  },
  {
   "cell_type": "markdown",
   "metadata": {},
   "source": [
    "You can log as an anonymous user `neptuner` with `api_token='ANONYMOUS'`  "
   ]
  },
  {
   "cell_type": "markdown",
   "metadata": {
    "id": "TQZAqPw5apot",
    "tags": [
     "header",
     "exclude"
    ]
   },
   "source": [
    "## Initialize your project\n",
    "\n",
    "Remember to [create a new project](https://docs.neptune.ai/administration/workspace-project-and-user-management/projects#create-project) from the UI that you will use for metadata tracking."
   ]
  },
  {
   "cell_type": "code",
   "execution_count": null,
   "metadata": {
    "id": "4k_jZnnFwwW8",
    "tags": [
     "code",
     "exclude"
    ]
   },
   "outputs": [],
   "source": [
    "workspace = \"your_neptune_username\"\n",
    "project_name = \"neptune-and-google-colab\"\n",
    "project = workspace + \"/\" + project_name\n",
    "\n",
    "# if you are using ANONYMOUS api token, log to the project= 'common/neptune-and-google-colab'\n",
    "# project = 'common/neptune-and-google-colab'\n",
    "\n",
    "print(project)"
   ]
  },
  {
   "cell_type": "markdown",
   "metadata": {
    "id": "iGmC-Ybultmr"
   },
   "source": [
    "**Tip:** The `project_name` of a project can be found under its Settings → Properties\n",
    "![](https://gblobscdn.gitbook.com/assets%2F-MXTao65xpmg6bawJ5vk%2F-MYjnZwuxt-ftuLX0jLn%2F-MYjqWqsqrA-Z95dn0Vx%2FScreenshot_2021-04-20%20COLAB%20basic-colab.png?alt=media&token=506bce0d-8ebc-472b-9a4e-63a8aeeca172)"
   ]
  },
  {
   "cell_type": "code",
   "execution_count": null,
   "metadata": {
    "id": "Y_fHH8I7ls5H"
   },
   "outputs": [],
   "source": [
    "run = neptune.init(project=project, api_token=api_token)"
   ]
  },
  {
   "cell_type": "markdown",
   "metadata": {
    "id": "VnSWXRbXHUz3",
    "tags": [
     "comment",
     "exclude"
    ]
   },
   "source": [
    "Click on the link above to open this run in Neptune. For now it is empty but keep the tab with run open to see what happens next. "
   ]
  },
  {
   "cell_type": "markdown",
   "metadata": {
    "id": "rhVnTl3THUz4",
    "tags": [
     "comment"
    ]
   },
   "source": [
    "Runs can be viewed as dictionary-like structures - **namespaces** - that you can define in your code. You can apply a hierarchical structure to your metadata that will be reflected in the UI as well. Thanks to this you can easily organize your metadata in a way you feel is most convenient."
   ]
  },
  {
   "cell_type": "markdown",
   "metadata": {
    "id": "pk4ZgmW9Q7Mg",
    "tags": [
     "header"
    ]
   },
   "source": [
    "# Log metadata during training"
   ]
  },
  {
   "cell_type": "markdown",
   "metadata": {
    "id": "0uyhflfLQ7Mg",
    "tags": [
     "comment"
    ]
   },
   "source": [
    "Log metrics or losses under a name of your choice. You can log one or multiple values.\n",
    "\n",
    "Now run the cell below, and switch over to the Neptune UI to view the live logging."
   ]
  },
  {
   "cell_type": "code",
   "execution_count": null,
   "metadata": {
    "id": "jZdLObUSQ7Mi",
    "tags": [
     "code"
    ]
   },
   "outputs": [],
   "source": [
    "from time import sleep\n",
    "\n",
    "params = {\"learning_rate\": 0.1}\n",
    "\n",
    "# log params\n",
    "run[\"parameters\"] = params\n",
    "\n",
    "# log name and append tags\n",
    "run[\"sys/name\"] = \"colab-example\"\n",
    "run[\"sys/tags\"].add([\"colab\", \"simple\"])\n",
    "\n",
    "# log loss during training\n",
    "for epoch in range(132):\n",
    "    sleep(0.1)  # to see logging live\n",
    "    run[\"train/loss\"].log(0.97 ** epoch)\n",
    "    run[\"train/loss-pow-2\"].log((0.97 ** epoch) ** 2)\n",
    "\n",
    "# log train and validation scores\n",
    "run[\"train/accuracy\"] = 0.95\n",
    "run[\"valid/accuracy\"] = 0.93\n",
    "\n",
    "# log files/artifacts\n",
    "! echo \"Welcome to Neptune\" > file.txt\n",
    "run[\"artifacts/sample\"].upload(\"file.txt\")  # file will be uploaded as sample.txt"
   ]
  },
  {
   "cell_type": "markdown",
   "metadata": {},
   "source": [
    "The snippet above logs:\n",
    "\n",
    "* `parameters` with just one field: learning rate,\n",
    "* name of run and two tags,\n",
    "* `train/loss` and `train/loss-pow-2` as series of numbers, visualized as charts in UI,\n",
    "* `train/accuracy` and `valid/accuracy` as single values\n",
    "* `file.txt` which will be visible under All Metadata/artifacts as sample.txt"
   ]
  },
  {
   "cell_type": "markdown",
   "metadata": {},
   "source": [
    "**Tip:**<br>\n",
    "To view the structure of a run, use the `print_structure()` method."
   ]
  },
  {
   "cell_type": "code",
   "execution_count": null,
   "metadata": {
    "pycharm": {
     "name": "#%%\n"
    }
   },
   "outputs": [],
   "source": [
    "run.print_structure()"
   ]
  },
  {
   "cell_type": "markdown",
   "metadata": {
    "id": "XSHLD6AkI7LW"
   },
   "source": [
    "# Stop logging  \n",
    "<font color=red>**Warning:**</font><br>\n",
    "Once you are done logging, you should stop tracking the run using the `stop()` method.\n",
    "This is needed only while logging from a notebook environment. While logging through a script, Neptune automatically stops tracking once the script has completed execution."
   ]
  },
  {
   "cell_type": "code",
   "execution_count": null,
   "metadata": {
    "id": "Zgh3NwDoJAuG"
   },
   "outputs": [],
   "source": [
    "run.stop()"
   ]
  },
  {
   "cell_type": "markdown",
   "metadata": {
    "id": "mRhOAcS0Q7Mm",
    "tags": [
     "comment"
    ]
   },
   "source": [
    "# Explore the run in the Neptune UI\n",
    "\n",
    "![upload_file_as_artifact.png](https://gblobscdn.gitbook.com/assets%2F-MXTao65xpmg6bawJ5vk%2F-MYZt9HJXRALUZWcKCSo%2F-MY_5xqm2_MtE0usG2bV%2Fupload_file_as_artifact.png?alt=media&token=d861bd06-6389-475f-99fb-b34ec4bc3d06)\n",
    "\n",
    "Go to the `All metadata` and `Charts` sections of the Neptune UI to see them. You can also check an [example run](https://app.neptune.ai/o/common/org/showroom/e/SHOW-37/charts) \n",
    "\n",
    "![colab_example_charts.png](https://gblobscdn.gitbook.com/assets%2F-MXTao65xpmg6bawJ5vk%2F-MYZt9HJXRALUZWcKCSo%2F-MY_69KYOwzBEXczhIss%2Fcolab_example_charts.png?alt=media&token=3ffdc950-581d-4d44-8de3-bce0d4493f5c)\n",
    "\n",
    "**Tip:**\n",
    "\n",
    "Neptune automatically logs the hardware consumption during the run. \n",
    "\n",
    "You can see it in the `Monitoring` section of the Neptune UI. \n",
    "\n",
    "![image](https://neptune.ai/wp-content/uploads/Product_hardware-usage-1.png)"
   ]
  },
  {
   "cell_type": "markdown",
   "metadata": {
    "id": "had9MNRtQ7Mr",
    "tags": [
     "comment"
    ]
   },
   "source": [
    "# Conclusion\n",
    "\n",
    "You’ve learned how to:\n",
    "* Install `neptune-client`,\n",
    "* Connect Neptune to your Google Colab notebook and create a run,\n",
    "* Log metadata to Neptune,\n",
    "* See your metrics parameters and scores,\n",
    "* See hardware consumption during the run."
   ]
  },
  {
   "cell_type": "markdown",
   "metadata": {
    "id": "_3ibcYhPQ7Mr",
    "tags": [
     "comment"
    ]
   },
   "source": [
    "# What's next\n",
    "\n",
    "Now that you know how to create runs and log metrics, you can learn:\n",
    "\n",
    "* [How to log other types of metadata to Neptune](https://docs.neptune.ai/you-should-know/logging-and-managing-runs-results/logging-runs-data#what-objects-can-you-log-to-neptune)\n",
    "* [How to download runs data from Neptune](https://docs.neptune.ai/user-guides/logging-and-managing-runs-results/downloading-runs-data)\n",
    "* [How to connect Neptune to the ML framework you are using](https://docs.neptune.ai/essentials/integrations)"
   ]
  }
 ],
 "metadata": {
  "colab": {
   "collapsed_sections": [],
   "name": "Basic-Colab-Example.ipynb",
   "private_outputs": true,
   "provenance": [],
   "toc_visible": true
  },
  "kernelspec": {
   "display_name": "Python 3",
   "language": "python",
   "name": "python3"
  },
  "language_info": {
   "codemirror_mode": {
    "name": "ipython",
    "version": 3
   },
   "file_extension": ".py",
   "mimetype": "text/x-python",
   "name": "python",
   "nbconvert_exporter": "python",
   "pygments_lexer": "ipython3",
   "version": "3.7.7"
  },
  "toc-autonumbering": true,
  "toc-showcode": false,
  "toc-showmarkdowntxt": false,
  "toc-showtags": true
 },
 "nbformat": 4,
 "nbformat_minor": 4
}
