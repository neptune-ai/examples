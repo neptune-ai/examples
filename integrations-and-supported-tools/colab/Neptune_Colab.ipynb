{
 "cells": [
  {
   "cell_type": "markdown",
   "metadata": {},
   "source": [
    "# Neptune + Google Colab"
   ]
  },
  {
   "cell_type": "markdown",
   "metadata": {
    "id": "GG3_2HyRVY4Y",
    "pycharm": {
     "name": "#%% md\n"
    },
    "tags": [
     "header",
     "comment"
    ]
   },
   "source": [
    "## Introduction"
   ]
  },
  {
   "cell_type": "markdown",
   "metadata": {
    "id": "3wSDx9alU7Zx",
    "pycharm": {
     "name": "#%% md\n"
    },
    "tags": [
     "comment"
    ]
   },
   "source": [
    "This guide will show you how to:\n",
    "\n",
    "* Install `neptune-client`,\n",
    "* Connect Neptune to your Colab notebook and create the first run,\n",
    "* Log simple metrics to Neptune and explore them in the UI."
   ]
  },
  {
   "cell_type": "markdown",
   "metadata": {
    "id": "FUaDrmRu-h3k",
    "pycharm": {
     "name": "#%% md\n"
    }
   },
   "source": [
    "## Before you start\n",
    "\n",
    "Make sure that:\n",
    "* you have a [Google account](https://support.google.com/accounts/answer/27441?hl=en)\n",
    "* If you want to see the example recorded to your own workspace instead:\n",
    "    * Create a Neptune account → [Take me to registration](https://neptune.ai/register)\n",
    "    * Create a Neptune project that you will use for tracking metadata → [Tell me more about projects](https://docs.neptune.ai/administration/projects)"
   ]
  },
  {
   "cell_type": "markdown",
   "metadata": {
    "id": "0NQaVXuoWA-E",
    "pycharm": {
     "name": "#%% md\n"
    },
    "tags": [
     "header",
     "installation"
    ]
   },
   "source": [
    "## Install Neptune and dependencies"
   ]
  },
  {
   "cell_type": "code",
   "execution_count": null,
   "metadata": {
    "id": "wmpN4W8wQ7MI",
    "pycharm": {
     "name": "#%%\n"
    },
    "tags": [
     "installation"
    ]
   },
   "outputs": [],
   "source": [
    "! pip install neptune-client"
   ]
  },
  {
   "cell_type": "code",
   "execution_count": null,
   "metadata": {
    "id": "quJ_tJDk7R3e",
    "pycharm": {
     "name": "#%%\n"
    }
   },
   "outputs": [],
   "source": [
    "import neptune.new as neptune"
   ]
  },
  {
   "cell_type": "markdown",
   "metadata": {
    "id": "7LFLtV5R5JKT",
    "pycharm": {
     "name": "#%% md\n"
    },
    "tags": [
     "header"
    ]
   },
   "source": [
    "## Initialize Neptune"
   ]
  },
  {
   "cell_type": "markdown",
   "metadata": {
    "id": "xoD3U3V_HUzy",
    "pycharm": {
     "name": "#%% md\n"
    },
    "tags": [
     "comment"
    ]
   },
   "source": [
    "Connect your script to Neptune and create a new run."
   ]
  },
  {
   "cell_type": "markdown",
   "metadata": {
    "id": "xrjGGLs6HUzy",
    "pycharm": {
     "name": "#%% md\n"
    },
    "tags": [
     "comment"
    ]
   },
   "source": [
    "Basically, you tell Neptune: \n",
    "\n",
    "* **who you are**: your Neptune `api_token` \n",
    "* **where you want to send your data**: your Neptune `project`.\n",
    "\n",
    "At this point, you will have a new run in Neptune. From now on you will use `run` to log metadata to it."
   ]
  },
  {
   "cell_type": "markdown",
   "metadata": {
    "id": "wEb6l4x8ZYlN",
    "pycharm": {
     "name": "#%% md\n"
    },
    "tags": [
     "header",
     "exclude"
    ]
   },
   "source": [
    "### Get your personal `api_token` to initialize Neptune"
   ]
  },
  {
   "cell_type": "markdown",
   "metadata": {
    "id": "abBT8VERkz6d",
    "pycharm": {
     "name": "#%% md\n"
    }
   },
   "source": [
    "**Note:**<br>\n",
    "There are a few special, public projects to show how Neptune works. For those projects, you can use the 'ANONYMOUS' api token and log as a public user `neptuner`.  \n",
    "\n",
    "For example:  \n",
    "```python\n",
    "run = neptune.init(api_token=\"ANONYMOUS\",\n",
    "                   project=\"common/neptune-and-google-colab\")\n",
    "```"
   ]
  },
  {
   "cell_type": "markdown",
   "metadata": {
    "id": "YXeWd99OHUz2",
    "pycharm": {
     "name": "#%% md\n"
    },
    "tags": [
     "comment",
     "exclude"
    ]
   },
   "source": [
    "Get your [Neptune API token](https://docs.neptune.ai/getting-started/installation#authentication) and pass it to Neptune:\n",
    "![get_token.gif](https://gblobscdn.gitbook.com/assets%2F-MXTao65xpmg6bawJ5vk%2F-MYZt9HJXRALUZWcKCSo%2F-MY_02rjQ90_XiRgTJ6s%2Fget_token.gif?alt=media&token=3de485e3-5ee2-4b98-b991-33a5b70086b5)\n",
    "\n",
    "The preferred way of doing this is by using the `getpass()` method so that your token remains private even if you share the notebook."
   ]
  },
  {
   "cell_type": "code",
   "execution_count": null,
   "metadata": {
    "id": "FXPlKmjC10MG",
    "pycharm": {
     "name": "#%%\n"
    },
    "tags": [
     "code",
     "exclude"
    ]
   },
   "outputs": [],
   "source": [
    "from getpass import getpass\n",
    "\n",
    "api_token = getpass(\"Enter your private Neptune API token: \")"
   ]
  },
  {
   "cell_type": "markdown",
   "metadata": {
    "pycharm": {
     "name": "#%% md\n"
    }
   },
   "source": [
    "You can log as an anonymous user `neptuner` with `api_token=\"ANONYMOUS\"`  "
   ]
  },
  {
   "cell_type": "markdown",
   "metadata": {
    "id": "TQZAqPw5apot",
    "pycharm": {
     "name": "#%% md\n"
    },
    "tags": [
     "header",
     "exclude"
    ]
   },
   "source": [
    "### Initialize your project\n",
    "\n",
    "Remember to [create a new project](https://docs.neptune.ai/administration/workspace-project-and-user-management/projects#create-project) from the UI that you will use for metadata tracking."
   ]
  },
  {
   "cell_type": "code",
   "execution_count": null,
   "metadata": {
    "id": "4k_jZnnFwwW8",
    "pycharm": {
     "name": "#%%\n"
    },
    "tags": [
     "code",
     "exclude"
    ]
   },
   "outputs": [],
   "source": [
    "workspace = \"your_neptune_username\"\n",
    "project_name = \"neptune-and-google-colab\"\n",
    "project = workspace + \"/\" + project_name\n",
    "\n",
    "# if you are using ANONYMOUS api token, log to the project= 'common/neptune-and-google-colab'\n",
    "# project = 'common/neptune-and-google-colab'\n",
    "\n",
    "print(project)"
   ]
  },
  {
   "cell_type": "markdown",
   "metadata": {
    "id": "iGmC-Ybultmr",
    "pycharm": {
     "name": "#%% md\n"
    }
   },
   "source": [
    "**Tip:** The `project_name` of a project can be found under its Settings → Properties\n",
    "![](https://gblobscdn.gitbook.com/assets%2F-MXTao65xpmg6bawJ5vk%2F-MYjnZwuxt-ftuLX0jLn%2F-MYjqWqsqrA-Z95dn0Vx%2FScreenshot_2021-04-20%20COLAB%20basic-colab.png?alt=media&token=506bce0d-8ebc-472b-9a4e-63a8aeeca172)"
   ]
  },
  {
   "cell_type": "code",
   "execution_count": null,
   "metadata": {
    "id": "Y_fHH8I7ls5H",
    "pycharm": {
     "name": "#%%\n"
    }
   },
   "outputs": [],
   "source": [
    "run = neptune.init(project=project, api_token=api_token)"
   ]
  },
  {
   "cell_type": "markdown",
   "metadata": {
    "id": "VnSWXRbXHUz3",
    "pycharm": {
     "name": "#%% md\n"
    },
    "tags": [
     "comment",
     "exclude"
    ]
   },
   "source": [
    "Click on the link above to open this run in Neptune. For now it is empty but keep the tab with run open to see what happens next. "
   ]
  },
  {
   "cell_type": "markdown",
   "metadata": {
    "id": "rhVnTl3THUz4",
    "pycharm": {
     "name": "#%% md\n"
    },
    "tags": [
     "comment"
    ]
   },
   "source": [
    "Runs can be viewed as dictionary-like structures - **namespaces** - that you can define in your code. You can apply a hierarchical structure to your metadata that will be reflected in the UI as well. Thanks to this you can easily organize your metadata in a way you feel is most convenient."
   ]
  },
  {
   "cell_type": "markdown",
   "metadata": {
    "id": "pk4ZgmW9Q7Mg",
    "pycharm": {
     "name": "#%% md\n"
    },
    "tags": [
     "header"
    ]
   },
   "source": [
    "## Log metadata during training"
   ]
  },
  {
   "cell_type": "markdown",
   "metadata": {
    "id": "0uyhflfLQ7Mg",
    "pycharm": {
     "name": "#%% md\n"
    },
    "tags": [
     "comment"
    ]
   },
   "source": [
    "Log metrics or losses under a name of your choice. You can log one or multiple values.\n",
    "\n",
    "Now run the cell below, and switch over to the Neptune app to view the live logging."
   ]
  },
  {
   "cell_type": "code",
   "execution_count": null,
   "metadata": {
    "id": "jZdLObUSQ7Mi",
    "pycharm": {
     "name": "#%%\n"
    },
    "tags": [
     "code"
    ]
   },
   "outputs": [],
   "source": [
    "from time import sleep\n",
    "\n",
    "params = {\"learning_rate\": 0.1}\n",
    "\n",
    "# log params\n",
    "run[\"parameters\"] = params\n",
    "\n",
    "# log name and append tags\n",
    "run[\"sys/name\"] = \"colab-example\"\n",
    "run[\"sys/tags\"].add([\"colab\", \"simple\"])\n",
    "\n",
    "# log loss during training\n",
    "for epoch in range(132):\n",
    "    sleep(0.1)  # to see logging live\n",
    "    run[\"train/loss\"].log(0.97 ** epoch)\n",
    "    run[\"train/loss-pow-2\"].log((0.97 ** epoch) ** 2)\n",
    "\n",
    "# log train and validation scores\n",
    "run[\"train/accuracy\"] = 0.95\n",
    "run[\"valid/accuracy\"] = 0.93\n",
    "\n",
    "# log files/artifacts\n",
    "! echo \"Welcome to Neptune\" > file.txt\n",
    "run[\"artifacts/sample\"].upload(\"file.txt\")  # file will be uploaded as sample.txt"
   ]
  },
  {
   "cell_type": "markdown",
   "metadata": {
    "pycharm": {
     "name": "#%% md\n"
    }
   },
   "source": [
    "The snippet above logs:\n",
    "\n",
    "* `parameters` with just one field: learning rate,\n",
    "* name of run and two tags,\n",
    "* `train/loss` and `train/loss-pow-2` as series of numbers, visualized as charts in UI,\n",
    "* `train/accuracy` and `valid/accuracy` as single values\n",
    "* `file.txt` which will be visible under All Metadata/artifacts as sample.txt"
   ]
  },
  {
   "cell_type": "markdown",
   "metadata": {
    "pycharm": {
     "name": "#%% md\n"
    }
   },
   "source": [
    "**Tip:**<br>\n",
    "To view the structure of a run, use the `print_structure()` method."
   ]
  },
  {
   "cell_type": "code",
   "execution_count": null,
   "metadata": {
    "pycharm": {
     "name": "#%%\n"
    }
   },
   "outputs": [],
   "source": [
    "run.print_structure()"
   ]
  },
  {
   "cell_type": "markdown",
   "metadata": {
    "id": "XSHLD6AkI7LW",
    "pycharm": {
     "name": "#%% md\n"
    }
   },
   "source": [
    "## Stop logging  \n",
    "<font color=red>**Warning:**</font><br>\n",
    "Once you are done logging, you should stop tracking the run using the `stop()` method.\n",
    "This is needed only while logging from a notebook environment. While logging through a script, Neptune automatically stops tracking once the script has completed execution."
   ]
  },
  {
   "cell_type": "code",
   "execution_count": null,
   "metadata": {
    "id": "Zgh3NwDoJAuG",
    "pycharm": {
     "name": "#%%\n"
    }
   },
   "outputs": [],
   "source": [
    "run.stop()"
   ]
  },
  {
   "cell_type": "markdown",
   "metadata": {
    "id": "mRhOAcS0Q7Mm",
    "pycharm": {
     "name": "#%% md\n"
    },
    "tags": [
     "comment"
    ]
   },
   "source": [
    "## Explore the run in the Neptune app\n",
    "\n",
    "Go to the `All metadata` and `Charts` sections of the Neptune app to see them. You can also check an [example run](https://app.neptune.ai/o/common/org/showroom/e/SHOW-37/charts) \n",
    "\n",
    "![colab_example_charts.png](https://files.gitbook.com/v0/b/gitbook-legacy-files/o/assets%2F-MT0sYKbymfLAAtTq4-t%2F-MYohw4GQF2s0Qak19PN%2F-MYoiScY2nw8GVz0HT0t%2Fimage.png?alt=media&token=a73bdaea-3832-44a8-a431-e58c31926d01)\n",
    "\n",
    "**Tip:**\n",
    "\n",
    "Neptune automatically logs the hardware consumption during the run. \n",
    "\n",
    "You can see it in the `Monitoring` section of the Neptune app. \n",
    "\n",
    "![image](https://neptune.ai/wp-content/uploads/Product_hardware-usage-1.png)"
   ]
  },
  {
   "cell_type": "markdown",
   "metadata": {
    "id": "had9MNRtQ7Mr",
    "pycharm": {
     "name": "#%% md\n"
    },
    "tags": [
     "comment"
    ]
   },
   "source": [
    "## Conclusion\n",
    "\n",
    "You’ve learned how to:\n",
    "* Install `neptune-client`,\n",
    "* Connect Neptune to your Google Colab notebook and create a run,\n",
    "* Log metadata to Neptune,\n",
    "* See your metrics parameters and scores,\n",
    "* See hardware consumption during the run."
   ]
  },
  {
   "cell_type": "markdown",
   "metadata": {
    "id": "_3ibcYhPQ7Mr",
    "pycharm": {
     "name": "#%% md\n"
    },
    "tags": [
     "comment"
    ]
   },
   "source": [
    "## What's next\n",
    "\n",
    "Now that you know how to create runs and log metrics, you can learn:\n",
    "\n",
    "* [How to log other types of metadata to Neptune](https://docs.neptune.ai/you-should-know/logging-and-managing-runs-results/logging-runs-data#what-objects-can-you-log-to-neptune)\n",
    "* [How to download runs data from Neptune](https://docs.neptune.ai/user-guides/logging-and-managing-runs-results/downloading-runs-data)\n",
    "* [How to connect Neptune to the ML framework you are using](https://docs.neptune.ai/essentials/integrations)"
   ]
  }
 ],
 "metadata": {
  "colab": {
   "collapsed_sections": [],
   "name": "Basic-Colab-Example.ipynb",
   "private_outputs": true,
   "provenance": [],
   "toc_visible": true
  },
  "kernelspec": {
   "display_name": "Python 3 (ipykernel)",
   "language": "python",
   "name": "python3"
  },
  "language_info": {
   "codemirror_mode": {
    "name": "ipython",
    "version": 3
   },
   "file_extension": ".py",
   "mimetype": "text/x-python",
   "name": "python",
   "nbconvert_exporter": "python",
   "pygments_lexer": "ipython3",
   "version": "3.10.2"
  },
  "toc-autonumbering": false,
  "toc-showcode": false,
  "toc-showmarkdowntxt": false,
  "toc-showtags": false
 },
 "nbformat": 4,
 "nbformat_minor": 4
}
