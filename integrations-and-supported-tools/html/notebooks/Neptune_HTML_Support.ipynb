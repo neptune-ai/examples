{
 "cells": [
  {
   "cell_type": "markdown",
   "metadata": {},
   "source": [
    "# Neptune + HTML"
   ]
  },
  {
   "cell_type": "markdown",
   "metadata": {
    "id": "GG3_2HyRVY4Y",
    "tags": [
     "header",
     "comment"
    ]
   },
   "source": [
    "## Introduction\n",
    "\n",
    "This guide will show you how to:\n",
    "\n",
    "* Initialize Neptune and create a `run`,\n",
    "* Log HTML strings and files to Neptune."
   ]
  },
  {
   "cell_type": "markdown",
   "metadata": {
    "id": "1tBfsYCm05rl"
   },
   "source": [
    "## Before you start\n",
    "\n",
    "This notebook example lets you try out Neptune as an anonymous user, with zero setup.\n",
    "\n",
    "* If you are running the notebook on your local machine, you need to have [Python](https://www.python.org/downloads/) and [pip](https://pypi.org/project/pip/) installed.\n",
    "* If you want to see the example recorded to your own workspace instead:\n",
    "    * Create a Neptune account → [Take me to registration](https://neptune.ai/register)\n",
    "    * Create a Neptune project that you will use for tracking metadata → [Tell me more about projects](https://docs.neptune.ai/administration/projects)"
   ]
  },
  {
   "cell_type": "markdown",
   "metadata": {},
   "source": [
    "## Install Neptune and dependencies"
   ]
  },
  {
   "cell_type": "code",
   "execution_count": null,
   "metadata": {
    "id": "xm0WX77L1Nii"
   },
   "outputs": [],
   "source": [
    "! pip install neptune-client"
   ]
  },
  {
   "cell_type": "markdown",
   "metadata": {
    "id": "0NQaVXuoWA-E",
    "tags": [
     "header",
     "installation"
    ]
   },
   "source": [
    "## Import and initialize `neptune`"
   ]
  },
  {
   "cell_type": "code",
   "execution_count": null,
   "metadata": {
    "id": "quJ_tJDk7R3e"
   },
   "outputs": [],
   "source": [
    "import neptune.new as neptune"
   ]
  },
  {
   "cell_type": "code",
   "execution_count": null,
   "metadata": {
    "id": "asktsEotnTlR"
   },
   "outputs": [],
   "source": [
    "run = neptune.init(api_token=\"ANONYMOUS\", project=\"common/html-support\")"
   ]
  },
  {
   "cell_type": "markdown",
   "metadata": {
    "id": "VnSWXRbXHUz3",
    "tags": [
     "comment",
     "exclude"
    ]
   },
   "source": [
    "Click on the link above to open this run in Neptune. For now, it is empty but keep the tab with run open to see what happens next."
   ]
  },
  {
   "cell_type": "markdown",
   "metadata": {
    "id": "QYakxenbPkrR"
   },
   "source": [
    "**Note:**<br>\n",
    "To [create your own private projects](https://docs.neptune.ai/administration/workspace-project-and-user-management/projects#create-project), you will need a [Neptune account](https://neptune.ai/register) and  your [personal Neptune API token](https://docs.neptune.ai/getting-started/installation#get-api-token)."
   ]
  },
  {
   "cell_type": "markdown",
   "metadata": {
    "id": "pk4ZgmW9Q7Mg",
    "tags": [
     "header"
    ]
   },
   "source": [
    "## Log HTML objects to Neptune"
   ]
  },
  {
   "cell_type": "markdown",
   "metadata": {
    "id": "E3XjDiMB-XDK"
   },
   "source": [
    "### Create a sample HTML string and file"
   ]
  },
  {
   "cell_type": "code",
   "execution_count": null,
   "metadata": {
    "id": "V6i1BJfL96ww"
   },
   "outputs": [],
   "source": [
    "html_str = \"<button type='button', style='background-color:#005879; width:400px; height:400px; font-size:30px'> <a style='color: #ccc', href='https://docs.neptune.ai'> Take me back to the docs!<a> </button>\"\n",
    "\n",
    "with open(\"sample.html\", \"w\") as f:\n",
    "    f.write(html_str)"
   ]
  },
  {
   "cell_type": "code",
   "execution_count": null,
   "metadata": {
    "id": "jOgCaD_96DJQ"
   },
   "outputs": [],
   "source": [
    "from IPython.core.display import HTML\n",
    "\n",
    "display(HTML(html_str))"
   ]
  },
  {
   "cell_type": "markdown",
   "metadata": {
    "id": "3CREY_O_qE1-"
   },
   "source": [
    "### Log HTML file"
   ]
  },
  {
   "cell_type": "code",
   "execution_count": null,
   "metadata": {
    "id": "qMIJXXvUnXoI"
   },
   "outputs": [],
   "source": [
    "run[\"html_file\"].upload(\"sample.html\")"
   ]
  },
  {
   "cell_type": "markdown",
   "metadata": {
    "id": "tqqF7gsP_Sh9"
   },
   "source": [
    "### Log HTML string object"
   ]
  },
  {
   "cell_type": "code",
   "execution_count": null,
   "metadata": {
    "id": "8WWCJy73_Sh_"
   },
   "outputs": [],
   "source": [
    "from neptune.new.types import File\n",
    "\n",
    "run[\"html_obj\"].upload(File.from_content(html_str, extension=\"html\"))"
   ]
  },
  {
   "cell_type": "markdown",
   "metadata": {
    "id": "XSHLD6AkI7LW"
   },
   "source": [
    "## Stop logging\n",
    "\n",
    "<font color=red>**Warning:**</font><br>\n",
    "Once you are done logging, you should stop tracking the run using the `stop()` method.\n",
    "This is needed only while logging from a notebook environment. While logging through a script, Neptune automatically stops tracking once the script has completed execution."
   ]
  },
  {
   "cell_type": "code",
   "execution_count": null,
   "metadata": {
    "id": "Zgh3NwDoJAuG"
   },
   "outputs": [],
   "source": [
    "run.stop()"
   ]
  },
  {
   "cell_type": "markdown",
   "metadata": {
    "id": "swXKaHZmASyd"
   },
   "source": [
    "## Explore the HTML objects in Neptune\n",
    "\n",
    "The object can be found in the **All metadata** section  \n",
    "![](https://files.gitbook.com/v0/b/gitbook-legacy-files/o/assets%2F-MT0sYKbymfLAAtTq4-t%2F-M_k74Civrp6g4SK0CTm%2F-M_kBLn4w2ynn8LSzTg0%2Fhtml-logging.gif?alt=media&token=d17e8b64-7973-4692-95e5-d258e2e33965)"
   ]
  },
  {
   "cell_type": "markdown",
   "metadata": {
    "id": "had9MNRtQ7Mr",
    "tags": [
     "comment"
    ]
   },
   "source": [
    "## Conclusion\n",
    "\n",
    "You’ve learned how to:\n",
    "\n",
    "* Initialize Neptune and create a run,\n",
    "* Log HTML objects to Neptune."
   ]
  },
  {
   "cell_type": "markdown",
   "metadata": {
    "id": "_3ibcYhPQ7Mr",
    "tags": [
     "comment"
    ]
   },
   "source": [
    "## What's next\n",
    "\n",
    "Now that you know how to log charts to Neptune, you can learn:\n",
    "\n",
    "* [How to log other types of metadata to Neptune](https://docs.neptune.ai/you-should-know/logging-and-managing-runs-results/logging-runs-data#what-objects-can-you-log-to-neptune)\n",
    "* [How to download runs data from Neptune](https://docs.neptune.ai/user-guides/logging-and-managing-runs-results/downloading-runs-data)\n",
    "* [How to connect Neptune to the ML framework you are using](https://docs.neptune.ai/essentials/integrations)"
   ]
  }
 ],
 "metadata": {
  "colab": {
   "collapsed_sections": [],
   "name": "Neptune_HTML_Support.ipynb",
   "private_outputs": true,
   "provenance": [],
   "toc_visible": true
  },
  "kernelspec": {
   "display_name": "Python 3 (ipykernel)",
   "language": "python",
   "name": "python3"
  },
  "language_info": {
   "codemirror_mode": {
    "name": "ipython",
    "version": 3
   },
   "file_extension": ".py",
   "mimetype": "text/x-python",
   "name": "python",
   "nbconvert_exporter": "python",
   "pygments_lexer": "ipython3",
   "version": "3.10.5"
  },
  "toc-autonumbering": false,
  "toc-showcode": false,
  "toc-showmarkdowntxt": false,
  "toc-showtags": false,
  "vscode": {
   "interpreter": {
    "hash": "ec001e92a202bf5caf822e845ea5ad1be0f2e89477ccf084fef05c1d70e5b02a"
   }
  }
 },
 "nbformat": 4,
 "nbformat_minor": 4
}
