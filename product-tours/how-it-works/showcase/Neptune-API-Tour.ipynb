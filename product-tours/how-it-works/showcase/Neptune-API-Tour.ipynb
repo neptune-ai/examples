{
 "cells": [
  {
   "cell_type": "markdown",
   "metadata": {
    "colab_type": "text",
    "id": "dbL6wnySOyQ6",
    "tags": [
     "header"
    ]
   },
   "source": [
    "# Neptune API tour\n"
   ]
  },
  {
   "cell_type": "markdown",
   "metadata": {
    "tags": [
     "header"
    ]
   },
   "source": [
    "## Introduction"
   ]
  },
  {
   "cell_type": "markdown",
   "metadata": {
    "tags": [
     "comment"
    ]
   },
   "source": [
    "This guide will show you how to:\n",
    "\n",
    "* Install neptune-client\n",
    "* Connect Neptune to your script and create the first experiment\n",
    "* Log simple metrics to Neptune and explore the in the UI\n",
    "* Log learning curves, images and model binaries from Keras training and see those in the Neptune UI\n",
    "* Fetch the data you logged to Neptune directly into your notebook and analyze them \n",
    "\n",
    "By the end of it, you will run your first experiment and see it in Neptune!"
   ]
  },
  {
   "cell_type": "markdown",
   "metadata": {
    "tags": [
     "header"
    ]
   },
   "source": [
    "## Setup"
   ]
  },
  {
   "cell_type": "markdown",
   "metadata": {
    "tags": [
     "comment"
    ]
   },
   "source": [
    "Install Neptune client"
   ]
  },
  {
   "cell_type": "code",
   "execution_count": null,
   "metadata": {
    "colab": {},
    "colab_type": "code",
    "id": "jnOHCjCZ4W4a",
    "tags": [
     "installation"
    ]
   },
   "outputs": [],
   "source": [
    "! pip install --quiet git+https://github.com/neptune-ai/neptune-client.git@alpha"
   ]
  },
  {
   "cell_type": "markdown",
   "metadata": {
    "colab_type": "text",
    "id": "7LFLtV5R5JKT",
    "tags": [
     "header"
    ]
   },
   "source": [
    "## Initialize Neptune"
   ]
  },
  {
   "cell_type": "markdown",
   "metadata": {
    "tags": [
     "comment"
    ]
   },
   "source": [
    "Connect your script to Neptune application and create new experiment."
   ]
  },
  {
   "cell_type": "code",
   "execution_count": null,
   "metadata": {
    "colab": {
     "base_uri": "https://localhost:8080/",
     "height": 71
    },
    "colab_type": "code",
    "id": "XMdpj-Se4t0U",
    "outputId": "d66a1df2-ed95-4790-c799-fe7f6a980b39",
    "tags": [
     "code"
    ]
   },
   "outputs": [],
   "source": [
    "import neptune.alpha as neptune\n",
    "\n",
    "exp = neptune.init(project='common/colab-test-run',\n",
    "                   api_token='ANONYMOUS')"
   ]
  },
  {
   "cell_type": "markdown",
   "metadata": {
    "tags": [
     "comment"
    ]
   },
   "source": [
    "You tell Neptune: \n",
    "\n",
    "* **who you are**: your Neptune API token `api_token` \n",
    "* **where you want to send your data**: your Neptune `project`.\n",
    "\n",
    "At this point you have new experiment in Neptune. For now on you will use `exp` to log metadata to it.\n",
    "\n",
    "---\n",
    "\n",
    "**Note**\n",
    "\n",
    "\n",
    "Instead of logging data to the public project 'common/colab-test-run' as an anonymous user 'neptuner' you can log it to your own project.\n",
    "\n",
    "To do that:\n",
    "\n",
    "1. Get your [Neptune API token](https://docs-beta.neptune.ai/administration/security-and-privacy/how-to-find-and-set-neptune-api-token)\n",
    "2. Pass the token to ``api_token`` argument of ``neptune.init()`` method: ``api_token=YOUR_API_TOKEN``\n",
    "3. Pass your project to the ``project`` argument of the ``neptune.init()``.\n",
    "\n",
    "For example:\n",
    "\n",
    "```python\n",
    "neptune.init(project_qualified_name='my_workspace/my_project', \n",
    "             api_token='MY_API_TOKEN')\n",
    "```"
   ]
  },
  {
   "cell_type": "markdown",
   "metadata": {
    "colab_type": "text",
    "id": "Axi3bvZyERFs",
    "tags": [
     "header"
    ]
   },
   "source": [
    "## Basic Example"
   ]
  },
  {
   "cell_type": "markdown",
   "metadata": {
    "tags": [
     "comment"
    ]
   },
   "source": [
    "Lets start with something super simple.\n",
    "\n",
    "You will:\n",
    "* log parameters\n",
    "* log a training and validation scores\n",
    "* log loss\n",
    "* add name to the experiment\n",
    "* append two tags"
   ]
  },
  {
   "cell_type": "code",
   "execution_count": null,
   "metadata": {
    "colab": {
     "base_uri": "https://localhost:8080/",
     "height": 34
    },
    "colab_type": "code",
    "id": "M-opxR0-DddI",
    "outputId": "9e2e8fbd-f006-4889-a9ad-2182f7c14761",
    "tags": [
     "code"
    ]
   },
   "outputs": [],
   "source": [
    "params = {'learning_rate': 0.1}\n",
    "\n",
    "# log params\n",
    "exp['parameters'] = params\n",
    "\n",
    "# log name and append tags\n",
    "exp[\"sys/name\"] = 'basic-colab-example'\n",
    "exp[\"sys/tags\"].add(['colab', 'intro'])\n",
    "\n",
    "# log loss during training\n",
    "for epoch in range(100):\n",
    "    exp[\"train/loss\"].log(0.99 ** epoch)\n",
    "\n",
    "# log train and validation scores\n",
    "exp['train/accuracy'] = 0.95\n",
    "exp['valid/accuracy'] = 0.93"
   ]
  },
  {
   "cell_type": "markdown",
   "metadata": {
    "tags": [
     "comment"
    ]
   },
   "source": [
    "Experiments can be viewed as dictionary-like structures - **namespaces** - that you can define in your code. You can appy hierarchical structure to your metadata that will be reflected in the UI as well. Thanks to this you can easily organize your metadata in a way you feel is most convenient.\n",
    "\n",
    "There is one special namespace: **system namespace**, denoted `sys`. You can use it to add name and tags to the experiment."
   ]
  },
  {
   "cell_type": "markdown",
   "metadata": {
    "tags": [
     "comment"
    ]
   },
   "source": [
    "Try to change the values and rerun to see your experiments appear in the dashboard."
   ]
  },
  {
   "cell_type": "markdown",
   "metadata": {
    "colab_type": "text",
    "id": "G6hnHaoZDl9u",
    "tags": [
     "comment"
    ]
   },
   "source": [
    "All `basic-colab-example` experiments are grouped in [this dashboard view](https://alpha.neptune.ai/o/common/org/colab-test-run/experiments?viewId=2eb46477-0064-4617-a182-17f8a2fcc06a).\n",
    "\n",
    "![colab-experiments](https://neptune.ai/wp-content/uploads/docs-api-tour.png)\n",
    "\n",
    "There are many other things that you can log to neptune:\n",
    "\n",
    "* Images and charts\n",
    "* Artifacts like model weights or results\n",
    "* Text values\n",
    "* Hardware consumption\n",
    "* Code snapshots\n",
    "* and more\n",
    "\n",
    "You can go and see all that in the [documentation](https://docs-beta.neptune.ai/user-guides/logging-and-managing-experiment-results/logging-experiment-data) but you can check out the next example to see some of those."
   ]
  },
  {
   "cell_type": "markdown",
   "metadata": {
    "tags": [
     "header"
    ]
   },
   "source": [
    "## Keras classification example [Advanced]"
   ]
  },
  {
   "cell_type": "markdown",
   "metadata": {
    "tags": [
     "comment"
    ]
   },
   "source": [
    "Install and import your machine learning libraries"
   ]
  },
  {
   "cell_type": "code",
   "execution_count": null,
   "metadata": {
    "tags": [
     "installation"
    ]
   },
   "outputs": [],
   "source": [
    "! pip install --quiet tensorflow==2.3.1 scikit-plot==0.3.7"
   ]
  },
  {
   "cell_type": "markdown",
   "metadata": {
    "colab_type": "text",
    "id": "bVzPPgOb_0nV",
    "tags": [
     "comment"
    ]
   },
   "source": [
    "Get the data"
   ]
  },
  {
   "cell_type": "code",
   "execution_count": null,
   "metadata": {
    "colab": {},
    "colab_type": "code",
    "id": "mBWKuQx53i6i",
    "tags": [
     "code"
    ]
   },
   "outputs": [],
   "source": [
    "import tensorflow as tf\n",
    "\n",
    "mnist = tf.keras.datasets.mnist\n",
    "\n",
    "(x_train, y_train), (x_test, y_test) = mnist.load_data()\n",
    "x_train, x_test = x_train / 255.0, x_test / 255.0"
   ]
  },
  {
   "cell_type": "markdown",
   "metadata": {
    "colab_type": "text",
    "id": "bVzPPgOb_0nV",
    "tags": [
     "comment"
    ]
   },
   "source": [
    "Prepare the model"
   ]
  },
  {
   "cell_type": "code",
   "execution_count": null,
   "metadata": {
    "colab": {},
    "colab_type": "code",
    "id": "j_vS4kUb3uu4",
    "tags": [
     "code"
    ]
   },
   "outputs": [],
   "source": [
    "model = tf.keras.models.Sequential([\n",
    "    tf.keras.layers.Flatten(input_shape=(28, 28)),\n",
    "    tf.keras.layers.Dense(512, activation='relu'),\n",
    "    tf.keras.layers.Dropout(0.2),\n",
    "    tf.keras.layers.Dense(10, activation='softmax')\n",
    "])\n",
    "\n",
    "model.compile(optimizer='sgd',\n",
    "              loss='sparse_categorical_crossentropy',\n",
    "              metrics=['accuracy'])"
   ]
  },
  {
   "cell_type": "markdown",
   "metadata": {
    "colab_type": "text",
    "id": "pRMM3rQDADHK",
    "tags": [
     "comment"
    ]
   },
   "source": [
    "To log metrics after every batch and epoch let's create `NeptuneLogger` callback:"
   ]
  },
  {
   "cell_type": "code",
   "execution_count": null,
   "metadata": {
    "colab": {},
    "colab_type": "code",
    "id": "e-qXSos03F61",
    "tags": [
     "code"
    ]
   },
   "outputs": [],
   "source": [
    "from tensorflow.keras.callbacks import Callback\n",
    "\n",
    "class NeptuneLogger(Callback):\n",
    "    def on_batch_end(self, batch, logs={}):\n",
    "        for log_name, log_value in logs.items():\n",
    "            exp['batch/{}'.format(log_name)].log(log_value)\n",
    "\n",
    "    def on_epoch_end(self, epoch, logs={}):\n",
    "        for log_name, log_value in logs.items():\n",
    "            exp['epoch/{}'.format(log_name)].log(log_value)"
   ]
  },
  {
   "cell_type": "markdown",
   "metadata": {
    "colab_type": "text",
    "id": "eWHRrJa8AOU2",
    "tags": [
     "comment"
    ]
   },
   "source": [
    "Now we simply need to create an experiment. \n",
    "I will tag it with the name `advanced` and log hyperparameters `epoch_nr` and `batch_size`: "
   ]
  },
  {
   "cell_type": "code",
   "execution_count": null,
   "metadata": {
    "colab": {
     "base_uri": "https://localhost:8080/",
     "height": 51
    },
    "colab_type": "code",
    "id": "yL1LRdOIW9SM",
    "outputId": "f7456bdf-a223-43e8-82f5-92ae45ab6f8b",
    "tags": [
     "code"
    ]
   },
   "outputs": [],
   "source": [
    "EPOCH_NR = 5\n",
    "BATCH_SIZE = 32\n",
    "\n",
    "exp = neptune.init(project='common/colab-test-run',\n",
    "                   api_token='ANONYMOUS')\n",
    "\n",
    "# log params\n",
    "exp['parameters/epoch_nr'] = EPOCH_NR\n",
    "exp['parameters/batch_size'] = BATCH_SIZE\n",
    "\n",
    "# log name and append tag\n",
    "exp[\"sys/name\"] = 'keras-metrics'\n",
    "exp[\"sys/tags\"].add('advanced')"
   ]
  },
  {
   "cell_type": "markdown",
   "metadata": {
    "colab_type": "text",
    "id": "ta0dkCEv998B",
    "tags": [
     "comment"
    ]
   },
   "source": [
    "Now we pass our `NeptuneLogger` as keras callback and thats it."
   ]
  },
  {
   "cell_type": "code",
   "execution_count": null,
   "metadata": {
    "colab": {
     "base_uri": "https://localhost:8080/",
     "height": 292
    },
    "colab_type": "code",
    "id": "0Z6yLLMf3WZf",
    "outputId": "72f5bd1d-16e4-40ad-db52-4276e315577e",
    "tags": [
     "code"
    ]
   },
   "outputs": [],
   "source": [
    "history = model.fit(x=x_train,\n",
    "                    y=y_train,\n",
    "                    epochs=EPOCH_NR,\n",
    "                    batch_size=BATCH_SIZE,\n",
    "                    validation_data=(x_test, y_test),\n",
    "                    callbacks=[NeptuneLogger()])"
   ]
  },
  {
   "cell_type": "markdown",
   "metadata": {
    "colab_type": "text",
    "id": "9XWW1thT-BNj",
    "tags": [
     "comment"
    ]
   },
   "source": [
    "You can click on the experiment link above and monitor your learning curves as it is training!\n",
    "\n",
    "![advanced](https://neptune.ai/wp-content/uploads/docs-api-tour-2.png)\n",
    "\n",
    "Great thing is, you can log more things if you need to during or after the training is finished.\n",
    "\n",
    "For example, let's calculate some additional metrics on test data and log them."
   ]
  },
  {
   "cell_type": "code",
   "execution_count": null,
   "metadata": {
    "colab": {},
    "colab_type": "code",
    "id": "B7s1Jpw-5D0p",
    "tags": [
     "code"
    ]
   },
   "outputs": [],
   "source": [
    "import numpy as np\n",
    "\n",
    "y_test_pred = np.asarray(model.predict(x_test))\n",
    "y_test_pred_class = np.argmax(y_test_pred, axis=1)"
   ]
  },
  {
   "cell_type": "code",
   "execution_count": null,
   "metadata": {
    "colab": {},
    "colab_type": "code",
    "id": "L9yva_6V4uBh",
    "tags": [
     "code"
    ]
   },
   "outputs": [],
   "source": [
    "from sklearn.metrics import f1_score\n",
    "\n",
    "exp['test/f1'] = f1_score(y_test, y_test_pred_class, average='micro')"
   ]
  },
  {
   "cell_type": "markdown",
   "metadata": {
    "colab_type": "text",
    "id": "AQ_9BX8o-L2K",
    "tags": [
     "comment"
    ]
   },
   "source": [
    "We can log diagnostic charts like confusion matrix or ROC AUC curve."
   ]
  },
  {
   "cell_type": "code",
   "execution_count": null,
   "metadata": {
    "colab": {
     "base_uri": "https://localhost:8080/",
     "height": 1000
    },
    "colab_type": "code",
    "id": "H-l88eLG5N3b",
    "outputId": "68eb13f1-fae2-4439-f109-25f003cc8519",
    "tags": [
     "code"
    ]
   },
   "outputs": [],
   "source": [
    "import matplotlib.pyplot as plt\n",
    "from scikitplot.metrics import plot_confusion_matrix, plot_roc\n",
    "\n",
    "fig, ax = plt.subplots(figsize=(16, 12))\n",
    "plot_confusion_matrix(y_test, y_test_pred_class, ax=ax)\n",
    "exp['diagnostic_charts'].log(neptune.types.Image(fig))\n",
    "\n",
    "fig, ax = plt.subplots(figsize=(16, 12))\n",
    "plot_roc(y_test, y_test_pred, ax=ax)\n",
    "exp['diagnostic_charts'].log(neptune.types.Image(fig))"
   ]
  },
  {
   "cell_type": "markdown",
   "metadata": {
    "colab_type": "text",
    "id": "riS6P6eq-ULv",
    "tags": [
     "comment"
    ]
   },
   "source": [
    "![alt text](https://neptune.ai/wp-content/uploads/docs-api-tour-charts.png)\n",
    "\n",
    "We can also log model weights to Neptune."
   ]
  },
  {
   "cell_type": "code",
   "execution_count": null,
   "metadata": {
    "colab": {},
    "colab_type": "code",
    "id": "x8usf_QZ44_b",
    "tags": [
     "code"
    ]
   },
   "outputs": [],
   "source": [
    "model.save('my_model.h5')\n",
    "exp[\"model\"].save('my_model.h5')"
   ]
  },
  {
   "cell_type": "markdown",
   "metadata": {
    "colab_type": "text",
    "id": "EiFgEMDm4h0Y",
    "tags": [
     "comment"
    ]
   },
   "source": [
    "![alt text](https://neptune.ai/wp-content/uploads/docs-api-tour-model.png)\n",
    "\n",
    "With that you can share models with your teammates easily."
   ]
  },
  {
   "cell_type": "markdown",
   "metadata": {
    "colab_type": "text",
    "id": "Xh9Vfi0nXUa_",
    "tags": [
     "comment"
    ]
   },
   "source": [
    "You can play around and run this experiment with different parameters and see results and compare them.\n",
    "\n",
    "Like I've done here:\n",
    "\n",
    "![alt text](https://neptune.ai/wp-content/uploads/docs-api-tour-compare.png)\n",
    "\n",
    "A cool thing is, once things are logged to Neptune you can access them from wherever you want.\n",
    "Let me show you. \n",
    "\n"
   ]
  },
  {
   "cell_type": "markdown",
   "metadata": {
    "tags": [
     "header"
    ]
   },
   "source": [
    "## Access data you logged programatically "
   ]
  },
  {
   "cell_type": "markdown",
   "metadata": {
    "tags": [
     "header"
    ]
   },
   "source": [
    "## Getting the project's leaderboard"
   ]
  },
  {
   "cell_type": "markdown",
   "metadata": {
    "tags": [
     "comment"
    ]
   },
   "source": [
    "You can use the Project object to get aggregate data of all your experiments. Here, fetch only experiment with tag 'advanced'."
   ]
  },
  {
   "cell_type": "code",
   "execution_count": null,
   "metadata": {
    "tags": [
     "code"
    ]
   },
   "outputs": [],
   "source": [
    "my_project = neptune.get_project('common/colab-test-run')\n",
    "exp_df = my_project.get_experiments_table(tag=['advanced']).as_pandas()\n",
    "exp_df.head()"
   ]
  },
  {
   "cell_type": "markdown",
   "metadata": {
    "tags": [
     "header"
    ]
   },
   "source": [
    "## Getting the experiment's metadata"
   ]
  },
  {
   "cell_type": "markdown",
   "metadata": {
    "tags": [
     "comment"
    ]
   },
   "source": [
    "Neptune lets you fetch whatever you logged to it directly to your notebooks and scripts."
   ]
  },
  {
   "cell_type": "code",
   "execution_count": null,
   "metadata": {
    "colab": {
     "base_uri": "https://localhost:8080/",
     "height": 54
    },
    "colab_type": "code",
    "id": "SCa2DlfDXmyh",
    "outputId": "61d4453c-8bd8-44bc-be60-9361e48511d9",
    "tags": [
     "code"
    ]
   },
   "outputs": [],
   "source": [
    "exp = neptune.init(project='common/colab-test-run' ,experiment='COL-7')"
   ]
  },
  {
   "cell_type": "markdown",
   "metadata": {
    "colab_type": "text",
    "id": "WA2OWYxmYPg3",
    "tags": [
     "comment"
    ]
   },
   "source": [
    "Now that your experiment is *fetched* you can download the experiment metadata."
   ]
  },
  {
   "cell_type": "code",
   "execution_count": null,
   "metadata": {
    "colab": {
     "base_uri": "https://localhost:8080/",
     "height": 204
    },
    "colab_type": "code",
    "id": "UJ2ttIZ6YyRc",
    "outputId": "615ba5d2-88bc-415e-8a27-7461ea384d95",
    "tags": [
     "code"
    ]
   },
   "outputs": [],
   "source": [
    "batch_size = exp[\"parameters/batch_size\"].get()\n",
    "last_batch_acc = exp['batch/accuracy'].get_last()\n",
    "print('batch_size: {}'.format(batch_size))\n",
    "print('last_batch_acc: {}'.format(last_batch_acc))"
   ]
  },
  {
   "cell_type": "markdown",
   "metadata": {
    "colab_type": "text",
    "id": "wyGzGc7CZFHc",
    "tags": [
     "comment"
    ]
   },
   "source": [
    "You can even download artifacts from that experiment if you want to:\n",
    "\n"
   ]
  },
  {
   "cell_type": "code",
   "execution_count": null,
   "metadata": {
    "colab": {},
    "colab_type": "code",
    "id": "O8v9MZsC_asr",
    "tags": [
     "code",
     "exclude"
    ]
   },
   "outputs": [],
   "source": [
    "exp['model'].download()"
   ]
  },
  {
   "cell_type": "code",
   "execution_count": null,
   "metadata": {
    "colab": {
     "base_uri": "https://localhost:8080/",
     "height": 34
    },
    "colab_type": "code",
    "id": "6WIlQbJv_kCo",
    "outputId": "272c2d10-926b-46b2-f07a-ca577b37c3e8",
    "tags": [
     "bash_code",
     "exclude"
    ]
   },
   "outputs": [],
   "source": [
    "! ls ./"
   ]
  },
  {
   "cell_type": "markdown",
   "metadata": {
    "colab_type": "text",
    "id": "sPLP5i70U-6S",
    "tags": [
     "comment"
    ]
   },
   "source": [
    "## Learn more about Neptune\n",
    "\n",
    "Read about other Neptune features, create your free account and start logging!\n",
    "\n",
    "[Go to Neptune](https://neptune.ai/register)"
   ]
  }
 ],
 "metadata": {
  "colab": {
   "collapsed_sections": [],
   "name": "Neptune-API-Tour.ipynb",
   "provenance": []
  },
  "kernelspec": {
   "display_name": "Python 3",
   "language": "python",
   "name": "python3"
  },
  "language_info": {
   "codemirror_mode": {
    "name": "ipython",
    "version": 3
   },
   "file_extension": ".py",
   "mimetype": "text/x-python",
   "name": "python",
   "nbconvert_exporter": "python",
   "pygments_lexer": "ipython3",
   "version": "3.6.9"
  }
 },
 "nbformat": 4,
 "nbformat_minor": 4
}
